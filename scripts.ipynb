{
 "cells": [
  {
   "cell_type": "markdown",
   "id": "490d765e",
   "metadata": {},
   "source": [
    "# Common scripts for baseline models"
   ]
  },
  {
   "cell_type": "code",
   "execution_count": 3,
   "id": "67b285f2",
   "metadata": {},
   "outputs": [
    {
     "name": "stdout",
     "output_type": "stream",
     "text": [
      "python train.py --gpu 0 --cfg 'AASIST/ASVSpoof5' --clear_log 1 -v 0;\\\n",
      "python train.py --gpu 0 --cfg 'AASIST/ASVSpoof5' --clear_log 1 -v 0 -t 1;\\\n",
      "python train.py --gpu 0 --cfg 'RawNet2/ASVSpoof5' --clear_log 1 -v 0;\\\n",
      "python train.py --gpu 0 --cfg 'RawNet2/ASVSpoof5' --clear_log 1 -v 0 -t 1;\\\n",
      "python train.py --gpu 0 --cfg 'Wave2Vec2/ASVSpoof5' --clear_log 1 -v 0;\\\n",
      "python train.py --gpu 0 --cfg 'Wave2Vec2/ASVSpoof5' --clear_log 1 -v 0 -t 1;\\\n",
      "python train.py --gpu 0 --cfg 'WaveLM/ASVSpoof5' --clear_log 1 -v 0;\\\n",
      "python train.py --gpu 0 --cfg 'WaveLM/ASVSpoof5' --clear_log 1 -v 0 -t 1;\\\n",
      "python train.py --gpu 0 --cfg 'LibriSeVoc/ASVSpoof5' --clear_log 1 -v 0;\\\n",
      "python train.py --gpu 0 --cfg 'LibriSeVoc/ASVSpoof5' --clear_log 1 -v 0 -t 1;\\\n",
      "python train.py --gpu 0 --cfg 'Wav2Clip/ASVSpoof5' --clear_log 1 -v 0;\\\n",
      "python train.py --gpu 0 --cfg 'Wav2Clip/ASVSpoof5' --clear_log 1 -v 0 -t 1;\\\n",
      "python train.py --gpu 0 --cfg 'AudioClip/ASVSpoof5' --clear_log 1 -v 0;\\\n",
      "python train.py --gpu 0 --cfg 'AudioClip/ASVSpoof5' --clear_log 1 -v 0 -t 1;\\\n",
      "python train.py --gpu 0 --cfg 'RawGAT/ASVSpoof5' --clear_log 1 -v 0;\\\n",
      "python train.py --gpu 0 --cfg 'RawGAT/ASVSpoof5' --clear_log 1 -v 0 -t 1;\\\n",
      "python train.py --gpu 0 --cfg 'ASDG/ASVSpoof5' --clear_log 1 -v 0;\\\n",
      "python train.py --gpu 0 --cfg 'ASDG/ASVSpoof5' --clear_log 1 -v 0 -t 1;\\\n",
      "python train.py --gpu 0 --cfg 'SFATNet/ASVSpoof5' --clear_log 1 -v 0;\\\n",
      "python train.py --gpu 0 --cfg 'SFATNet/ASVSpoof5' --clear_log 1 -v 0 -t 1;\\\n",
      "python train.py --gpu 0 --cfg 'ABCNet/ASVSpoof5' --clear_log 1 -v 0;\\\n",
      "python train.py --gpu 0 --cfg 'ABCNet/ASVSpoof5' --clear_log 1 -v 0 -t 1;\\\n",
      "python train.py --gpu 0 --cfg 'MPE_LCNN/ASVSpoof5' --clear_log 1 -v 0;\\\n",
      "python train.py --gpu 0 --cfg 'MPE_LCNN/ASVSpoof5' --clear_log 1 -v 0 -t 1;\\\n"
     ]
    }
   ],
   "source": [
    "model_first = 1\n",
    "models = [\n",
    "    \"AASIST\",\n",
    "    # \"LCNN\",\n",
    "    \"RawNet2\",\n",
    "    \"Wave2Vec2\",\n",
    "    \"WaveLM\",\n",
    "    \"LibriSeVoc\",\n",
    "    \"Wav2Clip\",\n",
    "    \"AudioClip\",\n",
    "    \"RawGAT\",\n",
    "    \"ASDG\",\n",
    "    \"SFATNet\",\n",
    "    # \"Ours/ResNet\",\n",
    "\n",
    "    \"ABCNet\",\n",
    "    \"MPE_LCNN\",\n",
    "]\n",
    "tasks = [\n",
    "    \"ASVSpoof5\",\n",
    "    # \"Codecfake\",\n",
    "    # \"ASV2019_LA\",\n",
    "    # \"ASV2021_LA\",\n",
    "    # 'ASV2021_inner',\n",
    "    # # \"Codecfake\",\n",
    "    # \"DECRO_chinese\",\n",
    "    # \"DECRO_english\",\n",
    "    # \"LibriSeVoc_inner\",\n",
    "    # \"LibriSeVoc_cross_method\",\n",
    "    # \"LibriSeVoc_cross_dataset\",\n",
    "    # # # \"MLAAD_cross_lang\",\n",
    "    # # # \"MLAAD_de_es_ru\",\n",
    "    # # # \"MLAAD_DECRO\",\n",
    "    # \"wavefake_inner\",\n",
    "    # \"wavefake_cross_lang\",\n",
    "    # \"wavefake_cross_method\",\n",
    "]\n",
    "\n",
    "test = 0\n",
    "v = 0\n",
    "print_test = 1\n",
    "for model in models:\n",
    "        for task in tasks:\n",
    "            print(f\"python train.py --gpu 0 --cfg '{model}/{task}' --clear_log 1 -v {v};\\\\\")\n",
    "            if print_test:\n",
    "                print(f\"python train.py --gpu 0 --cfg '{model}/{task}' --clear_log 1 -v {v} -t 1;\\\\\")\n",
    "            "
   ]
  },
  {
   "cell_type": "markdown",
   "id": "4a598134-7f71-4952-9933-8fd3c43315e0",
   "metadata": {},
   "source": [
    "# Scripts for other models"
   ]
  },
  {
   "cell_type": "code",
   "execution_count": 6,
   "id": "e1cbf7c9-7a47-4c19-b4eb-455bf7428e04",
   "metadata": {
    "editable": true,
    "execution": {
     "iopub.execute_input": "2024-11-04T06:03:55.872627Z",
     "iopub.status.busy": "2024-11-04T06:03:55.871992Z",
     "iopub.status.idle": "2024-11-04T06:03:55.892850Z",
     "shell.execute_reply": "2024-11-04T06:03:55.891273Z",
     "shell.execute_reply.started": "2024-11-04T06:03:55.872562Z"
    },
    "scrolled": true,
    "slideshow": {
     "slide_type": ""
    },
    "tags": []
   },
   "outputs": [
    {
     "name": "stdout",
     "output_type": "stream",
     "text": [
      "python train.py --gpu 0 --cfg 'AASIST/Codecfake' --clear_log 1 -v 0 --seed 0;\\\n",
      "python train.py --gpu 0 --cfg 'AASIST/Codecfake'  -t 1 -v 0;\\\n",
      "python train.py --gpu 0 --cfg 'LCNN/Codecfake' --clear_log 1 -v 0 --seed 0;\\\n",
      "python train.py --gpu 0 --cfg 'LCNN/Codecfake'  -t 1 -v 0;\\\n",
      "python train.py --gpu 0 --cfg 'RawNet2/Codecfake' --clear_log 1 -v 0 --seed 0;\\\n",
      "python train.py --gpu 0 --cfg 'RawNet2/Codecfake'  -t 1 -v 0;\\\n",
      "python train.py --gpu 0 --cfg 'Wave2Vec2/Codecfake' --clear_log 1 -v 0 --seed 0;\\\n",
      "python train.py --gpu 0 --cfg 'Wave2Vec2/Codecfake'  -t 1 -v 0;\\\n",
      "python train.py --gpu 0 --cfg 'WaveLM/Codecfake' --clear_log 1 -v 0 --seed 0;\\\n",
      "python train.py --gpu 0 --cfg 'WaveLM/Codecfake'  -t 1 -v 0;\\\n",
      "python train.py --gpu 0 --cfg 'LibriSeVoc/Codecfake' --clear_log 1 -v 0 --seed 0;\\\n",
      "python train.py --gpu 0 --cfg 'LibriSeVoc/Codecfake'  -t 1 -v 0;\\\n",
      "python train.py --gpu 0 --cfg 'Wav2Clip/Codecfake' --clear_log 1 -v 0 --seed 0;\\\n",
      "python train.py --gpu 0 --cfg 'Wav2Clip/Codecfake'  -t 1 -v 0;\\\n",
      "python train.py --gpu 0 --cfg 'AudioClip/Codecfake' --clear_log 1 -v 0 --seed 0;\\\n",
      "python train.py --gpu 0 --cfg 'AudioClip/Codecfake'  -t 1 -v 0;\\\n",
      "python train.py --gpu 0 --cfg 'RawGAT/Codecfake' --clear_log 1 -v 0 --seed 0;\\\n",
      "python train.py --gpu 0 --cfg 'RawGAT/Codecfake'  -t 1 -v 0;\\\n",
      "python train.py --gpu 0 --cfg 'ASDG/Codecfake' --clear_log 1 -v 0 --seed 0;\\\n",
      "python train.py --gpu 0 --cfg 'ASDG/Codecfake'  -t 1 -v 0;\\\n",
      "python train.py --gpu 0 --cfg 'SFATNet/Codecfake' --clear_log 1 -v 0 --seed 0;\\\n",
      "python train.py --gpu 0 --cfg 'SFATNet/Codecfake'  -t 1 -v 0;\\\n",
      "python train.py --gpu 0 --cfg 'Ours/ResNet/Codecfake' --clear_log 1 -v 0 --seed 0;\\\n",
      "python train.py --gpu 0 --cfg 'Ours/ResNet/Codecfake'  -t 1 -v 0;\\\n",
      "python train.py --gpu 0 --cfg 'ABCNet/Codecfake' --clear_log 1 -v 0 --seed 0;\\\n",
      "python train.py --gpu 0 --cfg 'ABCNet/Codecfake'  -t 1 -v 0;\\\n",
      "python train.py --gpu 0 --cfg 'MPE_LCNN/Codecfake' --clear_log 1 -v 0 --seed 0;\\\n",
      "python train.py --gpu 0 --cfg 'MPE_LCNN/Codecfake'  -t 1 -v 0;\\\n",
      "python train.py --gpu 0 --cfg 'OursPhonemeGAT/Codecfake' --clear_log 1 -v 0 --seed 0;\\\n",
      "python train.py --gpu 0 --cfg 'OursPhonemeGAT/Codecfake'  -t 1 -v 0;\\\n"
     ]
    }
   ],
   "source": [
    "model_first = 1\n",
    "models = [\n",
    "    # \"AASIST\",\n",
    "    # \"LCNN\",\n",
    "    # \"RawNet2\",\n",
    "    # \"Wave2Vec2\",\n",
    "    # \"WaveLM\",\n",
    "    # \"LibriSeVoc\",\n",
    "    # \"Wav2Clip\",\n",
    "    # \"AudioClip\",\n",
    "    # \"RawGAT\",\n",
    "    # \"ASDG\",\n",
    "    # \"SFATNet\",\n",
    "    # \"Ours/ResNet\",\n",
    "\n",
    "    # \"ABCNet\",\n",
    "    # \"MPE_LCNN\",\n",
    "    # \"OursMultiView2\",\n",
    "    # \"OursLCNN\",\n",
    "    # \"OursPhonemeGAT\",\n",
    "    \"OursRVQ\",\n",
    "]\n",
    "tasks = [\n",
    "    # \"Codecfake\",\n",
    "    # \"ASV2019_LA\",\n",
    "    # \"ASV2021_LA\",\n",
    "    # 'ASV2021_inner',\n",
    "    # # \"Codecfake\",\n",
    "    # \"DECRO_chinese\",\n",
    "    # \"DECRO_english\",\n",
    "    # \"LibriSeVoc_inner\",\n",
    "    # \"LibriSeVoc_cross_method\",\n",
    "    # \"LibriSeVoc_cross_dataset\",\n",
    "    # # # \"MLAAD_cross_lang\",\n",
    "    # # # \"MLAAD_de_es_ru\",\n",
    "    # # # \"MLAAD_DECRO\",\n",
    "    # \"wavefake_inner\",\n",
    "    # \"wavefake_cross_lang\",\n",
    "    # \"wavefake_cross_method\",\n",
    "]\n",
    "model_task = [{\"model\": x, \"task\": y} for x in models for y in tasks]\n",
    "if model_first:\n",
    "    model_task = sorted(model_task, key=lambda x: x[\"model\"])\n",
    "else:\n",
    "    model_task = sorted(model_task, key=lambda x: x[\"task\"])\n",
    "\n",
    "\n",
    "# test = 0\n",
    "# write_file = 0\n",
    "# for model in models:\n",
    "#     with open(f'scripts/{model.split(\"/\")[-1]}.sh', 'w') as f:\n",
    "#         if not write_file:\n",
    "#             f = None\n",
    "#         for task in tasks:\n",
    "#             if not test:\n",
    "#                 for v in range(0,1 ):\n",
    "#                     print(f\"python train.py --gpu $1 --cfg '{model}/{task}' --clear_log 1 -v {v} --seed {v};\\\\\", file=f)\n",
    "#                     print(f\"python train.py --gpu $1 --cfg '{model}/{task}'  -t 1 -v {v};\\\\\", file=f)\n",
    "#             else:\n",
    "#                 print(f\"python train.py --gpu 2 --cfg '{model}/{task}'  -t 1 -v 0 --test_noise 1 --test_noise_level 20 --test_noise_type 'bg';\\\\\")\n",
    "#                 print(f\"python train.py --gpu 1 --cfg '{model}/{task}'  --test 1 --version 0;\\\\\")\n",
    "#     # print(f'sh scripts/{model.split(\"/\")[-1]}.sh 0;\\\\')\n",
    "\n",
    "test = 0\n",
    "write_file = 0\n",
    "for model in models:\n",
    "    with open(f'scripts/{model.split(\"/\")[-1]}.sh', 'w') as f:\n",
    "        if not write_file:\n",
    "            f = None\n",
    "        for task in tasks:\n",
    "            if not test:\n",
    "                for v in range(0,1 ):\n",
    "                    print(f\"python train.py --gpu 0 --cfg '{model}/{task}' --clear_log 1 -v {v} --seed {v};\\\\\", file=f)\n",
    "                    print(f\"python train.py --gpu 0 --cfg '{model}/{task}'  -t 1 -v {v};\\\\\", file=f)\n",
    "            else:\n",
    "                print(f\"python train.py --gpu 2 --cfg '{model}/{task}'  -t 1 -v 0 --test_noise 1 --test_noise_level 20 --test_noise_type 'bg';\\\\\")\n",
    "                print(f\"python train.py --gpu 1 --cfg '{model}/{task}'  --test 1 --version 0;\\\\\")    "
   ]
  },
  {
   "cell_type": "code",
   "execution_count": null,
   "id": "6708d9bf-bd37-46db-adde-ee583b7e3192",
   "metadata": {},
   "outputs": [],
   "source": [
    "python train.py --gpu 0 --cfg 'Wave2Vec2/Codecfake' --clear_log 1 -v 0 --seed 0;\\\n",
    "python train.py --gpu 0 --cfg 'Wave2Vec2/Codecfake'  -t 1 -v 0;\\\n",
    "python train.py --gpu 0 --cfg 'WaveLM/Codecfake' --clear_log 1 -v 0 --seed 0;\\\n",
    "python train.py --gpu 0 --cfg 'WaveLM/Codecfake'  -t 1 -v 0;\\\n",
    "python train.py --gpu 0 --cfg 'LibriSeVoc/Codecfake' --clear_log 1 -v 0 --seed 0;\\\n",
    "python train.py --gpu 0 --cfg 'LibriSeVoc/Codecfake'  -t 1 -v 0;\\\n",
    "python train.py --gpu 1 --cfg 'SFATNet/Codecfake' --clear_log 1 -v 0 --seed 0;\\\n",
    "python train.py --gpu 1 --cfg 'SFATNet/Codecfake'  -t 1 -v 0;\\\n",
    "python train.py --gpu 1 --cfg 'MPE_LCNN/Codecfake' --clear_log 1 -v 0 --seed 0;\\\n",
    "python train.py --gpu 1 --cfg 'MPE_LCNN/Codecfake'  -t 1 -v 0;\\\n",
    "python train.py --gpu 1 --cfg 'OursPhonemeGAT/Codecfake' --clear_log 1 -v 0 --seed 0;\\\n",
    "python train.py --gpu 1 --cfg 'OursPhonemeGAT/Codecfake'  -t 1 -v 0;\\"
   ]
  },
  {
   "cell_type": "code",
   "execution_count": null,
   "id": "607d6f73-2d48-46e1-b4d7-6cd87cba0979",
   "metadata": {
    "jupyter": {
     "source_hidden": true
    }
   },
   "outputs": [],
   "source": [
    "python train.py --gpu 0 --cfg 'ASDG/DECRO_chinese';\\\n",
    "python train.py --gpu 0 --cfg 'ASDG/DECRO_chinese'  --test 1 --version 0;\\\n",
    "python train.py --gpu 0 --cfg 'ASDG/DECRO_english';\\\n",
    "python train.py --gpu 0 --cfg 'ASDG/DECRO_english'  --test 1 --version 0;\\\n",
    "python train.py --gpu 0 --cfg 'ASDG/LibriSeVoc_inner';\\\n",
    "python train.py --gpu 0 --cfg 'ASDG/LibriSeVoc_inner'  --test 1 --version 0;\\\n",
    "python train.py --gpu 1 --cfg 'ASDG/LibriSeVoc_cross_method';\\\n",
    "python train.py --gpu 1 --cfg 'ASDG/LibriSeVoc_cross_method'  --test 1 --version 0;\\\n",
    "python train.py --gpu 1 --cfg 'ASDG/LibriSeVoc_cross_dataset';\\\n",
    "python train.py --gpu 1 --cfg 'ASDG/LibriSeVoc_cross_dataset'  --test 1 --version 0;\\\n",
    "python train.py --gpu 1 --cfg 'ASDG/wavefake_inner';\\\n",
    "python train.py --gpu 1 --cfg 'ASDG/wavefake_inner'  --test 1 --version 0;\\\n",
    "python train.py --gpu 1 --cfg 'ASDG/wavefake_cross_lang';\\\n",
    "python train.py --gpu 1 --cfg 'ASDG/wavefake_cross_lang'  --test 1 --version 0;\\\n",
    "python train.py --gpu 1 --cfg 'ASDG/wavefake_cross_method';\\\n",
    "python train.py --gpu 1 --cfg 'ASDG/wavefake_cross_method'  --test 1 --version 0;\\\n",
    "\n",
    "\n",
    "\n",
    "\n",
    "python train.py --gpu 0 --cfg 'Wave2Vec2/DECRO_chinese';\\\n",
    "python train.py --gpu 0 --cfg 'Wave2Vec2/DECRO_chinese'  --test 1 --version 0;\\\n",
    "python train.py --gpu 0 --cfg 'Wave2Vec2/DECRO_english';\\\n",
    "python train.py --gpu 0 --cfg 'Wave2Vec2/DECRO_english'  --test 1 --version 0;\\\n",
    "python train.py --gpu 0 --cfg 'Wave2Vec2/LibriSeVoc_inner';\\\n",
    "python train.py --gpu 0 --cfg 'Wave2Vec2/LibriSeVoc_inner'  --test 1 --version 0;\\\n",
    "python train.py --gpu 0 --cfg 'Wave2Vec2/LibriSeVoc_cross_method';\\\n",
    "python train.py --gpu 0 --cfg 'Wave2Vec2/LibriSeVoc_cross_method'  --test 1 --version 0;\\\n",
    "python train.py --gpu 1 --cfg 'Wave2Vec2/LibriSeVoc_cross_dataset';\\\n",
    "python train.py --gpu 1 --cfg 'Wave2Vec2/LibriSeVoc_cross_dataset'  --test 1 --version 0;\\\n",
    "python train.py --gpu 1 --cfg 'Wave2Vec2/wavefake_inner';\\\n",
    "python train.py --gpu 1 --cfg 'Wave2Vec2/wavefake_inner'  --test 1 --version 0;\\\n",
    "python train.py --gpu 1 --cfg 'Wave2Vec2/wavefake_cross_lang';\\\n",
    "python train.py --gpu 1 --cfg 'Wave2Vec2/wavefake_cross_lang'  --test 1 --version 0;\\\n",
    "python train.py --gpu 1 --cfg 'Wave2Vec2/wavefake_cross_method';\\\n",
    "python train.py --gpu 1 --cfg 'Wave2Vec2/wavefake_cross_method'  --test 1 --version 0;\\\n",
    "\n",
    "\n",
    "python train.py --gpu 2 --cfg 'WaveLM/DECRO_chinese';\\\n",
    "python train.py --gpu 2 --cfg 'WaveLM/DECRO_chinese'  --test 1 --version 0;\\\n",
    "python train.py --gpu 2 --cfg 'WaveLM/DECRO_english';\\\n",
    "python train.py --gpu 2 --cfg 'WaveLM/DECRO_english'  --test 1 --version 0;\\\n",
    "python train.py --gpu 2 --cfg 'WaveLM/LibriSeVoc_inner';\\\n",
    "python train.py --gpu 2 --cfg 'WaveLM/LibriSeVoc_inner'  --test 1 --version 0;\\\n",
    "python train.py --gpu 2 --cfg 'WaveLM/LibriSeVoc_cross_method';\\\n",
    "python train.py --gpu 2 --cfg 'WaveLM/LibriSeVoc_cross_method'  --test 1 --version 0;\\\n",
    "python train.py --gpu 3 --cfg 'WaveLM/LibriSeVoc_cross_dataset';\\\n",
    "python train.py --gpu 3 --cfg 'WaveLM/LibriSeVoc_cross_dataset'  --test 1 --version 0;\\\n",
    "python train.py --gpu 3 --cfg 'WaveLM/wavefake_inner';\\\n",
    "python train.py --gpu 3 --cfg 'WaveLM/wavefake_inner'  --test 1 --version 0;\\\n",
    "python train.py --gpu 3 --cfg 'WaveLM/wavefake_cross_lang';\\\n",
    "python train.py --gpu 3 --cfg 'WaveLM/wavefake_cross_lang'  --test 1 --version 0;\\\n",
    "python train.py --gpu 3 --cfg 'WaveLM/wavefake_cross_method';\\\n",
    "python train.py --gpu 3 --cfg 'WaveLM/wavefake_cross_method'  --test 1 --version 0;\\"
   ]
  },
  {
   "cell_type": "code",
   "execution_count": null,
   "id": "7d65ef9e-d39e-4f6e-8485-8d56cdb92331",
   "metadata": {
    "jupyter": {
     "source_hidden": true
    }
   },
   "outputs": [],
   "source": [
    "python train.py --gpu 0 --cfg 'SFATNet/ASV2019_LA';\\\n",
    "python train.py --gpu 0 --cfg 'SFATNet/ASV2019_LA'  --test 1 --version 0;\\\n",
    "python train.py --gpu 0 --cfg 'SFATNet/ASV2021_LA';\\\n",
    "python train.py --gpu 0 --cfg 'SFATNet/ASV2021_LA'  --test 1 --version 0;\\\n",
    "python train.py --gpu 1 --cfg 'SFATNet/ASV2021_inner';\\\n",
    "python train.py --gpu 1 --cfg 'SFATNet/ASV2021_inner'  --test 1 --version 0;\\\n",
    "python train.py --gpu 1 --cfg 'SFATNet/DECRO_chinese';\\\n",
    "python train.py --gpu 1 --cfg 'SFATNet/DECRO_chinese'  --test 1 --version 0;\\\n",
    "python train.py --gpu 3 --cfg 'SFATNet/DECRO_english';\\\n",
    "python train.py --gpu 3 --cfg 'SFATNet/DECRO_english'  --test 1 --version 0;\\\n",
    "python train.py --gpu 1 --cfg 'SFATNet/LibriSeVoc_inner';\\\n",
    "python train.py --gpu 1 --cfg 'SFATNet/LibriSeVoc_inner'  --test 1 --version 1;\\\n",
    "\n",
    "python train.py --gpu 0 --cfg 'SFATNet/LibriSeVoc_cross_method';\\\n",
    "python train.py --gpu 0 --cfg 'SFATNet/LibriSeVoc_cross_method'  --test 1 --version 0;\\\n",
    "python train.py --gpu 1 --cfg 'SFATNet/LibriSeVoc_cross_dataset';\\\n",
    "python train.py --gpu 1 --cfg 'SFATNet/LibriSeVoc_cross_dataset'  --test 1 --version 0;\\\n",
    "python train.py --gpu 2 --cfg 'SFATNet/MLAAD_cross_lang';\\\n",
    "python train.py --gpu 2 --cfg 'SFATNet/MLAAD_cross_lang'  --test 1 --version 1;\\\n",
    "python train.py --gpu 2 --cfg 'SFATNet/MLAAD_de_es_ru';\\\n",
    "python train.py --gpu 2 --cfg 'SFATNet/MLAAD_de_es_ru'  --test 1 --version 1;\\\n",
    "python train.py --gpu 2 --cfg 'SFATNet/MLAAD_DECRO';\\\n",
    "python train.py --gpu 2 --cfg 'SFATNet/MLAAD_DECRO'  --test 1 --version 1;\\\n",
    "\n",
    "python train.py --gpu 3 --cfg 'SFATNet/wavefake_inner';\\\n",
    "python train.py --gpu 3 --cfg 'SFATNet/wavefake_inner'  --test 1 --version 1;\\\n",
    "python train.py --gpu 2 --cfg 'SFATNet/wavefake_cross_lang';\\\n",
    "python train.py --gpu 2 --cfg 'SFATNet/wavefake_cross_lang'  --test 1 --version 0;\\\n",
    "python train.py --gpu 2 --cfg 'SFATNet/wavefake_cross_method';\\\n",
    "python train.py --gpu 2 --cfg 'SFATNet/wavefake_cross_method'  --test 1 --version 0;\\"
   ]
  },
  {
   "cell_type": "code",
   "execution_count": null,
   "id": "1c592efe-1aab-471d-b267-ab2c63b6d723",
   "metadata": {
    "jupyter": {
     "source_hidden": true
    }
   },
   "outputs": [],
   "source": [
    "python train.py --gpu 0 --cfg 'OursMultiView2/ASV2019_LA'  --test 1 --version 22 --test_noise 1 --test_noise_level 20 --test_noise_type 'bg';\\\n",
    "python train.py --gpu 1 --cfg 'OursMultiView2/ASV2019_LA'  --test 1 --version 22 --test_noise 1 --test_noise_level 30 --test_noise_type 'bg';\\\n",
    "python train.py --gpu 2 --cfg 'OursMultiView2/ASV2019_LA'  --test 1 --version 22 --test_noise 1 --test_noise_level 20 --test_noise_type 'gaussian';\\\n",
    "python train.py --gpu 3 --cfg 'OursMultiView2/ASV2019_LA'  --test 1 --version 22 --test_noise 1 --test_noise_level 30 --test_noise_type 'gaussian';\\\n",
    "\n",
    "python train.py --gpu 0 --cfg 'AASIST/ASV2019_LA'  --test 1 --version 1 --test_noise 1 --test_noise_level 20 --test_noise_type 'bg';\\\n",
    "python train.py --gpu 1 --cfg 'AASIST/ASV2019_LA'  --test 1 --version 1 --test_noise 1 --test_noise_level 30 --test_noise_type 'bg';\\\n",
    "python train.py --gpu 2 --cfg 'AASIST/ASV2019_LA'  --test 1 --version 1 --test_noise 1 --test_noise_level 20 --test_noise_type 'gaussian';\\\n",
    "python train.py --gpu 3 --cfg 'AASIST/ASV2019_LA'  --test 1 --version 1 --test_noise 1 --test_noise_level 30 --test_noise_type 'gaussian';\\\n"
   ]
  },
  {
   "cell_type": "markdown",
   "id": "bf4156ab-6484-41cb-b805-3fffa9c01aa2",
   "metadata": {},
   "source": [
    "## Time & FLops"
   ]
  },
  {
   "cell_type": "code",
   "execution_count": 4,
   "id": "5baa1b75-fb2c-4439-b997-518c7b9a699c",
   "metadata": {
    "execution": {
     "iopub.execute_input": "2024-11-05T13:07:18.454075Z",
     "iopub.status.busy": "2024-11-05T13:07:18.453374Z",
     "iopub.status.idle": "2024-11-05T13:07:18.472727Z",
     "shell.execute_reply": "2024-11-05T13:07:18.470468Z",
     "shell.execute_reply.started": "2024-11-05T13:07:18.454011Z"
    }
   },
   "outputs": [
    {
     "name": "stdout",
     "output_type": "stream",
     "text": [
      "python train.py --gpu 1 --cfg 'AASIST/ASV2021_inner' --use_profiler 1 -v -1 --drop_last 1 --batch_size 32;\\\n",
      "python train.py --gpu 1 --cfg 'LCNN/ASV2021_inner' --use_profiler 1 -v -1 --drop_last 1 --batch_size 32;\\\n",
      "python train.py --gpu 1 --cfg 'RawNet2/ASV2021_inner' --use_profiler 1 -v -1 --drop_last 1 --batch_size 32;\\\n",
      "python train.py --gpu 1 --cfg 'Wave2Vec2/ASV2021_inner' --use_profiler 1 -v -1 --drop_last 1 --batch_size 32;\\\n",
      "python train.py --gpu 1 --cfg 'WaveLM/ASV2021_inner' --use_profiler 1 -v -1 --drop_last 1 --batch_size 32;\\\n",
      "python train.py --gpu 1 --cfg 'LibriSeVoc/ASV2021_inner' --use_profiler 1 -v -1 --drop_last 1 --batch_size 32;\\\n",
      "python train.py --gpu 1 --cfg 'Wav2Clip/ASV2021_inner' --use_profiler 1 -v -1 --drop_last 1 --batch_size 32;\\\n",
      "python train.py --gpu 1 --cfg 'AudioClip/ASV2021_inner' --use_profiler 1 -v -1 --drop_last 1 --batch_size 32;\\\n",
      "python train.py --gpu 1 --cfg 'RawGAT/ASV2021_inner' --use_profiler 1 -v -1 --drop_last 1 --batch_size 32;\\\n",
      "python train.py --gpu 1 --cfg 'SFATNet/ASV2021_inner' --use_profiler 1 -v -1 --drop_last 1 --batch_size 32;\\\n",
      "python train.py --gpu 1 --cfg 'ASDG/ASV2021_inner' --use_profiler 1 -v -1 --drop_last 1 --batch_size 32;\\\n",
      "python train.py --gpu 1 --cfg 'Ours/ResNet/ASV2021_inner' --use_profiler 1 -v -1 --drop_last 1 --batch_size 32;\\\n",
      "python train.py --gpu 1 --cfg 'ABCNet/ASV2021_inner' --use_profiler 1 -v -1 --drop_last 1 --batch_size 32;\\\n",
      "python train.py --gpu 1 --cfg 'MPE_LCNN/ASV2021_inner' --use_profiler 1 -v -1 --drop_last 1 --batch_size 32;\\\n",
      "python train.py --gpu 1 --cfg 'OursPhonemeGAT/ASV2021_inner' --use_profiler 1 -v -1 --drop_last 1 --batch_size 32;\\\n"
     ]
    }
   ],
   "source": [
    "model_first = 1\n",
    "models = [\n",
    "    \"AASIST\",\n",
    "    \"LCNN\",\n",
    "    \"RawNet2\",\n",
    "    \"Wave2Vec2\",\n",
    "    \"WaveLM\",\n",
    "    \"LibriSeVoc\",\n",
    "    \"Wav2Clip\",\n",
    "    \"AudioClip\",\n",
    "    \"RawGAT\",\n",
    "    \"SFATNet\",\n",
    "    \"ASDG\",\n",
    "    \"Ours/ResNet\",\n",
    "        \"ABCNet\",\n",
    "    \"MPE_LCNN\",\n",
    "        \"OursPhonemeGAT\",\n",
    "]\n",
    "tasks = [\n",
    "    \"ASV2021_inner\",\n",
    "]\n",
    "model_task = [{\"model\": x, \"task\": y} for x in models for y in tasks]\n",
    "if model_first:\n",
    "    model_task = sorted(model_task, key=lambda x: models.index(x[\"model\"]))\n",
    "else:\n",
    "    model_task = sorted(model_task, key=lambda x: x[\"task\"])\n",
    "\n",
    "\n",
    "for item in model_task:\n",
    "    model, task = item[\"model\"], item[\"task\"]\n",
    "    print(f\"python train.py --gpu 1 --cfg '{model}/{task}' --use_profiler 1 -v -1 --drop_last 1 --batch_size 32;\\\\\")"
   ]
  },
  {
   "cell_type": "markdown",
   "id": "f06897cd-c329-40b8-8fe8-86f66b1a009e",
   "metadata": {},
   "source": [
    "## Collect features"
   ]
  },
  {
   "cell_type": "code",
   "execution_count": 39,
   "id": "fee4dcf0-1d95-46c2-b6bc-8a25095083bc",
   "metadata": {
    "execution": {
     "iopub.execute_input": "2024-10-19T14:38:41.536794Z",
     "iopub.status.busy": "2024-10-19T14:38:41.536187Z",
     "iopub.status.idle": "2024-10-19T14:38:41.554099Z",
     "shell.execute_reply": "2024-10-19T14:38:41.552099Z",
     "shell.execute_reply.started": "2024-10-19T14:38:41.536732Z"
    }
   },
   "outputs": [
    {
     "name": "stdout",
     "output_type": "stream",
     "text": [
      "python train.py --gpu 0 --cfg 'Wave2Vec2/LibriSeVoc_cross_method' -t 1 -v 0 --collect 1;\\\n",
      "python train.py --gpu 0 --cfg 'Wave2Vec2/LibriSeVoc_cross_dataset' -t 1 -v 0 --collect 1;\\\n",
      "python train.py --gpu 0 --cfg 'WaveLM/LibriSeVoc_cross_method' -t 1 -v 0 --collect 1;\\\n",
      "python train.py --gpu 0 --cfg 'WaveLM/LibriSeVoc_cross_dataset' -t 1 -v 0 --collect 1;\\\n"
     ]
    }
   ],
   "source": [
    "model_first = 1\n",
    "models = [\n",
    "    # \"AASIST\",\n",
    "    # \"LCNN\",\n",
    "    # \"RawNet2\",\n",
    "    \"Wave2Vec2\",\n",
    "    \"WaveLM\",\n",
    "    # \"LibriSeVoc\",\n",
    "    # \"Wav2Clip\",\n",
    "    # \"AudioClip\",\n",
    "    # \"RawGAT\",\n",
    "    # \"ASDG\",\n",
    "    # \"SFATNet\",\n",
    "    \n",
    "    # \"Ours/ResNet\",\n",
    "]\n",
    "tasks = [\n",
    "    \"LibriSeVoc_cross_method\",\n",
    "    \"LibriSeVoc_cross_dataset\",\n",
    "]\n",
    "model_task = [{\"model\": x, \"task\": y} for x in models for y in tasks]\n",
    "if model_first:\n",
    "    model_task = sorted(model_task, key=lambda x: models.index(x[\"model\"]))\n",
    "else:\n",
    "    model_task = sorted(model_task, key=lambda x: x[\"task\"])\n",
    "\n",
    "\n",
    "for item in model_task:\n",
    "    model, task = item[\"model\"], item[\"task\"]\n",
    "    print(f\"python train.py --gpu 0 --cfg '{model}/{task}' -t 1 -v 0 --collect 1;\\\\\")"
   ]
  },
  {
   "cell_type": "code",
   "execution_count": null,
   "id": "bd75cbc6-3758-49da-b22c-024e3bdb1e68",
   "metadata": {},
   "outputs": [],
   "source": [
    "python train.py --gpu 0 --cfg 'Wave2Vec2/LibriSeVoc_cross_method' -t 1 -v 0 --collect 1;\\\n",
    "python train.py --gpu 0 --cfg 'Wave2Vec2/LibriSeVoc_cross_dataset' -t 1 -v 0 --collect 1;\\\n",
    "python train.py --gpu 0 --cfg 'WaveLM/LibriSeVoc_cross_method' -t 1 -v 0 --collect 1;\\\n",
    "python train.py --gpu 0 --cfg 'WaveLM/LibriSeVoc_cross_dataset' -t 1 -v 0 --collect 1;\\"
   ]
  },
  {
   "cell_type": "markdown",
   "id": "85b242c9-a175-42d6-85cb-ca41d9c92cc4",
   "metadata": {},
   "source": [
    "## T-SNE"
   ]
  },
  {
   "cell_type": "code",
   "execution_count": null,
   "id": "66895c93-f1ba-401d-948b-e9d350263ecf",
   "metadata": {},
   "outputs": [],
   "source": [
    "model_first = 1\n",
    "models = [\n",
    "    \"AASIST\",\n",
    "    \"LCNN\",\n",
    "    \"RawNet2\",\n",
    "    \"Wave2Vec2\",\n",
    "    \"WaveLM\",\n",
    "    \"LibriSeVoc\",\n",
    "    \"Wav2Clip\",\n",
    "    \"AudioClip\",\n",
    "    \"RawGAT\",\n",
    "    \"Ours/ResNet\",\n",
    "]\n",
    "tasks = [\n",
    "    \"LibriSeVoc_cross_dataset\",\n",
    "]\n",
    "model_task = [{\"model\": x, \"task\": y} for x in models for y in tasks]\n",
    "if model_first:\n",
    "    model_task = sorted(model_task, key=lambda x: x[\"model\"])\n",
    "else:\n",
    "    model_task = sorted(model_task, key=lambda x: x[\"task\"])\n",
    "\n",
    "\n",
    "for item in model_task:\n",
    "    model, task = item[\"model\"], item[\"task\"]\n",
    "    print(f\"python train.py --gpu 3 --cfg '{model}/{task}' -t 1 -v 0 --collect 1;\\\\\")"
   ]
  },
  {
   "cell_type": "markdown",
   "id": "918a8ce7-25ac-46d9-842a-01d08851d952",
   "metadata": {},
   "source": [
    "## Ours"
   ]
  },
  {
   "cell_type": "code",
   "execution_count": 7,
   "id": "9acdd13a-08f3-447f-9e91-978654ad2ceb",
   "metadata": {
    "execution": {
     "iopub.execute_input": "2024-10-15T15:00:39.830256Z",
     "iopub.status.busy": "2024-10-15T15:00:39.829672Z",
     "iopub.status.idle": "2024-10-15T15:00:39.839118Z",
     "shell.execute_reply": "2024-10-15T15:00:39.838118Z",
     "shell.execute_reply.started": "2024-10-15T15:00:39.830204Z"
    },
    "scrolled": true
   },
   "outputs": [
    {
     "name": "stdout",
     "output_type": "stream",
     "text": [
      "python train.py --gpu 0 --cfg 'Ours/ResNet/ASV2019_LA';\\\n",
      "python train.py --gpu 0 --cfg 'Ours/ResNet/ASV2021_LA';\\\n",
      "python train.py --gpu 0 --cfg 'Ours/ResNet/ASV2021_inner';\\\n",
      "python train.py --gpu 0 --cfg 'Ours/ResNet/DECRO_chinese';\\\n",
      "python train.py --gpu 0 --cfg 'Ours/ResNet/DECRO_english';\\\n",
      "python train.py --gpu 0 --cfg 'Ours/ResNet/LibriSeVoc_inner';\\\n",
      "python train.py --gpu 0 --cfg 'Ours/ResNet/LibriSeVoc_cross_method';\\\n",
      "python train.py --gpu 0 --cfg 'Ours/ResNet/LibriSeVoc_cross_dataset';\\\n",
      "python train.py --gpu 0 --cfg 'Ours/ResNet/wavefake_inner';\\\n",
      "python train.py --gpu 0 --cfg 'Ours/ResNet/wavefake_cross_lang';\\\n",
      "python train.py --gpu 0 --cfg 'Ours/ResNet/wavefake_cross_method';\\\n"
     ]
    }
   ],
   "source": [
    "model_first = 1\n",
    "feature_extractor = [\n",
    "    # \"LCNN\",\n",
    "    # \"MSFM\",\n",
    "    # \"RawNet\",\n",
    "    \"ResNet\",\n",
    "    # \"Transformer\",\n",
    "]\n",
    "tasks = [\n",
    "    \"ASV2019_LA\",\n",
    "    \"ASV2021_LA\",\n",
    "    \"ASV2021_inner\",\n",
    "    \"DECRO_chinese\",\n",
    "    \"DECRO_english\",\n",
    "    \"LibriSeVoc_inner\",\n",
    "    \"LibriSeVoc_cross_method\",\n",
    "    \"LibriSeVoc_cross_dataset\",\n",
    "    \"wavefake_inner\",\n",
    "    \"wavefake_cross_lang\",\n",
    "    \"wavefake_cross_method\",\n",
    "]\n",
    "\n",
    "test = 0\n",
    "version = 0\n",
    "for i, f in enumerate(feature_extractor):\n",
    "    for task in tasks:\n",
    "        if not test:\n",
    "            print(f\"python train.py --gpu 0 --cfg 'Ours/{f}/{task}';\\\\\")\n",
    "        else:\n",
    "            print(f\"python train.py --gpu 1 --cfg 'Ours/{f}/{task}' --test 1 --version {version};\\\\\")"
   ]
  },
  {
   "cell_type": "markdown",
   "id": "e6689dd7-9d38-472b-923f-bbdfccb320e7",
   "metadata": {},
   "source": [
    "### ResNet"
   ]
  },
  {
   "cell_type": "markdown",
   "id": "3a1eaa59-255b-4421-b1b1-a20813d1a4cc",
   "metadata": {
    "execution": {
     "iopub.execute_input": "2024-02-19T02:10:23.694012Z",
     "iopub.status.busy": "2024-02-19T02:10:23.693357Z",
     "iopub.status.idle": "2024-02-19T02:10:23.712558Z",
     "shell.execute_reply": "2024-02-19T02:10:23.710373Z",
     "shell.execute_reply.started": "2024-02-19T02:10:23.693952Z"
    }
   },
   "source": [
    "```python\n",
    "python train.py --gpu 1 --cfg 'Ours/ResNet/DECRO_chinese';\\\n",
    "python train.py --gpu 1 --cfg 'Ours/ResNet/DECRO_english';\\\n",
    "python train.py --gpu 1 --cfg 'Ours/ResNet/LibriSeVoc_inner';\\\n",
    "# python train.py --gpu 1 --cfg 'Ours/ResNet/LibriSeVoc_cross_method';\\\n",
    "python train.py --gpu 2 --cfg 'Ours/ResNet/LibriSeVoc_cross_dataset';\\\n",
    "python train.py --gpu 2 --cfg 'Ours/ResNet/wavefake_inner';\\\n",
    "python train.py --gpu 2 --cfg 'Ours/ResNet/wavefake_cross_lang';\\\n",
    "python train.py --gpu 2 --cfg 'Ours/ResNet/wavefake_cross_method';\\\n",
    "\n",
    "python train.py --gpu 2 --cfg 'Ours/ResNet/DECRO_chinese' -t 1 -v 1;\\\n",
    "python train.py --gpu 2 --cfg 'Ours/ResNet/DECRO_english' -t 1 -v 1;\\\n",
    "python train.py --gpu 1 --cfg 'Ours/ResNet/LibriSeVoc_inner' -t 1 -v 1;\\\n",
    "python train.py --gpu 1 --cfg 'Ours/ResNet/LibriSeVoc_cross_method' -t 1 -v 1;\\\n",
    "python train.py --gpu 2 --cfg 'Ours/ResNet/LibriSeVoc_cross_dataset' -t 1 -v 1;\\\n",
    "python train.py --gpu 2 --cfg 'Ours/ResNet/wavefake_inner' -t 1 -v 1;\\\n",
    "python train.py --gpu 2 --cfg 'Ours/ResNet/wavefake_cross_lang' -t 1 -v 1;\\\n",
    "python train.py --gpu 2 --cfg 'Ours/ResNet/wavefake_cross_method' -t 1 -v 1;\\\n",
    "```"
   ]
  },
  {
   "cell_type": "code",
   "execution_count": null,
   "id": "a7eab1bb-f4f5-4989-8981-80e01b4abd3b",
   "metadata": {},
   "outputs": [],
   "source": [
    "python train.py --gpu 0 --cfg 'Ours/ResNet/LibriSeVoc_cross_method' --ablation 'ablations/con_loss_feat_voc' --seed 0\n",
    "python train.py --gpu 1 --cfg 'Ours/ResNet/LibriSeVoc_cross_method' --ablation 'ablations/con_loss_feat_voc' --seed 1\n",
    "python train.py --gpu 2 --cfg 'Ours/ResNet/LibriSeVoc_cross_method' --ablation 'ablations/con_loss_feat_voc' --seed 2\n",
    "python train.py --gpu 3 --cfg 'Ours/ResNet/LibriSeVoc_cross_method' --ablation 'ablations/con_loss_feat_voc' --seed 3\n",
    "\n",
    "python train.py --gpu 0 --cfg 'Ours/ResNet/LibriSeVoc_cross_dataset' --ablation 'ablations/con_loss_voc' --seed 0\n",
    "python train.py --gpu 0 --cfg 'Ours/ResNet/LibriSeVoc_cross_dataset' --ablation 'ablations/con_loss_feat' --seed 0\n",
    "python train.py --gpu 1 --cfg 'Ours/ResNet/LibriSeVoc_cross_dataset' --ablation 'ablations/con_loss_feat' --seed 1\n",
    "python train.py --gpu 2 --cfg 'Ours/ResNet/LibriSeVoc_cross_dataset' --ablation 'ablations/con_loss_feat' --seed 2\n",
    "python train.py --gpu 3 --cfg 'Ours/ResNet/LibriSeVoc_cross_dataset' --ablation 'ablations/con_loss_feat' --seed 3"
   ]
  },
  {
   "cell_type": "markdown",
   "id": "1c5950a9-2ae7-47e8-8eda-bace01b607a7",
   "metadata": {},
   "source": [
    "### Ablations"
   ]
  },
  {
   "cell_type": "code",
   "execution_count": 36,
   "id": "81a9168d-fcc8-438c-a93a-9adedc59431f",
   "metadata": {
    "execution": {
     "iopub.execute_input": "2024-10-18T18:00:37.133941Z",
     "iopub.status.busy": "2024-10-18T18:00:37.132647Z",
     "iopub.status.idle": "2024-10-18T18:00:37.157520Z",
     "shell.execute_reply": "2024-10-18T18:00:37.156215Z",
     "shell.execute_reply.started": "2024-10-18T18:00:37.133878Z"
    },
    "scrolled": true
   },
   "outputs": [
    {
     "name": "stdout",
     "output_type": "stream",
     "text": [
      "sh scripts/Ours-con_loss_feat-3.sh 3;\\\n",
      "sh scripts/Ours-con_loss_voc-3.sh 3;\\\n",
      "sh scripts/Ours-con_loss_feat_voc-3.sh 3;\\\n",
      "sh scripts/Ours-shuffle_feat-3.sh 3;\\\n",
      "sh scripts/Ours-shuffle_style-3.sh 3;\\\n",
      "sh scripts/Ours-shuffle_style_feat-3.sh 3;\\\n",
      "sh scripts/Ours-one_stem-3.sh 3;\\\n",
      "sh scripts/Ours-use_adversarial_loss-3.sh 3;\\\n",
      "sh scripts/Ours-para1-3.sh 3;\\\n",
      "sh scripts/Ours-para2-3.sh 3;\\\n",
      "sh scripts/Ours-para3-3.sh 3;\\\n",
      "sh scripts/Ours-para4-3.sh 3;\\\n",
      "sh scripts/Ours-no_speed_compression_loss-3.sh 3;\\\n",
      "sh scripts/Ours-one_stem_content-3.sh 3;\\\n",
      "sh scripts/Ours-one_stem_vocoder-3.sh 3;\\\n",
      "sh scripts/Ours-f0_loss-3.sh 3;\\\n"
     ]
    }
   ],
   "source": [
    "feature_extractor = [\n",
    "    # \"LCNN\",\n",
    "    # \"MSFM\",\n",
    "    # \"RawNet\",\n",
    "    \"ResNet\",\n",
    "]\n",
    "tasks = [\n",
    "    # \"ASV2019_LA\",\n",
    "    # \"ASV2021_inner\",\n",
    "    # \"DECRO_chinese\",\n",
    "    # \"DECRO_english\",\n",
    "    # \"LibriSeVoc_inner\",\n",
    "    \"LibriSeVoc_cross_method\",\n",
    "    \"LibriSeVoc_cross_dataset\",\n",
    "    # \"wavefake_inner\",\n",
    "    # \"wavefake_cross_lang\",\n",
    "    # \"wavefake_cross_method\",\n",
    "]\n",
    "\n",
    "test = 0\n",
    "for i, extractor in enumerate(feature_extractor):\n",
    "    for ablation in [\n",
    "        \"con_loss_feat\",\n",
    "        \"con_loss_voc\",\n",
    "        \"con_loss_feat_voc\",\n",
    "        \"shuffle_feat\",\n",
    "        \"shuffle_style\",\n",
    "        \"shuffle_style_feat\",\n",
    "        'one_stem',\n",
    "        'use_adversarial_loss',\n",
    "        \"para1\",\n",
    "        \"para2\",\n",
    "        \"para3\",\n",
    "        \"para4\",\n",
    "        \"no_speed_compression_loss\",\n",
    "        'one_stem_content',\n",
    "        'one_stem_vocoder',\n",
    "        \"f0_loss\",\n",
    "    ]:\n",
    "        # for task in tasks:\n",
    "        #     if not test:\n",
    "        #         print(f\"python train.py --gpu 3 --cfg 'Ours/{extractor}/{task}' --ablation 'ablations/{ablation}';\\\\\")\n",
    "        #     else:\n",
    "        #         print(f\"python train.py --gpu 1 --cfg 'Ours/{extractor}/{task}' --ablation 'ablations/{ablation}' -t 1 -v 0;\\\\\")\n",
    "        # print(\"#\", \"---\" * 50, \";\\\\\")\n",
    "        with open(f'scripts/Ours-{ablation}-3.sh', 'w') as f:\n",
    "            for task in tasks:\n",
    "                if not test:\n",
    "                    for v in range(11, 13):\n",
    "                        print(f\"python train.py --gpu $1 --cfg 'Ours/{extractor}/{task}' --ablation 'ablations/{ablation}' --clear_log 1 -v {v} --seed {v};\\\\\", file=f)\n",
    "                        print(f\"python train.py --gpu $1 --cfg 'Ours/{extractor}/{task}' --ablation 'ablations/{ablation}' -t 1 -v {v};\\\\\", file=f)\n",
    "        print(f'sh scripts/Ours-{ablation}-3.sh 3;\\\\')\n",
    "    "
   ]
  },
  {
   "cell_type": "code",
   "execution_count": null,
   "id": "8efce9d8-4ace-4307-be26-8db489cb9abe",
   "metadata": {},
   "outputs": [],
   "source": [
    "sh scripts/Ours-con_loss_feat-0.sh 0;\\\n",
    "sh scripts/Ours-con_loss_voc-0.sh 0;\\\n",
    "sh scripts/Ours-con_loss_feat_voc-0.sh 0;\\\n",
    "sh scripts/Ours-shuffle_feat-0.sh 0;\\\n",
    "sh scripts/Ours-shuffle_style-0.sh 0;\\\n",
    "sh scripts/Ours-shuffle_style_feat-0.sh 0;\\\n",
    "sh scripts/Ours-one_stem-0.sh 0;\\\n",
    "sh scripts/Ours-use_adversarial_loss-0.sh 0;\\\n",
    "sh scripts/Ours-para1-0.sh 0;\\\n",
    "sh scripts/Ours-para2-0.sh 0;\\\n",
    "sh scripts/Ours-para3-0.sh 0;\\\n",
    "sh scripts/Ours-para4-0.sh 0;\\\n",
    "sh scripts/Ours-no_speed_compression_loss-0.sh 0;\\\n",
    "sh scripts/Ours-one_stem_content-0.sh 0;\\\n",
    "sh scripts/Ours-one_stem_vocoder-0.sh 0;\\\n",
    "sh scripts/Ours-f0_loss-0.sh 0;\\\n",
    "\n",
    "sh scripts/Ours-con_loss_feat-1.sh 1;\\\n",
    "sh scripts/Ours-con_loss_voc-1.sh 1;\\\n",
    "sh scripts/Ours-con_loss_feat_voc-1.sh 1;\\\n",
    "sh scripts/Ours-shuffle_feat-1.sh 1;\\\n",
    "sh scripts/Ours-shuffle_style-1.sh 1;\\\n",
    "sh scripts/Ours-shuffle_style_feat-1.sh 1;\\\n",
    "sh scripts/Ours-one_stem-1.sh 1;\\\n",
    "sh scripts/Ours-use_adversarial_loss-1.sh 1;\\\n",
    "sh scripts/Ours-para1-1.sh 1;\\\n",
    "sh scripts/Ours-para2-1.sh 1;\\\n",
    "sh scripts/Ours-para3-1.sh 1;\\\n",
    "sh scripts/Ours-para4-1.sh 1;\\\n",
    "sh scripts/Ours-no_speed_compression_loss-1.sh 1;\\\n",
    "sh scripts/Ours-one_stem_content-1.sh 1;\\\n",
    "sh scripts/Ours-one_stem_vocoder-1.sh 1;\\\n",
    "sh scripts/Ours-f0_loss-1.sh 1;\\\n",
    "\n",
    "sh scripts/Ours-con_loss_feat-2.sh 2;\\\n",
    "sh scripts/Ours-con_loss_voc-2.sh 2;\\\n",
    "sh scripts/Ours-con_loss_feat_voc-2.sh 2;\\\n",
    "sh scripts/Ours-shuffle_feat-2.sh 2;\\\n",
    "sh scripts/Ours-shuffle_style-2.sh 2;\\\n",
    "sh scripts/Ours-shuffle_style_feat-2.sh 2;\\\n",
    "sh scripts/Ours-one_stem-2.sh 2;\\\n",
    "sh scripts/Ours-use_adversarial_loss-2.sh 2;\\\n",
    "sh scripts/Ours-para1-2.sh 2;\\\n",
    "sh scripts/Ours-para2-2.sh 2;\\\n",
    "sh scripts/Ours-para3-2.sh 2;\\\n",
    "sh scripts/Ours-para4-2.sh 2;\\\n",
    "sh scripts/Ours-no_speed_compression_loss-2.sh 2;\\\n",
    "sh scripts/Ours-one_stem_content-2.sh 2;\\\n",
    "sh scripts/Ours-one_stem_vocoder-2.sh 2;\\\n",
    "sh scripts/Ours-f0_loss-2.sh 2;\\\n",
    "\n",
    "sh scripts/Ours-con_loss_feat-3.sh 3;\\\n",
    "sh scripts/Ours-con_loss_voc-3.sh 3;\\\n",
    "sh scripts/Ours-con_loss_feat_voc-3.sh 3;\\\n",
    "sh scripts/Ours-shuffle_feat-3.sh 3;\\\n",
    "sh scripts/Ours-shuffle_style-3.sh 3;\\\n",
    "sh scripts/Ours-shuffle_style_feat-3.sh 3;\\\n",
    "sh scripts/Ours-one_stem-3.sh 3;\\\n",
    "sh scripts/Ours-use_adversarial_loss-3.sh 3;\\\n",
    "sh scripts/Ours-para1-3.sh 3;\\\n",
    "sh scripts/Ours-para2-3.sh 3;\\\n",
    "sh scripts/Ours-para3-3.sh 3;\\\n",
    "sh scripts/Ours-para4-3.sh 3;\\\n",
    "sh scripts/Ours-no_speed_compression_loss-3.sh 3;\\\n",
    "sh scripts/Ours-one_stem_content-3.sh 3;\\\n",
    "sh scripts/Ours-one_stem_vocoder-3.sh 3;\\\n",
    "sh scripts/Ours-f0_loss-3.sh 3;\\"
   ]
  },
  {
   "cell_type": "markdown",
   "id": "61a36cbf-1c2f-4f0b-a440-317c7aeda39f",
   "metadata": {},
   "source": [
    "# Ours MultiView"
   ]
  },
  {
   "cell_type": "code",
   "execution_count": null,
   "id": "45147847-8d44-4116-aa73-3431becc2cf0",
   "metadata": {},
   "outputs": [],
   "source": [
    "python train.py --gpu 3 --cfg 'OursMultiView2/LibriSeVoc_inner';\\\n",
    "python train.py --gpu 3 --cfg 'OursMultiView2/wavefake_inner';\\\n",
    "python train.py --gpu 3 --cfg 'OursMultiView2/ASV2021_inner';\\\n",
    "python train.py --gpu 1 --cfg 'OursMultiView2/LibriSeVoc_cross_method';\\\n",
    "python train.py --gpu 2 --cfg 'OursMultiView2/LibriSeVoc_cross_dataset';\\\n",
    "python train.py --gpu 3 --cfg 'OursMultiView2/wavefake_cross_method';\\\n",
    "\n",
    "          \n",
    "python train.py --gpu 0 --cfg 'OursMultiView2/LibriSeVoc_inner'  --test 1 --version 0;\\\n",
    "python train.py --gpu 0 --cfg 'OursMultiView2/LibriSeVoc_cross_method'  --test 1 --version 0;\\\n",
    "python train.py --gpu 0 --cfg 'OursMultiView2/LibriSeVoc_cross_dataset'  --test 1 --version 0;\\\n",
    "python train.py --gpu 0 --cfg 'OursMultiView2/wavefake_inner'  --test 1 --version 0;\\\n",
    "python train.py --gpu 0 --cfg 'OursMultiView2/wavefake_cross_method'  --test 1 --version 0;\\"
   ]
  },
  {
   "cell_type": "code",
   "execution_count": 12,
   "id": "29d617cc-98bd-405f-88a7-2cbf04611142",
   "metadata": {
    "execution": {
     "iopub.execute_input": "2024-04-06T02:24:22.839877Z",
     "iopub.status.busy": "2024-04-06T02:24:22.839245Z",
     "iopub.status.idle": "2024-04-06T02:24:22.852974Z",
     "shell.execute_reply": "2024-04-06T02:24:22.850852Z",
     "shell.execute_reply.started": "2024-04-06T02:24:22.839815Z"
    }
   },
   "outputs": [
    {
     "name": "stdout",
     "output_type": "stream",
     "text": [
      "python train.py --gpu 1 --cfg 'OursMultiView/DECRO_chinese' --ablation 'ablations/transform_type' -t 1 -v 0;\\\n",
      "python train.py --gpu 1 --cfg 'OursMultiView/DECRO_english' --ablation 'ablations/transform_type' -t 1 -v 0;\\\n",
      "python train.py --gpu 1 --cfg 'OursMultiView/LibriSeVoc_cross_method' --ablation 'ablations/transform_type' -t 1 -v 0;\\\n",
      "python train.py --gpu 1 --cfg 'OursMultiView/LibriSeVoc_cross_dataset' --ablation 'ablations/transform_type' -t 1 -v 0;\\\n",
      "python train.py --gpu 1 --cfg 'OursMultiView/wavefake_cross_lang' --ablation 'ablations/transform_type' -t 1 -v 0;\\\n",
      "python train.py --gpu 1 --cfg 'OursMultiView/wavefake_cross_method' --ablation 'ablations/transform_type' -t 1 -v 0;\\\n",
      "# ------------------------------------------------------------------------------------------------------------------------------------------------------ ;\\\n"
     ]
    }
   ],
   "source": [
    "tasks = [\n",
    "    \"DECRO_chinese\",\n",
    "    \"DECRO_english\",\n",
    "    # \"LibriSeVoc_inner\",\n",
    "    \"LibriSeVoc_cross_method\",\n",
    "    \"LibriSeVoc_cross_dataset\",\n",
    "    # \"wavefake_inner\",\n",
    "    \"wavefake_cross_lang\",\n",
    "    \"wavefake_cross_method\",\n",
    "]\n",
    "\n",
    "test = 1\n",
    "for ablation in [\n",
    "    \"transform_type\",\n",
    "]:\n",
    "    for task in tasks:\n",
    "        if not test:\n",
    "            print(f\"python train.py --gpu 3 --cfg 'OursMultiView/{task}' --ablation 'ablations/{ablation}';\\\\\")\n",
    "        else:\n",
    "            print(\n",
    "                f\"python train.py --gpu 1 --cfg 'OursMultiView/{task}' --ablation 'ablations/{ablation}' -t 1 -v 0;\\\\\"\n",
    "            )\n",
    "    print(\"#\", \"---\" * 50, \";\\\\\")"
   ]
  },
  {
   "cell_type": "code",
   "execution_count": null,
   "id": "6c1587d9-edef-455c-b880-7903e1a36f8f",
   "metadata": {
    "scrolled": true
   },
   "outputs": [],
   "source": [
    "str = \"python train.py --gpu {} --cfg 'OursMultiView2/ASV2021_inner' --alpha {} --beta {} -v {} --ablation 'ablations/ab' -t 1\"\n",
    "v = 0\n",
    "gpu = 0\n",
    "for alpha in [0.5, 0.6, 0.7, 0.8, 0.9, 0.95, 1.0]:\n",
    "    for beta in [0.5, 0.6, 0.7, 0.8, 0.9, 0.95, 1.0]:\n",
    "        if v > 0 and v % 8 == 0:\n",
    "            gpu += 1\n",
    "        cmd = str.format(gpu, alpha, beta, v)\n",
    "        v += 1\n",
    "\n",
    "        print(cmd)"
   ]
  },
  {
   "cell_type": "markdown",
   "id": "df0167ce-107c-4f8c-9180-2df2795f3310",
   "metadata": {},
   "source": [
    "### Ablation"
   ]
  },
  {
   "cell_type": "code",
   "execution_count": 10,
   "id": "5964fdf7-b2dc-447d-99d5-9c73cf5e00c6",
   "metadata": {
    "execution": {
     "iopub.execute_input": "2024-09-11T09:38:39.880804Z",
     "iopub.status.busy": "2024-09-11T09:38:39.880150Z",
     "iopub.status.idle": "2024-09-11T09:38:39.894038Z",
     "shell.execute_reply": "2024-09-11T09:38:39.892076Z",
     "shell.execute_reply.started": "2024-09-11T09:38:39.880742Z"
    }
   },
   "outputs": [
    {
     "name": "stdout",
     "output_type": "stream",
     "text": [
      "python train.py --gpu 3 --cfg 'OursMultiView2/ASV2021_inner' --ablation 'ablations/no-cls_loss_1_2';\\\n",
      "python train.py --gpu 3 --cfg 'OursMultiView2/LibriSeVoc_cross_method' --ablation 'ablations/no-cls_loss_1_2';\\\n",
      "python train.py --gpu 3 --cfg 'OursMultiView2/ASV2021_inner' --ablation 'ablations/no-fusion';\\\n",
      "python train.py --gpu 3 --cfg 'OursMultiView2/LibriSeVoc_cross_method' --ablation 'ablations/no-fusion';\\\n",
      "python train.py --gpu 3 --cfg 'OursMultiView2/ASV2021_inner' --ablation 'ablations/no-inner-CL';\\\n",
      "python train.py --gpu 3 --cfg 'OursMultiView2/LibriSeVoc_cross_method' --ablation 'ablations/no-inner-CL';\\\n",
      "python train.py --gpu 3 --cfg 'OursMultiView2/ASV2021_inner' --ablation 'ablations/no-inner-inter-CL';\\\n",
      "python train.py --gpu 3 --cfg 'OursMultiView2/LibriSeVoc_cross_method' --ablation 'ablations/no-inner-inter-CL';\\\n",
      "python train.py --gpu 3 --cfg 'OursMultiView2/ASV2021_inner' --ablation 'ablations/no-inter-CL';\\\n",
      "python train.py --gpu 3 --cfg 'OursMultiView2/LibriSeVoc_cross_method' --ablation 'ablations/no-inter-CL';\\\n",
      "python train.py --gpu 3 --cfg 'OursMultiView2/ASV2021_inner' --ablation 'ablations/only-1D';\\\n",
      "python train.py --gpu 3 --cfg 'OursMultiView2/LibriSeVoc_cross_method' --ablation 'ablations/only-1D';\\\n",
      "python train.py --gpu 3 --cfg 'OursMultiView2/ASV2021_inner' --ablation 'ablations/only-2D';\\\n",
      "python train.py --gpu 3 --cfg 'OursMultiView2/LibriSeVoc_cross_method' --ablation 'ablations/only-2D';\\\n"
     ]
    }
   ],
   "source": [
    "tasks = [\n",
    "    # \"DECRO_chinese\",\n",
    "    # \"DECRO_english\",\n",
    "    # \"LibriSeVoc_inner\",\n",
    "    \"ASV2021_inner\",\n",
    "    \"LibriSeVoc_cross_method\",\n",
    "    # \"LibriSeVoc_cross_dataset\",\n",
    "    # \"wavefake_inner\",\n",
    "    # \"wavefake_cross_lang\",\n",
    "    # \"wavefake_cross_method\",\n",
    "]\n",
    "\n",
    "test = 0\n",
    "for ablation in [\n",
    "    \"no-cls_loss_1_2\",\n",
    "    \"no-fusion\",\n",
    "    \"no-inner-CL\",\n",
    "    \"no-inner-inter-CL\",\n",
    "    \"no-inter-CL\",\n",
    "    \"only-1D\",\n",
    "    \"only-2D\",\n",
    "]:\n",
    "    for task in tasks:\n",
    "        if not test:\n",
    "            print(f\"python train.py --gpu 3 --cfg 'OursMultiView2/{task}' --ablation 'ablations/{ablation}';\\\\\")\n",
    "        else:\n",
    "            print(\n",
    "                f\"python train.py --gpu 1 --cfg 'OursMultiView2/{task}' --ablation 'ablations/{ablation}' -t 1 -v 0;\\\\\"\n",
    "            )\n",
    "    # print(\"#\", \"---\" * 50, \";\\\\\")"
   ]
  },
  {
   "cell_type": "code",
   "execution_count": null,
   "id": "28801c6b-33d8-4229-ba81-2f28edf6de6d",
   "metadata": {},
   "outputs": [],
   "source": [
    "python train.py --gpu 0 --cfg 'OursMultiView2/ASV2021_inner' --ablation 'ablations/no-cls_loss_1_2';\\\n",
    "python train.py --gpu 1 --cfg 'OursMultiView2/ASV2021_inner' --ablation 'ablations/no-fusion';\\\n",
    "python train.py --gpu 2 --cfg 'OursMultiView2/ASV2021_inner' --ablation 'ablations/no-inner-CL';\\\n",
    "python train.py --gpu 3 --cfg 'OursMultiView2/ASV2021_inner' --ablation 'ablations/no-inner-inter-CL';\\\n",
    "python train.py --gpu 3 --cfg 'OursMultiView2/ASV2021_inner' --ablation 'ablations/no-inter-CL';\\\n",
    "python train.py --gpu 2 --cfg 'OursMultiView2/ASV2021_inner' --ablation 'ablations/only-1D';\\\n",
    "python train.py --gpu 3 --cfg 'OursMultiView2/ASV2021_inner' --ablation 'ablations/only-2D';\\"
   ]
  },
  {
   "cell_type": "code",
   "execution_count": null,
   "id": "0978544b-e0db-4481-9cde-e94a28b63134",
   "metadata": {},
   "outputs": [],
   "source": [
    "python train.py --gpu 0 --cfg 'OursMultiView2/LibriSeVoc_cross_method';\\\n",
    "python train.py --gpu 1 --cfg 'OursMultiView2/LibriSeVoc_cross_method';\\\n",
    "python train.py --gpu 2 --cfg 'OursMultiView2/LibriSeVoc_cross_method';\\\n",
    "python train.py --gpu 3 --cfg 'OursMultiView2/LibriSeVoc_cross_method';\\"
   ]
  },
  {
   "cell_type": "markdown",
   "id": "71ad0b99-5c68-4d52-86b1-cbcb351d3549",
   "metadata": {},
   "source": [
    "# Ours CLIP"
   ]
  },
  {
   "cell_type": "markdown",
   "id": "c1dd99e4-e651-4604-a95e-67fe063cd8ae",
   "metadata": {},
   "source": [
    "```bash\n",
    "python train.py --gpu 0 1 2 3 --cfg 'OursCLIP/VGGSound'\n",
    "```"
   ]
  },
  {
   "cell_type": "markdown",
   "id": "e2c059ce-2c23-4624-a979-c044758161ed",
   "metadata": {
    "execution": {
     "iopub.execute_input": "2024-04-26T06:35:35.240397Z",
     "iopub.status.busy": "2024-04-26T06:35:35.238355Z",
     "iopub.status.idle": "2024-04-26T06:35:35.264931Z",
     "shell.execute_reply": "2024-04-26T06:35:35.262776Z",
     "shell.execute_reply.started": "2024-04-26T06:35:35.240317Z"
    }
   },
   "source": [
    "```bash\n",
    "python train.py --gpu 3 --cfg 'OursCLIP/LibriSeVoc_inner';\\\n",
    "python train.py --gpu 3 --cfg 'OursCLIP/wavefake_inner';\\\n",
    "python train.py --gpu 3 --cfg 'OursCLIP/ASV2021_inner';\\\n",
    "python train.py --gpu 1 --cfg 'OursCLIP/LibriSeVoc_cross_method';\\\n",
    "python train.py --gpu 2 --cfg 'OursCLIP/LibriSeVoc_cross_dataset';\\\n",
    "python train.py --gpu 3 --cfg 'OursCLIP/wavefake_cross_method';\\\n",
    "\n",
    "\n",
    "python train.py --gpu 0 --cfg 'OursCLIP/LibriSeVoc_inner'  --test 1 --version 0;\\\n",
    "python train.py --gpu 0 --cfg 'OursCLIP/LibriSeVoc_cross_method'  --test 1 --version 0;\\\n",
    "python train.py --gpu 0 --cfg 'OursCLIP/LibriSeVoc_cross_dataset'  --test 1 --version 0;\\\n",
    "python train.py --gpu 0 --cfg 'OursCLIP/wavefake_inner'  --test 1 --version 0;\\\n",
    "python train.py --gpu 0 --cfg 'OursCLIP/wavefake_cross_method'  --test 1 --version 0;\\\n",
    "```"
   ]
  },
  {
   "cell_type": "markdown",
   "id": "f3159da3-2d75-46c4-af7a-dd14dd4b8092",
   "metadata": {},
   "source": [
    "# Ours RVQ"
   ]
  },
  {
   "cell_type": "code",
   "execution_count": 1,
   "id": "86e4d3ea-fc45-4c21-948d-2fd37b075013",
   "metadata": {
    "execution": {
     "iopub.execute_input": "2024-12-11T06:30:35.694147Z",
     "iopub.status.busy": "2024-12-11T06:30:35.693494Z",
     "iopub.status.idle": "2024-12-11T06:30:35.716380Z",
     "shell.execute_reply": "2024-12-11T06:30:35.715039Z",
     "shell.execute_reply.started": "2024-12-11T06:30:35.694060Z"
    }
   },
   "outputs": [
    {
     "name": "stdout",
     "output_type": "stream",
     "text": [
      "python train.py --gpu 0 --cfg 'OursRVQ/ASV2019_LA';\\\n",
      "python train.py --gpu 0 --cfg 'OursRVQ/ASV2021_LA';\\\n",
      "python train.py --gpu 0 --cfg 'OursRVQ/ASV2021_inner';\\\n",
      "python train.py --gpu 0 --cfg 'OursRVQ/DECRO_chinese';\\\n",
      "python train.py --gpu 0 --cfg 'OursRVQ/DECRO_english';\\\n",
      "python train.py --gpu 0 --cfg 'OursRVQ/LibriSeVoc_inner';\\\n",
      "python train.py --gpu 0 --cfg 'OursRVQ/LibriSeVoc_cross_method';\\\n",
      "python train.py --gpu 0 --cfg 'OursRVQ/LibriSeVoc_cross_dataset';\\\n",
      "python train.py --gpu 0 --cfg 'OursRVQ/wavefake_inner';\\\n",
      "python train.py --gpu 0 --cfg 'OursRVQ/wavefake_cross_lang';\\\n",
      "python train.py --gpu 0 --cfg 'OursRVQ/wavefake_cross_method';\\\n"
     ]
    }
   ],
   "source": [
    "model_first = 1\n",
    "tasks = [\n",
    "    \"ASV2019_LA\",\n",
    "    \"ASV2021_LA\",\n",
    "    \"ASV2021_inner\",\n",
    "    \"DECRO_chinese\",\n",
    "    \"DECRO_english\",\n",
    "    \"LibriSeVoc_inner\",\n",
    "    \"LibriSeVoc_cross_method\",\n",
    "    \"LibriSeVoc_cross_dataset\",\n",
    "    \"wavefake_inner\",\n",
    "    \"wavefake_cross_lang\",\n",
    "    \"wavefake_cross_method\",\n",
    "]\n",
    "\n",
    "test = 0\n",
    "version = 0\n",
    "for task in tasks:\n",
    "    if not test:\n",
    "        print(f\"python train.py --gpu 0 --cfg 'OursRVQ/{task}';\\\\\")\n",
    "    else:\n",
    "        print(f\"python train.py --gpu 1 --cfg 'OursRVQ/{task}' --test 1 --version {version};\\\\\")"
   ]
  },
  {
   "cell_type": "markdown",
   "id": "a9dd2049-d1ac-4180-919d-04138d4ce2cd",
   "metadata": {},
   "source": [
    "# Ours MultiView3D"
   ]
  },
  {
   "cell_type": "code",
   "execution_count": 2,
   "id": "09475ffc-c29d-42c7-86a5-656ce19ac85e",
   "metadata": {
    "execution": {
     "iopub.execute_input": "2025-01-08T08:35:19.868217Z",
     "iopub.status.busy": "2025-01-08T08:35:19.867042Z",
     "iopub.status.idle": "2025-01-08T08:35:19.879754Z",
     "shell.execute_reply": "2025-01-08T08:35:19.878435Z",
     "shell.execute_reply.started": "2025-01-08T08:35:19.868146Z"
    }
   },
   "outputs": [
    {
     "name": "stdout",
     "output_type": "stream",
     "text": [
      "python train.py --gpu 0 --cfg 'OursMultiView3D/ASV2019_LA';\\\n",
      "python train.py --gpu 0 --cfg 'OursMultiView3D/ASV2021_LA';\\\n",
      "python train.py --gpu 0 --cfg 'OursMultiView3D/ASV2021_inner';\\\n",
      "python train.py --gpu 0 --cfg 'OursMultiView3D/DECRO_chinese';\\\n",
      "python train.py --gpu 0 --cfg 'OursMultiView3D/DECRO_english';\\\n",
      "python train.py --gpu 0 --cfg 'OursMultiView3D/LibriSeVoc_inner';\\\n",
      "python train.py --gpu 0 --cfg 'OursMultiView3D/LibriSeVoc_cross_method';\\\n",
      "python train.py --gpu 0 --cfg 'OursMultiView3D/LibriSeVoc_cross_dataset';\\\n",
      "python train.py --gpu 0 --cfg 'OursMultiView3D/wavefake_inner';\\\n",
      "python train.py --gpu 0 --cfg 'OursMultiView3D/wavefake_cross_lang';\\\n",
      "python train.py --gpu 0 --cfg 'OursMultiView3D/wavefake_cross_method';\\\n"
     ]
    }
   ],
   "source": [
    "model_first = 1\n",
    "tasks = [\n",
    "    \"ASV2019_LA\",\n",
    "    \"ASV2021_LA\",\n",
    "    \"ASV2021_inner\",\n",
    "    \"DECRO_chinese\",\n",
    "    \"DECRO_english\",\n",
    "    \"LibriSeVoc_inner\",\n",
    "    \"LibriSeVoc_cross_method\",\n",
    "    \"LibriSeVoc_cross_dataset\",\n",
    "    \"wavefake_inner\",\n",
    "    \"wavefake_cross_lang\",\n",
    "    \"wavefake_cross_method\",\n",
    "]\n",
    "\n",
    "test = 0\n",
    "version = 0\n",
    "for task in tasks:\n",
    "    if not test:\n",
    "        print(f\"python train.py --gpu 0 --cfg 'OursMultiView3D/{task}';\\\\\")\n",
    "    else:\n",
    "        print(f\"python train.py --gpu 1 --cfg 'OursMultiView3D/{task}' --test 1 --version {version};\\\\\")"
   ]
  }
 ],
 "metadata": {
  "kernelspec": {
   "display_name": "base",
   "language": "python",
   "name": "python3"
  },
  "language_info": {
   "codemirror_mode": {
    "name": "ipython",
    "version": 3
   },
   "file_extension": ".py",
   "mimetype": "text/x-python",
   "name": "python",
   "nbconvert_exporter": "python",
   "pygments_lexer": "ipython3",
   "version": "3.11.5"
  }
 },
 "nbformat": 4,
 "nbformat_minor": 5
}
