{
 "cells": [
  {
   "cell_type": "code",
   "execution_count": 1,
   "id": "a7b2e3b9-9460-4cfd-9437-833bc030094f",
   "metadata": {
    "execution": {
     "iopub.execute_input": "2023-07-13T14:34:19.293627Z",
     "iopub.status.busy": "2023-07-13T14:34:19.293114Z",
     "iopub.status.idle": "2023-07-13T14:34:19.329376Z",
     "shell.execute_reply": "2023-07-13T14:34:19.328199Z",
     "shell.execute_reply.started": "2023-07-13T14:34:19.293575Z"
    },
    "tags": []
   },
   "outputs": [],
   "source": [
    "%load_ext autoreload\n",
    "%autoreload 2"
   ]
  },
  {
   "cell_type": "code",
   "execution_count": 17,
   "id": "5ee06106-2635-4622-9ec7-a6501279063b",
   "metadata": {
    "editable": true,
    "execution": {
     "iopub.execute_input": "2023-07-13T15:34:21.354913Z",
     "iopub.status.busy": "2023-07-13T15:34:21.353580Z",
     "iopub.status.idle": "2023-07-13T15:34:22.081689Z",
     "shell.execute_reply": "2023-07-13T15:34:22.080919Z",
     "shell.execute_reply.started": "2023-07-13T15:34:21.354832Z"
    },
    "slideshow": {
     "slide_type": ""
    },
    "tags": []
   },
   "outputs": [],
   "source": [
    "import pytorch_lightning as pl\n",
    "import torch\n",
    "from ay2.torch.lightning.callbacks import (\n",
    "    ACC_Callback,\n",
    "    APCallback,\n",
    "    AUC_Callback,\n",
    "    Color_progress_bar,\n",
    "    EER_Callback,\n",
    ")\n",
    "from config import get_cfg_defaults\n",
    "from data.make_dataset import make_data\n",
    "from models import LCNN_lit, RawNet2_lit\n",
    "\n",
    "torch.set_float32_matmul_precision(\"medium\")"
   ]
  },
  {
   "cell_type": "code",
   "execution_count": 3,
   "id": "d523685c-2649-4ad5-8848-f9f0d3e10c16",
   "metadata": {
    "execution": {
     "iopub.execute_input": "2023-07-13T14:34:22.399648Z",
     "iopub.status.busy": "2023-07-13T14:34:22.398965Z",
     "iopub.status.idle": "2023-07-13T14:34:22.900810Z",
     "shell.execute_reply": "2023-07-13T14:34:22.899473Z",
     "shell.execute_reply.started": "2023-07-13T14:34:22.399604Z"
    },
    "tags": []
   },
   "outputs": [
    {
     "name": "stdout",
     "output_type": "stream",
     "text": [
      "load model yaml in  config/experiments/RawNet2/0-model.yaml\n",
      "        path  trainSet  method    fps  length     id\n",
      "label                                               \n",
      "0      91700     91700   91700  91700   91700  91700\n",
      "1      13100     13100   13100  13100   13100  13100\n"
     ]
    }
   ],
   "source": [
    "cfg = get_cfg_defaults(\"config/experiments/RawNet2/wavefake_inner.yaml\")\n",
    "ds, dl = make_data(cfg.DATASET)"
   ]
  },
  {
   "cell_type": "code",
   "execution_count": 4,
   "id": "0a6af178-ad6d-42d0-8380-365eb58b2082",
   "metadata": {
    "execution": {
     "iopub.execute_input": "2023-07-13T14:34:22.907010Z",
     "iopub.status.busy": "2023-07-13T14:34:22.906290Z",
     "iopub.status.idle": "2023-07-13T14:34:23.047079Z",
     "shell.execute_reply": "2023-07-13T14:34:23.046541Z",
     "shell.execute_reply.started": "2023-07-13T14:34:22.906968Z"
    },
    "tags": []
   },
   "outputs": [],
   "source": [
    "model = RawNet2_lit()"
   ]
  },
  {
   "cell_type": "code",
   "execution_count": 4,
   "id": "93ef6897-0d37-44f9-993e-2d1003a2e5e9",
   "metadata": {
    "execution": {
     "iopub.execute_input": "2023-06-30T02:58:19.396392Z",
     "iopub.status.busy": "2023-06-30T02:58:19.395798Z",
     "iopub.status.idle": "2023-06-30T02:58:19.454772Z",
     "shell.execute_reply": "2023-06-30T02:58:19.453826Z",
     "shell.execute_reply.started": "2023-06-30T02:58:19.396340Z"
    },
    "tags": []
   },
   "outputs": [],
   "source": [
    "model = LCNN_lit()"
   ]
  },
  {
   "cell_type": "code",
   "execution_count": 20,
   "id": "c8c9ec8c-7684-4ce1-a44c-f480c9220b4a",
   "metadata": {
    "editable": true,
    "execution": {
     "iopub.execute_input": "2023-07-13T15:50:58.621593Z",
     "iopub.status.busy": "2023-07-13T15:50:58.621036Z",
     "iopub.status.idle": "2023-07-13T15:50:58.862470Z",
     "shell.execute_reply": "2023-07-13T15:50:58.861442Z",
     "shell.execute_reply.started": "2023-07-13T15:50:58.621531Z"
    },
    "slideshow": {
     "slide_type": ""
    },
    "tags": []
   },
   "outputs": [
    {
     "name": "stderr",
     "output_type": "stream",
     "text": [
      "GPU available: True (cuda), used: True\n",
      "TPU available: False, using: 0 TPU cores\n",
      "IPU available: False, using: 0 IPUs\n",
      "HPU available: False, using: 0 HPUs\n"
     ]
    }
   ],
   "source": [
    "trainer = pl.Trainer(\n",
    "    max_epochs=10,\n",
    "    accelerator=\"gpu\",\n",
    "    devices=[1],\n",
    "    check_val_every_n_epoch=1,\n",
    "    logger=pl.loggers.CSVLogger(\n",
    "        \"/home/ay/data/Loggers/0-Audio\", name=\"test\", version=None\n",
    "    ),\n",
    "    default_root_dir=\"/home/ay/data/Loggers/0-Audio\",\n",
    "    callbacks=[\n",
    "        Color_progress_bar(),\n",
    "        ACC_Callback(batch_key=\"label\", output_key=\"batch_pred\"),\n",
    "        AUC_Callback(batch_key=\"label\", output_key=\"batch_pred\"),\n",
    "        EER_Callback(batch_key=\"label\", output_key=\"batch_out\")\n",
    "    ]\n",
    "    # limit_train_batches=0.1\n",
    ")"
   ]
  },
  {
   "cell_type": "code",
   "execution_count": null,
   "id": "1055449b-5ebc-478d-9c99-23de55972938",
   "metadata": {
    "execution": {
     "iopub.execute_input": "2023-07-13T15:51:00.491790Z",
     "iopub.status.busy": "2023-07-13T15:51:00.490433Z"
    },
    "scrolled": true,
    "tags": []
   },
   "outputs": [
    {
     "name": "stderr",
     "output_type": "stream",
     "text": [
      "LOCAL_RANK: 0 - CUDA_VISIBLE_DEVICES: [0,1]\n"
     ]
    },
    {
     "data": {
      "text/html": [
       "<pre style=\"white-space:pre;overflow-x:auto;line-height:normal;font-family:Menlo,'DejaVu Sans Mono',consolas,'Courier New',monospace\">┏━━━┳━━━━━━━━━━━┳━━━━━━━━━━━━━━━━━━━┳━━━━━━━━┓\n",
       "┃<span style=\"color: #800080; text-decoration-color: #800080; font-weight: bold\">   </span>┃<span style=\"color: #800080; text-decoration-color: #800080; font-weight: bold\"> Name      </span>┃<span style=\"color: #800080; text-decoration-color: #800080; font-weight: bold\"> Type              </span>┃<span style=\"color: #800080; text-decoration-color: #800080; font-weight: bold\"> Params </span>┃\n",
       "┡━━━╇━━━━━━━━━━━╇━━━━━━━━━━━━━━━━━━━╇━━━━━━━━┩\n",
       "│<span style=\"color: #7f7f7f; text-decoration-color: #7f7f7f\"> 0 </span>│ model     │ RawNet2           │ 17.7 M │\n",
       "│<span style=\"color: #7f7f7f; text-decoration-color: #7f7f7f\"> 1 </span>│ loss_fn   │ BCEWithLogitsLoss │      0 │\n",
       "│<span style=\"color: #7f7f7f; text-decoration-color: #7f7f7f\"> 2 </span>│ acc_train │ BinaryAccuracy    │      0 │\n",
       "│<span style=\"color: #7f7f7f; text-decoration-color: #7f7f7f\"> 3 </span>│ acc_val   │ BinaryAccuracy    │      0 │\n",
       "│<span style=\"color: #7f7f7f; text-decoration-color: #7f7f7f\"> 4 </span>│ acc_test  │ BinaryAccuracy    │      0 │\n",
       "│<span style=\"color: #7f7f7f; text-decoration-color: #7f7f7f\"> 5 </span>│ eer_train │ EER               │      0 │\n",
       "│<span style=\"color: #7f7f7f; text-decoration-color: #7f7f7f\"> 6 </span>│ eer_val   │ EER               │      0 │\n",
       "│<span style=\"color: #7f7f7f; text-decoration-color: #7f7f7f\"> 7 </span>│ eer_test  │ EER               │      0 │\n",
       "└───┴───────────┴───────────────────┴────────┘\n",
       "</pre>\n"
      ],
      "text/plain": [
       "┏━━━┳━━━━━━━━━━━┳━━━━━━━━━━━━━━━━━━━┳━━━━━━━━┓\n",
       "┃\u001b[1;35m \u001b[0m\u001b[1;35m \u001b[0m\u001b[1;35m \u001b[0m┃\u001b[1;35m \u001b[0m\u001b[1;35mName     \u001b[0m\u001b[1;35m \u001b[0m┃\u001b[1;35m \u001b[0m\u001b[1;35mType             \u001b[0m\u001b[1;35m \u001b[0m┃\u001b[1;35m \u001b[0m\u001b[1;35mParams\u001b[0m\u001b[1;35m \u001b[0m┃\n",
       "┡━━━╇━━━━━━━━━━━╇━━━━━━━━━━━━━━━━━━━╇━━━━━━━━┩\n",
       "│\u001b[2m \u001b[0m\u001b[2m0\u001b[0m\u001b[2m \u001b[0m│ model     │ RawNet2           │ 17.7 M │\n",
       "│\u001b[2m \u001b[0m\u001b[2m1\u001b[0m\u001b[2m \u001b[0m│ loss_fn   │ BCEWithLogitsLoss │      0 │\n",
       "│\u001b[2m \u001b[0m\u001b[2m2\u001b[0m\u001b[2m \u001b[0m│ acc_train │ BinaryAccuracy    │      0 │\n",
       "│\u001b[2m \u001b[0m\u001b[2m3\u001b[0m\u001b[2m \u001b[0m│ acc_val   │ BinaryAccuracy    │      0 │\n",
       "│\u001b[2m \u001b[0m\u001b[2m4\u001b[0m\u001b[2m \u001b[0m│ acc_test  │ BinaryAccuracy    │      0 │\n",
       "│\u001b[2m \u001b[0m\u001b[2m5\u001b[0m\u001b[2m \u001b[0m│ eer_train │ EER               │      0 │\n",
       "│\u001b[2m \u001b[0m\u001b[2m6\u001b[0m\u001b[2m \u001b[0m│ eer_val   │ EER               │      0 │\n",
       "│\u001b[2m \u001b[0m\u001b[2m7\u001b[0m\u001b[2m \u001b[0m│ eer_test  │ EER               │      0 │\n",
       "└───┴───────────┴───────────────────┴────────┘\n"
      ]
     },
     "metadata": {},
     "output_type": "display_data"
    },
    {
     "data": {
      "text/html": [
       "<pre style=\"white-space:pre;overflow-x:auto;line-height:normal;font-family:Menlo,'DejaVu Sans Mono',consolas,'Courier New',monospace\"><span style=\"font-weight: bold\">Trainable params</span>: 17.7 M                                                                                           \n",
       "<span style=\"font-weight: bold\">Non-trainable params</span>: 0                                                                                            \n",
       "<span style=\"font-weight: bold\">Total params</span>: 17.7 M                                                                                               \n",
       "<span style=\"font-weight: bold\">Total estimated model params size (MB)</span>: 70                                                                         \n",
       "</pre>\n"
      ],
      "text/plain": [
       "\u001b[1mTrainable params\u001b[0m: 17.7 M                                                                                           \n",
       "\u001b[1mNon-trainable params\u001b[0m: 0                                                                                            \n",
       "\u001b[1mTotal params\u001b[0m: 17.7 M                                                                                               \n",
       "\u001b[1mTotal estimated model params size (MB)\u001b[0m: 70                                                                         \n"
      ]
     },
     "metadata": {},
     "output_type": "display_data"
    },
    {
     "data": {
      "application/vnd.jupyter.widget-view+json": {
       "model_id": "38cb38a6e96240d093253fadb86942be",
       "version_major": 2,
       "version_minor": 0
      },
      "text/plain": [
       "Output()"
      ]
     },
     "metadata": {},
     "output_type": "display_data"
    }
   ],
   "source": [
    "trainer.fit(model, train_dataloaders=dl.train, val_dataloaders=dl.val)"
   ]
  },
  {
   "cell_type": "code",
   "execution_count": 37,
   "id": "6bcd0ae2-6c81-46d9-bbb5-978342f52f84",
   "metadata": {
    "execution": {
     "iopub.execute_input": "2023-07-13T13:25:53.517675Z",
     "iopub.status.busy": "2023-07-13T13:25:53.516646Z",
     "iopub.status.idle": "2023-07-13T13:26:36.764155Z",
     "shell.execute_reply": "2023-07-13T13:26:36.763406Z",
     "shell.execute_reply.started": "2023-07-13T13:25:53.517629Z"
    }
   },
   "outputs": [
    {
     "name": "stderr",
     "output_type": "stream",
     "text": [
      "LOCAL_RANK: 0 - CUDA_VISIBLE_DEVICES: [0,1]\n"
     ]
    },
    {
     "data": {
      "application/vnd.jupyter.widget-view+json": {
       "model_id": "30a7ff4e1ec245e280fc7c14d64e90e4",
       "version_major": 2,
       "version_minor": 0
      },
      "text/plain": [
       "Output()"
      ]
     },
     "metadata": {},
     "output_type": "display_data"
    },
    {
     "data": {
      "text/html": [
       "<pre style=\"white-space:pre;overflow-x:auto;line-height:normal;font-family:Menlo,'DejaVu Sans Mono',consolas,'Courier New',monospace\">start validation\n",
       "</pre>\n"
      ],
      "text/plain": [
       "start validation\n"
      ]
     },
     "metadata": {},
     "output_type": "display_data"
    },
    {
     "data": {
      "text/html": [
       "<pre style=\"white-space:pre;overflow-x:auto;line-height:normal;font-family:Menlo,'DejaVu Sans Mono',consolas,'Courier New',monospace\">┏━━━━━━━━━━━━━━━━━━━━━━━━━━━┳━━━━━━━━━━━━━━━━━━━━━━━━━━━┓\n",
       "┃<span style=\"font-weight: bold\">      Validate metric      </span>┃<span style=\"font-weight: bold\">       DataLoader 0        </span>┃\n",
       "┡━━━━━━━━━━━━━━━━━━━━━━━━━━━╇━━━━━━━━━━━━━━━━━━━━━━━━━━━┩\n",
       "│<span style=\"color: #008080; text-decoration-color: #008080\">           loss            </span>│<span style=\"color: #800080; text-decoration-color: #800080\">    0.06355491280555725    </span>│\n",
       "│<span style=\"color: #008080; text-decoration-color: #008080\">          val-acc          </span>│<span style=\"color: #800080; text-decoration-color: #800080\">    0.9742695689201355     </span>│\n",
       "└───────────────────────────┴───────────────────────────┘\n",
       "</pre>\n"
      ],
      "text/plain": [
       "┏━━━━━━━━━━━━━━━━━━━━━━━━━━━┳━━━━━━━━━━━━━━━━━━━━━━━━━━━┓\n",
       "┃\u001b[1m \u001b[0m\u001b[1m     Validate metric     \u001b[0m\u001b[1m \u001b[0m┃\u001b[1m \u001b[0m\u001b[1m      DataLoader 0       \u001b[0m\u001b[1m \u001b[0m┃\n",
       "┡━━━━━━━━━━━━━━━━━━━━━━━━━━━╇━━━━━━━━━━━━━━━━━━━━━━━━━━━┩\n",
       "│\u001b[36m \u001b[0m\u001b[36m          loss           \u001b[0m\u001b[36m \u001b[0m│\u001b[35m \u001b[0m\u001b[35m   0.06355491280555725   \u001b[0m\u001b[35m \u001b[0m│\n",
       "│\u001b[36m \u001b[0m\u001b[36m         val-acc         \u001b[0m\u001b[36m \u001b[0m│\u001b[35m \u001b[0m\u001b[35m   0.9742695689201355    \u001b[0m\u001b[35m \u001b[0m│\n",
       "└───────────────────────────┴───────────────────────────┘\n"
      ]
     },
     "metadata": {},
     "output_type": "display_data"
    },
    {
     "data": {
      "text/html": [
       "<pre style=\"white-space:pre;overflow-x:auto;line-height:normal;font-family:Menlo,'DejaVu Sans Mono',consolas,'Courier New',monospace\"></pre>\n"
      ],
      "text/plain": []
     },
     "metadata": {},
     "output_type": "display_data"
    },
    {
     "data": {
      "text/html": [
       "<pre style=\"white-space:pre;overflow-x:auto;line-height:normal;font-family:Menlo,'DejaVu Sans Mono',consolas,'Courier New',monospace\">\n",
       "</pre>\n"
      ],
      "text/plain": [
       "\n"
      ]
     },
     "metadata": {},
     "output_type": "display_data"
    },
    {
     "data": {
      "text/plain": [
       "[{'loss': 0.06355491280555725, 'val-acc': 0.9742695689201355}]"
      ]
     },
     "execution_count": 37,
     "metadata": {},
     "output_type": "execute_result"
    }
   ],
   "source": [
    "trainer.validate(model, dl.val)"
   ]
  },
  {
   "cell_type": "code",
   "execution_count": 38,
   "id": "4dd38635-5748-461f-a314-af8c6e82ef4a",
   "metadata": {
    "execution": {
     "iopub.execute_input": "2023-07-13T13:26:36.765626Z",
     "iopub.status.busy": "2023-07-13T13:26:36.765366Z",
     "iopub.status.idle": "2023-07-13T13:27:20.223262Z",
     "shell.execute_reply": "2023-07-13T13:27:20.222505Z",
     "shell.execute_reply.started": "2023-07-13T13:26:36.765608Z"
    }
   },
   "outputs": [
    {
     "name": "stderr",
     "output_type": "stream",
     "text": [
      "LOCAL_RANK: 0 - CUDA_VISIBLE_DEVICES: [0,1]\n"
     ]
    },
    {
     "data": {
      "application/vnd.jupyter.widget-view+json": {
       "model_id": "9b42576f1af349518591b11bec1efdc4",
       "version_major": 2,
       "version_minor": 0
      },
      "text/plain": [
       "Output()"
      ]
     },
     "metadata": {},
     "output_type": "display_data"
    },
    {
     "data": {
      "text/html": [
       "<pre style=\"white-space:pre;overflow-x:auto;line-height:normal;font-family:Menlo,'DejaVu Sans Mono',consolas,'Courier New',monospace\">start validation\n",
       "</pre>\n"
      ],
      "text/plain": [
       "start validation\n"
      ]
     },
     "metadata": {},
     "output_type": "display_data"
    },
    {
     "data": {
      "text/html": [
       "<pre style=\"white-space:pre;overflow-x:auto;line-height:normal;font-family:Menlo,'DejaVu Sans Mono',consolas,'Courier New',monospace\">┏━━━━━━━━━━━━━━━━━━━━━━━━━━━┳━━━━━━━━━━━━━━━━━━━━━━━━━━━┓\n",
       "┃<span style=\"font-weight: bold\">      Validate metric      </span>┃<span style=\"font-weight: bold\">       DataLoader 0        </span>┃\n",
       "┡━━━━━━━━━━━━━━━━━━━━━━━━━━━╇━━━━━━━━━━━━━━━━━━━━━━━━━━━┩\n",
       "│<span style=\"color: #008080; text-decoration-color: #008080\">           loss            </span>│<span style=\"color: #800080; text-decoration-color: #800080\">    0.06355491280555725    </span>│\n",
       "│<span style=\"color: #008080; text-decoration-color: #008080\">          val-acc          </span>│<span style=\"color: #800080; text-decoration-color: #800080\">    0.9743614792823792     </span>│\n",
       "└───────────────────────────┴───────────────────────────┘\n",
       "</pre>\n"
      ],
      "text/plain": [
       "┏━━━━━━━━━━━━━━━━━━━━━━━━━━━┳━━━━━━━━━━━━━━━━━━━━━━━━━━━┓\n",
       "┃\u001b[1m \u001b[0m\u001b[1m     Validate metric     \u001b[0m\u001b[1m \u001b[0m┃\u001b[1m \u001b[0m\u001b[1m      DataLoader 0       \u001b[0m\u001b[1m \u001b[0m┃\n",
       "┡━━━━━━━━━━━━━━━━━━━━━━━━━━━╇━━━━━━━━━━━━━━━━━━━━━━━━━━━┩\n",
       "│\u001b[36m \u001b[0m\u001b[36m          loss           \u001b[0m\u001b[36m \u001b[0m│\u001b[35m \u001b[0m\u001b[35m   0.06355491280555725   \u001b[0m\u001b[35m \u001b[0m│\n",
       "│\u001b[36m \u001b[0m\u001b[36m         val-acc         \u001b[0m\u001b[36m \u001b[0m│\u001b[35m \u001b[0m\u001b[35m   0.9743614792823792    \u001b[0m\u001b[35m \u001b[0m│\n",
       "└───────────────────────────┴───────────────────────────┘\n"
      ]
     },
     "metadata": {},
     "output_type": "display_data"
    },
    {
     "data": {
      "text/html": [
       "<pre style=\"white-space:pre;overflow-x:auto;line-height:normal;font-family:Menlo,'DejaVu Sans Mono',consolas,'Courier New',monospace\"></pre>\n"
      ],
      "text/plain": []
     },
     "metadata": {},
     "output_type": "display_data"
    },
    {
     "data": {
      "text/html": [
       "<pre style=\"white-space:pre;overflow-x:auto;line-height:normal;font-family:Menlo,'DejaVu Sans Mono',consolas,'Courier New',monospace\">\n",
       "</pre>\n"
      ],
      "text/plain": [
       "\n"
      ]
     },
     "metadata": {},
     "output_type": "display_data"
    },
    {
     "data": {
      "text/plain": [
       "[{'loss': 0.06355491280555725, 'val-acc': 0.9743614792823792}]"
      ]
     },
     "execution_count": 38,
     "metadata": {},
     "output_type": "execute_result"
    }
   ],
   "source": [
    "trainer.validate(model, dl.val)"
   ]
  },
  {
   "cell_type": "code",
   "execution_count": 29,
   "id": "262a8a22-bd80-4824-9146-4af31a92adab",
   "metadata": {
    "execution": {
     "iopub.execute_input": "2023-07-13T12:51:42.122634Z",
     "iopub.status.busy": "2023-07-13T12:51:42.122395Z",
     "iopub.status.idle": "2023-07-13T12:52:44.513527Z",
     "shell.execute_reply": "2023-07-13T12:52:44.513050Z",
     "shell.execute_reply.started": "2023-07-13T12:51:42.122619Z"
    },
    "tags": []
   },
   "outputs": [
    {
     "name": "stderr",
     "output_type": "stream",
     "text": [
      "LOCAL_RANK: 0 - CUDA_VISIBLE_DEVICES: [0,1]\n"
     ]
    },
    {
     "data": {
      "application/vnd.jupyter.widget-view+json": {
       "model_id": "7913e5830bbe4b19aab7ee8c5441dedd",
       "version_major": 2,
       "version_minor": 0
      },
      "text/plain": [
       "Output()"
      ]
     },
     "metadata": {},
     "output_type": "display_data"
    },
    {
     "data": {
      "text/html": [
       "<pre style=\"white-space:pre;overflow-x:auto;line-height:normal;font-family:Menlo,'DejaVu Sans Mono',consolas,'Courier New',monospace\">┏━━━━━━━━━━━━━━━━━━━━━━━━━━━┳━━━━━━━━━━━━━━━━━━━━━━━━━━━┓\n",
       "┃<span style=\"font-weight: bold\">        Test metric        </span>┃<span style=\"font-weight: bold\">       DataLoader 0        </span>┃\n",
       "┡━━━━━━━━━━━━━━━━━━━━━━━━━━━╇━━━━━━━━━━━━━━━━━━━━━━━━━━━┩\n",
       "│<span style=\"color: #008080; text-decoration-color: #008080\">           loss            </span>│<span style=\"color: #800080; text-decoration-color: #800080\">    0.16396945714950562    </span>│\n",
       "│<span style=\"color: #008080; text-decoration-color: #008080\">         test-acc          </span>│<span style=\"color: #800080; text-decoration-color: #800080\">    0.9322580695152283     </span>│\n",
       "│<span style=\"color: #008080; text-decoration-color: #008080\">         test_acc          </span>│<span style=\"color: #800080; text-decoration-color: #800080\">    0.9330637454986572     </span>│\n",
       "│<span style=\"color: #008080; text-decoration-color: #008080\">         test_eer          </span>│<span style=\"color: #800080; text-decoration-color: #800080\">    0.07690182328224182    </span>│\n",
       "└───────────────────────────┴───────────────────────────┘\n",
       "</pre>\n"
      ],
      "text/plain": [
       "┏━━━━━━━━━━━━━━━━━━━━━━━━━━━┳━━━━━━━━━━━━━━━━━━━━━━━━━━━┓\n",
       "┃\u001b[1m \u001b[0m\u001b[1m       Test metric       \u001b[0m\u001b[1m \u001b[0m┃\u001b[1m \u001b[0m\u001b[1m      DataLoader 0       \u001b[0m\u001b[1m \u001b[0m┃\n",
       "┡━━━━━━━━━━━━━━━━━━━━━━━━━━━╇━━━━━━━━━━━━━━━━━━━━━━━━━━━┩\n",
       "│\u001b[36m \u001b[0m\u001b[36m          loss           \u001b[0m\u001b[36m \u001b[0m│\u001b[35m \u001b[0m\u001b[35m   0.16396945714950562   \u001b[0m\u001b[35m \u001b[0m│\n",
       "│\u001b[36m \u001b[0m\u001b[36m        test-acc         \u001b[0m\u001b[36m \u001b[0m│\u001b[35m \u001b[0m\u001b[35m   0.9322580695152283    \u001b[0m\u001b[35m \u001b[0m│\n",
       "│\u001b[36m \u001b[0m\u001b[36m        test_acc         \u001b[0m\u001b[36m \u001b[0m│\u001b[35m \u001b[0m\u001b[35m   0.9330637454986572    \u001b[0m\u001b[35m \u001b[0m│\n",
       "│\u001b[36m \u001b[0m\u001b[36m        test_eer         \u001b[0m\u001b[36m \u001b[0m│\u001b[35m \u001b[0m\u001b[35m   0.07690182328224182   \u001b[0m\u001b[35m \u001b[0m│\n",
       "└───────────────────────────┴───────────────────────────┘\n"
      ]
     },
     "metadata": {},
     "output_type": "display_data"
    },
    {
     "data": {
      "text/html": [
       "<pre style=\"white-space:pre;overflow-x:auto;line-height:normal;font-family:Menlo,'DejaVu Sans Mono',consolas,'Courier New',monospace\"></pre>\n"
      ],
      "text/plain": []
     },
     "metadata": {},
     "output_type": "display_data"
    },
    {
     "data": {
      "text/html": [
       "<pre style=\"white-space:pre;overflow-x:auto;line-height:normal;font-family:Menlo,'DejaVu Sans Mono',consolas,'Courier New',monospace\">\n",
       "</pre>\n"
      ],
      "text/plain": [
       "\n"
      ]
     },
     "metadata": {},
     "output_type": "display_data"
    },
    {
     "data": {
      "text/plain": [
       "[{'loss': 0.16396945714950562,\n",
       "  'test-acc': 0.9322580695152283,\n",
       "  'test_acc': 0.9330637454986572,\n",
       "  'test_eer': 0.07690182328224182}]"
      ]
     },
     "execution_count": 29,
     "metadata": {},
     "output_type": "execute_result"
    }
   ],
   "source": [
    "trainer.test(model, dl.test)"
   ]
  }
 ],
 "metadata": {
  "kernelspec": {
   "display_name": "Python 3 (ipykernel)",
   "language": "python",
   "name": "python3"
  },
  "language_info": {
   "codemirror_mode": {
    "name": "ipython",
    "version": 3
   },
   "file_extension": ".py",
   "mimetype": "text/x-python",
   "name": "python",
   "nbconvert_exporter": "python",
   "pygments_lexer": "ipython3",
   "version": "3.9.16"
  }
 },
 "nbformat": 4,
 "nbformat_minor": 5
}
