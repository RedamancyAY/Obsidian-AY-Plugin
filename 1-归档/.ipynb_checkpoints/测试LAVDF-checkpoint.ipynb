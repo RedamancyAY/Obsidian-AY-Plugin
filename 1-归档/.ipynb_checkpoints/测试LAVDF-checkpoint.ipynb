{
 "cells": [
  {
   "cell_type": "code",
   "execution_count": 1,
   "id": "a7b2e3b9-9460-4cfd-9437-833bc030094f",
   "metadata": {
    "execution": {
     "iopub.execute_input": "2023-07-13T08:12:43.000515Z",
     "iopub.status.busy": "2023-07-13T08:12:43.000069Z",
     "iopub.status.idle": "2023-07-13T08:12:43.038866Z",
     "shell.execute_reply": "2023-07-13T08:12:43.037596Z",
     "shell.execute_reply.started": "2023-07-13T08:12:43.000468Z"
    },
    "tags": []
   },
   "outputs": [],
   "source": [
    "%load_ext autoreload\n",
    "%autoreload 2"
   ]
  },
  {
   "cell_type": "code",
   "execution_count": 2,
   "id": "5ee06106-2635-4622-9ec7-a6501279063b",
   "metadata": {
    "editable": true,
    "execution": {
     "iopub.execute_input": "2023-07-13T08:12:43.041997Z",
     "iopub.status.busy": "2023-07-13T08:12:43.041544Z",
     "iopub.status.idle": "2023-07-13T08:12:45.779393Z",
     "shell.execute_reply": "2023-07-13T08:12:45.778477Z",
     "shell.execute_reply.started": "2023-07-13T08:12:43.041953Z"
    },
    "slideshow": {
     "slide_type": ""
    },
    "tags": []
   },
   "outputs": [],
   "source": [
    "import pytorch_lightning as pl\n",
    "import torch\n",
    "from config import get_cfg_defaults\n",
    "from data.make_dataset import make_data\n",
    "from models import Batfd_Audio_lit, LCNN_lit, RawNet2_lit\n",
    "\n",
    "torch.set_float32_matmul_precision(\"medium\")\n",
    "from ay.torch.lightning.callbacks import (\n",
    "    APCallback,\n",
    "    Color_progress_bar,\n",
    "    color_progress_bar,\n",
    ")"
   ]
  },
  {
   "cell_type": "code",
   "execution_count": 3,
   "id": "fc8f760a-0f4d-4a38-b63a-8a31b537ba79",
   "metadata": {
    "execution": {
     "iopub.execute_input": "2023-07-13T08:12:45.781717Z",
     "iopub.status.busy": "2023-07-13T08:12:45.780972Z",
     "iopub.status.idle": "2023-07-13T08:12:56.966149Z",
     "shell.execute_reply": "2023-07-13T08:12:56.964854Z",
     "shell.execute_reply.started": "2023-07-13T08:12:45.781671Z"
    }
   },
   "outputs": [],
   "source": [
    "model = Batfd_Audio_lit()"
   ]
  },
  {
   "cell_type": "code",
   "execution_count": 4,
   "id": "d523685c-2649-4ad5-8848-f9f0d3e10c16",
   "metadata": {
    "execution": {
     "iopub.execute_input": "2023-07-13T08:12:56.967104Z",
     "iopub.status.busy": "2023-07-13T08:12:56.966938Z",
     "iopub.status.idle": "2023-07-13T08:12:59.900166Z",
     "shell.execute_reply": "2023-07-13T08:12:59.899388Z",
     "shell.execute_reply.started": "2023-07-13T08:12:56.967089Z"
    },
    "tags": []
   },
   "outputs": [
    {
     "name": "stdout",
     "output_type": "stream",
     "text": [
      "load model yaml in  config/experiments/LAVDF/0-model.yaml\n"
     ]
    }
   ],
   "source": [
    "cfg = get_cfg_defaults(\"config/experiments/LAVDF/LAVDF.yaml\")\n",
    "# cfg.DATASET.train_settings.audio_feature = \"LFCC\"\n",
    "# cfg.DATASET.test_settings.audio_feature = \"LFCC\"\n",
    "ds, dl = make_data(cfg.DATASET)"
   ]
  },
  {
   "cell_type": "code",
   "execution_count": null,
   "id": "c8c9ec8c-7684-4ce1-a44c-f480c9220b4a",
   "metadata": {
    "editable": true,
    "slideshow": {
     "slide_type": ""
    },
    "tags": []
   },
   "outputs": [],
   "source": [
    "trainer = pl.Trainer(\n",
    "    max_epochs=10,\n",
    "    accelerator=\"gpu\",\n",
    "    devices=[0],\n",
    "    check_val_every_n_epoch=1,\n",
    "    logger=pl.loggers.CSVLogger(\n",
    "        \"/home/ay/data/Loggers/0-Audio\", name=\"test\", version=8\n",
    "    ),\n",
    "    default_root_dir=\"/home/ay/data/Loggers/0-Audio\",\n",
    "    callbacks=[Color_progress_bar()],\n",
    "    # limit_train_batches=0.1\n",
    "    limit_test_batches=0.1,\n",
    ")"
   ]
  },
  {
   "cell_type": "code",
   "execution_count": null,
   "id": "1055449b-5ebc-478d-9c99-23de55972938",
   "metadata": {
    "execution": {
     "iopub.execute_input": "2023-07-13T08:24:21.370064Z",
     "iopub.status.busy": "2023-07-13T08:24:21.369505Z"
    },
    "scrolled": true,
    "tags": []
   },
   "outputs": [
    {
     "name": "stderr",
     "output_type": "stream",
     "text": [
      "LOCAL_RANK: 0 - CUDA_VISIBLE_DEVICES: [0,1]\n"
     ]
    },
    {
     "data": {
      "text/html": [
       "<pre style=\"white-space:pre;overflow-x:auto;line-height:normal;font-family:Menlo,'DejaVu Sans Mono',consolas,'Courier New',monospace\">┏━━━┳━━━━━━━━━━━━━┳━━━━━━━━━━━━━━━━━┳━━━━━━━━┓\n",
       "┃<span style=\"color: #800080; text-decoration-color: #800080; font-weight: bold\">   </span>┃<span style=\"color: #800080; text-decoration-color: #800080; font-weight: bold\"> Name        </span>┃<span style=\"color: #800080; text-decoration-color: #800080; font-weight: bold\"> Type            </span>┃<span style=\"color: #800080; text-decoration-color: #800080; font-weight: bold\"> Params </span>┃\n",
       "┡━━━╇━━━━━━━━━━━━━╇━━━━━━━━━━━━━━━━━╇━━━━━━━━┩\n",
       "│<span style=\"color: #7f7f7f; text-decoration-color: #7f7f7f\"> 0 </span>│ audio_model │ Batfd           │  1.6 M │\n",
       "│<span style=\"color: #7f7f7f; text-decoration-color: #7f7f7f\"> 1 </span>│ frame_loss  │ MaskedFrameLoss │      0 │\n",
       "│<span style=\"color: #7f7f7f; text-decoration-color: #7f7f7f\"> 2 </span>│ bm_loss     │ MaskedBMLoss    │      0 │\n",
       "└───┴─────────────┴─────────────────┴────────┘\n",
       "</pre>\n"
      ],
      "text/plain": [
       "┏━━━┳━━━━━━━━━━━━━┳━━━━━━━━━━━━━━━━━┳━━━━━━━━┓\n",
       "┃\u001b[1;35m \u001b[0m\u001b[1;35m \u001b[0m\u001b[1;35m \u001b[0m┃\u001b[1;35m \u001b[0m\u001b[1;35mName       \u001b[0m\u001b[1;35m \u001b[0m┃\u001b[1;35m \u001b[0m\u001b[1;35mType           \u001b[0m\u001b[1;35m \u001b[0m┃\u001b[1;35m \u001b[0m\u001b[1;35mParams\u001b[0m\u001b[1;35m \u001b[0m┃\n",
       "┡━━━╇━━━━━━━━━━━━━╇━━━━━━━━━━━━━━━━━╇━━━━━━━━┩\n",
       "│\u001b[2m \u001b[0m\u001b[2m0\u001b[0m\u001b[2m \u001b[0m│ audio_model │ Batfd           │  1.6 M │\n",
       "│\u001b[2m \u001b[0m\u001b[2m1\u001b[0m\u001b[2m \u001b[0m│ frame_loss  │ MaskedFrameLoss │      0 │\n",
       "│\u001b[2m \u001b[0m\u001b[2m2\u001b[0m\u001b[2m \u001b[0m│ bm_loss     │ MaskedBMLoss    │      0 │\n",
       "└───┴─────────────┴─────────────────┴────────┘\n"
      ]
     },
     "metadata": {},
     "output_type": "display_data"
    },
    {
     "data": {
      "text/html": [
       "<pre style=\"white-space:pre;overflow-x:auto;line-height:normal;font-family:Menlo,'DejaVu Sans Mono',consolas,'Courier New',monospace\"><span style=\"font-weight: bold\">Trainable params</span>: 1.6 M                                                                                            \n",
       "<span style=\"font-weight: bold\">Non-trainable params</span>: 0                                                                                            \n",
       "<span style=\"font-weight: bold\">Total params</span>: 1.6 M                                                                                                \n",
       "<span style=\"font-weight: bold\">Total estimated model params size (MB)</span>: 6                                                                          \n",
       "</pre>\n"
      ],
      "text/plain": [
       "\u001b[1mTrainable params\u001b[0m: 1.6 M                                                                                            \n",
       "\u001b[1mNon-trainable params\u001b[0m: 0                                                                                            \n",
       "\u001b[1mTotal params\u001b[0m: 1.6 M                                                                                                \n",
       "\u001b[1mTotal estimated model params size (MB)\u001b[0m: 6                                                                          \n"
      ]
     },
     "metadata": {},
     "output_type": "display_data"
    },
    {
     "data": {
      "application/vnd.jupyter.widget-view+json": {
       "model_id": "d87fe59595c24ebc9e22dcabb10e2b1e",
       "version_major": 2,
       "version_minor": 0
      },
      "text/plain": [
       "Output()"
      ]
     },
     "metadata": {},
     "output_type": "display_data"
    }
   ],
   "source": [
    "trainer.fit(model, train_dataloaders=dl.train, val_dataloaders=dl.val)"
   ]
  },
  {
   "cell_type": "code",
   "execution_count": null,
   "id": "e0f9383e-7d20-4bd0-924a-c50ce9ffc9fe",
   "metadata": {},
   "outputs": [],
   "source": [
    "print(len(dl.train), len(dl.val), len(dl.test))"
   ]
  },
  {
   "cell_type": "code",
   "execution_count": null,
   "id": "cec5262c-f898-4d87-8abb-f85e85bd09be",
   "metadata": {
    "scrolled": true
   },
   "outputs": [],
   "source": [
    "model.load_from_checkpoint(\n",
    "    \"/home/ay/data/Loggers/0-Audio/test/version_7/checkpoints/epoch=9-step=65590.ckpt\"\n",
    ")"
   ]
  },
  {
   "cell_type": "code",
   "execution_count": null,
   "id": "262a8a22-bd80-4824-9146-4af31a92adab",
   "metadata": {
    "scrolled": true,
    "tags": []
   },
   "outputs": [],
   "source": [
    "trainer.test(model, dl.test)"
   ]
  },
  {
   "cell_type": "code",
   "execution_count": null,
   "id": "155d3b8a-68a3-4858-bf92-5dcaa7e69db5",
   "metadata": {},
   "outputs": [],
   "source": [
    "trainer.callbacks[1].common_epoch_end(trainer, model)"
   ]
  },
  {
   "cell_type": "code",
   "execution_count": null,
   "id": "58372160-041c-46ec-b6fb-c11b72142132",
   "metadata": {},
   "outputs": [],
   "source": []
  }
 ],
 "metadata": {
  "kernelspec": {
   "display_name": "Python 3 (ipykernel)",
   "language": "python",
   "name": "python3"
  },
  "language_info": {
   "codemirror_mode": {
    "name": "ipython",
    "version": 3
   },
   "file_extension": ".py",
   "mimetype": "text/x-python",
   "name": "python",
   "nbconvert_exporter": "python",
   "pygments_lexer": "ipython3",
   "version": "3.9.16"
  }
 },
 "nbformat": 4,
 "nbformat_minor": 5
}
