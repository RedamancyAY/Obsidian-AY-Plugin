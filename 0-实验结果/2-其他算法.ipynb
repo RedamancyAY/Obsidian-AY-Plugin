{
 "cells": [
  {
   "cell_type": "code",
   "execution_count": 1,
   "id": "30a7cc37-ef52-4811-babc-a485a15ccefd",
   "metadata": {
    "execution": {
     "iopub.execute_input": "2024-01-15T08:22:20.723302Z",
     "iopub.status.busy": "2024-01-15T08:22:20.721956Z",
     "iopub.status.idle": "2024-01-15T08:22:20.764502Z",
     "shell.execute_reply": "2024-01-15T08:22:20.763000Z",
     "shell.execute_reply.started": "2024-01-15T08:22:20.723234Z"
    }
   },
   "outputs": [],
   "source": [
    "%load_ext autoreload\n",
    "%autoreload 2"
   ]
  },
  {
   "cell_type": "code",
   "execution_count": 2,
   "id": "95263c55-3c74-413c-8166-c8410400993e",
   "metadata": {
    "execution": {
     "iopub.execute_input": "2024-01-15T08:22:21.440183Z",
     "iopub.status.busy": "2024-01-15T08:22:21.439409Z",
     "iopub.status.idle": "2024-01-15T08:22:21.771262Z",
     "shell.execute_reply": "2024-01-15T08:22:21.770244Z",
     "shell.execute_reply.started": "2024-01-15T08:22:21.440141Z"
    }
   },
   "outputs": [],
   "source": [
    "from utils import (\n",
    "    display_cross_dataset_evaluation,\n",
    "    display_cross_method_evaluation,\n",
    "    display_inner_evaluation,\n",
    "    display_cross_language_evaluation\n",
    ")"
   ]
  },
  {
   "cell_type": "code",
   "execution_count": 21,
   "id": "86b2aca3-7257-4910-8a3b-0528bc97b12a",
   "metadata": {
    "execution": {
     "iopub.execute_input": "2024-01-15T12:15:55.071840Z",
     "iopub.status.busy": "2024-01-15T12:15:55.071379Z",
     "iopub.status.idle": "2024-01-15T12:15:55.101469Z",
     "shell.execute_reply": "2024-01-15T12:15:55.099284Z",
     "shell.execute_reply.started": "2024-01-15T12:15:55.071806Z"
    }
   },
   "outputs": [],
   "source": [
    "MODELs = [\n",
    "    \"LCNN\",\n",
    "    \"RawNet2\",\n",
    "    \"Wave2Vec2\",\n",
    "    \"WaveLM\",\n",
    "    \"LibriSeVoc\",\n",
    "    \"AudioClip\",\n",
    "    \"Wav2Clip\",\n",
    "    \"AASIST\",\n",
    "    \"Ours/MSFM\",\n",
    "]"
   ]
  },
  {
   "cell_type": "markdown",
   "id": "ecae1dda-fa03-4a1b-a006-9dd1c139a10d",
   "metadata": {},
   "source": [
    "# Inner evaluation"
   ]
  },
  {
   "cell_type": "code",
   "execution_count": 22,
   "id": "29cde6f8-8490-49df-9202-61dca6666e80",
   "metadata": {
    "execution": {
     "iopub.execute_input": "2024-01-15T12:15:55.995450Z",
     "iopub.status.busy": "2024-01-15T12:15:55.994851Z",
     "iopub.status.idle": "2024-01-15T12:15:56.097191Z",
     "shell.execute_reply": "2024-01-15T12:15:56.094911Z",
     "shell.execute_reply.started": "2024-01-15T12:15:55.995390Z"
    }
   },
   "outputs": [
    {
     "name": "stdout",
     "output_type": "stream",
     "text": [
      "Warning!!!! cannot find:  /home/ay/data/DATA/1-model_save/00-Deepfake/1-df-audio/RawNet2/DECRO_english/version_0/test.csv\n"
     ]
    },
    {
     "ename": "AttributeError",
     "evalue": "'NoneType' object has no attribute 'iloc'",
     "output_type": "error",
     "traceback": [
      "\u001b[0;31m---------------------------------------------------------------------------\u001b[0m",
      "\u001b[0;31mAttributeError\u001b[0m                            Traceback (most recent call last)",
      "Cell \u001b[0;32mIn[22], line 1\u001b[0m\n\u001b[0;32m----> 1\u001b[0m data \u001b[38;5;241m=\u001b[39m \u001b[43mdisplay_inner_evaluation\u001b[49m\u001b[43m(\u001b[49m\n\u001b[1;32m      2\u001b[0m \u001b[43m    \u001b[49m\u001b[38;5;66;43;03m# models=[\"Ours/LCNN\", \"Ours/ResNet\", \"Ours/RawNet\", \"Ours/MSFM\"],\u001b[39;49;00m\n\u001b[1;32m      3\u001b[0m \u001b[43m    \u001b[49m\u001b[43mmodels\u001b[49m\u001b[38;5;241;43m=\u001b[39;49m\u001b[43mMODELs\u001b[49m\u001b[43m,\u001b[49m\n\u001b[1;32m      4\u001b[0m \u001b[43m    \u001b[49m\u001b[43mversion\u001b[49m\u001b[38;5;241;43m=\u001b[39;49m\u001b[38;5;241;43m0\u001b[39;49m\u001b[43m,\u001b[49m\n\u001b[1;32m      5\u001b[0m \u001b[43m    \u001b[49m\u001b[43mshow_latex\u001b[49m\u001b[38;5;241;43m=\u001b[39;49m\u001b[38;5;241;43m0\u001b[39;49m\u001b[43m,\u001b[49m\n\u001b[1;32m      6\u001b[0m \u001b[43m)\u001b[49m\n",
      "File \u001b[0;32m~/Coding2/0-Deepfake/2-Audio/0-实验结果/utils.py:60\u001b[0m, in \u001b[0;36mdisplay_inner_evaluation\u001b[0;34m(models, tasks, version, show_latex, metric_prefix)\u001b[0m\n\u001b[1;32m     58\u001b[0m \u001b[38;5;28;01mfor\u001b[39;00m task \u001b[38;5;129;01min\u001b[39;00m tasks:\n\u001b[1;32m     59\u001b[0m     _data \u001b[38;5;241m=\u001b[39m read_test_result(model, task, version, metric_prefix\u001b[38;5;241m=\u001b[39mmetric_prefix)\n\u001b[0;32m---> 60\u001b[0m     res \u001b[38;5;241m=\u001b[39m \u001b[38;5;28mdict\u001b[39m(\u001b[43m_data\u001b[49m\u001b[38;5;241;43m.\u001b[39;49m\u001b[43miloc\u001b[49m[\u001b[38;5;241m0\u001b[39m])\n\u001b[1;32m     61\u001b[0m     res[\u001b[38;5;124m\"\u001b[39m\u001b[38;5;124mmodel\u001b[39m\u001b[38;5;124m\"\u001b[39m] \u001b[38;5;241m=\u001b[39m model\n\u001b[1;32m     62\u001b[0m     res[\u001b[38;5;124m\"\u001b[39m\u001b[38;5;124mtask\u001b[39m\u001b[38;5;124m\"\u001b[39m] \u001b[38;5;241m=\u001b[39m task\n",
      "\u001b[0;31mAttributeError\u001b[0m: 'NoneType' object has no attribute 'iloc'"
     ]
    }
   ],
   "source": [
    "data = display_inner_evaluation(\n",
    "    # models=[\"Ours/LCNN\", \"Ours/ResNet\", \"Ours/RawNet\", \"Ours/MSFM\"],\n",
    "    models=MODELs,\n",
    "    version=0,\n",
    "    show_latex=0,\n",
    ")"
   ]
  },
  {
   "cell_type": "markdown",
   "id": "4f462388-100a-4ad5-8de5-f0cc18fc3138",
   "metadata": {},
   "source": [
    "## Cross method"
   ]
  },
  {
   "cell_type": "code",
   "execution_count": 23,
   "id": "ea8d2340-9b30-4997-bd8b-6b3c9ca7c096",
   "metadata": {
    "execution": {
     "iopub.execute_input": "2024-01-15T12:16:03.266972Z",
     "iopub.status.busy": "2024-01-15T12:16:03.266454Z",
     "iopub.status.idle": "2024-01-15T12:16:03.433933Z",
     "shell.execute_reply": "2024-01-15T12:16:03.432494Z",
     "shell.execute_reply.started": "2024-01-15T12:16:03.266925Z"
    }
   },
   "outputs": [
    {
     "data": {
      "text/html": [
       "<table border=\"1\" class=\"dataframe\">\n",
       "  <thead>\n",
       "    <tr>\n",
       "      <th>dataset</th>\n",
       "      <th colspan=\"5\" halign=\"left\">LibriSeVoc</th>\n",
       "      <th colspan=\"6\" halign=\"left\">wavefake</th>\n",
       "    </tr>\n",
       "    <tr>\n",
       "      <th>method</th>\n",
       "      <th>1</th>\n",
       "      <th>2</th>\n",
       "      <th>3</th>\n",
       "      <th>5</th>\n",
       "      <th>999</th>\n",
       "      <th>1</th>\n",
       "      <th>2</th>\n",
       "      <th>3</th>\n",
       "      <th>4</th>\n",
       "      <th>6</th>\n",
       "      <th>999</th>\n",
       "    </tr>\n",
       "    <tr>\n",
       "      <th>model</th>\n",
       "      <th></th>\n",
       "      <th></th>\n",
       "      <th></th>\n",
       "      <th></th>\n",
       "      <th></th>\n",
       "      <th></th>\n",
       "      <th></th>\n",
       "      <th></th>\n",
       "      <th></th>\n",
       "      <th></th>\n",
       "      <th></th>\n",
       "    </tr>\n",
       "  </thead>\n",
       "  <tbody>\n",
       "    <tr>\n",
       "      <th>AASIST</th>\n",
       "      <td>18.97</td>\n",
       "      <td>19.74</td>\n",
       "      <td>25.44</td>\n",
       "      <td>11.51</td>\n",
       "      <td>18.91</td>\n",
       "      <td>6.60</td>\n",
       "      <td>24.31</td>\n",
       "      <td>15.34</td>\n",
       "      <td>0.11</td>\n",
       "      <td>4.69</td>\n",
       "      <td>10.21</td>\n",
       "    </tr>\n",
       "    <tr>\n",
       "      <th>AudioClip</th>\n",
       "      <td>15.58</td>\n",
       "      <td>27.94</td>\n",
       "      <td>30.29</td>\n",
       "      <td>11.88</td>\n",
       "      <td>21.42</td>\n",
       "      <td>1.26</td>\n",
       "      <td>2.37</td>\n",
       "      <td>5.02</td>\n",
       "      <td>0.08</td>\n",
       "      <td>8.36</td>\n",
       "      <td>3.42</td>\n",
       "    </tr>\n",
       "    <tr>\n",
       "      <th>LCNN</th>\n",
       "      <td>4.28</td>\n",
       "      <td>23.48</td>\n",
       "      <td>19.05</td>\n",
       "      <td>0.80</td>\n",
       "      <td>11.90</td>\n",
       "      <td>0.99</td>\n",
       "      <td>0.88</td>\n",
       "      <td>2.41</td>\n",
       "      <td>0.00</td>\n",
       "      <td>1.33</td>\n",
       "      <td>1.12</td>\n",
       "    </tr>\n",
       "    <tr>\n",
       "      <th>LibriSeVoc</th>\n",
       "      <td>42.58</td>\n",
       "      <td>48.22</td>\n",
       "      <td>49.41</td>\n",
       "      <td>41.77</td>\n",
       "      <td>45.50</td>\n",
       "      <td>49.04</td>\n",
       "      <td>50.87</td>\n",
       "      <td>50.50</td>\n",
       "      <td>5.45</td>\n",
       "      <td>36.06</td>\n",
       "      <td>38.38</td>\n",
       "    </tr>\n",
       "    <tr>\n",
       "      <th>Ours/MSFM</th>\n",
       "      <td>63.92</td>\n",
       "      <td>66.30</td>\n",
       "      <td>67.40</td>\n",
       "      <td>64.52</td>\n",
       "      <td>65.53</td>\n",
       "      <td>88.15</td>\n",
       "      <td>87.18</td>\n",
       "      <td>87.33</td>\n",
       "      <td>81.18</td>\n",
       "      <td>87.25</td>\n",
       "      <td>86.22</td>\n",
       "    </tr>\n",
       "    <tr>\n",
       "      <th>RawNet2</th>\n",
       "      <td>44.79</td>\n",
       "      <td>48.91</td>\n",
       "      <td>51.38</td>\n",
       "      <td>42.53</td>\n",
       "      <td>46.90</td>\n",
       "      <td>36.49</td>\n",
       "      <td>40.02</td>\n",
       "      <td>43.40</td>\n",
       "      <td>3.71</td>\n",
       "      <td>23.32</td>\n",
       "      <td>29.39</td>\n",
       "    </tr>\n",
       "    <tr>\n",
       "      <th>Wav2Clip</th>\n",
       "      <td>11.42</td>\n",
       "      <td>33.66</td>\n",
       "      <td>28.29</td>\n",
       "      <td>30.94</td>\n",
       "      <td>26.07</td>\n",
       "      <td>0.77</td>\n",
       "      <td>0.49</td>\n",
       "      <td>2.71</td>\n",
       "      <td>0.00</td>\n",
       "      <td>1.11</td>\n",
       "      <td>1.02</td>\n",
       "    </tr>\n",
       "    <tr>\n",
       "      <th>Wave2Vec2</th>\n",
       "      <td>17.20</td>\n",
       "      <td>11.26</td>\n",
       "      <td>27.13</td>\n",
       "      <td>27.00</td>\n",
       "      <td>20.65</td>\n",
       "      <td>25.50</td>\n",
       "      <td>37.61</td>\n",
       "      <td>36.29</td>\n",
       "      <td>0.50</td>\n",
       "      <td>7.09</td>\n",
       "      <td>21.40</td>\n",
       "    </tr>\n",
       "    <tr>\n",
       "      <th>WaveLM</th>\n",
       "      <td>17.83</td>\n",
       "      <td>12.80</td>\n",
       "      <td>29.16</td>\n",
       "      <td>28.40</td>\n",
       "      <td>22.05</td>\n",
       "      <td>19.27</td>\n",
       "      <td>34.35</td>\n",
       "      <td>33.09</td>\n",
       "      <td>1.31</td>\n",
       "      <td>3.34</td>\n",
       "      <td>18.27</td>\n",
       "    </tr>\n",
       "  </tbody>\n",
       "</table>"
      ],
      "text/plain": [
       "<IPython.core.display.HTML object>"
      ]
     },
     "metadata": {},
     "output_type": "display_data"
    }
   ],
   "source": [
    "display_cross_method_evaluation(\n",
    "    models=MODELs,\n",
    "    version=0,\n",
    "    show_latex=0,\n",
    ")"
   ]
  },
  {
   "cell_type": "markdown",
   "id": "2ebead39-b2f3-46a7-aa9d-0bb291fa5b6f",
   "metadata": {},
   "source": [
    "## Cross Dataset"
   ]
  },
  {
   "cell_type": "code",
   "execution_count": 17,
   "id": "6f4d59e5-db72-48f1-a2f8-7c7726c6a813",
   "metadata": {
    "execution": {
     "iopub.execute_input": "2024-01-15T09:26:31.265775Z",
     "iopub.status.busy": "2024-01-15T09:26:31.265223Z",
     "iopub.status.idle": "2024-01-15T09:26:31.368644Z",
     "shell.execute_reply": "2024-01-15T09:26:31.359294Z",
     "shell.execute_reply.started": "2024-01-15T09:26:31.265711Z"
    },
    "scrolled": true
   },
   "outputs": [
    {
     "name": "stdout",
     "output_type": "stream",
     "text": [
      "Warning!!!! cannot find:  /home/ay/data/DATA/1-model_save/00-Deepfake/1-df-audio/RawNet2/LibriSeVoc_cross_dataset/version_0/test.csv\n",
      "Warning!!!! cannot find:  /home/ay/data/DATA/1-model_save/00-Deepfake/1-df-audio/LibriSeVoc/LibriSeVoc_cross_dataset/version_0/test.csv\n"
     ]
    },
    {
     "data": {
      "text/html": [
       "<table border=\"1\" class=\"dataframe\">\n",
       "  <thead>\n",
       "    <tr style=\"text-align: right;\">\n",
       "      <th>method</th>\n",
       "      <th>0</th>\n",
       "      <th>1</th>\n",
       "      <th>2</th>\n",
       "      <th>avg</th>\n",
       "    </tr>\n",
       "    <tr>\n",
       "      <th>model</th>\n",
       "      <th></th>\n",
       "      <th></th>\n",
       "      <th></th>\n",
       "      <th></th>\n",
       "    </tr>\n",
       "  </thead>\n",
       "  <tbody>\n",
       "    <tr>\n",
       "      <th>AASIST</th>\n",
       "      <td>12.61</td>\n",
       "      <td>31.10</td>\n",
       "      <td>25.32</td>\n",
       "      <td>23.01</td>\n",
       "    </tr>\n",
       "    <tr>\n",
       "      <th>AudioClip</th>\n",
       "      <td>37.64</td>\n",
       "      <td>29.71</td>\n",
       "      <td>38.24</td>\n",
       "      <td>35.20</td>\n",
       "    </tr>\n",
       "    <tr>\n",
       "      <th>LCNN</th>\n",
       "      <td>53.78</td>\n",
       "      <td>43.91</td>\n",
       "      <td>34.59</td>\n",
       "      <td>44.09</td>\n",
       "    </tr>\n",
       "    <tr>\n",
       "      <th>Wav2Clip</th>\n",
       "      <td>53.61</td>\n",
       "      <td>47.44</td>\n",
       "      <td>25.98</td>\n",
       "      <td>42.34</td>\n",
       "    </tr>\n",
       "    <tr>\n",
       "      <th>Wave2Vec2</th>\n",
       "      <td>24.32</td>\n",
       "      <td>26.70</td>\n",
       "      <td>33.52</td>\n",
       "      <td>28.18</td>\n",
       "    </tr>\n",
       "    <tr>\n",
       "      <th>WaveLM</th>\n",
       "      <td>25.23</td>\n",
       "      <td>23.27</td>\n",
       "      <td>38.35</td>\n",
       "      <td>28.95</td>\n",
       "    </tr>\n",
       "  </tbody>\n",
       "</table>"
      ],
      "text/plain": [
       "<IPython.core.display.HTML object>"
      ]
     },
     "metadata": {},
     "output_type": "display_data"
    }
   ],
   "source": [
    "display_cross_dataset_evaluation(\n",
    "    models=MODELs,\n",
    "    version=0,\n",
    "    show_latex=0,\n",
    ")"
   ]
  },
  {
   "cell_type": "markdown",
   "id": "960abcc3-8ce5-4bce-8e8b-3e0e1b40ba24",
   "metadata": {},
   "source": [
    "## Cross Language"
   ]
  },
  {
   "cell_type": "code",
   "execution_count": 25,
   "id": "98a94c6c-77a4-4bd5-92e2-df24e180c33a",
   "metadata": {
    "execution": {
     "iopub.execute_input": "2024-01-15T12:20:31.874247Z",
     "iopub.status.busy": "2024-01-15T12:20:31.873881Z",
     "iopub.status.idle": "2024-01-15T12:20:32.336403Z",
     "shell.execute_reply": "2024-01-15T12:20:32.334249Z",
     "shell.execute_reply.started": "2024-01-15T12:20:31.874211Z"
    },
    "scrolled": true
   },
   "outputs": [
    {
     "name": "stdout",
     "output_type": "stream",
     "text": [
      "Warning!!!! cannot find:  /home/ay/data/DATA/1-model_save/00-Deepfake/1-df-audio/RawNet2/DECRO_english/version_0/test.csv\n",
      "Warning!!!! cannot find:  /home/ay/data/DATA/1-model_save/00-Deepfake/1-df-audio/LibriSeVoc/DECRO_english/version_0/test.csv\n"
     ]
    },
    {
     "ename": "TypeError",
     "evalue": "eval() arg 1 must be a string, bytes or code object",
     "output_type": "error",
     "traceback": [
      "\u001b[0;31m---------------------------------------------------------------------------\u001b[0m",
      "\u001b[0;31mTypeError\u001b[0m                                 Traceback (most recent call last)",
      "Cell \u001b[0;32mIn[25], line 1\u001b[0m\n\u001b[0;32m----> 1\u001b[0m data \u001b[38;5;241m=\u001b[39m \u001b[43mdisplay_cross_language_evaluation\u001b[49m\u001b[43m(\u001b[49m\n\u001b[1;32m      2\u001b[0m \u001b[43m    \u001b[49m\u001b[43mmodels\u001b[49m\u001b[38;5;241;43m=\u001b[39;49m\u001b[43mMODELs\u001b[49m\u001b[43m,\u001b[49m\n\u001b[1;32m      3\u001b[0m \u001b[43m    \u001b[49m\u001b[43mversion\u001b[49m\u001b[38;5;241;43m=\u001b[39;49m\u001b[38;5;241;43m0\u001b[39;49m\u001b[43m,\u001b[49m\n\u001b[1;32m      4\u001b[0m \u001b[43m    \u001b[49m\u001b[43mshow_latex\u001b[49m\u001b[38;5;241;43m=\u001b[39;49m\u001b[38;5;241;43m0\u001b[39;49m\u001b[43m,\u001b[49m\n\u001b[1;32m      5\u001b[0m \u001b[43m)\u001b[49m\n",
      "File \u001b[0;32m~/Coding2/0-Deepfake/2-Audio/0-实验结果/utils.py:201\u001b[0m, in \u001b[0;36mdisplay_cross_language_evaluation\u001b[0;34m(models, tasks, version, show_latex, metric_prefix)\u001b[0m\n\u001b[1;32m    197\u001b[0m data \u001b[38;5;241m=\u001b[39m data\u001b[38;5;241m.\u001b[39mrename_axis(\u001b[38;5;28;01mNone\u001b[39;00m, axis\u001b[38;5;241m=\u001b[39m\u001b[38;5;241m1\u001b[39m)\u001b[38;5;241m.\u001b[39mreset_index()\u001b[38;5;241m.\u001b[39mset_index(\u001b[38;5;124m'\u001b[39m\u001b[38;5;124mmodel\u001b[39m\u001b[38;5;124m'\u001b[39m)\n\u001b[1;32m    198\u001b[0m data \u001b[38;5;241m=\u001b[39m data[tasks]\n\u001b[0;32m--> 201\u001b[0m data[\u001b[38;5;124m'\u001b[39m\u001b[38;5;124mavg\u001b[39m\u001b[38;5;124m'\u001b[39m] \u001b[38;5;241m=\u001b[39m \u001b[43mdata\u001b[49m\u001b[38;5;241;43m.\u001b[39;49m\u001b[43mapply\u001b[49m\u001b[43m(\u001b[49m\u001b[38;5;28;43;01mlambda\u001b[39;49;00m\u001b[43m \u001b[49m\u001b[43mx\u001b[49m\u001b[43m:\u001b[49m\u001b[43m \u001b[49m\u001b[38;5;124;43m\"\u001b[39;49m\u001b[38;5;132;43;01m{:.2f}\u001b[39;49;00m\u001b[38;5;124;43m\"\u001b[39;49m\u001b[38;5;241;43m.\u001b[39;49m\u001b[43mformat\u001b[49m\u001b[43m(\u001b[49m\u001b[38;5;28;43msum\u001b[39;49m\u001b[43m(\u001b[49m\u001b[38;5;28;43meval\u001b[39;49m\u001b[43m(\u001b[49m\u001b[43mx\u001b[49m\u001b[43m[\u001b[49m\u001b[43mi\u001b[49m\u001b[43m]\u001b[49m\u001b[43m)\u001b[49m\u001b[43m \u001b[49m\u001b[38;5;28;43;01mfor\u001b[39;49;00m\u001b[43m \u001b[49m\u001b[43mi\u001b[49m\u001b[43m \u001b[49m\u001b[38;5;129;43;01min\u001b[39;49;00m\u001b[43m \u001b[49m\u001b[43mdata\u001b[49m\u001b[38;5;241;43m.\u001b[39;49m\u001b[43mcolumns\u001b[49m\u001b[43m)\u001b[49m\u001b[43m \u001b[49m\u001b[38;5;241;43m/\u001b[39;49m\u001b[43m \u001b[49m\u001b[38;5;241;43m3\u001b[39;49m\u001b[43m)\u001b[49m\u001b[43m,\u001b[49m\u001b[43m \u001b[49m\u001b[43maxis\u001b[49m\u001b[38;5;241;43m=\u001b[39;49m\u001b[38;5;241;43m1\u001b[39;49m\u001b[43m)\u001b[49m\n\u001b[1;32m    203\u001b[0m display(HTML(data\u001b[38;5;241m.\u001b[39mto_html()))\n\u001b[1;32m    204\u001b[0m \u001b[38;5;28;01mif\u001b[39;00m show_latex:\n",
      "File \u001b[0;32m~/anaconda3/envs/torch/lib/python3.9/site-packages/pandas/core/frame.py:10034\u001b[0m, in \u001b[0;36mDataFrame.apply\u001b[0;34m(self, func, axis, raw, result_type, args, by_row, **kwargs)\u001b[0m\n\u001b[1;32m  10022\u001b[0m \u001b[38;5;28;01mfrom\u001b[39;00m \u001b[38;5;21;01mpandas\u001b[39;00m\u001b[38;5;21;01m.\u001b[39;00m\u001b[38;5;21;01mcore\u001b[39;00m\u001b[38;5;21;01m.\u001b[39;00m\u001b[38;5;21;01mapply\u001b[39;00m \u001b[38;5;28;01mimport\u001b[39;00m frame_apply\n\u001b[1;32m  10024\u001b[0m op \u001b[38;5;241m=\u001b[39m frame_apply(\n\u001b[1;32m  10025\u001b[0m     \u001b[38;5;28mself\u001b[39m,\n\u001b[1;32m  10026\u001b[0m     func\u001b[38;5;241m=\u001b[39mfunc,\n\u001b[0;32m   (...)\u001b[0m\n\u001b[1;32m  10032\u001b[0m     kwargs\u001b[38;5;241m=\u001b[39mkwargs,\n\u001b[1;32m  10033\u001b[0m )\n\u001b[0;32m> 10034\u001b[0m \u001b[38;5;28;01mreturn\u001b[39;00m \u001b[43mop\u001b[49m\u001b[38;5;241;43m.\u001b[39;49m\u001b[43mapply\u001b[49m\u001b[43m(\u001b[49m\u001b[43m)\u001b[49m\u001b[38;5;241m.\u001b[39m__finalize__(\u001b[38;5;28mself\u001b[39m, method\u001b[38;5;241m=\u001b[39m\u001b[38;5;124m\"\u001b[39m\u001b[38;5;124mapply\u001b[39m\u001b[38;5;124m\"\u001b[39m)\n",
      "File \u001b[0;32m~/anaconda3/envs/torch/lib/python3.9/site-packages/pandas/core/apply.py:837\u001b[0m, in \u001b[0;36mFrameApply.apply\u001b[0;34m(self)\u001b[0m\n\u001b[1;32m    834\u001b[0m \u001b[38;5;28;01melif\u001b[39;00m \u001b[38;5;28mself\u001b[39m\u001b[38;5;241m.\u001b[39mraw:\n\u001b[1;32m    835\u001b[0m     \u001b[38;5;28;01mreturn\u001b[39;00m \u001b[38;5;28mself\u001b[39m\u001b[38;5;241m.\u001b[39mapply_raw()\n\u001b[0;32m--> 837\u001b[0m \u001b[38;5;28;01mreturn\u001b[39;00m \u001b[38;5;28;43mself\u001b[39;49m\u001b[38;5;241;43m.\u001b[39;49m\u001b[43mapply_standard\u001b[49m\u001b[43m(\u001b[49m\u001b[43m)\u001b[49m\n",
      "File \u001b[0;32m~/anaconda3/envs/torch/lib/python3.9/site-packages/pandas/core/apply.py:963\u001b[0m, in \u001b[0;36mFrameApply.apply_standard\u001b[0;34m(self)\u001b[0m\n\u001b[1;32m    962\u001b[0m \u001b[38;5;28;01mdef\u001b[39;00m \u001b[38;5;21mapply_standard\u001b[39m(\u001b[38;5;28mself\u001b[39m):\n\u001b[0;32m--> 963\u001b[0m     results, res_index \u001b[38;5;241m=\u001b[39m \u001b[38;5;28;43mself\u001b[39;49m\u001b[38;5;241;43m.\u001b[39;49m\u001b[43mapply_series_generator\u001b[49m\u001b[43m(\u001b[49m\u001b[43m)\u001b[49m\n\u001b[1;32m    965\u001b[0m     \u001b[38;5;66;03m# wrap results\u001b[39;00m\n\u001b[1;32m    966\u001b[0m     \u001b[38;5;28;01mreturn\u001b[39;00m \u001b[38;5;28mself\u001b[39m\u001b[38;5;241m.\u001b[39mwrap_results(results, res_index)\n",
      "File \u001b[0;32m~/anaconda3/envs/torch/lib/python3.9/site-packages/pandas/core/apply.py:979\u001b[0m, in \u001b[0;36mFrameApply.apply_series_generator\u001b[0;34m(self)\u001b[0m\n\u001b[1;32m    976\u001b[0m \u001b[38;5;28;01mwith\u001b[39;00m option_context(\u001b[38;5;124m\"\u001b[39m\u001b[38;5;124mmode.chained_assignment\u001b[39m\u001b[38;5;124m\"\u001b[39m, \u001b[38;5;28;01mNone\u001b[39;00m):\n\u001b[1;32m    977\u001b[0m     \u001b[38;5;28;01mfor\u001b[39;00m i, v \u001b[38;5;129;01min\u001b[39;00m \u001b[38;5;28menumerate\u001b[39m(series_gen):\n\u001b[1;32m    978\u001b[0m         \u001b[38;5;66;03m# ignore SettingWithCopy here in case the user mutates\u001b[39;00m\n\u001b[0;32m--> 979\u001b[0m         results[i] \u001b[38;5;241m=\u001b[39m \u001b[38;5;28;43mself\u001b[39;49m\u001b[38;5;241;43m.\u001b[39;49m\u001b[43mfunc\u001b[49m\u001b[43m(\u001b[49m\u001b[43mv\u001b[49m\u001b[43m,\u001b[49m\u001b[43m \u001b[49m\u001b[38;5;241;43m*\u001b[39;49m\u001b[38;5;28;43mself\u001b[39;49m\u001b[38;5;241;43m.\u001b[39;49m\u001b[43margs\u001b[49m\u001b[43m,\u001b[49m\u001b[43m \u001b[49m\u001b[38;5;241;43m*\u001b[39;49m\u001b[38;5;241;43m*\u001b[39;49m\u001b[38;5;28;43mself\u001b[39;49m\u001b[38;5;241;43m.\u001b[39;49m\u001b[43mkwargs\u001b[49m\u001b[43m)\u001b[49m\n\u001b[1;32m    980\u001b[0m         \u001b[38;5;28;01mif\u001b[39;00m \u001b[38;5;28misinstance\u001b[39m(results[i], ABCSeries):\n\u001b[1;32m    981\u001b[0m             \u001b[38;5;66;03m# If we have a view on v, we need to make a copy because\u001b[39;00m\n\u001b[1;32m    982\u001b[0m             \u001b[38;5;66;03m#  series_generator will swap out the underlying data\u001b[39;00m\n\u001b[1;32m    983\u001b[0m             results[i] \u001b[38;5;241m=\u001b[39m results[i]\u001b[38;5;241m.\u001b[39mcopy(deep\u001b[38;5;241m=\u001b[39m\u001b[38;5;28;01mFalse\u001b[39;00m)\n",
      "File \u001b[0;32m~/Coding2/0-Deepfake/2-Audio/0-实验结果/utils.py:201\u001b[0m, in \u001b[0;36mdisplay_cross_language_evaluation.<locals>.<lambda>\u001b[0;34m(x)\u001b[0m\n\u001b[1;32m    197\u001b[0m data \u001b[38;5;241m=\u001b[39m data\u001b[38;5;241m.\u001b[39mrename_axis(\u001b[38;5;28;01mNone\u001b[39;00m, axis\u001b[38;5;241m=\u001b[39m\u001b[38;5;241m1\u001b[39m)\u001b[38;5;241m.\u001b[39mreset_index()\u001b[38;5;241m.\u001b[39mset_index(\u001b[38;5;124m'\u001b[39m\u001b[38;5;124mmodel\u001b[39m\u001b[38;5;124m'\u001b[39m)\n\u001b[1;32m    198\u001b[0m data \u001b[38;5;241m=\u001b[39m data[tasks]\n\u001b[0;32m--> 201\u001b[0m data[\u001b[38;5;124m'\u001b[39m\u001b[38;5;124mavg\u001b[39m\u001b[38;5;124m'\u001b[39m] \u001b[38;5;241m=\u001b[39m data\u001b[38;5;241m.\u001b[39mapply(\u001b[38;5;28;01mlambda\u001b[39;00m x: \u001b[38;5;124m\"\u001b[39m\u001b[38;5;132;01m{:.2f}\u001b[39;00m\u001b[38;5;124m\"\u001b[39m\u001b[38;5;241m.\u001b[39mformat(\u001b[38;5;28;43msum\u001b[39;49m\u001b[43m(\u001b[49m\u001b[38;5;28;43meval\u001b[39;49m\u001b[43m(\u001b[49m\u001b[43mx\u001b[49m\u001b[43m[\u001b[49m\u001b[43mi\u001b[49m\u001b[43m]\u001b[49m\u001b[43m)\u001b[49m\u001b[43m \u001b[49m\u001b[38;5;28;43;01mfor\u001b[39;49;00m\u001b[43m \u001b[49m\u001b[43mi\u001b[49m\u001b[43m \u001b[49m\u001b[38;5;129;43;01min\u001b[39;49;00m\u001b[43m \u001b[49m\u001b[43mdata\u001b[49m\u001b[38;5;241;43m.\u001b[39;49m\u001b[43mcolumns\u001b[49m\u001b[43m)\u001b[49m \u001b[38;5;241m/\u001b[39m \u001b[38;5;241m3\u001b[39m), axis\u001b[38;5;241m=\u001b[39m\u001b[38;5;241m1\u001b[39m)\n\u001b[1;32m    203\u001b[0m display(HTML(data\u001b[38;5;241m.\u001b[39mto_html()))\n\u001b[1;32m    204\u001b[0m \u001b[38;5;28;01mif\u001b[39;00m show_latex:\n",
      "File \u001b[0;32m~/Coding2/0-Deepfake/2-Audio/0-实验结果/utils.py:201\u001b[0m, in \u001b[0;36m<genexpr>\u001b[0;34m(.0)\u001b[0m\n\u001b[1;32m    197\u001b[0m data \u001b[38;5;241m=\u001b[39m data\u001b[38;5;241m.\u001b[39mrename_axis(\u001b[38;5;28;01mNone\u001b[39;00m, axis\u001b[38;5;241m=\u001b[39m\u001b[38;5;241m1\u001b[39m)\u001b[38;5;241m.\u001b[39mreset_index()\u001b[38;5;241m.\u001b[39mset_index(\u001b[38;5;124m'\u001b[39m\u001b[38;5;124mmodel\u001b[39m\u001b[38;5;124m'\u001b[39m)\n\u001b[1;32m    198\u001b[0m data \u001b[38;5;241m=\u001b[39m data[tasks]\n\u001b[0;32m--> 201\u001b[0m data[\u001b[38;5;124m'\u001b[39m\u001b[38;5;124mavg\u001b[39m\u001b[38;5;124m'\u001b[39m] \u001b[38;5;241m=\u001b[39m data\u001b[38;5;241m.\u001b[39mapply(\u001b[38;5;28;01mlambda\u001b[39;00m x: \u001b[38;5;124m\"\u001b[39m\u001b[38;5;132;01m{:.2f}\u001b[39;00m\u001b[38;5;124m\"\u001b[39m\u001b[38;5;241m.\u001b[39mformat(\u001b[38;5;28msum\u001b[39m(\u001b[38;5;28;43meval\u001b[39;49m\u001b[43m(\u001b[49m\u001b[43mx\u001b[49m\u001b[43m[\u001b[49m\u001b[43mi\u001b[49m\u001b[43m]\u001b[49m\u001b[43m)\u001b[49m \u001b[38;5;28;01mfor\u001b[39;00m i \u001b[38;5;129;01min\u001b[39;00m data\u001b[38;5;241m.\u001b[39mcolumns) \u001b[38;5;241m/\u001b[39m \u001b[38;5;241m3\u001b[39m), axis\u001b[38;5;241m=\u001b[39m\u001b[38;5;241m1\u001b[39m)\n\u001b[1;32m    203\u001b[0m display(HTML(data\u001b[38;5;241m.\u001b[39mto_html()))\n\u001b[1;32m    204\u001b[0m \u001b[38;5;28;01mif\u001b[39;00m show_latex:\n",
      "\u001b[0;31mTypeError\u001b[0m: eval() arg 1 must be a string, bytes or code object"
     ]
    }
   ],
   "source": [
    "data = display_cross_language_evaluation(\n",
    "    models=MODELs,\n",
    "    version=0,\n",
    "    show_latex=0,\n",
    ")"
   ]
  }
 ],
 "metadata": {
  "kernelspec": {
   "display_name": "Python 3 (ipykernel)",
   "language": "python",
   "name": "python3"
  },
  "language_info": {
   "codemirror_mode": {
    "name": "ipython",
    "version": 3
   },
   "file_extension": ".py",
   "mimetype": "text/x-python",
   "name": "python",
   "nbconvert_exporter": "python",
   "pygments_lexer": "ipython3",
   "version": "3.9.18"
  }
 },
 "nbformat": 4,
 "nbformat_minor": 5
}
