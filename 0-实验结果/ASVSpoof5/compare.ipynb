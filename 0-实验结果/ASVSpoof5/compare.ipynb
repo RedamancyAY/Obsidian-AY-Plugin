{
 "cells": [
  {
   "cell_type": "code",
   "execution_count": 1,
   "metadata": {},
   "outputs": [],
   "source": [
    "%load_ext autoreload\n",
    "%autoreload 2"
   ]
  },
  {
   "cell_type": "code",
   "execution_count": 2,
   "metadata": {},
   "outputs": [],
   "source": [
    "import numpy as np\n",
    "import pandas as pd"
   ]
  },
  {
   "cell_type": "code",
   "execution_count": 8,
   "metadata": {},
   "outputs": [],
   "source": [
    "from utils import read_test_results, concat_metrics"
   ]
  },
  {
   "cell_type": "code",
   "execution_count": 4,
   "metadata": {},
   "outputs": [],
   "source": [
    "MODELs_VERSIONS = {\n",
    "    \"AASIST\" : 0,\n",
    "    \"LCNN\" : 0,\n",
    "    \"RawNet2\" : 0,\n",
    "    \"Wave2Vec2\" : 0,\n",
    "    \"WaveLM\" : 0,\n",
    "    \"LibriSeVoc\" : 0,\n",
    "    \"Wav2Clip\" : 0,\n",
    "    \"AudioClip\" : 0,\n",
    "    \"RawGAT\" : 0,\n",
    "    \"ASDG\" : 0,\n",
    "    \"SFATNet\" : 0,\n",
    "    \"ABCNet\" : 0,\n",
    "    \"MPE_LCNN\" : 0,\n",
    "}"
   ]
  },
  {
   "cell_type": "markdown",
   "metadata": {},
   "source": [
    "# Inner Evaluation"
   ]
  },
  {
   "cell_type": "markdown",
   "metadata": {},
   "source": [
    "In this evaluation, we train the models on the full training set and evaluate them on the:\n",
    "1. dev set\n",
    "2. test set\n",
    "3. combined [dev, test] set"
   ]
  },
  {
   "cell_type": "code",
   "execution_count": 7,
   "metadata": {},
   "outputs": [],
   "source": [
    "model_versions = MODELs_VERSIONS.copy()\n",
    "models = model_versions.keys()\n",
    "versions = model_versions.values()"
   ]
  },
  {
   "cell_type": "code",
   "execution_count": 14,
   "metadata": {},
   "outputs": [
    {
     "data": {
      "text/html": [
       "<div>\n",
       "<style scoped>\n",
       "    .dataframe tbody tr th:only-of-type {\n",
       "        vertical-align: middle;\n",
       "    }\n",
       "\n",
       "    .dataframe tbody tr th {\n",
       "        vertical-align: top;\n",
       "    }\n",
       "\n",
       "    .dataframe thead th {\n",
       "        text-align: right;\n",
       "    }\n",
       "</style>\n",
       "<table border=\"1\" class=\"dataframe\">\n",
       "  <thead>\n",
       "    <tr style=\"text-align: right;\">\n",
       "      <th></th>\n",
       "      <th>models</th>\n",
       "      <th>dev</th>\n",
       "      <th>test</th>\n",
       "      <th>dev+test</th>\n",
       "    </tr>\n",
       "  </thead>\n",
       "  <tbody>\n",
       "    <tr>\n",
       "      <th>0</th>\n",
       "      <td>AASIST</td>\n",
       "      <td>23.5317/75.7826/29.5678</td>\n",
       "      <td>21.6252/73.0984/33.5441</td>\n",
       "      <td>21.9523/73.4300/33.0961</td>\n",
       "    </tr>\n",
       "    <tr>\n",
       "      <th>1</th>\n",
       "      <td>ABCNet</td>\n",
       "      <td>25.2614/79.7087/25.9722</td>\n",
       "      <td>21.5414/64.3201/39.5167</td>\n",
       "      <td>22.1795/67.2911/37.1663</td>\n",
       "    </tr>\n",
       "    <tr>\n",
       "      <th>2</th>\n",
       "      <td>ASDG</td>\n",
       "      <td>32.6953/89.0993/18.6024</td>\n",
       "      <td>23.5213/69.8494/35.9970</td>\n",
       "      <td>25.0949/73.8330/32.7727</td>\n",
       "    </tr>\n",
       "    <tr>\n",
       "      <th>3</th>\n",
       "      <td>AudioClip</td>\n",
       "      <td>31.3288/87.3627/19.5875</td>\n",
       "      <td>25.4964/66.9628/36.9347</td>\n",
       "      <td>26.4969/70.7435/33.8968</td>\n",
       "    </tr>\n",
       "    <tr>\n",
       "      <th>4</th>\n",
       "      <td>LCNN</td>\n",
       "      <td>36.1135/88.4168/14.7843</td>\n",
       "      <td>22.7331/66.6488/38.5411</td>\n",
       "      <td>25.0282/71.3465/34.5602</td>\n",
       "    </tr>\n",
       "    <tr>\n",
       "      <th>5</th>\n",
       "      <td>LibriSeVoc</td>\n",
       "      <td>34.7627/69.5669/33.8035</td>\n",
       "      <td>29.3564/68.3278/36.3149</td>\n",
       "      <td>30.2838/68.5172/35.9420</td>\n",
       "    </tr>\n",
       "    <tr>\n",
       "      <th>6</th>\n",
       "      <td>MPE_LCNN</td>\n",
       "      <td>77.3267/84.9020/18.2984</td>\n",
       "      <td>56.4089/74.8466/31.7857</td>\n",
       "      <td>59.9969/77.4580/29.2403</td>\n",
       "    </tr>\n",
       "    <tr>\n",
       "      <th>7</th>\n",
       "      <td>RawGAT</td>\n",
       "      <td>23.4353/74.6625/29.3214</td>\n",
       "      <td>21.4845/78.1168/28.1913</td>\n",
       "      <td>21.8191/77.5736/28.3163</td>\n",
       "    </tr>\n",
       "    <tr>\n",
       "      <th>8</th>\n",
       "      <td>RawNet2</td>\n",
       "      <td>45.1912/69.2105/33.7478</td>\n",
       "      <td>34.8992/66.0689/38.8451</td>\n",
       "      <td>36.6646/66.7188/38.0104</td>\n",
       "    </tr>\n",
       "    <tr>\n",
       "      <th>9</th>\n",
       "      <td>SFATNet</td>\n",
       "      <td>45.9447/86.7533/18.8139</td>\n",
       "      <td>52.8598/67.1034/38.4144</td>\n",
       "      <td>51.6737/70.0264/35.7218</td>\n",
       "    </tr>\n",
       "    <tr>\n",
       "      <th>10</th>\n",
       "      <td>Wav2Clip</td>\n",
       "      <td>85.3941/90.4322/13.6522</td>\n",
       "      <td>76.6381/67.6378/36.4335</td>\n",
       "      <td>78.1365/69.7671/36.0175</td>\n",
       "    </tr>\n",
       "    <tr>\n",
       "      <th>11</th>\n",
       "      <td>Wave2Vec2</td>\n",
       "      <td>25.9858/74.3152/32.7791</td>\n",
       "      <td>24.4674/71.2666/35.0658</td>\n",
       "      <td>24.7279/71.7570/34.7377</td>\n",
       "    </tr>\n",
       "    <tr>\n",
       "      <th>12</th>\n",
       "      <td>WaveLM</td>\n",
       "      <td>77.7694/57.9734/43.4565</td>\n",
       "      <td>79.6279/59.5378/42.8960</td>\n",
       "      <td>79.3091/59.2265/43.0535</td>\n",
       "    </tr>\n",
       "  </tbody>\n",
       "</table>\n",
       "</div>"
      ],
      "text/plain": [
       "        models                      dev                     test  \\\n",
       "0       AASIST  23.5317/75.7826/29.5678  21.6252/73.0984/33.5441   \n",
       "1       ABCNet  25.2614/79.7087/25.9722  21.5414/64.3201/39.5167   \n",
       "2         ASDG  32.6953/89.0993/18.6024  23.5213/69.8494/35.9970   \n",
       "3    AudioClip  31.3288/87.3627/19.5875  25.4964/66.9628/36.9347   \n",
       "4         LCNN  36.1135/88.4168/14.7843  22.7331/66.6488/38.5411   \n",
       "5   LibriSeVoc  34.7627/69.5669/33.8035  29.3564/68.3278/36.3149   \n",
       "6     MPE_LCNN  77.3267/84.9020/18.2984  56.4089/74.8466/31.7857   \n",
       "7       RawGAT  23.4353/74.6625/29.3214  21.4845/78.1168/28.1913   \n",
       "8      RawNet2  45.1912/69.2105/33.7478  34.8992/66.0689/38.8451   \n",
       "9      SFATNet  45.9447/86.7533/18.8139  52.8598/67.1034/38.4144   \n",
       "10    Wav2Clip  85.3941/90.4322/13.6522  76.6381/67.6378/36.4335   \n",
       "11   Wave2Vec2  25.9858/74.3152/32.7791  24.4674/71.2666/35.0658   \n",
       "12      WaveLM  77.7694/57.9734/43.4565  79.6279/59.5378/42.8960   \n",
       "\n",
       "                   dev+test  \n",
       "0   21.9523/73.4300/33.0961  \n",
       "1   22.1795/67.2911/37.1663  \n",
       "2   25.0949/73.8330/32.7727  \n",
       "3   26.4969/70.7435/33.8968  \n",
       "4   25.0282/71.3465/34.5602  \n",
       "5   30.2838/68.5172/35.9420  \n",
       "6   59.9969/77.4580/29.2403  \n",
       "7   21.8191/77.5736/28.3163  \n",
       "8   36.6646/66.7188/38.0104  \n",
       "9   51.6737/70.0264/35.7218  \n",
       "10  78.1365/69.7671/36.0175  \n",
       "11  24.7279/71.7570/34.7377  \n",
       "12  79.3091/59.2265/43.0535  "
      ]
     },
     "execution_count": 14,
     "metadata": {},
     "output_type": "execute_result"
    }
   ],
   "source": [
    "data = read_test_results(models=models, versions=versions, task='ASVSpoof5')\n",
    "data['res'] = concat_metrics(data, ['test-acc', 'test-auc', 'test-eer'], decimals=4)\n",
    "data = data.pivot(index='id', columns='column', values='res').reset_index()\n",
    "data.columns = ['models', 'dev', 'test', 'dev+test']\n",
    "data"
   ]
  }
 ],
 "metadata": {
  "kernelspec": {
   "display_name": "base",
   "language": "python",
   "name": "python3"
  },
  "language_info": {
   "codemirror_mode": {
    "name": "ipython",
    "version": 3
   },
   "file_extension": ".py",
   "mimetype": "text/x-python",
   "name": "python",
   "nbconvert_exporter": "python",
   "pygments_lexer": "ipython3",
   "version": "3.11.5"
  }
 },
 "nbformat": 4,
 "nbformat_minor": 2
}
