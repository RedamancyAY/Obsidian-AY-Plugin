{
 "cells": [
  {
   "cell_type": "code",
   "execution_count": 9,
   "id": "30a7cc37-ef52-4811-babc-a485a15ccefd",
   "metadata": {
    "execution": {
     "iopub.execute_input": "2024-01-15T12:18:14.427673Z",
     "iopub.status.busy": "2024-01-15T12:18:14.426873Z",
     "iopub.status.idle": "2024-01-15T12:18:14.468376Z",
     "shell.execute_reply": "2024-01-15T12:18:14.466713Z",
     "shell.execute_reply.started": "2024-01-15T12:18:14.427586Z"
    }
   },
   "outputs": [
    {
     "name": "stdout",
     "output_type": "stream",
     "text": [
      "The autoreload extension is already loaded. To reload it, use:\n",
      "  %reload_ext autoreload\n"
     ]
    }
   ],
   "source": [
    "%load_ext autoreload\n",
    "%autoreload 2"
   ]
  },
  {
   "cell_type": "code",
   "execution_count": 10,
   "id": "95263c55-3c74-413c-8166-c8410400993e",
   "metadata": {
    "execution": {
     "iopub.execute_input": "2024-01-15T12:18:15.134033Z",
     "iopub.status.busy": "2024-01-15T12:18:15.133342Z",
     "iopub.status.idle": "2024-01-15T12:18:15.164340Z",
     "shell.execute_reply": "2024-01-15T12:18:15.162377Z",
     "shell.execute_reply.started": "2024-01-15T12:18:15.133970Z"
    }
   },
   "outputs": [],
   "source": [
    "from utils import (\n",
    "    display_cross_dataset_evaluation,\n",
    "    display_cross_method_evaluation,\n",
    "    display_inner_evaluation,\n",
    "    display_cross_language_evaluation\n",
    ")"
   ]
  },
  {
   "cell_type": "markdown",
   "id": "ecae1dda-fa03-4a1b-a006-9dd1c139a10d",
   "metadata": {},
   "source": [
    "# Inner evaluation"
   ]
  },
  {
   "cell_type": "code",
   "execution_count": 11,
   "id": "29cde6f8-8490-49df-9202-61dca6666e80",
   "metadata": {
    "execution": {
     "iopub.execute_input": "2024-01-15T12:18:16.937260Z",
     "iopub.status.busy": "2024-01-15T12:18:16.936586Z",
     "iopub.status.idle": "2024-01-15T12:18:17.003178Z",
     "shell.execute_reply": "2024-01-15T12:18:17.001976Z",
     "shell.execute_reply.started": "2024-01-15T12:18:16.937198Z"
    }
   },
   "outputs": [
    {
     "data": {
      "text/html": [
       "<table border=\"1\" class=\"dataframe\">\n",
       "  <thead>\n",
       "    <tr style=\"text-align: right;\">\n",
       "      <th></th>\n",
       "      <th>LibriSeVoc_inner</th>\n",
       "      <th>wavefake_inner</th>\n",
       "      <th>DECRO_english</th>\n",
       "      <th>mean</th>\n",
       "    </tr>\n",
       "    <tr>\n",
       "      <th>model</th>\n",
       "      <th></th>\n",
       "      <th></th>\n",
       "      <th></th>\n",
       "      <th></th>\n",
       "    </tr>\n",
       "  </thead>\n",
       "  <tbody>\n",
       "    <tr>\n",
       "      <th>Ours/MSFM</th>\n",
       "      <td>99.99/0.42</td>\n",
       "      <td>100.00/0.10</td>\n",
       "      <td>99.99/0.33</td>\n",
       "      <td>99.99/0.28</td>\n",
       "    </tr>\n",
       "  </tbody>\n",
       "</table>"
      ],
      "text/plain": [
       "<IPython.core.display.HTML object>"
      ]
     },
     "metadata": {},
     "output_type": "display_data"
    }
   ],
   "source": [
    "data = display_inner_evaluation(\n",
    "    # models=[\"Ours/LCNN\", \"Ours/ResNet\", \"Ours/RawNet\", \"Ours/MSFM\"],\n",
    "    models=[ \"Ours/MSFM\"],\n",
    "    version=0,\n",
    "    show_latex=0,\n",
    "    metric_prefix='test-content'\n",
    ")"
   ]
  },
  {
   "cell_type": "markdown",
   "id": "4f462388-100a-4ad5-8de5-f0cc18fc3138",
   "metadata": {},
   "source": [
    "## Cross method"
   ]
  },
  {
   "cell_type": "code",
   "execution_count": 12,
   "id": "ea8d2340-9b30-4997-bd8b-6b3c9ca7c096",
   "metadata": {
    "execution": {
     "iopub.execute_input": "2024-01-15T12:18:23.012080Z",
     "iopub.status.busy": "2024-01-15T12:18:23.011355Z",
     "iopub.status.idle": "2024-01-15T12:18:24.797567Z",
     "shell.execute_reply": "2024-01-15T12:18:24.796071Z",
     "shell.execute_reply.started": "2024-01-15T12:18:23.012016Z"
    }
   },
   "outputs": [
    {
     "name": "stdout",
     "output_type": "stream",
     "text": [
      "Warning!!!! cannot find:  /home/ay/data/DATA/1-model_save/00-Deepfake/1-df-audio/Ours/LCNN/LibriSeVoc_cross_method/version_0/test.csv\n"
     ]
    },
    {
     "data": {
      "text/html": [
       "<table border=\"1\" class=\"dataframe\">\n",
       "  <thead>\n",
       "    <tr>\n",
       "      <th>dataset</th>\n",
       "      <th colspan=\"6\" halign=\"left\">wavefake</th>\n",
       "      <th colspan=\"5\" halign=\"left\">LibriSeVoc</th>\n",
       "    </tr>\n",
       "    <tr>\n",
       "      <th>method</th>\n",
       "      <th>1</th>\n",
       "      <th>2</th>\n",
       "      <th>3</th>\n",
       "      <th>4</th>\n",
       "      <th>6</th>\n",
       "      <th>999</th>\n",
       "      <th>1</th>\n",
       "      <th>2</th>\n",
       "      <th>3</th>\n",
       "      <th>5</th>\n",
       "      <th>999</th>\n",
       "    </tr>\n",
       "    <tr>\n",
       "      <th>model</th>\n",
       "      <th></th>\n",
       "      <th></th>\n",
       "      <th></th>\n",
       "      <th></th>\n",
       "      <th></th>\n",
       "      <th></th>\n",
       "      <th></th>\n",
       "      <th></th>\n",
       "      <th></th>\n",
       "      <th></th>\n",
       "      <th></th>\n",
       "    </tr>\n",
       "  </thead>\n",
       "  <tbody>\n",
       "    <tr>\n",
       "      <th>Ours/LCNN</th>\n",
       "      <td>1.03</td>\n",
       "      <td>1.03</td>\n",
       "      <td>1.91</td>\n",
       "      <td>0.00</td>\n",
       "      <td>0.47</td>\n",
       "      <td>0.89</td>\n",
       "      <td>NaN</td>\n",
       "      <td>NaN</td>\n",
       "      <td>NaN</td>\n",
       "      <td>NaN</td>\n",
       "      <td>NaN</td>\n",
       "    </tr>\n",
       "    <tr>\n",
       "      <th>Ours/MSFM</th>\n",
       "      <td>88.15</td>\n",
       "      <td>87.18</td>\n",
       "      <td>87.33</td>\n",
       "      <td>81.18</td>\n",
       "      <td>87.25</td>\n",
       "      <td>86.22</td>\n",
       "      <td>63.92</td>\n",
       "      <td>66.30</td>\n",
       "      <td>67.40</td>\n",
       "      <td>64.52</td>\n",
       "      <td>65.53</td>\n",
       "    </tr>\n",
       "    <tr>\n",
       "      <th>Ours/RawNet</th>\n",
       "      <td>45.92</td>\n",
       "      <td>43.39</td>\n",
       "      <td>47.44</td>\n",
       "      <td>6.10</td>\n",
       "      <td>27.63</td>\n",
       "      <td>34.10</td>\n",
       "      <td>35.21</td>\n",
       "      <td>41.38</td>\n",
       "      <td>45.24</td>\n",
       "      <td>31.20</td>\n",
       "      <td>38.26</td>\n",
       "    </tr>\n",
       "    <tr>\n",
       "      <th>Ours/ResNet</th>\n",
       "      <td>2.33</td>\n",
       "      <td>1.36</td>\n",
       "      <td>3.74</td>\n",
       "      <td>0.00</td>\n",
       "      <td>4.85</td>\n",
       "      <td>2.45</td>\n",
       "      <td>9.58</td>\n",
       "      <td>26.88</td>\n",
       "      <td>43.10</td>\n",
       "      <td>22.19</td>\n",
       "      <td>25.44</td>\n",
       "    </tr>\n",
       "  </tbody>\n",
       "</table>"
      ],
      "text/plain": [
       "<IPython.core.display.HTML object>"
      ]
     },
     "metadata": {},
     "output_type": "display_data"
    }
   ],
   "source": [
    "display_cross_method_evaluation(\n",
    "    models=[\"Ours/LCNN\", \"Ours/ResNet\", \"Ours/RawNet\", \"Ours/MSFM\"],\n",
    "    version=0,\n",
    "    show_latex=0,\n",
    ")"
   ]
  },
  {
   "cell_type": "code",
   "execution_count": 13,
   "id": "755e8007-17fb-44c3-91fe-613dc40cc238",
   "metadata": {
    "execution": {
     "iopub.execute_input": "2024-01-15T12:18:27.553986Z",
     "iopub.status.busy": "2024-01-15T12:18:27.553319Z",
     "iopub.status.idle": "2024-01-15T12:18:27.622826Z",
     "shell.execute_reply": "2024-01-15T12:18:27.621286Z",
     "shell.execute_reply.started": "2024-01-15T12:18:27.553924Z"
    }
   },
   "outputs": [
    {
     "data": {
      "text/html": [
       "<table border=\"1\" class=\"dataframe\">\n",
       "  <thead>\n",
       "    <tr>\n",
       "      <th>dataset</th>\n",
       "      <th colspan=\"5\" halign=\"left\">LibriSeVoc</th>\n",
       "      <th colspan=\"6\" halign=\"left\">wavefake</th>\n",
       "    </tr>\n",
       "    <tr>\n",
       "      <th>method</th>\n",
       "      <th>1</th>\n",
       "      <th>2</th>\n",
       "      <th>3</th>\n",
       "      <th>5</th>\n",
       "      <th>999</th>\n",
       "      <th>1</th>\n",
       "      <th>2</th>\n",
       "      <th>3</th>\n",
       "      <th>4</th>\n",
       "      <th>6</th>\n",
       "      <th>999</th>\n",
       "    </tr>\n",
       "    <tr>\n",
       "      <th>model</th>\n",
       "      <th></th>\n",
       "      <th></th>\n",
       "      <th></th>\n",
       "      <th></th>\n",
       "      <th></th>\n",
       "      <th></th>\n",
       "      <th></th>\n",
       "      <th></th>\n",
       "      <th></th>\n",
       "      <th></th>\n",
       "      <th></th>\n",
       "    </tr>\n",
       "  </thead>\n",
       "  <tbody>\n",
       "    <tr>\n",
       "      <th>Ours/MSFM</th>\n",
       "      <td>2.73</td>\n",
       "      <td>5.82</td>\n",
       "      <td>10.98</td>\n",
       "      <td>1.21</td>\n",
       "      <td>5.18</td>\n",
       "      <td>5.53</td>\n",
       "      <td>5.30</td>\n",
       "      <td>6.76</td>\n",
       "      <td>0.05</td>\n",
       "      <td>3.63</td>\n",
       "      <td>4.25</td>\n",
       "    </tr>\n",
       "  </tbody>\n",
       "</table>"
      ],
      "text/plain": [
       "<IPython.core.display.HTML object>"
      ]
     },
     "metadata": {},
     "output_type": "display_data"
    }
   ],
   "source": [
    "display_cross_method_evaluation(\n",
    "    models=[\"Ours/MSFM\", ],\n",
    "    version=0,\n",
    "    show_latex=0,\n",
    "    metric_prefix='test-content'\n",
    ")"
   ]
  },
  {
   "cell_type": "markdown",
   "id": "2ebead39-b2f3-46a7-aa9d-0bb291fa5b6f",
   "metadata": {},
   "source": [
    "## Cross Dataset"
   ]
  },
  {
   "cell_type": "code",
   "execution_count": 11,
   "id": "6f4d59e5-db72-48f1-a2f8-7c7726c6a813",
   "metadata": {
    "execution": {
     "iopub.execute_input": "2024-01-14T14:46:49.334975Z",
     "iopub.status.busy": "2024-01-14T14:46:49.334565Z",
     "iopub.status.idle": "2024-01-14T14:46:49.415376Z",
     "shell.execute_reply": "2024-01-14T14:46:49.413899Z",
     "shell.execute_reply.started": "2024-01-14T14:46:49.334939Z"
    }
   },
   "outputs": [
    {
     "data": {
      "text/html": [
       "<table border=\"1\" class=\"dataframe\">\n",
       "  <thead>\n",
       "    <tr style=\"text-align: right;\">\n",
       "      <th>method</th>\n",
       "      <th>0</th>\n",
       "      <th>1</th>\n",
       "      <th>2</th>\n",
       "      <th>3</th>\n",
       "      <th>4</th>\n",
       "      <th>5</th>\n",
       "      <th>6</th>\n",
       "      <th>avg</th>\n",
       "    </tr>\n",
       "    <tr>\n",
       "      <th>model</th>\n",
       "      <th></th>\n",
       "      <th></th>\n",
       "      <th></th>\n",
       "      <th></th>\n",
       "      <th></th>\n",
       "      <th></th>\n",
       "      <th></th>\n",
       "      <th></th>\n",
       "    </tr>\n",
       "  </thead>\n",
       "  <tbody>\n",
       "    <tr>\n",
       "      <th>Ours/LCNN</th>\n",
       "      <td>0.98</td>\n",
       "      <td>40.00</td>\n",
       "      <td>45.19</td>\n",
       "      <td>42.02</td>\n",
       "      <td>43.98</td>\n",
       "      <td>2.40</td>\n",
       "      <td>0.50</td>\n",
       "      <td>25.01</td>\n",
       "    </tr>\n",
       "    <tr>\n",
       "      <th>Ours/MSFM</th>\n",
       "      <td>2.24</td>\n",
       "      <td>12.86</td>\n",
       "      <td>10.21</td>\n",
       "      <td>11.87</td>\n",
       "      <td>10.50</td>\n",
       "      <td>4.81</td>\n",
       "      <td>0.24</td>\n",
       "      <td>7.53</td>\n",
       "    </tr>\n",
       "    <tr>\n",
       "      <th>Ours/RawNet</th>\n",
       "      <td>31.53</td>\n",
       "      <td>47.79</td>\n",
       "      <td>47.23</td>\n",
       "      <td>40.01</td>\n",
       "      <td>71.66</td>\n",
       "      <td>45.76</td>\n",
       "      <td>1.12</td>\n",
       "      <td>40.73</td>\n",
       "    </tr>\n",
       "    <tr>\n",
       "      <th>Ours/ResNet</th>\n",
       "      <td>0.26</td>\n",
       "      <td>36.72</td>\n",
       "      <td>19.23</td>\n",
       "      <td>23.83</td>\n",
       "      <td>17.65</td>\n",
       "      <td>0.16</td>\n",
       "      <td>2.31</td>\n",
       "      <td>14.31</td>\n",
       "    </tr>\n",
       "  </tbody>\n",
       "</table>"
      ],
      "text/plain": [
       "<IPython.core.display.HTML object>"
      ]
     },
     "metadata": {},
     "output_type": "display_data"
    }
   ],
   "source": [
    "display_cross_dataset_evaluation(\n",
    "    models=[\"Ours/LCNN\", \"Ours/ResNet\", \"Ours/RawNet\", \"Ours/MSFM\"],\n",
    "    version=0,\n",
    "    show_latex=0,\n",
    ")"
   ]
  },
  {
   "cell_type": "code",
   "execution_count": 15,
   "id": "ea4dea58-0821-44ec-9be3-c1267fef5f12",
   "metadata": {
    "execution": {
     "iopub.execute_input": "2024-01-15T12:18:50.961316Z",
     "iopub.status.busy": "2024-01-15T12:18:50.960979Z",
     "iopub.status.idle": "2024-01-15T12:18:51.002483Z",
     "shell.execute_reply": "2024-01-15T12:18:51.000744Z",
     "shell.execute_reply.started": "2024-01-15T12:18:50.961288Z"
    }
   },
   "outputs": [
    {
     "data": {
      "text/html": [
       "<table border=\"1\" class=\"dataframe\">\n",
       "  <thead>\n",
       "    <tr style=\"text-align: right;\">\n",
       "      <th>method</th>\n",
       "      <th>0</th>\n",
       "      <th>1</th>\n",
       "      <th>2</th>\n",
       "      <th>3</th>\n",
       "      <th>4</th>\n",
       "      <th>5</th>\n",
       "      <th>6</th>\n",
       "      <th>avg</th>\n",
       "      <th>ch</th>\n",
       "      <th>en</th>\n",
       "      <th>inTheWild</th>\n",
       "    </tr>\n",
       "    <tr>\n",
       "      <th>model</th>\n",
       "      <th></th>\n",
       "      <th></th>\n",
       "      <th></th>\n",
       "      <th></th>\n",
       "      <th></th>\n",
       "      <th></th>\n",
       "      <th></th>\n",
       "      <th></th>\n",
       "      <th></th>\n",
       "      <th></th>\n",
       "      <th></th>\n",
       "    </tr>\n",
       "  </thead>\n",
       "  <tbody>\n",
       "    <tr>\n",
       "      <th>Ours/MSFM</th>\n",
       "      <td>0.37</td>\n",
       "      <td>8.16</td>\n",
       "      <td>6.60</td>\n",
       "      <td>8.69</td>\n",
       "      <td>7.73</td>\n",
       "      <td>1.71</td>\n",
       "      <td>0.05</td>\n",
       "      <td>18.84</td>\n",
       "      <td>35.96</td>\n",
       "      <td>35.08</td>\n",
       "      <td>84.10</td>\n",
       "    </tr>\n",
       "  </tbody>\n",
       "</table>"
      ],
      "text/plain": [
       "<IPython.core.display.HTML object>"
      ]
     },
     "metadata": {},
     "output_type": "display_data"
    }
   ],
   "source": [
    "display_cross_dataset_evaluation(\n",
    "    models=[\"Ours/MSFM\"],\n",
    "    version=0,\n",
    "    show_latex=0,\n",
    "    metric_prefix='test-content'\n",
    ")"
   ]
  },
  {
   "cell_type": "markdown",
   "id": "960abcc3-8ce5-4bce-8e8b-3e0e1b40ba24",
   "metadata": {},
   "source": [
    "## Cross Language"
   ]
  },
  {
   "cell_type": "code",
   "execution_count": 10,
   "id": "98a94c6c-77a4-4bd5-92e2-df24e180c33a",
   "metadata": {
    "execution": {
     "iopub.execute_input": "2024-01-14T14:46:18.093502Z",
     "iopub.status.busy": "2024-01-14T14:46:18.092823Z",
     "iopub.status.idle": "2024-01-14T14:46:18.214908Z",
     "shell.execute_reply": "2024-01-14T14:46:18.213707Z",
     "shell.execute_reply.started": "2024-01-14T14:46:18.093438Z"
    }
   },
   "outputs": [
    {
     "data": {
      "text/html": [
       "<table border=\"1\" class=\"dataframe\">\n",
       "  <thead>\n",
       "    <tr style=\"text-align: right;\">\n",
       "      <th></th>\n",
       "      <th>wavefake_cross_lang</th>\n",
       "      <th>DECRO_chinese</th>\n",
       "      <th>DECRO_english</th>\n",
       "      <th>avg</th>\n",
       "    </tr>\n",
       "    <tr>\n",
       "      <th>model</th>\n",
       "      <th></th>\n",
       "      <th></th>\n",
       "      <th></th>\n",
       "      <th></th>\n",
       "    </tr>\n",
       "  </thead>\n",
       "  <tbody>\n",
       "    <tr>\n",
       "      <th>Ours/LCNN</th>\n",
       "      <td>4.30</td>\n",
       "      <td>32.77</td>\n",
       "      <td>28.87</td>\n",
       "      <td>21.98</td>\n",
       "    </tr>\n",
       "    <tr>\n",
       "      <th>Ours/MSFM</th>\n",
       "      <td>9.20</td>\n",
       "      <td>64.28</td>\n",
       "      <td>65.43</td>\n",
       "      <td>46.30</td>\n",
       "    </tr>\n",
       "    <tr>\n",
       "      <th>Ours/RawNet</th>\n",
       "      <td>37.78</td>\n",
       "      <td>46.45</td>\n",
       "      <td>42.17</td>\n",
       "      <td>42.13</td>\n",
       "    </tr>\n",
       "    <tr>\n",
       "      <th>Ours/ResNet</th>\n",
       "      <td>21.90</td>\n",
       "      <td>16.86</td>\n",
       "      <td>25.86</td>\n",
       "      <td>21.54</td>\n",
       "    </tr>\n",
       "  </tbody>\n",
       "</table>"
      ],
      "text/plain": [
       "<IPython.core.display.HTML object>"
      ]
     },
     "metadata": {},
     "output_type": "display_data"
    }
   ],
   "source": [
    "data = display_cross_language_evaluation(\n",
    "    models=[\"Ours/LCNN\", \"Ours/ResNet\", \"Ours/RawNet\", \"Ours/MSFM\"],\n",
    "    version=0,\n",
    "    show_latex=0,\n",
    ")"
   ]
  },
  {
   "cell_type": "code",
   "execution_count": 17,
   "id": "17b58a65-e59e-4ae9-9593-3a738bc84060",
   "metadata": {
    "execution": {
     "iopub.execute_input": "2024-01-15T12:20:07.271995Z",
     "iopub.status.busy": "2024-01-15T12:20:07.271301Z",
     "iopub.status.idle": "2024-01-15T12:20:07.352070Z",
     "shell.execute_reply": "2024-01-15T12:20:07.350523Z",
     "shell.execute_reply.started": "2024-01-15T12:20:07.271936Z"
    }
   },
   "outputs": [
    {
     "data": {
      "text/html": [
       "<table border=\"1\" class=\"dataframe\">\n",
       "  <thead>\n",
       "    <tr style=\"text-align: right;\">\n",
       "      <th></th>\n",
       "      <th>wavefake_cross_lang</th>\n",
       "      <th>DECRO_chinese</th>\n",
       "      <th>DECRO_english</th>\n",
       "      <th>avg</th>\n",
       "    </tr>\n",
       "    <tr>\n",
       "      <th>model</th>\n",
       "      <th></th>\n",
       "      <th></th>\n",
       "      <th></th>\n",
       "      <th></th>\n",
       "    </tr>\n",
       "  </thead>\n",
       "  <tbody>\n",
       "    <tr>\n",
       "      <th>Ours/MSFM</th>\n",
       "      <td>13.34</td>\n",
       "      <td>61.54</td>\n",
       "      <td>74.48</td>\n",
       "      <td>49.79</td>\n",
       "    </tr>\n",
       "  </tbody>\n",
       "</table>"
      ],
      "text/plain": [
       "<IPython.core.display.HTML object>"
      ]
     },
     "metadata": {},
     "output_type": "display_data"
    }
   ],
   "source": [
    "data = display_cross_language_evaluation(\n",
    "    models=[\"Ours/MSFM\"],\n",
    "    version=0,\n",
    "    show_latex=0,\n",
    "    metric_prefix='test-content'\n",
    ")"
   ]
  }
 ],
 "metadata": {
  "kernelspec": {
   "display_name": "Python 3 (ipykernel)",
   "language": "python",
   "name": "python3"
  },
  "language_info": {
   "codemirror_mode": {
    "name": "ipython",
    "version": 3
   },
   "file_extension": ".py",
   "mimetype": "text/x-python",
   "name": "python",
   "nbconvert_exporter": "python",
   "pygments_lexer": "ipython3",
   "version": "3.9.18"
  }
 },
 "nbformat": 4,
 "nbformat_minor": 5
}
