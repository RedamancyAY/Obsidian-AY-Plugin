{
 "cells": [
  {
   "cell_type": "code",
   "execution_count": 24,
   "id": "5a464b23-5bc6-4d2f-9e9c-cdce0f4f2701",
   "metadata": {
    "execution": {
     "iopub.execute_input": "2024-10-19T14:54:26.892336Z",
     "iopub.status.busy": "2024-10-19T14:54:26.891596Z",
     "iopub.status.idle": "2024-10-19T14:54:26.902818Z",
     "shell.execute_reply": "2024-10-19T14:54:26.900942Z",
     "shell.execute_reply.started": "2024-10-19T14:54:26.892270Z"
    },
    "tags": []
   },
   "outputs": [],
   "source": [
    "import matplotlib\n",
    "import matplotlib.pyplot as plt\n",
    "import numpy as np\n",
    "from matplotlib.colors import ListedColormap\n",
    "from matplotlib.lines import Line2D\n",
    "from sklearn.manifold import TSNE\n",
    "\n",
    "plt.rc(\"font\", family=\"Times New Roman\")"
   ]
  },
  {
   "cell_type": "code",
   "execution_count": 35,
   "id": "ac36cccc-154a-4b79-9c72-a42a2d0cf30c",
   "metadata": {
    "execution": {
     "iopub.execute_input": "2024-10-19T14:55:44.283970Z",
     "iopub.status.busy": "2024-10-19T14:55:44.283246Z",
     "iopub.status.idle": "2024-10-19T14:55:44.298650Z",
     "shell.execute_reply": "2024-10-19T14:55:44.296487Z",
     "shell.execute_reply.started": "2024-10-19T14:55:44.283906Z"
    }
   },
   "outputs": [],
   "source": [
    "def read_features_labels(model):\n",
    "    features, labels = [], []\n",
    "    for file in [\"\", \"(0)\", \"(1)\", \"(2)\", \"(3)\"]:\n",
    "        data = np.load(f\"npz/{model}-LibriSeVoc_cross_method/test{file}.npz\")\n",
    "\n",
    "        _feature = data[\"feature\"]\n",
    "        _label = data[\"label\"]\n",
    "        print(data)\n",
    "        try:\n",
    "            _vocoder_label = data[\"vocoder_label\"]\n",
    "        except KeyError:\n",
    "            _vocoder_label = data[\"vocoder_label_org\"]\n",
    "            \n",
    "        features.append(_feature)\n",
    "        labels.append(_vocoder_label)\n",
    "    features = np.concatenate(features)\n",
    "    labels = np.concatenate(labels)\n",
    "\n",
    "    print(f\"For {model}, Read features {features.shape}\")\n",
    "\n",
    "    return features, labels"
   ]
  },
  {
   "cell_type": "code",
   "execution_count": 26,
   "id": "ee886b91-e33c-498f-b542-e15fdd7bfc53",
   "metadata": {
    "execution": {
     "iopub.execute_input": "2024-10-19T14:54:28.407963Z",
     "iopub.status.busy": "2024-10-19T14:54:28.407140Z",
     "iopub.status.idle": "2024-10-19T14:54:28.419553Z",
     "shell.execute_reply": "2024-10-19T14:54:28.417424Z",
     "shell.execute_reply.started": "2024-10-19T14:54:28.407868Z"
    }
   },
   "outputs": [],
   "source": [
    "markers = [\"o\", \"^\", \"*\", \"D\", \"p\", \"X\", \"P\"]\n",
    "cmap = [\"red\", \"#ff00e7\", \"blue\", \"green\", \"black\", \"#f796cc\", \"#00ff11\"]\n",
    "vocoders = ['Real', 'PWG', 'Diffwave', 'WaveNet', 'WaveRNN', 'MelGAN', 'WaveGrad']"
   ]
  },
  {
   "cell_type": "code",
   "execution_count": 27,
   "id": "8820301c-0f3a-40ee-8e42-35a93d947d73",
   "metadata": {
    "execution": {
     "iopub.execute_input": "2024-10-19T14:54:29.121525Z",
     "iopub.status.busy": "2024-10-19T14:54:29.120805Z",
     "iopub.status.idle": "2024-10-19T14:54:29.133614Z",
     "shell.execute_reply": "2024-10-19T14:54:29.131346Z",
     "shell.execute_reply.started": "2024-10-19T14:54:29.121463Z"
    }
   },
   "outputs": [],
   "source": [
    "def select_features(features, labels, N=300):\n",
    "    \"\"\"\n",
    "    select n features for t_SNE and visulization\n",
    "    \"\"\"\n",
    "    selected_features = []\n",
    "    for i in range(7):\n",
    "        index = np.where(labels == i)[0]\n",
    "        index = np.random.choice(index, N)\n",
    "        selected_features.append(features[index])\n",
    "    selected_features = np.concatenate(selected_features)\n",
    "    return selected_features"
   ]
  },
  {
   "cell_type": "code",
   "execution_count": 28,
   "id": "ed0d5710-cfb3-41c2-8b10-44512942a64b",
   "metadata": {
    "execution": {
     "iopub.execute_input": "2024-10-19T14:54:29.861444Z",
     "iopub.status.busy": "2024-10-19T14:54:29.860727Z",
     "iopub.status.idle": "2024-10-19T14:54:29.871522Z",
     "shell.execute_reply": "2024-10-19T14:54:29.869334Z",
     "shell.execute_reply.started": "2024-10-19T14:54:29.861381Z"
    }
   },
   "outputs": [],
   "source": [
    "def get_tSNE_res(features):\n",
    "    tsne = TSNE(\n",
    "        n_components=2,\n",
    "        random_state=RANDOM_STATE,\n",
    "        perplexity=10,\n",
    "        learning_rate=50,\n",
    "    )\n",
    "    result = tsne.fit_transform(features)\n",
    "    return result"
   ]
  },
  {
   "cell_type": "code",
   "execution_count": 29,
   "id": "88b12555-5212-491e-93a0-b23a0168601b",
   "metadata": {
    "execution": {
     "iopub.execute_input": "2024-10-19T14:54:30.558919Z",
     "iopub.status.busy": "2024-10-19T14:54:30.558239Z",
     "iopub.status.idle": "2024-10-19T14:54:30.573680Z",
     "shell.execute_reply": "2024-10-19T14:54:30.571682Z",
     "shell.execute_reply.started": "2024-10-19T14:54:30.558855Z"
    },
    "scrolled": true
   },
   "outputs": [],
   "source": [
    "def plot_tSNE_res(result, N=300, save_path=None):\n",
    "    plt.figure(figsize=(5,5))\n",
    "    \n",
    "    for i in range(7):\n",
    "        start = i * N\n",
    "        end = start + N\n",
    "        plt.scatter(\n",
    "            result[start:end, 0],\n",
    "            result[start:end, 1],\n",
    "            facecolors=\"none\",\n",
    "            edgecolors=cmap[i],\n",
    "            s=25,\n",
    "            linewidth=1,\n",
    "            marker=markers[i],\n",
    "        )\n",
    "    plt.xticks([])\n",
    "    plt.yticks([])\n",
    "    if save_path is not None:\n",
    "        plt.savefig(save_path, dpi=500, bbox_inches=\"tight\")\n",
    "\n",
    "    plt.show()"
   ]
  },
  {
   "cell_type": "code",
   "execution_count": 30,
   "id": "691a6b61-eb4a-4bda-a1c5-77078dcca188",
   "metadata": {
    "execution": {
     "iopub.execute_input": "2024-10-19T14:54:31.258004Z",
     "iopub.status.busy": "2024-10-19T14:54:31.257378Z",
     "iopub.status.idle": "2024-10-19T14:54:31.268214Z",
     "shell.execute_reply": "2024-10-19T14:54:31.266047Z",
     "shell.execute_reply.started": "2024-10-19T14:54:31.257944Z"
    }
   },
   "outputs": [],
   "source": [
    "def plot_and_save(model, N, save_path=None):\n",
    "    features, labels = read_features_labels(model)\n",
    "    selected_features = select_features(features, labels, N=N)\n",
    "    t_SNE_res = get_tSNE_res(selected_features)\n",
    "    plot_tSNE_res(t_SNE_res, N=N, save_path=save_path)"
   ]
  },
  {
   "cell_type": "code",
   "execution_count": 31,
   "id": "4bb82c8e-27ac-413f-9a29-d6739bb81afc",
   "metadata": {
    "execution": {
     "iopub.execute_input": "2024-10-19T14:54:32.135168Z",
     "iopub.status.busy": "2024-10-19T14:54:32.134505Z",
     "iopub.status.idle": "2024-10-19T14:54:32.143715Z",
     "shell.execute_reply": "2024-10-19T14:54:32.141591Z",
     "shell.execute_reply.started": "2024-10-19T14:54:32.135094Z"
    }
   },
   "outputs": [],
   "source": [
    "cmap = [\"red\", \"#ff00e7\", \"blue\", \"#ffff00\", \"black\", \"#008000\", \"#00ff11\"]"
   ]
  },
  {
   "cell_type": "code",
   "execution_count": null,
   "id": "9daf4bbe-e448-4640-b111-77d45823fd5d",
   "metadata": {
    "execution": {
     "iopub.execute_input": "2024-10-19T15:07:13.067445Z",
     "iopub.status.busy": "2024-10-19T15:07:13.067096Z"
    },
    "scrolled": true
   },
   "outputs": [
    {
     "name": "stdout",
     "output_type": "stream",
     "text": [
      "NpzFile 'npz/Wave2Vec2-LibriSeVoc_cross_method/test.npz' with keys: feature, label, vocoder_label\n",
      "NpzFile 'npz/Wave2Vec2-LibriSeVoc_cross_method/test(0).npz' with keys: feature, label, vocoder_label\n",
      "NpzFile 'npz/Wave2Vec2-LibriSeVoc_cross_method/test(1).npz' with keys: feature, label, vocoder_label\n",
      "NpzFile 'npz/Wave2Vec2-LibriSeVoc_cross_method/test(2).npz' with keys: feature, label, vocoder_label\n",
      "NpzFile 'npz/Wave2Vec2-LibriSeVoc_cross_method/test(3).npz' with keys: feature, label, vocoder_label\n",
      "For Wave2Vec2, Read features (71290, 768)\n"
     ]
    }
   ],
   "source": [
    "RANDOM_STATE = 1\n",
    "models = [\n",
    "    # \"AASIST\",\n",
    "    # \"LCNN\",\n",
    "    # \"RawNet2\",\n",
    "    \"Wave2Vec2\",\n",
    "    # \"WaveLM\",\n",
    "    # \"LibriSeVoc\",\n",
    "    # \"Wav2Clip\",\n",
    "    # \"AudioClip\",\n",
    "    # \"RawGAT\",\n",
    "    # \"Ours/ResNet\",\n",
    "    # \"ASDG\",\n",
    "    # \"SFATNet\",\n",
    "    # \"OursMultiView2\",\n",
    "]\n",
    "\n",
    "for model in models:\n",
    "    model = model.replace(\"/\", \"-\")\n",
    "    N = 300\n",
    "    save_path = f\"pngs/{model}-LibriSeVoc_cross_method.png\"\n",
    "    plot_and_save(model, N, save_path)"
   ]
  },
  {
   "cell_type": "code",
   "execution_count": 105,
   "id": "3a67bdd1-6ea4-4890-8f5b-596a26ddfbf5",
   "metadata": {
    "execution": {
     "iopub.execute_input": "2024-03-15T13:09:04.970076Z",
     "iopub.status.busy": "2024-03-15T13:09:04.969471Z",
     "iopub.status.idle": "2024-03-15T13:09:05.161152Z",
     "shell.execute_reply": "2024-03-15T13:09:05.160305Z",
     "shell.execute_reply.started": "2024-03-15T13:09:04.970040Z"
    }
   },
   "outputs": [
    {
     "data": {
      "image/png": "[encoded data removed]",
      "text/plain": [
       "<Figure size 500x100 with 1 Axes>"
      ]
     },
     "metadata": {},
     "output_type": "display_data"
    }
   ],
   "source": [
    "marker_handles = [\n",
    "    Line2D(\n",
    "        [],\n",
    "        [],\n",
    "        color=cmap[i],\n",
    "        marker=markers[i],\n",
    "        linestyle=\"None\",\n",
    "        markersize=7,\n",
    "        # mfc=\"white\",\n",
    "    )\n",
    "    for i in range(len(markers))\n",
    "]\n",
    "\n",
    "plt.figure(figsize=(5,1))\n",
    "plt.legend(\n",
    "    handles=marker_handles,\n",
    "    labels=vocoders,\n",
    "    handler_map={tuple: matplotlib.legend_handler.HandlerTuple(None)},\n",
    "    ncol=len(vocoders)\n",
    ")\n",
    "plt.axis('off')\n",
    "plt.savefig(\"pngs/Legend_LibriSeVoc_cross_method.pdf\", dpi=500, bbox_inches=\"tight\")\n",
    "plt.show()"
   ]
  },
  {
   "cell_type": "code",
   "execution_count": 106,
   "id": "69204754-8975-46b7-a570-56b8cec3f70e",
   "metadata": {
    "execution": {
     "iopub.execute_input": "2024-03-15T13:09:24.640915Z",
     "iopub.status.busy": "2024-03-15T13:09:24.640204Z",
     "iopub.status.idle": "2024-03-15T13:09:24.928269Z",
     "shell.execute_reply": "2024-03-15T13:09:24.926992Z",
     "shell.execute_reply.started": "2024-03-15T13:09:24.640879Z"
    }
   },
   "outputs": [
    {
     "name": "stdout",
     "output_type": "stream",
     "text": [
      "PDFCROP 1.40, 2020/06/06 - Copyright (c) 2002-2020 by Heiko Oberdiek, Oberdiek Package Support Group.\n",
      "==> 1 page written on `pngs/Legend_LibriSeVoc_cross_method.pdf'.\n"
     ]
    }
   ],
   "source": [
    "!pdfcrop pngs/Legend_LibriSeVoc_cross_method.pdf pngs/Legend_LibriSeVoc_cross_method.pdf"
   ]
  },
  {
   "cell_type": "code",
   "execution_count": 107,
   "id": "23dba0e9-3c06-4995-9093-96aaff075418",
   "metadata": {
    "execution": {
     "iopub.execute_input": "2024-03-15T13:09:47.078321Z",
     "iopub.status.busy": "2024-03-15T13:09:47.077573Z",
     "iopub.status.idle": "2024-03-15T13:09:47.591953Z",
     "shell.execute_reply": "2024-03-15T13:09:47.591072Z",
     "shell.execute_reply.started": "2024-03-15T13:09:47.078248Z"
    }
   },
   "outputs": [
    {
     "name": "stdout",
     "output_type": "stream",
     "text": [
      "updating: pngs/ (stored 0%)\n",
      "updating: pngs/WaveLM-LibriSeVoc_cross_method.png (deflated 2%)\n",
      "updating: pngs/.ipynb_checkpoints/ (stored 0%)\n",
      "updating: pngs/.ipynb_checkpoints/hist_en_ch-checkpoint.pdf (deflated 28%)\n",
      "updating: pngs/.ipynb_checkpoints/WaveLM-LibriSeVoc_cross_method-checkpoint.png (deflated 2%)\n",
      "updating: pngs/RawNet2-LibriSeVoc_cross_method.png (deflated 3%)\n",
      "updating: pngs/LCNN-LibriSeVoc_cross_method.png (deflated 2%)\n",
      "updating: pngs/LibriSeVoc-LibriSeVoc_cross_method.png (deflated 2%)\n",
      "updating: pngs/Legend_LibriSeVoc_cross_method.pdf (deflated 28%)\n",
      "updating: pngs/hist_en_ch.pdf (deflated 29%)\n",
      "updating: pngs/Wav2Clip-LibriSeVoc_cross_method.png (deflated 4%)\n",
      "updating: pngs/Wave2Vec2-LibriSeVoc_cross_method.png (deflated 2%)\n",
      "updating: pngs/RawGAT-LibriSeVoc_cross_method.png (deflated 2%)\n",
      "updating: pngs/AudioClip-LibriSeVoc_cross_method.png (deflated 3%)\n",
      "updating: pngs/Ours-ResNet-LibriSeVoc_cross_method.png (deflated 3%)\n",
      "updating: pngs/AASIST-LibriSeVoc_cross_method.png (deflated 2%)\n",
      "  adding: pngs/.ipynb_checkpoints/Legend_LibriSeVoc_cross_method-checkpoint.pdf (deflated 28%)\n",
      "  adding: pngs/.ipynb_checkpoints/RawNet2-LibriSeVoc_cross_method-checkpoint.png (deflated 3%)\n"
     ]
    }
   ],
   "source": [
    "!zip pngs.zip -r pngs"
   ]
  }
 ],
 "metadata": {
  "kernelspec": {
   "display_name": "Python 3 (ipykernel)",
   "language": "python",
   "name": "python3"
  },
  "language_info": {
   "codemirror_mode": {
    "name": "ipython",
    "version": 3
   },
   "file_extension": ".py",
   "mimetype": "text/x-python",
   "name": "python",
   "nbconvert_exporter": "python",
   "pygments_lexer": "ipython3",
   "version": "3.9.18"
  }
 },
 "nbformat": 4,
 "nbformat_minor": 5
}
