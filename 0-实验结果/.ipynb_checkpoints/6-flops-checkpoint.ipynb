{
 "cells": [
  {
   "cell_type": "code",
   "execution_count": 2,
   "id": "3aedab9b-a320-490f-ac19-e3d5585c3439",
   "metadata": {
    "execution": {
     "iopub.execute_input": "2024-09-30T16:39:15.024817Z",
     "iopub.status.busy": "2024-09-30T16:39:15.023577Z",
     "iopub.status.idle": "2024-09-30T16:39:15.055282Z",
     "shell.execute_reply": "2024-09-30T16:39:15.053572Z",
     "shell.execute_reply.started": "2024-09-30T16:39:15.024753Z"
    }
   },
   "outputs": [],
   "source": [
    "%load_ext autoreload\n",
    "%autoreload 2"
   ]
  },
  {
   "cell_type": "code",
   "execution_count": 3,
   "id": "d826a0ac-2d45-44bb-867a-d9cc549d05e7",
   "metadata": {
    "execution": {
     "iopub.execute_input": "2024-09-30T16:39:15.696223Z",
     "iopub.status.busy": "2024-09-30T16:39:15.695589Z",
     "iopub.status.idle": "2024-09-30T16:39:16.185757Z",
     "shell.execute_reply": "2024-09-30T16:39:16.184876Z",
     "shell.execute_reply.started": "2024-09-30T16:39:15.696151Z"
    }
   },
   "outputs": [],
   "source": [
    "import os\n",
    "\n",
    "import pandas as pd\n",
    "from IPython.display import HTML, display"
   ]
  },
  {
   "cell_type": "code",
   "execution_count": 4,
   "id": "fd3ca27a-2d3a-4570-a0f5-9ffaafab0f2a",
   "metadata": {
    "execution": {
     "iopub.execute_input": "2024-09-30T16:39:16.367487Z",
     "iopub.status.busy": "2024-09-30T16:39:16.367076Z",
     "iopub.status.idle": "2024-09-30T16:39:16.384131Z",
     "shell.execute_reply": "2024-09-30T16:39:16.382800Z",
     "shell.execute_reply.started": "2024-09-30T16:39:16.367460Z"
    }
   },
   "outputs": [],
   "source": [
    "MODELs_VERSIONS = {\n",
    "    \"LCNN\": 0,\n",
    "    \"RawNet2\": 0,\n",
    "    \"RawGAT\": 0,\n",
    "    \"Wave2Vec2\": 0,\n",
    "    \"WaveLM\": 0,\n",
    "    \"LibriSeVoc\": 0,\n",
    "    \"AudioClip\": 0,\n",
    "    \"Wav2Clip\": 0,\n",
    "    \"AASIST\": 0,\n",
    "    \"SFATNet\" : 1,\n",
    "    \"ASDG\" : 1,\n",
    "    \"Ours/ResNet\": 0,\n",
    "}\n",
    "models = MODELs_VERSIONS.keys()\n",
    "versions = MODELs_VERSIONS.values()"
   ]
  },
  {
   "cell_type": "code",
   "execution_count": 5,
   "id": "c9fcd5f9-678f-4a21-960c-e8f574d63aa2",
   "metadata": {
    "execution": {
     "iopub.execute_input": "2024-09-30T16:39:17.143181Z",
     "iopub.status.busy": "2024-09-30T16:39:17.141557Z",
     "iopub.status.idle": "2024-09-30T16:39:17.172035Z",
     "shell.execute_reply": "2024-09-30T16:39:17.170569Z",
     "shell.execute_reply.started": "2024-09-30T16:39:17.143106Z"
    }
   },
   "outputs": [],
   "source": [
    "def get_total_params(file_path):\n",
    "    with open(file_path, 'r') as file:\n",
    "        for line in file:\n",
    "            # Look for the line that contains 'Total params'\n",
    "            if 'Total params' in line:\n",
    "                # Split the line and get the value\n",
    "                parts = line.split()\n",
    "                total_params = ' '.join(parts[0:2])  # The first element in the split list should be the number\n",
    "                return total_params\n",
    "    return None  # Return None if 'Total params' is not found"
   ]
  },
  {
   "cell_type": "code",
   "execution_count": 6,
   "id": "defd773c-43a7-4d6a-9df0-464ad3a41c48",
   "metadata": {
    "execution": {
     "iopub.execute_input": "2024-09-30T16:39:18.914357Z",
     "iopub.status.busy": "2024-09-30T16:39:18.913099Z",
     "iopub.status.idle": "2024-09-30T16:39:18.959054Z",
     "shell.execute_reply": "2024-09-30T16:39:18.957662Z",
     "shell.execute_reply.started": "2024-09-30T16:39:18.914290Z"
    }
   },
   "outputs": [],
   "source": [
    "ROOT_PATH = \"/home/ay/data/DATA/1-model_save/00-Deepfake/1-df-audio\"\n",
    "def read_test_result(model, task='ASV2021_inner', version=-1, metric_prefix=\"test\", file_name=\"metrics\"):\n",
    "    save_path = f\"{ROOT_PATH}/{model}/{task}/version_{version}\"\n",
    "    csv_path = os.path.join(save_path, f\"{file_name}.csv\")\n",
    "\n",
    "    if not os.path.exists(csv_path):\n",
    "        print(\"Warning!!!! cannot find: \", csv_path)\n",
    "        return None\n",
    "\n",
    "    data = pd.read_csv(csv_path)\n",
    "\n",
    "\n",
    "    keys = ['train/device/samples_per_sec', 'validate/device/samples_per_sec', 'flops_train']\n",
    "    values = []\n",
    "    for key in keys:\n",
    "        v = data[key].loc[data[key].last_valid_index()]\n",
    "        values.append(v)\n",
    "    \n",
    "    res = {k:v for k, v in zip(keys, values)}\n",
    "    res['model'] = model\n",
    "    res['param'] = get_total_params(os.path.join(save_path, f\"model.txt\"))\n",
    "    \n",
    "    return res"
   ]
  },
  {
   "cell_type": "code",
   "execution_count": 7,
   "id": "1ef7e56b-f93f-4adf-9141-55f3c9fcbddb",
   "metadata": {
    "execution": {
     "iopub.execute_input": "2024-09-30T16:39:26.903340Z",
     "iopub.status.busy": "2024-09-30T16:39:26.902669Z",
     "iopub.status.idle": "2024-09-30T16:39:27.007133Z",
     "shell.execute_reply": "2024-09-30T16:39:27.005764Z",
     "shell.execute_reply.started": "2024-09-30T16:39:26.903276Z"
    }
   },
   "outputs": [
    {
     "data": {
      "text/plain": [
       "dict_keys(['train/device/samples_per_sec', 'validate/device/samples_per_sec', 'flops_train', 'model', 'param'])"
      ]
     },
     "execution_count": 7,
     "metadata": {},
     "output_type": "execute_result"
    }
   ],
   "source": [
    "res  = read_test_result('AASIST')\n",
    "res.keys()"
   ]
  },
  {
   "cell_type": "code",
   "execution_count": 8,
   "id": "db9e58ec-ba34-4404-b226-0613e6f46625",
   "metadata": {
    "execution": {
     "iopub.execute_input": "2024-09-30T16:39:28.872040Z",
     "iopub.status.busy": "2024-09-30T16:39:28.871388Z",
     "iopub.status.idle": "2024-09-30T16:39:29.240603Z",
     "shell.execute_reply": "2024-09-30T16:39:29.239191Z",
     "shell.execute_reply.started": "2024-09-30T16:39:28.871977Z"
    }
   },
   "outputs": [
    {
     "name": "stdout",
     "output_type": "stream",
     "text": [
      "Warning!!!! cannot find:  /home/ay/data/DATA/1-model_save/00-Deepfake/1-df-audio/Wave2Vec2/ASV2021_inner/version_-1/metrics.csv\n"
     ]
    }
   ],
   "source": [
    "data = pd.DataFrame(columns=['train/device/samples_per_sec', 'validate/device/samples_per_sec', 'flops_train', 'model', 'param'])\n",
    "for model, version in zip(models, versions):\n",
    "    res = read_test_result(model)\n",
    "    if res is not None:\n",
    "        data.loc[len(data)] = res"
   ]
  },
  {
   "cell_type": "code",
   "execution_count": 9,
   "id": "b382b13a-daaa-4d3e-acbd-f84115ea2407",
   "metadata": {
    "execution": {
     "iopub.execute_input": "2024-09-30T16:39:30.795551Z",
     "iopub.status.busy": "2024-09-30T16:39:30.794429Z",
     "iopub.status.idle": "2024-09-30T16:39:31.330132Z",
     "shell.execute_reply": "2024-09-30T16:39:31.328979Z",
     "shell.execute_reply.started": "2024-09-30T16:39:30.795486Z"
    }
   },
   "outputs": [
    {
     "name": "stdout",
     "output_type": "stream",
     "text": [
      "\\begin{tabular}{llrrr}\n",
      "\\toprule\n",
      " & param & flops_train & train/device/samples_per_sec & validate/device/samples_per_sec \\\\\n",
      "model &  &  &  &  \\\\\n",
      "\\midrule\n",
      "LCNN & 682 K & 0.255296 & 503.529886 & 1734.575040 \\\\\n",
      "RawNet2 & 17.7 M & 1.199694 & 562.006842 & 1332.467762 \\\\\n",
      "RawGAT & 440 K & 13.685228 & 89.333039 & 258.348062 \\\\\n",
      "WaveLM & 94.4 M & 20.791399 & 257.359792 & 840.903328 \\\\\n",
      "LibriSeVoc & 17.7 M & 1.199700 & 485.366909 & 1525.989388 \\\\\n",
      "AudioClip & 134 M & 3.268036 & 557.176202 & 1942.107983 \\\\\n",
      "Wav2Clip & 11.7 M & 1.346389 & 876.699565 & 2060.610695 \\\\\n",
      "AASIST & 297 K & 7.100886 & 158.955672 & 461.367023 \\\\\n",
      "SFATNet & 81.4 M & 16.303932 & 364.646279 & 923.170679 \\\\\n",
      "ASDG & 1.1 M & 0.341719 & 1005.621651 & 1213.257123 \\\\\n",
      "Ours/ResNet & 22.5 M & 3.211223 & 233.299355 & 1841.332878 \\\\\n",
      "\\bottomrule\n",
      "\\end{tabular}\n",
      "\n"
     ]
    }
   ],
   "source": [
    "print(data[['model', 'param', 'flops_train','train/device/samples_per_sec', 'validate/device/samples_per_sec',]].set_index('model').to_latex())"
   ]
  },
  {
   "cell_type": "code",
   "execution_count": 10,
   "id": "2344af80-4fa8-4ec4-b402-e47a4d0bc43e",
   "metadata": {
    "execution": {
     "iopub.execute_input": "2024-09-18T10:34:12.466131Z",
     "iopub.status.busy": "2024-09-18T10:34:12.465010Z",
     "iopub.status.idle": "2024-09-18T10:34:14.651942Z",
     "shell.execute_reply": "2024-09-18T10:34:14.651244Z",
     "shell.execute_reply.started": "2024-09-18T10:34:12.466095Z"
    }
   },
   "outputs": [
    {
     "name": "stdout",
     "output_type": "stream",
     "text": [
      "defaultdict(<class 'int'>, {'convolution.default': 1813561344, 'addmm.default': 512000})\n"
     ]
    }
   ],
   "source": [
    "import copy\n",
    "import torch\n",
    "import torchvision.models as models\n",
    "from torchtnt.utils.flops import FlopTensorDispatchMode\n",
    "\n",
    "module = models.resnet18()\n",
    "module_input = torch.randn(1, 3, 224, 224)\n",
    "with FlopTensorDispatchMode(module) as ftdm:\n",
    "    # count forward flops\n",
    "    res = module(module_input).mean()\n",
    "    flops_forward = copy.deepcopy(ftdm.flop_counts)\n",
    "\n",
    "    # reset count before counting backward flops\n",
    "    ftdm.reset()\n",
    "    res.backward()\n",
    "    flops_backward = copy.deepcopy(ftdm.flop_counts)\n",
    "print(flops_forward[''])"
   ]
  },
  {
   "cell_type": "code",
   "execution_count": 15,
   "id": "39e5e529-9974-4a3f-977a-23838e25f86f",
   "metadata": {
    "execution": {
     "iopub.execute_input": "2024-09-18T10:41:59.638045Z",
     "iopub.status.busy": "2024-09-18T10:41:59.636479Z",
     "iopub.status.idle": "2024-09-18T10:41:59.786112Z",
     "shell.execute_reply": "2024-09-18T10:41:59.784887Z",
     "shell.execute_reply.started": "2024-09-18T10:41:59.637968Z"
    }
   },
   "outputs": [],
   "source": [
    "from lightning.fabric.utilities.throughput import measure_flops\n",
    "with torch.device(\"meta\"):\n",
    "    model = models.resnet18()\n",
    "    x = torch.randn(1, 3, 224, 224)\n",
    "\n",
    "model_fwd = lambda: model(x)\n",
    "fwd_flops = measure_flops(model, model_fwd)"
   ]
  },
  {
   "cell_type": "code",
   "execution_count": 14,
   "id": "fd9cfd88-6847-4e4d-9e46-367d044b7d80",
   "metadata": {
    "execution": {
     "iopub.execute_input": "2024-09-18T10:34:44.830841Z",
     "iopub.status.busy": "2024-09-18T10:34:44.830278Z",
     "iopub.status.idle": "2024-09-18T10:34:44.902046Z",
     "shell.execute_reply": "2024-09-18T10:34:44.900117Z",
     "shell.execute_reply.started": "2024-09-18T10:34:44.830787Z"
    }
   },
   "outputs": [
    {
     "data": {
      "text/plain": [
       "1814073344.0"
      ]
     },
     "execution_count": 14,
     "metadata": {},
     "output_type": "execute_result"
    }
   ],
   "source": [
    "fwd_flops / 2"
   ]
  }
 ],
 "metadata": {
  "kernelspec": {
   "display_name": "Python 3 (ipykernel)",
   "language": "python",
   "name": "python3"
  },
  "language_info": {
   "codemirror_mode": {
    "name": "ipython",
    "version": 3
   },
   "file_extension": ".py",
   "mimetype": "text/x-python",
   "name": "python",
   "nbconvert_exporter": "python",
   "pygments_lexer": "ipython3",
   "version": "3.9.18"
  }
 },
 "nbformat": 4,
 "nbformat_minor": 5
}
