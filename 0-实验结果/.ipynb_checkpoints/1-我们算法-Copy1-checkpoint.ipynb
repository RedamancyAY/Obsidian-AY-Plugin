{
 "cells": [
  {
   "cell_type": "code",
   "execution_count": 1,
   "id": "30a7cc37-ef52-4811-babc-a485a15ccefd",
   "metadata": {
    "execution": {
     "iopub.execute_input": "2024-01-15T02:03:33.988633Z",
     "iopub.status.busy": "2024-01-15T02:03:33.987999Z",
     "iopub.status.idle": "2024-01-15T02:03:34.024602Z",
     "shell.execute_reply": "2024-01-15T02:03:34.023248Z",
     "shell.execute_reply.started": "2024-01-15T02:03:33.988395Z"
    },
    "tags": []
   },
   "outputs": [],
   "source": [
    "%load_ext autoreload\n",
    "%autoreload 2"
   ]
  },
  {
   "cell_type": "code",
   "execution_count": 2,
   "id": "95263c55-3c74-413c-8166-c8410400993e",
   "metadata": {
    "execution": {
     "iopub.execute_input": "2024-01-15T02:03:37.499528Z",
     "iopub.status.busy": "2024-01-15T02:03:37.499039Z",
     "iopub.status.idle": "2024-01-15T02:03:37.718626Z",
     "shell.execute_reply": "2024-01-15T02:03:37.717942Z",
     "shell.execute_reply.started": "2024-01-15T02:03:37.499483Z"
    },
    "tags": []
   },
   "outputs": [],
   "source": [
    "from utils import (\n",
    "    display_cross_dataset_evaluation,\n",
    "    display_cross_language_evaluation,\n",
    "    display_cross_method_evaluation,\n",
    "    display_inner_evaluation,\n",
    ")"
   ]
  },
  {
   "cell_type": "markdown",
   "id": "ecae1dda-fa03-4a1b-a006-9dd1c139a10d",
   "metadata": {},
   "source": [
    "# Inner evaluation"
   ]
  },
  {
   "cell_type": "code",
   "execution_count": 6,
   "id": "29cde6f8-8490-49df-9202-61dca6666e80",
   "metadata": {
    "execution": {
     "iopub.execute_input": "2024-01-14T14:41:15.657648Z",
     "iopub.status.busy": "2024-01-14T14:41:15.657316Z",
     "iopub.status.idle": "2024-01-14T14:41:15.720958Z",
     "shell.execute_reply": "2024-01-14T14:41:15.719464Z",
     "shell.execute_reply.started": "2024-01-14T14:41:15.657621Z"
    }
   },
   "outputs": [
    {
     "data": {
      "text/html": [
       "<table border=\"1\" class=\"dataframe\">\n",
       "  <thead>\n",
       "    <tr style=\"text-align: right;\">\n",
       "      <th></th>\n",
       "      <th>LibriSeVoc_inner</th>\n",
       "      <th>wavefake_inner</th>\n",
       "      <th>DECRO_english</th>\n",
       "      <th>mean</th>\n",
       "    </tr>\n",
       "    <tr>\n",
       "      <th>model</th>\n",
       "      <th></th>\n",
       "      <th></th>\n",
       "      <th></th>\n",
       "      <th></th>\n",
       "    </tr>\n",
       "  </thead>\n",
       "  <tbody>\n",
       "    <tr>\n",
       "      <th>Ours/MSFM</th>\n",
       "      <td>100.00/0.27</td>\n",
       "      <td>100.00/0.06</td>\n",
       "      <td>100.00/0.18</td>\n",
       "      <td>100.00/0.17</td>\n",
       "    </tr>\n",
       "  </tbody>\n",
       "</table>"
      ],
      "text/plain": [
       "<IPython.core.display.HTML object>"
      ]
     },
     "metadata": {},
     "output_type": "display_data"
    }
   ],
   "source": [
    "data = display_inner_evaluation(\n",
    "    # models=[\"Ours/LCNN\", \"Ours/ResNet\", \"Ours/RawNet\", \"Ours/MSFM\"],\n",
    "    models=[\"Ours/MSFM\"],\n",
    "    version=0,\n",
    "    show_latex=0,\n",
    "    metric_prefix=\"test-content\",\n",
    ")"
   ]
  },
  {
   "cell_type": "markdown",
   "id": "4f462388-100a-4ad5-8de5-f0cc18fc3138",
   "metadata": {},
   "source": [
    "## Cross method"
   ]
  },
  {
   "cell_type": "code",
   "execution_count": 7,
   "id": "ea8d2340-9b30-4997-bd8b-6b3c9ca7c096",
   "metadata": {
    "execution": {
     "iopub.execute_input": "2024-01-14T14:41:42.498710Z",
     "iopub.status.busy": "2024-01-14T14:41:42.498146Z",
     "iopub.status.idle": "2024-01-14T14:41:42.612367Z",
     "shell.execute_reply": "2024-01-14T14:41:42.610660Z",
     "shell.execute_reply.started": "2024-01-14T14:41:42.498658Z"
    }
   },
   "outputs": [
    {
     "name": "stdout",
     "output_type": "stream",
     "text": [
      "Warning!!!! cannot find:  /home/ay/data/DATA/1-model_save/00-Deepfake/1-df-audio/Ours/LCNN/LibriSeVoc_cross_method/version_0/test.csv\n"
     ]
    },
    {
     "data": {
      "text/html": [
       "<table border=\"1\" class=\"dataframe\">\n",
       "  <thead>\n",
       "    <tr>\n",
       "      <th>dataset</th>\n",
       "      <th colspan=\"6\" halign=\"left\">wavefake</th>\n",
       "      <th colspan=\"5\" halign=\"left\">LibriSeVoc</th>\n",
       "    </tr>\n",
       "    <tr>\n",
       "      <th>method</th>\n",
       "      <th>1</th>\n",
       "      <th>2</th>\n",
       "      <th>3</th>\n",
       "      <th>4</th>\n",
       "      <th>6</th>\n",
       "      <th>999</th>\n",
       "      <th>1</th>\n",
       "      <th>2</th>\n",
       "      <th>3</th>\n",
       "      <th>5</th>\n",
       "      <th>999</th>\n",
       "    </tr>\n",
       "    <tr>\n",
       "      <th>model</th>\n",
       "      <th></th>\n",
       "      <th></th>\n",
       "      <th></th>\n",
       "      <th></th>\n",
       "      <th></th>\n",
       "      <th></th>\n",
       "      <th></th>\n",
       "      <th></th>\n",
       "      <th></th>\n",
       "      <th></th>\n",
       "      <th></th>\n",
       "    </tr>\n",
       "  </thead>\n",
       "  <tbody>\n",
       "    <tr>\n",
       "      <th>Ours/LCNN</th>\n",
       "      <td>1.03</td>\n",
       "      <td>1.03</td>\n",
       "      <td>1.91</td>\n",
       "      <td>0.00</td>\n",
       "      <td>0.47</td>\n",
       "      <td>0.89</td>\n",
       "      <td>NaN</td>\n",
       "      <td>NaN</td>\n",
       "      <td>NaN</td>\n",
       "      <td>NaN</td>\n",
       "      <td>NaN</td>\n",
       "    </tr>\n",
       "    <tr>\n",
       "      <th>Ours/MSFM</th>\n",
       "      <td>9.92</td>\n",
       "      <td>10.98</td>\n",
       "      <td>10.04</td>\n",
       "      <td>9.82</td>\n",
       "      <td>9.69</td>\n",
       "      <td>10.09</td>\n",
       "      <td>36.84</td>\n",
       "      <td>25.48</td>\n",
       "      <td>31.16</td>\n",
       "      <td>51.73</td>\n",
       "      <td>36.30</td>\n",
       "    </tr>\n",
       "    <tr>\n",
       "      <th>Ours/RawNet</th>\n",
       "      <td>45.92</td>\n",
       "      <td>43.39</td>\n",
       "      <td>47.44</td>\n",
       "      <td>6.10</td>\n",
       "      <td>27.63</td>\n",
       "      <td>34.10</td>\n",
       "      <td>35.21</td>\n",
       "      <td>41.38</td>\n",
       "      <td>45.24</td>\n",
       "      <td>31.20</td>\n",
       "      <td>38.26</td>\n",
       "    </tr>\n",
       "    <tr>\n",
       "      <th>Ours/ResNet</th>\n",
       "      <td>2.33</td>\n",
       "      <td>1.36</td>\n",
       "      <td>3.74</td>\n",
       "      <td>0.00</td>\n",
       "      <td>4.85</td>\n",
       "      <td>2.45</td>\n",
       "      <td>9.58</td>\n",
       "      <td>26.88</td>\n",
       "      <td>43.10</td>\n",
       "      <td>22.19</td>\n",
       "      <td>25.44</td>\n",
       "    </tr>\n",
       "  </tbody>\n",
       "</table>"
      ],
      "text/plain": [
       "<IPython.core.display.HTML object>"
      ]
     },
     "metadata": {},
     "output_type": "display_data"
    }
   ],
   "source": [
    "display_cross_method_evaluation(\n",
    "    models=[\"Ours/LCNN\", \"Ours/ResNet\", \"Ours/RawNet\", \"Ours/MSFM\"],\n",
    "    version=0,\n",
    "    show_latex=0,\n",
    ")"
   ]
  },
  {
   "cell_type": "code",
   "execution_count": 8,
   "id": "755e8007-17fb-44c3-91fe-613dc40cc238",
   "metadata": {
    "execution": {
     "iopub.execute_input": "2024-01-15T02:07:32.403723Z",
     "iopub.status.busy": "2024-01-15T02:07:32.403182Z",
     "iopub.status.idle": "2024-01-15T02:07:32.718066Z",
     "shell.execute_reply": "2024-01-15T02:07:32.716968Z",
     "shell.execute_reply.started": "2024-01-15T02:07:32.403679Z"
    },
    "tags": []
   },
   "outputs": [
    {
     "data": {
      "text/html": [
       "<table border=\"1\" class=\"dataframe\">\n",
       "  <thead>\n",
       "    <tr>\n",
       "      <th>dataset</th>\n",
       "      <th colspan=\"5\" halign=\"left\">LibriSeVoc</th>\n",
       "      <th colspan=\"6\" halign=\"left\">wavefake</th>\n",
       "    </tr>\n",
       "    <tr>\n",
       "      <th>method</th>\n",
       "      <th>1</th>\n",
       "      <th>2</th>\n",
       "      <th>3</th>\n",
       "      <th>5</th>\n",
       "      <th>999</th>\n",
       "      <th>1</th>\n",
       "      <th>2</th>\n",
       "      <th>3</th>\n",
       "      <th>4</th>\n",
       "      <th>6</th>\n",
       "      <th>999</th>\n",
       "    </tr>\n",
       "    <tr>\n",
       "      <th>model</th>\n",
       "      <th></th>\n",
       "      <th></th>\n",
       "      <th></th>\n",
       "      <th></th>\n",
       "      <th></th>\n",
       "      <th></th>\n",
       "      <th></th>\n",
       "      <th></th>\n",
       "      <th></th>\n",
       "      <th></th>\n",
       "      <th></th>\n",
       "    </tr>\n",
       "  </thead>\n",
       "  <tbody>\n",
       "    <tr>\n",
       "      <th>Ours/MSFM</th>\n",
       "      <td>1.24</td>\n",
       "      <td>11.27</td>\n",
       "      <td>31.99</td>\n",
       "      <td>0.22</td>\n",
       "      <td>11.18</td>\n",
       "      <td>6.85</td>\n",
       "      <td>10.78</td>\n",
       "      <td>12.21</td>\n",
       "      <td>0.02</td>\n",
       "      <td>11.05</td>\n",
       "      <td>8.18</td>\n",
       "    </tr>\n",
       "  </tbody>\n",
       "</table>"
      ],
      "text/plain": [
       "<IPython.core.display.HTML object>"
      ]
     },
     "metadata": {},
     "output_type": "display_data"
    },
    {
     "data": {
      "text/html": [
       "<table border=\"1\" class=\"dataframe\">\n",
       "  <thead>\n",
       "    <tr>\n",
       "      <th>dataset</th>\n",
       "      <th colspan=\"5\" halign=\"left\">LibriSeVoc</th>\n",
       "      <th colspan=\"6\" halign=\"left\">wavefake</th>\n",
       "    </tr>\n",
       "    <tr>\n",
       "      <th>method</th>\n",
       "      <th>1</th>\n",
       "      <th>2</th>\n",
       "      <th>3</th>\n",
       "      <th>5</th>\n",
       "      <th>999</th>\n",
       "      <th>1</th>\n",
       "      <th>2</th>\n",
       "      <th>3</th>\n",
       "      <th>4</th>\n",
       "      <th>6</th>\n",
       "      <th>999</th>\n",
       "    </tr>\n",
       "    <tr>\n",
       "      <th>model</th>\n",
       "      <th></th>\n",
       "      <th></th>\n",
       "      <th></th>\n",
       "      <th></th>\n",
       "      <th></th>\n",
       "      <th></th>\n",
       "      <th></th>\n",
       "      <th></th>\n",
       "      <th></th>\n",
       "      <th></th>\n",
       "      <th></th>\n",
       "    </tr>\n",
       "  </thead>\n",
       "  <tbody>\n",
       "    <tr>\n",
       "      <th>Ours/MSFM</th>\n",
       "      <td>1.82</td>\n",
       "      <td>9.35</td>\n",
       "      <td>12.43</td>\n",
       "      <td>0.38</td>\n",
       "      <td>6.00</td>\n",
       "      <td>5.53</td>\n",
       "      <td>6.68</td>\n",
       "      <td>7.80</td>\n",
       "      <td>0.05</td>\n",
       "      <td>5.88</td>\n",
       "      <td>5.19</td>\n",
       "    </tr>\n",
       "  </tbody>\n",
       "</table>"
      ],
      "text/plain": [
       "<IPython.core.display.HTML object>"
      ]
     },
     "metadata": {},
     "output_type": "display_data"
    },
    {
     "data": {
      "text/html": [
       "<table border=\"1\" class=\"dataframe\">\n",
       "  <thead>\n",
       "    <tr>\n",
       "      <th>dataset</th>\n",
       "      <th colspan=\"5\" halign=\"left\">LibriSeVoc</th>\n",
       "      <th colspan=\"6\" halign=\"left\">wavefake</th>\n",
       "    </tr>\n",
       "    <tr>\n",
       "      <th>method</th>\n",
       "      <th>1</th>\n",
       "      <th>2</th>\n",
       "      <th>3</th>\n",
       "      <th>5</th>\n",
       "      <th>999</th>\n",
       "      <th>1</th>\n",
       "      <th>2</th>\n",
       "      <th>3</th>\n",
       "      <th>4</th>\n",
       "      <th>6</th>\n",
       "      <th>999</th>\n",
       "    </tr>\n",
       "    <tr>\n",
       "      <th>model</th>\n",
       "      <th></th>\n",
       "      <th></th>\n",
       "      <th></th>\n",
       "      <th></th>\n",
       "      <th></th>\n",
       "      <th></th>\n",
       "      <th></th>\n",
       "      <th></th>\n",
       "      <th></th>\n",
       "      <th></th>\n",
       "      <th></th>\n",
       "    </tr>\n",
       "  </thead>\n",
       "  <tbody>\n",
       "    <tr>\n",
       "      <th>Ours/MSFM</th>\n",
       "      <td>2.61</td>\n",
       "      <td>10.03</td>\n",
       "      <td>14.91</td>\n",
       "      <td>0.63</td>\n",
       "      <td>7.05</td>\n",
       "      <td>5.53</td>\n",
       "      <td>11.49</td>\n",
       "      <td>11.98</td>\n",
       "      <td>0.00</td>\n",
       "      <td>5.35</td>\n",
       "      <td>6.87</td>\n",
       "    </tr>\n",
       "  </tbody>\n",
       "</table>"
      ],
      "text/plain": [
       "<IPython.core.display.HTML object>"
      ]
     },
     "metadata": {},
     "output_type": "display_data"
    },
    {
     "data": {
      "text/html": [
       "<table border=\"1\" class=\"dataframe\">\n",
       "  <thead>\n",
       "    <tr>\n",
       "      <th>dataset</th>\n",
       "      <th colspan=\"5\" halign=\"left\">LibriSeVoc</th>\n",
       "      <th colspan=\"6\" halign=\"left\">wavefake</th>\n",
       "    </tr>\n",
       "    <tr>\n",
       "      <th>method</th>\n",
       "      <th>1</th>\n",
       "      <th>2</th>\n",
       "      <th>3</th>\n",
       "      <th>5</th>\n",
       "      <th>999</th>\n",
       "      <th>1</th>\n",
       "      <th>2</th>\n",
       "      <th>3</th>\n",
       "      <th>4</th>\n",
       "      <th>6</th>\n",
       "      <th>999</th>\n",
       "    </tr>\n",
       "    <tr>\n",
       "      <th>model</th>\n",
       "      <th></th>\n",
       "      <th></th>\n",
       "      <th></th>\n",
       "      <th></th>\n",
       "      <th></th>\n",
       "      <th></th>\n",
       "      <th></th>\n",
       "      <th></th>\n",
       "      <th></th>\n",
       "      <th></th>\n",
       "      <th></th>\n",
       "    </tr>\n",
       "  </thead>\n",
       "  <tbody>\n",
       "    <tr>\n",
       "      <th>Ours/MSFM</th>\n",
       "      <td>1.55</td>\n",
       "      <td>4.88</td>\n",
       "      <td>10.98</td>\n",
       "      <td>0.30</td>\n",
       "      <td>4.43</td>\n",
       "      <td>5.95</td>\n",
       "      <td>6.95</td>\n",
       "      <td>8.70</td>\n",
       "      <td>0.00</td>\n",
       "      <td>4.01</td>\n",
       "      <td>5.12</td>\n",
       "    </tr>\n",
       "  </tbody>\n",
       "</table>"
      ],
      "text/plain": [
       "<IPython.core.display.HTML object>"
      ]
     },
     "metadata": {},
     "output_type": "display_data"
    }
   ],
   "source": [
    "for v in [1, 2, 3, 4]:\n",
    "    \n",
    "    display_cross_method_evaluation(\n",
    "        models=[\n",
    "            \"Ours/MSFM\",\n",
    "        ],\n",
    "        version=v,\n",
    "        show_latex=0,\n",
    "        metric_prefix=\"test-content\",\n",
    "    )"
   ]
  },
  {
   "cell_type": "code",
   "execution_count": null,
   "id": "fe8591f1-7a05-4497-b01c-305cb9971dde",
   "metadata": {},
   "outputs": [],
   "source": []
  },
  {
   "cell_type": "markdown",
   "id": "2ebead39-b2f3-46a7-aa9d-0bb291fa5b6f",
   "metadata": {},
   "source": [
    "## Cross Dataset"
   ]
  },
  {
   "cell_type": "code",
   "execution_count": 11,
   "id": "6f4d59e5-db72-48f1-a2f8-7c7726c6a813",
   "metadata": {
    "execution": {
     "iopub.execute_input": "2024-01-14T14:46:49.334975Z",
     "iopub.status.busy": "2024-01-14T14:46:49.334565Z",
     "iopub.status.idle": "2024-01-14T14:46:49.415376Z",
     "shell.execute_reply": "2024-01-14T14:46:49.413899Z",
     "shell.execute_reply.started": "2024-01-14T14:46:49.334939Z"
    }
   },
   "outputs": [
    {
     "data": {
      "text/html": [
       "<table border=\"1\" class=\"dataframe\">\n",
       "  <thead>\n",
       "    <tr style=\"text-align: right;\">\n",
       "      <th>method</th>\n",
       "      <th>0</th>\n",
       "      <th>1</th>\n",
       "      <th>2</th>\n",
       "      <th>3</th>\n",
       "      <th>4</th>\n",
       "      <th>5</th>\n",
       "      <th>6</th>\n",
       "      <th>avg</th>\n",
       "    </tr>\n",
       "    <tr>\n",
       "      <th>model</th>\n",
       "      <th></th>\n",
       "      <th></th>\n",
       "      <th></th>\n",
       "      <th></th>\n",
       "      <th></th>\n",
       "      <th></th>\n",
       "      <th></th>\n",
       "      <th></th>\n",
       "    </tr>\n",
       "  </thead>\n",
       "  <tbody>\n",
       "    <tr>\n",
       "      <th>Ours/LCNN</th>\n",
       "      <td>0.98</td>\n",
       "      <td>40.00</td>\n",
       "      <td>45.19</td>\n",
       "      <td>42.02</td>\n",
       "      <td>43.98</td>\n",
       "      <td>2.40</td>\n",
       "      <td>0.50</td>\n",
       "      <td>25.01</td>\n",
       "    </tr>\n",
       "    <tr>\n",
       "      <th>Ours/MSFM</th>\n",
       "      <td>2.24</td>\n",
       "      <td>12.86</td>\n",
       "      <td>10.21</td>\n",
       "      <td>11.87</td>\n",
       "      <td>10.50</td>\n",
       "      <td>4.81</td>\n",
       "      <td>0.24</td>\n",
       "      <td>7.53</td>\n",
       "    </tr>\n",
       "    <tr>\n",
       "      <th>Ours/RawNet</th>\n",
       "      <td>31.53</td>\n",
       "      <td>47.79</td>\n",
       "      <td>47.23</td>\n",
       "      <td>40.01</td>\n",
       "      <td>71.66</td>\n",
       "      <td>45.76</td>\n",
       "      <td>1.12</td>\n",
       "      <td>40.73</td>\n",
       "    </tr>\n",
       "    <tr>\n",
       "      <th>Ours/ResNet</th>\n",
       "      <td>0.26</td>\n",
       "      <td>36.72</td>\n",
       "      <td>19.23</td>\n",
       "      <td>23.83</td>\n",
       "      <td>17.65</td>\n",
       "      <td>0.16</td>\n",
       "      <td>2.31</td>\n",
       "      <td>14.31</td>\n",
       "    </tr>\n",
       "  </tbody>\n",
       "</table>"
      ],
      "text/plain": [
       "<IPython.core.display.HTML object>"
      ]
     },
     "metadata": {},
     "output_type": "display_data"
    }
   ],
   "source": [
    "display_cross_dataset_evaluation(\n",
    "    models=[\"Ours/LCNN\", \"Ours/ResNet\", \"Ours/RawNet\", \"Ours/MSFM\"],\n",
    "    version=0,\n",
    "    show_latex=0,\n",
    ")"
   ]
  },
  {
   "cell_type": "code",
   "execution_count": 5,
   "id": "ea4dea58-0821-44ec-9be3-c1267fef5f12",
   "metadata": {
    "execution": {
     "iopub.execute_input": "2024-01-15T02:04:12.073705Z",
     "iopub.status.busy": "2024-01-15T02:04:12.073161Z",
     "iopub.status.idle": "2024-01-15T02:04:12.210654Z",
     "shell.execute_reply": "2024-01-15T02:04:12.209300Z",
     "shell.execute_reply.started": "2024-01-15T02:04:12.073660Z"
    },
    "tags": []
   },
   "outputs": [
    {
     "data": {
      "text/html": [
       "<table border=\"1\" class=\"dataframe\">\n",
       "  <thead>\n",
       "    <tr style=\"text-align: right;\">\n",
       "      <th>method</th>\n",
       "      <th>0</th>\n",
       "      <th>1</th>\n",
       "      <th>2</th>\n",
       "      <th>3</th>\n",
       "      <th>4</th>\n",
       "      <th>5</th>\n",
       "      <th>6</th>\n",
       "      <th>avg</th>\n",
       "    </tr>\n",
       "    <tr>\n",
       "      <th>model</th>\n",
       "      <th></th>\n",
       "      <th></th>\n",
       "      <th></th>\n",
       "      <th></th>\n",
       "      <th></th>\n",
       "      <th></th>\n",
       "      <th></th>\n",
       "      <th></th>\n",
       "    </tr>\n",
       "  </thead>\n",
       "  <tbody>\n",
       "    <tr>\n",
       "      <th>Ours/MSFM</th>\n",
       "      <td>0.09</td>\n",
       "      <td>15.13</td>\n",
       "      <td>13.15</td>\n",
       "      <td>10.73</td>\n",
       "      <td>10.15</td>\n",
       "      <td>0.62</td>\n",
       "      <td>0.34</td>\n",
       "      <td>7.17</td>\n",
       "    </tr>\n",
       "  </tbody>\n",
       "</table>"
      ],
      "text/plain": [
       "<IPython.core.display.HTML object>"
      ]
     },
     "metadata": {},
     "output_type": "display_data"
    },
    {
     "data": {
      "text/html": [
       "<table border=\"1\" class=\"dataframe\">\n",
       "  <thead>\n",
       "    <tr style=\"text-align: right;\">\n",
       "      <th>method</th>\n",
       "      <th>0</th>\n",
       "      <th>1</th>\n",
       "      <th>2</th>\n",
       "      <th>3</th>\n",
       "      <th>4</th>\n",
       "      <th>5</th>\n",
       "      <th>6</th>\n",
       "      <th>avg</th>\n",
       "    </tr>\n",
       "    <tr>\n",
       "      <th>model</th>\n",
       "      <th></th>\n",
       "      <th></th>\n",
       "      <th></th>\n",
       "      <th></th>\n",
       "      <th></th>\n",
       "      <th></th>\n",
       "      <th></th>\n",
       "      <th></th>\n",
       "    </tr>\n",
       "  </thead>\n",
       "  <tbody>\n",
       "    <tr>\n",
       "      <th>Ours/MSFM</th>\n",
       "      <td>0.15</td>\n",
       "      <td>29.68</td>\n",
       "      <td>22.11</td>\n",
       "      <td>18.13</td>\n",
       "      <td>18.17</td>\n",
       "      <td>0.61</td>\n",
       "      <td>0.15</td>\n",
       "      <td>12.71</td>\n",
       "    </tr>\n",
       "  </tbody>\n",
       "</table>"
      ],
      "text/plain": [
       "<IPython.core.display.HTML object>"
      ]
     },
     "metadata": {},
     "output_type": "display_data"
    },
    {
     "data": {
      "text/html": [
       "<table border=\"1\" class=\"dataframe\">\n",
       "  <thead>\n",
       "    <tr style=\"text-align: right;\">\n",
       "      <th>method</th>\n",
       "      <th>0</th>\n",
       "      <th>1</th>\n",
       "      <th>2</th>\n",
       "      <th>3</th>\n",
       "      <th>4</th>\n",
       "      <th>5</th>\n",
       "      <th>6</th>\n",
       "      <th>avg</th>\n",
       "    </tr>\n",
       "    <tr>\n",
       "      <th>model</th>\n",
       "      <th></th>\n",
       "      <th></th>\n",
       "      <th></th>\n",
       "      <th></th>\n",
       "      <th></th>\n",
       "      <th></th>\n",
       "      <th></th>\n",
       "      <th></th>\n",
       "    </tr>\n",
       "  </thead>\n",
       "  <tbody>\n",
       "    <tr>\n",
       "      <th>Ours/MSFM</th>\n",
       "      <td>0.11</td>\n",
       "      <td>16.24</td>\n",
       "      <td>9.84</td>\n",
       "      <td>8.43</td>\n",
       "      <td>7.98</td>\n",
       "      <td>0.45</td>\n",
       "      <td>0.07</td>\n",
       "      <td>6.16</td>\n",
       "    </tr>\n",
       "  </tbody>\n",
       "</table>"
      ],
      "text/plain": [
       "<IPython.core.display.HTML object>"
      ]
     },
     "metadata": {},
     "output_type": "display_data"
    },
    {
     "data": {
      "text/html": [
       "<table border=\"1\" class=\"dataframe\">\n",
       "  <thead>\n",
       "    <tr style=\"text-align: right;\">\n",
       "      <th>method</th>\n",
       "      <th>0</th>\n",
       "      <th>1</th>\n",
       "      <th>2</th>\n",
       "      <th>3</th>\n",
       "      <th>4</th>\n",
       "      <th>5</th>\n",
       "      <th>6</th>\n",
       "      <th>avg</th>\n",
       "    </tr>\n",
       "    <tr>\n",
       "      <th>model</th>\n",
       "      <th></th>\n",
       "      <th></th>\n",
       "      <th></th>\n",
       "      <th></th>\n",
       "      <th></th>\n",
       "      <th></th>\n",
       "      <th></th>\n",
       "      <th></th>\n",
       "    </tr>\n",
       "  </thead>\n",
       "  <tbody>\n",
       "    <tr>\n",
       "      <th>Ours/MSFM</th>\n",
       "      <td>0.08</td>\n",
       "      <td>8.95</td>\n",
       "      <td>8.09</td>\n",
       "      <td>8.53</td>\n",
       "      <td>8.85</td>\n",
       "      <td>0.92</td>\n",
       "      <td>0.09</td>\n",
       "      <td>5.07</td>\n",
       "    </tr>\n",
       "  </tbody>\n",
       "</table>"
      ],
      "text/plain": [
       "<IPython.core.display.HTML object>"
      ]
     },
     "metadata": {},
     "output_type": "display_data"
    }
   ],
   "source": [
    "for v in [1, 2, 3, 4]:\n",
    "    display_cross_dataset_evaluation(\n",
    "        models=[\"Ours/MSFM\"], version=v, show_latex=0, metric_prefix=\"test-content\"\n",
    "    )"
   ]
  },
  {
   "cell_type": "markdown",
   "id": "960abcc3-8ce5-4bce-8e8b-3e0e1b40ba24",
   "metadata": {},
   "source": [
    "## Cross Language"
   ]
  },
  {
   "cell_type": "code",
   "execution_count": 10,
   "id": "98a94c6c-77a4-4bd5-92e2-df24e180c33a",
   "metadata": {
    "execution": {
     "iopub.execute_input": "2024-01-14T14:46:18.093502Z",
     "iopub.status.busy": "2024-01-14T14:46:18.092823Z",
     "iopub.status.idle": "2024-01-14T14:46:18.214908Z",
     "shell.execute_reply": "2024-01-14T14:46:18.213707Z",
     "shell.execute_reply.started": "2024-01-14T14:46:18.093438Z"
    }
   },
   "outputs": [
    {
     "data": {
      "text/html": [
       "<table border=\"1\" class=\"dataframe\">\n",
       "  <thead>\n",
       "    <tr style=\"text-align: right;\">\n",
       "      <th></th>\n",
       "      <th>wavefake_cross_lang</th>\n",
       "      <th>DECRO_chinese</th>\n",
       "      <th>DECRO_english</th>\n",
       "      <th>avg</th>\n",
       "    </tr>\n",
       "    <tr>\n",
       "      <th>model</th>\n",
       "      <th></th>\n",
       "      <th></th>\n",
       "      <th></th>\n",
       "      <th></th>\n",
       "    </tr>\n",
       "  </thead>\n",
       "  <tbody>\n",
       "    <tr>\n",
       "      <th>Ours/LCNN</th>\n",
       "      <td>4.30</td>\n",
       "      <td>32.77</td>\n",
       "      <td>28.87</td>\n",
       "      <td>21.98</td>\n",
       "    </tr>\n",
       "    <tr>\n",
       "      <th>Ours/MSFM</th>\n",
       "      <td>9.20</td>\n",
       "      <td>64.28</td>\n",
       "      <td>65.43</td>\n",
       "      <td>46.30</td>\n",
       "    </tr>\n",
       "    <tr>\n",
       "      <th>Ours/RawNet</th>\n",
       "      <td>37.78</td>\n",
       "      <td>46.45</td>\n",
       "      <td>42.17</td>\n",
       "      <td>42.13</td>\n",
       "    </tr>\n",
       "    <tr>\n",
       "      <th>Ours/ResNet</th>\n",
       "      <td>21.90</td>\n",
       "      <td>16.86</td>\n",
       "      <td>25.86</td>\n",
       "      <td>21.54</td>\n",
       "    </tr>\n",
       "  </tbody>\n",
       "</table>"
      ],
      "text/plain": [
       "<IPython.core.display.HTML object>"
      ]
     },
     "metadata": {},
     "output_type": "display_data"
    }
   ],
   "source": [
    "data = display_cross_language_evaluation(\n",
    "    models=[\"Ours/LCNN\", \"Ours/ResNet\", \"Ours/RawNet\", \"Ours/MSFM\"],\n",
    "    version=0,\n",
    "    show_latex=0,\n",
    ")"
   ]
  },
  {
   "cell_type": "code",
   "execution_count": 7,
   "id": "17b58a65-e59e-4ae9-9593-3a738bc84060",
   "metadata": {
    "execution": {
     "iopub.execute_input": "2024-01-15T02:06:45.558460Z",
     "iopub.status.busy": "2024-01-15T02:06:45.557712Z",
     "iopub.status.idle": "2024-01-15T02:06:45.632420Z",
     "shell.execute_reply": "2024-01-15T02:06:45.631746Z",
     "shell.execute_reply.started": "2024-01-15T02:06:45.558410Z"
    },
    "tags": []
   },
   "outputs": [
    {
     "data": {
      "text/html": [
       "<table border=\"1\" class=\"dataframe\">\n",
       "  <thead>\n",
       "    <tr style=\"text-align: right;\">\n",
       "      <th></th>\n",
       "      <th>DECRO_chinese</th>\n",
       "      <th>DECRO_english</th>\n",
       "      <th>avg</th>\n",
       "    </tr>\n",
       "    <tr>\n",
       "      <th>model</th>\n",
       "      <th></th>\n",
       "      <th></th>\n",
       "      <th></th>\n",
       "    </tr>\n",
       "  </thead>\n",
       "  <tbody>\n",
       "    <tr>\n",
       "      <th>Ours/MSFM</th>\n",
       "      <td>45.01</td>\n",
       "      <td>26.78</td>\n",
       "      <td>23.93</td>\n",
       "    </tr>\n",
       "  </tbody>\n",
       "</table>"
      ],
      "text/plain": [
       "<IPython.core.display.HTML object>"
      ]
     },
     "metadata": {},
     "output_type": "display_data"
    },
    {
     "data": {
      "text/html": [
       "<table border=\"1\" class=\"dataframe\">\n",
       "  <thead>\n",
       "    <tr style=\"text-align: right;\">\n",
       "      <th></th>\n",
       "      <th>DECRO_chinese</th>\n",
       "      <th>DECRO_english</th>\n",
       "      <th>avg</th>\n",
       "    </tr>\n",
       "    <tr>\n",
       "      <th>model</th>\n",
       "      <th></th>\n",
       "      <th></th>\n",
       "      <th></th>\n",
       "    </tr>\n",
       "  </thead>\n",
       "  <tbody>\n",
       "    <tr>\n",
       "      <th>Ours/MSFM</th>\n",
       "      <td>39.48</td>\n",
       "      <td>42.07</td>\n",
       "      <td>27.18</td>\n",
       "    </tr>\n",
       "  </tbody>\n",
       "</table>"
      ],
      "text/plain": [
       "<IPython.core.display.HTML object>"
      ]
     },
     "metadata": {},
     "output_type": "display_data"
    },
    {
     "data": {
      "text/html": [
       "<table border=\"1\" class=\"dataframe\">\n",
       "  <thead>\n",
       "    <tr style=\"text-align: right;\">\n",
       "      <th></th>\n",
       "      <th>DECRO_chinese</th>\n",
       "      <th>DECRO_english</th>\n",
       "      <th>avg</th>\n",
       "    </tr>\n",
       "    <tr>\n",
       "      <th>model</th>\n",
       "      <th></th>\n",
       "      <th></th>\n",
       "      <th></th>\n",
       "    </tr>\n",
       "  </thead>\n",
       "  <tbody>\n",
       "    <tr>\n",
       "      <th>Ours/MSFM</th>\n",
       "      <td>43.04</td>\n",
       "      <td>30.63</td>\n",
       "      <td>24.56</td>\n",
       "    </tr>\n",
       "  </tbody>\n",
       "</table>"
      ],
      "text/plain": [
       "<IPython.core.display.HTML object>"
      ]
     },
     "metadata": {},
     "output_type": "display_data"
    },
    {
     "data": {
      "text/html": [
       "<table border=\"1\" class=\"dataframe\">\n",
       "  <thead>\n",
       "    <tr style=\"text-align: right;\">\n",
       "      <th></th>\n",
       "      <th>DECRO_chinese</th>\n",
       "      <th>DECRO_english</th>\n",
       "      <th>avg</th>\n",
       "    </tr>\n",
       "    <tr>\n",
       "      <th>model</th>\n",
       "      <th></th>\n",
       "      <th></th>\n",
       "      <th></th>\n",
       "    </tr>\n",
       "  </thead>\n",
       "  <tbody>\n",
       "    <tr>\n",
       "      <th>Ours/MSFM</th>\n",
       "      <td>40.51</td>\n",
       "      <td>30.49</td>\n",
       "      <td>23.67</td>\n",
       "    </tr>\n",
       "  </tbody>\n",
       "</table>"
      ],
      "text/plain": [
       "<IPython.core.display.HTML object>"
      ]
     },
     "metadata": {},
     "output_type": "display_data"
    }
   ],
   "source": [
    "for v in [1, 2, 3, 4]:\n",
    "    data = display_cross_language_evaluation(\n",
    "        models=[\"Ours/MSFM\"],\n",
    "        version=v,\n",
    "        show_latex=0,\n",
    "        metric_prefix=\"test-content\",\n",
    "        tasks=[\"DECRO_chinese\", \"DECRO_english\"],\n",
    "    )"
   ]
  }
 ],
 "metadata": {
  "kernelspec": {
   "display_name": "Python 3 (ipykernel)",
   "language": "python",
   "name": "python3"
  },
  "language_info": {
   "codemirror_mode": {
    "name": "ipython",
    "version": 3
   },
   "file_extension": ".py",
   "mimetype": "text/x-python",
   "name": "python",
   "nbconvert_exporter": "python",
   "pygments_lexer": "ipython3",
   "version": "3.9.13"
  }
 },
 "nbformat": 4,
 "nbformat_minor": 5
}
