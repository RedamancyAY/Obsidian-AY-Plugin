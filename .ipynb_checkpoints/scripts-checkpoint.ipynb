{
 "cells": [
  {
   "cell_type": "code",
   "execution_count": 36,
   "id": "7c96c742-fc69-4cf3-8421-88263235303e",
   "metadata": {
    "execution": {
     "iopub.execute_input": "2024-03-14T12:40:35.239960Z",
     "iopub.status.busy": "2024-03-14T12:40:35.239507Z",
     "iopub.status.idle": "2024-03-14T12:40:35.244947Z",
     "shell.execute_reply": "2024-03-14T12:40:35.243925Z",
     "shell.execute_reply.started": "2024-03-14T12:40:35.239922Z"
    }
   },
   "outputs": [],
   "source": [
    "import torch"
   ]
  },
  {
   "cell_type": "markdown",
   "id": "4a598134-7f71-4952-9933-8fd3c43315e0",
   "metadata": {},
   "source": [
    "# Scripts for other models"
   ]
  },
  {
   "cell_type": "code",
   "execution_count": 1,
   "id": "a08473e7-18ff-40ae-877b-ff46fec099c8",
   "metadata": {
    "editable": true,
    "execution": {
     "iopub.execute_input": "2024-03-26T12:07:27.182249Z",
     "iopub.status.busy": "2024-03-26T12:07:27.180743Z",
     "iopub.status.idle": "2024-03-26T12:07:27.205618Z",
     "shell.execute_reply": "2024-03-26T12:07:27.204530Z",
     "shell.execute_reply.started": "2024-03-26T12:07:27.182180Z"
    },
    "scrolled": true,
    "slideshow": {
     "slide_type": ""
    },
    "tags": []
   },
   "outputs": [
    {
     "name": "stdout",
     "output_type": "stream",
     "text": [
      "python train.py --gpu 2 --cfg 'OursMultiView/LibriSeVoc_cross_dataset' --test 1 --version 0;\\\n",
      "python train.py --gpu 2 --cfg 'OursMultiView/wavefake_cross_lang' --test 1 --version 0;\\\n"
     ]
    }
   ],
   "source": [
    "model_first = 1\n",
    "models = [\n",
    "    # \"AASIST\",\n",
    "    # \"LCNN\",\n",
    "    # \"RawNet2\",\n",
    "    # \"Wave2Vec2\",\n",
    "    # \"WaveLM\",\n",
    "    # \"LibriSeVoc\",\n",
    "    # \"Wav2Clip\",\n",
    "    # \"AudioClip\",\n",
    "    # \"RawGAT\",\n",
    "    # \"Ours\",\n",
    "    \"OursMultiView\",\n",
    "]\n",
    "tasks = [\n",
    "    # \"DECRO_chinese\",\n",
    "    # \"DECRO_english\",\n",
    "    # \"LibriSeVoc_inner\",\n",
    "    # \"LibriSeVoc_cross_method\",\n",
    "    \"LibriSeVoc_cross_dataset\",\n",
    "    # \"wavefake_inner\",\n",
    "    \"wavefake_cross_lang\",\n",
    "    # \"wavefake_cross_method\",\n",
    "]\n",
    "model_task = [{\"model\": x, \"task\": y} for x in models for y in tasks]\n",
    "if model_first:\n",
    "    model_task = sorted(model_task, key=lambda x: x[\"model\"])\n",
    "else:\n",
    "    model_task = sorted(model_task, key=lambda x: x[\"task\"])\n",
    "\n",
    "\n",
    "test = 1\n",
    "for item in model_task:\n",
    "    model, task = item[\"model\"], item[\"task\"]\n",
    "    if not test:\n",
    "        print(f\"python train.py --gpu 1 --cfg '{model}/{task}';\\\\\")\n",
    "    else:\n",
    "        print(f\"python train.py --gpu 2 --cfg '{model}/{task}' --test 1 --version 0;\\\\\")"
   ]
  },
  {
   "cell_type": "markdown",
   "id": "f06897cd-c329-40b8-8fe8-86f66b1a009e",
   "metadata": {},
   "source": [
    "# Collect features"
   ]
  },
  {
   "cell_type": "code",
   "execution_count": 23,
   "id": "5baa1b75-fb2c-4439-b997-518c7b9a699c",
   "metadata": {
    "execution": {
     "iopub.execute_input": "2024-03-14T10:24:55.397617Z",
     "iopub.status.busy": "2024-03-14T10:24:55.396553Z",
     "iopub.status.idle": "2024-03-14T10:24:55.412337Z",
     "shell.execute_reply": "2024-03-14T10:24:55.411082Z",
     "shell.execute_reply.started": "2024-03-14T10:24:55.397549Z"
    }
   },
   "outputs": [
    {
     "name": "stdout",
     "output_type": "stream",
     "text": [
      "python train.py --gpu 2 --cfg 'AASIST/LibriSeVoc_cross_method' -t 1 -v 0 --collect 1;\\\n",
      "python train.py --gpu 2 --cfg 'AudioClip/LibriSeVoc_cross_method' -t 1 -v 0 --collect 1;\\\n",
      "python train.py --gpu 2 --cfg 'LCNN/LibriSeVoc_cross_method' -t 1 -v 0 --collect 1;\\\n",
      "python train.py --gpu 2 --cfg 'LibriSeVoc/LibriSeVoc_cross_method' -t 1 -v 0 --collect 1;\\\n",
      "python train.py --gpu 2 --cfg 'Ours/ResNet/LibriSeVoc_cross_method' -t 1 -v 0 --collect 1;\\\n",
      "python train.py --gpu 2 --cfg 'RawGAT/LibriSeVoc_cross_method' -t 1 -v 0 --collect 1;\\\n",
      "python train.py --gpu 2 --cfg 'RawNet2/LibriSeVoc_cross_method' -t 1 -v 0 --collect 1;\\\n",
      "python train.py --gpu 2 --cfg 'Wav2Clip/LibriSeVoc_cross_method' -t 1 -v 0 --collect 1;\\\n",
      "python train.py --gpu 2 --cfg 'Wave2Vec2/LibriSeVoc_cross_method' -t 1 -v 0 --collect 1;\\\n",
      "python train.py --gpu 2 --cfg 'WaveLM/LibriSeVoc_cross_method' -t 1 -v 0 --collect 1;\\\n"
     ]
    }
   ],
   "source": [
    "model_first = 1\n",
    "models = [\n",
    "    \"AASIST\",\n",
    "    \"LCNN\",\n",
    "    \"RawNet2\",\n",
    "    \"Wave2Vec2\",\n",
    "    \"WaveLM\",\n",
    "    \"LibriSeVoc\",\n",
    "    \"Wav2Clip\",\n",
    "    \"AudioClip\",\n",
    "    \"RawGAT\",\n",
    "    \"Ours/ResNet\",\n",
    "]\n",
    "tasks = [\n",
    "    \"LibriSeVoc_cross_method\",\n",
    "]\n",
    "model_task = [{\"model\": x, \"task\": y} for x in models for y in tasks]\n",
    "if model_first:\n",
    "    model_task = sorted(model_task, key=lambda x: x[\"model\"])\n",
    "else:\n",
    "    model_task = sorted(model_task, key=lambda x: x[\"task\"])\n",
    "\n",
    "\n",
    "for item in model_task:\n",
    "    model, task = item[\"model\"], item[\"task\"]\n",
    "    print(f\"python train.py --gpu 2 --cfg '{model}/{task}' -t 1 -v 0 --collect 1;\\\\\")"
   ]
  },
  {
   "cell_type": "markdown",
   "id": "918a8ce7-25ac-46d9-842a-01d08851d952",
   "metadata": {},
   "source": [
    "## Ours"
   ]
  },
  {
   "cell_type": "code",
   "execution_count": 5,
   "id": "9acdd13a-08f3-447f-9e91-978654ad2ceb",
   "metadata": {
    "execution": {
     "iopub.execute_input": "2024-03-27T04:46:28.714227Z",
     "iopub.status.busy": "2024-03-27T04:46:28.713915Z",
     "iopub.status.idle": "2024-03-27T04:46:28.721465Z",
     "shell.execute_reply": "2024-03-27T04:46:28.720611Z",
     "shell.execute_reply.started": "2024-03-27T04:46:28.714198Z"
    }
   },
   "outputs": [
    {
     "name": "stdout",
     "output_type": "stream",
     "text": [
      "python train.py --gpu 0 --cfg 'Ours/ResNet/DECRO_chinese';\\\n",
      "python train.py --gpu 0 --cfg 'Ours/ResNet/DECRO_english';\\\n",
      "python train.py --gpu 0 --cfg 'Ours/ResNet/LibriSeVoc_inner';\\\n",
      "python train.py --gpu 0 --cfg 'Ours/ResNet/LibriSeVoc_cross_method';\\\n",
      "python train.py --gpu 0 --cfg 'Ours/ResNet/LibriSeVoc_cross_dataset';\\\n",
      "python train.py --gpu 0 --cfg 'Ours/ResNet/wavefake_inner';\\\n",
      "python train.py --gpu 0 --cfg 'Ours/ResNet/wavefake_cross_lang';\\\n",
      "python train.py --gpu 0 --cfg 'Ours/ResNet/wavefake_cross_method';\\\n"
     ]
    }
   ],
   "source": [
    "model_first = 1\n",
    "feature_extractor = [\n",
    "    # \"LCNN\",\n",
    "    # \"MSFM\",\n",
    "    # \"RawNet\",\n",
    "    \"ResNet\",\n",
    "]\n",
    "tasks = [\n",
    "    \"DECRO_chinese\",\n",
    "    \"DECRO_english\",\n",
    "    \"LibriSeVoc_inner\",\n",
    "    \"LibriSeVoc_cross_method\",\n",
    "    \"LibriSeVoc_cross_dataset\",\n",
    "    \"wavefake_inner\",\n",
    "    \"wavefake_cross_lang\",\n",
    "    \"wavefake_cross_method\",\n",
    "]\n",
    "\n",
    "test = 0\n",
    "version = 0\n",
    "for i, f in enumerate(feature_extractor):\n",
    "    for task in tasks:\n",
    "        if not test:\n",
    "            print(f\"python train.py --gpu 0 --cfg 'Ours/{f}/{task}';\\\\\")\n",
    "        else:\n",
    "            print(\n",
    "                f\"python train.py --gpu 2 --cfg 'Ours/{f}/{task}' --test 1 --version {version};\\\\\"\n",
    "            )"
   ]
  },
  {
   "cell_type": "markdown",
   "id": "e6689dd7-9d38-472b-923f-bbdfccb320e7",
   "metadata": {},
   "source": [
    "### ResNet"
   ]
  },
  {
   "cell_type": "markdown",
   "id": "3a1eaa59-255b-4421-b1b1-a20813d1a4cc",
   "metadata": {
    "execution": {
     "iopub.execute_input": "2024-02-19T02:10:23.694012Z",
     "iopub.status.busy": "2024-02-19T02:10:23.693357Z",
     "iopub.status.idle": "2024-02-19T02:10:23.712558Z",
     "shell.execute_reply": "2024-02-19T02:10:23.710373Z",
     "shell.execute_reply.started": "2024-02-19T02:10:23.693952Z"
    }
   },
   "source": [
    "```python\n",
    "python train.py --gpu 1 --cfg 'Ours/ResNet/DECRO_chinese';\\\n",
    "python train.py --gpu 1 --cfg 'Ours/ResNet/DECRO_english';\\\n",
    "python train.py --gpu 1 --cfg 'Ours/ResNet/LibriSeVoc_inner';\\\n",
    "# python train.py --gpu 1 --cfg 'Ours/ResNet/LibriSeVoc_cross_method';\\\n",
    "python train.py --gpu 2 --cfg 'Ours/ResNet/LibriSeVoc_cross_dataset';\\\n",
    "python train.py --gpu 2 --cfg 'Ours/ResNet/wavefake_inner';\\\n",
    "python train.py --gpu 2 --cfg 'Ours/ResNet/wavefake_cross_lang';\\\n",
    "python train.py --gpu 2 --cfg 'Ours/ResNet/wavefake_cross_method';\\\n",
    "\n",
    "python train.py --gpu 2 --cfg 'Ours/ResNet/DECRO_chinese' -t 1 -v 1;\\\n",
    "python train.py --gpu 2 --cfg 'Ours/ResNet/DECRO_english' -t 1 -v 1;\\\n",
    "python train.py --gpu 1 --cfg 'Ours/ResNet/LibriSeVoc_inner' -t 1 -v 1;\\\n",
    "python train.py --gpu 1 --cfg 'Ours/ResNet/LibriSeVoc_cross_method' -t 1 -v 1;\\\n",
    "python train.py --gpu 2 --cfg 'Ours/ResNet/LibriSeVoc_cross_dataset' -t 1 -v 1;\\\n",
    "python train.py --gpu 2 --cfg 'Ours/ResNet/wavefake_inner' -t 1 -v 1;\\\n",
    "python train.py --gpu 2 --cfg 'Ours/ResNet/wavefake_cross_lang' -t 1 -v 1;\\\n",
    "python train.py --gpu 2 --cfg 'Ours/ResNet/wavefake_cross_method' -t 1 -v 1;\\\n",
    "```"
   ]
  },
  {
   "cell_type": "markdown",
   "id": "1c5950a9-2ae7-47e8-8eda-bace01b607a7",
   "metadata": {},
   "source": [
    "### Ablations"
   ]
  },
  {
   "cell_type": "code",
   "execution_count": 8,
   "id": "79b7c4f8-8436-43f9-9e7e-fde36fdc4429",
   "metadata": {
    "execution": {
     "iopub.execute_input": "2024-03-27T05:39:31.315075Z",
     "iopub.status.busy": "2024-03-27T05:39:31.314450Z",
     "iopub.status.idle": "2024-03-27T05:39:31.323444Z",
     "shell.execute_reply": "2024-03-27T05:39:31.322425Z",
     "shell.execute_reply.started": "2024-03-27T05:39:31.315043Z"
    }
   },
   "outputs": [
    {
     "name": "stdout",
     "output_type": "stream",
     "text": [
      "python train.py --gpu 1 --cfg 'Ours/ResNet/DECRO_chinese' --ablation 'ablations/con_loss_voc';\\\n",
      "python train.py --gpu 1 --cfg 'Ours/ResNet/DECRO_english' --ablation 'ablations/con_loss_voc';\\\n",
      "python train.py --gpu 1 --cfg 'Ours/ResNet/LibriSeVoc_inner' --ablation 'ablations/con_loss_voc';\\\n",
      "python train.py --gpu 1 --cfg 'Ours/ResNet/LibriSeVoc_cross_method' --ablation 'ablations/con_loss_voc';\\\n",
      "python train.py --gpu 1 --cfg 'Ours/ResNet/LibriSeVoc_cross_dataset' --ablation 'ablations/con_loss_voc';\\\n",
      "python train.py --gpu 1 --cfg 'Ours/ResNet/wavefake_inner' --ablation 'ablations/con_loss_voc';\\\n",
      "python train.py --gpu 1 --cfg 'Ours/ResNet/wavefake_cross_lang' --ablation 'ablations/con_loss_voc';\\\n",
      "python train.py --gpu 1 --cfg 'Ours/ResNet/wavefake_cross_method' --ablation 'ablations/con_loss_voc';\\\n",
      "# ------------------------------------------------------------------------------------------------------------------------------------------------------ ;\\\n",
      "python train.py --gpu 1 --cfg 'Ours/ResNet/DECRO_chinese' --ablation 'ablations/shuffle_style';\\\n",
      "python train.py --gpu 1 --cfg 'Ours/ResNet/DECRO_english' --ablation 'ablations/shuffle_style';\\\n",
      "python train.py --gpu 1 --cfg 'Ours/ResNet/LibriSeVoc_inner' --ablation 'ablations/shuffle_style';\\\n",
      "python train.py --gpu 1 --cfg 'Ours/ResNet/LibriSeVoc_cross_method' --ablation 'ablations/shuffle_style';\\\n",
      "python train.py --gpu 1 --cfg 'Ours/ResNet/LibriSeVoc_cross_dataset' --ablation 'ablations/shuffle_style';\\\n",
      "python train.py --gpu 1 --cfg 'Ours/ResNet/wavefake_inner' --ablation 'ablations/shuffle_style';\\\n",
      "python train.py --gpu 1 --cfg 'Ours/ResNet/wavefake_cross_lang' --ablation 'ablations/shuffle_style';\\\n",
      "python train.py --gpu 1 --cfg 'Ours/ResNet/wavefake_cross_method' --ablation 'ablations/shuffle_style';\\\n",
      "# ------------------------------------------------------------------------------------------------------------------------------------------------------ ;\\\n",
      "python train.py --gpu 1 --cfg 'Ours/ResNet/DECRO_chinese' --ablation 'ablations/shuffle_feat_con_loss_voc';\\\n",
      "python train.py --gpu 1 --cfg 'Ours/ResNet/DECRO_english' --ablation 'ablations/shuffle_feat_con_loss_voc';\\\n",
      "python train.py --gpu 1 --cfg 'Ours/ResNet/LibriSeVoc_inner' --ablation 'ablations/shuffle_feat_con_loss_voc';\\\n",
      "python train.py --gpu 1 --cfg 'Ours/ResNet/LibriSeVoc_cross_method' --ablation 'ablations/shuffle_feat_con_loss_voc';\\\n",
      "python train.py --gpu 1 --cfg 'Ours/ResNet/LibriSeVoc_cross_dataset' --ablation 'ablations/shuffle_feat_con_loss_voc';\\\n",
      "python train.py --gpu 1 --cfg 'Ours/ResNet/wavefake_inner' --ablation 'ablations/shuffle_feat_con_loss_voc';\\\n",
      "python train.py --gpu 1 --cfg 'Ours/ResNet/wavefake_cross_lang' --ablation 'ablations/shuffle_feat_con_loss_voc';\\\n",
      "python train.py --gpu 1 --cfg 'Ours/ResNet/wavefake_cross_method' --ablation 'ablations/shuffle_feat_con_loss_voc';\\\n",
      "# ------------------------------------------------------------------------------------------------------------------------------------------------------ ;\\\n",
      "python train.py --gpu 1 --cfg 'Ours/ResNet/DECRO_chinese' --ablation 'ablations/shuffle_style_con_loss_voc';\\\n",
      "python train.py --gpu 1 --cfg 'Ours/ResNet/DECRO_english' --ablation 'ablations/shuffle_style_con_loss_voc';\\\n",
      "python train.py --gpu 1 --cfg 'Ours/ResNet/LibriSeVoc_inner' --ablation 'ablations/shuffle_style_con_loss_voc';\\\n",
      "python train.py --gpu 1 --cfg 'Ours/ResNet/LibriSeVoc_cross_method' --ablation 'ablations/shuffle_style_con_loss_voc';\\\n",
      "python train.py --gpu 1 --cfg 'Ours/ResNet/LibriSeVoc_cross_dataset' --ablation 'ablations/shuffle_style_con_loss_voc';\\\n",
      "python train.py --gpu 1 --cfg 'Ours/ResNet/wavefake_inner' --ablation 'ablations/shuffle_style_con_loss_voc';\\\n",
      "python train.py --gpu 1 --cfg 'Ours/ResNet/wavefake_cross_lang' --ablation 'ablations/shuffle_style_con_loss_voc';\\\n",
      "python train.py --gpu 1 --cfg 'Ours/ResNet/wavefake_cross_method' --ablation 'ablations/shuffle_style_con_loss_voc';\\\n",
      "# ------------------------------------------------------------------------------------------------------------------------------------------------------ ;\\\n",
      "python train.py --gpu 1 --cfg 'Ours/ResNet/DECRO_chinese' --ablation 'ablations/shuffle_style_feat_con_loss_voc';\\\n",
      "python train.py --gpu 1 --cfg 'Ours/ResNet/DECRO_english' --ablation 'ablations/shuffle_style_feat_con_loss_voc';\\\n",
      "python train.py --gpu 1 --cfg 'Ours/ResNet/LibriSeVoc_inner' --ablation 'ablations/shuffle_style_feat_con_loss_voc';\\\n",
      "python train.py --gpu 1 --cfg 'Ours/ResNet/LibriSeVoc_cross_method' --ablation 'ablations/shuffle_style_feat_con_loss_voc';\\\n",
      "python train.py --gpu 1 --cfg 'Ours/ResNet/LibriSeVoc_cross_dataset' --ablation 'ablations/shuffle_style_feat_con_loss_voc';\\\n",
      "python train.py --gpu 1 --cfg 'Ours/ResNet/wavefake_inner' --ablation 'ablations/shuffle_style_feat_con_loss_voc';\\\n",
      "python train.py --gpu 1 --cfg 'Ours/ResNet/wavefake_cross_lang' --ablation 'ablations/shuffle_style_feat_con_loss_voc';\\\n",
      "python train.py --gpu 1 --cfg 'Ours/ResNet/wavefake_cross_method' --ablation 'ablations/shuffle_style_feat_con_loss_voc';\\\n",
      "# ------------------------------------------------------------------------------------------------------------------------------------------------------ ;\\\n"
     ]
    }
   ],
   "source": [
    "feature_extractor = [\n",
    "    # \"LCNN\",\n",
    "    # \"MSFM\",\n",
    "    # \"RawNet\",\n",
    "    \"ResNet\",\n",
    "]\n",
    "tasks = [\n",
    "    \"DECRO_chinese\",\n",
    "    \"DECRO_english\",\n",
    "    \"LibriSeVoc_inner\",\n",
    "    \"LibriSeVoc_cross_method\",\n",
    "    \"LibriSeVoc_cross_dataset\",\n",
    "    \"wavefake_inner\",\n",
    "    \"wavefake_cross_lang\",\n",
    "    \"wavefake_cross_method\",\n",
    "]\n",
    "\n",
    "test = 0\n",
    "for i, f in enumerate(feature_extractor):\n",
    "    for ablation in [\n",
    "        # \"con_loss_feat\",\n",
    "        \"con_loss_voc\",\n",
    "        # \"con_loss_feat_voc\",\n",
    "        # \"shuffle_feat\",\n",
    "        \"shuffle_style\",\n",
    "        # \"shuffle_style_feat\",\n",
    "        # \"shuffle_style_feat_con_loss_feat_voc\",\n",
    "\n",
    "        \"shuffle_feat_con_loss_voc\",\n",
    "        \"shuffle_style_con_loss_voc\",\n",
    "        \"shuffle_style_feat_con_loss_voc\",\n",
    "        # 'one_stem'\n",
    "    ]:\n",
    "        for task in tasks:\n",
    "            if not test:\n",
    "                print(f\"python train.py --gpu 1 --cfg 'Ours/{f}/{task}' --ablation 'ablations/{ablation}';\\\\\")\n",
    "            else:\n",
    "                print(\n",
    "                    f\"python train.py --gpu 1 --cfg 'Ours/{f}/{task}' -t 1 -v 0  --ablation 'ablations/{ablation}';\\\\\"\n",
    "                )\n",
    "        print('#' ,'---'*50, ';\\\\')"
   ]
  }
 ],
 "metadata": {
  "kernelspec": {
   "display_name": "Python 3 (ipykernel)",
   "language": "python",
   "name": "python3"
  },
  "language_info": {
   "codemirror_mode": {
    "name": "ipython",
    "version": 3
   },
   "file_extension": ".py",
   "mimetype": "text/x-python",
   "name": "python",
   "nbconvert_exporter": "python",
   "pygments_lexer": "ipython3",
   "version": "3.9.18"
  }
 },
 "nbformat": 4,
 "nbformat_minor": 5
}
