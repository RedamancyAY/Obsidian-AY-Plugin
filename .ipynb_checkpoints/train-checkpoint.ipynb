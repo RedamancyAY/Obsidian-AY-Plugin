{
 "cells": [
  {
   "cell_type": "code",
   "execution_count": null,
   "id": "8a0708d1-1bd6-4e89-b487-f12a6cee1339",
   "metadata": {},
   "outputs": [],
   "source": [
    "%load_ext autoreload\n",
    "%autoreload 2"
   ]
  },
  {
   "cell_type": "code",
   "execution_count": null,
   "id": "b2249572-7cc1-4592-a8e2-9441c7c4e9f3",
   "metadata": {},
   "outputs": [],
   "source": [
    "import argparse\n",
    "import os\n",
    "import random\n",
    "import sys\n",
    "\n",
    "import numpy as np\n",
    "import pytorch_lightning as pl\n",
    "import torch\n",
    "import warnings\n",
    " \n",
    "warnings.filterwarnings(\"ignore\")"
   ]
  },
  {
   "cell_type": "code",
   "execution_count": null,
   "id": "d15fff67-8e29-47e1-a760-1d0bd6640bac",
   "metadata": {},
   "outputs": [],
   "source": [
    "pl.seed_everything(42)\n",
    "torch.set_float32_matmul_precision(\"medium\")\n",
    "torch.backends.cudnn.benchmark = True"
   ]
  },
  {
   "cell_type": "code",
   "execution_count": 2,
   "id": "784e0c0c-6916-44c8-8e8b-9975435c7948",
   "metadata": {
    "execution": {
     "iopub.execute_input": "2024-01-04T06:10:16.015839Z",
     "iopub.status.busy": "2024-01-04T06:10:16.015597Z",
     "iopub.status.idle": "2024-01-04T06:10:16.020474Z",
     "shell.execute_reply": "2024-01-04T06:10:16.019566Z",
     "shell.execute_reply.started": "2024-01-04T06:10:16.015818Z"
    }
   },
   "outputs": [],
   "source": [
    "from ay2.tools import color_print, to_list"
   ]
  },
  {
   "cell_type": "code",
   "execution_count": null,
   "id": "f576bb3e-2921-4c69-9cbb-25a589508054",
   "metadata": {},
   "outputs": [],
   "source": [
    "from config import get_cfg_defaults\n",
    "from data.make_dataset import make_data\n",
    "from models import make_model\n",
    "from utils import (\n",
    "    backup_logger_file,\n",
    "    build_logger,\n",
    "    clear_old_test_file,\n",
    "    get_ckpt_path,\n",
    "    make_callbacks,\n",
    "    write_model_summary,\n",
    ")"
   ]
  },
  {
   "cell_type": "code",
   "execution_count": null,
   "id": "92b9ff53-e72c-48c6-8950-65311e7a1b7c",
   "metadata": {},
   "outputs": [],
   "source": [
    "ROOT_DIR = \"/home/ay/data/DATA/1-model_save/00-Deepfake/1-df-audio\""
   ]
  },
  {
   "cell_type": "code",
   "execution_count": null,
   "id": "a7128f32-88cc-4a56-8152-1f48d58254c0",
   "metadata": {},
   "outputs": [],
   "source": [
    "if __name__ == \"__main__\":\n",
    "    parser = argparse.ArgumentParser()\n",
    "    parser.add_argument(\"--cfg\", type=str, default=\"GMM\")\n",
    "    parser.add_argument(\"--dims\", type=str, default='[32, 64, 64, 128]')\n",
    "    parser.add_argument(\"--nblocks\", type=str, default='[1,1,3,1]')\n",
    "    parser.add_argument(\"--ablation\", type=str, default=None)\n",
    "    # parser.add_argument(\"--specaug\", type=str, default='ss')\n",
    "    parser.add_argument(\"--gpu\", type=int, nargs=\"+\", default=0)\n",
    "    parser.add_argument(\"--batch_size\", type=int, default=-1)\n",
    "    parser.add_argument(\"--earlystop\", type=int, default=3)\n",
    "    parser.add_argument(\"-v\", \"--version\", type=int, default=None)\n",
    "    parser.add_argument(\"-t\", \"--test\", type=int, default=0)\n",
    "    parser.add_argument(\"--resume\", type=int, default=0)\n",
    "    parser.add_argument(\"--theme\", type=str, default='best')\n",
    "    parser.add_argument(\"--collect\", type=int, default=0)\n",
    "    args = parser.parse_args()\n",
    "\n",
    "    cfg = get_cfg_defaults(\n",
    "        \"config/experiments/%s.yaml\" % args.cfg, ablation=args.ablation\n",
    "    )\n",
    "    # cfg.MODEL.dims = eval(args.dims)\n",
    "    # cfg.MODEL.n_blocks = eval(args.nblocks)\n",
    "    if args.batch_size > 0:\n",
    "        cfg.DATASET.batch_size = args.batch_size\n",
    "    ds, dl = make_data(cfg.DATASET)\n",
    "\n",
    "    model = make_model(args.cfg, cfg, args)\n",
    "    callbacks = make_callbacks(args, cfg)\n",
    "\n",
    "    trainer = pl.Trainer(\n",
    "        max_epochs=cfg.MODEL.epochs,\n",
    "        # max_epochs=1,\n",
    "        accelerator=\"gpu\",\n",
    "        devices=args.gpu,\n",
    "        logger=build_logger(args, ROOT_DIR),\n",
    "        check_val_every_n_epoch=1,\n",
    "        callbacks=callbacks,\n",
    "        default_root_dir=ROOT_DIR,\n",
    "        # profiler=pl.profilers.SimpleProfiler(dirpath='./', filename='test'),\n",
    "        # limit_train_batches=200,\n",
    "        # limit_val_batches=100,\n",
    "        # limit_test_batches =10,\n",
    "    )\n",
    "\n",
    "    color_print(f\"logger path : {trainer.logger.log_dir}\")\n",
    "    log_dir = trainer.logger.log_dir\n",
    "\n",
    "    \n",
    "    if not args.test:\n",
    "        ckpt_path = get_ckpt_path(log_dir, theme=\"last\") if args.resume else None\n",
    "        \n",
    "        # val_dl = to_list(dl.test)[1]\n",
    "        val_dl = dl.val\n",
    "        trainer.fit(model, dl.train, val_dataloaders=val_dl, ckpt_path=ckpt_path)\n",
    "        \n",
    "        write_model_summary(model, log_dir)\n",
    "\n",
    "    else:\n",
    "        # backup_logger_file(log_dir)\n",
    "        clear_old_test_file(log_dir)\n",
    "        ckpt_path = get_ckpt_path(log_dir, theme=args.theme)\n",
    "        trainer.trainset_wo_transform = dl.train_wo_transform\n",
    "\n",
    "        if not args.collect:\n",
    "            for test_dl in to_list(dl.test):\n",
    "                trainer.test(model, test_dl, ckpt_path=ckpt_path)\n",
    "        else:\n",
    "            for test_dl in to_list(dl.test) + [dl.val]:\n",
    "                trainer.test(model, test_dl, ckpt_path=ckpt_path)"
   ]
  }
 ],
 "metadata": {
  "jupytext": {
   "formats": "ipynb,py:light"
  },
  "kernelspec": {
   "display_name": "Python 3 (ipykernel)",
   "language": "python",
   "name": "python3"
  },
  "language_info": {
   "codemirror_mode": {
    "name": "ipython",
    "version": 3
   },
   "file_extension": ".py",
   "mimetype": "text/x-python",
   "name": "python",
   "nbconvert_exporter": "python",
   "pygments_lexer": "ipython3",
   "version": "3.9.18"
  }
 },
 "nbformat": 4,
 "nbformat_minor": 5
}
