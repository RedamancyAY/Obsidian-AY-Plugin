{
 "cells": [
  {
   "cell_type": "code",
   "execution_count": 1,
   "id": "32ff7fb8-41d0-4be6-85e4-4e61373828e8",
   "metadata": {
    "execution": {
     "iopub.execute_input": "2024-09-29T17:06:06.874815Z",
     "iopub.status.busy": "2024-09-29T17:06:06.874229Z",
     "iopub.status.idle": "2024-09-29T17:06:06.888465Z",
     "shell.execute_reply": "2024-09-29T17:06:06.887263Z",
     "shell.execute_reply.started": "2024-09-29T17:06:06.874761Z"
    }
   },
   "outputs": [],
   "source": [
    "class A:\n",
    "    x = 1\n",
    "    "
   ]
  },
  {
   "cell_type": "code",
   "execution_count": 2,
   "id": "c260c751-a4b2-43ea-be14-7e8417d2b2fe",
   "metadata": {
    "execution": {
     "iopub.execute_input": "2024-09-29T17:06:10.417809Z",
     "iopub.status.busy": "2024-09-29T17:06:10.417245Z",
     "iopub.status.idle": "2024-09-29T17:06:10.423987Z",
     "shell.execute_reply": "2024-09-29T17:06:10.422604Z",
     "shell.execute_reply.started": "2024-09-29T17:06:10.417755Z"
    }
   },
   "outputs": [],
   "source": [
    "x = A()"
   ]
  },
  {
   "cell_type": "code",
   "execution_count": 3,
   "id": "dbbb053f-f2e1-46a2-b5ed-1ba9a0f72ea1",
   "metadata": {
    "execution": {
     "iopub.execute_input": "2024-09-29T17:06:13.142476Z",
     "iopub.status.busy": "2024-09-29T17:06:13.141895Z",
     "iopub.status.idle": "2024-09-29T17:06:13.154901Z",
     "shell.execute_reply": "2024-09-29T17:06:13.153809Z",
     "shell.execute_reply.started": "2024-09-29T17:06:13.142423Z"
    }
   },
   "outputs": [
    {
     "data": {
      "text/plain": [
       "<__main__.A at 0x716e944fa460>"
      ]
     },
     "execution_count": 3,
     "metadata": {},
     "output_type": "execute_result"
    }
   ],
   "source": [
    "x"
   ]
  },
  {
   "cell_type": "code",
   "execution_count": 7,
   "id": "f2efd57d-c4b0-43ee-9c88-2a323ab84ffd",
   "metadata": {
    "execution": {
     "iopub.execute_input": "2024-09-29T17:08:10.202309Z",
     "iopub.status.busy": "2024-09-29T17:08:10.201720Z",
     "iopub.status.idle": "2024-09-29T17:08:10.210178Z",
     "shell.execute_reply": "2024-09-29T17:08:10.209080Z",
     "shell.execute_reply.started": "2024-09-29T17:08:10.202258Z"
    }
   },
   "outputs": [
    {
     "data": {
      "text/plain": [
       "True"
      ]
     },
     "execution_count": 7,
     "metadata": {},
     "output_type": "execute_result"
    }
   ],
   "source": [
    "type(A) == type"
   ]
  }
 ],
 "metadata": {
  "kernelspec": {
   "display_name": "Python 3 (ipykernel)",
   "language": "python",
   "name": "python3"
  },
  "language_info": {
   "codemirror_mode": {
    "name": "ipython",
    "version": 3
   },
   "file_extension": ".py",
   "mimetype": "text/x-python",
   "name": "python",
   "nbconvert_exporter": "python",
   "pygments_lexer": "ipython3",
   "version": "3.9.16"
  }
 },
 "nbformat": 4,
 "nbformat_minor": 5
}
