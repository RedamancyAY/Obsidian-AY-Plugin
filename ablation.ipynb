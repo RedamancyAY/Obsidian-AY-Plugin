{
 "cells": [
  {
   "attachments": {},
   "cell_type": "markdown",
   "id": "1fc2164b-7d81-44d9-aa65-b682167fad05",
   "metadata": {},
   "source": [
    "```python\n",
    "python train.py --gpu 0 --cfg 'Ours/ablation2/DECRO_english' --ablation beta0;\\\n",
    "python train.py --gpu 0 --cfg 'Ours/ablation2/DECRO_english' --ablation beta1;\\\n",
    "python train.py --gpu 0 --cfg 'Ours/ablation2/DECRO_english' --ablation beta2;\\\n",
    "python train.py --gpu 0 --cfg 'Ours/ablation2/DECRO_english' --ablation beta3;\\\n",
    "python train.py --gpu 0 --cfg 'Ours/ablation2/DECRO_english' --ablation n_blocks1;\\\n",
    "python train.py --gpu 0 --cfg 'Ours/ablation2/DECRO_english' --ablation n_blocks2;\\\n",
    "python train.py --gpu 0 --cfg 'Ours/ablation2/DECRO_english' --ablation n_blocks3;\\\n",
    "python train.py --gpu 0 --cfg 'Ours/ablation2/DECRO_english' --ablation n_blocks4;\\\n",
    "python train.py --gpu 1 --cfg 'Ours/ablation2/DECRO_english' --ablation dims1;\\\n",
    "python train.py --gpu 1 --cfg 'Ours/ablation2/DECRO_english' --ablation dims2;\\\n",
    "python train.py --gpu 1 --cfg 'Ours/ablation2/DECRO_english' --ablation dims3;\\\n",
    "python train.py --gpu 1 --cfg 'Ours/ablation2/DECRO_english' --ablation dims4;\\\n",
    "python train.py --gpu 0 --cfg 'Ours/ablation2/DECRO_english' --ablation one_stem;\\\n",
    "```"
   ]
  },
  {
   "cell_type": "markdown",
   "id": "97f4530f-59dd-442f-991a-87370bc54fd9",
   "metadata": {},
   "source": [
    "```python\n",
    "python train.py --gpu 1 --cfg 'Ours/ablation2/LibriSeVoc_cross_method' --ablation beta0;\\\n",
    "python train.py --gpu 1 --cfg 'Ours/ablation2/LibriSeVoc_cross_method' --ablation beta1;\\\n",
    "python train.py --gpu 1 --cfg 'Ours/ablation2/LibriSeVoc_cross_method' --ablation beta2;\\\n",
    "python train.py --gpu 1 --cfg 'Ours/ablation2/LibriSeVoc_cross_method' --ablation beta3;\\\n",
    "python train.py --gpu 1 --cfg 'Ours/ablation2/LibriSeVoc_cross_method' --ablation n_blocks1;\\\n",
    "python train.py --gpu 1 --cfg 'Ours/ablation2/LibriSeVoc_cross_method' --ablation n_blocks2;\\\n",
    "python train.py --gpu 0 --cfg 'Ours/ablation2/LibriSeVoc_cross_method' --ablation n_blocks3;\\\n",
    "python train.py --gpu 0 --cfg 'Ours/ablation2/LibriSeVoc_cross_method' --ablation n_blocks4;\\\n",
    "python train.py --gpu 0 --cfg 'Ours/ablation2/LibriSeVoc_cross_method' --ablation dims1;\\\n",
    "python train.py --gpu 1 --cfg 'Ours/ablation2/LibriSeVoc_cross_method' --ablation dims2;\\\n",
    "python train.py --gpu 1 --cfg 'Ours/ablation2/LibriSeVoc_cross_method' --ablation dims3;\\\n",
    "python train.py --gpu 1 --cfg 'Ours/ablation2/LibriSeVoc_cross_method' --ablation dims4;\n",
    "python train.py --gpu 1 --cfg 'Ours/ablation2/LibriSeVoc_cross_method' --ablation one_stem;\n",
    "```"
   ]
  },
  {
   "cell_type": "code",
   "execution_count": null,
   "id": "204c5147-cab7-4e42-91b1-91fb342b15be",
   "metadata": {},
   "outputs": [],
   "source": [
    "python train.py --gpu 1 --cfg 'Ours/ablation2/LibriSeVoc_cross_method' --ablation beta4;\\\n",
    "python train.py --gpu 1 --cfg 'Ours/ablation2/DECRO_english' --ablation beta4;\\\n",
    "python train.py --gpu 1 --cfg 'Ours/ablation2/LibriSeVoc_cross_method' --ablation beta5;\\\n",
    "python train.py --gpu 1 --cfg 'Ours/ablation2/DECRO_english' --ablation beta5;\\\n",
    "python train.py --gpu 0 --cfg 'Ours/ablation2/LibriSeVoc_cross_method' --ablation beta6;\\\n",
    "python train.py --gpu 0 --cfg 'Ours/ablation2/DECRO_english' --ablation beta6;\\\n",
    "python train.py --gpu 0 --cfg 'Ours/ablation2/LibriSeVoc_cross_method' --ablation beta7;\\\n",
    "python train.py --gpu 0 --cfg 'Ours/ablation2/DECRO_english' --ablation beta7;\\"
   ]
  },
  {
   "cell_type": "code",
   "execution_count": null,
   "id": "d39eb499-2c0e-47ba-a813-50550d4f17f1",
   "metadata": {},
   "outputs": [],
   "source": [
    "python train.py --gpu 1 --cfg 'Ours/ablation/DECRO_chinese' --ablation s1;\\\n",
    "python train.py --gpu 1 --cfg 'Ours/ablation/DECRO_english' --ablation s1;\\\n",
    "python train.py --gpu 1 --cfg 'Ours/ablation/LibriSeVoc_cross_method' --ablation s1;\\\n",
    "python train.py --gpu 1 --cfg 'Ours/ablation/wavefake_cross_lang' --ablation s1;\\\n",
    "python train.py --gpu 1 --cfg 'Ours/ablation/wavefake_cross_method2' --ablation s1;\\\n",
    "python train.py --gpu 1 --cfg 'Ours/ablation/LibriSeVoc_cross_dataset' --ablation s1"
   ]
  },
  {
   "cell_type": "code",
   "execution_count": null,
   "id": "ac2c69a7-9363-4837-ad31-e71400e22aa1",
   "metadata": {},
   "outputs": [],
   "source": [
    "python train.py --gpu 0  --cfg 'Ours/ablation/DECRO_chinese' --ablation s2;\\\n",
    "python train.py --gpu 0  --cfg 'Ours/ablation/DECRO_english' --ablation s2;\\\n",
    "python train.py --gpu 0  --cfg 'Ours/ablation/LibriSeVoc_cross_method' --ablation s2;\\\n",
    "python train.py --gpu 0  --cfg 'Ours/ablation/wavefake_cross_lang' --ablation s2;\\\n",
    "python train.py --gpu 0  --cfg 'Ours/ablation/wavefake_cross_method2' --ablation s2;\\\n",
    "python train.py --gpu 0 --cfg 'Ours/ablation/LibriSeVoc_cross_dataset' --ablation s2"
   ]
  },
  {
   "cell_type": "code",
   "execution_count": null,
   "id": "b1856c1e-4424-4117-8b2f-5659f1589ee5",
   "metadata": {},
   "outputs": [],
   "source": [
    "python train.py --gpu 1 --cfg 'Ours/ablation/DECRO_chinese' --ablation s3;\\\n",
    "python train.py --gpu 1 --cfg 'Ours/ablation/DECRO_english' --ablation s3;\\\n",
    "python train.py --gpu 1 --cfg 'Ours/ablation/LibriSeVoc_cross_method' --ablation s3;\\\n",
    "python train.py --gpu 1 --cfg 'Ours/ablation/wavefake_cross_lang' --ablation s3;\\\n",
    "python train.py --gpu 1 --cfg 'Ours/ablation/wavefake_cross_method2' --ablation s3;\\\n",
    "python train.py --gpu 1 --cfg 'Ours/ablation/LibriSeVoc_cross_dataset' --ablation s3"
   ]
  },
  {
   "cell_type": "code",
   "execution_count": null,
   "id": "019cef9e-f1d8-4c9b-85dd-6f06e5f27260",
   "metadata": {},
   "outputs": [],
   "source": [
    "python train.py --gpu 0 --cfg 'Ours/ablation/DECRO_chinese' --ablation s4;\\\n",
    "python train.py --gpu 0 --cfg 'Ours/ablation/DECRO_english' --ablation s4;\\\n",
    "python train.py --gpu 0 --cfg 'Ours/ablation/LibriSeVoc_cross_method' --ablation s4;\\\n",
    "python train.py --gpu 0 --cfg 'Ours/ablation/wavefake_cross_lang' --ablation s4;\\\n",
    "python train.py --gpu 0 --cfg 'Ours/ablation/wavefake_cross_method2' --ablation s4;\\\n",
    "python train.py --gpu 0 --cfg 'Ours/ablation/LibriSeVoc_cross_dataset' --ablation s4"
   ]
  },
  {
   "cell_type": "code",
   "execution_count": null,
   "id": "90cce8d6-e445-464e-8b51-f787125d679d",
   "metadata": {},
   "outputs": [],
   "source": [
    "python train.py --gpu 0 --cfg 'Ours/ablation/DECRO_chinese' --ablation s5;\\\n",
    "python train.py --gpu 0 --cfg 'Ours/ablation/DECRO_english' --ablation s5;\\\n",
    "python train.py --gpu 0 --cfg 'Ours/ablation/LibriSeVoc_cross_method' --ablation s5;\\\n",
    "python train.py --gpu 0 --cfg 'Ours/ablation/wavefake_cross_lang' --ablation s5;\\\n",
    "python train.py --gpu 0 --cfg 'Ours/ablation/wavefake_cross_method2' --ablation s5;\\\n",
    "python train.py --gpu 0 --cfg 'Ours/ablation/LibriSeVoc_cross_dataset' --ablation s5"
   ]
  },
  {
   "cell_type": "code",
   "execution_count": null,
   "id": "7cd9b6e3-f96b-4013-94d1-d2a674688f36",
   "metadata": {},
   "outputs": [],
   "source": [
    "python train.py --gpu 1 --cfg 'Ours/ablation/DECRO_chinese' --ablation s6;\\\n",
    "python train.py --gpu 1 --cfg 'Ours/ablation/DECRO_english' --ablation s6;\\\n",
    "python train.py --gpu 1 --cfg 'Ours/ablation/LibriSeVoc_cross_method' --ablation s6;\\\n",
    "python train.py --gpu 1 --cfg 'Ours/ablation/wavefake_cross_lang' --ablation s6;\\\n",
    "python train.py --gpu 1 --cfg 'Ours/ablation/wavefake_cross_method2' --ablation s6;\\\n",
    "python train.py --gpu 1 --cfg 'Ours/ablation/LibriSeVoc_cross_dataset' --ablation s6"
   ]
  },
  {
   "cell_type": "code",
   "execution_count": null,
   "id": "a6b3ed89-4ffe-4181-be66-8f1999862ccb",
   "metadata": {},
   "outputs": [],
   "source": [
    "python train.py --gpu 0 --cfg 'Ours/ablation/DECRO_chinese' --ablation s7;\\\n",
    "python train.py --gpu 0 --cfg 'Ours/ablation/DECRO_english' --ablation s7;\\\n",
    "python train.py --gpu 0 --cfg 'Ours/ablation/LibriSeVoc_cross_method' --ablation s7;\\\n",
    "python train.py --gpu 0 --cfg 'Ours/ablation/wavefake_cross_lang' --ablation s7;\\\n",
    "python train.py --gpu 0 --cfg 'Ours/ablation/wavefake_cross_method2' --ablation s7;\\\n",
    "python train.py --gpu 0 --cfg 'Ours/ablation/LibriSeVoc_cross_dataset' --ablation s7"
   ]
  },
  {
   "cell_type": "code",
   "execution_count": null,
   "id": "e3675f40-3758-41b3-8d0d-5a900655b045",
   "metadata": {},
   "outputs": [],
   "source": [
    "python train.py --gpu 1 --cfg 'Ours/ablation/DECRO_chinese' --ablation s8;\\\n",
    "python train.py --gpu 1 --cfg 'Ours/ablation/DECRO_english' --ablation s8;\\\n",
    "python train.py --gpu 1 --cfg 'Ours/ablation/LibriSeVoc_cross_method' --ablation s8;\\\n",
    "python train.py --gpu 1 --cfg 'Ours/ablation/wavefake_cross_lang' --ablation s8;\\\n",
    "python train.py --gpu 1 --cfg 'Ours/ablation/wavefake_cross_method2' --ablation s8;\\\n",
    "python train.py --gpu 1 --cfg 'Ours/ablation/LibriSeVoc_cross_dataset' --ablation s8"
   ]
  }
 ],
 "metadata": {
  "kernelspec": {
   "display_name": "Python 3 (ipykernel)",
   "language": "python",
   "name": "python3"
  },
  "language_info": {
   "codemirror_mode": {
    "name": "ipython",
    "version": 3
   },
   "file_extension": ".py",
   "mimetype": "text/x-python",
   "name": "python",
   "nbconvert_exporter": "python",
   "pygments_lexer": "ipython3",
   "version": "3.9.16"
  }
 },
 "nbformat": 4,
 "nbformat_minor": 5
}
