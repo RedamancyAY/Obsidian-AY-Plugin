{
 "cells": [
  {
   "cell_type": "code",
   "execution_count": 1,
   "id": "e2ee2b34-9a0a-4943-8d48-2c85de31917c",
   "metadata": {
    "execution": {
     "iopub.execute_input": "2024-11-26T06:32:22.805090Z",
     "iopub.status.busy": "2024-11-26T06:32:22.804455Z",
     "iopub.status.idle": "2024-11-26T06:32:22.842772Z",
     "shell.execute_reply": "2024-11-26T06:32:22.840853Z",
     "shell.execute_reply.started": "2024-11-26T06:32:22.805033Z"
    }
   },
   "outputs": [],
   "source": [
    "%load_ext autoreload\n",
    "%autoreload 2"
   ]
  },
  {
   "cell_type": "markdown",
   "id": "8febe9cc-20fd-43ca-b5a2-7c1d39534e49",
   "metadata": {},
   "source": [
    "# Import necessary libraries"
   ]
  },
  {
   "cell_type": "code",
   "execution_count": 9,
   "id": "98a9d0b6-87a9-43b6-a3ca-e41eef960d9d",
   "metadata": {
    "execution": {
     "iopub.execute_input": "2024-11-26T06:36:11.104046Z",
     "iopub.status.busy": "2024-11-26T06:36:11.102976Z",
     "iopub.status.idle": "2024-11-26T06:36:11.700735Z",
     "shell.execute_reply": "2024-11-26T06:36:11.699798Z",
     "shell.execute_reply.started": "2024-11-26T06:36:11.103946Z"
    }
   },
   "outputs": [],
   "source": [
    "import numpy as np  # for numerical computations\n",
    "import matplotlib.pyplot as plt  # for plotting (optional)"
   ]
  },
  {
   "cell_type": "code",
   "execution_count": 10,
   "id": "0b2a8f2e-1566-4f9d-81ed-2899b2918873",
   "metadata": {
    "execution": {
     "iopub.execute_input": "2024-11-26T06:36:15.883904Z",
     "iopub.status.busy": "2024-11-26T06:36:15.883370Z",
     "iopub.status.idle": "2024-11-26T06:36:15.922975Z",
     "shell.execute_reply": "2024-11-26T06:36:15.922110Z",
     "shell.execute_reply.started": "2024-11-26T06:36:15.883866Z"
    }
   },
   "outputs": [],
   "source": [
    "import os\n",
    "from argparse import Namespace\n",
    "from typing import Any, NamedTuple\n",
    "\n",
    "import numpy as np\n",
    "import pandas as pd\n",
    "import torch\n",
    "import torch.nn as nn\n",
    "import torch.nn.functional as F\n",
    "from tqdm import tqdm"
   ]
  },
  {
   "cell_type": "code",
   "execution_count": 11,
   "id": "e69f416e-d28f-415d-8c5f-5a33725c26eb",
   "metadata": {
    "execution": {
     "iopub.execute_input": "2024-11-26T06:36:16.650189Z",
     "iopub.status.busy": "2024-11-26T06:36:16.649661Z",
     "iopub.status.idle": "2024-11-26T06:36:16.679187Z",
     "shell.execute_reply": "2024-11-26T06:36:16.677995Z",
     "shell.execute_reply.started": "2024-11-26T06:36:16.650159Z"
    }
   },
   "outputs": [],
   "source": [
    "import time\n",
    "import joblib\n",
    "from sklearn.cluster import MiniBatchKMeans"
   ]
  },
  {
   "cell_type": "code",
   "execution_count": 12,
   "id": "001b3b2f-2a1a-4550-8859-d0134fa090bd",
   "metadata": {
    "execution": {
     "iopub.execute_input": "2024-11-26T06:36:17.402758Z",
     "iopub.status.busy": "2024-11-26T06:36:17.402226Z",
     "iopub.status.idle": "2024-11-26T06:36:17.586213Z",
     "shell.execute_reply": "2024-11-26T06:36:17.585061Z",
     "shell.execute_reply.started": "2024-11-26T06:36:17.402711Z"
    }
   },
   "outputs": [],
   "source": [
    "import torchaudio\n",
    "from torch.utils.data import ConcatDataset, DataLoader, Subset"
   ]
  },
  {
   "cell_type": "markdown",
   "id": "014b515c-685c-4e0c-82ec-9d8d84e52867",
   "metadata": {},
   "source": [
    "# Load Kmeans model"
   ]
  },
  {
   "cell_type": "code",
   "execution_count": 5,
   "id": "5fec505f-8dad-487b-bed2-bc369ad04b30",
   "metadata": {
    "execution": {
     "iopub.execute_input": "2024-11-26T06:35:01.971949Z",
     "iopub.status.busy": "2024-11-26T06:35:01.970623Z",
     "iopub.status.idle": "2024-11-26T06:35:02.003650Z",
     "shell.execute_reply": "2024-11-26T06:35:02.001855Z",
     "shell.execute_reply.started": "2024-11-26T06:35:01.971886Z"
    }
   },
   "outputs": [],
   "source": [
    "def load_kmeans_model(self):\n",
    "    dataset_root_path = \"/home/ay/data2/datasets/Lib\"\n",
    "    kmeans_path = os.path.join(dataset_root_path, \"kmeans_model-200.pkl\")\n",
    "    kmeans_model = joblib.load(kmeans_path)\n",
    "    return kmeans_model"
   ]
  },
  {
   "cell_type": "code",
   "execution_count": 7,
   "id": "b4d1447c-63cb-4a9c-87b1-df16fd40cb41",
   "metadata": {
    "execution": {
     "iopub.execute_input": "2024-11-26T06:35:24.909164Z",
     "iopub.status.busy": "2024-11-26T06:35:24.907746Z",
     "iopub.status.idle": "2024-11-26T06:35:24.946178Z",
     "shell.execute_reply": "2024-11-26T06:35:24.944211Z",
     "shell.execute_reply.started": "2024-11-26T06:35:24.909060Z"
    }
   },
   "outputs": [],
   "source": [
    "kmeans_model = joblib.load(kmeans_path)"
   ]
  },
  {
   "cell_type": "code",
   "execution_count": null,
   "id": "30f6bc36-f11d-4e6e-9ac0-87a95fe50054",
   "metadata": {},
   "outputs": [],
   "source": []
  },
  {
   "cell_type": "code",
   "execution_count": null,
   "id": "ac08918e-15c5-4b1d-b9f9-d4899f596511",
   "metadata": {},
   "outputs": [],
   "source": []
  }
 ],
 "metadata": {
  "kernelspec": {
   "display_name": "Python 3 (ipykernel)",
   "language": "python",
   "name": "python3"
  },
  "language_info": {
   "codemirror_mode": {
    "name": "ipython",
    "version": 3
   },
   "file_extension": ".py",
   "mimetype": "text/x-python",
   "name": "python",
   "nbconvert_exporter": "python",
   "pygments_lexer": "ipython3",
   "version": "3.9.18"
  }
 },
 "nbformat": 4,
 "nbformat_minor": 5
}
