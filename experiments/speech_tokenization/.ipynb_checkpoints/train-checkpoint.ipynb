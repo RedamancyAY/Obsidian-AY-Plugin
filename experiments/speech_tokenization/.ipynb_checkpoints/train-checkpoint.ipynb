{
 "cells": [
  {
   "cell_type": "code",
   "execution_count": 1,
   "id": "a52ff5cf-7be5-447d-946e-999212a148d7",
   "metadata": {
    "execution": {
     "iopub.execute_input": "2024-11-26T06:24:24.385821Z",
     "iopub.status.busy": "2024-11-26T06:24:24.385221Z",
     "iopub.status.idle": "2024-11-26T06:24:24.424032Z",
     "shell.execute_reply": "2024-11-26T06:24:24.422867Z",
     "shell.execute_reply.started": "2024-11-26T06:24:24.385755Z"
    }
   },
   "outputs": [],
   "source": [
    "%load_ext autoreload\n",
    "%autoreload 2"
   ]
  },
  {
   "cell_type": "code",
   "execution_count": 2,
   "id": "b5fe5336-2047-4df6-a4f1-1a18d02d979f",
   "metadata": {
    "execution": {
     "iopub.execute_input": "2024-11-26T06:24:24.427621Z",
     "iopub.status.busy": "2024-11-26T06:24:24.427135Z",
     "iopub.status.idle": "2024-11-26T06:24:26.134958Z",
     "shell.execute_reply": "2024-11-26T06:24:26.133995Z",
     "shell.execute_reply.started": "2024-11-26T06:24:24.427573Z"
    }
   },
   "outputs": [],
   "source": [
    "import os\n",
    "from argparse import Namespace\n",
    "from typing import Any, NamedTuple\n",
    "\n",
    "import numpy as np\n",
    "import pandas as pd\n",
    "import torch\n",
    "import torch.nn as nn\n",
    "import torch.nn.functional as F\n",
    "from tqdm import tqdm"
   ]
  },
  {
   "cell_type": "code",
   "execution_count": 3,
   "id": "7c8ced8c-3d71-4e5b-aed7-c37f7fbd65d7",
   "metadata": {
    "execution": {
     "iopub.execute_input": "2024-11-26T06:24:26.136037Z",
     "iopub.status.busy": "2024-11-26T06:24:26.135751Z",
     "iopub.status.idle": "2024-11-26T06:24:26.258524Z",
     "shell.execute_reply": "2024-11-26T06:24:26.257325Z",
     "shell.execute_reply.started": "2024-11-26T06:24:26.136014Z"
    }
   },
   "outputs": [],
   "source": [
    "import torchaudio\n",
    "from torch.utils.data import ConcatDataset, DataLoader, Subset"
   ]
  },
  {
   "cell_type": "markdown",
   "id": "7d5becef-67a0-4478-965e-93ba6c8986bd",
   "metadata": {},
   "source": [
    "# Load LibriSpeech dataset"
   ]
  },
  {
   "cell_type": "markdown",
   "id": "df9967e3-05ec-4563-a199-17f9d57df3a4",
   "metadata": {},
   "source": [
    "The LibriSpeech dataset is a popular resource in the field of speech recognition and is widely used for training and evaluating machine learning models. It consists of approximately 1,000 hours of English speech, derived from audiobooks that are part of the LibriVox project. The dataset is divided into different subsets based on the amount of data and the quality of the recordings, making it suitable for various tasks in automatic speech recognition (ASR)."
   ]
  },
  {
   "cell_type": "markdown",
   "id": "e15439e5-f087-4cf5-8020-21653d7ab4cf",
   "metadata": {
    "execution": {
     "iopub.execute_input": "2024-11-25T01:39:00.716153Z",
     "iopub.status.busy": "2024-11-25T01:39:00.714616Z",
     "iopub.status.idle": "2024-11-25T01:39:00.764745Z",
     "shell.execute_reply": "2024-11-25T01:39:00.762980Z",
     "shell.execute_reply.started": "2024-11-25T01:39:00.716080Z"
    }
   },
   "source": [
    "Dataset Structure:\n",
    "- The dataset is organized into several parts:\n",
    "    - train-clean-100: 100 hours of clean speech for training.\n",
    "    - train-clean-360: 360 hours of clean speech for training.\n",
    "    - train-other-500: 500 hours of speech from various sources that may include background noise, making it less clean.\n",
    "    - dev-clean: A development set containing clean speech.\n",
    "    - dev-other: A development set containing more diverse and noisy speech.\n",
    "    - test-clean: A test set of clean speech.\n",
    "    - test-other: A test set with more diverse and noisy speech.\n",
    "- Audio Format:\n",
    "    - The audio files are typically in the `flac` format, sampled at 16 kHz, and stored as mono channels."
   ]
  },
  {
   "cell_type": "markdown",
   "id": "d9e2bcbc-12d8-4cbd-8875-8195b758e46e",
   "metadata": {},
   "source": [
    ":::{note}\n",
    "We use all the train data for training, not just a subset. Thus, **Total 960 hours** are used to train the Kmeans model.\n",
    ":::"
   ]
  },
  {
   "cell_type": "code",
   "execution_count": 4,
   "id": "299b4669-5de6-4fc9-ab20-7ba398b8ed5d",
   "metadata": {
    "execution": {
     "iopub.execute_input": "2024-11-26T06:24:26.259841Z",
     "iopub.status.busy": "2024-11-26T06:24:26.259637Z",
     "iopub.status.idle": "2024-11-26T06:24:26.279514Z",
     "shell.execute_reply": "2024-11-26T06:24:26.278284Z",
     "shell.execute_reply.started": "2024-11-26T06:24:26.259821Z"
    }
   },
   "outputs": [],
   "source": [
    "dataset_root_path = \"/home/ay/data2/datasets/Lib\""
   ]
  },
  {
   "cell_type": "markdown",
   "id": "ca84cee9-aa56-40f5-8474-347c03aca92d",
   "metadata": {},
   "source": [
    "## Help functions"
   ]
  },
  {
   "cell_type": "code",
   "execution_count": 5,
   "id": "8d383272-af0a-4a45-aa00-acc3b19bbc74",
   "metadata": {
    "execution": {
     "iopub.execute_input": "2024-11-26T06:24:26.280322Z",
     "iopub.status.busy": "2024-11-26T06:24:26.280097Z",
     "iopub.status.idle": "2024-11-26T06:24:26.302545Z",
     "shell.execute_reply": "2024-11-26T06:24:26.301280Z",
     "shell.execute_reply.started": "2024-11-26T06:24:26.280302Z"
    }
   },
   "outputs": [],
   "source": [
    "def collate_fn(batch):\n",
    "    \"\"\"Collate function to pad audio waveforms for batching.\n",
    "\n",
    "    This function takes a batch of audio waveforms and their associated\n",
    "    metadata and pads the waveforms to ensure they all have the same length\n",
    "    for efficient processing in neural networks.\n",
    "\n",
    "    Args:\n",
    "        batch (list): A list of tuples, where each tuple contains:\n",
    "            - waveform (Tensor): The audio waveform tensor.\n",
    "            - sample_rate (int): The sample rate of the audio.\n",
    "            - utterance (str): The transcription of the audio.\n",
    "            - speaker_id (int): The ID of the speaker.\n",
    "            - chapter_id (int): The ID of the chapter.\n",
    "            - file_id (int): The ID of the file.\n",
    "\n",
    "    Returns:\n",
    "        tuple: A tuple containing:\n",
    "            - padded_waveforms (Tensor): A tensor of padded audio waveforms.\n",
    "            - sample_rate (int): The sample rate of the audio.\n",
    "            - transcriptions (list): A list of transcriptions for the audio.\n",
    "\n",
    "    Raises:\n",
    "        ValueError: If the input batch is empty.\n",
    "    \"\"\"\n",
    "\n",
    "    # Get the maximum length of the waveforms in the batch\n",
    "    max_length = max(waveform.shape[1] for waveform, *_ in batch)\n",
    "\n",
    "    # Pad the waveforms and create a tensor for the batch\n",
    "    padded_waveforms = []\n",
    "    transcriptions = []\n",
    "\n",
    "    for waveform, sample_rate, utterance, speaker_id, chapter_id, file_id in batch:\n",
    "        # Pad the waveform with zeros\n",
    "        padded_waveform = torch.nn.functional.pad(waveform, (0, max_length - waveform.shape[1]))\n",
    "        padded_waveforms.append(padded_waveform)\n",
    "        transcriptions.append(utterance)\n",
    "\n",
    "    # Stack the waveforms into a single tensor\n",
    "    return torch.concat(padded_waveforms), sample_rate, transcriptions"
   ]
  },
  {
   "cell_type": "markdown",
   "id": "f204e8f5-ea70-46d2-a1a9-6e72d0955b95",
   "metadata": {},
   "source": [
    ":::{note}\n",
    "We use a `percentage` of 960 hours for training.\n",
    ":::"
   ]
  },
  {
   "cell_type": "code",
   "execution_count": 6,
   "id": "b5d412af-8a34-41ba-9639-277a2a5e85db",
   "metadata": {
    "execution": {
     "iopub.execute_input": "2024-11-26T06:24:26.303550Z",
     "iopub.status.busy": "2024-11-26T06:24:26.303358Z",
     "iopub.status.idle": "2024-11-26T06:24:26.325330Z",
     "shell.execute_reply": "2024-11-26T06:24:26.324108Z",
     "shell.execute_reply.started": "2024-11-26T06:24:26.303530Z"
    }
   },
   "outputs": [],
   "source": [
    "def load_librispeech_dataset(\n",
    "    root_path: str, split=\"train\", batch_size: int = 32, num_workers: int = 2, percentage=0.1\n",
    ") -> DataLoader:\n",
    "    \"\"\"Load the LibriSpeech dataset and return a DataLoader.\n",
    "\n",
    "    This function initializes the LibriSpeech dataset and creates a DataLoader\n",
    "    with a custom collate function to handle variable-length audio samples.\n",
    "\n",
    "    Args:\n",
    "        root_path (str): The path to the directory where the dataset will be stored.\n",
    "        split (str): train or val .\n",
    "        batch_size (int, optional): The number of samples per batch. Defaults to 32.\n",
    "        num_workers (int, optional): The number of subprocesses to use for data loading.\n",
    "            Defaults to 2.\n",
    "        percentage (float, optional): The percentage that used to generate features\n",
    "\n",
    "    Returns:\n",
    "        DataLoader: A DataLoader object that provides batches of audio waveforms\n",
    "        and their corresponding metadata from the LibriSpeech dataset.\n",
    "\n",
    "    Raises:\n",
    "        FileNotFoundError: If the dataset cannot be downloaded or accessed.\n",
    "    \"\"\"\n",
    "\n",
    "    if split == \"train\":\n",
    "        # Load individual datasets\n",
    "        train_clean_100 = torchaudio.datasets.LIBRISPEECH(root=root_path, url=\"train-clean-100\", download=True)\n",
    "        train_clean_360 = torchaudio.datasets.LIBRISPEECH(root=root_path, url=\"train-clean-360\", download=True)\n",
    "        train_other_500 = torchaudio.datasets.LIBRISPEECH(root=root_path, url=\"train-other-500\", download=True)\n",
    "        # Combine the datasets\n",
    "        dataset = ConcatDataset([train_clean_100, train_clean_360, train_other_500])\n",
    "    else:\n",
    "        dev_clean = torchaudio.datasets.LIBRISPEECH(root=root_path, url=\"dev-clean\", download=True)\n",
    "        dev_other = torchaudio.datasets.LIBRISPEECH(root=root_path, url=\"dev-other\", download=True)\n",
    "        dataset = ConcatDataset([dev_clean, dev_other])\n",
    "\n",
    "    # Randomly select 10% of the dataset,  and then create a Subset using the selected indices\n",
    "    subset_size = int(len(dataset) * percentage)\n",
    "    indices = torch.randperm(len(dataset))[:subset_size]\n",
    "    dataset = Subset(dataset, indices)\n",
    "\n",
    "    # Create a DataLoader with the custom collate function\n",
    "    dataloader = DataLoader(\n",
    "        dataset, batch_size=batch_size, shuffle=True, num_workers=num_workers, collate_fn=collate_fn\n",
    "    )\n",
    "\n",
    "    return dataloader"
   ]
  },
  {
   "cell_type": "markdown",
   "id": "cb37fb41-4826-4091-8ea2-5520237a6dad",
   "metadata": {},
   "source": [
    "## Load dataloader"
   ]
  },
  {
   "cell_type": "code",
   "execution_count": 7,
   "id": "116f9140-0814-45b5-ba1e-7ba01dca5247",
   "metadata": {
    "execution": {
     "iopub.execute_input": "2024-11-26T06:24:26.326094Z",
     "iopub.status.busy": "2024-11-26T06:24:26.325903Z",
     "iopub.status.idle": "2024-11-26T06:24:26.343163Z",
     "shell.execute_reply": "2024-11-26T06:24:26.341712Z",
     "shell.execute_reply.started": "2024-11-26T06:24:26.326076Z"
    },
    "scrolled": true
   },
   "outputs": [],
   "source": [
    "# dataloader = load_librispeech_dataset(dataset_root_path, split=\"train\", percentage=0.2, num_workers=4)\n",
    "\n",
    "# # Iterate through the DataLoader\n",
    "# for batch in dataloader:\n",
    "#     waveform, sample_rate, utterance = batch\n",
    "#     print(f\"Waveform shape: {waveform.shape}, Sample Rate: {sample_rate}\")\n",
    "#     # print(f\"Utterance: {utterance}\")\n",
    "#     break"
   ]
  },
  {
   "cell_type": "markdown",
   "id": "c9809e1a-dd1b-414c-9cf1-4d3d4a8592ba",
   "metadata": {},
   "source": [
    "# WavLM"
   ]
  },
  {
   "cell_type": "markdown",
   "id": "0fb9e800-c038-4c5c-8198-8b4f94799c23",
   "metadata": {},
   "source": [
    "## Intro of WavLM\n",
    "WavLM is a state-of-the-art model introduced for automatic speech recognition (ASR) and other speech-related tasks. Developed by researchers at Microsoft, WavLM builds upon the success of prior models like Wav2Vec 2.0, enhancing the ability to learn representations from raw audio and improving performance across various speech processing applications.\n",
    "\n",
    "### Key Features of WavLM\n",
    "\n",
    "1. **Architecture**:\n",
    "   - WavLM utilizes a transformer-based architecture similar to Wav2Vec 2.0 but incorporates several innovations to handle speech signals more effectively.\n",
    "   - It employs a feature extraction layer that processes raw audio inputs into a more manageable format for the transformer layers.\n",
    "\n",
    "2. **Self-Supervised Learning**:\n",
    "   - WavLM is trained using self-supervised learning techniques, which allow it to learn from unlabeled data. This is particularly beneficial in scenarios where labeled data is scarce.\n",
    "   - The model is pre-trained on a large corpus of unlabeled audio, enabling it to capture various acoustic characteristics and linguistic features.\n",
    "\n",
    "3. **Multi-Task Learning**:\n",
    "   - WavLM is designed to perform multiple tasks, including speech recognition, speaker identification, and emotion recognition, making it versatile for different applications.\n",
    "   - The model can be fine-tuned on specific tasks, allowing it to adapt to various domains and improve its performance.\n",
    "\n",
    "4. **Robustness**:\n",
    "   - One of the significant advancements of WavLM is its robustness to different acoustic conditions and noise levels, making it suitable for real-world applications where audio quality may vary.\n",
    "\n",
    "5. **Fine-Tuning Capabilities**:\n",
    "   - After pre-training, WavLM can be fine-tuned on specific datasets, allowing it to achieve high accuracy on specific tasks like ASR or speaker verification.\n",
    "   - Fine-tuning can involve supervised data, enabling the model to adapt to the nuances of the target domain effectively."
   ]
  },
  {
   "cell_type": "markdown",
   "id": "ad899f73-607c-4a36-9fb7-d74173f14905",
   "metadata": {},
   "source": [
    "\n",
    "We use the [WavLMModel](https://github.com/huggingface/transformers/blob/052e652d6d53c2b26ffde87e039b723949a53493/src/transformers/models/wavlm/modeling_wavlm.py#L1105) to extract audio features and then train the Kmeans model"
   ]
  },
  {
   "cell_type": "code",
   "execution_count": 8,
   "id": "94ad4fb6-2393-44e0-84d6-f41a57ac11f5",
   "metadata": {
    "execution": {
     "iopub.execute_input": "2024-11-26T06:24:26.345639Z",
     "iopub.status.busy": "2024-11-26T06:24:26.345440Z",
     "iopub.status.idle": "2024-11-26T06:24:27.360422Z",
     "shell.execute_reply": "2024-11-26T06:24:27.359093Z",
     "shell.execute_reply.started": "2024-11-26T06:24:26.345620Z"
    }
   },
   "outputs": [],
   "source": [
    "from transformers import WavLMModel"
   ]
  },
  {
   "cell_type": "code",
   "execution_count": 9,
   "id": "b0c01bee-6a91-4415-91be-9885278e08d3",
   "metadata": {
    "execution": {
     "iopub.execute_input": "2024-11-26T06:24:27.361942Z",
     "iopub.status.busy": "2024-11-26T06:24:27.361727Z",
     "iopub.status.idle": "2024-11-26T06:24:27.389284Z",
     "shell.execute_reply": "2024-11-26T06:24:27.387979Z",
     "shell.execute_reply.started": "2024-11-26T06:24:27.361921Z"
    }
   },
   "outputs": [],
   "source": [
    "class WavLM(nn.Module):\n",
    "    \"\"\"\n",
    "    https://huggingface.co/docs/transformers/model_doc/wavlm#transformers.WavLMForCTC\n",
    "    \"\"\"\n",
    "\n",
    "    def __init__(self, pretrained_name):\n",
    "        super().__init__()\n",
    "        print(\"Load WavLM model!!!!!!!\")\n",
    "        self.model = WavLMModel.from_pretrained(pretrained_name)\n",
    "        self.model.lm_head = nn.Identity()\n",
    "\n",
    "    def forward(self, x):\n",
    "        outputs = self.model(x)\n",
    "        return outputs"
   ]
  },
  {
   "cell_type": "code",
   "execution_count": 10,
   "id": "c81c1f4a-5847-41c5-970a-5b64fb8673a2",
   "metadata": {
    "execution": {
     "iopub.execute_input": "2024-11-26T06:24:27.390944Z",
     "iopub.status.busy": "2024-11-26T06:24:27.390734Z",
     "iopub.status.idle": "2024-11-26T06:24:27.890268Z",
     "shell.execute_reply": "2024-11-26T06:24:27.889626Z",
     "shell.execute_reply.started": "2024-11-26T06:24:27.390924Z"
    }
   },
   "outputs": [
    {
     "name": "stdout",
     "output_type": "stream",
     "text": [
      "Load WavLM model!!!!!!!\n"
     ]
    },
    {
     "name": "stderr",
     "output_type": "stream",
     "text": [
      "/home/ay/anaconda3/envs/torch/lib/python3.9/site-packages/torch/_utils.py:831: UserWarning: TypedStorage is deprecated. It will be removed in the future and UntypedStorage will be the only storage class. This should only matter to you if you are using storages directly.  To access UntypedStorage directly, use tensor.untyped_storage() instead of tensor.storage()\n",
      "  return self.fget.__get__(instance, owner)()\n",
      "Some weights of the model checkpoint at /home/ay/.cache/huggingface/hub/models--microsoft--wavlm-base/snapshots/efa81aae7ff777e464159e0f877d54eac5b84f81/ were not used when initializing WavLMModel: ['encoder.pos_conv_embed.conv.weight_g', 'encoder.pos_conv_embed.conv.weight_v']\n",
      "- This IS expected if you are initializing WavLMModel from the checkpoint of a model trained on another task or with another architecture (e.g. initializing a BertForSequenceClassification model from a BertForPreTraining model).\n",
      "- This IS NOT expected if you are initializing WavLMModel from the checkpoint of a model that you expect to be exactly identical (initializing a BertForSequenceClassification model from a BertForSequenceClassification model).\n",
      "Some weights of WavLMModel were not initialized from the model checkpoint at /home/ay/.cache/huggingface/hub/models--microsoft--wavlm-base/snapshots/efa81aae7ff777e464159e0f877d54eac5b84f81/ and are newly initialized: ['encoder.pos_conv_embed.conv.parametrizations.weight.original0', 'encoder.pos_conv_embed.conv.parametrizations.weight.original1']\n",
      "You should probably TRAIN this model on a down-stream task to be able to use it for predictions and inference.\n"
     ]
    }
   ],
   "source": [
    "pretrained_name = (\n",
    "    \"/home/ay/.cache/huggingface/hub/models--microsoft--wavlm-base\"\n",
    "    \"/snapshots/efa81aae7ff777e464159e0f877d54eac5b84f81/\"\n",
    ")\n",
    "\n",
    "model = WavLM(pretrained_name).cuda(1)\n",
    "model = model.eval()"
   ]
  },
  {
   "cell_type": "code",
   "execution_count": 11,
   "id": "0922cb0f-9447-4608-b23c-345fe3df6079",
   "metadata": {
    "execution": {
     "iopub.execute_input": "2024-11-26T06:24:27.891323Z",
     "iopub.status.busy": "2024-11-26T06:24:27.891084Z",
     "iopub.status.idle": "2024-11-26T06:24:27.915229Z",
     "shell.execute_reply": "2024-11-26T06:24:27.914500Z",
     "shell.execute_reply.started": "2024-11-26T06:24:27.891301Z"
    },
    "scrolled": true
   },
   "outputs": [],
   "source": [
    "# with torch.no_grad():\n",
    "#     res = model.model(waveform.to(next(model.parameters()).device))\n",
    "# res.hidden_states"
   ]
  },
  {
   "cell_type": "markdown",
   "id": "9cb2aad3-97cd-429d-986c-695671be23c1",
   "metadata": {},
   "source": [
    "## Load Validation Split and obtain val features"
   ]
  },
  {
   "cell_type": "code",
   "execution_count": 12,
   "id": "4fef05bf-c0dc-48aa-a845-91f25eb1d1b2",
   "metadata": {
    "execution": {
     "iopub.execute_input": "2024-11-26T06:24:27.916246Z",
     "iopub.status.busy": "2024-11-26T06:24:27.916043Z",
     "iopub.status.idle": "2024-11-26T06:25:50.661610Z",
     "shell.execute_reply": "2024-11-26T06:25:50.660674Z",
     "shell.execute_reply.started": "2024-11-26T06:24:27.916226Z"
    },
    "scrolled": true
   },
   "outputs": [
    {
     "name": "stderr",
     "output_type": "stream",
     "text": [
      "Processing Audio: 100%|██████████████████████████████████████████████████████████████████████████████| 348/348 [01:16<00:00,  4.54it/s]\n"
     ]
    }
   ],
   "source": [
    "val_dataloader = load_librispeech_dataset(dataset_root_path, split=\"val\", percentage=1.0, num_workers=4, batch_size=16)\n",
    "val_feat = []\n",
    "with torch.no_grad():\n",
    "    for i, batch in enumerate(tqdm(val_dataloader, desc=\"Processing Audio\")):\n",
    "        waveform, sample_rate, utterance = batch\n",
    "        outputs = model(waveform.cuda(1))\n",
    "        last_hidden_states = outputs.last_hidden_state.reshape(\n",
    "            -1, outputs.last_hidden_state.shape[-1]\n",
    "        )  # [batch, frames, features]\n",
    "        x = last_hidden_states.cpu().numpy()\n",
    "        val_feat.append(x)\n",
    "\n",
    "val_feat = np.concatenate(val_feat)"
   ]
  },
  {
   "cell_type": "code",
   "execution_count": 13,
   "id": "abc31035-efe0-49b2-87ed-7c36a74c23d7",
   "metadata": {
    "execution": {
     "iopub.execute_input": "2024-11-26T06:25:50.662769Z",
     "iopub.status.busy": "2024-11-26T06:25:50.662595Z",
     "iopub.status.idle": "2024-11-26T06:25:50.687308Z",
     "shell.execute_reply": "2024-11-26T06:25:50.686531Z",
     "shell.execute_reply.started": "2024-11-26T06:25:50.662750Z"
    }
   },
   "outputs": [],
   "source": [
    "def validate_kmeans(kmeans, features, metric=\"inertia\"):\n",
    "    \"\"\"\n",
    "    Validate a trained KMeans model using features from a validation DataLoader.\n",
    "\n",
    "    Args:\n",
    "        model (torch.nn.Module): Pretrained feature extraction model (e.g., WavLM).\n",
    "        dataloader (torch.utils.data.DataLoader): DataLoader for validation data.\n",
    "        processor: Processor for preprocessing input data for the model.\n",
    "        kmeans (MiniBatchKMeans): Trained MiniBatchKMeans model.\n",
    "        metric (str): Metric to compute. Options: \"inertia\" (default) or \"silhouette\".\n",
    "\n",
    "    Returns:\n",
    "        float: Computed evaluation metric (e.g., inertia or silhouette score).\n",
    "    \"\"\"\n",
    "\n",
    "    from sklearn.metrics import silhouette_score\n",
    "\n",
    "    features_list = []\n",
    "    cluster_assignments = []\n",
    "\n",
    "    # Predict cluster assignments\n",
    "    cluster_labels = kmeans.predict(features)\n",
    "\n",
    "    # Compute the specified metric\n",
    "    if metric == \"inertia\":\n",
    "        # Inertia: Sum of squared distances of samples to their closest cluster center\n",
    "        return kmeans.inertia_\n",
    "\n",
    "    elif metric == \"silhouette\":\n",
    "        # Silhouette score: Measures the separation between clusters\n",
    "        return silhouette_score(features, cluster_labels)\n",
    "\n",
    "    else:\n",
    "        raise ValueError(f\"Unknown metric '{metric}'. Supported metrics: 'inertia', 'silhouette'.\")"
   ]
  },
  {
   "cell_type": "code",
   "execution_count": 14,
   "id": "7b2a9dc2-e42c-4e42-95a3-9051765804f2",
   "metadata": {
    "execution": {
     "iopub.execute_input": "2024-11-26T06:25:50.688001Z",
     "iopub.status.busy": "2024-11-26T06:25:50.687862Z",
     "iopub.status.idle": "2024-11-26T06:25:50.717890Z",
     "shell.execute_reply": "2024-11-26T06:25:50.717107Z",
     "shell.execute_reply.started": "2024-11-26T06:25:50.687986Z"
    }
   },
   "outputs": [],
   "source": [
    "# validate_kmeans(kmeans_model, val_feat, metric=\"inertia\")"
   ]
  },
  {
   "cell_type": "markdown",
   "id": "c3c26166-0ee6-4c37-9087-c1b2e302f2cd",
   "metadata": {},
   "source": [
    "# Train Kmeans"
   ]
  },
  {
   "cell_type": "markdown",
   "id": "73652cd4-4b91-4672-9d5a-054b8a298d76",
   "metadata": {},
   "source": [
    "## Introduction of Kmeans\n",
    "MiniBatchKMeans is a variant of the traditional K-Means clustering algorithm that is designed to handle large datasets more efficiently. It was introduced to overcome some of the scalability issues associated with standard K-Means, particularly when dealing with very large datasets that may not fit into memory. Here's an overview of its key features, advantages, and applications:\n",
    "\n",
    "### Key Features of MiniBatchKMeans\n",
    "\n",
    "1. **Batch Processing**:\n",
    "   - Unlike the standard K-Means algorithm, which uses the entire dataset to update the cluster centroids in each iteration, MiniBatchKMeans processes small, random subsets (mini-batches) of the data.\n",
    "   - This approach significantly reduces the computational burden and memory requirements, allowing the algorithm to scale to larger datasets.\n",
    "\n",
    "2. **Algorithm Steps**:\n",
    "   - **Initialization**: Similar to K-Means, the algorithm starts by randomly initializing the centroids of the clusters.\n",
    "   - **Mini-Batch Selection**: In each iteration, a small random sample of the data is selected as a mini-batch.\n",
    "   - **Centroid Update**: The centroids are updated based on the mini-batch rather than the entire dataset, which leads to faster convergence.\n",
    "   - **Iteration**: This process is repeated for a specified number of iterations or until the centroids converge to stable values.\n",
    "\n",
    "3. **Reduced Memory Usage**:\n",
    "   - Because MiniBatchKMeans only needs to store and process the mini-batch at any given time, it is more memory-efficient compared to the standard K-Means approach.\n",
    "\n",
    "4. **Faster Convergence**:\n",
    "   - The use of mini-batches leads to quicker updates to the centroids, often resulting in faster convergence times, especially for large datasets.\n",
    "\n",
    "5. **Flexibility**:\n",
    "   - MiniBatchKMeans allows for the adjustment of the mini-batch size, which can be tuned based on the specific requirements of the dataset and application.\n",
    "\n",
    "### Advantages of MiniBatchKMeans\n",
    "\n",
    "- **Scalability**: It is particularly suited for applications where the dataset is too large to fit into memory, allowing clustering on large-scale data.\n",
    "- **Speed**: The algorithm runs faster than traditional K-Means, especially with large datasets, making it suitable for real-time applications.\n",
    "- **Reduced Variance**: By using random mini-batches, the algorithm can help reduce the variance in the updates, which can lead to a more stable convergence behavior."
   ]
  },
  {
   "cell_type": "code",
   "execution_count": 15,
   "id": "572affe9-f1fd-4411-a886-8d053f7f6706",
   "metadata": {
    "execution": {
     "iopub.execute_input": "2024-11-26T06:25:50.718603Z",
     "iopub.status.busy": "2024-11-26T06:25:50.718440Z",
     "iopub.status.idle": "2024-11-26T06:25:51.379502Z",
     "shell.execute_reply": "2024-11-26T06:25:51.378453Z",
     "shell.execute_reply.started": "2024-11-26T06:25:50.718589Z"
    }
   },
   "outputs": [],
   "source": [
    "import time\n",
    "\n",
    "import joblib\n",
    "from sklearn.cluster import MiniBatchKMeans"
   ]
  },
  {
   "cell_type": "code",
   "execution_count": 16,
   "id": "5d5b40a9-11a5-46b2-a251-3a5ceee15437",
   "metadata": {
    "execution": {
     "iopub.execute_input": "2024-11-26T06:25:51.381163Z",
     "iopub.status.busy": "2024-11-26T06:25:51.380632Z",
     "iopub.status.idle": "2024-11-26T06:25:51.413987Z",
     "shell.execute_reply": "2024-11-26T06:25:51.413148Z",
     "shell.execute_reply.started": "2024-11-26T06:25:51.381138Z"
    }
   },
   "outputs": [],
   "source": [
    "def get_kmeans_model(args: Namespace) -> MiniBatchKMeans:\n",
    "    \"\"\"Create and return a MiniBatch KMeans clustering model.\n",
    "\n",
    "    This function initializes a MiniBatch KMeans model with the specified\n",
    "    parameters from an args.Namespace object, which is suitable for large\n",
    "    datasets and can handle mini-batch updates for efficiency.\n",
    "\n",
    "    Args:\n",
    "        args (Namespace): A Namespace object containing the following parameters:\n",
    "            - n_clusters (int): The number of clusters to form.\n",
    "            - init (str): Method for initialization.\n",
    "            - max_iter (int): Maximum number of iterations for a single run.\n",
    "            - batch_size (int): Size of the mini-batches.\n",
    "            - tol (float): Relative tolerance with regards to the inertia to declare convergence.\n",
    "            - max_no_improvement (int): Maximum number of consecutive iterations with no improvement in the inertia.\n",
    "            - n_init (int): Number of time the k-means algorithm will be run with different centroid seeds.\n",
    "            - reassignment_ratio (float): The proportion of the previous cluster centers that must change to consider a clustering solution stable.\n",
    "            - random_state (int): Random seed for initialization.\n",
    "\n",
    "    Returns:\n",
    "        MiniBatchKMeans: An initialized MiniBatchKMeans model ready for fitting to data.\n",
    "\n",
    "    Raises:\n",
    "        ValueError: If any of the input parameters are invalid or inconsistent.\n",
    "    \"\"\"\n",
    "\n",
    "    return MiniBatchKMeans(\n",
    "        n_clusters=args.n_clusters,\n",
    "        init=args.init,\n",
    "        max_iter=args.max_iter,\n",
    "        batch_size=args.batch_size,\n",
    "        tol=args.tol,\n",
    "        max_no_improvement=args.max_no_improvement,\n",
    "        n_init=args.n_init,\n",
    "        reassignment_ratio=args.reassignment_ratio,\n",
    "        random_state=args.random_state,\n",
    "        verbose=0,\n",
    "        compute_labels=True,\n",
    "        init_size=None,\n",
    "    )"
   ]
  },
  {
   "cell_type": "code",
   "execution_count": 17,
   "id": "7623718f-c00a-4a69-9216-0319f8638f2e",
   "metadata": {
    "execution": {
     "iopub.execute_input": "2024-11-26T06:25:51.414746Z",
     "iopub.status.busy": "2024-11-26T06:25:51.414561Z",
     "iopub.status.idle": "2024-11-26T06:25:51.453825Z",
     "shell.execute_reply": "2024-11-26T06:25:51.453150Z",
     "shell.execute_reply.started": "2024-11-26T06:25:51.414727Z"
    }
   },
   "outputs": [],
   "source": [
    "args = Namespace(\n",
    "    n_clusters=200,\n",
    "    init=\"k-means++\",\n",
    "    max_iter=150,\n",
    "    batch_size=1000,\n",
    "    tol=0.0001,\n",
    "    max_no_improvement=100,\n",
    "    n_init=20,\n",
    "    reassignment_ratio=0.5,\n",
    "    random_state=42,\n",
    ")"
   ]
  },
  {
   "cell_type": "code",
   "execution_count": 18,
   "id": "9e62f7c4-da95-4149-88e2-de8fda4184e9",
   "metadata": {
    "execution": {
     "iopub.execute_input": "2024-11-26T06:25:51.455047Z",
     "iopub.status.busy": "2024-11-26T06:25:51.454735Z",
     "iopub.status.idle": "2024-11-26T06:25:52.546029Z",
     "shell.execute_reply": "2024-11-26T06:25:52.545402Z",
     "shell.execute_reply.started": "2024-11-26T06:25:51.455021Z"
    }
   },
   "outputs": [],
   "source": [
    "dataloader = load_librispeech_dataset(dataset_root_path, split=\"train\", percentage=0.5, num_workers=4)"
   ]
  },
  {
   "cell_type": "code",
   "execution_count": 19,
   "id": "a7993c3b-0d6e-4430-9f0f-9b6ae0902217",
   "metadata": {
    "execution": {
     "iopub.execute_input": "2024-11-26T06:25:52.547045Z",
     "iopub.status.busy": "2024-11-26T06:25:52.546834Z",
     "iopub.status.idle": "2024-11-26T06:25:52.588860Z",
     "shell.execute_reply": "2024-11-26T06:25:52.587988Z",
     "shell.execute_reply.started": "2024-11-26T06:25:52.547024Z"
    }
   },
   "outputs": [],
   "source": [
    "from loguru import logger"
   ]
  },
  {
   "cell_type": "code",
   "execution_count": null,
   "id": "521f6679-f5ef-4a69-acb9-fc47857345aa",
   "metadata": {
    "execution": {
     "iopub.execute_input": "2024-11-26T06:31:39.544327Z",
     "iopub.status.busy": "2024-11-26T06:31:39.544035Z"
    },
    "scrolled": true
   },
   "outputs": [
    {
     "name": "stderr",
     "output_type": "stream",
     "text": [
      "Processing Audio:   0%|                                                                                       | 0/4395 [00:00<?, ?it/s]\u001b[32m2024-11-26 14:31:41.297\u001b[0m | \u001b[1mINFO    \u001b[0m | \u001b[36m__main__\u001b[0m:\u001b[36m<module>\u001b[0m:\u001b[36m26\u001b[0m - \u001b[1m50, Epoch 0, current score: 3084788.0\u001b[0m\n",
      "Processing Audio:  11%|████████▊                                                                    | 500/4395 [04:14<32:45,  1.98it/s]\u001b[32m2024-11-26 14:35:54.189\u001b[0m | \u001b[1mINFO    \u001b[0m | \u001b[36m__main__\u001b[0m:\u001b[36m<module>\u001b[0m:\u001b[36m26\u001b[0m - \u001b[1m50, Epoch 0, current score: 2320928.0\u001b[0m\n",
      "Processing Audio:  23%|█████████████████▎                                                          | 1000/4395 [08:27<26:55,  2.10it/s]\u001b[32m2024-11-26 14:40:07.649\u001b[0m | \u001b[1mINFO    \u001b[0m | \u001b[36m__main__\u001b[0m:\u001b[36m<module>\u001b[0m:\u001b[36m26\u001b[0m - \u001b[1m50, Epoch 0, current score: 2392485.5\u001b[0m\n",
      "Processing Audio:  34%|█████████████████████████▉                                                  | 1500/4395 [12:41<25:09,  1.92it/s]\u001b[32m2024-11-26 14:44:21.667\u001b[0m | \u001b[1mINFO    \u001b[0m | \u001b[36m__main__\u001b[0m:\u001b[36m<module>\u001b[0m:\u001b[36m26\u001b[0m - \u001b[1m50, Epoch 0, current score: 2135305.25\u001b[0m\n",
      "Processing Audio:  46%|██████████████████████████████████▌                                         | 2000/4395 [16:51<20:22,  1.96it/s]\u001b[32m2024-11-26 14:48:31.284\u001b[0m | \u001b[1mINFO    \u001b[0m | \u001b[36m__main__\u001b[0m:\u001b[36m<module>\u001b[0m:\u001b[36m26\u001b[0m - \u001b[1m50, Epoch 0, current score: 2442820.5\u001b[0m\n",
      "Processing Audio:  57%|███████████████████████████████████████████▏                                | 2500/4395 [21:00<15:19,  2.06it/s]\u001b[32m2024-11-26 14:52:40.772\u001b[0m | \u001b[1mINFO    \u001b[0m | \u001b[36m__main__\u001b[0m:\u001b[36m<module>\u001b[0m:\u001b[36m26\u001b[0m - \u001b[1m50, Epoch 0, current score: 2504248.5\u001b[0m\n",
      "Processing Audio:  68%|███████████████████████████████████████████████████▉                        | 3000/4395 [25:12<11:17,  2.06it/s]\u001b[32m2024-11-26 14:56:52.667\u001b[0m | \u001b[1mINFO    \u001b[0m | \u001b[36m__main__\u001b[0m:\u001b[36m<module>\u001b[0m:\u001b[36m26\u001b[0m - \u001b[1m50, Epoch 0, current score: 2303896.5\u001b[0m\n",
      "Processing Audio:  80%|████████████████████████████████████████████████████████████▌               | 3500/4395 [29:25<07:01,  2.12it/s]\u001b[32m2024-11-26 15:01:05.664\u001b[0m | \u001b[1mINFO    \u001b[0m | \u001b[36m__main__\u001b[0m:\u001b[36m<module>\u001b[0m:\u001b[36m26\u001b[0m - \u001b[1m50, Epoch 0, current score: 2467967.25\u001b[0m\n",
      "Processing Audio:  91%|█████████████████████████████████████████████████████████████████████▏      | 4000/4395 [33:35<03:12,  2.05it/s]\u001b[32m2024-11-26 15:05:15.499\u001b[0m | \u001b[1mINFO    \u001b[0m | \u001b[36m__main__\u001b[0m:\u001b[36m<module>\u001b[0m:\u001b[36m26\u001b[0m - \u001b[1m50, Epoch 0, current score: 2254522.5\u001b[0m\n",
      "Processing Audio: 100%|████████████████████████████████████████████████████████████████████████████| 4395/4395 [36:53<00:00,  1.99it/s]\n",
      "\u001b[32m2024-11-26 15:08:35.356\u001b[0m | \u001b[1mINFO    \u001b[0m | \u001b[36m__main__\u001b[0m:\u001b[36m<module>\u001b[0m:\u001b[36m30\u001b[0m - \u001b[1m50, Epoch 0, val score: 872558.6875\u001b[0m\n",
      "Processing Audio:   0%|                                                                                       | 0/4395 [00:00<?, ?it/s]\u001b[32m2024-11-26 15:08:36.736\u001b[0m | \u001b[1mINFO    \u001b[0m | \u001b[36m__main__\u001b[0m:\u001b[36m<module>\u001b[0m:\u001b[36m26\u001b[0m - \u001b[1m50, Epoch 1, current score: 2536737.75\u001b[0m\n",
      "Processing Audio:  11%|████████▊                                                                    | 500/4395 [04:13<30:21,  2.14it/s]\u001b[32m2024-11-26 15:12:49.029\u001b[0m | \u001b[1mINFO    \u001b[0m | \u001b[36m__main__\u001b[0m:\u001b[36m<module>\u001b[0m:\u001b[36m26\u001b[0m - \u001b[1m50, Epoch 1, current score: 2426144.75\u001b[0m\n",
      "Processing Audio:  23%|█████████████████▎                                                          | 1000/4395 [08:23<26:19,  2.15it/s]\u001b[32m2024-11-26 15:16:59.056\u001b[0m | \u001b[1mINFO    \u001b[0m | \u001b[36m__main__\u001b[0m:\u001b[36m<module>\u001b[0m:\u001b[36m26\u001b[0m - \u001b[1m50, Epoch 1, current score: 2309749.75\u001b[0m\n",
      "Processing Audio:  34%|█████████████████████████▉                                                  | 1500/4395 [12:36<25:34,  1.89it/s]\u001b[32m2024-11-26 15:21:12.462\u001b[0m | \u001b[1mINFO    \u001b[0m | \u001b[36m__main__\u001b[0m:\u001b[36m<module>\u001b[0m:\u001b[36m26\u001b[0m - \u001b[1m50, Epoch 1, current score: 2406028.75\u001b[0m\n",
      "Processing Audio:  46%|██████████████████████████████████▌                                         | 2000/4395 [16:52<20:31,  1.94it/s]\u001b[32m2024-11-26 15:25:28.611\u001b[0m | \u001b[1mINFO    \u001b[0m | \u001b[36m__main__\u001b[0m:\u001b[36m<module>\u001b[0m:\u001b[36m26\u001b[0m - \u001b[1m50, Epoch 1, current score: 2233212.25\u001b[0m\n",
      "Processing Audio:  57%|███████████████████████████████████████████▏                                | 2500/4395 [21:02<16:24,  1.92it/s]\u001b[32m2024-11-26 15:29:38.564\u001b[0m | \u001b[1mINFO    \u001b[0m | \u001b[36m__main__\u001b[0m:\u001b[36m<module>\u001b[0m:\u001b[36m26\u001b[0m - \u001b[1m50, Epoch 1, current score: 2616029.5\u001b[0m\n",
      "Processing Audio:  68%|███████████████████████████████████████████████████▉                        | 3000/4395 [25:13<10:51,  2.14it/s]\u001b[32m2024-11-26 15:33:49.823\u001b[0m | \u001b[1mINFO    \u001b[0m | \u001b[36m__main__\u001b[0m:\u001b[36m<module>\u001b[0m:\u001b[36m26\u001b[0m - \u001b[1m50, Epoch 1, current score: 2484670.75\u001b[0m\n",
      "Processing Audio:  80%|████████████████████████████████████████████████████████████▌               | 3500/4395 [29:09<07:01,  2.12it/s]\u001b[32m2024-11-26 15:37:44.924\u001b[0m | \u001b[1mINFO    \u001b[0m | \u001b[36m__main__\u001b[0m:\u001b[36m<module>\u001b[0m:\u001b[36m26\u001b[0m - \u001b[1m50, Epoch 1, current score: 2332391.0\u001b[0m\n",
      "Processing Audio:  91%|█████████████████████████████████████████████████████████████████████▏      | 4000/4395 [33:04<03:08,  2.09it/s]\u001b[32m2024-11-26 15:41:40.410\u001b[0m | \u001b[1mINFO    \u001b[0m | \u001b[36m__main__\u001b[0m:\u001b[36m<module>\u001b[0m:\u001b[36m26\u001b[0m - \u001b[1m50, Epoch 1, current score: 2356612.25\u001b[0m\n",
      "Processing Audio: 100%|████████████████████████████████████████████████████████████████████████████| 4395/4395 [36:11<00:00,  2.02it/s]\n",
      "\u001b[32m2024-11-26 15:44:48.745\u001b[0m | \u001b[1mINFO    \u001b[0m | \u001b[36m__main__\u001b[0m:\u001b[36m<module>\u001b[0m:\u001b[36m30\u001b[0m - \u001b[1m50, Epoch 1, val score: 797982.0625\u001b[0m\n",
      "Processing Audio:   0%|                                                                                       | 0/4395 [00:00<?, ?it/s]\u001b[32m2024-11-26 15:44:50.032\u001b[0m | \u001b[1mINFO    \u001b[0m | \u001b[36m__main__\u001b[0m:\u001b[36m<module>\u001b[0m:\u001b[36m26\u001b[0m - \u001b[1m50, Epoch 2, current score: 2400539.75\u001b[0m\n",
      "Processing Audio:  11%|████████▊                                                                    | 500/4395 [04:01<31:25,  2.07it/s]\u001b[32m2024-11-26 15:48:50.959\u001b[0m | \u001b[1mINFO    \u001b[0m | \u001b[36m__main__\u001b[0m:\u001b[36m<module>\u001b[0m:\u001b[36m26\u001b[0m - \u001b[1m50, Epoch 2, current score: 2376951.5\u001b[0m\n",
      "Processing Audio:  23%|█████████████████▎                                                          | 1000/4395 [07:58<26:03,  2.17it/s]\u001b[32m2024-11-26 15:52:47.385\u001b[0m | \u001b[1mINFO    \u001b[0m | \u001b[36m__main__\u001b[0m:\u001b[36m<module>\u001b[0m:\u001b[36m26\u001b[0m - \u001b[1m50, Epoch 2, current score: 2393580.5\u001b[0m\n",
      "Processing Audio:  34%|█████████████████████████▉                                                  | 1500/4395 [11:53<23:28,  2.06it/s]\u001b[32m2024-11-26 15:56:42.297\u001b[0m | \u001b[1mINFO    \u001b[0m | \u001b[36m__main__\u001b[0m:\u001b[36m<module>\u001b[0m:\u001b[36m26\u001b[0m - \u001b[1m50, Epoch 2, current score: 2296927.25\u001b[0m\n",
      "Processing Audio:  46%|██████████████████████████████████▌                                         | 2000/4395 [15:50<18:34,  2.15it/s]\u001b[32m2024-11-26 16:00:39.667\u001b[0m | \u001b[1mINFO    \u001b[0m | \u001b[36m__main__\u001b[0m:\u001b[36m<module>\u001b[0m:\u001b[36m26\u001b[0m - \u001b[1m50, Epoch 2, current score: 2188029.5\u001b[0m\n",
      "Processing Audio:  57%|███████████████████████████████████████████▏                                | 2500/4395 [19:48<15:38,  2.02it/s]\u001b[32m2024-11-26 16:04:37.715\u001b[0m | \u001b[1mINFO    \u001b[0m | \u001b[36m__main__\u001b[0m:\u001b[36m<module>\u001b[0m:\u001b[36m26\u001b[0m - \u001b[1m50, Epoch 2, current score: 2498935.5\u001b[0m\n",
      "Processing Audio:  68%|███████████████████████████████████████████████████▉                        | 3000/4395 [23:45<10:53,  2.13it/s]\u001b[32m2024-11-26 16:08:34.457\u001b[0m | \u001b[1mINFO    \u001b[0m | \u001b[36m__main__\u001b[0m:\u001b[36m<module>\u001b[0m:\u001b[36m26\u001b[0m - \u001b[1m50, Epoch 2, current score: 2321127.75\u001b[0m\n",
      "Processing Audio:  80%|████████████████████████████████████████████████████████████▌               | 3500/4395 [27:40<07:00,  2.13it/s]\u001b[32m2024-11-26 16:12:30.013\u001b[0m | \u001b[1mINFO    \u001b[0m | \u001b[36m__main__\u001b[0m:\u001b[36m<module>\u001b[0m:\u001b[36m26\u001b[0m - \u001b[1m50, Epoch 2, current score: 2331035.25\u001b[0m\n",
      "Processing Audio:  91%|█████████████████████████████████████████████████████████████████████▏      | 4000/4395 [31:38<03:01,  2.18it/s]\u001b[32m2024-11-26 16:16:28.047\u001b[0m | \u001b[1mINFO    \u001b[0m | \u001b[36m__main__\u001b[0m:\u001b[36m<module>\u001b[0m:\u001b[36m26\u001b[0m - \u001b[1m50, Epoch 2, current score: 2412035.75\u001b[0m\n",
      "Processing Audio: 100%|████████████████████████████████████████████████████████████████████████████| 4395/4395 [34:43<00:00,  2.11it/s]\n",
      "\u001b[32m2024-11-26 16:19:34.529\u001b[0m | \u001b[1mINFO    \u001b[0m | \u001b[36m__main__\u001b[0m:\u001b[36m<module>\u001b[0m:\u001b[36m30\u001b[0m - \u001b[1m50, Epoch 2, val score: 821658.1875\u001b[0m\n",
      "Processing Audio:   0%|                                                                                       | 0/4395 [00:00<?, ?it/s]\u001b[32m2024-11-26 16:19:35.735\u001b[0m | \u001b[1mINFO    \u001b[0m | \u001b[36m__main__\u001b[0m:\u001b[36m<module>\u001b[0m:\u001b[36m26\u001b[0m - \u001b[1m50, Epoch 3, current score: 2300665.75\u001b[0m\n",
      "Processing Audio:  11%|████████▊                                                                    | 500/4395 [03:55<31:29,  2.06it/s]\u001b[32m2024-11-26 16:23:30.672\u001b[0m | \u001b[1mINFO    \u001b[0m | \u001b[36m__main__\u001b[0m:\u001b[36m<module>\u001b[0m:\u001b[36m26\u001b[0m - \u001b[1m50, Epoch 3, current score: 2493386.5\u001b[0m\n",
      "Processing Audio:  23%|█████████████████▎                                                          | 1000/4395 [07:51<26:30,  2.13it/s]\u001b[32m2024-11-26 16:27:26.410\u001b[0m | \u001b[1mINFO    \u001b[0m | \u001b[36m__main__\u001b[0m:\u001b[36m<module>\u001b[0m:\u001b[36m26\u001b[0m - \u001b[1m50, Epoch 3, current score: 2331364.0\u001b[0m\n",
      "Processing Audio:  34%|█████████████████████████▉                                                  | 1500/4395 [11:46<23:01,  2.09it/s]\u001b[32m2024-11-26 16:31:21.730\u001b[0m | \u001b[1mINFO    \u001b[0m | \u001b[36m__main__\u001b[0m:\u001b[36m<module>\u001b[0m:\u001b[36m26\u001b[0m - \u001b[1m50, Epoch 3, current score: 2162639.75\u001b[0m\n",
      "Processing Audio:  46%|██████████████████████████████████▌                                         | 2000/4395 [15:42<19:09,  2.08it/s]\u001b[32m2024-11-26 16:35:17.521\u001b[0m | \u001b[1mINFO    \u001b[0m | \u001b[36m__main__\u001b[0m:\u001b[36m<module>\u001b[0m:\u001b[36m26\u001b[0m - \u001b[1m50, Epoch 3, current score: 2279437.0\u001b[0m\n",
      "Processing Audio:  57%|███████████████████████████████████████████▏                                | 2500/4395 [19:37<14:17,  2.21it/s]\u001b[32m2024-11-26 16:39:12.671\u001b[0m | \u001b[1mINFO    \u001b[0m | \u001b[36m__main__\u001b[0m:\u001b[36m<module>\u001b[0m:\u001b[36m26\u001b[0m - \u001b[1m50, Epoch 3, current score: 2505047.5\u001b[0m\n",
      "Processing Audio:  68%|███████████████████████████████████████████████████▉                        | 3000/4395 [23:29<10:46,  2.16it/s]\u001b[32m2024-11-26 16:43:04.444\u001b[0m | \u001b[1mINFO    \u001b[0m | \u001b[36m__main__\u001b[0m:\u001b[36m<module>\u001b[0m:\u001b[36m26\u001b[0m - \u001b[1m50, Epoch 3, current score: 2433577.5\u001b[0m\n",
      "Processing Audio:  80%|████████████████████████████████████████████████████████████▌               | 3500/4395 [27:25<06:42,  2.23it/s]\u001b[32m2024-11-26 16:47:00.269\u001b[0m | \u001b[1mINFO    \u001b[0m | \u001b[36m__main__\u001b[0m:\u001b[36m<module>\u001b[0m:\u001b[36m26\u001b[0m - \u001b[1m50, Epoch 3, current score: 2323551.0\u001b[0m\n",
      "Processing Audio:  91%|█████████████████████████████████████████████████████████████████████▏      | 4000/4395 [31:21<03:06,  2.12it/s]\u001b[32m2024-11-26 16:50:56.117\u001b[0m | \u001b[1mINFO    \u001b[0m | \u001b[36m__main__\u001b[0m:\u001b[36m<module>\u001b[0m:\u001b[36m26\u001b[0m - \u001b[1m50, Epoch 3, current score: 2503386.75\u001b[0m\n",
      "Processing Audio: 100%|████████████████████████████████████████████████████████████████████████████| 4395/4395 [34:26<00:00,  2.13it/s]\n",
      "\u001b[32m2024-11-26 16:54:05.746\u001b[0m | \u001b[1mINFO    \u001b[0m | \u001b[36m__main__\u001b[0m:\u001b[36m<module>\u001b[0m:\u001b[36m30\u001b[0m - \u001b[1m50, Epoch 3, val score: 931429.75\u001b[0m\n",
      "Processing Audio:   0%|                                                                                       | 0/4395 [00:00<?, ?it/s]\u001b[32m2024-11-26 16:54:07.504\u001b[0m | \u001b[1mINFO    \u001b[0m | \u001b[36m__main__\u001b[0m:\u001b[36m<module>\u001b[0m:\u001b[36m26\u001b[0m - \u001b[1m100, Epoch 0, current score: 2489660.5\u001b[0m\n",
      "Processing Audio:  11%|████████▊                                                                    | 500/4395 [03:56<32:52,  1.97it/s]\u001b[32m2024-11-26 16:58:03.105\u001b[0m | \u001b[1mINFO    \u001b[0m | \u001b[36m__main__\u001b[0m:\u001b[36m<module>\u001b[0m:\u001b[36m26\u001b[0m - \u001b[1m100, Epoch 0, current score: 2250306.5\u001b[0m\n",
      "Processing Audio:  23%|█████████████████▎                                                          | 1000/4395 [07:53<26:49,  2.11it/s]\u001b[32m2024-11-26 17:01:59.351\u001b[0m | \u001b[1mINFO    \u001b[0m | \u001b[36m__main__\u001b[0m:\u001b[36m<module>\u001b[0m:\u001b[36m26\u001b[0m - \u001b[1m100, Epoch 0, current score: 2409890.5\u001b[0m\n",
      "Processing Audio:  34%|█████████████████████████▉                                                  | 1500/4395 [11:50<23:31,  2.05it/s]\u001b[32m2024-11-26 17:05:56.410\u001b[0m | \u001b[1mINFO    \u001b[0m | \u001b[36m__main__\u001b[0m:\u001b[36m<module>\u001b[0m:\u001b[36m26\u001b[0m - \u001b[1m100, Epoch 0, current score: 2322070.25\u001b[0m\n",
      "Processing Audio:  46%|██████████████████████████████████▌                                         | 2000/4395 [15:47<19:03,  2.09it/s]\u001b[32m2024-11-26 17:09:53.744\u001b[0m | \u001b[1mINFO    \u001b[0m | \u001b[36m__main__\u001b[0m:\u001b[36m<module>\u001b[0m:\u001b[36m26\u001b[0m - \u001b[1m100, Epoch 0, current score: 2245530.25\u001b[0m\n",
      "Processing Audio:  57%|███████████████████████████████████████████▏                                | 2500/4395 [19:45<14:48,  2.13it/s]\u001b[32m2024-11-26 17:13:51.284\u001b[0m | \u001b[1mINFO    \u001b[0m | \u001b[36m__main__\u001b[0m:\u001b[36m<module>\u001b[0m:\u001b[36m26\u001b[0m - \u001b[1m100, Epoch 0, current score: 2144567.25\u001b[0m\n",
      "Processing Audio:  68%|███████████████████████████████████████████████████▉                        | 3000/4395 [23:42<10:54,  2.13it/s]\u001b[32m2024-11-26 17:17:48.286\u001b[0m | \u001b[1mINFO    \u001b[0m | \u001b[36m__main__\u001b[0m:\u001b[36m<module>\u001b[0m:\u001b[36m26\u001b[0m - \u001b[1m100, Epoch 0, current score: 2325762.75\u001b[0m\n",
      "Processing Audio:  80%|████████████████████████████████████████████████████████████▌               | 3500/4395 [27:37<07:03,  2.11it/s]\u001b[32m2024-11-26 17:21:43.319\u001b[0m | \u001b[1mINFO    \u001b[0m | \u001b[36m__main__\u001b[0m:\u001b[36m<module>\u001b[0m:\u001b[36m26\u001b[0m - \u001b[1m100, Epoch 0, current score: 2272356.75\u001b[0m\n",
      "Processing Audio:  91%|█████████████████████████████████████████████████████████████████████▏      | 4000/4395 [31:33<02:59,  2.19it/s]\u001b[32m2024-11-26 17:25:39.954\u001b[0m | \u001b[1mINFO    \u001b[0m | \u001b[36m__main__\u001b[0m:\u001b[36m<module>\u001b[0m:\u001b[36m26\u001b[0m - \u001b[1m100, Epoch 0, current score: 2242363.75\u001b[0m\n",
      "Processing Audio: 100%|████████████████████████████████████████████████████████████████████████████| 4395/4395 [34:41<00:00,  2.11it/s]\n",
      "\u001b[32m2024-11-26 17:28:50.612\u001b[0m | \u001b[1mINFO    \u001b[0m | \u001b[36m__main__\u001b[0m:\u001b[36m<module>\u001b[0m:\u001b[36m30\u001b[0m - \u001b[1m100, Epoch 0, val score: 801107.4375\u001b[0m\n",
      "Processing Audio:   0%|                                                                                       | 0/4395 [00:00<?, ?it/s]\u001b[32m2024-11-26 17:28:51.867\u001b[0m | \u001b[1mINFO    \u001b[0m | \u001b[36m__main__\u001b[0m:\u001b[36m<module>\u001b[0m:\u001b[36m26\u001b[0m - \u001b[1m100, Epoch 1, current score: 1984769.875\u001b[0m\n",
      "Processing Audio:  11%|████████▊                                                                    | 500/4395 [03:54<29:42,  2.19it/s]\u001b[32m2024-11-26 17:32:45.563\u001b[0m | \u001b[1mINFO    \u001b[0m | \u001b[36m__main__\u001b[0m:\u001b[36m<module>\u001b[0m:\u001b[36m26\u001b[0m - \u001b[1m100, Epoch 1, current score: 2190143.0\u001b[0m\n",
      "Processing Audio:  23%|█████████████████▎                                                          | 1000/4395 [07:51<26:27,  2.14it/s]\u001b[32m2024-11-26 17:36:42.902\u001b[0m | \u001b[1mINFO    \u001b[0m | \u001b[36m__main__\u001b[0m:\u001b[36m<module>\u001b[0m:\u001b[36m26\u001b[0m - \u001b[1m100, Epoch 1, current score: 2231961.5\u001b[0m\n",
      "Processing Audio:  34%|█████████████████████████▉                                                  | 1500/4395 [11:47<23:02,  2.09it/s]\u001b[32m2024-11-26 17:40:38.449\u001b[0m | \u001b[1mINFO    \u001b[0m | \u001b[36m__main__\u001b[0m:\u001b[36m<module>\u001b[0m:\u001b[36m26\u001b[0m - \u001b[1m100, Epoch 1, current score: 2327520.25\u001b[0m\n",
      "Processing Audio:  46%|██████████████████████████████████▌                                         | 2000/4395 [15:44<18:28,  2.16it/s]\u001b[32m2024-11-26 17:44:35.578\u001b[0m | \u001b[1mINFO    \u001b[0m | \u001b[36m__main__\u001b[0m:\u001b[36m<module>\u001b[0m:\u001b[36m26\u001b[0m - \u001b[1m100, Epoch 1, current score: 2178977.25\u001b[0m\n",
      "Processing Audio:  57%|███████████████████████████████████████████▏                                | 2500/4395 [19:40<14:29,  2.18it/s]\u001b[32m2024-11-26 17:48:31.514\u001b[0m | \u001b[1mINFO    \u001b[0m | \u001b[36m__main__\u001b[0m:\u001b[36m<module>\u001b[0m:\u001b[36m26\u001b[0m - \u001b[1m100, Epoch 1, current score: 2177324.25\u001b[0m\n",
      "Processing Audio:  68%|███████████████████████████████████████████████████▉                        | 3000/4395 [23:36<11:03,  2.10it/s]\u001b[32m2024-11-26 17:52:27.106\u001b[0m | \u001b[1mINFO    \u001b[0m | \u001b[36m__main__\u001b[0m:\u001b[36m<module>\u001b[0m:\u001b[36m26\u001b[0m - \u001b[1m100, Epoch 1, current score: 2442898.5\u001b[0m\n",
      "Processing Audio:  80%|████████████████████████████████████████████████████████████▌               | 3500/4395 [27:32<07:01,  2.12it/s]\u001b[32m2024-11-26 17:56:23.163\u001b[0m | \u001b[1mINFO    \u001b[0m | \u001b[36m__main__\u001b[0m:\u001b[36m<module>\u001b[0m:\u001b[36m26\u001b[0m - \u001b[1m100, Epoch 1, current score: 2193151.5\u001b[0m\n",
      "Processing Audio:  91%|█████████████████████████████████████████████████████████████████████▏      | 4000/4395 [31:26<03:08,  2.10it/s]\u001b[32m2024-11-26 18:00:18.049\u001b[0m | \u001b[1mINFO    \u001b[0m | \u001b[36m__main__\u001b[0m:\u001b[36m<module>\u001b[0m:\u001b[36m26\u001b[0m - \u001b[1m100, Epoch 1, current score: 2229229.0\u001b[0m\n",
      "Processing Audio: 100%|████████████████████████████████████████████████████████████████████████████| 4395/4395 [34:32<00:00,  2.12it/s]\n",
      "\u001b[32m2024-11-26 18:03:24.842\u001b[0m | \u001b[1mINFO    \u001b[0m | \u001b[36m__main__\u001b[0m:\u001b[36m<module>\u001b[0m:\u001b[36m30\u001b[0m - \u001b[1m100, Epoch 1, val score: 851992.75\u001b[0m\n",
      "Processing Audio:   0%|                                                                                       | 0/4395 [00:00<?, ?it/s]\u001b[32m2024-11-26 18:03:26.117\u001b[0m | \u001b[1mINFO    \u001b[0m | \u001b[36m__main__\u001b[0m:\u001b[36m<module>\u001b[0m:\u001b[36m26\u001b[0m - \u001b[1m100, Epoch 2, current score: 2298137.5\u001b[0m\n",
      "Processing Audio:  11%|████████▊                                                                    | 500/4395 [03:56<31:04,  2.09it/s]\u001b[32m2024-11-26 18:07:21.774\u001b[0m | \u001b[1mINFO    \u001b[0m | \u001b[36m__main__\u001b[0m:\u001b[36m<module>\u001b[0m:\u001b[36m26\u001b[0m - \u001b[1m100, Epoch 2, current score: 2112544.75\u001b[0m\n",
      "Processing Audio:  23%|█████████████████▎                                                          | 1000/4395 [07:53<26:57,  2.10it/s]\u001b[32m2024-11-26 18:11:18.600\u001b[0m | \u001b[1mINFO    \u001b[0m | \u001b[36m__main__\u001b[0m:\u001b[36m<module>\u001b[0m:\u001b[36m26\u001b[0m - \u001b[1m100, Epoch 2, current score: 2187306.5\u001b[0m\n",
      "Processing Audio:  34%|█████████████████████████▉                                                  | 1500/4395 [11:49<22:14,  2.17it/s]\u001b[32m2024-11-26 18:15:14.752\u001b[0m | \u001b[1mINFO    \u001b[0m | \u001b[36m__main__\u001b[0m:\u001b[36m<module>\u001b[0m:\u001b[36m26\u001b[0m - \u001b[1m100, Epoch 2, current score: 2505781.25\u001b[0m\n",
      "Processing Audio:  46%|██████████████████████████████████▌                                         | 2000/4395 [15:48<18:01,  2.21it/s]\u001b[32m2024-11-26 18:19:13.750\u001b[0m | \u001b[1mINFO    \u001b[0m | \u001b[36m__main__\u001b[0m:\u001b[36m<module>\u001b[0m:\u001b[36m26\u001b[0m - \u001b[1m100, Epoch 2, current score: 1963404.5\u001b[0m\n",
      "Processing Audio:  57%|███████████████████████████████████████████▏                                | 2500/4395 [19:44<14:12,  2.22it/s]\u001b[32m2024-11-26 18:23:09.980\u001b[0m | \u001b[1mINFO    \u001b[0m | \u001b[36m__main__\u001b[0m:\u001b[36m<module>\u001b[0m:\u001b[36m26\u001b[0m - \u001b[1m100, Epoch 2, current score: 2395104.25\u001b[0m\n",
      "Processing Audio:  68%|███████████████████████████████████████████████████▉                        | 3000/4395 [23:53<11:18,  2.06it/s]\u001b[32m2024-11-26 18:27:18.741\u001b[0m | \u001b[1mINFO    \u001b[0m | \u001b[36m__main__\u001b[0m:\u001b[36m<module>\u001b[0m:\u001b[36m26\u001b[0m - \u001b[1m100, Epoch 2, current score: 2279151.25\u001b[0m\n",
      "Processing Audio:  80%|████████████████████████████████████████████████████████████▌               | 3500/4395 [27:50<07:18,  2.04it/s]\u001b[32m2024-11-26 18:31:16.150\u001b[0m | \u001b[1mINFO    \u001b[0m | \u001b[36m__main__\u001b[0m:\u001b[36m<module>\u001b[0m:\u001b[36m26\u001b[0m - \u001b[1m100, Epoch 2, current score: 2264235.25\u001b[0m\n",
      "Processing Audio:  91%|█████████████████████████████████████████████████████████████████████▏      | 4000/4395 [31:50<03:11,  2.06it/s]\u001b[32m2024-11-26 18:35:15.419\u001b[0m | \u001b[1mINFO    \u001b[0m | \u001b[36m__main__\u001b[0m:\u001b[36m<module>\u001b[0m:\u001b[36m26\u001b[0m - \u001b[1m100, Epoch 2, current score: 2426869.5\u001b[0m\n",
      "Processing Audio: 100%|████████████████████████████████████████████████████████████████████████████| 4395/4395 [34:57<00:00,  2.09it/s]\n",
      "\u001b[32m2024-11-26 18:38:24.950\u001b[0m | \u001b[1mINFO    \u001b[0m | \u001b[36m__main__\u001b[0m:\u001b[36m<module>\u001b[0m:\u001b[36m30\u001b[0m - \u001b[1m100, Epoch 2, val score: 726102.875\u001b[0m\n",
      "Processing Audio:   0%|                                                                                       | 0/4395 [00:00<?, ?it/s]\u001b[32m2024-11-26 18:38:26.269\u001b[0m | \u001b[1mINFO    \u001b[0m | \u001b[36m__main__\u001b[0m:\u001b[36m<module>\u001b[0m:\u001b[36m26\u001b[0m - \u001b[1m100, Epoch 3, current score: 2209234.0\u001b[0m\n",
      "Processing Audio:  11%|████████▊                                                                    | 500/4395 [04:00<30:33,  2.12it/s]\u001b[32m2024-11-26 18:42:25.559\u001b[0m | \u001b[1mINFO    \u001b[0m | \u001b[36m__main__\u001b[0m:\u001b[36m<module>\u001b[0m:\u001b[36m26\u001b[0m - \u001b[1m100, Epoch 3, current score: 2340098.25\u001b[0m\n",
      "Processing Audio:  23%|█████████████████▎                                                          | 1000/4395 [07:59<27:07,  2.09it/s]\u001b[32m2024-11-26 18:46:24.808\u001b[0m | \u001b[1mINFO    \u001b[0m | \u001b[36m__main__\u001b[0m:\u001b[36m<module>\u001b[0m:\u001b[36m26\u001b[0m - \u001b[1m100, Epoch 3, current score: 2224708.0\u001b[0m\n",
      "Processing Audio:  34%|█████████████████████████▉                                                  | 1500/4395 [11:56<22:31,  2.14it/s]\u001b[32m2024-11-26 18:50:21.745\u001b[0m | \u001b[1mINFO    \u001b[0m | \u001b[36m__main__\u001b[0m:\u001b[36m<module>\u001b[0m:\u001b[36m26\u001b[0m - \u001b[1m100, Epoch 3, current score: 2250895.25\u001b[0m\n",
      "Processing Audio:  46%|██████████████████████████████████▌                                         | 2000/4395 [15:54<18:39,  2.14it/s]\u001b[32m2024-11-26 18:54:19.536\u001b[0m | \u001b[1mINFO    \u001b[0m | \u001b[36m__main__\u001b[0m:\u001b[36m<module>\u001b[0m:\u001b[36m26\u001b[0m - \u001b[1m100, Epoch 3, current score: 2045307.375\u001b[0m\n",
      "Processing Audio:  57%|███████████████████████████████████████████▏                                | 2500/4395 [19:50<14:56,  2.11it/s]\u001b[32m2024-11-26 18:58:16.044\u001b[0m | \u001b[1mINFO    \u001b[0m | \u001b[36m__main__\u001b[0m:\u001b[36m<module>\u001b[0m:\u001b[36m26\u001b[0m - \u001b[1m100, Epoch 3, current score: 2137489.0\u001b[0m\n",
      "Processing Audio:  68%|███████████████████████████████████████████████████▉                        | 3000/4395 [23:47<11:17,  2.06it/s]\u001b[32m2024-11-26 19:02:13.040\u001b[0m | \u001b[1mINFO    \u001b[0m | \u001b[36m__main__\u001b[0m:\u001b[36m<module>\u001b[0m:\u001b[36m26\u001b[0m - \u001b[1m100, Epoch 3, current score: 2207401.75\u001b[0m\n",
      "Processing Audio:  80%|████████████████████████████████████████████████████████████▌               | 3500/4395 [27:45<07:08,  2.09it/s]\u001b[32m2024-11-26 19:06:11.382\u001b[0m | \u001b[1mINFO    \u001b[0m | \u001b[36m__main__\u001b[0m:\u001b[36m<module>\u001b[0m:\u001b[36m26\u001b[0m - \u001b[1m100, Epoch 3, current score: 2178470.0\u001b[0m\n",
      "Processing Audio:  91%|█████████████████████████████████████████████████████████████████████▏      | 4000/4395 [31:44<03:14,  2.03it/s]\u001b[32m2024-11-26 19:10:10.054\u001b[0m | \u001b[1mINFO    \u001b[0m | \u001b[36m__main__\u001b[0m:\u001b[36m<module>\u001b[0m:\u001b[36m26\u001b[0m - \u001b[1m100, Epoch 3, current score: 2185434.75\u001b[0m\n",
      "Processing Audio: 100%|████████████████████████████████████████████████████████████████████████████| 4395/4395 [34:51<00:00,  2.10it/s]\n",
      "\u001b[32m2024-11-26 19:13:18.179\u001b[0m | \u001b[1mINFO    \u001b[0m | \u001b[36m__main__\u001b[0m:\u001b[36m<module>\u001b[0m:\u001b[36m30\u001b[0m - \u001b[1m100, Epoch 3, val score: 878839.125\u001b[0m\n",
      "Processing Audio:   0%|                                                                                       | 0/4395 [00:00<?, ?it/s]\u001b[32m2024-11-26 19:13:19.455\u001b[0m | \u001b[1mINFO    \u001b[0m | \u001b[36m__main__\u001b[0m:\u001b[36m<module>\u001b[0m:\u001b[36m26\u001b[0m - \u001b[1m100, Epoch 4, current score: 2209238.0\u001b[0m\n",
      "Processing Audio:  11%|████████▊                                                                    | 500/4395 [03:58<30:30,  2.13it/s]\u001b[32m2024-11-26 19:17:17.135\u001b[0m | \u001b[1mINFO    \u001b[0m | \u001b[36m__main__\u001b[0m:\u001b[36m<module>\u001b[0m:\u001b[36m26\u001b[0m - \u001b[1m100, Epoch 4, current score: 2292744.25\u001b[0m\n",
      "Processing Audio:  23%|█████████████████▎                                                          | 1000/4395 [07:56<26:42,  2.12it/s]\u001b[32m2024-11-26 19:21:14.893\u001b[0m | \u001b[1mINFO    \u001b[0m | \u001b[36m__main__\u001b[0m:\u001b[36m<module>\u001b[0m:\u001b[36m26\u001b[0m - \u001b[1m100, Epoch 4, current score: 2242621.0\u001b[0m\n",
      "Processing Audio:  34%|█████████████████████████▉                                                  | 1500/4395 [11:54<22:49,  2.11it/s]\u001b[32m2024-11-26 19:25:12.966\u001b[0m | \u001b[1mINFO    \u001b[0m | \u001b[36m__main__\u001b[0m:\u001b[36m<module>\u001b[0m:\u001b[36m26\u001b[0m - \u001b[1m100, Epoch 4, current score: 2247357.75\u001b[0m\n",
      "Processing Audio:  46%|██████████████████████████████████▌                                         | 2000/4395 [15:53<19:16,  2.07it/s]\u001b[32m2024-11-26 19:29:12.362\u001b[0m | \u001b[1mINFO    \u001b[0m | \u001b[36m__main__\u001b[0m:\u001b[36m<module>\u001b[0m:\u001b[36m26\u001b[0m - \u001b[1m100, Epoch 4, current score: 2282133.75\u001b[0m\n",
      "Processing Audio:  57%|███████████████████████████████████████████▏                                | 2500/4395 [19:51<15:06,  2.09it/s]\u001b[32m2024-11-26 19:33:10.468\u001b[0m | \u001b[1mINFO    \u001b[0m | \u001b[36m__main__\u001b[0m:\u001b[36m<module>\u001b[0m:\u001b[36m26\u001b[0m - \u001b[1m100, Epoch 4, current score: 2286989.75\u001b[0m\n",
      "Processing Audio:  68%|███████████████████████████████████████████████████▉                        | 3000/4395 [23:50<10:54,  2.13it/s]\u001b[32m2024-11-26 19:37:08.983\u001b[0m | \u001b[1mINFO    \u001b[0m | \u001b[36m__main__\u001b[0m:\u001b[36m<module>\u001b[0m:\u001b[36m26\u001b[0m - \u001b[1m100, Epoch 4, current score: 2203320.5\u001b[0m\n",
      "Processing Audio:  80%|████████████████████████████████████████████████████████████▌               | 3500/4395 [27:48<07:11,  2.07it/s]\u001b[32m2024-11-26 19:41:07.382\u001b[0m | \u001b[1mINFO    \u001b[0m | \u001b[36m__main__\u001b[0m:\u001b[36m<module>\u001b[0m:\u001b[36m26\u001b[0m - \u001b[1m100, Epoch 4, current score: 2308959.5\u001b[0m\n",
      "Processing Audio:  91%|█████████████████████████████████████████████████████████████████████▏      | 4000/4395 [31:46<03:02,  2.16it/s]\u001b[32m2024-11-26 19:45:04.840\u001b[0m | \u001b[1mINFO    \u001b[0m | \u001b[36m__main__\u001b[0m:\u001b[36m<module>\u001b[0m:\u001b[36m26\u001b[0m - \u001b[1m100, Epoch 4, current score: 2161854.25\u001b[0m\n",
      "Processing Audio: 100%|████████████████████████████████████████████████████████████████████████████| 4395/4395 [34:52<00:00,  2.10it/s]\n",
      "\u001b[32m2024-11-26 19:48:12.834\u001b[0m | \u001b[1mINFO    \u001b[0m | \u001b[36m__main__\u001b[0m:\u001b[36m<module>\u001b[0m:\u001b[36m30\u001b[0m - \u001b[1m100, Epoch 4, val score: 926403.375\u001b[0m\n",
      "Processing Audio:   0%|                                                                                       | 0/4395 [00:00<?, ?it/s]\u001b[32m2024-11-26 19:48:14.950\u001b[0m | \u001b[1mINFO    \u001b[0m | \u001b[36m__main__\u001b[0m:\u001b[36m<module>\u001b[0m:\u001b[36m26\u001b[0m - \u001b[1m150, Epoch 0, current score: 2338076.5\u001b[0m\n",
      "Processing Audio:  11%|████████▊                                                                    | 500/4395 [04:02<30:42,  2.11it/s]\u001b[32m2024-11-26 19:52:15.758\u001b[0m | \u001b[1mINFO    \u001b[0m | \u001b[36m__main__\u001b[0m:\u001b[36m<module>\u001b[0m:\u001b[36m26\u001b[0m - \u001b[1m150, Epoch 0, current score: 2047685.875\u001b[0m\n",
      "Processing Audio:  23%|█████████████████▎                                                          | 1000/4395 [08:01<26:40,  2.12it/s]\u001b[32m2024-11-26 19:56:15.264\u001b[0m | \u001b[1mINFO    \u001b[0m | \u001b[36m__main__\u001b[0m:\u001b[36m<module>\u001b[0m:\u001b[36m26\u001b[0m - \u001b[1m150, Epoch 0, current score: 2024782.0\u001b[0m\n",
      "Processing Audio:  34%|█████████████████████████▉                                                  | 1500/4395 [12:00<23:08,  2.08it/s]\u001b[32m2024-11-26 20:00:13.885\u001b[0m | \u001b[1mINFO    \u001b[0m | \u001b[36m__main__\u001b[0m:\u001b[36m<module>\u001b[0m:\u001b[36m26\u001b[0m - \u001b[1m150, Epoch 0, current score: 2001334.0\u001b[0m\n",
      "Processing Audio:  46%|██████████████████████████████████▌                                         | 2000/4395 [16:01<19:08,  2.09it/s]\u001b[32m2024-11-26 20:04:14.659\u001b[0m | \u001b[1mINFO    \u001b[0m | \u001b[36m__main__\u001b[0m:\u001b[36m<module>\u001b[0m:\u001b[36m26\u001b[0m - \u001b[1m150, Epoch 0, current score: 2269306.25\u001b[0m\n",
      "Processing Audio:  57%|███████████████████████████████████████████▏                                | 2500/4395 [20:06<14:32,  2.17it/s]\u001b[32m2024-11-26 20:08:19.794\u001b[0m | \u001b[1mINFO    \u001b[0m | \u001b[36m__main__\u001b[0m:\u001b[36m<module>\u001b[0m:\u001b[36m26\u001b[0m - \u001b[1m150, Epoch 0, current score: 2250508.25\u001b[0m\n",
      "Processing Audio:  68%|███████████████████████████████████████████████████▉                        | 3000/4395 [24:22<14:37,  1.59it/s]\u001b[32m2024-11-26 20:12:35.768\u001b[0m | \u001b[1mINFO    \u001b[0m | \u001b[36m__main__\u001b[0m:\u001b[36m<module>\u001b[0m:\u001b[36m26\u001b[0m - \u001b[1m150, Epoch 0, current score: 2069094.25\u001b[0m\n",
      "Processing Audio:  80%|████████████████████████████████████████████████████████████▌               | 3500/4395 [28:34<07:04,  2.11it/s]\u001b[32m2024-11-26 20:16:48.034\u001b[0m | \u001b[1mINFO    \u001b[0m | \u001b[36m__main__\u001b[0m:\u001b[36m<module>\u001b[0m:\u001b[36m26\u001b[0m - \u001b[1m150, Epoch 0, current score: 2386844.25\u001b[0m\n",
      "Processing Audio:  91%|█████████████████████████████████████████████████████████████████████▏      | 4000/4395 [32:37<03:21,  1.96it/s]\u001b[32m2024-11-26 20:20:50.659\u001b[0m | \u001b[1mINFO    \u001b[0m | \u001b[36m__main__\u001b[0m:\u001b[36m<module>\u001b[0m:\u001b[36m26\u001b[0m - \u001b[1m150, Epoch 0, current score: 2081217.625\u001b[0m\n",
      "Processing Audio: 100%|████████████████████████████████████████████████████████████████████████████| 4395/4395 [35:47<00:00,  2.05it/s]\n",
      "\u001b[32m2024-11-26 20:24:02.595\u001b[0m | \u001b[1mINFO    \u001b[0m | \u001b[36m__main__\u001b[0m:\u001b[36m<module>\u001b[0m:\u001b[36m30\u001b[0m - \u001b[1m150, Epoch 0, val score: 832243.875\u001b[0m\n",
      "Processing Audio:   0%|                                                                                       | 0/4395 [00:00<?, ?it/s]\u001b[32m2024-11-26 20:24:03.904\u001b[0m | \u001b[1mINFO    \u001b[0m | \u001b[36m__main__\u001b[0m:\u001b[36m<module>\u001b[0m:\u001b[36m26\u001b[0m - \u001b[1m150, Epoch 1, current score: 2129028.75\u001b[0m\n",
      "Processing Audio:  11%|████████▊                                                                    | 500/4395 [04:10<31:55,  2.03it/s]\u001b[32m2024-11-26 20:28:13.404\u001b[0m | \u001b[1mINFO    \u001b[0m | \u001b[36m__main__\u001b[0m:\u001b[36m<module>\u001b[0m:\u001b[36m26\u001b[0m - \u001b[1m150, Epoch 1, current score: 2114963.25\u001b[0m\n",
      "Processing Audio:  23%|█████████████████▎                                                          | 1000/4395 [08:22<37:28,  1.51it/s]\u001b[32m2024-11-26 20:32:26.178\u001b[0m | \u001b[1mINFO    \u001b[0m | \u001b[36m__main__\u001b[0m:\u001b[36m<module>\u001b[0m:\u001b[36m26\u001b[0m - \u001b[1m150, Epoch 1, current score: 2105244.75\u001b[0m\n",
      "Processing Audio:  34%|█████████████████████████▉                                                  | 1500/4395 [12:30<22:21,  2.16it/s]\u001b[32m2024-11-26 20:36:33.571\u001b[0m | \u001b[1mINFO    \u001b[0m | \u001b[36m__main__\u001b[0m:\u001b[36m<module>\u001b[0m:\u001b[36m26\u001b[0m - \u001b[1m150, Epoch 1, current score: 2042886.875\u001b[0m\n",
      "Processing Audio:  46%|██████████████████████████████████▌                                         | 2000/4395 [16:58<29:34,  1.35it/s]\u001b[32m2024-11-26 20:41:02.275\u001b[0m | \u001b[1mINFO    \u001b[0m | \u001b[36m__main__\u001b[0m:\u001b[36m<module>\u001b[0m:\u001b[36m26\u001b[0m - \u001b[1m150, Epoch 1, current score: 2172972.25\u001b[0m\n",
      "Processing Audio:  57%|███████████████████████████████████████████▏                                | 2500/4395 [21:10<15:09,  2.08it/s]\u001b[32m2024-11-26 20:45:13.237\u001b[0m | \u001b[1mINFO    \u001b[0m | \u001b[36m__main__\u001b[0m:\u001b[36m<module>\u001b[0m:\u001b[36m26\u001b[0m - \u001b[1m150, Epoch 1, current score: 2004431.625\u001b[0m\n",
      "Processing Audio:  68%|███████████████████████████████████████████████████▉                        | 3000/4395 [25:11<11:44,  1.98it/s]\u001b[32m2024-11-26 20:49:14.114\u001b[0m | \u001b[1mINFO    \u001b[0m | \u001b[36m__main__\u001b[0m:\u001b[36m<module>\u001b[0m:\u001b[36m26\u001b[0m - \u001b[1m150, Epoch 1, current score: 2138907.5\u001b[0m\n",
      "Processing Audio:  80%|████████████████████████████████████████████████████████████▌               | 3500/4395 [30:19<07:17,  2.05it/s]\u001b[32m2024-11-26 20:54:22.634\u001b[0m | \u001b[1mINFO    \u001b[0m | \u001b[36m__main__\u001b[0m:\u001b[36m<module>\u001b[0m:\u001b[36m26\u001b[0m - \u001b[1m150, Epoch 1, current score: 2185029.5\u001b[0m\n",
      "Processing Audio:  91%|█████████████████████████████████████████████████████████████████████▏      | 4000/4395 [34:23<03:09,  2.09it/s]\u001b[32m2024-11-26 20:58:26.733\u001b[0m | \u001b[1mINFO    \u001b[0m | \u001b[36m__main__\u001b[0m:\u001b[36m<module>\u001b[0m:\u001b[36m26\u001b[0m - \u001b[1m150, Epoch 1, current score: 2153571.5\u001b[0m\n",
      "Processing Audio: 100%|████████████████████████████████████████████████████████████████████████████| 4395/4395 [38:04<00:00,  1.92it/s]\n",
      "\u001b[32m2024-11-26 21:02:09.631\u001b[0m | \u001b[1mINFO    \u001b[0m | \u001b[36m__main__\u001b[0m:\u001b[36m<module>\u001b[0m:\u001b[36m30\u001b[0m - \u001b[1m150, Epoch 1, val score: 841471.5625\u001b[0m\n",
      "Processing Audio:   0%|                                                                                       | 0/4395 [00:00<?, ?it/s]\u001b[32m2024-11-26 21:02:10.921\u001b[0m | \u001b[1mINFO    \u001b[0m | \u001b[36m__main__\u001b[0m:\u001b[36m<module>\u001b[0m:\u001b[36m26\u001b[0m - \u001b[1m150, Epoch 2, current score: 2174797.75\u001b[0m\n",
      "Processing Audio:  11%|████████▊                                                                    | 500/4395 [04:03<30:59,  2.10it/s]\u001b[32m2024-11-26 21:06:13.383\u001b[0m | \u001b[1mINFO    \u001b[0m | \u001b[36m__main__\u001b[0m:\u001b[36m<module>\u001b[0m:\u001b[36m26\u001b[0m - \u001b[1m150, Epoch 2, current score: 2029348.375\u001b[0m\n",
      "Processing Audio:  23%|█████████████████▎                                                          | 1000/4395 [08:04<26:43,  2.12it/s]\u001b[32m2024-11-26 21:10:14.599\u001b[0m | \u001b[1mINFO    \u001b[0m | \u001b[36m__main__\u001b[0m:\u001b[36m<module>\u001b[0m:\u001b[36m26\u001b[0m - \u001b[1m150, Epoch 2, current score: 2188978.5\u001b[0m\n",
      "Processing Audio:  34%|█████████████████████████▉                                                  | 1500/4395 [12:05<23:23,  2.06it/s]\u001b[32m2024-11-26 21:14:15.080\u001b[0m | \u001b[1mINFO    \u001b[0m | \u001b[36m__main__\u001b[0m:\u001b[36m<module>\u001b[0m:\u001b[36m26\u001b[0m - \u001b[1m150, Epoch 2, current score: 2093285.625\u001b[0m\n",
      "Processing Audio:  46%|██████████████████████████████████▌                                         | 2000/4395 [16:35<25:13,  1.58it/s]\u001b[32m2024-11-26 21:18:45.967\u001b[0m | \u001b[1mINFO    \u001b[0m | \u001b[36m__main__\u001b[0m:\u001b[36m<module>\u001b[0m:\u001b[36m26\u001b[0m - \u001b[1m150, Epoch 2, current score: 2255771.0\u001b[0m\n",
      "Processing Audio:  57%|███████████████████████████████████████████▏                                | 2500/4395 [20:57<18:19,  1.72it/s]\u001b[32m2024-11-26 21:23:08.060\u001b[0m | \u001b[1mINFO    \u001b[0m | \u001b[36m__main__\u001b[0m:\u001b[36m<module>\u001b[0m:\u001b[36m26\u001b[0m - \u001b[1m150, Epoch 2, current score: 2221253.25\u001b[0m\n",
      "Processing Audio:  68%|███████████████████████████████████████████████████▉                        | 3000/4395 [25:09<11:08,  2.09it/s]\u001b[32m2024-11-26 21:27:20.049\u001b[0m | \u001b[1mINFO    \u001b[0m | \u001b[36m__main__\u001b[0m:\u001b[36m<module>\u001b[0m:\u001b[36m26\u001b[0m - \u001b[1m150, Epoch 2, current score: 2234914.0\u001b[0m\n",
      "Processing Audio:  80%|████████████████████████████████████████████████████████████▌               | 3500/4395 [29:18<10:03,  1.48it/s]\u001b[32m2024-11-26 21:31:28.368\u001b[0m | \u001b[1mINFO    \u001b[0m | \u001b[36m__main__\u001b[0m:\u001b[36m<module>\u001b[0m:\u001b[36m26\u001b[0m - \u001b[1m150, Epoch 2, current score: 2203307.0\u001b[0m\n",
      "Processing Audio:  91%|█████████████████████████████████████████████████████████████████████▏      | 4000/4395 [33:25<04:38,  1.42it/s]\u001b[32m2024-11-26 21:35:35.809\u001b[0m | \u001b[1mINFO    \u001b[0m | \u001b[36m__main__\u001b[0m:\u001b[36m<module>\u001b[0m:\u001b[36m26\u001b[0m - \u001b[1m150, Epoch 2, current score: 2163367.75\u001b[0m\n",
      "Processing Audio: 100%|████████████████████████████████████████████████████████████████████████████| 4395/4395 [37:00<00:00,  1.98it/s]\n",
      "\u001b[32m2024-11-26 21:39:16.400\u001b[0m | \u001b[1mINFO    \u001b[0m | \u001b[36m__main__\u001b[0m:\u001b[36m<module>\u001b[0m:\u001b[36m30\u001b[0m - \u001b[1m150, Epoch 2, val score: 731912.5\u001b[0m\n",
      "Processing Audio:   0%|                                                                                       | 0/4395 [00:00<?, ?it/s]\u001b[32m2024-11-26 21:39:18.203\u001b[0m | \u001b[1mINFO    \u001b[0m | \u001b[36m__main__\u001b[0m:\u001b[36m<module>\u001b[0m:\u001b[36m26\u001b[0m - \u001b[1m150, Epoch 3, current score: 2071961.75\u001b[0m\n",
      "Processing Audio:  11%|████████▊                                                                    | 500/4395 [04:33<36:21,  1.79it/s]\u001b[32m2024-11-26 21:43:50.214\u001b[0m | \u001b[1mINFO    \u001b[0m | \u001b[36m__main__\u001b[0m:\u001b[36m<module>\u001b[0m:\u001b[36m26\u001b[0m - \u001b[1m150, Epoch 3, current score: 2177668.25\u001b[0m\n",
      "Processing Audio:  23%|█████████████████▎                                                          | 1000/4395 [09:16<27:47,  2.04it/s]\u001b[32m2024-11-26 21:48:32.942\u001b[0m | \u001b[1mINFO    \u001b[0m | \u001b[36m__main__\u001b[0m:\u001b[36m<module>\u001b[0m:\u001b[36m26\u001b[0m - \u001b[1m150, Epoch 3, current score: 2185316.5\u001b[0m\n",
      "Processing Audio:  34%|█████████████████████████▉                                                  | 1500/4395 [14:35<34:35,  1.39it/s]\u001b[32m2024-11-26 21:53:52.618\u001b[0m | \u001b[1mINFO    \u001b[0m | \u001b[36m__main__\u001b[0m:\u001b[36m<module>\u001b[0m:\u001b[36m26\u001b[0m - \u001b[1m150, Epoch 3, current score: 2176461.25\u001b[0m\n",
      "Processing Audio:  46%|██████████████████████████████████▌                                         | 2000/4395 [20:14<29:30,  1.35it/s]\u001b[32m2024-11-26 21:59:31.586\u001b[0m | \u001b[1mINFO    \u001b[0m | \u001b[36m__main__\u001b[0m:\u001b[36m<module>\u001b[0m:\u001b[36m26\u001b[0m - \u001b[1m150, Epoch 3, current score: 2282914.5\u001b[0m\n",
      "Processing Audio:  57%|███████████████████████████████████████████▏                                | 2500/4395 [26:01<23:18,  1.36it/s]\u001b[32m2024-11-26 22:05:18.452\u001b[0m | \u001b[1mINFO    \u001b[0m | \u001b[36m__main__\u001b[0m:\u001b[36m<module>\u001b[0m:\u001b[36m26\u001b[0m - \u001b[1m150, Epoch 3, current score: 2200122.0\u001b[0m\n",
      "Processing Audio:  68%|███████████████████████████████████████████████████▉                        | 3000/4395 [31:48<17:08,  1.36it/s]\u001b[32m2024-11-26 22:11:05.426\u001b[0m | \u001b[1mINFO    \u001b[0m | \u001b[36m__main__\u001b[0m:\u001b[36m<module>\u001b[0m:\u001b[36m26\u001b[0m - \u001b[1m150, Epoch 3, current score: 2279336.25\u001b[0m\n",
      "Processing Audio:  80%|████████████████████████████████████████████████████████████▌               | 3500/4395 [37:37<11:37,  1.28it/s]\u001b[32m2024-11-26 22:16:54.893\u001b[0m | \u001b[1mINFO    \u001b[0m | \u001b[36m__main__\u001b[0m:\u001b[36m<module>\u001b[0m:\u001b[36m26\u001b[0m - \u001b[1m150, Epoch 3, current score: 2302967.0\u001b[0m\n",
      "Processing Audio:  91%|█████████████████████████████████████████████████████████████████████▏      | 4000/4395 [41:47<03:07,  2.10it/s]\u001b[32m2024-11-26 22:21:04.062\u001b[0m | \u001b[1mINFO    \u001b[0m | \u001b[36m__main__\u001b[0m:\u001b[36m<module>\u001b[0m:\u001b[36m26\u001b[0m - \u001b[1m150, Epoch 3, current score: 2254106.75\u001b[0m\n",
      "Processing Audio: 100%|████████████████████████████████████████████████████████████████████████████| 4395/4395 [44:56<00:00,  1.63it/s]\n",
      "\u001b[32m2024-11-26 22:24:15.928\u001b[0m | \u001b[1mINFO    \u001b[0m | \u001b[36m__main__\u001b[0m:\u001b[36m<module>\u001b[0m:\u001b[36m30\u001b[0m - \u001b[1m150, Epoch 3, val score: 802493.375\u001b[0m\n",
      "Processing Audio:   0%|                                                                                       | 0/4395 [00:00<?, ?it/s]\u001b[32m2024-11-26 22:24:17.244\u001b[0m | \u001b[1mINFO    \u001b[0m | \u001b[36m__main__\u001b[0m:\u001b[36m<module>\u001b[0m:\u001b[36m26\u001b[0m - \u001b[1m150, Epoch 4, current score: 2210880.0\u001b[0m\n",
      "Processing Audio:  11%|████████▊                                                                    | 500/4395 [04:24<31:22,  2.07it/s]\u001b[32m2024-11-26 22:28:40.465\u001b[0m | \u001b[1mINFO    \u001b[0m | \u001b[36m__main__\u001b[0m:\u001b[36m<module>\u001b[0m:\u001b[36m26\u001b[0m - \u001b[1m150, Epoch 4, current score: 2222594.75\u001b[0m\n",
      "Processing Audio:  23%|█████████████████▎                                                          | 1000/4395 [08:26<38:42,  1.46it/s]\u001b[32m2024-11-26 22:32:43.380\u001b[0m | \u001b[1mINFO    \u001b[0m | \u001b[36m__main__\u001b[0m:\u001b[36m<module>\u001b[0m:\u001b[36m26\u001b[0m - \u001b[1m150, Epoch 4, current score: 2176444.5\u001b[0m\n",
      "Processing Audio:  34%|█████████████████████████▉                                                  | 1500/4395 [14:22<36:16,  1.33it/s]\u001b[32m2024-11-26 22:38:39.133\u001b[0m | \u001b[1mINFO    \u001b[0m | \u001b[36m__main__\u001b[0m:\u001b[36m<module>\u001b[0m:\u001b[36m26\u001b[0m - \u001b[1m150, Epoch 4, current score: 2166578.0\u001b[0m\n",
      "Processing Audio:  46%|██████████████████████████████████▌                                         | 2000/4395 [20:17<29:00,  1.38it/s]\u001b[32m2024-11-26 22:44:34.517\u001b[0m | \u001b[1mINFO    \u001b[0m | \u001b[36m__main__\u001b[0m:\u001b[36m<module>\u001b[0m:\u001b[36m26\u001b[0m - \u001b[1m150, Epoch 4, current score: 2069052.25\u001b[0m\n",
      "Processing Audio:  57%|███████████████████████████████████████████▏                                | 2500/4395 [26:08<25:07,  1.26it/s]\u001b[32m2024-11-26 22:50:25.201\u001b[0m | \u001b[1mINFO    \u001b[0m | \u001b[36m__main__\u001b[0m:\u001b[36m<module>\u001b[0m:\u001b[36m26\u001b[0m - \u001b[1m150, Epoch 4, current score: 2144260.75\u001b[0m\n",
      "Processing Audio:  68%|███████████████████████████████████████████████████▉                        | 3000/4395 [30:23<11:27,  2.03it/s]\u001b[32m2024-11-26 22:54:39.911\u001b[0m | \u001b[1mINFO    \u001b[0m | \u001b[36m__main__\u001b[0m:\u001b[36m<module>\u001b[0m:\u001b[36m26\u001b[0m - \u001b[1m150, Epoch 4, current score: 2123841.5\u001b[0m\n",
      "Processing Audio:  80%|████████████████████████████████████████████████████████████▌               | 3500/4395 [34:25<07:13,  2.06it/s]\u001b[32m2024-11-26 22:58:42.400\u001b[0m | \u001b[1mINFO    \u001b[0m | \u001b[36m__main__\u001b[0m:\u001b[36m<module>\u001b[0m:\u001b[36m26\u001b[0m - \u001b[1m150, Epoch 4, current score: 1982051.875\u001b[0m\n",
      "Processing Audio:  91%|█████████████████████████████████████████████████████████████████████▏      | 4000/4395 [38:28<03:08,  2.09it/s]\u001b[32m2024-11-26 23:02:44.624\u001b[0m | \u001b[1mINFO    \u001b[0m | \u001b[36m__main__\u001b[0m:\u001b[36m<module>\u001b[0m:\u001b[36m26\u001b[0m - \u001b[1m150, Epoch 4, current score: 2166686.0\u001b[0m\n",
      "Processing Audio: 100%|████████████████████████████████████████████████████████████████████████████| 4395/4395 [41:37<00:00,  1.76it/s]\n",
      "\u001b[32m2024-11-26 23:05:56.000\u001b[0m | \u001b[1mINFO    \u001b[0m | \u001b[36m__main__\u001b[0m:\u001b[36m<module>\u001b[0m:\u001b[36m30\u001b[0m - \u001b[1m150, Epoch 4, val score: 596962.875\u001b[0m\n",
      "Processing Audio:   0%|                                                                                       | 0/4395 [00:00<?, ?it/s]\u001b[32m2024-11-26 23:05:57.304\u001b[0m | \u001b[1mINFO    \u001b[0m | \u001b[36m__main__\u001b[0m:\u001b[36m<module>\u001b[0m:\u001b[36m26\u001b[0m - \u001b[1m150, Epoch 5, current score: 2235933.25\u001b[0m\n",
      "Processing Audio:  11%|████████▊                                                                    | 500/4395 [04:01<30:55,  2.10it/s]\u001b[32m2024-11-26 23:09:57.722\u001b[0m | \u001b[1mINFO    \u001b[0m | \u001b[36m__main__\u001b[0m:\u001b[36m<module>\u001b[0m:\u001b[36m26\u001b[0m - \u001b[1m150, Epoch 5, current score: 2207332.25\u001b[0m\n",
      "Processing Audio:  23%|█████████████████▎                                                          | 1000/4395 [08:00<25:51,  2.19it/s]\u001b[32m2024-11-26 23:13:57.286\u001b[0m | \u001b[1mINFO    \u001b[0m | \u001b[36m__main__\u001b[0m:\u001b[36m<module>\u001b[0m:\u001b[36m26\u001b[0m - \u001b[1m150, Epoch 5, current score: 2230732.0\u001b[0m\n",
      "Processing Audio:  34%|█████████████████████████▉                                                  | 1500/4395 [12:03<23:10,  2.08it/s]\u001b[32m2024-11-26 23:17:59.640\u001b[0m | \u001b[1mINFO    \u001b[0m | \u001b[36m__main__\u001b[0m:\u001b[36m<module>\u001b[0m:\u001b[36m26\u001b[0m - \u001b[1m150, Epoch 5, current score: 2199061.75\u001b[0m\n",
      "Processing Audio:  46%|██████████████████████████████████▌                                         | 2000/4395 [16:02<18:36,  2.15it/s]\u001b[32m2024-11-26 23:21:59.111\u001b[0m | \u001b[1mINFO    \u001b[0m | \u001b[36m__main__\u001b[0m:\u001b[36m<module>\u001b[0m:\u001b[36m26\u001b[0m - \u001b[1m150, Epoch 5, current score: 2116489.5\u001b[0m\n",
      "Processing Audio:  57%|███████████████████████████████████████████▏                                | 2500/4395 [20:01<14:54,  2.12it/s]\u001b[32m2024-11-26 23:25:58.403\u001b[0m | \u001b[1mINFO    \u001b[0m | \u001b[36m__main__\u001b[0m:\u001b[36m<module>\u001b[0m:\u001b[36m26\u001b[0m - \u001b[1m150, Epoch 5, current score: 2032511.625\u001b[0m\n",
      "Processing Audio:  59%|████████████████████████████████████████████▋                               | 2585/4395 [20:42<14:11,  2.13it/s]"
     ]
    }
   ],
   "source": [
    "logger.add(f\"kmeans.log\", rotation=\"5 MB\", retention=\"7 days\", level=\"DEBUG\")  # Save to a file with rotation\n",
    "\n",
    "\n",
    "for n_clusters in [50, 100, 150]:\n",
    "# for n_clusters in [50]:\n",
    "    args.n_clusters = n_clusters\n",
    "    kmeans_model = get_kmeans_model(args)\n",
    "    n_epochs = 10\n",
    "    best_score = 100000000000000000\n",
    "    tol = 0\n",
    "\n",
    "    \n",
    "    \n",
    "    with torch.no_grad():\n",
    "        for e in range(n_epochs):\n",
    "            for i, batch in enumerate(tqdm(dataloader, desc=\"Processing Audio\")):\n",
    "                waveform, sample_rate, utterance = batch\n",
    "                outputs = model(waveform.cuda(1))\n",
    "                last_hidden_states = outputs.last_hidden_state.reshape(\n",
    "                    -1, outputs.last_hidden_state.shape[-1]\n",
    "                )  # [batch, frames, features]\n",
    "                x = last_hidden_states.cpu().numpy()\n",
    "                kmeans_model.partial_fit(x)\n",
    "                score = -kmeans_model.score(x) / len(x)\n",
    "                if i % 500 == 0:\n",
    "                    logger.info(f\"{n_clusters}, Epoch {e}, current score: {kmeans_model.inertia_}\")\n",
    "                \n",
    "            \n",
    "            val_score = validate_kmeans(kmeans_model, val_feat, metric=\"inertia\")\n",
    "            logger.info(f\"{n_clusters}, Epoch {e}, val score: {val_score}\")\n",
    "            \n",
    "            if val_score < best_score:\n",
    "                best_score = val_score\n",
    "                tol = 0\n",
    "                joblib.dump(kmeans_model, os.path.join(dataset_root_path, f\"kmeans_model-{n_clusters}.pkl\"))\n",
    "            else:\n",
    "                tol += 1\n",
    "                if tol >= 2:\n",
    "                    break"
   ]
  },
  {
   "cell_type": "code",
   "execution_count": null,
   "id": "d2b76bc4-c5bb-4d76-88bb-5d4be079cef6",
   "metadata": {},
   "outputs": [],
   "source": []
  }
 ],
 "metadata": {
  "kernelspec": {
   "display_name": "Python 3 (ipykernel)",
   "language": "python",
   "name": "python3"
  },
  "language_info": {
   "codemirror_mode": {
    "name": "ipython",
    "version": 3
   },
   "file_extension": ".py",
   "mimetype": "text/x-python",
   "name": "python",
   "nbconvert_exporter": "python",
   "pygments_lexer": "ipython3",
   "version": "3.9.18"
  }
 },
 "nbformat": 4,
 "nbformat_minor": 5
}
