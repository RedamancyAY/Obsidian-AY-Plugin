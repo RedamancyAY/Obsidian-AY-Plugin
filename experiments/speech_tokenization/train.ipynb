{
 "cells": [
  {
   "cell_type": "code",
   "execution_count": 1,
   "id": "a52ff5cf-7be5-447d-946e-999212a148d7",
   "metadata": {
    "execution": {
     "iopub.execute_input": "2024-11-26T06:24:24.385821Z",
     "iopub.status.busy": "2024-11-26T06:24:24.385221Z",
     "iopub.status.idle": "2024-11-26T06:24:24.424032Z",
     "shell.execute_reply": "2024-11-26T06:24:24.422867Z",
     "shell.execute_reply.started": "2024-11-26T06:24:24.385755Z"
    }
   },
   "outputs": [],
   "source": [
    "%load_ext autoreload\n",
    "%autoreload 2"
   ]
  },
  {
   "cell_type": "code",
   "execution_count": 2,
   "id": "b5fe5336-2047-4df6-a4f1-1a18d02d979f",
   "metadata": {
    "execution": {
     "iopub.execute_input": "2024-11-26T06:24:24.427621Z",
     "iopub.status.busy": "2024-11-26T06:24:24.427135Z",
     "iopub.status.idle": "2024-11-26T06:24:26.134958Z",
     "shell.execute_reply": "2024-11-26T06:24:26.133995Z",
     "shell.execute_reply.started": "2024-11-26T06:24:24.427573Z"
    }
   },
   "outputs": [],
   "source": [
    "import os\n",
    "from argparse import Namespace\n",
    "from typing import Any, NamedTuple\n",
    "\n",
    "import numpy as np\n",
    "import pandas as pd\n",
    "import torch\n",
    "import torch.nn as nn\n",
    "import torch.nn.functional as F\n",
    "from tqdm import tqdm"
   ]
  },
  {
   "cell_type": "code",
   "execution_count": 3,
   "id": "7c8ced8c-3d71-4e5b-aed7-c37f7fbd65d7",
   "metadata": {
    "execution": {
     "iopub.execute_input": "2024-11-26T06:24:26.136037Z",
     "iopub.status.busy": "2024-11-26T06:24:26.135751Z",
     "iopub.status.idle": "2024-11-26T06:24:26.258524Z",
     "shell.execute_reply": "2024-11-26T06:24:26.257325Z",
     "shell.execute_reply.started": "2024-11-26T06:24:26.136014Z"
    }
   },
   "outputs": [],
   "source": [
    "import torchaudio\n",
    "from torch.utils.data import ConcatDataset, DataLoader, Subset"
   ]
  },
  {
   "cell_type": "markdown",
   "id": "7d5becef-67a0-4478-965e-93ba6c8986bd",
   "metadata": {},
   "source": [
    "# Load LibriSpeech dataset\n"
   ]
  },
  {
   "cell_type": "markdown",
   "id": "df9967e3-05ec-4563-a199-17f9d57df3a4",
   "metadata": {},
   "source": [
    "LibriSpeech 数据集是语音识别领域的流行资源，广泛用于训练和评估机器学习模型。它包含大约 1,000 小时的英语语音，来源于 LibriVox 项目中的有声读物。根据数据量和录音质量，数据集被划分为不同的子集，使其适用于自动语音识别（ASR）的各种任务。\n"
   ]
  },
  {
   "cell_type": "markdown",
   "id": "e15439e5-f087-4cf5-8020-21653d7ab4cf",
   "metadata": {
    "execution": {
     "iopub.execute_input": "2024-11-25T01:39:00.716153Z",
     "iopub.status.busy": "2024-11-25T01:39:00.714616Z",
     "iopub.status.idle": "2024-11-25T01:39:00.764745Z",
     "shell.execute_reply": "2024-11-25T01:39:00.762980Z",
     "shell.execute_reply.started": "2024-11-25T01:39:00.716080Z"
    }
   },
   "source": [
    "Dataset Structure:\n",
    "\n",
    "- The dataset is organized into several parts:\n",
    "  - train-clean-100: 100 hours of clean speech for training.\n",
    "  - train-clean-360: 360 hours of clean speech for training.\n",
    "  - train-other-500: 500 hours of speech from various sources that may include background noise, making it less clean.\n",
    "  - dev-clean: A development set containing clean speech.\n",
    "  - dev-other: A development set containing more diverse and noisy speech.\n",
    "  - test-clean: A test set of clean speech.\n",
    "  - test-other: A test set with more diverse and noisy speech.\n",
    "- Audio Format:\n",
    "  - The audio files are typically in the `flac` format, sampled at 16 kHz, and stored as mono channels.\n"
   ]
  },
  {
   "cell_type": "markdown",
   "id": "d9e2bcbc-12d8-4cbd-8875-8195b758e46e",
   "metadata": {},
   "source": [
    ":::{note}\n",
    "We use all the train data for training, not just a subset. Thus, **Total 960 hours** are used to train the Kmeans model.\n",
    ":::\n"
   ]
  },
  {
   "cell_type": "code",
   "execution_count": 4,
   "id": "299b4669-5de6-4fc9-ab20-7ba398b8ed5d",
   "metadata": {
    "execution": {
     "iopub.execute_input": "2024-11-26T06:24:26.259841Z",
     "iopub.status.busy": "2024-11-26T06:24:26.259637Z",
     "iopub.status.idle": "2024-11-26T06:24:26.279514Z",
     "shell.execute_reply": "2024-11-26T06:24:26.278284Z",
     "shell.execute_reply.started": "2024-11-26T06:24:26.259821Z"
    }
   },
   "outputs": [],
   "source": [
    "dataset_root_path = \"/home/ay/data2/datasets/Lib\""
   ]
  },
  {
   "cell_type": "markdown",
   "id": "ca84cee9-aa56-40f5-8474-347c03aca92d",
   "metadata": {},
   "source": [
    "## Help functions\n"
   ]
  },
  {
   "cell_type": "code",
   "execution_count": 5,
   "id": "7919e483",
   "metadata": {},
   "outputs": [],
   "source": [
    "def prepare_dataset(feature_extractor):\n",
    "\n",
    "    def return_collate_fn(batch):\n",
    "        res = {}\n",
    "        model_input_name = feature_extractor.model_input_names[0]\n",
    "\n",
    "\n",
    "        waveform = [item[0][0].numpy() for item in batch]\n",
    "        inputs = feature_extractor(\n",
    "            waveform,\n",
    "            sampling_rate=16000,\n",
    "            return_attention_mask=True,\n",
    "            padding=True,\n",
    "            return_tensors=\"pt\",\n",
    "        )\n",
    "        # print(inputs.get(model_input_name).shape)\n",
    "        \n",
    "        res['org_waveform'] = torch.nn.utils.rnn.pad_sequence([item[0][0] for item in batch], batch_first=True)\n",
    "\n",
    "        res[model_input_name] = inputs.get(model_input_name)\n",
    "        res['waveform'] = inputs.get(model_input_name)\n",
    "        res[\"attention_mask\"] = inputs.get(\"attention_mask\")\n",
    "        return res\n",
    "\n",
    "    return return_collate_fn"
   ]
  },
  {
   "cell_type": "code",
   "execution_count": 6,
   "id": "8d383272-af0a-4a45-aa00-acc3b19bbc74",
   "metadata": {
    "execution": {
     "iopub.execute_input": "2024-11-26T06:24:26.280322Z",
     "iopub.status.busy": "2024-11-26T06:24:26.280097Z",
     "iopub.status.idle": "2024-11-26T06:24:26.302545Z",
     "shell.execute_reply": "2024-11-26T06:24:26.301280Z",
     "shell.execute_reply.started": "2024-11-26T06:24:26.280302Z"
    }
   },
   "outputs": [],
   "source": [
    "def default_collate_fn(batch):\n",
    "    \"\"\"Collate function to pad audio waveforms for batching.\n",
    "\n",
    "    This function takes a batch of audio waveforms and their associated\n",
    "    metadata and pads the waveforms to ensure they all have the same length\n",
    "    for efficient processing in neural networks.\n",
    "\n",
    "    Args:\n",
    "        batch (list): A list of tuples, where each tuple contains:\n",
    "            - waveform (Tensor): The audio waveform tensor.\n",
    "            - sample_rate (int): The sample rate of the audio.\n",
    "            - utterance (str): The transcription of the audio.\n",
    "            - speaker_id (int): The ID of the speaker.\n",
    "            - chapter_id (int): The ID of the chapter.\n",
    "            - file_id (int): The ID of the file.\n",
    "\n",
    "    Returns:\n",
    "        tuple: A tuple containing:\n",
    "            - padded_waveforms (Tensor): A tensor of padded audio waveforms.\n",
    "            - sample_rate (int): The sample rate of the audio.\n",
    "            - transcriptions (list): A list of transcriptions for the audio.\n",
    "\n",
    "    Raises:\n",
    "        ValueError: If the input batch is empty.\n",
    "    \"\"\"\n",
    "\n",
    "    # Get the maximum length of the waveforms in the batch\n",
    "    max_length = max(waveform.shape[1] for waveform, *_ in batch)\n",
    "\n",
    "    # Pad the waveforms and create a tensor for the batch\n",
    "    padded_waveforms = []\n",
    "    transcriptions = []\n",
    "\n",
    "    for waveform, sample_rate, utterance, speaker_id, chapter_id, file_id in batch:\n",
    "        # Pad the waveform with zeros\n",
    "        padded_waveform = torch.nn.functional.pad(\n",
    "            waveform, (0, max_length - waveform.shape[1])\n",
    "        )\n",
    "        padded_waveforms.append(padded_waveform)\n",
    "        transcriptions.append(utterance)\n",
    "\n",
    "    # Stack the waveforms into a single tensor\n",
    "    return torch.concat(padded_waveforms), sample_rate, transcriptions"
   ]
  },
  {
   "cell_type": "markdown",
   "id": "f204e8f5-ea70-46d2-a1a9-6e72d0955b95",
   "metadata": {},
   "source": [
    ":::{note}\n",
    "We use a `percentage` of 960 hours for training.\n",
    ":::\n"
   ]
  },
  {
   "cell_type": "code",
   "execution_count": 7,
   "id": "b5d412af-8a34-41ba-9639-277a2a5e85db",
   "metadata": {
    "execution": {
     "iopub.execute_input": "2024-11-26T06:24:26.303550Z",
     "iopub.status.busy": "2024-11-26T06:24:26.303358Z",
     "iopub.status.idle": "2024-11-26T06:24:26.325330Z",
     "shell.execute_reply": "2024-11-26T06:24:26.324108Z",
     "shell.execute_reply.started": "2024-11-26T06:24:26.303530Z"
    }
   },
   "outputs": [],
   "source": [
    "def load_librispeech_dataset(\n",
    "    root_path: str,\n",
    "    split=\"train\",\n",
    "    batch_size: int = 32,\n",
    "    num_workers: int = 2,\n",
    "    percentage=0.1,\n",
    "    collate_fn=default_collate_fn,\n",
    ") -> DataLoader:\n",
    "    \"\"\"Load the LibriSpeech dataset and return a DataLoader.\n",
    "\n",
    "    This function initializes the LibriSpeech dataset and creates a DataLoader\n",
    "    with a custom collate function to handle variable-length audio samples.\n",
    "\n",
    "    Args:\n",
    "        root_path (str): The path to the directory where the dataset will be stored.\n",
    "        split (str): train or val .\n",
    "        batch_size (int, optional): The number of samples per batch. Defaults to 32.\n",
    "        num_workers (int, optional): The number of subprocesses to use for data loading.\n",
    "            Defaults to 2.\n",
    "        percentage (float, optional): The percentage that used to generate features\n",
    "\n",
    "    Returns:\n",
    "        DataLoader: A DataLoader object that provides batches of audio waveforms\n",
    "        and their corresponding metadata from the LibriSpeech dataset.\n",
    "\n",
    "    Raises:\n",
    "        FileNotFoundError: If the dataset cannot be downloaded or accessed.\n",
    "    \"\"\"\n",
    "\n",
    "    if split == \"train\":\n",
    "        # Load individual datasets\n",
    "        train_clean_100 = torchaudio.datasets.LIBRISPEECH(\n",
    "            root=root_path, url=\"train-clean-100\", download=True\n",
    "        )\n",
    "        train_clean_360 = torchaudio.datasets.LIBRISPEECH(\n",
    "            root=root_path, url=\"train-clean-360\", download=True\n",
    "        )\n",
    "        train_other_500 = torchaudio.datasets.LIBRISPEECH(\n",
    "            root=root_path, url=\"train-other-500\", download=True\n",
    "        )\n",
    "        # Combine the datasets\n",
    "        dataset = ConcatDataset([train_clean_100, train_clean_360, train_other_500])\n",
    "    else:\n",
    "        dev_clean = torchaudio.datasets.LIBRISPEECH(\n",
    "            root=root_path, url=\"dev-clean\", download=True\n",
    "        )\n",
    "        dev_other = torchaudio.datasets.LIBRISPEECH(\n",
    "            root=root_path, url=\"dev-other\", download=True\n",
    "        )\n",
    "        dataset = ConcatDataset([dev_clean, dev_other])\n",
    "\n",
    "    # Randomly select 10% of the dataset,  and then create a Subset using the selected indices\n",
    "    subset_size = int(len(dataset) * percentage)\n",
    "    indices = torch.randperm(len(dataset))[:subset_size]\n",
    "    dataset = Subset(dataset, indices)\n",
    "\n",
    "    # Create a DataLoader with the custom collate function\n",
    "    dataloader = DataLoader(\n",
    "        dataset,\n",
    "        batch_size=batch_size,\n",
    "        shuffle=True,\n",
    "        num_workers=num_workers,\n",
    "        collate_fn=collate_fn,\n",
    "    )\n",
    "\n",
    "    return dataloader"
   ]
  },
  {
   "cell_type": "markdown",
   "id": "cb37fb41-4826-4091-8ea2-5520237a6dad",
   "metadata": {},
   "source": [
    "## Load dataloader\n"
   ]
  },
  {
   "cell_type": "code",
   "execution_count": 8,
   "id": "116f9140-0814-45b5-ba1e-7ba01dca5247",
   "metadata": {
    "execution": {
     "iopub.execute_input": "2024-11-26T06:24:26.326094Z",
     "iopub.status.busy": "2024-11-26T06:24:26.325903Z",
     "iopub.status.idle": "2024-11-26T06:24:26.343163Z",
     "shell.execute_reply": "2024-11-26T06:24:26.341712Z",
     "shell.execute_reply.started": "2024-11-26T06:24:26.326076Z"
    },
    "scrolled": true
   },
   "outputs": [],
   "source": [
    "# dataloader = load_librispeech_dataset(dataset_root_path, split=\"train\", percentage=0.2, num_workers=4)\n",
    "\n",
    "# # Iterate through the DataLoader\n",
    "# for batch in dataloader:\n",
    "#     waveform, sample_rate, utterance = batch\n",
    "#     print(f\"Waveform shape: {waveform.shape}, Sample Rate: {sample_rate}\")\n",
    "#     # print(f\"Utterance: {utterance}\")\n",
    "#     break"
   ]
  },
  {
   "cell_type": "markdown",
   "id": "c9809e1a-dd1b-414c-9cf1-4d3d4a8592ba",
   "metadata": {},
   "source": [
    "# WavLM\n"
   ]
  },
  {
   "cell_type": "markdown",
   "id": "0fb9e800-c038-4c5c-8198-8b4f94799c23",
   "metadata": {},
   "source": [
    "## Intro of WavLM\n",
    "\n",
    "WavLM is a state-of-the-art model introduced for automatic speech recognition (ASR) and other speech-related tasks. Developed by researchers at Microsoft, WavLM builds upon the success of prior models like Wav2Vec 2.0, enhancing the ability to learn representations from raw audio and improving performance across various speech processing applications.\n",
    "\n",
    "### Key Features of WavLM\n",
    "\n",
    "1. **Architecture**:\n",
    "\n",
    "   - WavLM utilizes a transformer-based architecture similar to Wav2Vec 2.0 but incorporates several innovations to handle speech signals more effectively.\n",
    "   - It employs a feature extraction layer that processes raw audio inputs into a more manageable format for the transformer layers.\n",
    "\n",
    "2. **Self-Supervised Learning**:\n",
    "\n",
    "   - WavLM is trained using self-supervised learning techniques, which allow it to learn from unlabeled data. This is particularly beneficial in scenarios where labeled data is scarce.\n",
    "   - The model is pre-trained on a large corpus of unlabeled audio, enabling it to capture various acoustic characteristics and linguistic features.\n",
    "\n",
    "3. **Multi-Task Learning**:\n",
    "\n",
    "   - WavLM is designed to perform multiple tasks, including speech recognition, speaker identification, and emotion recognition, making it versatile for different applications.\n",
    "   - The model can be fine-tuned on specific tasks, allowing it to adapt to various domains and improve its performance.\n",
    "\n",
    "4. **Robustness**:\n",
    "\n",
    "   - One of the significant advancements of WavLM is its robustness to different acoustic conditions and noise levels, making it suitable for real-world applications where audio quality may vary.\n",
    "\n",
    "5. **Fine-Tuning Capabilities**:\n",
    "   - After pre-training, WavLM can be fine-tuned on specific datasets, allowing it to achieve high accuracy on specific tasks like ASR or speaker verification.\n",
    "   - Fine-tuning can involve supervised data, enabling the model to adapt to the nuances of the target domain effectively.\n"
   ]
  },
  {
   "cell_type": "markdown",
   "id": "ad899f73-607c-4a36-9fb7-d74173f14905",
   "metadata": {},
   "source": [
    "We use the [WavLMModel](https://github.com/huggingface/transformers/blob/052e652d6d53c2b26ffde87e039b723949a53493/src/transformers/models/wavlm/modeling_wavlm.py#L1105) to extract audio features and then train the Kmeans model\n"
   ]
  },
  {
   "cell_type": "code",
   "execution_count": 9,
   "id": "94ad4fb6-2393-44e0-84d6-f41a57ac11f5",
   "metadata": {
    "execution": {
     "iopub.execute_input": "2024-11-26T06:24:26.345639Z",
     "iopub.status.busy": "2024-11-26T06:24:26.345440Z",
     "iopub.status.idle": "2024-11-26T06:24:27.360422Z",
     "shell.execute_reply": "2024-11-26T06:24:27.359093Z",
     "shell.execute_reply.started": "2024-11-26T06:24:26.345620Z"
    }
   },
   "outputs": [],
   "source": [
    "from transformers import WavLMModel, Wav2Vec2FeatureExtractor, AutoFeatureExtractor"
   ]
  },
  {
   "cell_type": "code",
   "execution_count": null,
   "id": "b0c01bee-6a91-4415-91be-9885278e08d3",
   "metadata": {
    "execution": {
     "iopub.execute_input": "2024-11-26T06:24:27.361942Z",
     "iopub.status.busy": "2024-11-26T06:24:27.361727Z",
     "iopub.status.idle": "2024-11-26T06:24:27.389284Z",
     "shell.execute_reply": "2024-11-26T06:24:27.387979Z",
     "shell.execute_reply.started": "2024-11-26T06:24:27.361921Z"
    }
   },
   "outputs": [],
   "source": [
    "class WavLM(nn.Module):\n",
    "    \"\"\"\n",
    "    https://huggingface.co/docs/transformers/model_doc/wavlm#transformers.WavLMForCTC\n",
    "    \"\"\"\n",
    "\n",
    "    def __init__(self, pretrained_name=\"microsoft/wavlm-base\"):\n",
    "        super().__init__()\n",
    "        print(\"Load WavLM model!!!!!!!\")\n",
    "        self.model = WavLMModel.from_pretrained(pretrained_name)\n",
    "        self.model.lm_head = nn.Identity()\n",
    "\n",
    "    def forward(self, x, attention_mask=None):\n",
    "        outputs = self.model(x, attention_mask=attention_mask)\n",
    "        return outputs"
   ]
  },
  {
   "cell_type": "code",
   "execution_count": 11,
   "id": "c81c1f4a-5847-41c5-970a-5b64fb8673a2",
   "metadata": {
    "execution": {
     "iopub.execute_input": "2024-11-26T06:24:27.390944Z",
     "iopub.status.busy": "2024-11-26T06:24:27.390734Z",
     "iopub.status.idle": "2024-11-26T06:24:27.890268Z",
     "shell.execute_reply": "2024-11-26T06:24:27.889626Z",
     "shell.execute_reply.started": "2024-11-26T06:24:27.390924Z"
    }
   },
   "outputs": [
    {
     "name": "stderr",
     "output_type": "stream",
     "text": [
      "/home/ay/anaconda3/envs/torch/lib/python3.9/site-packages/torch/_utils.py:831: UserWarning: TypedStorage is deprecated. It will be removed in the future and UntypedStorage will be the only storage class. This should only matter to you if you are using storages directly.  To access UntypedStorage directly, use tensor.untyped_storage() instead of tensor.storage()\n",
      "  return self.fget.__get__(instance, owner)()\n",
      "Some weights of the model checkpoint at /home/ay/.cache/huggingface/hub/models--microsoft--wavlm-base/snapshots/efa81aae7ff777e464159e0f877d54eac5b84f81/ were not used when initializing WavLMModel: ['encoder.pos_conv_embed.conv.weight_g', 'encoder.pos_conv_embed.conv.weight_v']\n",
      "- This IS expected if you are initializing WavLMModel from the checkpoint of a model trained on another task or with another architecture (e.g. initializing a BertForSequenceClassification model from a BertForPreTraining model).\n",
      "- This IS NOT expected if you are initializing WavLMModel from the checkpoint of a model that you expect to be exactly identical (initializing a BertForSequenceClassification model from a BertForSequenceClassification model).\n",
      "Some weights of WavLMModel were not initialized from the model checkpoint at /home/ay/.cache/huggingface/hub/models--microsoft--wavlm-base/snapshots/efa81aae7ff777e464159e0f877d54eac5b84f81/ and are newly initialized: ['encoder.pos_conv_embed.conv.parametrizations.weight.original0', 'encoder.pos_conv_embed.conv.parametrizations.weight.original1']\n",
      "You should probably TRAIN this model on a down-stream task to be able to use it for predictions and inference.\n"
     ]
    },
    {
     "name": "stdout",
     "output_type": "stream",
     "text": [
      "Load WavLM model!!!!!!!\n"
     ]
    }
   ],
   "source": [
    "pretrained_name = (\n",
    "    \"/home/ay/.cache/huggingface/hub/models--microsoft--wavlm-base\"\n",
    "    \"/snapshots/efa81aae7ff777e464159e0f877d54eac5b84f81/\"\n",
    ")\n",
    "\n",
    "model = WavLM(pretrained_name).cuda(1)\n",
    "model = model.eval()"
   ]
  },
  {
   "cell_type": "code",
   "execution_count": 12,
   "id": "a78ef6cf",
   "metadata": {},
   "outputs": [
    {
     "name": "stderr",
     "output_type": "stream",
     "text": [
      "/home/ay/anaconda3/envs/torch/lib/python3.9/site-packages/huggingface_hub/file_download.py:1132: FutureWarning: `resume_download` is deprecated and will be removed in version 1.0.0. Downloads always resume when possible. If you want to force a new download, use `force_download=True`.\n",
      "  warnings.warn(\n"
     ]
    },
    {
     "data": {
      "text/plain": [
       "Wav2Vec2FeatureExtractor {\n",
       "  \"do_normalize\": false,\n",
       "  \"feature_extractor_type\": \"Wav2Vec2FeatureExtractor\",\n",
       "  \"feature_size\": 1,\n",
       "  \"padding_side\": \"right\",\n",
       "  \"padding_value\": 0.0,\n",
       "  \"return_attention_mask\": true,\n",
       "  \"sampling_rate\": 16000\n",
       "}"
      ]
     },
     "execution_count": 12,
     "metadata": {},
     "output_type": "execute_result"
    }
   ],
   "source": [
    "feature_extractor = AutoFeatureExtractor.from_pretrained(\"microsoft/wavlm-base\")\n",
    "feature_extractor"
   ]
  },
  {
   "cell_type": "code",
   "execution_count": 13,
   "id": "0922cb0f-9447-4608-b23c-345fe3df6079",
   "metadata": {
    "execution": {
     "iopub.execute_input": "2024-11-26T06:24:27.891323Z",
     "iopub.status.busy": "2024-11-26T06:24:27.891084Z",
     "iopub.status.idle": "2024-11-26T06:24:27.915229Z",
     "shell.execute_reply": "2024-11-26T06:24:27.914500Z",
     "shell.execute_reply.started": "2024-11-26T06:24:27.891301Z"
    },
    "scrolled": true
   },
   "outputs": [],
   "source": [
    "# with torch.no_grad():\n",
    "#     res = model.model(waveform.to(next(model.parameters()).device))\n",
    "# res.hidden_states"
   ]
  },
  {
   "cell_type": "markdown",
   "id": "9cb2aad3-97cd-429d-986c-695671be23c1",
   "metadata": {},
   "source": [
    "## Load Validation Split and obtain val features\n"
   ]
  },
  {
   "cell_type": "code",
   "execution_count": 14,
   "id": "4fef05bf-c0dc-48aa-a845-91f25eb1d1b2",
   "metadata": {
    "execution": {
     "iopub.execute_input": "2024-11-26T06:24:27.916246Z",
     "iopub.status.busy": "2024-11-26T06:24:27.916043Z",
     "iopub.status.idle": "2024-11-26T06:25:50.661610Z",
     "shell.execute_reply": "2024-11-26T06:25:50.660674Z",
     "shell.execute_reply.started": "2024-11-26T06:24:27.916226Z"
    },
    "scrolled": true
   },
   "outputs": [
    {
     "name": "stderr",
     "output_type": "stream",
     "text": [
      "Processing Audio:   0%|          | 0/696 [00:00<?, ?it/s]/home/ay/anaconda3/envs/torch/lib/python3.9/site-packages/torch/nn/functional.py:5076: UserWarning: Support for mismatched key_padding_mask and attn_mask is deprecated. Use same type for both instead.\n",
      "  warnings.warn(\n",
      "Processing Audio: 100%|██████████| 696/696 [01:11<00:00,  9.73it/s]\n"
     ]
    }
   ],
   "source": [
    "val_dataloader = load_librispeech_dataset(\n",
    "    dataset_root_path, split=\"val\", percentage=1.0, num_workers=4, batch_size=8, collate_fn=prepare_dataset(feature_extractor)\n",
    ")\n",
    "val_feat = []\n",
    "with torch.no_grad():\n",
    "    for i, batch in enumerate(tqdm(val_dataloader, desc=\"Processing Audio\")):\n",
    "        waveform = batch['waveform']\n",
    "        outputs = model(waveform.cuda(1), attention_mask=batch['attention_mask'].cuda(1))\n",
    "        last_hidden_states = outputs.last_hidden_state.cpu().numpy() # [batch, frames, features]\n",
    "        for j, x in enumerate(last_hidden_states):\n",
    "            length = batch['attention_mask'][j].sum() // 320\n",
    "            val_feat.append(last_hidden_states[j, :length])\n",
    "\n",
    "val_feat = np.concatenate(val_feat)"
   ]
  },
  {
   "cell_type": "code",
   "execution_count": 15,
   "id": "abc31035-efe0-49b2-87ed-7c36a74c23d7",
   "metadata": {
    "execution": {
     "iopub.execute_input": "2024-11-26T06:25:50.662769Z",
     "iopub.status.busy": "2024-11-26T06:25:50.662595Z",
     "iopub.status.idle": "2024-11-26T06:25:50.687308Z",
     "shell.execute_reply": "2024-11-26T06:25:50.686531Z",
     "shell.execute_reply.started": "2024-11-26T06:25:50.662750Z"
    }
   },
   "outputs": [],
   "source": [
    "def validate_kmeans(kmeans, features, metric=\"inertia\"):\n",
    "    \"\"\"\n",
    "    Validate a trained KMeans model using features from a validation DataLoader.\n",
    "\n",
    "    Args:\n",
    "        model (torch.nn.Module): Pretrained feature extraction model (e.g., WavLM).\n",
    "        dataloader (torch.utils.data.DataLoader): DataLoader for validation data.\n",
    "        processor: Processor for preprocessing input data for the model.\n",
    "        kmeans (MiniBatchKMeans): Trained MiniBatchKMeans model.\n",
    "        metric (str): Metric to compute. Options: \"inertia\" (default) or \"silhouette\".\n",
    "\n",
    "    Returns:\n",
    "        float: Computed evaluation metric (e.g., inertia or silhouette score).\n",
    "    \"\"\"\n",
    "\n",
    "    from sklearn.metrics import silhouette_score\n",
    "\n",
    "    features_list = []\n",
    "    cluster_assignments = []\n",
    "\n",
    "    # Predict cluster assignments\n",
    "    cluster_labels = kmeans.predict(features)\n",
    "\n",
    "    # Compute the specified metric\n",
    "    if metric == \"inertia\":\n",
    "        # Inertia: Sum of squared distances of samples to their closest cluster center\n",
    "        return kmeans.inertia_\n",
    "\n",
    "    elif metric == \"silhouette\":\n",
    "        # Silhouette score: Measures the separation between clusters\n",
    "        return silhouette_score(features, cluster_labels)\n",
    "\n",
    "    else:\n",
    "        raise ValueError(\n",
    "            f\"Unknown metric '{metric}'. Supported metrics: 'inertia', 'silhouette'.\"\n",
    "        )"
   ]
  },
  {
   "cell_type": "code",
   "execution_count": 16,
   "id": "7b2a9dc2-e42c-4e42-95a3-9051765804f2",
   "metadata": {
    "execution": {
     "iopub.execute_input": "2024-11-26T06:25:50.688001Z",
     "iopub.status.busy": "2024-11-26T06:25:50.687862Z",
     "iopub.status.idle": "2024-11-26T06:25:50.717890Z",
     "shell.execute_reply": "2024-11-26T06:25:50.717107Z",
     "shell.execute_reply.started": "2024-11-26T06:25:50.687986Z"
    }
   },
   "outputs": [],
   "source": [
    "# validate_kmeans(kmeans_model, val_feat, metric=\"inertia\")"
   ]
  },
  {
   "cell_type": "markdown",
   "id": "c3c26166-0ee6-4c37-9087-c1b2e302f2cd",
   "metadata": {},
   "source": [
    "# Train Kmeans\n"
   ]
  },
  {
   "cell_type": "markdown",
   "id": "73652cd4-4b91-4672-9d5a-054b8a298d76",
   "metadata": {},
   "source": [
    "## Introduction of Kmeans\n",
    "\n",
    "MiniBatchKMeans is a variant of the traditional K-Means clustering algorithm that is designed to handle large datasets more efficiently. It was introduced to overcome some of the scalability issues associated with standard K-Means, particularly when dealing with very large datasets that may not fit into memory. Here's an overview of its key features, advantages, and applications:\n",
    "\n",
    "### Key Features of MiniBatchKMeans\n",
    "\n",
    "1. **Batch Processing**:\n",
    "\n",
    "   - Unlike the standard K-Means algorithm, which uses the entire dataset to update the cluster centroids in each iteration, MiniBatchKMeans processes small, random subsets (mini-batches) of the data.\n",
    "   - This approach significantly reduces the computational burden and memory requirements, allowing the algorithm to scale to larger datasets.\n",
    "\n",
    "2. **Algorithm Steps**:\n",
    "\n",
    "   - **Initialization**: Similar to K-Means, the algorithm starts by randomly initializing the centroids of the clusters.\n",
    "   - **Mini-Batch Selection**: In each iteration, a small random sample of the data is selected as a mini-batch.\n",
    "   - **Centroid Update**: The centroids are updated based on the mini-batch rather than the entire dataset, which leads to faster convergence.\n",
    "   - **Iteration**: This process is repeated for a specified number of iterations or until the centroids converge to stable values.\n",
    "\n",
    "3. **Reduced Memory Usage**:\n",
    "\n",
    "   - Because MiniBatchKMeans only needs to store and process the mini-batch at any given time, it is more memory-efficient compared to the standard K-Means approach.\n",
    "\n",
    "4. **Faster Convergence**:\n",
    "\n",
    "   - The use of mini-batches leads to quicker updates to the centroids, often resulting in faster convergence times, especially for large datasets.\n",
    "\n",
    "5. **Flexibility**:\n",
    "   - MiniBatchKMeans allows for the adjustment of the mini-batch size, which can be tuned based on the specific requirements of the dataset and application.\n",
    "\n",
    "### Advantages of MiniBatchKMeans\n",
    "\n",
    "- **Scalability**: It is particularly suited for applications where the dataset is too large to fit into memory, allowing clustering on large-scale data.\n",
    "- **Speed**: The algorithm runs faster than traditional K-Means, especially with large datasets, making it suitable for real-time applications.\n",
    "- **Reduced Variance**: By using random mini-batches, the algorithm can help reduce the variance in the updates, which can lead to a more stable convergence behavior.\n"
   ]
  },
  {
   "cell_type": "code",
   "execution_count": 17,
   "id": "572affe9-f1fd-4411-a886-8d053f7f6706",
   "metadata": {
    "execution": {
     "iopub.execute_input": "2024-11-26T06:25:50.718603Z",
     "iopub.status.busy": "2024-11-26T06:25:50.718440Z",
     "iopub.status.idle": "2024-11-26T06:25:51.379502Z",
     "shell.execute_reply": "2024-11-26T06:25:51.378453Z",
     "shell.execute_reply.started": "2024-11-26T06:25:50.718589Z"
    }
   },
   "outputs": [],
   "source": [
    "import time\n",
    "\n",
    "import joblib\n",
    "from sklearn.cluster import MiniBatchKMeans"
   ]
  },
  {
   "cell_type": "code",
   "execution_count": 18,
   "id": "5d5b40a9-11a5-46b2-a251-3a5ceee15437",
   "metadata": {
    "execution": {
     "iopub.execute_input": "2024-11-26T06:25:51.381163Z",
     "iopub.status.busy": "2024-11-26T06:25:51.380632Z",
     "iopub.status.idle": "2024-11-26T06:25:51.413987Z",
     "shell.execute_reply": "2024-11-26T06:25:51.413148Z",
     "shell.execute_reply.started": "2024-11-26T06:25:51.381138Z"
    }
   },
   "outputs": [],
   "source": [
    "def get_kmeans_model(args: Namespace) -> MiniBatchKMeans:\n",
    "    \"\"\"Create and return a MiniBatch KMeans clustering model.\n",
    "\n",
    "    This function initializes a MiniBatch KMeans model with the specified\n",
    "    parameters from an args.Namespace object, which is suitable for large\n",
    "    datasets and can handle mini-batch updates for efficiency.\n",
    "\n",
    "    Args:\n",
    "        args (Namespace): A Namespace object containing the following parameters:\n",
    "            - n_clusters (int): The number of clusters to form.\n",
    "            - init (str): Method for initialization.\n",
    "            - max_iter (int): Maximum number of iterations for a single run.\n",
    "            - batch_size (int): Size of the mini-batches.\n",
    "            - tol (float): Relative tolerance with regards to the inertia to declare convergence.\n",
    "            - max_no_improvement (int): Maximum number of consecutive iterations with no improvement in the inertia.\n",
    "            - n_init (int): Number of time the k-means algorithm will be run with different centroid seeds.\n",
    "            - reassignment_ratio (float): The proportion of the previous cluster centers that must change to consider a clustering solution stable.\n",
    "            - random_state (int): Random seed for initialization.\n",
    "\n",
    "    Returns:\n",
    "        MiniBatchKMeans: An initialized MiniBatchKMeans model ready for fitting to data.\n",
    "\n",
    "    Raises:\n",
    "        ValueError: If any of the input parameters are invalid or inconsistent.\n",
    "    \"\"\"\n",
    "\n",
    "    return MiniBatchKMeans(\n",
    "        n_clusters=args.n_clusters,\n",
    "        init=args.init,\n",
    "        max_iter=args.max_iter,\n",
    "        batch_size=args.batch_size,\n",
    "        tol=args.tol,\n",
    "        max_no_improvement=args.max_no_improvement,\n",
    "        n_init=args.n_init,\n",
    "        reassignment_ratio=args.reassignment_ratio,\n",
    "        random_state=args.random_state,\n",
    "        verbose=0,\n",
    "        compute_labels=True,\n",
    "        init_size=None,\n",
    "    )"
   ]
  },
  {
   "cell_type": "code",
   "execution_count": 19,
   "id": "7623718f-c00a-4a69-9216-0319f8638f2e",
   "metadata": {
    "execution": {
     "iopub.execute_input": "2024-11-26T06:25:51.414746Z",
     "iopub.status.busy": "2024-11-26T06:25:51.414561Z",
     "iopub.status.idle": "2024-11-26T06:25:51.453825Z",
     "shell.execute_reply": "2024-11-26T06:25:51.453150Z",
     "shell.execute_reply.started": "2024-11-26T06:25:51.414727Z"
    }
   },
   "outputs": [],
   "source": [
    "args = Namespace(\n",
    "    n_clusters=200,\n",
    "    init=\"k-means++\",\n",
    "    max_iter=150,\n",
    "    batch_size=1000,\n",
    "    tol=0.0001,\n",
    "    max_no_improvement=100,\n",
    "    n_init=20,\n",
    "    reassignment_ratio=0.5,\n",
    "    random_state=42,\n",
    ")"
   ]
  },
  {
   "cell_type": "code",
   "execution_count": 20,
   "id": "9e62f7c4-da95-4149-88e2-de8fda4184e9",
   "metadata": {
    "execution": {
     "iopub.execute_input": "2024-11-26T06:25:51.455047Z",
     "iopub.status.busy": "2024-11-26T06:25:51.454735Z",
     "iopub.status.idle": "2024-11-26T06:25:52.546029Z",
     "shell.execute_reply": "2024-11-26T06:25:52.545402Z",
     "shell.execute_reply.started": "2024-11-26T06:25:51.455021Z"
    }
   },
   "outputs": [],
   "source": [
    "dataloader = load_librispeech_dataset(\n",
    "    dataset_root_path, split=\"train\", percentage=0.5, num_workers=4, collate_fn=prepare_dataset(feature_extractor),batch_size=8\n",
    ")"
   ]
  },
  {
   "cell_type": "code",
   "execution_count": 21,
   "id": "a7993c3b-0d6e-4430-9f0f-9b6ae0902217",
   "metadata": {
    "execution": {
     "iopub.execute_input": "2024-11-26T06:25:52.547045Z",
     "iopub.status.busy": "2024-11-26T06:25:52.546834Z",
     "iopub.status.idle": "2024-11-26T06:25:52.588860Z",
     "shell.execute_reply": "2024-11-26T06:25:52.587988Z",
     "shell.execute_reply.started": "2024-11-26T06:25:52.547024Z"
    }
   },
   "outputs": [],
   "source": [
    "from loguru import logger\n",
    "import warnings\n",
    "\n",
    "# 忽略特定的警告\n",
    "warnings.filterwarnings(\"ignore\", message=\"Support for mismatched key_padding_mask and attn_mask is deprecated. Use same type for both instead.\")"
   ]
  },
  {
   "cell_type": "code",
   "execution_count": null,
   "id": "521f6679-f5ef-4a69-acb9-fc47857345aa",
   "metadata": {
    "execution": {
     "iopub.execute_input": "2024-11-26T06:31:39.544327Z",
     "iopub.status.busy": "2024-11-26T06:31:39.544035Z"
    },
    "scrolled": true
   },
   "outputs": [
    {
     "name": "stderr",
     "output_type": "stream",
     "text": [
      "Processing Audio:   0%|          | 0/17578 [00:00<?, ?it/s]"
     ]
    },
    {
     "name": "stderr",
     "output_type": "stream",
     "text": [
      "\u001b[32m2024-12-02 12:54:57.938\u001b[0m | \u001b[1mINFO    \u001b[0m | \u001b[36m__main__\u001b[0m:\u001b[36m<module>\u001b[0m:\u001b[36m30\u001b[0m - \u001b[1m150, Epoch 0, current score: 382235.6875\u001b[0m\n",
      "Processing Audio:   3%|▎         | 500/17578 [01:07<35:41,  7.98it/s] \u001b[32m2024-12-02 12:56:02.085\u001b[0m | \u001b[1mINFO    \u001b[0m | \u001b[36m__main__\u001b[0m:\u001b[36m<module>\u001b[0m:\u001b[36m30\u001b[0m - \u001b[1m150, Epoch 0, current score: 488562.78125\u001b[0m\n",
      "Processing Audio:   6%|▌         | 1000/17578 [02:10<36:24,  7.59it/s]\u001b[32m2024-12-02 12:57:04.939\u001b[0m | \u001b[1mINFO    \u001b[0m | \u001b[36m__main__\u001b[0m:\u001b[36m<module>\u001b[0m:\u001b[36m30\u001b[0m - \u001b[1m150, Epoch 0, current score: 411695.96875\u001b[0m\n",
      "Processing Audio:   9%|▊         | 1500/17578 [03:18<34:46,  7.71it/s]  \u001b[32m2024-12-02 12:58:13.158\u001b[0m | \u001b[1mINFO    \u001b[0m | \u001b[36m__main__\u001b[0m:\u001b[36m<module>\u001b[0m:\u001b[36m30\u001b[0m - \u001b[1m150, Epoch 0, current score: 476722.09375\u001b[0m\n",
      "Processing Audio:  11%|█▏        | 2000/17578 [04:21<32:13,  8.06it/s]\u001b[32m2024-12-02 12:59:15.618\u001b[0m | \u001b[1mINFO    \u001b[0m | \u001b[36m__main__\u001b[0m:\u001b[36m<module>\u001b[0m:\u001b[36m30\u001b[0m - \u001b[1m150, Epoch 0, current score: 426289.4375\u001b[0m\n",
      "Processing Audio:  14%|█▍        | 2500/17578 [05:23<31:28,  7.99it/s]\u001b[32m2024-12-02 13:00:18.198\u001b[0m | \u001b[1mINFO    \u001b[0m | \u001b[36m__main__\u001b[0m:\u001b[36m<module>\u001b[0m:\u001b[36m30\u001b[0m - \u001b[1m150, Epoch 0, current score: 491372.75\u001b[0m\n",
      "Processing Audio:  17%|█▋        | 3000/17578 [06:26<28:56,  8.39it/s]\u001b[32m2024-12-02 13:01:21.026\u001b[0m | \u001b[1mINFO    \u001b[0m | \u001b[36m__main__\u001b[0m:\u001b[36m<module>\u001b[0m:\u001b[36m30\u001b[0m - \u001b[1m150, Epoch 0, current score: 462860.9375\u001b[0m\n",
      "Processing Audio:  20%|█▉        | 3500/17578 [07:29<33:41,  6.97it/s]\u001b[32m2024-12-02 13:02:24.036\u001b[0m | \u001b[1mINFO    \u001b[0m | \u001b[36m__main__\u001b[0m:\u001b[36m<module>\u001b[0m:\u001b[36m30\u001b[0m - \u001b[1m150, Epoch 0, current score: 539611.9375\u001b[0m\n",
      "Processing Audio:  23%|██▎       | 4000/17578 [08:32<27:41,  8.17it/s]\u001b[32m2024-12-02 13:03:26.526\u001b[0m | \u001b[1mINFO    \u001b[0m | \u001b[36m__main__\u001b[0m:\u001b[36m<module>\u001b[0m:\u001b[36m30\u001b[0m - \u001b[1m150, Epoch 0, current score: 514850.625\u001b[0m\n",
      "Processing Audio:  26%|██▌       | 4500/17578 [09:34<27:11,  8.02it/s]\u001b[32m2024-12-02 13:04:29.386\u001b[0m | \u001b[1mINFO    \u001b[0m | \u001b[36m__main__\u001b[0m:\u001b[36m<module>\u001b[0m:\u001b[36m30\u001b[0m - \u001b[1m150, Epoch 0, current score: 454833.375\u001b[0m\n",
      "Processing Audio:  28%|██▊       | 5000/17578 [10:37<25:04,  8.36it/s]\u001b[32m2024-12-02 13:05:32.108\u001b[0m | \u001b[1mINFO    \u001b[0m | \u001b[36m__main__\u001b[0m:\u001b[36m<module>\u001b[0m:\u001b[36m30\u001b[0m - \u001b[1m150, Epoch 0, current score: 553694.875\u001b[0m\n",
      "Processing Audio:  31%|███▏      | 5500/17578 [11:39<24:58,  8.06it/s]\u001b[32m2024-12-02 13:06:34.254\u001b[0m | \u001b[1mINFO    \u001b[0m | \u001b[36m__main__\u001b[0m:\u001b[36m<module>\u001b[0m:\u001b[36m30\u001b[0m - \u001b[1m150, Epoch 0, current score: 459495.71875\u001b[0m\n",
      "Processing Audio:  34%|███▍      | 6000/17578 [12:42<24:04,  8.01it/s]\u001b[32m2024-12-02 13:07:36.535\u001b[0m | \u001b[1mINFO    \u001b[0m | \u001b[36m__main__\u001b[0m:\u001b[36m<module>\u001b[0m:\u001b[36m30\u001b[0m - \u001b[1m150, Epoch 0, current score: 503066.46875\u001b[0m\n",
      "Processing Audio:  37%|███▋      | 6500/17578 [13:45<24:08,  7.65it/s]\u001b[32m2024-12-02 13:08:40.279\u001b[0m | \u001b[1mINFO    \u001b[0m | \u001b[36m__main__\u001b[0m:\u001b[36m<module>\u001b[0m:\u001b[36m30\u001b[0m - \u001b[1m150, Epoch 0, current score: 462764.5\u001b[0m\n",
      "Processing Audio:  40%|███▉      | 7000/17578 [14:48<21:29,  8.21it/s]\u001b[32m2024-12-02 13:09:43.351\u001b[0m | \u001b[1mINFO    \u001b[0m | \u001b[36m__main__\u001b[0m:\u001b[36m<module>\u001b[0m:\u001b[36m30\u001b[0m - \u001b[1m150, Epoch 0, current score: 514147.25\u001b[0m\n",
      "Processing Audio:  43%|████▎     | 7500/17578 [15:51<21:32,  7.80it/s]\u001b[32m2024-12-02 13:10:46.174\u001b[0m | \u001b[1mINFO    \u001b[0m | \u001b[36m__main__\u001b[0m:\u001b[36m<module>\u001b[0m:\u001b[36m30\u001b[0m - \u001b[1m150, Epoch 0, current score: 497298.0\u001b[0m\n",
      "Processing Audio:  46%|████▌     | 8000/17578 [16:53<19:12,  8.31it/s]\u001b[32m2024-12-02 13:11:48.067\u001b[0m | \u001b[1mINFO    \u001b[0m | \u001b[36m__main__\u001b[0m:\u001b[36m<module>\u001b[0m:\u001b[36m30\u001b[0m - \u001b[1m150, Epoch 0, current score: 578188.625\u001b[0m\n",
      "Processing Audio:  48%|████▊     | 8500/17578 [17:56<18:51,  8.02it/s]\u001b[32m2024-12-02 13:12:51.387\u001b[0m | \u001b[1mINFO    \u001b[0m | \u001b[36m__main__\u001b[0m:\u001b[36m<module>\u001b[0m:\u001b[36m30\u001b[0m - \u001b[1m150, Epoch 0, current score: 530777.375\u001b[0m\n",
      "Processing Audio:  51%|█████     | 9000/17578 [18:59<17:43,  8.07it/s]\u001b[32m2024-12-02 13:13:54.409\u001b[0m | \u001b[1mINFO    \u001b[0m | \u001b[36m__main__\u001b[0m:\u001b[36m<module>\u001b[0m:\u001b[36m30\u001b[0m - \u001b[1m150, Epoch 0, current score: 525607.375\u001b[0m\n",
      "Processing Audio:  54%|█████▍    | 9500/17578 [20:04<17:22,  7.75it/s]\u001b[32m2024-12-02 13:14:58.901\u001b[0m | \u001b[1mINFO    \u001b[0m | \u001b[36m__main__\u001b[0m:\u001b[36m<module>\u001b[0m:\u001b[36m30\u001b[0m - \u001b[1m150, Epoch 0, current score: 441745.46875\u001b[0m\n",
      "Processing Audio:  57%|█████▋    | 10000/17578 [21:08<15:47,  7.99it/s]\u001b[32m2024-12-02 13:16:02.600\u001b[0m | \u001b[1mINFO    \u001b[0m | \u001b[36m__main__\u001b[0m:\u001b[36m<module>\u001b[0m:\u001b[36m30\u001b[0m - \u001b[1m150, Epoch 0, current score: 549023.25\u001b[0m\n",
      "Processing Audio:  60%|█████▉    | 10500/17578 [22:11<14:46,  7.99it/s]\u001b[32m2024-12-02 13:17:06.064\u001b[0m | \u001b[1mINFO    \u001b[0m | \u001b[36m__main__\u001b[0m:\u001b[36m<module>\u001b[0m:\u001b[36m30\u001b[0m - \u001b[1m150, Epoch 0, current score: 492272.8125\u001b[0m\n",
      "Processing Audio:  63%|██████▎   | 11000/17578 [23:13<13:11,  8.31it/s]\u001b[32m2024-12-02 13:18:08.276\u001b[0m | \u001b[1mINFO    \u001b[0m | \u001b[36m__main__\u001b[0m:\u001b[36m<module>\u001b[0m:\u001b[36m30\u001b[0m - \u001b[1m150, Epoch 0, current score: 494529.125\u001b[0m\n",
      "Processing Audio:  65%|██████▌   | 11500/17578 [24:16<12:27,  8.13it/s]\u001b[32m2024-12-02 13:19:10.794\u001b[0m | \u001b[1mINFO    \u001b[0m | \u001b[36m__main__\u001b[0m:\u001b[36m<module>\u001b[0m:\u001b[36m30\u001b[0m - \u001b[1m150, Epoch 0, current score: 531985.75\u001b[0m\n",
      "Processing Audio:  68%|██████▊   | 12000/17578 [25:19<11:44,  7.92it/s]\u001b[32m2024-12-02 13:20:13.679\u001b[0m | \u001b[1mINFO    \u001b[0m | \u001b[36m__main__\u001b[0m:\u001b[36m<module>\u001b[0m:\u001b[36m30\u001b[0m - \u001b[1m150, Epoch 0, current score: 429620.9375\u001b[0m\n",
      "Processing Audio:  71%|███████   | 12500/17578 [26:22<10:50,  7.81it/s]\u001b[32m2024-12-02 13:21:17.187\u001b[0m | \u001b[1mINFO    \u001b[0m | \u001b[36m__main__\u001b[0m:\u001b[36m<module>\u001b[0m:\u001b[36m30\u001b[0m - \u001b[1m150, Epoch 0, current score: 514057.09375\u001b[0m\n",
      "Processing Audio:  74%|███████▍  | 13000/17578 [27:25<09:24,  8.10it/s]\u001b[32m2024-12-02 13:22:20.432\u001b[0m | \u001b[1mINFO    \u001b[0m | \u001b[36m__main__\u001b[0m:\u001b[36m<module>\u001b[0m:\u001b[36m30\u001b[0m - \u001b[1m150, Epoch 0, current score: 483568.46875\u001b[0m\n",
      "Processing Audio:  77%|███████▋  | 13500/17578 [28:28<08:21,  8.13it/s]\u001b[32m2024-12-02 13:23:23.033\u001b[0m | \u001b[1mINFO    \u001b[0m | \u001b[36m__main__\u001b[0m:\u001b[36m<module>\u001b[0m:\u001b[36m30\u001b[0m - \u001b[1m150, Epoch 0, current score: 517746.09375\u001b[0m\n",
      "Processing Audio:  80%|███████▉  | 14000/17578 [29:31<07:23,  8.07it/s]\u001b[32m2024-12-02 13:24:26.047\u001b[0m | \u001b[1mINFO    \u001b[0m | \u001b[36m__main__\u001b[0m:\u001b[36m<module>\u001b[0m:\u001b[36m30\u001b[0m - \u001b[1m150, Epoch 0, current score: 455292.875\u001b[0m\n",
      "Processing Audio:  82%|████████▏ | 14500/17578 [30:35<06:29,  7.89it/s]\u001b[32m2024-12-02 13:25:29.584\u001b[0m | \u001b[1mINFO    \u001b[0m | \u001b[36m__main__\u001b[0m:\u001b[36m<module>\u001b[0m:\u001b[36m30\u001b[0m - \u001b[1m150, Epoch 0, current score: 619870.6875\u001b[0m\n",
      "Processing Audio:  85%|████████▌ | 15000/17578 [31:38<05:25,  7.91it/s]\u001b[32m2024-12-02 13:26:33.297\u001b[0m | \u001b[1mINFO    \u001b[0m | \u001b[36m__main__\u001b[0m:\u001b[36m<module>\u001b[0m:\u001b[36m30\u001b[0m - \u001b[1m150, Epoch 0, current score: 513111.03125\u001b[0m\n",
      "Processing Audio:  88%|████████▊ | 15500/17578 [32:41<04:03,  8.54it/s]\u001b[32m2024-12-02 13:27:36.065\u001b[0m | \u001b[1mINFO    \u001b[0m | \u001b[36m__main__\u001b[0m:\u001b[36m<module>\u001b[0m:\u001b[36m30\u001b[0m - \u001b[1m150, Epoch 0, current score: 570864.125\u001b[0m\n",
      "Processing Audio:  91%|█████████ | 16000/17578 [33:44<03:21,  7.84it/s]\u001b[32m2024-12-02 13:28:38.743\u001b[0m | \u001b[1mINFO    \u001b[0m | \u001b[36m__main__\u001b[0m:\u001b[36m<module>\u001b[0m:\u001b[36m30\u001b[0m - \u001b[1m150, Epoch 0, current score: 423550.40625\u001b[0m\n",
      "Processing Audio:  94%|█████████▍| 16500/17578 [34:47<02:12,  8.14it/s]\u001b[32m2024-12-02 13:29:41.654\u001b[0m | \u001b[1mINFO    \u001b[0m | \u001b[36m__main__\u001b[0m:\u001b[36m<module>\u001b[0m:\u001b[36m30\u001b[0m - \u001b[1m150, Epoch 0, current score: 504708.65625\u001b[0m\n",
      "Processing Audio:  97%|█████████▋| 17000/17578 [35:49<01:11,  8.13it/s]\u001b[32m2024-12-02 13:30:44.088\u001b[0m | \u001b[1mINFO    \u001b[0m | \u001b[36m__main__\u001b[0m:\u001b[36m<module>\u001b[0m:\u001b[36m30\u001b[0m - \u001b[1m150, Epoch 0, current score: 533634.6875\u001b[0m\n",
      "Processing Audio: 100%|█████████▉| 17500/17578 [36:52<00:09,  8.18it/s]\u001b[32m2024-12-02 13:31:46.821\u001b[0m | \u001b[1mINFO    \u001b[0m | \u001b[36m__main__\u001b[0m:\u001b[36m<module>\u001b[0m:\u001b[36m30\u001b[0m - \u001b[1m150, Epoch 0, current score: 562845.6875\u001b[0m\n",
      "Processing Audio: 100%|██████████| 17578/17578 [37:02<00:00,  7.91it/s]\n",
      "\u001b[32m2024-12-02 13:31:58.046\u001b[0m | \u001b[1mINFO    \u001b[0m | \u001b[36m__main__\u001b[0m:\u001b[36m<module>\u001b[0m:\u001b[36m35\u001b[0m - \u001b[1m150, Epoch 0, val score: 295364.25\u001b[0m\n",
      "Processing Audio:   0%|          | 0/17578 [00:00<?, ?it/s]\u001b[32m2024-12-02 13:31:59.558\u001b[0m | \u001b[1mINFO    \u001b[0m | \u001b[36m__main__\u001b[0m:\u001b[36m<module>\u001b[0m:\u001b[36m30\u001b[0m - \u001b[1m150, Epoch 1, current score: 517549.03125\u001b[0m\n",
      "Processing Audio:   3%|▎         | 500/17578 [01:04<34:53,  8.16it/s]\u001b[32m2024-12-02 13:33:02.735\u001b[0m | \u001b[1mINFO    \u001b[0m | \u001b[36m__main__\u001b[0m:\u001b[36m<module>\u001b[0m:\u001b[36m30\u001b[0m - \u001b[1m150, Epoch 1, current score: 546795.9375\u001b[0m\n",
      "Processing Audio:   6%|▌         | 1000/17578 [02:06<32:49,  8.42it/s]\u001b[32m2024-12-02 13:34:04.483\u001b[0m | \u001b[1mINFO    \u001b[0m | \u001b[36m__main__\u001b[0m:\u001b[36m<module>\u001b[0m:\u001b[36m30\u001b[0m - \u001b[1m150, Epoch 1, current score: 450789.03125\u001b[0m\n",
      "Processing Audio:   9%|▊         | 1500/17578 [03:09<34:07,  7.85it/s]\u001b[32m2024-12-02 13:35:07.323\u001b[0m | \u001b[1mINFO    \u001b[0m | \u001b[36m__main__\u001b[0m:\u001b[36m<module>\u001b[0m:\u001b[36m30\u001b[0m - \u001b[1m150, Epoch 1, current score: 519498.875\u001b[0m\n",
      "Processing Audio:  11%|█▏        | 2000/17578 [04:11<31:01,  8.37it/s]\u001b[32m2024-12-02 13:36:10.171\u001b[0m | \u001b[1mINFO    \u001b[0m | \u001b[36m__main__\u001b[0m:\u001b[36m<module>\u001b[0m:\u001b[36m30\u001b[0m - \u001b[1m150, Epoch 1, current score: 520365.46875\u001b[0m\n",
      "Processing Audio:  14%|█▍        | 2500/17578 [05:14<30:33,  8.22it/s]\u001b[32m2024-12-02 13:37:12.269\u001b[0m | \u001b[1mINFO    \u001b[0m | \u001b[36m__main__\u001b[0m:\u001b[36m<module>\u001b[0m:\u001b[36m30\u001b[0m - \u001b[1m150, Epoch 1, current score: 497451.125\u001b[0m\n",
      "Processing Audio:  17%|█▋        | 3000/17578 [06:16<28:25,  8.55it/s]\u001b[32m2024-12-02 13:38:14.433\u001b[0m | \u001b[1mINFO    \u001b[0m | \u001b[36m__main__\u001b[0m:\u001b[36m<module>\u001b[0m:\u001b[36m30\u001b[0m - \u001b[1m150, Epoch 1, current score: 442986.03125\u001b[0m\n",
      "Processing Audio:  20%|█▉        | 3500/17578 [07:17<28:33,  8.22it/s]\u001b[32m2024-12-02 13:39:15.861\u001b[0m | \u001b[1mINFO    \u001b[0m | \u001b[36m__main__\u001b[0m:\u001b[36m<module>\u001b[0m:\u001b[36m30\u001b[0m - \u001b[1m150, Epoch 1, current score: 487983.65625\u001b[0m\n",
      "Processing Audio:  23%|██▎       | 4000/17578 [08:19<27:02,  8.37it/s]\u001b[32m2024-12-02 13:40:17.451\u001b[0m | \u001b[1mINFO    \u001b[0m | \u001b[36m__main__\u001b[0m:\u001b[36m<module>\u001b[0m:\u001b[36m30\u001b[0m - \u001b[1m150, Epoch 1, current score: 569638.8125\u001b[0m\n",
      "Processing Audio:  26%|██▌       | 4500/17578 [09:21<26:20,  8.27it/s]\u001b[32m2024-12-02 13:41:19.577\u001b[0m | \u001b[1mINFO    \u001b[0m | \u001b[36m__main__\u001b[0m:\u001b[36m<module>\u001b[0m:\u001b[36m30\u001b[0m - \u001b[1m150, Epoch 1, current score: 518199.65625\u001b[0m\n",
      "Processing Audio:  28%|██▊       | 5000/17578 [10:23<26:05,  8.04it/s]\u001b[32m2024-12-02 13:42:21.651\u001b[0m | \u001b[1mINFO    \u001b[0m | \u001b[36m__main__\u001b[0m:\u001b[36m<module>\u001b[0m:\u001b[36m30\u001b[0m - \u001b[1m150, Epoch 1, current score: 544523.625\u001b[0m\n",
      "Processing Audio:  31%|███▏      | 5500/17578 [11:25<25:29,  7.90it/s]\u001b[32m2024-12-02 13:43:23.653\u001b[0m | \u001b[1mINFO    \u001b[0m | \u001b[36m__main__\u001b[0m:\u001b[36m<module>\u001b[0m:\u001b[36m30\u001b[0m - \u001b[1m150, Epoch 1, current score: 509362.78125\u001b[0m\n",
      "Processing Audio:  34%|███▍      | 6000/17578 [12:26<23:35,  8.18it/s]\u001b[32m2024-12-02 13:44:25.147\u001b[0m | \u001b[1mINFO    \u001b[0m | \u001b[36m__main__\u001b[0m:\u001b[36m<module>\u001b[0m:\u001b[36m30\u001b[0m - \u001b[1m150, Epoch 1, current score: 570755.4375\u001b[0m\n",
      "Processing Audio:  37%|███▋      | 6500/17578 [13:28<22:06,  8.35it/s]\u001b[32m2024-12-02 13:45:26.476\u001b[0m | \u001b[1mINFO    \u001b[0m | \u001b[36m__main__\u001b[0m:\u001b[36m<module>\u001b[0m:\u001b[36m30\u001b[0m - \u001b[1m150, Epoch 1, current score: 393723.34375\u001b[0m\n",
      "Processing Audio:  40%|███▉      | 7000/17578 [14:29<21:32,  8.18it/s]\u001b[32m2024-12-02 13:46:27.761\u001b[0m | \u001b[1mINFO    \u001b[0m | \u001b[36m__main__\u001b[0m:\u001b[36m<module>\u001b[0m:\u001b[36m30\u001b[0m - \u001b[1m150, Epoch 1, current score: 483523.875\u001b[0m\n",
      "Processing Audio:  43%|████▎     | 7500/17578 [15:31<20:32,  8.18it/s]\u001b[32m2024-12-02 13:47:29.922\u001b[0m | \u001b[1mINFO    \u001b[0m | \u001b[36m__main__\u001b[0m:\u001b[36m<module>\u001b[0m:\u001b[36m30\u001b[0m - \u001b[1m150, Epoch 1, current score: 547882.0625\u001b[0m\n",
      "Processing Audio:  46%|████▌     | 8000/17578 [16:34<20:34,  7.76it/s]\u001b[32m2024-12-02 13:48:32.416\u001b[0m | \u001b[1mINFO    \u001b[0m | \u001b[36m__main__\u001b[0m:\u001b[36m<module>\u001b[0m:\u001b[36m30\u001b[0m - \u001b[1m150, Epoch 1, current score: 427268.21875\u001b[0m\n",
      "Processing Audio:  48%|████▊     | 8500/17578 [17:36<18:27,  8.19it/s]\u001b[32m2024-12-02 13:49:34.793\u001b[0m | \u001b[1mINFO    \u001b[0m | \u001b[36m__main__\u001b[0m:\u001b[36m<module>\u001b[0m:\u001b[36m30\u001b[0m - \u001b[1m150, Epoch 1, current score: 553878.9375\u001b[0m\n",
      "Processing Audio:  51%|█████     | 9000/17578 [18:38<17:45,  8.05it/s]\u001b[32m2024-12-02 13:50:36.766\u001b[0m | \u001b[1mINFO    \u001b[0m | \u001b[36m__main__\u001b[0m:\u001b[36m<module>\u001b[0m:\u001b[36m30\u001b[0m - \u001b[1m150, Epoch 1, current score: 518909.375\u001b[0m\n",
      "Processing Audio:  54%|█████▍    | 9500/17578 [19:40<16:06,  8.36it/s]\u001b[32m2024-12-02 13:51:38.657\u001b[0m | \u001b[1mINFO    \u001b[0m | \u001b[36m__main__\u001b[0m:\u001b[36m<module>\u001b[0m:\u001b[36m30\u001b[0m - \u001b[1m150, Epoch 1, current score: 413417.96875\u001b[0m\n",
      "Processing Audio:  57%|█████▋    | 10000/17578 [20:42<15:25,  8.19it/s]\u001b[32m2024-12-02 13:52:40.199\u001b[0m | \u001b[1mINFO    \u001b[0m | \u001b[36m__main__\u001b[0m:\u001b[36m<module>\u001b[0m:\u001b[36m30\u001b[0m - \u001b[1m150, Epoch 1, current score: 501713.1875\u001b[0m\n",
      "Processing Audio:  60%|█████▉    | 10500/17578 [21:44<14:43,  8.01it/s]\u001b[32m2024-12-02 13:53:42.408\u001b[0m | \u001b[1mINFO    \u001b[0m | \u001b[36m__main__\u001b[0m:\u001b[36m<module>\u001b[0m:\u001b[36m30\u001b[0m - \u001b[1m150, Epoch 1, current score: 581703.9375\u001b[0m\n",
      "Processing Audio:  63%|██████▎   | 11000/17578 [22:45<14:02,  7.81it/s]\u001b[32m2024-12-02 13:54:44.128\u001b[0m | \u001b[1mINFO    \u001b[0m | \u001b[36m__main__\u001b[0m:\u001b[36m<module>\u001b[0m:\u001b[36m30\u001b[0m - \u001b[1m150, Epoch 1, current score: 459128.375\u001b[0m\n",
      "Processing Audio:  65%|██████▌   | 11500/17578 [23:47<12:44,  7.95it/s]\u001b[32m2024-12-02 13:55:45.789\u001b[0m | \u001b[1mINFO    \u001b[0m | \u001b[36m__main__\u001b[0m:\u001b[36m<module>\u001b[0m:\u001b[36m30\u001b[0m - \u001b[1m150, Epoch 1, current score: 471224.96875\u001b[0m\n",
      "Processing Audio:  68%|██████▊   | 12000/17578 [24:49<11:24,  8.15it/s]\u001b[32m2024-12-02 13:56:47.731\u001b[0m | \u001b[1mINFO    \u001b[0m | \u001b[36m__main__\u001b[0m:\u001b[36m<module>\u001b[0m:\u001b[36m30\u001b[0m - \u001b[1m150, Epoch 1, current score: 455827.28125\u001b[0m\n",
      "Processing Audio:  71%|███████   | 12500/17578 [25:50<10:41,  7.92it/s]\u001b[32m2024-12-02 13:57:48.994\u001b[0m | \u001b[1mINFO    \u001b[0m | \u001b[36m__main__\u001b[0m:\u001b[36m<module>\u001b[0m:\u001b[36m30\u001b[0m - \u001b[1m150, Epoch 1, current score: 453643.78125\u001b[0m\n",
      "Processing Audio:  74%|███████▍  | 13000/17578 [26:53<09:59,  7.63it/s]\u001b[32m2024-12-02 13:58:51.877\u001b[0m | \u001b[1mINFO    \u001b[0m | \u001b[36m__main__\u001b[0m:\u001b[36m<module>\u001b[0m:\u001b[36m30\u001b[0m - \u001b[1m150, Epoch 1, current score: 497910.46875\u001b[0m\n",
      "Processing Audio:  77%|███████▋  | 13500/17578 [27:56<08:43,  7.80it/s]\u001b[32m2024-12-02 13:59:54.222\u001b[0m | \u001b[1mINFO    \u001b[0m | \u001b[36m__main__\u001b[0m:\u001b[36m<module>\u001b[0m:\u001b[36m30\u001b[0m - \u001b[1m150, Epoch 1, current score: 472949.3125\u001b[0m\n",
      "Processing Audio:  80%|███████▉  | 14000/17578 [28:58<07:26,  8.00it/s]\u001b[32m2024-12-02 14:00:56.223\u001b[0m | \u001b[1mINFO    \u001b[0m | \u001b[36m__main__\u001b[0m:\u001b[36m<module>\u001b[0m:\u001b[36m30\u001b[0m - \u001b[1m150, Epoch 1, current score: 452236.6875\u001b[0m\n",
      "Processing Audio:  82%|████████▏ | 14500/17578 [29:59<06:27,  7.94it/s]\u001b[32m2024-12-02 14:01:57.870\u001b[0m | \u001b[1mINFO    \u001b[0m | \u001b[36m__main__\u001b[0m:\u001b[36m<module>\u001b[0m:\u001b[36m30\u001b[0m - \u001b[1m150, Epoch 1, current score: 503361.09375\u001b[0m\n",
      "Processing Audio:  85%|████████▌ | 15000/17578 [31:02<05:23,  7.96it/s]\u001b[32m2024-12-02 14:03:00.614\u001b[0m | \u001b[1mINFO    \u001b[0m | \u001b[36m__main__\u001b[0m:\u001b[36m<module>\u001b[0m:\u001b[36m30\u001b[0m - \u001b[1m150, Epoch 1, current score: 558588.375\u001b[0m\n",
      "Processing Audio:  88%|████████▊ | 15500/17578 [32:04<04:23,  7.87it/s]\u001b[32m2024-12-02 14:04:02.688\u001b[0m | \u001b[1mINFO    \u001b[0m | \u001b[36m__main__\u001b[0m:\u001b[36m<module>\u001b[0m:\u001b[36m30\u001b[0m - \u001b[1m150, Epoch 1, current score: 560150.6875\u001b[0m\n",
      "Processing Audio:  91%|█████████ | 16000/17578 [33:07<03:12,  8.21it/s]\u001b[32m2024-12-02 14:05:05.526\u001b[0m | \u001b[1mINFO    \u001b[0m | \u001b[36m__main__\u001b[0m:\u001b[36m<module>\u001b[0m:\u001b[36m30\u001b[0m - \u001b[1m150, Epoch 1, current score: 496545.09375\u001b[0m\n",
      "Processing Audio:  94%|█████████▍| 16500/17578 [34:09<02:09,  8.29it/s]\u001b[32m2024-12-02 14:06:07.979\u001b[0m | \u001b[1mINFO    \u001b[0m | \u001b[36m__main__\u001b[0m:\u001b[36m<module>\u001b[0m:\u001b[36m30\u001b[0m - \u001b[1m150, Epoch 1, current score: 454829.1875\u001b[0m\n",
      "Processing Audio:  97%|█████████▋| 17000/17578 [35:11<01:12,  7.96it/s]\u001b[32m2024-12-02 14:07:09.918\u001b[0m | \u001b[1mINFO    \u001b[0m | \u001b[36m__main__\u001b[0m:\u001b[36m<module>\u001b[0m:\u001b[36m30\u001b[0m - \u001b[1m150, Epoch 1, current score: 524299.75\u001b[0m\n",
      "Processing Audio: 100%|█████████▉| 17500/17578 [36:14<00:09,  8.05it/s]\u001b[32m2024-12-02 14:08:12.269\u001b[0m | \u001b[1mINFO    \u001b[0m | \u001b[36m__main__\u001b[0m:\u001b[36m<module>\u001b[0m:\u001b[36m30\u001b[0m - \u001b[1m150, Epoch 1, current score: 502729.78125\u001b[0m\n",
      "Processing Audio: 100%|██████████| 17578/17578 [36:24<00:00,  8.05it/s]\n",
      "\u001b[32m2024-12-02 14:08:23.268\u001b[0m | \u001b[1mINFO    \u001b[0m | \u001b[36m__main__\u001b[0m:\u001b[36m<module>\u001b[0m:\u001b[36m35\u001b[0m - \u001b[1m150, Epoch 1, val score: 299940.5625\u001b[0m\n",
      "Processing Audio:   0%|          | 0/17578 [00:00<?, ?it/s]\u001b[32m2024-12-02 14:08:24.858\u001b[0m | \u001b[1mINFO    \u001b[0m | \u001b[36m__main__\u001b[0m:\u001b[36m<module>\u001b[0m:\u001b[36m30\u001b[0m - \u001b[1m150, Epoch 2, current score: 457470.28125\u001b[0m\n",
      "Processing Audio:   3%|▎         | 500/17578 [01:07<35:26,  8.03it/s]\u001b[32m2024-12-02 14:09:30.441\u001b[0m | \u001b[1mINFO    \u001b[0m | \u001b[36m__main__\u001b[0m:\u001b[36m<module>\u001b[0m:\u001b[36m30\u001b[0m - \u001b[1m150, Epoch 2, current score: 539639.9375\u001b[0m\n",
      "Processing Audio:   6%|▌         | 1000/17578 [02:08<34:57,  7.90it/s]\u001b[32m2024-12-02 14:10:31.648\u001b[0m | \u001b[1mINFO    \u001b[0m | \u001b[36m__main__\u001b[0m:\u001b[36m<module>\u001b[0m:\u001b[36m30\u001b[0m - \u001b[1m150, Epoch 2, current score: 540248.8125\u001b[0m\n",
      "Processing Audio:   9%|▊         | 1500/17578 [03:10<33:51,  7.91it/s]\u001b[32m2024-12-02 14:11:34.050\u001b[0m | \u001b[1mINFO    \u001b[0m | \u001b[36m__main__\u001b[0m:\u001b[36m<module>\u001b[0m:\u001b[36m30\u001b[0m - \u001b[1m150, Epoch 2, current score: 390794.84375\u001b[0m\n",
      "Processing Audio:  11%|█▏        | 2000/17578 [04:13<32:46,  7.92it/s]\u001b[32m2024-12-02 14:12:36.825\u001b[0m | \u001b[1mINFO    \u001b[0m | \u001b[36m__main__\u001b[0m:\u001b[36m<module>\u001b[0m:\u001b[36m30\u001b[0m - \u001b[1m150, Epoch 2, current score: 457686.4375\u001b[0m\n",
      "Processing Audio:  14%|█▍        | 2500/17578 [05:14<31:12,  8.05it/s]\u001b[32m2024-12-02 14:13:38.297\u001b[0m | \u001b[1mINFO    \u001b[0m | \u001b[36m__main__\u001b[0m:\u001b[36m<module>\u001b[0m:\u001b[36m30\u001b[0m - \u001b[1m150, Epoch 2, current score: 535059.5625\u001b[0m\n",
      "Processing Audio:  17%|█▋        | 3000/17578 [06:17<29:50,  8.14it/s]\u001b[32m2024-12-02 14:14:41.093\u001b[0m | \u001b[1mINFO    \u001b[0m | \u001b[36m__main__\u001b[0m:\u001b[36m<module>\u001b[0m:\u001b[36m30\u001b[0m - \u001b[1m150, Epoch 2, current score: 424457.125\u001b[0m\n",
      "Processing Audio:  20%|█▉        | 3500/17578 [07:19<31:41,  7.40it/s]\u001b[32m2024-12-02 14:15:42.897\u001b[0m | \u001b[1mINFO    \u001b[0m | \u001b[36m__main__\u001b[0m:\u001b[36m<module>\u001b[0m:\u001b[36m30\u001b[0m - \u001b[1m150, Epoch 2, current score: 359256.59375\u001b[0m\n",
      "Processing Audio:  23%|██▎       | 4000/17578 [08:21<27:14,  8.31it/s]\u001b[32m2024-12-02 14:16:44.781\u001b[0m | \u001b[1mINFO    \u001b[0m | \u001b[36m__main__\u001b[0m:\u001b[36m<module>\u001b[0m:\u001b[36m30\u001b[0m - \u001b[1m150, Epoch 2, current score: 380100.3125\u001b[0m\n",
      "Processing Audio:  26%|██▌       | 4500/17578 [09:23<27:18,  7.98it/s]\u001b[32m2024-12-02 14:17:47.311\u001b[0m | \u001b[1mINFO    \u001b[0m | \u001b[36m__main__\u001b[0m:\u001b[36m<module>\u001b[0m:\u001b[36m30\u001b[0m - \u001b[1m150, Epoch 2, current score: 530569.4375\u001b[0m\n",
      "Processing Audio:  28%|██▊       | 5000/17578 [10:25<25:13,  8.31it/s]\u001b[32m2024-12-02 14:18:48.998\u001b[0m | \u001b[1mINFO    \u001b[0m | \u001b[36m__main__\u001b[0m:\u001b[36m<module>\u001b[0m:\u001b[36m30\u001b[0m - \u001b[1m150, Epoch 2, current score: 450834.15625\u001b[0m\n",
      "Processing Audio:  31%|███▏      | 5500/17578 [11:27<25:02,  8.04it/s]\u001b[32m2024-12-02 14:19:50.817\u001b[0m | \u001b[1mINFO    \u001b[0m | \u001b[36m__main__\u001b[0m:\u001b[36m<module>\u001b[0m:\u001b[36m30\u001b[0m - \u001b[1m150, Epoch 2, current score: 522171.3125\u001b[0m\n",
      "Processing Audio:  34%|███▍      | 6000/17578 [12:30<25:46,  7.49it/s]\u001b[32m2024-12-02 14:20:53.464\u001b[0m | \u001b[1mINFO    \u001b[0m | \u001b[36m__main__\u001b[0m:\u001b[36m<module>\u001b[0m:\u001b[36m30\u001b[0m - \u001b[1m150, Epoch 2, current score: 553384.0\u001b[0m\n",
      "Processing Audio:  37%|███▋      | 6500/17578 [13:32<22:18,  8.28it/s]\u001b[32m2024-12-02 14:21:55.696\u001b[0m | \u001b[1mINFO    \u001b[0m | \u001b[36m__main__\u001b[0m:\u001b[36m<module>\u001b[0m:\u001b[36m30\u001b[0m - \u001b[1m150, Epoch 2, current score: 383224.59375\u001b[0m\n",
      "Processing Audio:  40%|███▉      | 7000/17578 [14:33<21:12,  8.32it/s]\u001b[32m2024-12-02 14:22:57.255\u001b[0m | \u001b[1mINFO    \u001b[0m | \u001b[36m__main__\u001b[0m:\u001b[36m<module>\u001b[0m:\u001b[36m30\u001b[0m - \u001b[1m150, Epoch 2, current score: 456766.0\u001b[0m\n",
      "Processing Audio:  43%|████▎     | 7500/17578 [15:35<20:57,  8.02it/s]\u001b[32m2024-12-02 14:23:59.122\u001b[0m | \u001b[1mINFO    \u001b[0m | \u001b[36m__main__\u001b[0m:\u001b[36m<module>\u001b[0m:\u001b[36m30\u001b[0m - \u001b[1m150, Epoch 2, current score: 435863.78125\u001b[0m\n",
      "Processing Audio:  46%|████▌     | 8000/17578 [16:37<19:57,  8.00it/s]\u001b[32m2024-12-02 14:25:01.215\u001b[0m | \u001b[1mINFO    \u001b[0m | \u001b[36m__main__\u001b[0m:\u001b[36m<module>\u001b[0m:\u001b[36m30\u001b[0m - \u001b[1m150, Epoch 2, current score: 501937.9375\u001b[0m\n",
      "Processing Audio:  48%|████▊     | 8500/17578 [17:40<18:36,  8.13it/s]\u001b[32m2024-12-02 14:26:03.935\u001b[0m | \u001b[1mINFO    \u001b[0m | \u001b[36m__main__\u001b[0m:\u001b[36m<module>\u001b[0m:\u001b[36m30\u001b[0m - \u001b[1m150, Epoch 2, current score: 498575.3125\u001b[0m\n",
      "Processing Audio:  51%|█████     | 9000/17578 [18:41<17:00,  8.41it/s]\u001b[32m2024-12-02 14:27:05.157\u001b[0m | \u001b[1mINFO    \u001b[0m | \u001b[36m__main__\u001b[0m:\u001b[36m<module>\u001b[0m:\u001b[36m30\u001b[0m - \u001b[1m150, Epoch 2, current score: 497960.28125\u001b[0m\n",
      "Processing Audio:  54%|█████▍    | 9500/17578 [19:44<16:43,  8.05it/s]\u001b[32m2024-12-02 14:28:07.550\u001b[0m | \u001b[1mINFO    \u001b[0m | \u001b[36m__main__\u001b[0m:\u001b[36m<module>\u001b[0m:\u001b[36m30\u001b[0m - \u001b[1m150, Epoch 2, current score: 513807.0\u001b[0m\n",
      "Processing Audio:  57%|█████▋    | 10000/17578 [20:46<14:59,  8.42it/s]\u001b[32m2024-12-02 14:29:09.646\u001b[0m | \u001b[1mINFO    \u001b[0m | \u001b[36m__main__\u001b[0m:\u001b[36m<module>\u001b[0m:\u001b[36m30\u001b[0m - \u001b[1m150, Epoch 2, current score: 471579.9375\u001b[0m\n",
      "Processing Audio:  60%|█████▉    | 10500/17578 [21:48<14:21,  8.21it/s]\u001b[32m2024-12-02 14:30:11.414\u001b[0m | \u001b[1mINFO    \u001b[0m | \u001b[36m__main__\u001b[0m:\u001b[36m<module>\u001b[0m:\u001b[36m30\u001b[0m - \u001b[1m150, Epoch 2, current score: 474955.34375\u001b[0m\n",
      "Processing Audio:  63%|██████▎   | 11000/17578 [22:50<13:34,  8.08it/s]\u001b[32m2024-12-02 14:31:13.939\u001b[0m | \u001b[1mINFO    \u001b[0m | \u001b[36m__main__\u001b[0m:\u001b[36m<module>\u001b[0m:\u001b[36m30\u001b[0m - \u001b[1m150, Epoch 2, current score: 444613.8125\u001b[0m\n",
      "Processing Audio:  65%|██████▌   | 11500/17578 [23:53<12:37,  8.03it/s]\u001b[32m2024-12-02 14:32:16.574\u001b[0m | \u001b[1mINFO    \u001b[0m | \u001b[36m__main__\u001b[0m:\u001b[36m<module>\u001b[0m:\u001b[36m30\u001b[0m - \u001b[1m150, Epoch 2, current score: 528544.875\u001b[0m\n",
      "Processing Audio:  68%|██████▊   | 12000/17578 [24:55<11:29,  8.08it/s]\u001b[32m2024-12-02 14:33:18.586\u001b[0m | \u001b[1mINFO    \u001b[0m | \u001b[36m__main__\u001b[0m:\u001b[36m<module>\u001b[0m:\u001b[36m30\u001b[0m - \u001b[1m150, Epoch 2, current score: 454664.65625\u001b[0m\n",
      "Processing Audio:  71%|███████   | 12500/17578 [25:56<10:12,  8.29it/s]\u001b[32m2024-12-02 14:34:20.216\u001b[0m | \u001b[1mINFO    \u001b[0m | \u001b[36m__main__\u001b[0m:\u001b[36m<module>\u001b[0m:\u001b[36m30\u001b[0m - \u001b[1m150, Epoch 2, current score: 591531.125\u001b[0m\n",
      "Processing Audio:  74%|███████▍  | 13000/17578 [26:59<09:31,  8.01it/s]\u001b[32m2024-12-02 14:35:22.605\u001b[0m | \u001b[1mINFO    \u001b[0m | \u001b[36m__main__\u001b[0m:\u001b[36m<module>\u001b[0m:\u001b[36m30\u001b[0m - \u001b[1m150, Epoch 2, current score: 523340.875\u001b[0m\n",
      "Processing Audio:  77%|███████▋  | 13500/17578 [28:02<08:31,  7.97it/s]\u001b[32m2024-12-02 14:36:25.414\u001b[0m | \u001b[1mINFO    \u001b[0m | \u001b[36m__main__\u001b[0m:\u001b[36m<module>\u001b[0m:\u001b[36m30\u001b[0m - \u001b[1m150, Epoch 2, current score: 484931.15625\u001b[0m\n",
      "Processing Audio:  80%|███████▉  | 14000/17578 [29:04<07:25,  8.04it/s]\u001b[32m2024-12-02 14:37:28.073\u001b[0m | \u001b[1mINFO    \u001b[0m | \u001b[36m__main__\u001b[0m:\u001b[36m<module>\u001b[0m:\u001b[36m30\u001b[0m - \u001b[1m150, Epoch 2, current score: 503944.09375\u001b[0m\n",
      "Processing Audio:  82%|████████▏ | 14500/17578 [30:46<06:24,  8.01it/s]\u001b[32m2024-12-02 14:39:10.005\u001b[0m | \u001b[1mINFO    \u001b[0m | \u001b[36m__main__\u001b[0m:\u001b[36m<module>\u001b[0m:\u001b[36m30\u001b[0m - \u001b[1m150, Epoch 2, current score: 456771.59375\u001b[0m\n",
      "Processing Audio:  85%|████████▌ | 15000/17578 [31:49<05:12,  8.25it/s]\u001b[32m2024-12-02 14:40:12.738\u001b[0m | \u001b[1mINFO    \u001b[0m | \u001b[36m__main__\u001b[0m:\u001b[36m<module>\u001b[0m:\u001b[36m30\u001b[0m - \u001b[1m150, Epoch 2, current score: 417160.875\u001b[0m\n",
      "Processing Audio:  88%|████████▊ | 15500/17578 [32:51<04:26,  7.80it/s]\u001b[32m2024-12-02 14:41:15.048\u001b[0m | \u001b[1mINFO    \u001b[0m | \u001b[36m__main__\u001b[0m:\u001b[36m<module>\u001b[0m:\u001b[36m30\u001b[0m - \u001b[1m150, Epoch 2, current score: 527878.5625\u001b[0m\n",
      "Processing Audio:  91%|█████████ | 16000/17578 [33:54<03:11,  8.25it/s]\u001b[32m2024-12-02 14:42:17.488\u001b[0m | \u001b[1mINFO    \u001b[0m | \u001b[36m__main__\u001b[0m:\u001b[36m<module>\u001b[0m:\u001b[36m30\u001b[0m - \u001b[1m150, Epoch 2, current score: 423191.0625\u001b[0m\n",
      "Processing Audio:  94%|█████████▍| 16500/17578 [34:55<02:21,  7.62it/s]\u001b[32m2024-12-02 14:43:18.856\u001b[0m | \u001b[1mINFO    \u001b[0m | \u001b[36m__main__\u001b[0m:\u001b[36m<module>\u001b[0m:\u001b[36m30\u001b[0m - \u001b[1m150, Epoch 2, current score: 533258.625\u001b[0m\n",
      "Processing Audio:  97%|█████████▋| 17000/17578 [35:57<01:11,  8.12it/s]\u001b[32m2024-12-02 14:44:21.157\u001b[0m | \u001b[1mINFO    \u001b[0m | \u001b[36m__main__\u001b[0m:\u001b[36m<module>\u001b[0m:\u001b[36m30\u001b[0m - \u001b[1m150, Epoch 2, current score: 575158.25\u001b[0m\n",
      "Processing Audio: 100%|█████████▉| 17500/17578 [36:59<00:09,  8.61it/s]\u001b[32m2024-12-02 14:45:22.907\u001b[0m | \u001b[1mINFO    \u001b[0m | \u001b[36m__main__\u001b[0m:\u001b[36m<module>\u001b[0m:\u001b[36m30\u001b[0m - \u001b[1m150, Epoch 2, current score: 570294.6875\u001b[0m\n",
      "Processing Audio: 100%|██████████| 17578/17578 [37:09<00:00,  7.88it/s]\n",
      "\u001b[32m2024-12-02 14:45:33.632\u001b[0m | \u001b[1mINFO    \u001b[0m | \u001b[36m__main__\u001b[0m:\u001b[36m<module>\u001b[0m:\u001b[36m35\u001b[0m - \u001b[1m150, Epoch 2, val score: 245971.828125\u001b[0m\n",
      "Processing Audio:   0%|          | 0/17578 [00:00<?, ?it/s]\u001b[32m2024-12-02 14:45:35.158\u001b[0m | \u001b[1mINFO    \u001b[0m | \u001b[36m__main__\u001b[0m:\u001b[36m<module>\u001b[0m:\u001b[36m30\u001b[0m - \u001b[1m150, Epoch 3, current score: 430617.0\u001b[0m\n",
      "Processing Audio:   3%|▎         | 500/17578 [01:04<36:15,  7.85it/s]\u001b[32m2024-12-02 14:46:38.668\u001b[0m | \u001b[1mINFO    \u001b[0m | \u001b[36m__main__\u001b[0m:\u001b[36m<module>\u001b[0m:\u001b[36m30\u001b[0m - \u001b[1m150, Epoch 3, current score: 542245.4375\u001b[0m\n",
      "Processing Audio:   6%|▌         | 1000/17578 [02:06<34:36,  7.98it/s]\u001b[32m2024-12-02 14:47:40.316\u001b[0m | \u001b[1mINFO    \u001b[0m | \u001b[36m__main__\u001b[0m:\u001b[36m<module>\u001b[0m:\u001b[36m30\u001b[0m - \u001b[1m150, Epoch 3, current score: 476663.3125\u001b[0m\n",
      "Processing Audio:   9%|▊         | 1500/17578 [03:09<32:55,  8.14it/s]\u001b[32m2024-12-02 14:48:43.062\u001b[0m | \u001b[1mINFO    \u001b[0m | \u001b[36m__main__\u001b[0m:\u001b[36m<module>\u001b[0m:\u001b[36m30\u001b[0m - \u001b[1m150, Epoch 3, current score: 563040.5625\u001b[0m\n",
      "Processing Audio:  11%|█▏        | 2000/17578 [04:11<33:11,  7.82it/s]\u001b[32m2024-12-02 14:49:45.085\u001b[0m | \u001b[1mINFO    \u001b[0m | \u001b[36m__main__\u001b[0m:\u001b[36m<module>\u001b[0m:\u001b[36m30\u001b[0m - \u001b[1m150, Epoch 3, current score: 507035.125\u001b[0m\n",
      "Processing Audio:  14%|█▍        | 2500/17578 [05:14<32:36,  7.70it/s]\u001b[32m2024-12-02 14:50:47.977\u001b[0m | \u001b[1mINFO    \u001b[0m | \u001b[36m__main__\u001b[0m:\u001b[36m<module>\u001b[0m:\u001b[36m30\u001b[0m - \u001b[1m150, Epoch 3, current score: 587843.6875\u001b[0m\n",
      "Processing Audio:  17%|█▋        | 3000/17578 [06:16<29:38,  8.20it/s]\u001b[32m2024-12-02 14:51:50.057\u001b[0m | \u001b[1mINFO    \u001b[0m | \u001b[36m__main__\u001b[0m:\u001b[36m<module>\u001b[0m:\u001b[36m30\u001b[0m - \u001b[1m150, Epoch 3, current score: 488459.46875\u001b[0m\n",
      "Processing Audio:  20%|█▉        | 3500/17578 [07:18<28:08,  8.34it/s]\u001b[32m2024-12-02 14:52:51.981\u001b[0m | \u001b[1mINFO    \u001b[0m | \u001b[36m__main__\u001b[0m:\u001b[36m<module>\u001b[0m:\u001b[36m30\u001b[0m - \u001b[1m150, Epoch 3, current score: 437030.8125\u001b[0m\n",
      "Processing Audio:  23%|██▎       | 4000/17578 [08:19<27:47,  8.14it/s]\u001b[32m2024-12-02 14:53:53.764\u001b[0m | \u001b[1mINFO    \u001b[0m | \u001b[36m__main__\u001b[0m:\u001b[36m<module>\u001b[0m:\u001b[36m30\u001b[0m - \u001b[1m150, Epoch 3, current score: 573332.8125\u001b[0m\n",
      "Processing Audio:  26%|██▌       | 4500/17578 [09:24<31:12,  6.98it/s]\u001b[32m2024-12-02 14:54:58.246\u001b[0m | \u001b[1mINFO    \u001b[0m | \u001b[36m__main__\u001b[0m:\u001b[36m<module>\u001b[0m:\u001b[36m30\u001b[0m - \u001b[1m150, Epoch 3, current score: 601804.625\u001b[0m\n",
      "Processing Audio:  28%|██▊       | 5000/17578 [11:40<25:54,  8.09it/s]  \u001b[32m2024-12-02 14:57:14.330\u001b[0m | \u001b[1mINFO    \u001b[0m | \u001b[36m__main__\u001b[0m:\u001b[36m<module>\u001b[0m:\u001b[36m30\u001b[0m - \u001b[1m150, Epoch 3, current score: 483620.71875\u001b[0m\n",
      "Processing Audio:  31%|███▏      | 5500/17578 [12:43<25:06,  8.02it/s]\u001b[32m2024-12-02 14:58:16.793\u001b[0m | \u001b[1mINFO    \u001b[0m | \u001b[36m__main__\u001b[0m:\u001b[36m<module>\u001b[0m:\u001b[36m30\u001b[0m - \u001b[1m150, Epoch 3, current score: 528419.1875\u001b[0m\n",
      "Processing Audio:  34%|███▍      | 6000/17578 [13:45<23:39,  8.16it/s]\u001b[32m2024-12-02 14:59:19.271\u001b[0m | \u001b[1mINFO    \u001b[0m | \u001b[36m__main__\u001b[0m:\u001b[36m<module>\u001b[0m:\u001b[36m30\u001b[0m - \u001b[1m150, Epoch 3, current score: 493981.0625\u001b[0m\n",
      "Processing Audio:  37%|███▋      | 6500/17578 [14:47<23:36,  7.82it/s]\u001b[32m2024-12-02 15:00:21.143\u001b[0m | \u001b[1mINFO    \u001b[0m | \u001b[36m__main__\u001b[0m:\u001b[36m<module>\u001b[0m:\u001b[36m30\u001b[0m - \u001b[1m150, Epoch 3, current score: 508390.03125\u001b[0m\n",
      "Processing Audio:  40%|███▉      | 7000/17578 [15:49<22:21,  7.89it/s]\u001b[32m2024-12-02 15:01:23.639\u001b[0m | \u001b[1mINFO    \u001b[0m | \u001b[36m__main__\u001b[0m:\u001b[36m<module>\u001b[0m:\u001b[36m30\u001b[0m - \u001b[1m150, Epoch 3, current score: 469693.09375\u001b[0m\n",
      "Processing Audio:  43%|████▎     | 7500/17578 [16:52<21:20,  7.87it/s]\u001b[32m2024-12-02 15:02:26.188\u001b[0m | \u001b[1mINFO    \u001b[0m | \u001b[36m__main__\u001b[0m:\u001b[36m<module>\u001b[0m:\u001b[36m30\u001b[0m - \u001b[1m150, Epoch 3, current score: 530255.5\u001b[0m\n",
      "Processing Audio:  46%|████▌     | 8000/17578 [17:54<19:19,  8.26it/s]\u001b[32m2024-12-02 15:03:28.579\u001b[0m | \u001b[1mINFO    \u001b[0m | \u001b[36m__main__\u001b[0m:\u001b[36m<module>\u001b[0m:\u001b[36m30\u001b[0m - \u001b[1m150, Epoch 3, current score: 501569.53125\u001b[0m\n",
      "Processing Audio:  48%|████▊     | 8500/17578 [18:57<17:48,  8.49it/s]\u001b[32m2024-12-02 15:04:30.894\u001b[0m | \u001b[1mINFO    \u001b[0m | \u001b[36m__main__\u001b[0m:\u001b[36m<module>\u001b[0m:\u001b[36m30\u001b[0m - \u001b[1m150, Epoch 3, current score: 479820.5\u001b[0m\n",
      "Processing Audio:  51%|█████     | 9000/17578 [19:59<17:36,  8.12it/s]\u001b[32m2024-12-02 15:05:32.915\u001b[0m | \u001b[1mINFO    \u001b[0m | \u001b[36m__main__\u001b[0m:\u001b[36m<module>\u001b[0m:\u001b[36m30\u001b[0m - \u001b[1m150, Epoch 3, current score: 456742.78125\u001b[0m\n",
      "Processing Audio:  54%|█████▍    | 9500/17578 [21:01<16:40,  8.07it/s]\u001b[32m2024-12-02 15:06:34.896\u001b[0m | \u001b[1mINFO    \u001b[0m | \u001b[36m__main__\u001b[0m:\u001b[36m<module>\u001b[0m:\u001b[36m30\u001b[0m - \u001b[1m150, Epoch 3, current score: 494899.40625\u001b[0m\n",
      "Processing Audio:  57%|█████▋    | 10000/17578 [22:04<14:37,  8.63it/s]\u001b[32m2024-12-02 15:07:38.189\u001b[0m | \u001b[1mINFO    \u001b[0m | \u001b[36m__main__\u001b[0m:\u001b[36m<module>\u001b[0m:\u001b[36m30\u001b[0m - \u001b[1m150, Epoch 3, current score: 437157.4375\u001b[0m\n",
      "Processing Audio:  60%|█████▉    | 10500/17578 [23:06<14:55,  7.90it/s]\u001b[32m2024-12-02 15:08:39.783\u001b[0m | \u001b[1mINFO    \u001b[0m | \u001b[36m__main__\u001b[0m:\u001b[36m<module>\u001b[0m:\u001b[36m30\u001b[0m - \u001b[1m150, Epoch 3, current score: 516246.96875\u001b[0m\n",
      "Processing Audio:  63%|██████▎   | 11000/17578 [24:07<13:28,  8.14it/s]\u001b[32m2024-12-02 15:09:41.694\u001b[0m | \u001b[1mINFO    \u001b[0m | \u001b[36m__main__\u001b[0m:\u001b[36m<module>\u001b[0m:\u001b[36m30\u001b[0m - \u001b[1m150, Epoch 3, current score: 480756.34375\u001b[0m\n",
      "Processing Audio:  65%|██████▌   | 11500/17578 [25:09<12:43,  7.96it/s]\u001b[32m2024-12-02 15:10:43.601\u001b[0m | \u001b[1mINFO    \u001b[0m | \u001b[36m__main__\u001b[0m:\u001b[36m<module>\u001b[0m:\u001b[36m30\u001b[0m - \u001b[1m150, Epoch 3, current score: 525518.375\u001b[0m\n",
      "Processing Audio:  68%|██████▊   | 12000/17578 [26:11<11:39,  7.97it/s]\u001b[32m2024-12-02 15:11:45.146\u001b[0m | \u001b[1mINFO    \u001b[0m | \u001b[36m__main__\u001b[0m:\u001b[36m<module>\u001b[0m:\u001b[36m30\u001b[0m - \u001b[1m150, Epoch 3, current score: 474376.46875\u001b[0m\n",
      "Processing Audio:  71%|███████   | 12500/17578 [27:13<10:38,  7.95it/s]\u001b[32m2024-12-02 15:12:47.581\u001b[0m | \u001b[1mINFO    \u001b[0m | \u001b[36m__main__\u001b[0m:\u001b[36m<module>\u001b[0m:\u001b[36m30\u001b[0m - \u001b[1m150, Epoch 3, current score: 487119.21875\u001b[0m\n",
      "Processing Audio:  74%|███████▍  | 13000/17578 [28:16<09:49,  7.77it/s]\u001b[32m2024-12-02 15:13:50.051\u001b[0m | \u001b[1mINFO    \u001b[0m | \u001b[36m__main__\u001b[0m:\u001b[36m<module>\u001b[0m:\u001b[36m30\u001b[0m - \u001b[1m150, Epoch 3, current score: 495715.3125\u001b[0m\n",
      "Processing Audio:  77%|███████▋  | 13500/17578 [29:19<08:26,  8.06it/s]\u001b[32m2024-12-02 15:14:53.287\u001b[0m | \u001b[1mINFO    \u001b[0m | \u001b[36m__main__\u001b[0m:\u001b[36m<module>\u001b[0m:\u001b[36m30\u001b[0m - \u001b[1m150, Epoch 3, current score: 434796.0625\u001b[0m\n",
      "Processing Audio:  80%|███████▉  | 14000/17578 [30:22<07:46,  7.66it/s]\u001b[32m2024-12-02 15:15:56.722\u001b[0m | \u001b[1mINFO    \u001b[0m | \u001b[36m__main__\u001b[0m:\u001b[36m<module>\u001b[0m:\u001b[36m30\u001b[0m - \u001b[1m150, Epoch 3, current score: 500495.46875\u001b[0m\n",
      "Processing Audio:  82%|████████▏ | 14500/17578 [31:26<06:17,  8.14it/s]\u001b[32m2024-12-02 15:17:00.456\u001b[0m | \u001b[1mINFO    \u001b[0m | \u001b[36m__main__\u001b[0m:\u001b[36m<module>\u001b[0m:\u001b[36m30\u001b[0m - \u001b[1m150, Epoch 3, current score: 466086.75\u001b[0m\n",
      "Processing Audio:  85%|████████▌ | 15000/17578 [32:28<05:22,  7.99it/s]\u001b[32m2024-12-02 15:18:01.859\u001b[0m | \u001b[1mINFO    \u001b[0m | \u001b[36m__main__\u001b[0m:\u001b[36m<module>\u001b[0m:\u001b[36m30\u001b[0m - \u001b[1m150, Epoch 3, current score: 477774.28125\u001b[0m\n",
      "Processing Audio:  88%|████████▊ | 15500/17578 [33:30<04:26,  7.80it/s]\u001b[32m2024-12-02 15:19:04.336\u001b[0m | \u001b[1mINFO    \u001b[0m | \u001b[36m__main__\u001b[0m:\u001b[36m<module>\u001b[0m:\u001b[36m30\u001b[0m - \u001b[1m150, Epoch 3, current score: 409764.875\u001b[0m\n",
      "Processing Audio:  91%|█████████ | 16000/17578 [34:32<03:11,  8.22it/s]\u001b[32m2024-12-02 15:20:06.582\u001b[0m | \u001b[1mINFO    \u001b[0m | \u001b[36m__main__\u001b[0m:\u001b[36m<module>\u001b[0m:\u001b[36m30\u001b[0m - \u001b[1m150, Epoch 3, current score: 550361.25\u001b[0m\n",
      "Processing Audio:  94%|█████████▍| 16500/17578 [35:36<02:13,  8.09it/s]\u001b[32m2024-12-02 15:21:10.070\u001b[0m | \u001b[1mINFO    \u001b[0m | \u001b[36m__main__\u001b[0m:\u001b[36m<module>\u001b[0m:\u001b[36m30\u001b[0m - \u001b[1m150, Epoch 3, current score: 467446.0\u001b[0m\n",
      "Processing Audio:  97%|█████████▋| 17000/17578 [36:39<01:13,  7.84it/s]\u001b[32m2024-12-02 15:22:12.780\u001b[0m | \u001b[1mINFO    \u001b[0m | \u001b[36m__main__\u001b[0m:\u001b[36m<module>\u001b[0m:\u001b[36m30\u001b[0m - \u001b[1m150, Epoch 3, current score: 497546.9375\u001b[0m\n",
      "Processing Audio: 100%|█████████▉| 17500/17578 [37:41<00:09,  8.30it/s]\u001b[32m2024-12-02 15:23:15.153\u001b[0m | \u001b[1mINFO    \u001b[0m | \u001b[36m__main__\u001b[0m:\u001b[36m<module>\u001b[0m:\u001b[36m30\u001b[0m - \u001b[1m150, Epoch 3, current score: 542332.3125\u001b[0m\n",
      "Processing Audio: 100%|██████████| 17578/17578 [37:51<00:00,  7.74it/s]\n",
      "\u001b[32m2024-12-02 15:23:25.977\u001b[0m | \u001b[1mINFO    \u001b[0m | \u001b[36m__main__\u001b[0m:\u001b[36m<module>\u001b[0m:\u001b[36m35\u001b[0m - \u001b[1m150, Epoch 3, val score: 245596.328125\u001b[0m\n",
      "Processing Audio:   0%|          | 0/17578 [00:00<?, ?it/s]\u001b[32m2024-12-02 15:23:27.556\u001b[0m | \u001b[1mINFO    \u001b[0m | \u001b[36m__main__\u001b[0m:\u001b[36m<module>\u001b[0m:\u001b[36m30\u001b[0m - \u001b[1m150, Epoch 4, current score: 462444.25\u001b[0m\n",
      "Processing Audio:   3%|▎         | 500/17578 [01:05<35:31,  8.01it/s]\u001b[32m2024-12-02 15:24:32.003\u001b[0m | \u001b[1mINFO    \u001b[0m | \u001b[36m__main__\u001b[0m:\u001b[36m<module>\u001b[0m:\u001b[36m30\u001b[0m - \u001b[1m150, Epoch 4, current score: 554608.25\u001b[0m\n",
      "Processing Audio:   6%|▌         | 1000/17578 [02:08<36:26,  7.58it/s]\u001b[32m2024-12-02 15:25:34.273\u001b[0m | \u001b[1mINFO    \u001b[0m | \u001b[36m__main__\u001b[0m:\u001b[36m<module>\u001b[0m:\u001b[36m30\u001b[0m - \u001b[1m150, Epoch 4, current score: 497506.5625\u001b[0m\n",
      "Processing Audio:   9%|▊         | 1500/17578 [03:10<34:20,  7.80it/s]\u001b[32m2024-12-02 15:26:36.631\u001b[0m | \u001b[1mINFO    \u001b[0m | \u001b[36m__main__\u001b[0m:\u001b[36m<module>\u001b[0m:\u001b[36m30\u001b[0m - \u001b[1m150, Epoch 4, current score: 462254.46875\u001b[0m\n",
      "Processing Audio:  11%|█▏        | 2000/17578 [04:13<31:58,  8.12it/s]\u001b[32m2024-12-02 15:27:39.356\u001b[0m | \u001b[1mINFO    \u001b[0m | \u001b[36m__main__\u001b[0m:\u001b[36m<module>\u001b[0m:\u001b[36m30\u001b[0m - \u001b[1m150, Epoch 4, current score: 622591.25\u001b[0m\n",
      "Processing Audio:  14%|█▍        | 2500/17578 [05:16<30:52,  8.14it/s]\u001b[32m2024-12-02 15:28:42.331\u001b[0m | \u001b[1mINFO    \u001b[0m | \u001b[36m__main__\u001b[0m:\u001b[36m<module>\u001b[0m:\u001b[36m30\u001b[0m - \u001b[1m150, Epoch 4, current score: 425231.4375\u001b[0m\n",
      "Processing Audio:  17%|█▋        | 3000/17578 [06:19<30:24,  7.99it/s]\u001b[32m2024-12-02 15:29:45.197\u001b[0m | \u001b[1mINFO    \u001b[0m | \u001b[36m__main__\u001b[0m:\u001b[36m<module>\u001b[0m:\u001b[36m30\u001b[0m - \u001b[1m150, Epoch 4, current score: 432106.78125\u001b[0m\n",
      "Processing Audio:  20%|█▉        | 3499/17578 [07:22<29:15,  8.02it/s]\u001b[32m2024-12-02 15:30:48.621\u001b[0m | \u001b[1mINFO    \u001b[0m | \u001b[36m__main__\u001b[0m:\u001b[36m<module>\u001b[0m:\u001b[36m30\u001b[0m - \u001b[1m150, Epoch 4, current score: 505940.09375\u001b[0m\n",
      "Processing Audio:  23%|██▎       | 4000/17578 [08:25<27:53,  8.11it/s]\u001b[32m2024-12-02 15:31:51.239\u001b[0m | \u001b[1mINFO    \u001b[0m | \u001b[36m__main__\u001b[0m:\u001b[36m<module>\u001b[0m:\u001b[36m30\u001b[0m - \u001b[1m150, Epoch 4, current score: 535889.75\u001b[0m\n",
      "Processing Audio:  26%|██▌       | 4500/17578 [09:27<26:31,  8.22it/s]\u001b[32m2024-12-02 15:32:53.547\u001b[0m | \u001b[1mINFO    \u001b[0m | \u001b[36m__main__\u001b[0m:\u001b[36m<module>\u001b[0m:\u001b[36m30\u001b[0m - \u001b[1m150, Epoch 4, current score: 492569.84375\u001b[0m\n",
      "Processing Audio:  28%|██▊       | 5000/17578 [10:29<27:25,  7.64it/s]\u001b[32m2024-12-02 15:33:55.856\u001b[0m | \u001b[1mINFO    \u001b[0m | \u001b[36m__main__\u001b[0m:\u001b[36m<module>\u001b[0m:\u001b[36m30\u001b[0m - \u001b[1m150, Epoch 4, current score: 531339.3125\u001b[0m\n",
      "Processing Audio:  31%|███▏      | 5500/17578 [11:32<24:46,  8.13it/s]\u001b[32m2024-12-02 15:34:58.217\u001b[0m | \u001b[1mINFO    \u001b[0m | \u001b[36m__main__\u001b[0m:\u001b[36m<module>\u001b[0m:\u001b[36m30\u001b[0m - \u001b[1m150, Epoch 4, current score: 558231.5625\u001b[0m\n",
      "Processing Audio:  34%|███▍      | 6000/17578 [12:35<23:37,  8.17it/s]\u001b[32m2024-12-02 15:36:01.121\u001b[0m | \u001b[1mINFO    \u001b[0m | \u001b[36m__main__\u001b[0m:\u001b[36m<module>\u001b[0m:\u001b[36m30\u001b[0m - \u001b[1m150, Epoch 4, current score: 495703.375\u001b[0m\n",
      "Processing Audio:  37%|███▋      | 6500/17578 [13:36<22:29,  8.21it/s]\u001b[32m2024-12-02 15:37:02.852\u001b[0m | \u001b[1mINFO    \u001b[0m | \u001b[36m__main__\u001b[0m:\u001b[36m<module>\u001b[0m:\u001b[36m30\u001b[0m - \u001b[1m150, Epoch 4, current score: 466807.0625\u001b[0m\n",
      "Processing Audio:  40%|███▉      | 7000/17578 [14:39<22:10,  7.95it/s]\u001b[32m2024-12-02 15:38:05.342\u001b[0m | \u001b[1mINFO    \u001b[0m | \u001b[36m__main__\u001b[0m:\u001b[36m<module>\u001b[0m:\u001b[36m30\u001b[0m - \u001b[1m150, Epoch 4, current score: 531941.625\u001b[0m\n",
      "Processing Audio:  43%|████▎     | 7500/17578 [15:42<20:11,  8.32it/s]\u001b[32m2024-12-02 15:39:08.792\u001b[0m | \u001b[1mINFO    \u001b[0m | \u001b[36m__main__\u001b[0m:\u001b[36m<module>\u001b[0m:\u001b[36m30\u001b[0m - \u001b[1m150, Epoch 4, current score: 541383.125\u001b[0m\n",
      "Processing Audio:  46%|████▌     | 8000/17578 [16:45<18:55,  8.43it/s]\u001b[32m2024-12-02 15:40:11.589\u001b[0m | \u001b[1mINFO    \u001b[0m | \u001b[36m__main__\u001b[0m:\u001b[36m<module>\u001b[0m:\u001b[36m30\u001b[0m - \u001b[1m150, Epoch 4, current score: 524111.90625\u001b[0m\n",
      "Processing Audio:  48%|████▊     | 8500/17578 [17:47<18:17,  8.27it/s]\u001b[32m2024-12-02 15:41:13.363\u001b[0m | \u001b[1mINFO    \u001b[0m | \u001b[36m__main__\u001b[0m:\u001b[36m<module>\u001b[0m:\u001b[36m30\u001b[0m - \u001b[1m150, Epoch 4, current score: 552174.9375\u001b[0m\n",
      "Processing Audio:  51%|█████     | 9000/17578 [18:49<18:04,  7.91it/s]\u001b[32m2024-12-02 15:42:15.403\u001b[0m | \u001b[1mINFO    \u001b[0m | \u001b[36m__main__\u001b[0m:\u001b[36m<module>\u001b[0m:\u001b[36m30\u001b[0m - \u001b[1m150, Epoch 4, current score: 540471.25\u001b[0m\n",
      "Processing Audio:  54%|█████▍    | 9500/17578 [19:51<17:06,  7.87it/s]\u001b[32m2024-12-02 15:43:17.505\u001b[0m | \u001b[1mINFO    \u001b[0m | \u001b[36m__main__\u001b[0m:\u001b[36m<module>\u001b[0m:\u001b[36m30\u001b[0m - \u001b[1m150, Epoch 4, current score: 584902.0625\u001b[0m\n",
      "Processing Audio:  57%|█████▋    | 10000/17578 [20:53<15:43,  8.04it/s]\u001b[32m2024-12-02 15:44:20.016\u001b[0m | \u001b[1mINFO    \u001b[0m | \u001b[36m__main__\u001b[0m:\u001b[36m<module>\u001b[0m:\u001b[36m30\u001b[0m - \u001b[1m150, Epoch 4, current score: 566527.75\u001b[0m\n",
      "Processing Audio:  60%|█████▉    | 10500/17578 [21:57<14:45,  7.99it/s]\u001b[32m2024-12-02 15:45:23.728\u001b[0m | \u001b[1mINFO    \u001b[0m | \u001b[36m__main__\u001b[0m:\u001b[36m<module>\u001b[0m:\u001b[36m30\u001b[0m - \u001b[1m150, Epoch 4, current score: 522110.9375\u001b[0m\n",
      "Processing Audio:  63%|██████▎   | 11000/17578 [23:00<12:53,  8.50it/s]\u001b[32m2024-12-02 15:46:26.715\u001b[0m | \u001b[1mINFO    \u001b[0m | \u001b[36m__main__\u001b[0m:\u001b[36m<module>\u001b[0m:\u001b[36m30\u001b[0m - \u001b[1m150, Epoch 4, current score: 435986.46875\u001b[0m\n",
      "Processing Audio:  65%|██████▌   | 11500/17578 [24:02<14:04,  7.20it/s]\u001b[32m2024-12-02 15:47:28.438\u001b[0m | \u001b[1mINFO    \u001b[0m | \u001b[36m__main__\u001b[0m:\u001b[36m<module>\u001b[0m:\u001b[36m30\u001b[0m - \u001b[1m150, Epoch 4, current score: 522627.84375\u001b[0m\n",
      "Processing Audio:  68%|██████▊   | 12000/17578 [25:05<11:41,  7.96it/s]\u001b[32m2024-12-02 15:48:31.593\u001b[0m | \u001b[1mINFO    \u001b[0m | \u001b[36m__main__\u001b[0m:\u001b[36m<module>\u001b[0m:\u001b[36m30\u001b[0m - \u001b[1m150, Epoch 4, current score: 556029.6875\u001b[0m\n",
      "Processing Audio:  71%|███████   | 12500/17578 [26:07<10:36,  7.98it/s]\u001b[32m2024-12-02 15:49:33.416\u001b[0m | \u001b[1mINFO    \u001b[0m | \u001b[36m__main__\u001b[0m:\u001b[36m<module>\u001b[0m:\u001b[36m30\u001b[0m - \u001b[1m150, Epoch 4, current score: 514760.125\u001b[0m\n",
      "Processing Audio:  74%|███████▍  | 13000/17578 [27:23<09:26,  8.08it/s]\u001b[32m2024-12-02 15:50:49.696\u001b[0m | \u001b[1mINFO    \u001b[0m | \u001b[36m__main__\u001b[0m:\u001b[36m<module>\u001b[0m:\u001b[36m30\u001b[0m - \u001b[1m150, Epoch 4, current score: 513181.375\u001b[0m\n",
      "Processing Audio:  75%|███████▍  | 13173/17578 [27:45<09:10,  8.00it/s]"
     ]
    }
   ],
   "source": [
    "logger.add(\n",
    "    f\"kmeans.log\", rotation=\"5 MB\", retention=\"7 days\", level=\"DEBUG\"\n",
    ")  # Save to a file with rotation\n",
    "\n",
    "\n",
    "# for n_clusters in [50, 100, 150]:\n",
    "for n_clusters in [150]:\n",
    "    # for n_clusters in [50]:\n",
    "    args.n_clusters = n_clusters\n",
    "    kmeans_model = get_kmeans_model(args)\n",
    "    n_epochs = 10\n",
    "    best_score = 100000000000000000\n",
    "    tol = 0\n",
    "\n",
    "    with torch.no_grad():\n",
    "        for e in range(n_epochs):\n",
    "            for i, batch in enumerate(tqdm(dataloader, desc=\"Processing Audio\")):\n",
    "                waveform = batch['waveform']\n",
    "                \n",
    "                outputs = model(waveform.cuda(1), attention_mask=batch['attention_mask'].cuda(1))\n",
    "                last_hidden_states = outputs.last_hidden_state.cpu().numpy() # [batch, frames, features]\n",
    "                middle_res = []\n",
    "                for j, x in enumerate(last_hidden_states):\n",
    "                    length = batch['attention_mask'][j].sum() // 320\n",
    "                    middle_res.append(last_hidden_states[j, :length])\n",
    "                middle_res = np.concatenate(middle_res)\n",
    "                kmeans_model.partial_fit(middle_res)\n",
    "                score = -kmeans_model.score(x) / len(x)\n",
    "                if i % 500 == 0:\n",
    "                    logger.info(\n",
    "                        f\"{n_clusters}, Epoch {e}, current score: {kmeans_model.inertia_}\"\n",
    "                    )\n",
    "\n",
    "            val_score = validate_kmeans(kmeans_model, val_feat, metric=\"inertia\")\n",
    "            logger.info(f\"{n_clusters}, Epoch {e}, val score: {val_score}\")\n",
    "\n",
    "            if val_score < best_score:\n",
    "                best_score = val_score\n",
    "                tol = 0\n",
    "                joblib.dump(\n",
    "                    kmeans_model,\n",
    "                    os.path.join(dataset_root_path, f\"kmeans_model-{n_clusters}.pkl\"),\n",
    "                )\n",
    "            else:\n",
    "                tol += 1\n",
    "                if tol >= 2:\n",
    "                    break"
   ]
  },
  {
   "cell_type": "markdown",
   "id": "ff281116",
   "metadata": {},
   "source": [
    "# Evaluate Kmeans model\n"
   ]
  },
  {
   "cell_type": "markdown",
   "id": "1154ab06",
   "metadata": {},
   "source": [
    "## Alignment of Kmeans and phonemes\n"
   ]
  },
  {
   "cell_type": "code",
   "execution_count": 27,
   "id": "d2b76bc4-c5bb-4d76-88bb-5d4be079cef6",
   "metadata": {},
   "outputs": [
    {
     "name": "stderr",
     "output_type": "stream",
     "text": [
      "/home/ay/anaconda3/envs/torch/lib/python3.9/site-packages/huggingface_hub/file_download.py:1132: FutureWarning: `resume_download` is deprecated and will be removed in version 1.0.0. Downloads always resume when possible. If you want to force a new download, use `force_download=True`.\n",
      "  warnings.warn(\n",
      "Some weights of the model checkpoint at speech31/XLS-R-english-phoneme were not used when initializing Wav2Vec2ForCTC: ['wav2vec2.encoder.pos_conv_embed.conv.weight_g', 'wav2vec2.encoder.pos_conv_embed.conv.weight_v']\n",
      "- This IS expected if you are initializing Wav2Vec2ForCTC from the checkpoint of a model trained on another task or with another architecture (e.g. initializing a BertForSequenceClassification model from a BertForPreTraining model).\n",
      "- This IS NOT expected if you are initializing Wav2Vec2ForCTC from the checkpoint of a model that you expect to be exactly identical (initializing a BertForSequenceClassification model from a BertForSequenceClassification model).\n",
      "Some weights of Wav2Vec2ForCTC were not initialized from the model checkpoint at speech31/XLS-R-english-phoneme and are newly initialized: ['wav2vec2.encoder.pos_conv_embed.conv.parametrizations.weight.original0', 'wav2vec2.encoder.pos_conv_embed.conv.parametrizations.weight.original1']\n",
      "You should probably TRAIN this model on a down-stream task to be able to use it for predictions and inference.\n"
     ]
    }
   ],
   "source": [
    "from transformers import AutoProcessor, AutoModelForCTC\n",
    "from transformers import WavLMModel, Wav2Vec2FeatureExtractor, AutoFeatureExtractor\n",
    "\n",
    "processor = AutoProcessor.from_pretrained(\"speech31/XLS-R-english-phoneme\")\n",
    "model = AutoModelForCTC.from_pretrained(\"speech31/XLS-R-english-phoneme\")"
   ]
  },
  {
   "cell_type": "code",
   "execution_count": 28,
   "id": "1f9cc7cc",
   "metadata": {},
   "outputs": [],
   "source": [
    "wavlm_feature_extractor = AutoFeatureExtractor.from_pretrained(\"microsoft/wavlm-base\")"
   ]
  },
  {
   "cell_type": "code",
   "execution_count": null,
   "id": "0dc07a74",
   "metadata": {},
   "outputs": [],
   "source": [
    "def pad_audio_with_max_length(list_audio):\n",
    "    \n",
    "    # Get the maximum length of the waveforms in the batch\n",
    "    max_length = max(waveform.shape[-1] for waveform in list_audio)\n",
    "\n",
    "    # Pad the waveforms and create a tensor for the batch\n",
    "    padded_waveforms = []\n",
    "\n",
    "    for i, waveform in enumerate(list_audio):\n",
    "        # Pad the waveform with zeros\n",
    "        print(len(list_audio), i, max_length, waveform.shape)\n",
    "        padded_waveform = torch.nn.functional.pad(\n",
    "            torch.from_numpy(waveform), (0, max_length - waveform.shape[1])\n",
    "        )\n",
    "\n",
    "    # Stack the waveforms into a single tensor\n",
    "    return torch.stack(padded_waveforms)"
   ]
  },
  {
   "cell_type": "code",
   "execution_count": 54,
   "id": "c5c8e9ea",
   "metadata": {},
   "outputs": [],
   "source": [
    "def prepare_dataset(feature_extractor):\n",
    "\n",
    "    def return_collate_fn(batch):\n",
    "        res = {}\n",
    "        model_input_name = feature_extractor.model_input_names[0]\n",
    "\n",
    "\n",
    "        waveform = [item[0][0].numpy() for item in batch]\n",
    "        inputs = feature_extractor(\n",
    "            waveform,\n",
    "            sampling_rate=16000,\n",
    "            return_attention_mask=True,\n",
    "            padding=True,\n",
    "            return_tensors=\"pt\",\n",
    "        )\n",
    "        print(inputs.get(model_input_name).shape)\n",
    "        \n",
    "        res['org_waveform'] = torch.nn.utils.rnn.pad_sequence([item[0][0] for item in batch], batch_first=True)\n",
    "\n",
    "        res[model_input_name] = inputs.get(model_input_name)\n",
    "        res[\"attention_mask\"] = inputs.get(\"attention_mask\")\n",
    "        return res\n",
    "\n",
    "    return return_collate_fn"
   ]
  },
  {
   "cell_type": "code",
   "execution_count": 55,
   "id": "a400b7c3",
   "metadata": {},
   "outputs": [],
   "source": [
    "dataloader = load_librispeech_dataset(\n",
    "    dataset_root_path,\n",
    "    split=\"train\",\n",
    "    percentage=0.5,\n",
    "    num_workers=4,\n",
    "    collate_fn=prepare_dataset(processor.feature_extractor),\n",
    ")\n",
    "ds = dataloader.dataset"
   ]
  },
  {
   "cell_type": "code",
   "execution_count": 56,
   "id": "ed4682be",
   "metadata": {},
   "outputs": [
    {
     "name": "stdout",
     "output_type": "stream",
     "text": [
      "torch.Size([32, 260880])\n",
      "torch.Size([32, 270321])\n",
      "torch.Size([32, 264080])\n",
      "torch.Size([32, 267600])\n",
      "torch.Size([32, 259840])\n",
      "torch.Size([32, 271040])\n",
      "torch.Size([32, 262720])\n",
      "torch.Size([32, 266560])\n",
      "torch.Size([32, 263040])\n"
     ]
    }
   ],
   "source": [
    "for x in dataloader:\n",
    "    with torch.no_grad():\n",
    "        batch_res = model(x[\"input_values\"], attention_mask=x[\"attention_mask\"], output_hidden_states=True)\n",
    "        logits = batch_res.logits\n",
    "        phoneme_ids = torch.argmax(logits, dim=-1)\n",
    "    break"
   ]
  },
  {
   "cell_type": "code",
   "execution_count": 62,
   "id": "e7e93723",
   "metadata": {},
   "outputs": [
    {
     "name": "stdout",
     "output_type": "stream",
     "text": [
      "Key: org_waveform, Value: torch.Size([32, 260880]), Value Type: <class 'torch.Tensor'>\n",
      "Key: input_values, Value: torch.Size([32, 260880]), Value Type: <class 'torch.Tensor'>\n",
      "Key: attention_mask, Value: torch.Size([32, 260880]), Value Type: <class 'torch.Tensor'>\n"
     ]
    }
   ],
   "source": [
    "for key, value in x.items():\n",
    "    print(f\"Key: {key}, Value: {value.shape}, Value Type: {type(value)}\")"
   ]
  },
  {
   "cell_type": "code",
   "execution_count": 22,
   "id": "670b6c7f",
   "metadata": {},
   "outputs": [],
   "source": [
    "from kmeans_model import KMeansTokenizer, CustomSpeechEncoder"
   ]
  },
  {
   "cell_type": "code",
   "execution_count": 23,
   "id": "ca7ed0be",
   "metadata": {},
   "outputs": [
    {
     "name": "stderr",
     "output_type": "stream",
     "text": [
      "/home/ay/anaconda3/envs/torch/lib/python3.9/site-packages/huggingface_hub/file_download.py:1132: FutureWarning: `resume_download` is deprecated and will be removed in version 1.0.0. Downloads always resume when possible. If you want to force a new download, use `force_download=True`.\n",
      "  warnings.warn(\n",
      "Some weights of the model checkpoint at microsoft/wavlm-base were not used when initializing WavLMModel: ['encoder.pos_conv_embed.conv.weight_g', 'encoder.pos_conv_embed.conv.weight_v']\n",
      "- This IS expected if you are initializing WavLMModel from the checkpoint of a model trained on another task or with another architecture (e.g. initializing a BertForSequenceClassification model from a BertForPreTraining model).\n",
      "- This IS NOT expected if you are initializing WavLMModel from the checkpoint of a model that you expect to be exactly identical (initializing a BertForSequenceClassification model from a BertForSequenceClassification model).\n",
      "Some weights of WavLMModel were not initialized from the model checkpoint at microsoft/wavlm-base and are newly initialized: ['encoder.pos_conv_embed.conv.parametrizations.weight.original0', 'encoder.pos_conv_embed.conv.parametrizations.weight.original1']\n",
      "You should probably TRAIN this model on a down-stream task to be able to use it for predictions and inference.\n"
     ]
    }
   ],
   "source": [
    "encoder = CustomSpeechEncoder(vocab_size=150)"
   ]
  },
  {
   "cell_type": "code",
   "execution_count": null,
   "id": "1143e482",
   "metadata": {},
   "outputs": [
    {
     "name": "stderr",
     "output_type": "stream",
     "text": [
      "/home/ay/anaconda3/envs/torch/lib/python3.9/site-packages/torch/nn/functional.py:5076: UserWarning: Support for mismatched key_padding_mask and attn_mask is deprecated. Use same type for both instead.\n",
      "  warnings.warn(\n"
     ]
    }
   ],
   "source": [
    "a = encoder.encode_speech(x['org_waveform'], attention_mask=x['attention_mask'])['original_units']\n",
    "b = encoder.encode_speech(x['org_waveform'])['original_units']\n",
    "a - b"
   ]
  },
  {
   "cell_type": "code",
   "execution_count": 71,
   "id": "96fa0e29",
   "metadata": {},
   "outputs": [
    {
     "data": {
      "text/plain": [
       "tensor([1, 1, 1,  ..., 0, 0, 0], dtype=torch.int32)"
      ]
     },
     "execution_count": 71,
     "metadata": {},
     "output_type": "execute_result"
    }
   ],
   "source": [
    "x['attention_mask'][0]"
   ]
  }
 ],
 "metadata": {
  "kernelspec": {
   "display_name": "torch",
   "language": "python",
   "name": "python3"
  },
  "language_info": {
   "codemirror_mode": {
    "name": "ipython",
    "version": 3
   },
   "file_extension": ".py",
   "mimetype": "text/x-python",
   "name": "python",
   "nbconvert_exporter": "python",
   "pygments_lexer": "ipython3",
   "version": "3.9.18"
  }
 },
 "nbformat": 4,
 "nbformat_minor": 5
}
