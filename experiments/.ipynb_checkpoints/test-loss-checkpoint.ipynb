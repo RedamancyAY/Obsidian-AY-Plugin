{
 "cells": [
  {
   "cell_type": "code",
   "execution_count": 31,
   "id": "ec5fb2a0-7ece-4174-9cf5-f1b7b1910aaf",
   "metadata": {
    "execution": {
     "iopub.execute_input": "2024-07-18T07:24:26.330020Z",
     "iopub.status.busy": "2024-07-18T07:24:26.328909Z",
     "iopub.status.idle": "2024-07-18T07:24:26.351160Z",
     "shell.execute_reply": "2024-07-18T07:24:26.349124Z",
     "shell.execute_reply.started": "2024-07-18T07:24:26.329945Z"
    }
   },
   "outputs": [],
   "source": [
    "pred = [\n",
    "    \"en-f\",\n",
    "    \"en-ɛ\",\n",
    "    \"en-s\",\n",
    "    \"en-t\",\n",
    "    \"en-ɪ\",\n",
    "    \"en-v\",\n",
    "    \"<unk>\",\n",
    "    \"|\",\n",
    "    \"en-ɹ\",\n",
    "    \"<unk>\",\n",
    "    \"en-p\",\n",
    "    \"en-ʌ\",\n",
    "    \"en-b\",\n",
    "    \"en-l\",\n",
    "    \"en-ɪ\",\n",
    "    \"en-k\",\n",
    "    \"en-z\",\n",
    "    \"|\",\n",
    "    \"en-f\",\n",
    "    \"en-l\",\n",
    "    \"en-æ\",\n",
    "    \"en-ɡ\",\n",
    "    \"en-ʃ\",\n",
    "    \"en-ɪ\",\n",
    "    \"en-p\",\n",
    "    \"|\",\n",
    "    \"<unk>\",\n",
    "    \"en-v\",\n",
    "    \"en-ɛ\",\n",
    "    \"en-n\",\n",
    "    \"en-t\",\n",
    "    \"en-s\",\n",
    "    \"|\",\n",
    "    \"<unk>\",\n",
    "    \"|\",\n",
    "    \"en-ð\",\n",
    "    \"en-ə\",\n",
    "    \"|\",\n",
    "    \"en-ɹ\",\n",
    "    \"en-iː\",\n",
    "    \"en-d\",\n",
    "    \"en-ɪ\",\n",
    "    \"en-ŋ\",\n",
    "    \"|\",\n",
    "    \"en-æ\",\n",
    "    \"en-n\",\n",
    "    \"en-d\",\n",
    "    \"|\",\n",
    "    \"en-l\",\n",
    "    \"en-iː\",\n",
    "    \"en-d\",\n",
    "    \"en-z\",\n",
    "    \"|\",\n",
    "    \"en-f\",\n",
    "    \"en-ɛ\",\n",
    "    \"en-s\",\n",
    "    \"en-t\",\n",
    "    \"en-ɪ\",\n",
    "    \"en-v\",\n",
    "    \"<unk>\",\n",
    "    \"en-z\",\n",
    "    \"|\",\n",
    "]\n",
    "target = [\n",
    "    \"en-ɹ\",\n",
    "    \"<unk>\",\n",
    "    \"en-t\",\n",
    "    \"|\",\n",
    "    \"en-p\",\n",
    "    \"en-ə\",\n",
    "    \"en-l\",\n",
    "    \"en-iː\",\n",
    "    \"en-s\",\n",
    "    \"|\",\n",
    "    \"en-ð\",\n",
    "    \"en-ɛ\",\n",
    "    \"en-n\",\n",
    "    \"|\",\n",
    "    \"en-f\",\n",
    "    \"<unk>\",\n",
    "    \"en-d\",\n",
    "    \"|\",\n",
    "    \"en-ɪ\",\n",
    "    \"en-n\",\n",
    "    \"en-t\",\n",
    "    \"en-ʊ\",\n",
    "    \"|\",\n",
    "    \"en-ð\",\n",
    "    \"en-ə\",\n",
    "    \"|\",\n",
    "    \"en-k\",\n",
    "    \"en-ɹ\",\n",
    "    \"en-aʊ\",\n",
    "    \"en-d\",\n",
    "    \"|\",\n",
    "    \"en-k\",\n",
    "    \"en-ɪ\",\n",
    "    \"en-l\",\n",
    "    \"en-ɪ\",\n",
    "    \"en-ŋ\",\n",
    "    \"|\",\n",
    "    \"en-t\",\n",
    "    \"en-uː\",\n",
    "    \"|\",\n",
    "    \"en-p\",\n",
    "    \"en-ɹ\",\n",
    "    \"en-ə\",\n",
    "    \"en-t\",\n",
    "    \"en-ɛ\",\n",
    "    \"en-s\",\n",
    "    \"en-t\",\n",
    "    \"en-ɚ\",\n",
    "    \"en-z\",\n",
    "    \"|\",\n",
    "]"
   ]
  },
  {
   "cell_type": "code",
   "execution_count": 32,
   "id": "540f2bcc-9c04-453e-b6b6-efd21aacc396",
   "metadata": {
    "execution": {
     "iopub.execute_input": "2024-07-18T07:24:27.805524Z",
     "iopub.status.busy": "2024-07-18T07:24:27.804920Z",
     "iopub.status.idle": "2024-07-18T07:24:27.815068Z",
     "shell.execute_reply": "2024-07-18T07:24:27.813056Z",
     "shell.execute_reply.started": "2024-07-18T07:24:27.805461Z"
    }
   },
   "outputs": [],
   "source": [
    "from argparse import Namespace\n",
    "\n",
    "import torch\n",
    "import torch.nn as nn\n",
    "import torch.nn.functional as F\n",
    "from pytorch_lightning import LightningModule\n",
    "from torch.optim.lr_scheduler import MultiStepLR, ReduceLROnPlateau"
   ]
  },
  {
   "cell_type": "code",
   "execution_count": 38,
   "id": "6250c566-e61d-492b-8b57-1fc757483089",
   "metadata": {
    "execution": {
     "iopub.execute_input": "2024-07-18T07:24:36.509225Z",
     "iopub.status.busy": "2024-07-18T07:24:36.508630Z",
     "iopub.status.idle": "2024-07-18T07:24:36.517415Z",
     "shell.execute_reply": "2024-07-18T07:24:36.515433Z",
     "shell.execute_reply.started": "2024-07-18T07:24:36.509165Z"
    }
   },
   "outputs": [],
   "source": []
  },
  {
   "cell_type": "code",
   "execution_count": 42,
   "id": "0ba0399e-bf3a-4192-b5f5-4c12ff108bb7",
   "metadata": {
    "execution": {
     "iopub.execute_input": "2024-07-18T07:24:39.862904Z",
     "iopub.status.busy": "2024-07-18T07:24:39.862305Z",
     "iopub.status.idle": "2024-07-18T07:24:39.877876Z",
     "shell.execute_reply": "2024-07-18T07:24:39.876236Z",
     "shell.execute_reply.started": "2024-07-18T07:24:39.862843Z"
    }
   },
   "outputs": [],
   "source": [
    "B = 5\n",
    "logits = torch.randn(160, B, 200)\n",
    "logits[:, :, 0] = logits[:, :, 0] * 100\n",
    "logits = F.log_softmax(logits, dim=-1)\n",
    "targets = torch.randint(0, 200, (B, 160))\n",
    "input_length = torch.randint(0, 160, (B,))\n",
    "output_length = torch.randint(0, 30, (B,))"
   ]
  },
  {
   "cell_type": "code",
   "execution_count": 44,
   "id": "28e5b55f-974c-406b-bb25-633c861508f0",
   "metadata": {
    "execution": {
     "iopub.execute_input": "2024-07-18T07:24:41.293371Z",
     "iopub.status.busy": "2024-07-18T07:24:41.292772Z",
     "iopub.status.idle": "2024-07-18T07:24:41.305168Z",
     "shell.execute_reply": "2024-07-18T07:24:41.303527Z",
     "shell.execute_reply.started": "2024-07-18T07:24:41.293311Z"
    }
   },
   "outputs": [
    {
     "data": {
      "text/plain": [
       "tensor(294.9094)"
      ]
     },
     "execution_count": 44,
     "metadata": {},
     "output_type": "execute_result"
    }
   ],
   "source": [
    "loss(logits, targets, input_length, output_length)"
   ]
  },
  {
   "cell_type": "code",
   "execution_count": 107,
   "id": "6be9a1fd-3bfe-4525-98ca-fcfe4cc7a1cd",
   "metadata": {
    "execution": {
     "iopub.execute_input": "2024-07-18T10:20:37.129741Z",
     "iopub.status.busy": "2024-07-18T10:20:37.129124Z",
     "iopub.status.idle": "2024-07-18T10:20:37.321987Z",
     "shell.execute_reply": "2024-07-18T10:20:37.321237Z",
     "shell.execute_reply.started": "2024-07-18T10:20:37.129677Z"
    }
   },
   "outputs": [],
   "source": [
    "data = torch.load('/home/ay/data/DATA/1-model_save/01-phoneme/phoneme_recongition/version_74/0.pt')"
   ]
  },
  {
   "cell_type": "code",
   "execution_count": 116,
   "id": "22f36665-53e5-4273-9c66-ff89326fadf4",
   "metadata": {
    "execution": {
     "iopub.execute_input": "2024-07-18T10:21:05.430187Z",
     "iopub.status.busy": "2024-07-18T10:21:05.429549Z",
     "iopub.status.idle": "2024-07-18T10:21:05.438946Z",
     "shell.execute_reply": "2024-07-18T10:21:05.437356Z",
     "shell.execute_reply.started": "2024-07-18T10:21:05.430125Z"
    }
   },
   "outputs": [],
   "source": [
    "log_probs = data['log_porbs']\n",
    "input_lengths = data['input_lengths']\n",
    "target_lengths = data['target_length']\n",
    "targets = data['targets']\n",
    "audio_length = data['audio_length']"
   ]
  },
  {
   "cell_type": "code",
   "execution_count": 117,
   "id": "6e8b2af3-5e78-40c9-b84e-8e8f0153c906",
   "metadata": {
    "execution": {
     "iopub.execute_input": "2024-07-18T10:21:06.657870Z",
     "iopub.status.busy": "2024-07-18T10:21:06.657251Z",
     "iopub.status.idle": "2024-07-18T10:21:06.683114Z",
     "shell.execute_reply": "2024-07-18T10:21:06.681609Z",
     "shell.execute_reply.started": "2024-07-18T10:21:06.657806Z"
    },
    "scrolled": true
   },
   "outputs": [
    {
     "name": "stdout",
     "output_type": "stream",
     "text": [
      "tensor(0.4003, device='cuda:2')\n",
      "tensor(-0.4574, device='cuda:2')\n",
      "tensor(0.1128, device='cuda:2')\n",
      "tensor(0.2130, device='cuda:2')\n",
      "tensor(0.7346, device='cuda:2')\n",
      "tensor(-0.5153, device='cuda:2')\n",
      "tensor(-0.2153, device='cuda:2')\n",
      "tensor(-0.4968, device='cuda:2')\n"
     ]
    }
   ],
   "source": [
    "loss = nn.CTCLoss(blank=0)\n",
    "for i in range(len(input_lengths)):\n",
    "    _l = loss(log_probs[:, i:i+1], targets[i:i+1], input_lengths[i:i+1], target_lengths[i:i+1])\n",
    "    print(_l)"
   ]
  },
  {
   "cell_type": "code",
   "execution_count": 129,
   "id": "c3da52e2-0767-49b4-8bcd-062e27ef4b6f",
   "metadata": {
    "execution": {
     "iopub.execute_input": "2024-07-18T10:22:59.757809Z",
     "iopub.status.busy": "2024-07-18T10:22:59.757190Z",
     "iopub.status.idle": "2024-07-18T10:22:59.771456Z",
     "shell.execute_reply": "2024-07-18T10:22:59.769948Z",
     "shell.execute_reply.started": "2024-07-18T10:22:59.757746Z"
    }
   },
   "outputs": [
    {
     "data": {
      "text/plain": [
       "tensor(3.0257, device='cuda:2')"
      ]
     },
     "execution_count": 129,
     "metadata": {},
     "output_type": "execute_result"
    }
   ],
   "source": [
    "i = 1\n",
    "loss(log_probs[:, i:i+1], targets[i:i+1], torch.tensor([80]), target_lengths[i:i+1])"
   ]
  },
  {
   "cell_type": "code",
   "execution_count": 139,
   "id": "4d3dbba0-c010-4f3b-9020-6e754ed0a387",
   "metadata": {
    "execution": {
     "iopub.execute_input": "2024-07-18T10:25:30.335959Z",
     "iopub.status.busy": "2024-07-18T10:25:30.335258Z",
     "iopub.status.idle": "2024-07-18T10:25:30.365611Z",
     "shell.execute_reply": "2024-07-18T10:25:30.364027Z",
     "shell.execute_reply.started": "2024-07-18T10:25:30.335892Z"
    },
    "scrolled": true
   },
   "outputs": [
    {
     "data": {
      "text/plain": [
       "(tensor([[-4.1560e+00, -9.4179e+00, -9.4190e+00,  ..., -9.6548e+00,\n",
       "          -9.4816e+00, -5.9726e+00],\n",
       "         [-5.0077e+00, -9.4733e+00, -9.4324e+00,  ..., -9.3281e+00,\n",
       "          -9.5482e+00, -5.2713e+00],\n",
       "         [-8.3165e-02, -1.3876e+01, -1.3920e+01,  ..., -1.3644e+01,\n",
       "          -1.3521e+01, -7.5303e+00],\n",
       "         ...,\n",
       "         [-4.9781e-04, -2.0664e+01, -2.0877e+01,  ..., -2.0595e+01,\n",
       "          -2.0376e+01, -1.3958e+01],\n",
       "         [-4.8649e-04, -2.0702e+01, -2.0918e+01,  ..., -2.0635e+01,\n",
       "          -2.0413e+01, -1.3971e+01],\n",
       "         [-4.5539e-04, -2.0784e+01, -2.1004e+01,  ..., -2.0722e+01,\n",
       "          -2.0489e+01, -1.4028e+01]], device='cuda:2'),\n",
       " tensor([156, 165,   0,   0,   0,   0,   0,   0,   0,   0,   0,   0,   0,   0,\n",
       "           0,   0,   0,   0,   0,   0,   0,   0,   0,   0,   0,   0,   0,   0,\n",
       "           0,   0,   0, 147, 186, 155,   0,   0,   0, 173, 148,   0,   0,   0,\n",
       "           0,   0,   0,   0,   0,   0,   0, 140, 187,   0,   0,   0,   0, 141,\n",
       "         173, 151,   0,   0,   0,   0,   0,   0,   0,   0,   0,   0,   0,   0,\n",
       "           0,   0,   0,   0,   0, 152, 167,   0,   0,   0,   0,   0,   0,   0,\n",
       "           0, 146, 146, 187,   0, 197,   0,   0, 173, 173, 148,   0,   0,   0,\n",
       "           0,   0,   0,   0,   0,   0,   0,   0,   0, 152, 187, 187, 181,   0,\n",
       "           0,   0,   0,   0,   0,   0,   0,   0,   0,   0,   0,   0,   0,   0,\n",
       "           0,   0,   0,   0,   0,   0,   0,   0,   0,   0], device='cuda:2'),\n",
       " tensor([156, 165,   0, 147, 186, 155, 173, 148,   0, 140, 187, 141, 173, 151,\n",
       "           0, 152, 167,   3,   0, 158, 146, 187, 197, 173, 148,   0, 152, 187,\n",
       "         181,   0,   0], device='cuda:2'),\n",
       " tensor(136),\n",
       " tensor(30, device='cuda:2'))"
      ]
     },
     "execution_count": 139,
     "metadata": {},
     "output_type": "execute_result"
    }
   ],
   "source": [
    "i = 5\n",
    "log_probs[:, i, :],  torch.argmax(log_probs[:, i, :], dim=-1)[:input_lengths[i]], targets[i], input_lengths[i], target_lengths[i]"
   ]
  },
  {
   "cell_type": "code",
   "execution_count": null,
   "id": "d655ab78-86d7-4f04-a217-4d5eee79256f",
   "metadata": {},
   "outputs": [],
   "source": []
  },
  {
   "cell_type": "code",
   "execution_count": 79,
   "id": "b077d5b0-f75a-4f72-8a32-061cc04d7f29",
   "metadata": {
    "execution": {
     "iopub.execute_input": "2024-07-18T08:46:37.667470Z",
     "iopub.status.busy": "2024-07-18T08:46:37.666764Z",
     "iopub.status.idle": "2024-07-18T08:46:37.685352Z",
     "shell.execute_reply": "2024-07-18T08:46:37.683634Z",
     "shell.execute_reply.started": "2024-07-18T08:46:37.667406Z"
    }
   },
   "outputs": [
    {
     "name": "stdout",
     "output_type": "stream",
     "text": [
      "tensor(5.6668, grad_fn=<MeanBackward0>)\n"
     ]
    }
   ],
   "source": [
    "log_probs = torch.randn(50, 16, 20).log_softmax(2).detach().requires_grad_()\n",
    "targets = torch.randint(1, 20, (16, 30), dtype=torch.long)\n",
    "input_lengths = torch.full((16,), 50, dtype=torch.long)\n",
    "target_lengths = torch.randint(10, 30, (16,), dtype=torch.long)\n",
    "loss = F.ctc_loss(log_probs, targets, input_lengths, target_lengths)\n",
    "print(loss)\n",
    "loss.backward()"
   ]
  },
  {
   "cell_type": "code",
   "execution_count": null,
   "id": "ac04c272-d79c-467d-bd00-b81a1464daad",
   "metadata": {},
   "outputs": [],
   "source": []
  }
 ],
 "metadata": {
  "kernelspec": {
   "display_name": "Python 3 (ipykernel)",
   "language": "python",
   "name": "python3"
  },
  "language_info": {
   "codemirror_mode": {
    "name": "ipython",
    "version": 3
   },
   "file_extension": ".py",
   "mimetype": "text/x-python",
   "name": "python",
   "nbconvert_exporter": "python",
   "pygments_lexer": "ipython3",
   "version": "3.9.18"
  }
 },
 "nbformat": 4,
 "nbformat_minor": 5
}
