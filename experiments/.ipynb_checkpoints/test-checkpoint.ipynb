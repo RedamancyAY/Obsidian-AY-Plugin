{
 "cells": [
  {
   "cell_type": "code",
   "execution_count": 2,
   "id": "7ce25823-efaf-42ef-8b03-4514d4fefae4",
   "metadata": {
    "execution": {
     "iopub.execute_input": "2024-07-11T08:34:26.303302Z",
     "iopub.status.busy": "2024-07-11T08:34:26.303015Z",
     "iopub.status.idle": "2024-07-11T08:34:26.328646Z",
     "shell.execute_reply": "2024-07-11T08:34:26.326711Z",
     "shell.execute_reply.started": "2024-07-11T08:34:26.303279Z"
    }
   },
   "outputs": [],
   "source": [
    "%load_ext autoreload\n",
    "%autoreload 2"
   ]
  },
  {
   "cell_type": "code",
   "execution_count": 3,
   "id": "6a80039f-8d32-45ab-b949-7a4f044b238b",
   "metadata": {
    "execution": {
     "iopub.execute_input": "2024-07-11T08:34:27.124480Z",
     "iopub.status.busy": "2024-07-11T08:34:27.123855Z",
     "iopub.status.idle": "2024-07-11T08:34:28.798030Z",
     "shell.execute_reply": "2024-07-11T08:34:28.796796Z",
     "shell.execute_reply.started": "2024-07-11T08:34:27.124421Z"
    }
   },
   "outputs": [],
   "source": [
    "import torch\n",
    "import torchaudio\n",
    "\n",
    "path = \"/home/ay/data/0-原始数据集/common_voice_11_0/audio_16k/en/en_dev_0/common_voice_en_24638569.wav\"\n",
    "path = \"/home/ay/data/0-原始数据集/common_voice_11_0/audio_16k/en/en_train_19/common_voice_en_24067353.wav\"\n",
    "path = \"/home/ay/data/0-原始数据集/common_voice_11_0/audio_16k/en/en_train_19/common_voice_en_25367443.wav\"\n",
    "path = \"/home/ay/data/0-原始数据集/common_voice_11_0/audio_16k/en/en_invalidated_0/common_voice_en_480200.wav\"\n",
    "x, _ = torchaudio.load(path)"
   ]
  },
  {
   "cell_type": "code",
   "execution_count": null,
   "id": "2213d919-95c5-4dfe-b349-04296f1e0db5",
   "metadata": {},
   "outputs": [],
   "source": [
    "x.shape"
   ]
  },
  {
   "cell_type": "code",
   "execution_count": null,
   "id": "b251eb2f-6177-47ff-965d-6a71d4172de7",
   "metadata": {},
   "outputs": [],
   "source": [
    "from IPython.display import Audio"
   ]
  },
  {
   "cell_type": "code",
   "execution_count": null,
   "id": "cf4acf07-b81f-4f73-a920-a517101818ff",
   "metadata": {},
   "outputs": [],
   "source": [
    "Audio(filename=path)"
   ]
  },
  {
   "cell_type": "code",
   "execution_count": null,
   "id": "7fbaa013-19b2-46e0-8ebf-3416e8696bfd",
   "metadata": {},
   "outputs": [],
   "source": [
    "from callback import LogMetricsCallback"
   ]
  },
  {
   "cell_type": "code",
   "execution_count": null,
   "id": "ac6794ae-0f8f-4c5d-bd3f-c21f3acb0f19",
   "metadata": {},
   "outputs": [],
   "source": [
    "LogMetricsCallback()"
   ]
  },
  {
   "cell_type": "code",
   "execution_count": 4,
   "id": "8c65c730-179a-4b10-939c-134eb1ffda39",
   "metadata": {
    "execution": {
     "iopub.execute_input": "2024-07-11T08:34:29.721364Z",
     "iopub.status.busy": "2024-07-11T08:34:29.720365Z",
     "iopub.status.idle": "2024-07-11T08:34:29.743747Z",
     "shell.execute_reply": "2024-07-11T08:34:29.742823Z",
     "shell.execute_reply.started": "2024-07-11T08:34:29.721320Z"
    }
   },
   "outputs": [],
   "source": [
    "preds = [\n",
    "    \"|\",\n",
    "    \"p\",\n",
    "    \"oː\",\n",
    "    \"l\",\n",
    "    \"iː\",\n",
    "    \"t\",\n",
    "    \"ɪ\",\n",
    "    \"ʃ\",\n",
    "    \"ə\",\n",
    "    \"|\",\n",
    "    \"ts\",\n",
    "    \"uː\",\n",
    "    \"z\",\n",
    "    \"ɪ\",\n",
    "    \"ç\",\n",
    "    \"ə\",\n",
    "    \"<unk>\",\n",
    "    \"ʊ\",\n",
    "    \"ŋ\",\n",
    "    \"ə\",\n",
    "    \"n\",\n",
    "    \"|\",\n",
    "    \"ʊ\",\n",
    "    \"n\",\n",
    "    \"t\",\n",
    "    \"|\",\n",
    "    \"aɪ\",\n",
    "    \"n\",\n",
    "]\n",
    "\n",
    "targets = [\n",
    "    \"f\",\n",
    "    \"ɛ\",\n",
    "    \"<unk>\",\n",
    "    \"ʃ\",\n",
    "    \"iː\",\n",
    "    \"d\",\n",
    "    \"ə\",\n",
    "    \"n\",\n",
    "    \"ə\",\n",
    "    \"|\",\n",
    "    \"p\",\n",
    "    \"oː\",\n",
    "    \"l\",\n",
    "    \"iː\",\n",
    "    \"t\",\n",
    "    \"ɪ\",\n",
    "    \"ʃ\",\n",
    "    \"ə\",\n",
    "    \"|\",\n",
    "    \"ts\",\n",
    "    \"uː\",\n",
    "    \"z\",\n",
    "    \"ɪ\",\n",
    "    \"ç\",\n",
    "    \"ə\",\n",
    "    \"<unk>\",\n",
    "    \"ʊ\",\n",
    "    \"ŋ\",\n",
    "    \"ə\",\n",
    "    \"n\",\n",
    "    \"|\",\n",
    "    \"ʊ\",\n",
    "    \"n\",\n",
    "    \"t\",\n",
    "    \"|\",\n",
    "    \"aɪ\",\n",
    "    \"n\",\n",
    "    \"ə\",\n",
    "    \"|\",\n",
    "    \"v\",\n",
    "    \"oː\",\n",
    "    \"l\",\n",
    "    \"|\",\n",
    "    \"n\",\n",
    "    \"ɪ\",\n",
    "    \"ç\",\n",
    "    \"t\",\n",
    "    \"|\",\n",
    "    \"ʊ\",\n",
    "    \"n\",\n",
    "    \"ɛ\",\n",
    "    \"<unk>\",\n",
    "    \"h\",\n",
    "    \"eː\",\n",
    "    \"p\",\n",
    "    \"l\",\n",
    "    \"ɪ\",\n",
    "    \"ç\",\n",
    "    \"ə\",\n",
    "    \"|\",\n",
    "    \"ɡ\",\n",
    "    \"ɛ\",\n",
    "    \"l\",\n",
    "    \"d\",\n",
    "    \"z\",\n",
    "    \"ʊ\",\n",
    "    \"m\",\n",
    "    \"ə\",\n",
    "    \"|\",\n",
    "    \"t\",\n",
    "    \"<unk>\",\n",
    "    \"t\",\n",
    "    \"ə\",\n",
    "    \"n\",\n",
    "    \"|\",\n",
    "    \"d\",\n",
    "    \"a\",\n",
    "    \"n\",\n",
    "    \"|\",\n",
    "    \"d\",\n",
    "    \"a\",\n",
    "    \"s\",\n",
    "    \"|\",\n",
    "    \"yː\",\n",
    "    \"b\",\n",
    "    \"<unk>\",\n",
    "    \"ɪ\",\n",
    "    \"ɡ\",\n",
    "    \"ə\",\n",
    "    \"|\",\n",
    "]"
   ]
  },
  {
   "cell_type": "code",
   "execution_count": 5,
   "id": "4a8bb6f4-9d80-4d93-adef-7fda8420dafb",
   "metadata": {
    "execution": {
     "iopub.execute_input": "2024-07-11T08:34:31.148468Z",
     "iopub.status.busy": "2024-07-11T08:34:31.147824Z",
     "iopub.status.idle": "2024-07-11T08:34:32.888166Z",
     "shell.execute_reply": "2024-07-11T08:34:32.887021Z",
     "shell.execute_reply.started": "2024-07-11T08:34:31.148427Z"
    }
   },
   "outputs": [],
   "source": [
    "from callback import _edit_distance"
   ]
  },
  {
   "cell_type": "code",
   "execution_count": 6,
   "id": "ddaca4a9-0ff7-4a45-9e5f-60ca24f8c98a",
   "metadata": {
    "execution": {
     "iopub.execute_input": "2024-07-11T08:34:32.890108Z",
     "iopub.status.busy": "2024-07-11T08:34:32.889782Z",
     "iopub.status.idle": "2024-07-11T08:34:33.027054Z",
     "shell.execute_reply": "2024-07-11T08:34:33.025987Z",
     "shell.execute_reply.started": "2024-07-11T08:34:32.890086Z"
    }
   },
   "outputs": [],
   "source": [
    "for i in range(100):\n",
    "    _edit_distance(preds, targets)"
   ]
  },
  {
   "cell_type": "code",
   "execution_count": 34,
   "id": "ad87dc8a-d67d-48ee-a98e-8ac66bbdecd9",
   "metadata": {
    "execution": {
     "iopub.execute_input": "2024-07-11T08:48:34.128245Z",
     "iopub.status.busy": "2024-07-11T08:48:34.127584Z",
     "iopub.status.idle": "2024-07-11T08:48:34.204140Z",
     "shell.execute_reply": "2024-07-11T08:48:34.202298Z",
     "shell.execute_reply.started": "2024-07-11T08:48:34.128184Z"
    }
   },
   "outputs": [],
   "source": [
    "def levenshtein_distance(s1, s2):\n",
    "    if len(s1) < len(s2):\n",
    "        return levenshtein_distance(s2, s1)\n",
    "\n",
    "    if len(s2) == 0:\n",
    "        return len(s1)\n",
    "\n",
    "    previous_row = range(len(s2) + 1)\n",
    "    for i, c1 in enumerate(s1):\n",
    "        current_row = [i + 1]\n",
    "        for j, c2 in enumerate(s2):\n",
    "            insertions = previous_row[j + 1] + 1\n",
    "            deletions = current_row[j] + 1\n",
    "            substitutions = previous_row[j] + (c1 != c2)\n",
    "            current_row.append(min(insertions, deletions, substitutions))\n",
    "        previous_row = current_row\n",
    "\n",
    "    return previous_row[-1]"
   ]
  },
  {
   "cell_type": "code",
   "execution_count": 31,
   "id": "2ed93cc1-fd0c-441c-9602-9f3a45e11abf",
   "metadata": {
    "execution": {
     "iopub.execute_input": "2024-07-11T08:37:15.267147Z",
     "iopub.status.busy": "2024-07-11T08:37:15.266587Z",
     "iopub.status.idle": "2024-07-11T08:37:15.449071Z",
     "shell.execute_reply": "2024-07-11T08:37:15.448157Z",
     "shell.execute_reply.started": "2024-07-11T08:37:15.267114Z"
    },
    "scrolled": true
   },
   "outputs": [
    {
     "name": "stdout",
     "output_type": "stream",
     "text": [
      "65\n",
      "65\n",
      "65\n",
      "65\n",
      "65\n",
      "65\n",
      "65\n",
      "65\n",
      "65\n",
      "65\n",
      "65\n",
      "65\n",
      "65\n",
      "65\n",
      "65\n",
      "65\n",
      "65\n",
      "65\n",
      "65\n",
      "65\n",
      "65\n",
      "65\n",
      "65\n",
      "65\n",
      "65\n",
      "65\n",
      "65\n",
      "65\n",
      "65\n",
      "65\n",
      "65\n",
      "65\n",
      "65\n",
      "65\n",
      "65\n",
      "65\n",
      "65\n",
      "65\n",
      "65\n",
      "65\n",
      "65\n",
      "65\n",
      "65\n",
      "65\n",
      "65\n",
      "65\n",
      "65\n",
      "65\n",
      "65\n",
      "65\n",
      "65\n",
      "65\n",
      "65\n",
      "65\n",
      "65\n",
      "65\n",
      "65\n",
      "65\n",
      "65\n",
      "65\n",
      "65\n",
      "65\n",
      "65\n",
      "65\n",
      "65\n",
      "65\n",
      "65\n",
      "65\n",
      "65\n",
      "65\n",
      "65\n",
      "65\n",
      "65\n",
      "65\n",
      "65\n",
      "65\n",
      "65\n",
      "65\n",
      "65\n",
      "65\n",
      "65\n",
      "65\n",
      "65\n",
      "65\n",
      "65\n",
      "65\n",
      "65\n",
      "65\n",
      "65\n",
      "65\n",
      "65\n",
      "65\n",
      "65\n",
      "65\n",
      "65\n",
      "65\n",
      "65\n",
      "65\n",
      "65\n",
      "65\n"
     ]
    }
   ],
   "source": [
    "for i in range(100):\n",
    "    print(levenshtein_distance(preds, targets))"
   ]
  },
  {
   "cell_type": "code",
   "execution_count": 9,
   "id": "1919a64c-8b6e-4b0e-8274-62d43beb4e3e",
   "metadata": {
    "execution": {
     "iopub.execute_input": "2024-07-11T08:34:34.433075Z",
     "iopub.status.busy": "2024-07-11T08:34:34.432785Z",
     "iopub.status.idle": "2024-07-11T08:34:34.488703Z",
     "shell.execute_reply": "2024-07-11T08:34:34.486945Z",
     "shell.execute_reply.started": "2024-07-11T08:34:34.433053Z"
    }
   },
   "outputs": [],
   "source": [
    "import numpy as np\n",
    "def levenshtein_distance_numpy(s1, s2):\n",
    "    len_s1, len_s2 = len(s1), len(s2)\n",
    "    d = np.zeros((len_s1 + 1, len_s2 + 1), dtype=int)\n",
    "\n",
    "    for i in range(len_s1 + 1):\n",
    "        d[i][0] = i\n",
    "    for j in range(len_s2 + 1):\n",
    "        d[0][j] = j\n",
    "\n",
    "    for i in range(1, len_s1 + 1):\n",
    "        for j in range(1, len_s2 + 1):\n",
    "            if s1[i - 1] == s2[j - 1]:\n",
    "                cost = 0\n",
    "            else:\n",
    "                cost = 1\n",
    "            d[i][j] = min(d[i - 1][j] + 1,    # deletion\n",
    "                          d[i][j - 1] + 1,    # insertion\n",
    "                          d[i - 1][j - 1] + cost)  # substitution\n",
    "\n",
    "    return d[len_s1][len_s2]"
   ]
  },
  {
   "cell_type": "code",
   "execution_count": 29,
   "id": "84fcdb94-e8ff-4315-bfa3-520d92d747ca",
   "metadata": {
    "execution": {
     "iopub.execute_input": "2024-07-11T08:37:07.149336Z",
     "iopub.status.busy": "2024-07-11T08:37:07.148262Z",
     "iopub.status.idle": "2024-07-11T08:37:07.571511Z",
     "shell.execute_reply": "2024-07-11T08:37:07.570414Z",
     "shell.execute_reply.started": "2024-07-11T08:37:07.149273Z"
    }
   },
   "outputs": [],
   "source": [
    "for i in range(100):\n",
    "\n",
    "    levenshtein_distance_numpy(preds, targets)"
   ]
  },
  {
   "cell_type": "code",
   "execution_count": 30,
   "id": "e063d349-3164-4257-a3ef-166c6ed0282f",
   "metadata": {
    "execution": {
     "iopub.execute_input": "2024-07-11T08:37:08.856830Z",
     "iopub.status.busy": "2024-07-11T08:37:08.856537Z",
     "iopub.status.idle": "2024-07-11T08:37:08.892358Z",
     "shell.execute_reply": "2024-07-11T08:37:08.891397Z",
     "shell.execute_reply.started": "2024-07-11T08:37:08.856807Z"
    }
   },
   "outputs": [
    {
     "data": {
      "text/plain": [
       "65"
      ]
     },
     "execution_count": 30,
     "metadata": {},
     "output_type": "execute_result"
    }
   ],
   "source": [
    "distance(preds, targets)"
   ]
  },
  {
   "cell_type": "code",
   "execution_count": 11,
   "id": "da2a435e-2a5d-4ed0-8b30-e781a024856a",
   "metadata": {
    "execution": {
     "iopub.execute_input": "2024-07-11T08:34:36.021046Z",
     "iopub.status.busy": "2024-07-11T08:34:36.020742Z",
     "iopub.status.idle": "2024-07-11T08:34:39.799881Z",
     "shell.execute_reply": "2024-07-11T08:34:39.798415Z",
     "shell.execute_reply.started": "2024-07-11T08:34:36.021024Z"
    }
   },
   "outputs": [
    {
     "name": "stdout",
     "output_type": "stream",
     "text": [
      "Looking in indexes: https://pypi.tuna.tsinghua.edu.cn/simple\n",
      "Requirement already satisfied: levenshtein in /home/ay/anaconda3/envs/torch/lib/python3.9/site-packages (0.25.1)\n",
      "Requirement already satisfied: rapidfuzz<4.0.0,>=3.8.0 in /home/ay/anaconda3/envs/torch/lib/python3.9/site-packages (from levenshtein) (3.9.4)\n",
      "\u001b[33mDEPRECATION: omegaconf 2.0.6 has a non-standard dependency specifier PyYAML>=5.1.*. pip 24.0 will enforce this behaviour change. A possible replacement is to upgrade to a newer version of omegaconf or contact the author to suggest that they release a version with a conforming dependency specifiers. Discussion can be found at https://github.com/pypa/pip/issues/12063\u001b[0m\u001b[33m\n",
      "\u001b[0m"
     ]
    }
   ],
   "source": [
    "!pip install levenshtein"
   ]
  },
  {
   "cell_type": "code",
   "execution_count": 14,
   "id": "07cc5312-3c4f-4a3c-9890-5e339d759fbf",
   "metadata": {
    "execution": {
     "iopub.execute_input": "2024-07-11T08:35:01.187158Z",
     "iopub.status.busy": "2024-07-11T08:35:01.186015Z",
     "iopub.status.idle": "2024-07-11T08:35:01.285007Z",
     "shell.execute_reply": "2024-07-11T08:35:01.283697Z",
     "shell.execute_reply.started": "2024-07-11T08:35:01.187107Z"
    }
   },
   "outputs": [
    {
     "data": {
      "text/plain": [
       "2"
      ]
     },
     "execution_count": 14,
     "metadata": {},
     "output_type": "execute_result"
    }
   ],
   "source": [
    "from Levenshtein import distance\n",
    "distance(\"lewenstein\", \"levenshtein\")"
   ]
  },
  {
   "cell_type": "code",
   "execution_count": 24,
   "id": "b3790b36-488c-4ddb-97fa-17ee9f27362e",
   "metadata": {
    "execution": {
     "iopub.execute_input": "2024-07-11T08:35:44.974524Z",
     "iopub.status.busy": "2024-07-11T08:35:44.972974Z",
     "iopub.status.idle": "2024-07-11T08:35:45.043961Z",
     "shell.execute_reply": "2024-07-11T08:35:45.042698Z",
     "shell.execute_reply.started": "2024-07-11T08:35:44.974461Z"
    }
   },
   "outputs": [
    {
     "data": {
      "text/plain": [
       "0.23159231417094628"
      ]
     },
     "execution_count": 24,
     "metadata": {},
     "output_type": "execute_result"
    }
   ],
   "source": [
    "import random\n",
    "random.random()"
   ]
  },
  {
   "cell_type": "code",
   "execution_count": 53,
   "id": "5db1a727-9b48-4435-a75c-e8704d8e1202",
   "metadata": {
    "execution": {
     "iopub.execute_input": "2024-07-11T08:48:54.088803Z",
     "iopub.status.busy": "2024-07-11T08:48:54.087491Z",
     "iopub.status.idle": "2024-07-11T08:48:54.144738Z",
     "shell.execute_reply": "2024-07-11T08:48:54.143013Z",
     "shell.execute_reply.started": "2024-07-11T08:48:54.088751Z"
    }
   },
   "outputs": [],
   "source": [
    "for i in range(100):\n",
    "    l = random.random() * len(targets)\n",
    "    l = max(l, len(targets) // 2)\n",
    "    preds = targets[int(l) : int(l) + len(targets) // 2]\n",
    "    distance(preds, targets)"
   ]
  },
  {
   "cell_type": "code",
   "execution_count": 43,
   "id": "66ec764d-61ce-41be-b1c0-0e3963ec9a86",
   "metadata": {
    "execution": {
     "iopub.execute_input": "2024-07-11T08:48:49.658710Z",
     "iopub.status.busy": "2024-07-11T08:48:49.658469Z",
     "iopub.status.idle": "2024-07-11T08:48:49.865243Z",
     "shell.execute_reply": "2024-07-11T08:48:49.863599Z",
     "shell.execute_reply.started": "2024-07-11T08:48:49.658689Z"
    }
   },
   "outputs": [],
   "source": [
    "for i in range(100):\n",
    "    l = random.random() * len(targets)\n",
    "    l = max(l, len(targets) // 2)\n",
    "    preds = targets[int(l) : int(l) + len(targets) // 2]\n",
    "    _edit_distance(preds, targets)"
   ]
  },
  {
   "cell_type": "code",
   "execution_count": 39,
   "id": "9a3c10ae-2c5e-4d65-85ba-a384bf013f00",
   "metadata": {
    "execution": {
     "iopub.execute_input": "2024-07-11T08:48:46.693273Z",
     "iopub.status.busy": "2024-07-11T08:48:46.693090Z",
     "iopub.status.idle": "2024-07-11T08:48:46.849692Z",
     "shell.execute_reply": "2024-07-11T08:48:46.848471Z",
     "shell.execute_reply.started": "2024-07-11T08:48:46.693257Z"
    }
   },
   "outputs": [],
   "source": [
    "for i in range(100):\n",
    "    l = random.random() * len(targets)\n",
    "    l = max(l, len(targets) // 2)\n",
    "    preds = targets[int(l) : int(l) + len(targets) // 2]\n",
    "    levenshtein_distance(preds, targets)"
   ]
  }
 ],
 "metadata": {
  "kernelspec": {
   "display_name": "Python 3 (ipykernel)",
   "language": "python",
   "name": "python3"
  },
  "language_info": {
   "codemirror_mode": {
    "name": "ipython",
    "version": 3
   },
   "file_extension": ".py",
   "mimetype": "text/x-python",
   "name": "python",
   "nbconvert_exporter": "python",
   "pygments_lexer": "ipython3",
   "version": "3.9.18"
  }
 },
 "nbformat": 4,
 "nbformat_minor": 5
}
