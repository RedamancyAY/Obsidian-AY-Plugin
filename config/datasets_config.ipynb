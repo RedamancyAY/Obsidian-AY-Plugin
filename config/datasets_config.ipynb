{
 "cells": [
  {
   "cell_type": "code",
   "execution_count": 2,
   "id": "07230e40",
   "metadata": {
    "execution": {
     "iopub.execute_input": "2024-09-27T08:26:03.687104Z",
     "iopub.status.busy": "2024-09-27T08:26:03.686783Z",
     "iopub.status.idle": "2024-09-27T08:26:03.719215Z",
     "shell.execute_reply": "2024-09-27T08:26:03.718229Z",
     "shell.execute_reply.started": "2024-09-27T08:26:03.687079Z"
    }
   },
   "outputs": [],
   "source": [
    "from yacs.config import CfgNode as ConfigurationNode"
   ]
  },
  {
   "cell_type": "code",
   "execution_count": 3,
   "id": "21f64ff2-dd7c-4515-87fd-1015f5c30f33",
   "metadata": {
    "execution": {
     "iopub.execute_input": "2024-09-27T08:26:04.220585Z",
     "iopub.status.busy": "2024-09-27T08:26:04.220002Z",
     "iopub.status.idle": "2024-09-27T08:26:04.228452Z",
     "shell.execute_reply": "2024-09-27T08:26:04.226420Z",
     "shell.execute_reply.started": "2024-09-27T08:26:04.220535Z"
    }
   },
   "outputs": [],
   "source": [
    "from argparse import Namespace\n",
    "from typing import Any, NamedTuple"
   ]
  },
  {
   "cell_type": "markdown",
   "id": "d8d5e491",
   "metadata": {},
   "source": [
    "# 默认配置"
   ]
  },
  {
   "cell_type": "code",
   "execution_count": 4,
   "id": "2582d69b-128f-47e9-8d6e-a4d26cbcc7a5",
   "metadata": {
    "execution": {
     "iopub.execute_input": "2024-09-27T08:26:05.081465Z",
     "iopub.status.busy": "2024-09-27T08:26:05.080785Z",
     "iopub.status.idle": "2024-09-27T08:26:05.090615Z",
     "shell.execute_reply": "2024-09-27T08:26:05.088514Z",
     "shell.execute_reply.started": "2024-09-27T08:26:05.081403Z"
    }
   },
   "outputs": [],
   "source": [
    "def NameCfgNode(**kwargs):\n",
    "    x = ConfigurationNode(kwargs)\n",
    "    return x"
   ]
  },
  {
   "cell_type": "code",
   "execution_count": 5,
   "id": "b0a05387",
   "metadata": {
    "execution": {
     "iopub.execute_input": "2024-09-27T08:26:05.864922Z",
     "iopub.status.busy": "2024-09-27T08:26:05.864250Z",
     "iopub.status.idle": "2024-09-27T08:26:05.873487Z",
     "shell.execute_reply": "2024-09-27T08:26:05.871433Z",
     "shell.execute_reply.started": "2024-09-27T08:26:05.864860Z"
    }
   },
   "outputs": [],
   "source": [
    "ALL_DATASETS = [\"WaveFake\"]"
   ]
  },
  {
   "cell_type": "code",
   "execution_count": null,
   "id": "8c597f2e-a269-494c-94d7-0aaa1dcb10bd",
   "metadata": {
    "execution": {
     "iopub.execute_input": "2024-09-27T08:26:06.742685Z",
     "iopub.status.busy": "2024-09-27T08:26:06.741992Z",
     "iopub.status.idle": "2024-09-27T08:26:06.754510Z",
     "shell.execute_reply": "2024-09-27T08:26:06.752312Z",
     "shell.execute_reply.started": "2024-09-27T08:26:06.742622Z"
    }
   },
   "outputs": [],
   "source": [
    "ROOT_PATHs = NameCfgNode(\n",
    "    WaveFake=\"/home/ay/data/DATA/2-datasets/1-df-audio/WaveFake\",\n",
    "    LibriSeVoc=\"/home/ay/data/DATA/2-datasets/1-df-audio/LibriSeVoc\",\n",
    "    DECRO=\"/home/ay/data/DATA/2-datasets/1-df-audio/DECRO\",\n",
    "    Wild = \"/home/ay/data/DATA/2-datasets/1-df-audio/release_in_the_wild\",\n",
    "    # ASV2021 = \"/home/ay/data/ASVspoof2021_DF_eval\",\n",
    "    ASV2021 = \"/home/ay/ASV2021\",\n",
    "    ASV2021_LA = \"/home/ay/data/0-原始数据集/ASV2021-LA\",\n",
    "    ASV2019_LA = \"/home/ay/data/0-原始数据集/ASV2019\",\n",
    "    VGGSound = \"/home/ay/data/DATA/2-datasets/4-audio/VGGSound\",\n",
    "    MLAAD = \"/home/ay/data/0-原始数据集/MLADD\",\n",
    "    Codecfake = \"/home/ay/data2/Codecfake16k\",\n",
    "    ASVSpoof5 = \"/home/ay/data2/datasets/ASVSpoof5\"\n",
    ")"
   ]
  },
  {
   "cell_type": "markdown",
   "id": "0e4621ac-ca48-42c2-9f45-e6cd068e911c",
   "metadata": {},
   "source": [
    "### WaveFake"
   ]
  },
  {
   "cell_type": "code",
   "execution_count": null,
   "id": "18e16bf2-682d-4571-950a-f98b261e68bc",
   "metadata": {},
   "outputs": [],
   "source": [
    "WaveTasks = {\n",
    "    \"inner_eval\": NameCfgNode(\n",
    "        corpus=0, methods=[0, 1, 2, 3, 4, 5, 6], splits=[64_000, 16_000, 24_800]\n",
    "    ),\n",
    "    \"cross_lang\": NameCfgNode(\n",
    "        train=NameCfgNode(corpus=0, methods=[1, 2], splits=[0.8, 0.2]),\n",
    "        test=NameCfgNode(corpus=1, methods=[1, 2], splits=[1.0]),\n",
    "    ),\n",
    "    \"cross_method\": NameCfgNode(\n",
    "        train=NameCfgNode(corpus=0, methods=[0, 1], splits=[0.8, 0.2]),\n",
    "        test=[\n",
    "            NameCfgNode(corpus=0, methods=[i], splits=[1.0]) for i in [2, 3, 4, 5, 6, 7]\n",
    "        ],\n",
    "    )\n",
    "}"
   ]
  },
  {
   "cell_type": "code",
   "execution_count": null,
   "id": "a913f847",
   "metadata": {},
   "outputs": [],
   "source": [
    "def WaveFake(task=\"inner_eval\"):\n",
    "    C = ConfigurationNode()\n",
    "    C.ROOT_PATHs = ROOT_PATHs\n",
    "    C.root_path = ROOT_PATHs.WaveFake\n",
    "    C.task = task\n",
    "    if task == \"inner_eval\":\n",
    "        task = WaveTasks[task]\n",
    "        C.corpus = task.corpus  # 0 / 1\n",
    "        C.methods = task.methods  # 0-6\n",
    "        C.splits = task.splits\n",
    "    else:\n",
    "        try:\n",
    "            C.task_cfg = WaveTasks[task]\n",
    "        except KeyError:\n",
    "            raise KeyError(\"Error task name for WaveFake\")\n",
    "    return C"
   ]
  },
  {
   "cell_type": "markdown",
   "id": "1ead11af-00a7-42e4-9fdf-0b42a952c25b",
   "metadata": {},
   "source": [
    "### LibriSeVoc"
   ]
  },
  {
   "cell_type": "code",
   "execution_count": null,
   "id": "11eef973-32f4-4cd1-9279-5e69128b331e",
   "metadata": {},
   "outputs": [],
   "source": [
    "LibriSeVocTasks = {\n",
    "    \"inner_eval\": NameCfgNode(\n",
    "        methods=[0, 1, 2, 3, 4, 5], splits=[55_440, 18_480, 18_487]\n",
    "    ),\n",
    "    \"cross_method\": NameCfgNode(\n",
    "        train=NameCfgNode(methods=[0, 4], splits=[0.8, 0.2]),\n",
    "        test=[NameCfgNode(methods=[i], splits=[1.0]) for i in [1, 2, 3, 5]],\n",
    "    ),\n",
    "    \"cross_dataset\": NameCfgNode(\n",
    "        train=NameCfgNode(methods=[0, 1, 2, 3, 4, 5], splits=[0.8, 0.2]),\n",
    "        test=[\n",
    "            NameCfgNode(dataset=\"WaveFake\", corpus=0, methods=[i], splits=[1.0])\n",
    "            for i in [0, 1, 2, 3, 4, 5, 6]\n",
    "        ],\n",
    "    ),\n",
    "}"
   ]
  },
  {
   "cell_type": "code",
   "execution_count": null,
   "id": "340c1c60-8309-41c7-8598-0afa29ac9f09",
   "metadata": {},
   "outputs": [],
   "source": [
    "def LibriSeVoc(task=\"inner_eval\"):\n",
    "    C = ConfigurationNode()\n",
    "    C.ROOT_PATHs = ROOT_PATHs\n",
    "    C.task = task\n",
    "    if task == \"inner_eval\":\n",
    "        task = LibriSeVocTasks[task]\n",
    "        C.methods = task.methods  # 0-5\n",
    "        C.splits = task.splits\n",
    "    else:\n",
    "        try:\n",
    "            C.task_cfg = LibriSeVocTasks[task]\n",
    "        except KeyError:\n",
    "            raise KeyError(\"Error task name for LibriSeVoc\")\n",
    "    return C"
   ]
  },
  {
   "cell_type": "markdown",
   "id": "29ee1ff4-ed26-4e24-8aa4-db254c0947a3",
   "metadata": {},
   "source": [
    "### DECRO "
   ]
  },
  {
   "cell_type": "code",
   "execution_count": null,
   "id": "85bf7255-7f65-40b5-818e-46b3895fa846",
   "metadata": {},
   "outputs": [],
   "source": [
    "DECRO_Tasks = {\n",
    "    \"inner_eval\": NameCfgNode(\n",
    "        corpus=0, methods=[0, 1, 2, 3, 4, 5, 6], splits=[64_000, 16_000, 24_800]\n",
    "    ),\n",
    "    \"cross_lang\": NameCfgNode(\n",
    "        train=NameCfgNode(corpus=0, methods=[1, 2], splits=[0.8, 0.2]),\n",
    "        test=NameCfgNode(corpus=1, methods=[1, 2], splits=[1.0]),\n",
    "    ),\n",
    "    \"cross_method\": NameCfgNode(\n",
    "        train=NameCfgNode(corpus=0, methods=[0, 5], splits=[0.8, 0.2]),\n",
    "        test=[\n",
    "            NameCfgNode(corpus=0, methods=[i], splits=[1.0]) for i in [1, 2, 3, 4, 6]\n",
    "        ],\n",
    "    )\n",
    "}"
   ]
  },
  {
   "cell_type": "code",
   "execution_count": null,
   "id": "c5684057-de89-453b-b86d-4ae6d80f3cee",
   "metadata": {},
   "outputs": [],
   "source": [
    "def DECRO(task=None):\n",
    "    C = ConfigurationNode()\n",
    "    C.ROOT_PATHs = ROOT_PATHs\n",
    "    C.root_path = ROOT_PATHs.DECRO\n",
    "    C.task = task\n",
    "    C.main = \"en\" if task == \"en->ch\" else \"ch\"\n",
    "    return C"
   ]
  },
  {
   "cell_type": "markdown",
   "id": "343ed91c-bbe3-4c90-ab24-0e43a50455b4",
   "metadata": {},
   "source": [
    "### ASV2019"
   ]
  },
  {
   "cell_type": "code",
   "execution_count": null,
   "id": "d99236c0-144d-49d8-9959-7c371f7ceb8a",
   "metadata": {},
   "outputs": [],
   "source": [
    "def ASV2019_LA(task=None):\n",
    "    C = ConfigurationNode()\n",
    "    C.ROOT_PATHs = ROOT_PATHs\n",
    "    C.root_path = ROOT_PATHs.ASV2019_LA\n",
    "    C.task = task\n",
    "    return C"
   ]
  },
  {
   "cell_type": "markdown",
   "id": "77d0db1e-b55d-470d-8501-a66b2853f02f",
   "metadata": {},
   "source": [
    "### ASV2021"
   ]
  },
  {
   "cell_type": "code",
   "execution_count": null,
   "id": "04b832e4-fb74-44e6-9d35-041d131315a1",
   "metadata": {},
   "outputs": [],
   "source": [
    "def ASV2021(task=None):\n",
    "    C = ConfigurationNode()\n",
    "    C.ROOT_PATHs = ROOT_PATHs\n",
    "    C.root_path = ROOT_PATHs.ASV2021\n",
    "    C.task = task\n",
    "    return C\n",
    "    \n",
    "def ASV2021_LA(task=None):\n",
    "    C = ConfigurationNode()\n",
    "    C.ROOT_PATHs = ROOT_PATHs\n",
    "    C.root_path = ROOT_PATHs.ASV2021_LA\n",
    "    C.task = task\n",
    "    return C"
   ]
  },
  {
   "cell_type": "code",
   "execution_count": null,
   "id": "4db4a851-dec0-4aa2-8180-b74c52233e9b",
   "metadata": {},
   "outputs": [],
   "source": [
    "def VGGSound(task=None):\n",
    "    C = ConfigurationNode()\n",
    "    C.ROOT_PATHs = ROOT_PATHs\n",
    "    C.root_path = ROOT_PATHs.VGGSound\n",
    "    C.task = task\n",
    "    return C"
   ]
  },
  {
   "cell_type": "markdown",
   "id": "97888a77-e046-485f-b608-078e683b77b3",
   "metadata": {},
   "source": [
    "### MLAAD"
   ]
  },
  {
   "cell_type": "code",
   "execution_count": null,
   "id": "4964d307-6aac-4440-b9ec-2cfc7e541e46",
   "metadata": {},
   "outputs": [],
   "source": [
    "def MLAAD(task=None):\n",
    "    C = ConfigurationNode()\n",
    "    C.ROOT_PATHs = ROOT_PATHs\n",
    "    C.root_path = ROOT_PATHs.MLAAD\n",
    "    C.task = task\n",
    "    return C"
   ]
  },
  {
   "cell_type": "markdown",
   "id": "7ff9ddf4-c3d4-400d-8c95-cb07ed2ece41",
   "metadata": {},
   "source": [
    "## Codecfake"
   ]
  },
  {
   "cell_type": "code",
   "execution_count": 7,
   "id": "bbc20959-7c34-4468-84bf-4d8de023c8fb",
   "metadata": {
    "execution": {
     "iopub.execute_input": "2024-09-27T08:26:44.545146Z",
     "iopub.status.busy": "2024-09-27T08:26:44.544768Z",
     "iopub.status.idle": "2024-09-27T08:26:44.553421Z",
     "shell.execute_reply": "2024-09-27T08:26:44.551271Z",
     "shell.execute_reply.started": "2024-09-27T08:26:44.545112Z"
    }
   },
   "outputs": [],
   "source": [
    "def Codecfake(task=None):\n",
    "    C = ConfigurationNode()\n",
    "    C.ROOT_PATHs = ROOT_PATHs\n",
    "    C.root_path = ROOT_PATHs.Codecfake\n",
    "    C.task = task\n",
    "    return C"
   ]
  },
  {
   "cell_type": "markdown",
   "id": "5c1d628b",
   "metadata": {},
   "source": [
    "## ASVSpoof5"
   ]
  },
  {
   "cell_type": "code",
   "execution_count": null,
   "id": "cf257854",
   "metadata": {},
   "outputs": [],
   "source": [
    "def ASVSpoof5(task=None):\n",
    "    C = ConfigurationNode()\n",
    "    C.ROOT_PATHs = ROOT_PATHs\n",
    "    C.root_path = ROOT_PATHs.ASVSpoof5\n",
    "    C.task = task\n",
    "    \n",
    "    if task == \"inner_eval\":\n",
    "        C.train_val_rate_in_train_tsv=0.8\n",
    "        C.use_dev_as_test = False\n",
    "        C.use_both_dev_test_for_test=True\n",
    "    else:\n",
    "        raise ValueError(\"Error task name for ASVSpoof5, expect ['inner_eval'], but got {}\".format(task))\n",
    "    return C"
   ]
  },
  {
   "cell_type": "markdown",
   "id": "34d7029a-0cfb-4ac2-ab67-3f65956f0e7b",
   "metadata": {},
   "source": [
    "# Settings"
   ]
  },
  {
   "cell_type": "code",
   "execution_count": null,
   "id": "2bb5dbbf-08e9-4340-baa7-24891da1246d",
   "metadata": {},
   "outputs": [],
   "source": [
    "DATASETs = {\n",
    "    'WaveFake' : WaveFake,\n",
    "    'LibriSeVoc': LibriSeVoc,\n",
    "    'DECRO': DECRO,\n",
    "    'ASV2019_LA' : ASV2019_LA,\n",
    "    'ASV2021' : ASV2021,\n",
    "    'ASV2021_LA' : ASV2021_LA,\n",
    "    'VGGSound' : VGGSound,\n",
    "    'MLAAD' : MLAAD,\n",
    "    'Codecfake' : Codecfake,\n",
    "    'ASVSpoof5' : ASVSpoof5\n",
    "}"
   ]
  },
  {
   "cell_type": "code",
   "execution_count": null,
   "id": "b5c7374f",
   "metadata": {},
   "outputs": [],
   "source": [
    "def get_dataset_cfg(name, task, __C=None):\n",
    "    if __C is None:\n",
    "        __C = ConfigurationNode()\n",
    "\n",
    "    __C.dataset_cfg = DATASETs[name](task)\n",
    "\n",
    "    __C.sample_rate = 16000  # audio sampling ratio\n",
    "    __C.max_wave_length = 48000  # audio length for training\n",
    "    __C.batch_size = 16  # batch size\n",
    "    __C.test_batch_size = -1  # batch size\n",
    "    __C.num_workers = 10  # number of worker to load dataloaders\n",
    "\n",
    "    __C.transforms = None\n",
    "    \n",
    "    return __C"
   ]
  },
  {
   "cell_type": "code",
   "execution_count": null,
   "id": "63e2b2f5-5a31-45b2-9faf-12ede48bbd9f",
   "metadata": {},
   "outputs": [],
   "source": []
  }
 ],
 "metadata": {
  "jupytext": {
   "formats": "ipynb,py:light"
  },
  "kernelspec": {
   "display_name": "Python 3 (ipykernel)",
   "language": "python",
   "name": "python3"
  },
  "language_info": {
   "codemirror_mode": {
    "name": "ipython",
    "version": 3
   },
   "file_extension": ".py",
   "mimetype": "text/x-python",
   "name": "python",
   "nbconvert_exporter": "python",
   "pygments_lexer": "ipython3",
   "version": "3.9.18"
  }
 },
 "nbformat": 4,
 "nbformat_minor": 5
}
