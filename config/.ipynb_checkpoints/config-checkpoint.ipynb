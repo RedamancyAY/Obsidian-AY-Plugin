{
 "cells": [
  {
   "cell_type": "code",
   "execution_count": null,
   "id": "4d01f32e-94bd-4eb0-a4b3-4e4f96162324",
   "metadata": {},
   "outputs": [],
   "source": [
    "import os\n",
    "\n",
    "from yacs.config import CfgNode as ConfigurationNode"
   ]
  },
  {
   "cell_type": "code",
   "execution_count": null,
   "id": "9e80f7e3-0dc6-4e2e-8298-4d899bc84446",
   "metadata": {},
   "outputs": [],
   "source": [
    "from .datasets_config import ALL_DATASETS, get_dataset_cfg"
   ]
  },
  {
   "cell_type": "markdown",
   "id": "02636cab-1657-4fa8-86e1-382314302deb",
   "metadata": {},
   "source": [
    "# 默认配置"
   ]
  },
  {
   "cell_type": "code",
   "execution_count": 8,
   "id": "05aa5a2f-53fd-4428-b759-597799d0da5a",
   "metadata": {
    "execution": {
     "iopub.execute_input": "2023-03-13T03:08:56.879363Z",
     "iopub.status.busy": "2023-03-13T03:08:56.878731Z",
     "iopub.status.idle": "2023-03-13T03:08:56.884875Z",
     "shell.execute_reply": "2023-03-13T03:08:56.883908Z",
     "shell.execute_reply.started": "2023-03-13T03:08:56.879318Z"
    }
   },
   "outputs": [],
   "source": [
    "__C = ConfigurationNode()\n",
    "__C.DATASET = ConfigurationNode()\n",
    "__C.DATASET.name = \"WaveFake\"\n",
    "__C.DATASET.task = \"inner_eval\""
   ]
  },
  {
   "cell_type": "code",
   "execution_count": 11,
   "id": "b5a901a7-97e1-4c81-805b-a4ab2b86db4a",
   "metadata": {
    "editable": true,
    "execution": {
     "iopub.execute_input": "2023-03-13T03:09:02.863361Z",
     "iopub.status.busy": "2023-03-13T03:09:02.862299Z",
     "iopub.status.idle": "2023-03-13T03:09:02.873299Z",
     "shell.execute_reply": "2023-03-13T03:09:02.872319Z",
     "shell.execute_reply.started": "2023-03-13T03:09:02.863317Z"
    },
    "slideshow": {
     "slide_type": ""
    }
   },
   "outputs": [],
   "source": [
    "__C.MODEL = ConfigurationNode()\n",
    "__C.MODEL.epochs = 200\n",
    "__C.MODEL.optimizer = \"AdamW\"\n",
    "__C.MODEL.weight_decay = 0.01\n",
    "__C.MODEL.lr = 0.0001\n",
    "__C.MODEL.lr_decay_factor = 0.5\n",
    "__C.MODEL.lr_scheduler = \"linear\"\n",
    "__C.MODEL.warmup_epochs = 10\n",
    "__C.MODEL.label_smoothing = 0.1\n",
    "__C.MODEL.method_classes = 7\n",
    "__C.MODEL.pretrain = False\n",
    "__C.MODEL.nograd = False\n",
    "__C.MODEL.aug_policy = 'ss' \n",
    "__C.MODEL.use_op_loss = 1\n",
    "\n",
    "## ablation studies\n",
    "__C.MODEL.style_shuffle = 1\n",
    "__C.MODEL.feat_shuffle = 1\n",
    "__C.MODEL.voc_con_loss = 1 # vocoder constrastive loss\n",
    "__C.MODEL.feat_con_loss = 1 # final_feat constrastive loss\n",
    "\n",
    "\n",
    "\n",
    "__C.MODEL.feature_extractor = 'MSFM'\n",
    "__C.MODEL.dims = [32,64,64,128]\n",
    "__C.MODEL.n_blocks = [1, 1, 2, 1]\n",
    "__C.MODEL.beta = [2.0, 0.5, 0.5]\n",
    "# __C.MODEL.beta = [1, 1, 1]\n",
    "__C.MODEL.one_stem = False\n",
    "\n",
    "\n",
    "\n"
   ]
  },
  {
   "cell_type": "code",
   "execution_count": 45,
   "id": "f893aa34-db5b-410f-bbca-ca6df02016ad",
   "metadata": {
    "execution": {
     "iopub.execute_input": "2023-02-22T13:52:34.176792Z",
     "iopub.status.busy": "2023-02-22T13:52:34.176217Z",
     "iopub.status.idle": "2023-02-22T13:52:34.181336Z",
     "shell.execute_reply": "2023-02-22T13:52:34.180607Z",
     "shell.execute_reply.started": "2023-02-22T13:52:34.176751Z"
    }
   },
   "outputs": [],
   "source": [
    "def get_cfg_defaults(cfg_file=None, ablation=None):\n",
    "    \"\"\"\n",
    "    Get a yacs CfgNode object with default values.\n",
    "\n",
    "    The loading sequence is:\n",
    "        __C -> cfg_file.yaml -> data_aug.yaml -> 0-model.yaml -> ablation.yaml\n",
    "\n",
    "    \"\"\"\n",
    "    # Return a clone so that the defaults will not be altered\n",
    "    # It will be subsequently overwritten with local YAML.\n",
    "    res = __C.clone()\n",
    "\n",
    "    if cfg_file is not None:\n",
    "        res.merge_from_file(cfg_file)\n",
    "\n",
    "        res.DATASET = get_dataset_cfg(\n",
    "            name=res.DATASET.name, task=res.DATASET.task, __C=res.DATASET\n",
    "        )\n",
    "\n",
    "        aug_file_path = os.path.join(os.path.split(cfg_file)[0], \"data_aug.yaml\")\n",
    "        if os.path.exists(aug_file_path):\n",
    "            res.merge_from_file(aug_file_path)\n",
    "            print(\"load aug yaml in \", aug_file_path)\n",
    "\n",
    "        model_file_path = os.path.join(os.path.split(cfg_file)[0], \"0-model.yaml\")\n",
    "        if os.path.exists(model_file_path):\n",
    "            res.merge_from_file(model_file_path)\n",
    "            print(\"load model yaml in \", model_file_path)\n",
    "\n",
    "        if ablation is not None:\n",
    "            ablation_file_path = os.path.join(\n",
    "                os.path.split(cfg_file)[0], f\"{ablation}.yaml\"\n",
    "            )\n",
    "            res.merge_from_file(ablation_file_path)\n",
    "            print(\"load ablation yaml in \", ablation_file_path)\n",
    "\n",
    "    return res"
   ]
  }
 ],
 "metadata": {
  "jupytext": {
   "formats": "ipynb,py:light"
  },
  "kernelspec": {
   "display_name": "Python 3 (ipykernel)",
   "language": "python",
   "name": "python3"
  },
  "language_info": {
   "codemirror_mode": {
    "name": "ipython",
    "version": 3
   },
   "file_extension": ".py",
   "mimetype": "text/x-python",
   "name": "python",
   "nbconvert_exporter": "python",
   "pygments_lexer": "ipython3",
   "version": "3.9.18"
  }
 },
 "nbformat": 4,
 "nbformat_minor": 5
}
