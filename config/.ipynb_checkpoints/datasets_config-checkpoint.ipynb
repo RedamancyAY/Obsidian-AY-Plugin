{
 "cells": [
  {
   "cell_type": "code",
   "execution_count": 1,
   "id": "07230e40",
   "metadata": {
    "execution": {
     "iopub.execute_input": "2023-07-15T07:43:02.047447Z",
     "iopub.status.busy": "2023-07-15T07:43:02.047232Z",
     "iopub.status.idle": "2023-07-15T07:43:02.061694Z",
     "shell.execute_reply": "2023-07-15T07:43:02.061064Z",
     "shell.execute_reply.started": "2023-07-15T07:43:02.047431Z"
    }
   },
   "outputs": [],
   "source": [
    "from yacs.config import CfgNode as ConfigurationNode"
   ]
  },
  {
   "cell_type": "code",
   "execution_count": 23,
   "id": "21f64ff2-dd7c-4515-87fd-1015f5c30f33",
   "metadata": {
    "execution": {
     "iopub.execute_input": "2023-07-15T08:02:16.572044Z",
     "iopub.status.busy": "2023-07-15T08:02:16.571520Z",
     "iopub.status.idle": "2023-07-15T08:02:16.578556Z",
     "shell.execute_reply": "2023-07-15T08:02:16.577213Z",
     "shell.execute_reply.started": "2023-07-15T08:02:16.571995Z"
    }
   },
   "outputs": [],
   "source": [
    "from argparse import Namespace\n",
    "from typing import Any, NamedTuple"
   ]
  },
  {
   "cell_type": "markdown",
   "id": "d8d5e491",
   "metadata": {},
   "source": [
    "# 默认配置"
   ]
  },
  {
   "cell_type": "code",
   "execution_count": 101,
   "id": "2582d69b-128f-47e9-8d6e-a4d26cbcc7a5",
   "metadata": {
    "execution": {
     "iopub.execute_input": "2023-07-15T08:55:47.408759Z",
     "iopub.status.busy": "2023-07-15T08:55:47.408120Z",
     "iopub.status.idle": "2023-07-15T08:55:47.411561Z",
     "shell.execute_reply": "2023-07-15T08:55:47.411056Z",
     "shell.execute_reply.started": "2023-07-15T08:55:47.408724Z"
    }
   },
   "outputs": [],
   "source": [
    "def NameCfgNode(**kwargs):\n",
    "    x = ConfigurationNode(kwargs)\n",
    "    return x"
   ]
  },
  {
   "cell_type": "code",
   "execution_count": 3,
   "id": "b0a05387",
   "metadata": {
    "execution": {
     "iopub.execute_input": "2023-07-15T07:43:06.790642Z",
     "iopub.status.busy": "2023-07-15T07:43:06.789589Z",
     "iopub.status.idle": "2023-07-15T07:43:06.795103Z",
     "shell.execute_reply": "2023-07-15T07:43:06.794122Z",
     "shell.execute_reply.started": "2023-07-15T07:43:06.790594Z"
    }
   },
   "outputs": [],
   "source": [
    "ALL_DATASETS = [\"WaveFake\"]"
   ]
  },
  {
   "cell_type": "code",
   "execution_count": null,
   "id": "8c597f2e-a269-494c-94d7-0aaa1dcb10bd",
   "metadata": {},
   "outputs": [],
   "source": [
    "ROOT_PATHs = NameCfgNode(\n",
    "    WaveFake=\"/home/ay/data/DATA/2-datasets/1-df-audio/WaveFake\",\n",
    "    LibriSeVoc=\"/home/ay/data/DATA/2-datasets/1-df-audio/LibriSeVoc\",\n",
    "    DECRO=\"/home/ay/data/DATA/2-datasets/1-df-audio/DECRO\",\n",
    "    Wild = \"/home/ay/data/DATA/2-datasets/1-df-audio/release_in_the_wild\",\n",
    ")"
   ]
  },
  {
   "cell_type": "markdown",
   "id": "0e4621ac-ca48-42c2-9f45-e6cd068e911c",
   "metadata": {},
   "source": [
    "### WaveFake"
   ]
  },
  {
   "cell_type": "code",
   "execution_count": 102,
   "id": "18e16bf2-682d-4571-950a-f98b261e68bc",
   "metadata": {
    "execution": {
     "iopub.execute_input": "2023-07-15T08:55:48.370449Z",
     "iopub.status.busy": "2023-07-15T08:55:48.370100Z",
     "iopub.status.idle": "2023-07-15T08:55:48.375929Z",
     "shell.execute_reply": "2023-07-15T08:55:48.375365Z",
     "shell.execute_reply.started": "2023-07-15T08:55:48.370424Z"
    }
   },
   "outputs": [],
   "source": [
    "WaveTasks = {\n",
    "    \"inner_eval\": NameCfgNode(\n",
    "        corpus=0, methods=[0, 1, 2, 3, 4, 5, 6], splits=[64_000, 16_000, 24_800]\n",
    "    ),\n",
    "    \"cross_lang\": NameCfgNode(\n",
    "        train=NameCfgNode(corpus=0, methods=[1, 2], splits=[0.8, 0.2]),\n",
    "        test=NameCfgNode(corpus=1, methods=[1, 2], splits=[1.0]),\n",
    "    ),\n",
    "    \"cross_method\": NameCfgNode(\n",
    "        train=NameCfgNode(corpus=0, methods=[0, 1], splits=[0.8, 0.2]),\n",
    "        test=[\n",
    "            NameCfgNode(corpus=0, methods=[i], splits=[1.0]) for i in [2, 3, 4, 5, 6, 7]\n",
    "        ],\n",
    "    )\n",
    "}"
   ]
  },
  {
   "cell_type": "code",
   "execution_count": null,
   "id": "a913f847",
   "metadata": {},
   "outputs": [],
   "source": [
    "def WaveFake(task=\"inner_eval\"):\n",
    "    C = ConfigurationNode()\n",
    "    C.ROOT_PATHs = ROOT_PATHs\n",
    "    C.root_path = ROOT_PATHs.WaveFake\n",
    "    C.task = task\n",
    "    if task == \"inner_eval\":\n",
    "        task = WaveTasks[task]\n",
    "        C.corpus = task.corpus  # 0 / 1\n",
    "        C.methods = task.methods  # 0-6\n",
    "        C.splits = task.splits\n",
    "    else:\n",
    "        try:\n",
    "            C.task_cfg = WaveTasks[task]\n",
    "        except KeyError:\n",
    "            raise KeyError(\"Error task name for WaveFake\")\n",
    "    return C"
   ]
  },
  {
   "cell_type": "markdown",
   "id": "1ead11af-00a7-42e4-9fdf-0b42a952c25b",
   "metadata": {},
   "source": [
    "### LibriSeVoc"
   ]
  },
  {
   "cell_type": "code",
   "execution_count": 105,
   "id": "11eef973-32f4-4cd1-9279-5e69128b331e",
   "metadata": {
    "execution": {
     "iopub.execute_input": "2023-07-15T12:21:03.807859Z",
     "iopub.status.busy": "2023-07-15T12:21:03.807085Z",
     "iopub.status.idle": "2023-07-15T12:21:03.816302Z",
     "shell.execute_reply": "2023-07-15T12:21:03.815148Z",
     "shell.execute_reply.started": "2023-07-15T12:21:03.807799Z"
    }
   },
   "outputs": [],
   "source": [
    "LibriSeVocTasks = {\n",
    "    \"inner_eval\": NameCfgNode(\n",
    "        methods=[0, 1, 2, 3, 4, 5], splits=[55_440, 18_480, 18_487]\n",
    "    ),\n",
    "    \"cross_method\": NameCfgNode(\n",
    "        train=NameCfgNode(methods=[0, 4], splits=[0.8, 0.2]),\n",
    "        test=[NameCfgNode(methods=[i], splits=[1.0]) for i in [1, 2, 3, 5]],\n",
    "    ),\n",
    "    \"cross_dataset\": NameCfgNode(\n",
    "        train=NameCfgNode(methods=[0, 1, 2, 3, 4, 5], splits=[0.8, 0.2]),\n",
    "        test=[\n",
    "            NameCfgNode(dataset=\"WaveFake\", corpus=0, methods=[i], splits=[1.0])\n",
    "            for i in [0, 1, 2, 3, 4, 5, 6]\n",
    "        ],\n",
    "    ),\n",
    "}"
   ]
  },
  {
   "cell_type": "code",
   "execution_count": null,
   "id": "340c1c60-8309-41c7-8598-0afa29ac9f09",
   "metadata": {},
   "outputs": [],
   "source": [
    "def LibriSeVoc(task=\"inner_eval\"):\n",
    "    C = ConfigurationNode()\n",
    "    C.ROOT_PATHs = ROOT_PATHs\n",
    "    C.task = task\n",
    "    if task == \"inner_eval\":\n",
    "        task = LibriSeVocTasks[task]\n",
    "        C.methods = task.methods  # 0-5\n",
    "        C.splits = task.splits\n",
    "    else:\n",
    "        try:\n",
    "            C.task_cfg = LibriSeVocTasks[task]\n",
    "        except KeyError:\n",
    "            raise KeyError(\"Error task name for LibriSeVoc\")\n",
    "    return C"
   ]
  },
  {
   "cell_type": "markdown",
   "id": "29ee1ff4-ed26-4e24-8aa4-db254c0947a3",
   "metadata": {},
   "source": [
    "### DECRO "
   ]
  },
  {
   "cell_type": "code",
   "execution_count": null,
   "id": "85bf7255-7f65-40b5-818e-46b3895fa846",
   "metadata": {},
   "outputs": [],
   "source": [
    "DECRO_Tasks = {\n",
    "    \"inner_eval\": NameCfgNode(\n",
    "        corpus=0, methods=[0, 1, 2, 3, 4, 5, 6], splits=[64_000, 16_000, 24_800]\n",
    "    ),\n",
    "    \"cross_lang\": NameCfgNode(\n",
    "        train=NameCfgNode(corpus=0, methods=[1, 2], splits=[0.8, 0.2]),\n",
    "        test=NameCfgNode(corpus=1, methods=[1, 2], splits=[1.0]),\n",
    "    ),\n",
    "    \"cross_method\": NameCfgNode(\n",
    "        train=NameCfgNode(corpus=0, methods=[0, 5], splits=[0.8, 0.2]),\n",
    "        test=[\n",
    "            NameCfgNode(corpus=0, methods=[i], splits=[1.0]) for i in [1, 2, 3, 4, 6]\n",
    "        ],\n",
    "    )\n",
    "}"
   ]
  },
  {
   "cell_type": "code",
   "execution_count": null,
   "id": "c5684057-de89-453b-b86d-4ae6d80f3cee",
   "metadata": {},
   "outputs": [],
   "source": [
    "def DECRO(task=None):\n",
    "    C = ConfigurationNode()\n",
    "    C.ROOT_PATHs = ROOT_PATHs\n",
    "    C.root_path = ROOT_PATHs.DECRO\n",
    "    C.task = task\n",
    "    C.main = \"en\" if task == \"en->ch\" else \"ch\"\n",
    "    return C"
   ]
  },
  {
   "cell_type": "markdown",
   "id": "34d7029a-0cfb-4ac2-ab67-3f65956f0e7b",
   "metadata": {},
   "source": [
    "# Settings"
   ]
  },
  {
   "cell_type": "code",
   "execution_count": null,
   "id": "2bb5dbbf-08e9-4340-baa7-24891da1246d",
   "metadata": {},
   "outputs": [],
   "source": [
    "DATASETs = {\n",
    "    'WaveFake' : WaveFake,\n",
    "    'LibriSeVoc': LibriSeVoc,\n",
    "    'DECRO': DECRO\n",
    "}"
   ]
  },
  {
   "cell_type": "code",
   "execution_count": 2,
   "id": "b5c7374f",
   "metadata": {
    "execution": {
     "iopub.execute_input": "2023-06-28T06:30:04.057050Z",
     "iopub.status.busy": "2023-06-28T06:30:04.056496Z",
     "iopub.status.idle": "2023-06-28T06:30:04.064610Z",
     "shell.execute_reply": "2023-06-28T06:30:04.063354Z",
     "shell.execute_reply.started": "2023-06-28T06:30:04.057001Z"
    }
   },
   "outputs": [],
   "source": [
    "def get_dataset_cfg(name, task, __C=None):\n",
    "    if __C is None:\n",
    "        __C = ConfigurationNode()\n",
    "\n",
    "    __C.dataset_cfg = DATASETs[name](task)\n",
    "\n",
    "    __C.sample_rate = 16000  # audio sampling ratio\n",
    "    __C.max_wave_length = 48000  # audio length for training\n",
    "    __C.batch_size = 16  # batch size\n",
    "    __C.test_batch_size = -1  # batch size\n",
    "    __C.num_workers = 10  # number of worker to load dataloaders\n",
    "\n",
    "    __C.transforms = None\n",
    "    \n",
    "    return __C"
   ]
  },
  {
   "cell_type": "code",
   "execution_count": null,
   "id": "63e2b2f5-5a31-45b2-9faf-12ede48bbd9f",
   "metadata": {},
   "outputs": [],
   "source": []
  }
 ],
 "metadata": {
  "jupytext": {
   "formats": "ipynb,py:light"
  },
  "kernelspec": {
   "display_name": "Python 3 (ipykernel)",
   "language": "python",
   "name": "python3"
  },
  "language_info": {
   "codemirror_mode": {
    "name": "ipython",
    "version": 3
   },
   "file_extension": ".py",
   "mimetype": "text/x-python",
   "name": "python",
   "nbconvert_exporter": "python",
   "pygments_lexer": "ipython3",
   "version": "3.9.18"
  }
 },
 "nbformat": 4,
 "nbformat_minor": 5
}
