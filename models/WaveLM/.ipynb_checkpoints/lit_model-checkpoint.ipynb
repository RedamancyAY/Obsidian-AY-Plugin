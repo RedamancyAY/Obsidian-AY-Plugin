{
 "cells": [
  {
   "cell_type": "code",
   "execution_count": 1,
   "id": "0900037e-576b-4103-b82a-4d908575caf4",
   "metadata": {
    "execution": {
     "iopub.execute_input": "2023-06-01T01:43:23.909219Z",
     "iopub.status.busy": "2023-06-01T01:43:23.908666Z",
     "iopub.status.idle": "2023-06-01T01:43:23.932739Z",
     "shell.execute_reply": "2023-06-01T01:43:23.931506Z",
     "shell.execute_reply.started": "2023-06-01T01:43:23.909172Z"
    },
    "tags": []
   },
   "outputs": [],
   "source": [
    "%load_ext autoreload\n",
    "%autoreload 2"
   ]
  },
  {
   "cell_type": "code",
   "execution_count": 2,
   "id": "0ecb3593-d111-40b7-93a5-059057a0ac16",
   "metadata": {
    "execution": {
     "iopub.execute_input": "2023-06-01T01:43:24.881664Z",
     "iopub.status.busy": "2023-06-01T01:43:24.881119Z",
     "iopub.status.idle": "2023-06-01T01:43:26.500357Z",
     "shell.execute_reply": "2023-06-01T01:43:26.499614Z",
     "shell.execute_reply.started": "2023-06-01T01:43:24.881616Z"
    },
    "tags": []
   },
   "outputs": [],
   "source": [
    "import pytorch_lightning as pl\n",
    "import torch\n",
    "import torch.nn as nn\n",
    "from ay2.torch.deepfake_detection import DeepfakeAudioClassification"
   ]
  },
  {
   "cell_type": "code",
   "execution_count": 4,
   "id": "6f26c4c7-407f-491e-90da-df813a94e0e8",
   "metadata": {
    "execution": {
     "iopub.execute_input": "2023-05-30T07:36:33.853893Z",
     "iopub.status.busy": "2023-05-30T07:36:33.853530Z",
     "iopub.status.idle": "2023-05-30T07:36:34.235334Z",
     "shell.execute_reply": "2023-05-30T07:36:34.234556Z",
     "shell.execute_reply.started": "2023-05-30T07:36:33.853867Z"
    },
    "tags": [
     "active-ipynb",
     "style-commentate"
    ]
   },
   "outputs": [],
   "source": [
    "from wavlm import BaseLine"
   ]
  },
  {
   "cell_type": "code",
   "execution_count": 4,
   "id": "dbe24bb6-242a-4aba-ae0a-5675300759a2",
   "metadata": {
    "execution": {
     "iopub.execute_input": "2023-05-30T07:36:33.853893Z",
     "iopub.status.busy": "2023-05-30T07:36:33.853530Z",
     "iopub.status.idle": "2023-05-30T07:36:34.235334Z",
     "shell.execute_reply": "2023-05-30T07:36:34.234556Z",
     "shell.execute_reply.started": "2023-05-30T07:36:33.853867Z"
    },
    "tags": []
   },
   "outputs": [],
   "source": [
    "from .wavlm import BaseLine"
   ]
  },
  {
   "cell_type": "code",
   "execution_count": 12,
   "id": "b46c08c3-59e7-4f71-be56-211438542373",
   "metadata": {
    "execution": {
     "iopub.execute_input": "2023-05-16T08:24:25.973651Z",
     "iopub.status.busy": "2023-05-16T08:24:25.973078Z",
     "iopub.status.idle": "2023-05-16T08:24:26.014344Z",
     "shell.execute_reply": "2023-05-16T08:24:26.013547Z",
     "shell.execute_reply.started": "2023-05-16T08:24:25.973600Z"
    },
    "lines_to_next_cell": 2,
    "tags": []
   },
   "outputs": [],
   "source": [
    "class WaveLM_lit(DeepfakeAudioClassification):\n",
    "    def __init__(self, pretrain_feat=\"last_hidden_state\", backend=\"linear\", num_classes=1, **kwargs):\n",
    "        super().__init__()\n",
    "        self.model = BaseLine(pretrain_feat=pretrain_feat, backend=backend, num_classes=num_classes)\n",
    "        self.loss_fn = nn.BCEWithLogitsLoss(pos_weight=None)\n",
    "        self.save_hyperparameters()\n",
    "        \n",
    "    def calcuate_loss(self, batch_res, batch):\n",
    "        label = batch[\"label\"]\n",
    "        loss = self.loss_fn(batch_res[\"logit\"], label.type(torch.float32))\n",
    "        return loss\n",
    "    \n",
    "    def configure_optimizers(self):\n",
    "\n",
    "        lr = 0.0005\n",
    "        print(\"WaveLM: learning rate\", lr)\n",
    "        optimizer = torch.optim.Adam(\n",
    "            # self.model.parameters(), lr=0.0001, weight_decay=0.0001\n",
    "            self.model.parameters(), lr=lr, weight_decay=0.0001\n",
    "        )\n",
    "        return [optimizer]"
   ]
  }
 ],
 "metadata": {
  "jupytext": {
   "formats": "ipynb,py:light"
  },
  "kernelspec": {
   "display_name": "Python 3 (ipykernel)",
   "language": "python",
   "name": "python3"
  },
  "language_info": {
   "codemirror_mode": {
    "name": "ipython",
    "version": 3
   },
   "file_extension": ".py",
   "mimetype": "text/x-python",
   "name": "python",
   "nbconvert_exporter": "python",
   "pygments_lexer": "ipython3",
   "version": "3.9.18"
  }
 },
 "nbformat": 4,
 "nbformat_minor": 5
}
