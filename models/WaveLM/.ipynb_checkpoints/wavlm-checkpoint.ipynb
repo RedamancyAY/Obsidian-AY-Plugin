{
 "cells": [
  {
   "cell_type": "code",
   "execution_count": 1,
   "id": "caf012ad-3972-4f7c-912b-03394bda3388",
   "metadata": {
    "execution": {
     "iopub.execute_input": "2024-08-09T10:37:56.166190Z",
     "iopub.status.busy": "2024-08-09T10:37:56.165497Z",
     "iopub.status.idle": "2024-08-09T10:37:56.208914Z",
     "shell.execute_reply": "2024-08-09T10:37:56.207485Z",
     "shell.execute_reply.started": "2024-08-09T10:37:56.166124Z"
    }
   },
   "outputs": [],
   "source": [
    "%load_ext autoreload\n",
    "%autoreload 2"
   ]
  },
  {
   "cell_type": "code",
   "execution_count": 2,
   "id": "de7af410-0c88-4cbf-9c6d-c777dd8b2c98",
   "metadata": {
    "execution": {
     "iopub.execute_input": "2024-08-09T10:37:56.894270Z",
     "iopub.status.busy": "2024-08-09T10:37:56.893523Z",
     "iopub.status.idle": "2024-08-09T10:38:00.231332Z",
     "shell.execute_reply": "2024-08-09T10:38:00.229759Z",
     "shell.execute_reply.started": "2024-08-09T10:37:56.894206Z"
    }
   },
   "outputs": [],
   "source": [
    "import torch\n",
    "import torch.nn as nn\n",
    "from transformers import AutoFeatureExtractor, WavLMModel"
   ]
  },
  {
   "cell_type": "code",
   "execution_count": 8,
   "id": "0b459dc3-b5ef-4a27-a3ba-16063a60d954",
   "metadata": {
    "execution": {
     "iopub.execute_input": "2024-08-09T10:39:06.826407Z",
     "iopub.status.busy": "2024-08-09T10:39:06.825765Z",
     "iopub.status.idle": "2024-08-09T10:39:06.867203Z",
     "shell.execute_reply": "2024-08-09T10:39:06.865352Z",
     "shell.execute_reply.started": "2024-08-09T10:39:06.826357Z"
    }
   },
   "outputs": [],
   "source": [
    "class BaseLine(nn.Module):\n",
    "    def __init__(self, pretrain_feat=\"extract_features\", backend='linear', num_classes=1, **kwargs):\n",
    "        super().__init__()\n",
    "\n",
    "        assert pretrain_feat in [\"last_hidden_state\", \"extract_features\"]\n",
    "        self.pretrain_feat = pretrain_feat\n",
    "        # The channels of used features for the pretrained model is 512 when using\n",
    "        # the 'extract_features',  but 768 when [\"last_hidden_state\"] is used.\n",
    "        C_features = 512 if pretrain_feat == \"extract_features\" else 768\n",
    "        \n",
    "        self.pretrain_model = WavLMModel.from_pretrained(\n",
    "            \"/usr/local/ay_data/0-model_weights/microsoft_wavlm-base\"\n",
    "        )\n",
    "\n",
    "        self.backend = backend\n",
    "        if backend == 'resnet':\n",
    "            self.backend_model = ResNet50(\n",
    "                in_channels=C_features, classes=num_classes\n",
    "            )\n",
    "        elif backend == 'linear':\n",
    "            self.pooler = nn.AdaptiveAvgPool1d(1)\n",
    "            self.backend_model = nn.Linear(C_features, num_classes)\n",
    "\n",
    "    def get_feature(self, x):\n",
    "        feature = self.pretrain_model(x)[self.pretrain_feat]\n",
    "        feature = torch.transpose(feature, 1, 2)\n",
    "        if self.backend == 'linear':\n",
    "            feature = torch.squeeze(self.pooler(feature), -1)\n",
    "        return feature\n",
    "    \n",
    "    def forward(self, x):\n",
    "        feature = self.pretrain_model(x)[self.pretrain_feat]\n",
    "        feature = torch.transpose(feature, 1, 2)\n",
    "        if self.backend == 'linear':\n",
    "            feature = torch.squeeze(self.pooler(feature), -1)\n",
    "        # print(feature.shape, self.pooler(feature).shape)\n",
    "        outputs = self.backend_model(feature)\n",
    "        return outputs\n",
    "\n",
    "    def extract_feature(self, x):\n",
    "        return self.get_feature(x)\n",
    "\n",
    "    def make_prediction(self, feature):\n",
    "        outputs = self.backend_model(feature)\n",
    "        return outputs"
   ]
  },
  {
   "cell_type": "code",
   "execution_count": 9,
   "id": "a4552a42-6ed4-40dc-8d6d-3d9d1197df44",
   "metadata": {
    "execution": {
     "iopub.execute_input": "2024-08-09T10:39:07.699103Z",
     "iopub.status.busy": "2024-08-09T10:39:07.698656Z",
     "iopub.status.idle": "2024-08-09T10:39:09.099075Z",
     "shell.execute_reply": "2024-08-09T10:39:09.098334Z",
     "shell.execute_reply.started": "2024-08-09T10:39:07.699061Z"
    },
    "scrolled": true,
    "tags": [
     "active-ipynb",
     "style-student"
    ]
   },
   "outputs": [
    {
     "name": "stderr",
     "output_type": "stream",
     "text": [
      "Some weights of the model checkpoint at /usr/local/ay_data/0-model_weights/microsoft_wavlm-base were not used when initializing WavLMModel: ['encoder.pos_conv_embed.conv.weight_g', 'encoder.pos_conv_embed.conv.weight_v']\n",
      "- This IS expected if you are initializing WavLMModel from the checkpoint of a model trained on another task or with another architecture (e.g. initializing a BertForSequenceClassification model from a BertForPreTraining model).\n",
      "- This IS NOT expected if you are initializing WavLMModel from the checkpoint of a model that you expect to be exactly identical (initializing a BertForSequenceClassification model from a BertForSequenceClassification model).\n",
      "Some weights of WavLMModel were not initialized from the model checkpoint at /usr/local/ay_data/0-model_weights/microsoft_wavlm-base and are newly initialized: ['encoder.pos_conv_embed.conv.parametrizations.weight.original0', 'encoder.pos_conv_embed.conv.parametrizations.weight.original1']\n",
      "You should probably TRAIN this model on a down-stream task to be able to use it for predictions and inference.\n"
     ]
    },
    {
     "data": {
      "text/plain": [
       "tensor([[-0.2070],\n",
       "        [-0.2199],\n",
       "        [-0.2235],\n",
       "        [-0.2120],\n",
       "        [-0.2166],\n",
       "        [-0.2089],\n",
       "        [-0.1970],\n",
       "        [-0.1958],\n",
       "        [-0.2072],\n",
       "        [-0.2172]], grad_fn=<AddmmBackward0>)"
      ]
     },
     "execution_count": 9,
     "metadata": {},
     "output_type": "execute_result"
    }
   ],
   "source": [
    "x = torch.rand(10, 69000)\n",
    "model = BaseLine(backend='linear', pretrain_feat=\"last_hidden_state\")\n",
    "\n",
    "model(x)"
   ]
  }
 ],
 "metadata": {
  "jupytext": {
   "formats": "ipynb,py:light"
  },
  "kernelspec": {
   "display_name": "Python 3 (ipykernel)",
   "language": "python",
   "name": "python3"
  },
  "language_info": {
   "codemirror_mode": {
    "name": "ipython",
    "version": 3
   },
   "file_extension": ".py",
   "mimetype": "text/x-python",
   "name": "python",
   "nbconvert_exporter": "python",
   "pygments_lexer": "ipython3",
   "version": "3.9.18"
  }
 },
 "nbformat": 4,
 "nbformat_minor": 5
}
