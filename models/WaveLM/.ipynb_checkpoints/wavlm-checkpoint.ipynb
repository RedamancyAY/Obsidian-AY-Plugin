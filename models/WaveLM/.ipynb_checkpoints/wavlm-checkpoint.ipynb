{
 "cells": [
  {
   "cell_type": "code",
   "execution_count": 1,
   "id": "caf012ad-3972-4f7c-912b-03394bda3388",
   "metadata": {
    "execution": {
     "iopub.execute_input": "2023-06-30T07:42:30.152858Z",
     "iopub.status.busy": "2023-06-30T07:42:30.152507Z",
     "iopub.status.idle": "2023-06-30T07:42:30.169207Z",
     "shell.execute_reply": "2023-06-30T07:42:30.168688Z",
     "shell.execute_reply.started": "2023-06-30T07:42:30.152827Z"
    }
   },
   "outputs": [],
   "source": [
    "%load_ext autoreload\n",
    "%autoreload 2"
   ]
  },
  {
   "cell_type": "code",
   "execution_count": 2,
   "id": "de7af410-0c88-4cbf-9c6d-c777dd8b2c98",
   "metadata": {
    "execution": {
     "iopub.execute_input": "2023-06-30T07:42:31.671661Z",
     "iopub.status.busy": "2023-06-30T07:42:31.671327Z",
     "iopub.status.idle": "2023-06-30T07:42:33.362645Z",
     "shell.execute_reply": "2023-06-30T07:42:33.361996Z",
     "shell.execute_reply.started": "2023-06-30T07:42:31.671641Z"
    }
   },
   "outputs": [],
   "source": [
    "import torch\n",
    "import torch.nn as nn\n",
    "from transformers import AutoFeatureExtractor, WavLMModel"
   ]
  },
  {
   "cell_type": "code",
   "execution_count": 4,
   "id": "0b459dc3-b5ef-4a27-a3ba-16063a60d954",
   "metadata": {
    "execution": {
     "iopub.execute_input": "2023-06-30T07:42:50.669167Z",
     "iopub.status.busy": "2023-06-30T07:42:50.668274Z",
     "iopub.status.idle": "2023-06-30T07:42:50.700571Z",
     "shell.execute_reply": "2023-06-30T07:42:50.700012Z",
     "shell.execute_reply.started": "2023-06-30T07:42:50.669121Z"
    }
   },
   "outputs": [],
   "source": [
    "class BaseLine(nn.Module):\n",
    "    def __init__(self, pretrain_feat=\"extract_features\", backend='linear', num_classes=1, **kwargs):\n",
    "        super().__init__()\n",
    "\n",
    "        assert pretrain_feat in [\"last_hidden_state\", \"extract_features\"]\n",
    "        self.pretrain_feat = pretrain_feat\n",
    "        # The channels of used features for the pretrained model is 512 when using\n",
    "        # the 'extract_features',  but 768 when [\"last_hidden_state\"] is used.\n",
    "        C_features = 512 if pretrain_feat == \"extract_features\" else 768\n",
    "        \n",
    "        self.pretrain_model = WavLMModel.from_pretrained(\n",
    "            \"/usr/local/ay_data/0-model_weights/microsoft_wavlm-base\"\n",
    "        )\n",
    "\n",
    "        self.backend = backend\n",
    "        if backend == 'resnet':\n",
    "            self.backend_model = ResNet50(\n",
    "                in_channels=C_features, classes=num_classes\n",
    "            )\n",
    "        elif backend == 'linear':\n",
    "            self.pooler = nn.AdaptiveAvgPool1d(1)\n",
    "            self.backend_model = nn.Linear(C_features, num_classes)\n",
    "\n",
    "    def get_feature(self, x):\n",
    "        feature = self.pretrain_model(x)[self.pretrain_feat]\n",
    "        feature = torch.transpose(feature, 1, 2)\n",
    "        if self.backend == 'linear':\n",
    "            feature = torch.squeeze(self.pooler(feature), -1)\n",
    "        return feature\n",
    "    \n",
    "    def forward(self, x):\n",
    "        feature = self.pretrain_model(x)[self.pretrain_feat]\n",
    "        feature = torch.transpose(feature, 1, 2)\n",
    "        if self.backend == 'linear':\n",
    "            feature = torch.squeeze(self.pooler(feature), -1)\n",
    "        # print(feature.shape, self.pooler(feature).shape)\n",
    "        outputs = self.backend_model(feature)\n",
    "        return outputs\n",
    "\n",
    "    def extract_feature(self, x):\n",
    "        return self.get_feature(x)\n",
    "\n",
    "    def make_prediction(self, feature):\n",
    "        outputs = self.backend_model(feature)\n",
    "        return outputs"
   ]
  },
  {
   "cell_type": "code",
   "execution_count": 5,
   "id": "a4552a42-6ed4-40dc-8d6d-3d9d1197df44",
   "metadata": {
    "execution": {
     "iopub.execute_input": "2023-06-30T07:42:52.532641Z",
     "iopub.status.busy": "2023-06-30T07:42:52.531999Z",
     "iopub.status.idle": "2023-06-30T07:42:59.637479Z",
     "shell.execute_reply": "2023-06-30T07:42:59.636985Z",
     "shell.execute_reply.started": "2023-06-30T07:42:52.532596Z"
    },
    "scrolled": true,
    "tags": [
     "active-ipynb",
     "style-student"
    ]
   },
   "outputs": [
    {
     "data": {
      "text/plain": [
       "tensor([[-0.0372],\n",
       "        [-0.0493],\n",
       "        [-0.0433],\n",
       "        [-0.0482],\n",
       "        [-0.0439],\n",
       "        [-0.0617],\n",
       "        [-0.0398],\n",
       "        [-0.0427],\n",
       "        [-0.0491],\n",
       "        [-0.0434]], grad_fn=<AddmmBackward0>)"
      ]
     },
     "execution_count": 5,
     "metadata": {},
     "output_type": "execute_result"
    }
   ],
   "source": [
    "x = torch.rand(10, 69000)\n",
    "model = BaseLine(backend='linear')\n",
    "\n",
    "model(x)"
   ]
  }
 ],
 "metadata": {
  "jupytext": {
   "formats": "ipynb,py:light"
  },
  "kernelspec": {
   "display_name": "Python 3 (ipykernel)",
   "language": "python",
   "name": "python3"
  },
  "language_info": {
   "codemirror_mode": {
    "name": "ipython",
    "version": 3
   },
   "file_extension": ".py",
   "mimetype": "text/x-python",
   "name": "python",
   "nbconvert_exporter": "python",
   "pygments_lexer": "ipython3",
   "version": "3.9.18"
  }
 },
 "nbformat": 4,
 "nbformat_minor": 5
}
