{
 "cells": [
  {
   "cell_type": "code",
   "execution_count": null,
   "id": "2f93f0ed-83fe-44ae-af4d-515bee10e38c",
   "metadata": {
    "tags": []
   },
   "outputs": [],
   "source": [
    "%load_ext autoreload\n",
    "%autoreload 2"
   ]
  },
  {
   "cell_type": "code",
   "execution_count": null,
   "id": "36ddfdc5-46a4-4a1f-967f-e11f11a9df38",
   "metadata": {
    "tags": []
   },
   "outputs": [],
   "source": [
    "import argparse\n",
    "import os\n",
    "import random\n",
    "import sys\n",
    "\n",
    "import numpy as np\n",
    "import torch"
   ]
  },
  {
   "cell_type": "code",
   "execution_count": null,
   "id": "09934597-01d3-4415-a0a3-4f4375f524c3",
   "metadata": {},
   "outputs": [],
   "source": [
    "def make_model(cfg_file, cfg, args):\n",
    "    \"\"\"build models from cfg file name and model cfg\n",
    "\n",
    "    Args:\n",
    "        cfg_file: the file name of the model cfg, such as \"LCNN/wavefake\"\n",
    "        cfg: the model config\n",
    "\n",
    "    \"\"\"\n",
    "    if cfg_file.startswith(\"LCNN/\"):\n",
    "        from .LFCC_LCNN import LCNN_lit\n",
    "\n",
    "        model = LCNN_lit()\n",
    "    elif cfg_file.startswith(\"RawNet2/\"):\n",
    "        from .RawNet import RawNet2_lit\n",
    "\n",
    "        model = RawNet2_lit()\n",
    "    elif cfg_file.startswith(\"WaveLM/\"):\n",
    "        from .WaveLM import WaveLM_lit\n",
    "\n",
    "        model = WaveLM_lit()\n",
    "    elif cfg_file.startswith(\"Wave2Vec2\"):\n",
    "        from .Wave2Vec2 import Wav2Vec2_lit\n",
    "\n",
    "        model = Wav2Vec2_lit()\n",
    "    elif cfg_file.startswith(\"LibriSeVoc\"):\n",
    "        from .LibriSeVoc import LibriSeVoc_lit\n",
    "\n",
    "        model = LibriSeVoc_lit(cfg=cfg.MODEL)\n",
    "    elif cfg_file.startswith(\"Ours/\"):\n",
    "        from .Ours import AudioModel_lit\n",
    "\n",
    "        model = AudioModel_lit(cfg=cfg.MODEL, args=args)\n",
    "    elif cfg_file.startswith(\"Wav2Clip/\"):\n",
    "        from .Wav2Clip import Wav2Clip_lit\n",
    "\n",
    "        model = Wav2Clip_lit(cfg=cfg.MODEL)\n",
    "    elif cfg_file.startswith(\"AudioClip/\"):\n",
    "        from .AudioClip import AudioClip_lit\n",
    "\n",
    "        model = AudioClip_lit(cfg=cfg.MODEL)\n",
    "    elif cfg_file.startswith(\"AASIST/\"):\n",
    "        from .Aaasist import AASIST_lit\n",
    "\n",
    "        model = AASIST_lit(cfg=cfg.MODEL)\n",
    "    elif cfg_file.startswith(\"RawGAT/\"):\n",
    "        from .RawGAT_ST import RawGAT_lit\n",
    "\n",
    "        model = RawGAT_lit(cfg=cfg.MODEL)\n",
    "    elif cfg_file.startswith(\"OursMultiView\"):\n",
    "        from .OursMultiView import MultiViewModel_lit\n",
    "        model = MultiViewModel_lit(cfg=cfg.MODEL, args=args)\n",
    "    return model"
   ]
  },
  {
   "cell_type": "code",
   "execution_count": 8,
   "id": "f8d3d12c-b749-4b98-ba8e-b4ec2fec0a22",
   "metadata": {
    "execution": {
     "iopub.execute_input": "2024-03-05T07:22:51.633930Z",
     "iopub.status.busy": "2024-03-05T07:22:51.633267Z",
     "iopub.status.idle": "2024-03-05T07:22:51.645050Z",
     "shell.execute_reply": "2024-03-05T07:22:51.642760Z",
     "shell.execute_reply.started": "2024-03-05T07:22:51.633868Z"
    },
    "tags": []
   },
   "outputs": [],
   "source": [
    "def make_attack_model(cfg_file, cfg, args):\n",
    "    from .RawNet import RawNet2_lit\n",
    "    path = (\n",
    "        \"/mnt/data/zky/DATA/1-model_save/00-Deepfake/1-df-audio-old/RawNet2/DECRO_chinese\"\n",
    "        \"/version_0/checkpoints/best-epoch=12-val-auc=0.9745.ckpt\"\n",
    "    )\n",
    "    cls_model = RawNet2_lit()\n",
    "    sd = torch.load(path)['state_dict']\n",
    "    cls_model.load_state_dict(sd)\n",
    "\n",
    "    \n",
    "    if cfg_file.startswith(\"Attack/Ours\"):\n",
    "        from .attacks.Ours import AudioAttackModel\n",
    "\n",
    "        model = AudioAttackModel(\n",
    "            cfg=cfg.MODEL, args=args, audio_detection_model=cls_model\n",
    "        )\n",
    "    return model"
   ]
  }
 ],
 "metadata": {
  "jupytext": {
   "formats": "ipynb,py:light"
  },
  "kernelspec": {
   "display_name": "Python 3 (ipykernel)",
   "language": "python",
   "name": "python3"
  },
  "language_info": {
   "codemirror_mode": {
    "name": "ipython",
    "version": 3
   },
   "file_extension": ".py",
   "mimetype": "text/x-python",
   "name": "python",
   "nbconvert_exporter": "python",
   "pygments_lexer": "ipython3",
   "version": "3.9.18"
  }
 },
 "nbformat": 4,
 "nbformat_minor": 5
}
