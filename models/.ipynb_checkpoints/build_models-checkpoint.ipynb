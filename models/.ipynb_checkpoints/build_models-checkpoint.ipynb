{
 "cells": [
  {
   "cell_type": "code",
   "execution_count": 1,
   "id": "2f93f0ed-83fe-44ae-af4d-515bee10e38c",
   "metadata": {
    "editable": true,
    "execution": {
     "iopub.execute_input": "2025-01-08T08:31:34.607125Z",
     "iopub.status.busy": "2025-01-08T08:31:34.606805Z",
     "iopub.status.idle": "2025-01-08T08:31:34.661993Z",
     "shell.execute_reply": "2025-01-08T08:31:34.661043Z",
     "shell.execute_reply.started": "2025-01-08T08:31:34.607087Z"
    },
    "slideshow": {
     "slide_type": ""
    },
    "tags": []
   },
   "outputs": [],
   "source": [
    "%load_ext autoreload\n",
    "%autoreload 2"
   ]
  },
  {
   "cell_type": "code",
   "execution_count": null,
   "id": "36ddfdc5-46a4-4a1f-967f-e11f11a9df38",
   "metadata": {
    "tags": []
   },
   "outputs": [],
   "source": [
    "import argparse\n",
    "import os\n",
    "import random\n",
    "import sys\n",
    "\n",
    "import numpy as np\n",
    "import torch"
   ]
  },
  {
   "cell_type": "code",
   "execution_count": null,
   "id": "09934597-01d3-4415-a0a3-4f4375f524c3",
   "metadata": {
    "editable": true,
    "slideshow": {
     "slide_type": ""
    },
    "tags": []
   },
   "outputs": [],
   "source": [
    "def make_model(cfg_file, cfg, args):\n",
    "    \"\"\"build models from cfg file name and model cfg\n",
    "\n",
    "    Args:\n",
    "        cfg_file: the file name of the model cfg, such as \"LCNN/wavefake\"\n",
    "        cfg: the model config\n",
    "\n",
    "    \"\"\"\n",
    "    if cfg_file.startswith(\"LCNN/\"):\n",
    "        from .LFCC_LCNN import LCNN_lit\n",
    "\n",
    "        model = LCNN_lit()\n",
    "    elif cfg_file.startswith(\"RawNet2/\"):\n",
    "        from .RawNet import RawNet2_lit\n",
    "\n",
    "        model = RawNet2_lit()\n",
    "    elif cfg_file.startswith(\"WaveLM/\"):\n",
    "        from .WaveLM import WaveLM_lit\n",
    "\n",
    "        model = WaveLM_lit()\n",
    "    elif cfg_file.startswith(\"Wave2Vec2\"):\n",
    "        from .Wave2Vec2 import Wav2Vec2_lit\n",
    "\n",
    "        model = Wav2Vec2_lit()\n",
    "    elif cfg_file.startswith(\"LibriSeVoc\"):\n",
    "        from .LibriSeVoc import LibriSeVoc_lit\n",
    "\n",
    "        model = LibriSeVoc_lit(cfg=cfg.MODEL)\n",
    "    elif cfg_file.startswith(\"Ours/\"):\n",
    "        from .Ours import AudioModel_lit\n",
    "\n",
    "        model = AudioModel_lit(cfg=cfg.MODEL, args=args)\n",
    "    elif cfg_file.startswith(\"Wav2Clip/\"):\n",
    "        from .Wav2Clip import Wav2Clip_lit\n",
    "\n",
    "        model = Wav2Clip_lit(cfg=cfg.MODEL)\n",
    "    elif cfg_file.startswith(\"AudioClip/\"):\n",
    "        from .AudioClip import AudioClip_lit\n",
    "\n",
    "        model = AudioClip_lit(cfg=cfg.MODEL)\n",
    "    elif cfg_file.startswith(\"AASIST/\"):\n",
    "        from .Aaasist import AASIST_lit\n",
    "\n",
    "        model = AASIST_lit(cfg=cfg.MODEL)\n",
    "    elif cfg_file.startswith(\"RawGAT/\"):\n",
    "        from .RawGAT_ST import RawGAT_lit\n",
    "\n",
    "        model = RawGAT_lit(cfg=cfg.MODEL)\n",
    "    elif cfg_file.startswith(\"ASDG/\"):\n",
    "        from .ASDG import ASDG_lit\n",
    "\n",
    "        model = ASDG_lit(cfg=cfg.MODEL)\n",
    "    elif cfg_file.startswith(\"ABCNet/\"):\n",
    "        from .Audio_models.ABCNet import ABCNet_lit\n",
    "\n",
    "        model = ABCNet_lit(cfg=cfg.MODEL)\n",
    "    elif cfg_file.startswith(\"MPE_LCNN/\"):\n",
    "        from .Audio_models.MPE_LCNN import MPE_LCNN_lit\n",
    "\n",
    "        model = MPE_LCNN_lit(cfg=cfg.MODEL)\n",
    "    elif cfg_file.startswith(\"SFATNet/\"):\n",
    "        from .Audio_models.SFAT_Net import SFATNet_lit\n",
    "\n",
    "        model = SFATNet_lit(cfg=cfg.MODEL)\n",
    "        \n",
    "    elif cfg_file.startswith(\"MultiViewCombine/\"):\n",
    "        from .OurModels.MultiViewCombine import MultiViewCombine_lit\n",
    "\n",
    "        model = MultiViewCombine_lit(cfg=cfg.MODEL.MultiViewCombine, args=args)\n",
    "    elif cfg_file.startswith(\"OursMultiView/\"):\n",
    "        from .OursMultiView import MultiViewModel_lit\n",
    "\n",
    "        model = MultiViewModel_lit(cfg=cfg.MODEL, args=args)\n",
    "    elif cfg_file.startswith(\"OursMultiView2/\"):\n",
    "        from .OursMultiView2 import MultiViewModel_lit\n",
    "\n",
    "        model = MultiViewModel_lit(cfg=cfg.MODEL, args=args)\n",
    "    elif cfg_file.startswith(\"OursMultiView3/\"):\n",
    "        from .OurModels.OursMultiView3 import MultiViewModel_lit\n",
    "\n",
    "        model = MultiViewModel_lit(cfg=cfg.MODEL, args=args)\n",
    "    elif cfg_file.startswith(\"OursMultiView3D/\"):\n",
    "        from .OurModels.MultiView3D import MultiView3DModel_lit\n",
    "\n",
    "        model = MultiView3DModel_lit(cfg=cfg.MODEL, args=args)\n",
    "    elif cfg_file.startswith(\"OursCLIP/\"):\n",
    "        from .OursCLIP import OursCLIP_lit\n",
    "\n",
    "        model = OursCLIP_lit(cfg=cfg.MODEL, args=args)\n",
    "    elif cfg_file.startswith(\"OursLCNN/\"):\n",
    "        from .OurModels.OursLCNN import OursLCNN_lit\n",
    "\n",
    "        model = OursLCNN_lit(cfg=cfg.MODEL, args=args)\n",
    "    elif cfg_file.startswith(\"OursPhonemeGAT/\"):\n",
    "        from .OurModels.phoneme_GAT import Phoneme_GAT_lit\n",
    "\n",
    "        model = Phoneme_GAT_lit(cfg=cfg.MODEL, args=args)\n",
    "\n",
    "    elif cfg_file.startswith(\"OursRVQ/\"):\n",
    "        from .OurModels.RVQ import RVQ_lit\n",
    "    \n",
    "        model = RVQ_lit(cfg=cfg.MODEL, args=args)\n",
    "    \n",
    "    return model"
   ]
  },
  {
   "cell_type": "code",
   "execution_count": 8,
   "id": "f8d3d12c-b749-4b98-ba8e-b4ec2fec0a22",
   "metadata": {
    "execution": {
     "iopub.execute_input": "2024-03-05T07:22:51.633930Z",
     "iopub.status.busy": "2024-03-05T07:22:51.633267Z",
     "iopub.status.idle": "2024-03-05T07:22:51.645050Z",
     "shell.execute_reply": "2024-03-05T07:22:51.642760Z",
     "shell.execute_reply.started": "2024-03-05T07:22:51.633868Z"
    },
    "tags": []
   },
   "outputs": [],
   "source": [
    "def make_attack_model(cfg_file, cfg, args):\n",
    "    from .RawNet import RawNet2_lit\n",
    "\n",
    "    path = (\n",
    "        \"/mnt/data/zky/DATA/1-model_save/00-Deepfake/1-df-audio-old/RawNet2/DECRO_chinese\"\n",
    "        \"/version_0/checkpoints/best-epoch=12-val-auc=0.9745.ckpt\"\n",
    "    )\n",
    "    cls_model = RawNet2_lit()\n",
    "    sd = torch.load(path)[\"state_dict\"]\n",
    "    cls_model.load_state_dict(sd)\n",
    "\n",
    "    if cfg_file.startswith(\"Attack/Ours\"):\n",
    "        from .attacks.Ours import AudioAttackModel\n",
    "\n",
    "        model = AudioAttackModel(cfg=cfg.MODEL, args=args, audio_detection_model=cls_model)\n",
    "    return model"
   ]
  }
 ],
 "metadata": {
  "jupytext": {
   "formats": "ipynb,py:light"
  },
  "kernelspec": {
   "display_name": "Python 3 (ipykernel)",
   "language": "python",
   "name": "python3"
  },
  "language_info": {
   "codemirror_mode": {
    "name": "ipython",
    "version": 3
   },
   "file_extension": ".py",
   "mimetype": "text/x-python",
   "name": "python",
   "nbconvert_exporter": "python",
   "pygments_lexer": "ipython3",
   "version": "3.9.18"
  }
 },
 "nbformat": 4,
 "nbformat_minor": 5
}
