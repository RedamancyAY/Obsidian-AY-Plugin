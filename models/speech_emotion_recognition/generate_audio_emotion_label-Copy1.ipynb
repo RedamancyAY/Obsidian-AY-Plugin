{
 "cells": [
  {
   "cell_type": "code",
   "execution_count": 1,
   "id": "70dafd5b-a881-4fd4-9f4b-79a060b226ba",
   "metadata": {
    "execution": {
     "iopub.execute_input": "2023-08-01T02:53:05.253219Z",
     "iopub.status.busy": "2023-08-01T02:53:05.252674Z",
     "iopub.status.idle": "2023-08-01T02:53:05.283980Z",
     "shell.execute_reply": "2023-08-01T02:53:05.282513Z",
     "shell.execute_reply.started": "2023-08-01T02:53:05.253172Z"
    }
   },
   "outputs": [],
   "source": [
    "%load_ext autoreload\n",
    "%autoreload 2"
   ]
  },
  {
   "cell_type": "code",
   "execution_count": 2,
   "id": "a835d47e-cf8b-4609-93ec-9bd42a34100d",
   "metadata": {
    "execution": {
     "iopub.execute_input": "2023-08-01T02:53:05.981998Z",
     "iopub.status.busy": "2023-08-01T02:53:05.981446Z",
     "iopub.status.idle": "2023-08-01T02:53:06.001249Z",
     "shell.execute_reply": "2023-08-01T02:53:05.999944Z",
     "shell.execute_reply.started": "2023-08-01T02:53:05.981951Z"
    }
   },
   "outputs": [],
   "source": [
    "import sys"
   ]
  },
  {
   "cell_type": "code",
   "execution_count": 3,
   "id": "7b158b18-dbd4-48fa-9483-ca427076bd8e",
   "metadata": {
    "execution": {
     "iopub.execute_input": "2023-08-01T02:53:06.600421Z",
     "iopub.status.busy": "2023-08-01T02:53:06.599379Z",
     "iopub.status.idle": "2023-08-01T02:53:06.618158Z",
     "shell.execute_reply": "2023-08-01T02:53:06.616917Z",
     "shell.execute_reply.started": "2023-08-01T02:53:06.600375Z"
    }
   },
   "outputs": [],
   "source": [
    "sys.path.append('/home/ay/zky/Coding/0-Audio')"
   ]
  },
  {
   "cell_type": "code",
   "execution_count": 4,
   "id": "93689797-5ead-4fb0-859e-e3d8f7766cb6",
   "metadata": {
    "execution": {
     "iopub.execute_input": "2023-08-01T02:53:07.088903Z",
     "iopub.status.busy": "2023-08-01T02:53:07.087867Z",
     "iopub.status.idle": "2023-08-01T02:53:08.830556Z",
     "shell.execute_reply": "2023-08-01T02:53:08.829389Z",
     "shell.execute_reply.started": "2023-08-01T02:53:07.088860Z"
    }
   },
   "outputs": [],
   "source": [
    "import json, os\n",
    "from dataclasses import dataclass\n",
    "\n",
    "import numpy as np\n",
    "import pandas as pd\n",
    "import torch\n",
    "import torch.nn as nn\n",
    "from torch.nn import BCEWithLogitsLoss, CrossEntropyLoss, MSELoss\n",
    "from tqdm import tqdm\n",
    "from rich.progress import track\n",
    "import pytorch_lightning as pl"
   ]
  },
  {
   "cell_type": "code",
   "execution_count": 5,
   "id": "bddce729-dd9c-42d9-9d36-1a90cbdbd571",
   "metadata": {
    "editable": true,
    "execution": {
     "iopub.execute_input": "2023-08-01T02:53:08.831763Z",
     "iopub.status.busy": "2023-08-01T02:53:08.831531Z",
     "iopub.status.idle": "2023-08-01T02:53:10.091836Z",
     "shell.execute_reply": "2023-08-01T02:53:10.090933Z",
     "shell.execute_reply.started": "2023-08-01T02:53:08.831748Z"
    },
    "slideshow": {
     "slide_type": ""
    },
    "tags": []
   },
   "outputs": [],
   "source": [
    "from models.speech_emotion_recognition.train_model import WaveLM_lit\n",
    "from data.datasets import WaveFake, LibriSeVoc\n",
    "from data.tools import WaveDataset\n"
   ]
  },
  {
   "cell_type": "markdown",
   "id": "6c8b98cb-36b2-43d6-bf29-8e34882fb487",
   "metadata": {
    "execution": {
     "iopub.execute_input": "2023-07-26T05:30:07.093598Z",
     "iopub.status.busy": "2023-07-26T05:30:07.092992Z",
     "iopub.status.idle": "2023-07-26T05:30:07.148562Z",
     "shell.execute_reply": "2023-07-26T05:30:07.147301Z",
     "shell.execute_reply.started": "2023-07-26T05:30:07.093541Z"
    }
   },
   "source": [
    "## Our's model"
   ]
  },
  {
   "cell_type": "code",
   "execution_count": 9,
   "id": "747acaeb-b4f2-4659-8f0f-54fb4c1d9789",
   "metadata": {
    "execution": {
     "iopub.execute_input": "2023-08-01T02:53:39.282183Z",
     "iopub.status.busy": "2023-08-01T02:53:39.281595Z",
     "iopub.status.idle": "2023-08-01T02:53:39.331366Z",
     "shell.execute_reply": "2023-08-01T02:53:39.330514Z",
     "shell.execute_reply.started": "2023-08-01T02:53:39.282136Z"
    }
   },
   "outputs": [],
   "source": [
    "def get_pretrained_model():\n",
    "    ckpt_path = \"/home/ay/data/DATA/1-model_save/0-Audio/speech_emotion_recognition/version_0/checkpoints/best-epoch=110-val-loss=0.16.ckpt\"\n",
    "    model1 = WaveLM_lit(num_classes=13)\n",
    "    model1 = model1.load_from_checkpoint(ckpt_path).to(\"cpu\")\n",
    "    return model1.model"
   ]
  },
  {
   "cell_type": "code",
   "execution_count": 21,
   "id": "d6aee3c2-2ee3-41f1-ba50-8551110b238b",
   "metadata": {
    "execution": {
     "iopub.execute_input": "2023-08-01T03:21:54.668412Z",
     "iopub.status.busy": "2023-08-01T03:21:54.667405Z",
     "iopub.status.idle": "2023-08-01T03:21:55.994633Z",
     "shell.execute_reply": "2023-08-01T03:21:55.993943Z",
     "shell.execute_reply.started": "2023-08-01T03:21:54.668363Z"
    }
   },
   "outputs": [
    {
     "name": "stdout",
     "output_type": "stream",
     "text": [
      "92407\n",
      "92407 92407\n",
      "92407 92407\n",
      "92407\n"
     ]
    }
   ],
   "source": [
    "dataset = LibriSeVoc(root_path='/home/ay/data/DATA/dataset/0-audio/LibriSeVoc')\n",
    "data = dataset.data"
   ]
  },
  {
   "cell_type": "code",
   "execution_count": 14,
   "id": "8a83f27d-cd44-4e7d-8b78-9b97d2c11e79",
   "metadata": {
    "editable": true,
    "execution": {
     "iopub.execute_input": "2023-08-01T02:56:13.530577Z",
     "iopub.status.busy": "2023-08-01T02:56:13.529996Z",
     "iopub.status.idle": "2023-08-01T02:56:13.580416Z",
     "shell.execute_reply": "2023-08-01T02:56:13.579631Z",
     "shell.execute_reply.started": "2023-08-01T02:56:13.530530Z"
    },
    "slideshow": {
     "slide_type": ""
    },
    "tags": []
   },
   "outputs": [],
   "source": [
    "_ds = WaveDataset(\n",
    "    data,\n",
    "    sample_rate=16000,\n",
    "    trim=False,\n",
    "    max_wave_length=-1,\n",
    "    transform=None,\n",
    "    is_training=False,\n",
    ")\n",
    "_dl = torch.utils.data.DataLoader(\n",
    "    _ds,\n",
    "    batch_size=1,\n",
    "    num_workers=4,\n",
    "    pin_memory=True,\n",
    "    shuffle=False,\n",
    "    prefetch_factor=2,\n",
    ")"
   ]
  },
  {
   "cell_type": "code",
   "execution_count": 16,
   "id": "41aa1410-9acd-4e89-a6c2-1f54d998e972",
   "metadata": {
    "editable": true,
    "execution": {
     "iopub.execute_input": "2023-08-01T03:12:23.261259Z",
     "iopub.status.busy": "2023-08-01T03:12:23.260661Z",
     "iopub.status.idle": "2023-08-01T03:12:29.864352Z",
     "shell.execute_reply": "2023-08-01T03:12:29.863159Z",
     "shell.execute_reply.started": "2023-08-01T03:12:23.261201Z"
    },
    "scrolled": true,
    "slideshow": {
     "slide_type": ""
    },
    "tags": []
   },
   "outputs": [],
   "source": [
    "model = get_pretrained_model()\n",
    "model = model.to('cuda:1')"
   ]
  },
  {
   "cell_type": "code",
   "execution_count": 11,
   "id": "b4db76aa-fb3d-4993-9e25-440c9f9c2e08",
   "metadata": {
    "execution": {
     "iopub.execute_input": "2023-08-01T02:54:57.130863Z",
     "iopub.status.busy": "2023-08-01T02:54:57.130281Z",
     "iopub.status.idle": "2023-08-01T02:54:57.185969Z",
     "shell.execute_reply": "2023-08-01T02:54:57.184730Z",
     "shell.execute_reply.started": "2023-08-01T02:54:57.130817Z"
    }
   },
   "outputs": [],
   "source": [
    "import rich.progress\n",
    "import time\n",
    "class MyTask(rich.progress.Task):\n",
    "    \n",
    "    @property\n",
    "    def description(self):\n",
    "        return f\"{self._desc}: {self.completed}/{int(self.total)}\"\n",
    "\n",
    "    @description.setter\n",
    "    def description(self, x):\n",
    "        self._desc = x\n",
    "\n",
    "rich.progress.Task = MyTask"
   ]
  },
  {
   "cell_type": "code",
   "execution_count": 17,
   "id": "23310279-7190-42a2-ae1d-48a3d7add7b9",
   "metadata": {
    "editable": true,
    "execution": {
     "iopub.execute_input": "2023-08-01T03:12:35.864004Z",
     "iopub.status.busy": "2023-08-01T03:12:35.863410Z",
     "iopub.status.idle": "2023-08-01T03:21:08.477192Z",
     "shell.execute_reply": "2023-08-01T03:21:08.476214Z",
     "shell.execute_reply.started": "2023-08-01T03:12:35.863958Z"
    },
    "scrolled": true,
    "slideshow": {
     "slide_type": ""
    },
    "tags": []
   },
   "outputs": [
    {
     "data": {
      "application/vnd.jupyter.widget-view+json": {
       "model_id": "258c668574c744f090950959b84df7d8",
       "version_major": 2,
       "version_minor": 0
      },
      "text/plain": [
       "Output()"
      ]
     },
     "metadata": {},
     "output_type": "display_data"
    },
    {
     "data": {
      "text/html": [
       "<pre style=\"white-space:pre;overflow-x:auto;line-height:normal;font-family:Menlo,'DejaVu Sans Mono',consolas,'Courier New',monospace\"></pre>\n"
      ],
      "text/plain": []
     },
     "metadata": {},
     "output_type": "display_data"
    },
    {
     "data": {
      "text/html": [
       "<pre style=\"white-space:pre;overflow-x:auto;line-height:normal;font-family:Menlo,'DejaVu Sans Mono',consolas,'Courier New',monospace\">\n",
       "</pre>\n"
      ],
      "text/plain": [
       "\n"
      ]
     },
     "metadata": {},
     "output_type": "display_data"
    }
   ],
   "source": [
    "output_file = os.path.join(dataset.root_path, 'emotion.json')\n",
    "\n",
    "try:\n",
    "    with open(output_file, \"r\") as file:\n",
    "        json_data = json.load(file)\n",
    "        res = dict(json_data)\n",
    "except FileNotFoundError:\n",
    "    res = {}\n",
    "\n",
    "\n",
    "\n",
    "for i, x in rich.progress.track(enumerate(_dl), total=len(_dl)):\n",
    "    name = x['name'][0]\n",
    "    if name in res.keys():\n",
    "        continue\n",
    "\n",
    "    x = x['audio'].squeeze_(dim=1)\n",
    "    y = model(x.to('cuda:1'))\n",
    "    labels = list(torch.max(y, dim=1).indices.detach().cpu().numpy())\n",
    "\n",
    "    res[name] = int(labels[0])\n",
    "    if i % 1000 == 0 or i == len(_dl) - 1:\n",
    "        with open(output_file, \"w\") as file:\n",
    "            json.dump(res, file)"
   ]
  }
 ],
 "metadata": {
  "jupytext": {
   "formats": "ipynb,py:light"
  },
  "kernelspec": {
   "display_name": "Python 3 (ipykernel)",
   "language": "python",
   "name": "python3"
  },
  "language_info": {
   "codemirror_mode": {
    "name": "ipython",
    "version": 3
   },
   "file_extension": ".py",
   "mimetype": "text/x-python",
   "name": "python",
   "nbconvert_exporter": "python",
   "pygments_lexer": "ipython3",
   "version": "3.9.16"
  }
 },
 "nbformat": 4,
 "nbformat_minor": 5
}
