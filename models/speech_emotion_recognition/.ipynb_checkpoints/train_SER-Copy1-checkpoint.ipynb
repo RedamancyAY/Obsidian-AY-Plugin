{
 "cells": [
  {
   "cell_type": "code",
   "execution_count": 1,
   "id": "a8456720-69a9-4c4f-bb7a-7de31210812b",
   "metadata": {
    "execution": {
     "iopub.execute_input": "2023-07-25T15:28:35.153137Z",
     "iopub.status.busy": "2023-07-25T15:28:35.152644Z",
     "iopub.status.idle": "2023-07-25T15:28:35.185443Z",
     "shell.execute_reply": "2023-07-25T15:28:35.184157Z",
     "shell.execute_reply.started": "2023-07-25T15:28:35.153090Z"
    }
   },
   "outputs": [],
   "source": [
    "%load_ext autoreload\n",
    "%autoreload 2"
   ]
  },
  {
   "cell_type": "code",
   "execution_count": 13,
   "id": "5459222d-a773-451b-a1ec-36458e366905",
   "metadata": {
    "execution": {
     "iopub.execute_input": "2023-07-25T15:31:57.070016Z",
     "iopub.status.busy": "2023-07-25T15:31:57.069530Z",
     "iopub.status.idle": "2023-07-25T15:31:57.243374Z",
     "shell.execute_reply": "2023-07-25T15:31:57.241974Z",
     "shell.execute_reply.started": "2023-07-25T15:31:57.069971Z"
    }
   },
   "outputs": [],
   "source": [
    "import json\n",
    "from dataclasses import dataclass\n",
    "from typing import Optional, Tuple\n",
    "\n",
    "import IPython.display as ipd\n",
    "import librosa\n",
    "import numpy as np\n",
    "import pandas as pd\n",
    "import torch\n",
    "import torch.nn as nn\n",
    "import torch.nn.functional as F\n",
    "import torchaudio\n",
    "from ay.datasets import ASVP_ESD\n",
    "from torch.nn import BCEWithLogitsLoss, CrossEntropyLoss, MSELoss\n",
    "from tqdm import tqdm\n",
    "from transformers import AutoConfig, Wav2Vec2FeatureExtractor\n",
    "from transformers.file_utils import ModelOutput\n",
    "from transformers.models.wav2vec2.modeling_wav2vec2 import (\n",
    "    Wav2Vec2Model,\n",
    "    Wav2Vec2PreTrainedModel,\n",
    ")"
   ]
  },
  {
   "cell_type": "code",
   "execution_count": 11,
   "id": "ce2e46c4-7090-4797-a1a7-96b35e1d4a3c",
   "metadata": {
    "execution": {
     "iopub.execute_input": "2023-07-25T15:31:42.918018Z",
     "iopub.status.busy": "2023-07-25T15:31:42.917509Z",
     "iopub.status.idle": "2023-07-25T15:31:43.426788Z",
     "shell.execute_reply": "2023-07-25T15:31:43.425572Z",
     "shell.execute_reply.started": "2023-07-25T15:31:42.917972Z"
    }
   },
   "outputs": [],
   "source": [
    "from data.tools import WaveDataset"
   ]
  },
  {
   "cell_type": "code",
   "execution_count": 69,
   "id": "aa66a1cc-399c-47f6-bf62-3afe3ef40b0b",
   "metadata": {
    "execution": {
     "iopub.execute_input": "2023-07-26T06:02:29.941953Z",
     "iopub.status.busy": "2023-07-26T06:02:29.941466Z",
     "iopub.status.idle": "2023-07-26T06:02:29.992181Z",
     "shell.execute_reply": "2023-07-26T06:02:29.991238Z",
     "shell.execute_reply.started": "2023-07-26T06:02:29.941908Z"
    }
   },
   "outputs": [],
   "source": [
    "import pytorch_lightning as pl\n",
    "from ay.torch.audio_df_detection import BinaryClassification\n",
    "from ay.torch.lightning.callbacks import (\n",
    "    ACC_Callback,\n",
    "    APCallback,\n",
    "    AUC_Callback,\n",
    "    Color_progress_bar,\n",
    "    EER_Callback,\n",
    ")\n",
    "from models import AudioModel_lit\n",
    "from models.WaveLM.wavlm import BaseLine as WaveLM\n",
    "from pytorch_lightning.callbacks import EarlyStopping, ModelCheckpoint"
   ]
  },
  {
   "cell_type": "markdown",
   "id": "a354a7a2-013d-4688-a0c8-8281ac0cf2cd",
   "metadata": {},
   "source": [
    "## 数据集"
   ]
  },
  {
   "cell_type": "code",
   "execution_count": 44,
   "id": "5ac4bca1-5b6a-4a5f-a55f-44816ca48016",
   "metadata": {
    "execution": {
     "iopub.execute_input": "2023-07-26T02:04:18.932542Z",
     "iopub.status.busy": "2023-07-26T02:04:18.932049Z",
     "iopub.status.idle": "2023-07-26T02:04:18.987693Z",
     "shell.execute_reply": "2023-07-26T02:04:18.986623Z",
     "shell.execute_reply.started": "2023-07-26T02:04:18.932492Z"
    }
   },
   "outputs": [],
   "source": [
    "from ay.tools.pandas import DF_spliter"
   ]
  },
  {
   "cell_type": "code",
   "execution_count": 7,
   "id": "d59c961e-612a-4600-801e-22be0d27e33b",
   "metadata": {
    "execution": {
     "iopub.execute_input": "2023-07-25T15:30:44.604059Z",
     "iopub.status.busy": "2023-07-25T15:30:44.603363Z",
     "iopub.status.idle": "2023-07-25T15:30:44.684157Z",
     "shell.execute_reply": "2023-07-25T15:30:44.682865Z",
     "shell.execute_reply.started": "2023-07-25T15:30:44.604011Z"
    }
   },
   "outputs": [],
   "source": [
    "dataset = ASVP_ESD()\n",
    "data = dataset.data\n",
    "data = data.query(\"isSpeech == 1\")"
   ]
  },
  {
   "cell_type": "code",
   "execution_count": 47,
   "id": "ccf79b94-1c91-4d58-8d03-add78b263acf",
   "metadata": {
    "execution": {
     "iopub.execute_input": "2023-07-26T02:04:52.049031Z",
     "iopub.status.busy": "2023-07-26T02:04:52.048527Z",
     "iopub.status.idle": "2023-07-26T02:04:52.101457Z",
     "shell.execute_reply": "2023-07-26T02:04:52.100749Z",
     "shell.execute_reply.started": "2023-07-26T02:04:52.048987Z"
    }
   },
   "outputs": [],
   "source": [
    "train, val, test = DF_spliter.split_by_percentage(data, splits=[0.8, 0.1, 0.1])"
   ]
  },
  {
   "cell_type": "code",
   "execution_count": 48,
   "id": "bad13139-4ecb-4823-8240-15c37ab32cf6",
   "metadata": {
    "execution": {
     "iopub.execute_input": "2023-07-26T02:06:25.245188Z",
     "iopub.status.busy": "2023-07-26T02:06:25.244661Z",
     "iopub.status.idle": "2023-07-26T02:06:25.296335Z",
     "shell.execute_reply": "2023-07-26T02:06:25.295077Z",
     "shell.execute_reply.started": "2023-07-26T02:06:25.245142Z"
    }
   },
   "outputs": [],
   "source": [
    "datasets = []\n",
    "data_loaders = []\n",
    "for i, _d in enumerate([train, val, test]):\n",
    "    _ds = WaveDataset(\n",
    "        data,\n",
    "        sample_rate=16000,\n",
    "        trim=False,\n",
    "        max_wave_length=48000,\n",
    "        transform=None,\n",
    "        is_training=True if i == 0 else False,\n",
    "    )\n",
    "    _dl = torch.utils.data.DataLoader(\n",
    "        _ds,\n",
    "        batch_size=32,\n",
    "        num_workers=4,\n",
    "        pin_memory=True,\n",
    "        shuffle=True,\n",
    "        prefetch_factor=2,\n",
    "    )\n",
    "    data_loaders.append(_dl)"
   ]
  },
  {
   "cell_type": "markdown",
   "id": "3cfaab1c-287c-4e57-aac4-c5db6e09ccd7",
   "metadata": {},
   "source": [
    "## 预训练模型"
   ]
  },
  {
   "cell_type": "code",
   "execution_count": 136,
   "id": "b96718c8-be7e-4bb8-b2fc-f8d789411ada",
   "metadata": {
    "execution": {
     "iopub.execute_input": "2023-07-26T14:26:19.466733Z",
     "iopub.status.busy": "2023-07-26T14:26:19.466157Z",
     "iopub.status.idle": "2023-07-26T14:26:19.529088Z",
     "shell.execute_reply": "2023-07-26T14:26:19.528311Z",
     "shell.execute_reply.started": "2023-07-26T14:26:19.466676Z"
    }
   },
   "outputs": [],
   "source": [
    "class WaveLM_lit(BinaryClassification):\n",
    "    def __init__(self, num_classes=1, **kwargs):\n",
    "        super().__init__()\n",
    "        self.model = WaveLM(num_classes=13)\n",
    "        self.loss_fn = nn.CrossEntropyLoss()\n",
    "        self.save_hyperparameters()\n",
    "\n",
    "    def calcuate_loss(self, batch_res, batch):\n",
    "        label = batch[\"label\"]\n",
    "        loss = self.loss_fn(batch_res[\"logit\"], label)\n",
    "        return loss\n",
    "\n",
    "    def configure_optimizers(self):\n",
    "        optimizer = torch.optim.Adam(\n",
    "            self.model.parameters(), lr=0.0001, weight_decay=0.0001\n",
    "        )\n",
    "        return [optimizer]\n",
    "\n",
    "    def _shared_pred(self, batch, batch_idx):\n",
    "        audio, sample_rate = batch[\"audio\"], batch[\"sample_rate\"]\n",
    "        if len(audio.shape) == 3:\n",
    "            audio = audio[:, 0, :]\n",
    "\n",
    "        out = self.model(audio)\n",
    "        return {\n",
    "            \"logit\": out\n",
    "        }"
   ]
  },
  {
   "cell_type": "markdown",
   "id": "0c1e3985-7150-444c-b5ef-d2a014fd0b4b",
   "metadata": {},
   "source": [
    "### callback & trainer"
   ]
  },
  {
   "cell_type": "code",
   "execution_count": 137,
   "id": "9220e9be-24aa-4191-9148-eefdcc1da96f",
   "metadata": {
    "execution": {
     "iopub.execute_input": "2023-07-26T14:26:21.660866Z",
     "iopub.status.busy": "2023-07-26T14:26:21.659852Z",
     "iopub.status.idle": "2023-07-26T14:26:21.719773Z",
     "shell.execute_reply": "2023-07-26T14:26:21.718784Z",
     "shell.execute_reply.started": "2023-07-26T14:26:21.660818Z"
    }
   },
   "outputs": [
    {
     "name": "stderr",
     "output_type": "stream",
     "text": [
      "GPU available: True (cuda), used: True\n",
      "TPU available: False, using: 0 TPU cores\n",
      "IPU available: False, using: 0 IPUs\n",
      "HPU available: False, using: 0 HPUs\n"
     ]
    }
   ],
   "source": [
    "def make_callbacks():\n",
    "    callbacks = [\n",
    "        Color_progress_bar(),\n",
    "        ModelCheckpoint(\n",
    "            dirpath=None,\n",
    "            save_top_k=1,\n",
    "            monitor=\"val-loss\",\n",
    "            mode=\"min\",\n",
    "            save_last=True,\n",
    "            filename=\"best-{epoch}-{val-loss:.2f}\",\n",
    "        ),\n",
    "        EarlyStopping(\n",
    "            monitor=\"val-auc\",\n",
    "            min_delta=0.0001,\n",
    "            patience=5,\n",
    "            mode=\"max\",\n",
    "            stopping_threshold=0.999,\n",
    "            verbose=True,\n",
    "        ),\n",
    "        AUC_Callback(batch_key=\"label\", output_key=\"logit\", num_classes=13),\n",
    "    ]\n",
    "    return callbacks\n",
    "\n",
    "\n",
    "ROOT_DIR = \"/home/ay/data/DATA/1-model_save/0-Audio\"\n",
    "trainer = pl.Trainer(\n",
    "    max_epochs=300,\n",
    "    accelerator=\"gpu\",\n",
    "    devices=[0],\n",
    "    logger=pl.loggers.CSVLogger(\n",
    "        ROOT_DIR,\n",
    "        name=\"SER\",\n",
    "        version=0,\n",
    "    ),\n",
    "    check_val_every_n_epoch=1,\n",
    "    callbacks=make_callbacks(),\n",
    "    default_root_dir=ROOT_DIR,\n",
    ")"
   ]
  },
  {
   "cell_type": "code",
   "execution_count": 138,
   "id": "5d9439bb-3690-4122-ad46-8d2eb6983a2a",
   "metadata": {
    "execution": {
     "iopub.execute_input": "2023-07-26T14:26:24.277674Z",
     "iopub.status.busy": "2023-07-26T14:26:24.277095Z",
     "iopub.status.idle": "2023-07-26T14:26:25.006805Z",
     "shell.execute_reply": "2023-07-26T14:26:25.006064Z",
     "shell.execute_reply.started": "2023-07-26T14:26:24.277625Z"
    }
   },
   "outputs": [],
   "source": [
    "model = WaveLM_lit(num_classes=13)"
   ]
  },
  {
   "cell_type": "code",
   "execution_count": 139,
   "id": "c9c181b1-73f4-489e-a0b7-43b165acaf61",
   "metadata": {
    "execution": {
     "iopub.execute_input": "2023-07-26T14:26:26.079442Z",
     "iopub.status.busy": "2023-07-26T14:26:26.078884Z",
     "iopub.status.idle": "2023-07-26T15:09:41.611044Z",
     "shell.execute_reply": "2023-07-26T15:09:41.610582Z",
     "shell.execute_reply.started": "2023-07-26T14:26:26.079394Z"
    },
    "scrolled": true
   },
   "outputs": [
    {
     "name": "stderr",
     "output_type": "stream",
     "text": [
      "LOCAL_RANK: 0 - CUDA_VISIBLE_DEVICES: [0,1]\n"
     ]
    },
    {
     "data": {
      "text/html": [
       "<pre style=\"white-space:pre;overflow-x:auto;line-height:normal;font-family:Menlo,'DejaVu Sans Mono',consolas,'Courier New',monospace\">┏━━━┳━━━━━━━━━┳━━━━━━━━━━━━━━━━━━┳━━━━━━━━┓\n",
       "┃<span style=\"color: #800080; text-decoration-color: #800080; font-weight: bold\">   </span>┃<span style=\"color: #800080; text-decoration-color: #800080; font-weight: bold\"> Name    </span>┃<span style=\"color: #800080; text-decoration-color: #800080; font-weight: bold\"> Type             </span>┃<span style=\"color: #800080; text-decoration-color: #800080; font-weight: bold\"> Params </span>┃\n",
       "┡━━━╇━━━━━━━━━╇━━━━━━━━━━━━━━━━━━╇━━━━━━━━┩\n",
       "│<span style=\"color: #7f7f7f; text-decoration-color: #7f7f7f\"> 0 </span>│ model   │ BaseLine         │ 94.4 M │\n",
       "│<span style=\"color: #7f7f7f; text-decoration-color: #7f7f7f\"> 1 </span>│ loss_fn │ CrossEntropyLoss │      0 │\n",
       "└───┴─────────┴──────────────────┴────────┘\n",
       "</pre>\n"
      ],
      "text/plain": [
       "┏━━━┳━━━━━━━━━┳━━━━━━━━━━━━━━━━━━┳━━━━━━━━┓\n",
       "┃\u001b[1;35m \u001b[0m\u001b[1;35m \u001b[0m\u001b[1;35m \u001b[0m┃\u001b[1;35m \u001b[0m\u001b[1;35mName   \u001b[0m\u001b[1;35m \u001b[0m┃\u001b[1;35m \u001b[0m\u001b[1;35mType            \u001b[0m\u001b[1;35m \u001b[0m┃\u001b[1;35m \u001b[0m\u001b[1;35mParams\u001b[0m\u001b[1;35m \u001b[0m┃\n",
       "┡━━━╇━━━━━━━━━╇━━━━━━━━━━━━━━━━━━╇━━━━━━━━┩\n",
       "│\u001b[2m \u001b[0m\u001b[2m0\u001b[0m\u001b[2m \u001b[0m│ model   │ BaseLine         │ 94.4 M │\n",
       "│\u001b[2m \u001b[0m\u001b[2m1\u001b[0m\u001b[2m \u001b[0m│ loss_fn │ CrossEntropyLoss │      0 │\n",
       "└───┴─────────┴──────────────────┴────────┘\n"
      ]
     },
     "metadata": {},
     "output_type": "display_data"
    },
    {
     "data": {
      "text/html": [
       "<pre style=\"white-space:pre;overflow-x:auto;line-height:normal;font-family:Menlo,'DejaVu Sans Mono',consolas,'Courier New',monospace\"><span style=\"font-weight: bold\">Trainable params</span>: 94.4 M                                                                                           \n",
       "<span style=\"font-weight: bold\">Non-trainable params</span>: 0                                                                                            \n",
       "<span style=\"font-weight: bold\">Total params</span>: 94.4 M                                                                                               \n",
       "<span style=\"font-weight: bold\">Total estimated model params size (MB)</span>: 377                                                                        \n",
       "</pre>\n"
      ],
      "text/plain": [
       "\u001b[1mTrainable params\u001b[0m: 94.4 M                                                                                           \n",
       "\u001b[1mNon-trainable params\u001b[0m: 0                                                                                            \n",
       "\u001b[1mTotal params\u001b[0m: 94.4 M                                                                                               \n",
       "\u001b[1mTotal estimated model params size (MB)\u001b[0m: 377                                                                        \n"
      ]
     },
     "metadata": {},
     "output_type": "display_data"
    },
    {
     "data": {
      "application/vnd.jupyter.widget-view+json": {
       "model_id": "0baa61e075da45b8a5beff12f69fc23d",
       "version_major": 2,
       "version_minor": 0
      },
      "text/plain": [
       "Output()"
      ]
     },
     "metadata": {},
     "output_type": "display_data"
    },
    {
     "name": "stderr",
     "output_type": "stream",
     "text": [
      "Metric val-auc improved. New best score: 0.643\n",
      "Metric val-auc improved by 0.059 >= min_delta = 0.0001. New best score: 0.702\n",
      "Metric val-auc improved by 0.020 >= min_delta = 0.0001. New best score: 0.722\n",
      "Metric val-auc improved by 0.017 >= min_delta = 0.0001. New best score: 0.740\n",
      "Metric val-auc improved by 0.016 >= min_delta = 0.0001. New best score: 0.755\n",
      "Metric val-auc improved by 0.004 >= min_delta = 0.0001. New best score: 0.759\n",
      "Metric val-auc improved by 0.014 >= min_delta = 0.0001. New best score: 0.773\n",
      "Metric val-auc improved by 0.003 >= min_delta = 0.0001. New best score: 0.776\n",
      "Metric val-auc improved by 0.010 >= min_delta = 0.0001. New best score: 0.786\n",
      "Metric val-auc improved by 0.009 >= min_delta = 0.0001. New best score: 0.795\n",
      "Metric val-auc improved by 0.002 >= min_delta = 0.0001. New best score: 0.797\n",
      "Metric val-auc improved by 0.007 >= min_delta = 0.0001. New best score: 0.805\n",
      "Metric val-auc improved by 0.004 >= min_delta = 0.0001. New best score: 0.809\n",
      "Metric val-auc improved by 0.003 >= min_delta = 0.0001. New best score: 0.811\n",
      "Metric val-auc improved by 0.008 >= min_delta = 0.0001. New best score: 0.829\n",
      "Metric val-auc improved by 0.005 >= min_delta = 0.0001. New best score: 0.835\n",
      "Metric val-auc improved by 0.004 >= min_delta = 0.0001. New best score: 0.838\n",
      "Metric val-auc improved by 0.004 >= min_delta = 0.0001. New best score: 0.842\n",
      "Metric val-auc improved by 0.007 >= min_delta = 0.0001. New best score: 0.849\n",
      "Metric val-auc improved by 0.002 >= min_delta = 0.0001. New best score: 0.851\n",
      "Metric val-auc improved by 0.001 >= min_delta = 0.0001. New best score: 0.852\n",
      "Metric val-auc improved by 0.008 >= min_delta = 0.0001. New best score: 0.860\n",
      "Metric val-auc improved by 0.001 >= min_delta = 0.0001. New best score: 0.862\n",
      "Metric val-auc improved by 0.005 >= min_delta = 0.0001. New best score: 0.867\n",
      "Metric val-auc improved by 0.004 >= min_delta = 0.0001. New best score: 0.870\n",
      "Metric val-auc improved by 0.004 >= min_delta = 0.0001. New best score: 0.874\n",
      "Metric val-auc improved by 0.005 >= min_delta = 0.0001. New best score: 0.880\n",
      "Metric val-auc improved by 0.000 >= min_delta = 0.0001. New best score: 0.880\n",
      "Metric val-auc improved by 0.004 >= min_delta = 0.0001. New best score: 0.884\n",
      "Metric val-auc improved by 0.001 >= min_delta = 0.0001. New best score: 0.885\n",
      "Metric val-auc improved by 0.005 >= min_delta = 0.0001. New best score: 0.890\n",
      "Metric val-auc improved by 0.001 >= min_delta = 0.0001. New best score: 0.900\n",
      "Metric val-auc improved by 0.003 >= min_delta = 0.0001. New best score: 0.903\n",
      "Metric val-auc improved by 0.001 >= min_delta = 0.0001. New best score: 0.920\n",
      "Metric val-auc improved by 0.000 >= min_delta = 0.0001. New best score: 0.920\n",
      "Metric val-auc improved by 0.000 >= min_delta = 0.0001. New best score: 0.920\n",
      "Metric val-auc improved by 0.000 >= min_delta = 0.0001. New best score: 0.921\n",
      "IOPub message rate exceeded.\n",
      "The Jupyter server will temporarily stop sending output\n",
      "to the client in order to avoid crashing it.\n",
      "To change this limit, set the config variable\n",
      "`--ServerApp.iopub_msg_rate_limit`.\n",
      "\n",
      "Current values:\n",
      "ServerApp.iopub_msg_rate_limit=1000.0 (msgs/sec)\n",
      "ServerApp.rate_limit_window=3.0 (secs)\n",
      "\n",
      "Metric val-auc improved by 0.000 >= min_delta = 0.0001. New best score: 0.922\n",
      "Metric val-auc improved by 0.000 >= min_delta = 0.0001. New best score: 0.922\n",
      "Metric val-auc improved by 0.000 >= min_delta = 0.0001. New best score: 0.922\n",
      "Metric val-auc improved by 0.000 >= min_delta = 0.0001. New best score: 0.922\n",
      "Monitored metric val-auc did not improve in the last 5 records. Best score: 0.922. Signaling Trainer to stop.\n"
     ]
    },
    {
     "data": {
      "text/html": [
       "<pre style=\"white-space:pre;overflow-x:auto;line-height:normal;font-family:Menlo,'DejaVu Sans Mono',consolas,'Courier New',monospace\"></pre>\n"
      ],
      "text/plain": []
     },
     "metadata": {},
     "output_type": "display_data"
    },
    {
     "data": {
      "text/html": [
       "<pre style=\"white-space:pre;overflow-x:auto;line-height:normal;font-family:Menlo,'DejaVu Sans Mono',consolas,'Courier New',monospace\">\n",
       "</pre>\n"
      ],
      "text/plain": [
       "\n"
      ]
     },
     "metadata": {},
     "output_type": "display_data"
    }
   ],
   "source": [
    "trainer.fit(model, data_loaders[0], val_dataloaders=data_loaders[1])"
   ]
  },
  {
   "cell_type": "markdown",
   "id": "8132c3d6-e431-4232-9e78-7322476df908",
   "metadata": {
    "execution": {
     "iopub.execute_input": "2023-07-26T05:30:07.093598Z",
     "iopub.status.busy": "2023-07-26T05:30:07.092992Z",
     "iopub.status.idle": "2023-07-26T05:30:07.148562Z",
     "shell.execute_reply": "2023-07-26T05:30:07.147301Z",
     "shell.execute_reply.started": "2023-07-26T05:30:07.093541Z"
    }
   },
   "source": [
    "## Our's model"
   ]
  },
  {
   "cell_type": "code",
   "execution_count": 140,
   "id": "d370792d-83aa-41a4-9799-1f7525117e45",
   "metadata": {
    "execution": {
     "iopub.execute_input": "2023-07-26T16:03:58.277578Z",
     "iopub.status.busy": "2023-07-26T16:03:58.277056Z",
     "iopub.status.idle": "2023-07-26T16:03:59.974399Z",
     "shell.execute_reply": "2023-07-26T16:03:59.973469Z",
     "shell.execute_reply.started": "2023-07-26T16:03:58.277523Z"
    }
   },
   "outputs": [],
   "source": [
    "ckpt_path = \"/home/ay/data/DATA/1-model_save/0-Audio/SER/version_0/checkpoints/best-epoch=94-val-loss=0.12.ckpt\"\n",
    "model1 = WaveLM_lit(num_classes=13)\n",
    "model1 = model1.load_from_checkpoint(ckpt_path).to(\"cpu\")"
   ]
  },
  {
   "cell_type": "code",
   "execution_count": 72,
   "id": "6d2de169-5297-4ad7-9fb4-557c1053e9db",
   "metadata": {
    "execution": {
     "iopub.execute_input": "2023-07-26T06:04:15.354829Z",
     "iopub.status.busy": "2023-07-26T06:04:15.354316Z",
     "iopub.status.idle": "2023-07-26T06:04:15.402881Z",
     "shell.execute_reply": "2023-07-26T06:04:15.401784Z",
     "shell.execute_reply.started": "2023-07-26T06:04:15.354784Z"
    }
   },
   "outputs": [],
   "source": [
    "from models.Ours.model import AudioModel"
   ]
  },
  {
   "cell_type": "markdown",
   "id": "e763251b-e99e-445c-bb29-024376dfc03b",
   "metadata": {},
   "source": [
    "### Loss function"
   ]
  },
  {
   "cell_type": "code",
   "execution_count": 85,
   "id": "01a6e4b8-ff31-45f5-a789-febf0ae3ad92",
   "metadata": {
    "execution": {
     "iopub.execute_input": "2023-07-26T06:37:06.015632Z",
     "iopub.status.busy": "2023-07-26T06:37:06.014948Z",
     "iopub.status.idle": "2023-07-26T06:37:06.063869Z",
     "shell.execute_reply": "2023-07-26T06:37:06.063201Z",
     "shell.execute_reply.started": "2023-07-26T06:37:06.015584Z"
    }
   },
   "outputs": [],
   "source": [
    "class CLIPLoss1D(nn.Module):\n",
    "    def __init__(self):\n",
    "        super(CLIPLoss1D, self).__init__()\n",
    "        self.logit_scale = nn.Parameter(torch.ones([]) * np.log(1 / 0.07))\n",
    "        self.loss_image = nn.CrossEntropyLoss()\n",
    "        self.loss_text = nn.CrossEntropyLoss()\n",
    "\n",
    "    def forward(self, image_features, text_features):\n",
    "        image_features = image_features / image_features.norm(dim=-1, keepdim=True)\n",
    "        text_features = text_features / text_features.norm(dim=-1, keepdim=True)\n",
    "\n",
    "        # cosine similarity as logits\n",
    "        logit_scale = self.logit_scale.exp()\n",
    "        logits_per_image = logit_scale * image_features @ text_features.t()\n",
    "        logits_per_text = logit_scale * text_features @ image_features.t()\n",
    "\n",
    "        batch_size = image_features.shape[0]\n",
    "        ground_truth = torch.arange(\n",
    "            batch_size, dtype=torch.long, device=image_features.device\n",
    "        )\n",
    "        return (\n",
    "            self.loss_image(logits_per_image, ground_truth)\n",
    "            + self.loss_text(logits_per_text, ground_truth)\n",
    "        ) / 2"
   ]
  },
  {
   "cell_type": "code",
   "execution_count": 117,
   "id": "0aeadcb3-5f18-4308-b515-9104dbcdaab9",
   "metadata": {
    "execution": {
     "iopub.execute_input": "2023-07-26T07:23:41.166327Z",
     "iopub.status.busy": "2023-07-26T07:23:41.165800Z",
     "iopub.status.idle": "2023-07-26T07:23:41.229455Z",
     "shell.execute_reply": "2023-07-26T07:23:41.228709Z",
     "shell.execute_reply.started": "2023-07-26T07:23:41.166274Z"
    }
   },
   "outputs": [],
   "source": [
    "class Our_lit(BinaryClassification):\n",
    "    def __init__(self, num_classes=1, **kwargs):\n",
    "        super().__init__()\n",
    "        self.model1 = model1.model\n",
    "        self.model2 = AudioModel()\n",
    "        self.mlp = nn.Sequential(\n",
    "            nn.Linear(128, 512),\n",
    "            nn.ReLU(inplace=True),\n",
    "            nn.Dropout(0.1),\n",
    "            nn.Linear(512, 512)\n",
    "        )\n",
    "        self.loss_fn = CLIPLoss1D()\n",
    "        self.save_hyperparameters()\n",
    "\n",
    "    def calcuate_loss(self, batch_res, batch):\n",
    "        loss = self.loss_fn(batch_res[\"feat_org\"], batch_res[\"feat_tar\"])\n",
    "        return loss\n",
    "\n",
    "    def configure_optimizers(self):\n",
    "        optimizer = torch.optim.Adam(\n",
    "            self.model2.parameters(), lr=0.0001, weight_decay=0.0001\n",
    "        )\n",
    "        return [optimizer]\n",
    "\n",
    "    def _shared_pred(self, batch, batch_idx):\n",
    "        audio, sample_rate = batch[\"audio\"], batch[\"sample_rate\"]\n",
    "        # if len(audio.shape) == 3:\n",
    "            # audio = audio[:, 0, :]\n",
    "            \n",
    "        with torch.no_grad():\n",
    "            feature_org = self.model1.get_feature(audio[:, 0, :])\n",
    "        feature_tar = self.model2.get_feature(audio)\n",
    "        feature_tar = self.mlp(feature_tar)\n",
    "        \n",
    "        return {\"feat_org\": feature_org, \"feat_tar\": feature_tar}"
   ]
  },
  {
   "cell_type": "code",
   "execution_count": null,
   "id": "d7fc511b-850f-4bc1-999c-b470b9e18c66",
   "metadata": {
    "execution": {
     "iopub.execute_input": "2023-07-27T01:06:40.852132Z",
     "iopub.status.busy": "2023-07-27T01:06:40.851539Z"
    }
   },
   "outputs": [],
   "source": [
    "def make_callbacks():\n",
    "    callbacks = [\n",
    "        Color_progress_bar(),\n",
    "        ModelCheckpoint(\n",
    "            dirpath=None,\n",
    "            save_top_k=1,\n",
    "            monitor=\"val-loss\",\n",
    "            mode=\"min\",\n",
    "            save_last=True,\n",
    "            filename=\"best-{epoch}-{val-loss:.2f}\",\n",
    "        ),\n",
    "        EarlyStopping(\n",
    "            monitor=\"val-loss\",\n",
    "            min_delta=0.001,\n",
    "            patience=10,\n",
    "            mode=\"min\",\n",
    "            stopping_threshold=0.1,\n",
    "            verbose=True,\n",
    "        ),\n",
    "    ]\n",
    "    return callbacks\n",
    "\n",
    "\n",
    "trainer = pl.Trainer(\n",
    "    max_epochs=300,\n",
    "    accelerator=\"gpu\",\n",
    "    devices=[0],\n",
    "    logger=pl.loggers.CSVLogger(\n",
    "        ROOT_DIR,\n",
    "        name=\"SER\",\n",
    "        version=1,\n",
    "    ),\n",
    "    check_val_every_n_epoch=1,\n",
    "    callbacks=make_callbacks(),\n",
    "    default_root_dir=ROOT_DIR,\n",
    ")\n",
    "model = Our_lit()"
   ]
  },
  {
   "cell_type": "code",
   "execution_count": 144,
   "id": "725a30d6-9d2f-4d59-9320-d36b51ad7b30",
   "metadata": {
    "execution": {
     "iopub.execute_input": "2023-07-27T02:39:52.545716Z",
     "iopub.status.busy": "2023-07-27T02:39:52.545216Z",
     "iopub.status.idle": "2023-07-27T02:39:55.918777Z",
     "shell.execute_reply": "2023-07-27T02:39:55.917810Z",
     "shell.execute_reply.started": "2023-07-27T02:39:52.545666Z"
    }
   },
   "outputs": [
    {
     "name": "stderr",
     "output_type": "stream",
     "text": [
      "LOCAL_RANK: 0 - CUDA_VISIBLE_DEVICES: [0,1]\n"
     ]
    },
    {
     "data": {
      "text/html": [
       "<pre style=\"white-space:pre;overflow-x:auto;line-height:normal;font-family:Menlo,'DejaVu Sans Mono',consolas,'Courier New',monospace\">┏━━━┳━━━━━━━━━┳━━━━━━━━━━━━┳━━━━━━━━┓\n",
       "┃<span style=\"color: #800080; text-decoration-color: #800080; font-weight: bold\">   </span>┃<span style=\"color: #800080; text-decoration-color: #800080; font-weight: bold\"> Name    </span>┃<span style=\"color: #800080; text-decoration-color: #800080; font-weight: bold\"> Type       </span>┃<span style=\"color: #800080; text-decoration-color: #800080; font-weight: bold\"> Params </span>┃\n",
       "┡━━━╇━━━━━━━━━╇━━━━━━━━━━━━╇━━━━━━━━┩\n",
       "│<span style=\"color: #7f7f7f; text-decoration-color: #7f7f7f\"> 0 </span>│ model1  │ BaseLine   │ 94.4 M │\n",
       "│<span style=\"color: #7f7f7f; text-decoration-color: #7f7f7f\"> 1 </span>│ model2  │ AudioModel │  3.4 M │\n",
       "│<span style=\"color: #7f7f7f; text-decoration-color: #7f7f7f\"> 2 </span>│ mlp     │ Sequential │  328 K │\n",
       "│<span style=\"color: #7f7f7f; text-decoration-color: #7f7f7f\"> 3 </span>│ loss_fn │ CLIPLoss1D │      1 │\n",
       "└───┴─────────┴────────────┴────────┘\n",
       "</pre>\n"
      ],
      "text/plain": [
       "┏━━━┳━━━━━━━━━┳━━━━━━━━━━━━┳━━━━━━━━┓\n",
       "┃\u001b[1;35m \u001b[0m\u001b[1;35m \u001b[0m\u001b[1;35m \u001b[0m┃\u001b[1;35m \u001b[0m\u001b[1;35mName   \u001b[0m\u001b[1;35m \u001b[0m┃\u001b[1;35m \u001b[0m\u001b[1;35mType      \u001b[0m\u001b[1;35m \u001b[0m┃\u001b[1;35m \u001b[0m\u001b[1;35mParams\u001b[0m\u001b[1;35m \u001b[0m┃\n",
       "┡━━━╇━━━━━━━━━╇━━━━━━━━━━━━╇━━━━━━━━┩\n",
       "│\u001b[2m \u001b[0m\u001b[2m0\u001b[0m\u001b[2m \u001b[0m│ model1  │ BaseLine   │ 94.4 M │\n",
       "│\u001b[2m \u001b[0m\u001b[2m1\u001b[0m\u001b[2m \u001b[0m│ model2  │ AudioModel │  3.4 M │\n",
       "│\u001b[2m \u001b[0m\u001b[2m2\u001b[0m\u001b[2m \u001b[0m│ mlp     │ Sequential │  328 K │\n",
       "│\u001b[2m \u001b[0m\u001b[2m3\u001b[0m\u001b[2m \u001b[0m│ loss_fn │ CLIPLoss1D │      1 │\n",
       "└───┴─────────┴────────────┴────────┘\n"
      ]
     },
     "metadata": {},
     "output_type": "display_data"
    },
    {
     "data": {
      "text/html": [
       "<pre style=\"white-space:pre;overflow-x:auto;line-height:normal;font-family:Menlo,'DejaVu Sans Mono',consolas,'Courier New',monospace\"><span style=\"font-weight: bold\">Trainable params</span>: 98.1 M                                                                                           \n",
       "<span style=\"font-weight: bold\">Non-trainable params</span>: 0                                                                                            \n",
       "<span style=\"font-weight: bold\">Total params</span>: 98.1 M                                                                                               \n",
       "<span style=\"font-weight: bold\">Total estimated model params size (MB)</span>: 392                                                                        \n",
       "</pre>\n"
      ],
      "text/plain": [
       "\u001b[1mTrainable params\u001b[0m: 98.1 M                                                                                           \n",
       "\u001b[1mNon-trainable params\u001b[0m: 0                                                                                            \n",
       "\u001b[1mTotal params\u001b[0m: 98.1 M                                                                                               \n",
       "\u001b[1mTotal estimated model params size (MB)\u001b[0m: 392                                                                        \n"
      ]
     },
     "metadata": {},
     "output_type": "display_data"
    },
    {
     "data": {
      "application/vnd.jupyter.widget-view+json": {
       "model_id": "bf600e6c765343058e20f143cbce40e8",
       "version_major": 2,
       "version_minor": 0
      },
      "text/plain": [
       "Output()"
      ]
     },
     "metadata": {},
     "output_type": "display_data"
    },
    {
     "data": {
      "text/html": [
       "<pre style=\"white-space:pre;overflow-x:auto;line-height:normal;font-family:Menlo,'DejaVu Sans Mono',consolas,'Courier New',monospace\"></pre>\n"
      ],
      "text/plain": []
     },
     "metadata": {},
     "output_type": "display_data"
    },
    {
     "data": {
      "text/html": [
       "<pre style=\"white-space:pre;overflow-x:auto;line-height:normal;font-family:Menlo,'DejaVu Sans Mono',consolas,'Courier New',monospace\">\n",
       "</pre>\n"
      ],
      "text/plain": [
       "\n"
      ]
     },
     "metadata": {},
     "output_type": "display_data"
    }
   ],
   "source": [
    "trainer.fit(model, data_loaders[0], val_dataloaders=data_loaders[1])"
   ]
  },
  {
   "cell_type": "code",
   "execution_count": 145,
   "id": "cddb8270-037f-4c03-9bda-478edeea4b09",
   "metadata": {
    "execution": {
     "iopub.execute_input": "2023-07-27T02:41:03.975062Z",
     "iopub.status.busy": "2023-07-27T02:41:03.974469Z",
     "iopub.status.idle": "2023-07-27T02:41:04.122873Z",
     "shell.execute_reply": "2023-07-27T02:41:04.121515Z",
     "shell.execute_reply.started": "2023-07-27T02:41:03.975014Z"
    }
   },
   "outputs": [],
   "source": [
    "torch.save(model.model2.state_dict(), \"/home/ay/data/DATA/1-model_save/0-Audio/SER/version_1/model2.ckpt\")"
   ]
  },
  {
   "cell_type": "code",
   "execution_count": null,
   "id": "b6831132-2f0c-4097-bc68-a3242acdf9a2",
   "metadata": {
    "execution": {
     "iopub.execute_input": "2023-07-26T09:32:02.665876Z",
     "iopub.status.busy": "2023-07-26T09:32:02.665297Z",
     "iopub.status.idle": "2023-07-26T09:32:02.771352Z",
     "shell.execute_reply": "2023-07-26T09:32:02.770523Z",
     "shell.execute_reply.started": "2023-07-26T09:32:02.665825Z"
    }
   },
   "outputs": [],
   "source": [
    "model = AudioModel()\n",
    "\n",
    "ckpt = torch.load(\"/home/ay/data/DATA/1-model_save/0-Audio/SER/version_1/model2.ckpt\")\n",
    "model.load_state_dict(ckpt)"
   ]
  }
 ],
 "metadata": {
  "jupytext": {
   "formats": "ipynb,py:light"
  },
  "kernelspec": {
   "display_name": "Python 3 (ipykernel)",
   "language": "python",
   "name": "python3"
  },
  "language_info": {
   "codemirror_mode": {
    "name": "ipython",
    "version": 3
   },
   "file_extension": ".py",
   "mimetype": "text/x-python",
   "name": "python",
   "nbconvert_exporter": "python",
   "pygments_lexer": "ipython3",
   "version": "3.9.16"
  }
 },
 "nbformat": 4,
 "nbformat_minor": 5
}
