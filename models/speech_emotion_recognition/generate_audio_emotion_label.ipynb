{
 "cells": [
  {
   "cell_type": "code",
   "execution_count": 1,
   "id": "70dafd5b-a881-4fd4-9f4b-79a060b226ba",
   "metadata": {
    "execution": {
     "iopub.execute_input": "2023-08-01T03:22:44.059256Z",
     "iopub.status.busy": "2023-08-01T03:22:44.058674Z",
     "iopub.status.idle": "2023-08-01T03:22:44.091254Z",
     "shell.execute_reply": "2023-08-01T03:22:44.090359Z",
     "shell.execute_reply.started": "2023-08-01T03:22:44.059207Z"
    }
   },
   "outputs": [],
   "source": [
    "%load_ext autoreload\n",
    "%autoreload 2"
   ]
  },
  {
   "cell_type": "code",
   "execution_count": 2,
   "id": "a835d47e-cf8b-4609-93ec-9bd42a34100d",
   "metadata": {
    "execution": {
     "iopub.execute_input": "2023-08-01T03:22:44.692666Z",
     "iopub.status.busy": "2023-08-01T03:22:44.692191Z",
     "iopub.status.idle": "2023-08-01T03:22:44.710645Z",
     "shell.execute_reply": "2023-08-01T03:22:44.709487Z",
     "shell.execute_reply.started": "2023-08-01T03:22:44.692624Z"
    }
   },
   "outputs": [],
   "source": [
    "import sys"
   ]
  },
  {
   "cell_type": "code",
   "execution_count": 3,
   "id": "7b158b18-dbd4-48fa-9483-ca427076bd8e",
   "metadata": {
    "execution": {
     "iopub.execute_input": "2023-08-01T03:22:45.254684Z",
     "iopub.status.busy": "2023-08-01T03:22:45.254134Z",
     "iopub.status.idle": "2023-08-01T03:22:45.273189Z",
     "shell.execute_reply": "2023-08-01T03:22:45.271915Z",
     "shell.execute_reply.started": "2023-08-01T03:22:45.254641Z"
    }
   },
   "outputs": [],
   "source": [
    "sys.path.append('/home/ay/zky/Coding/0-Audio')"
   ]
  },
  {
   "cell_type": "code",
   "execution_count": 4,
   "id": "93689797-5ead-4fb0-859e-e3d8f7766cb6",
   "metadata": {
    "execution": {
     "iopub.execute_input": "2023-08-01T03:22:46.029409Z",
     "iopub.status.busy": "2023-08-01T03:22:46.028955Z",
     "iopub.status.idle": "2023-08-01T03:22:47.804358Z",
     "shell.execute_reply": "2023-08-01T03:22:47.803619Z",
     "shell.execute_reply.started": "2023-08-01T03:22:46.029367Z"
    }
   },
   "outputs": [],
   "source": [
    "import json, os\n",
    "from dataclasses import dataclass\n",
    "\n",
    "import numpy as np\n",
    "import pandas as pd\n",
    "import torch\n",
    "import torch.nn as nn\n",
    "from torch.nn import BCEWithLogitsLoss, CrossEntropyLoss, MSELoss\n",
    "from tqdm import tqdm\n",
    "from rich.progress import track\n",
    "import pytorch_lightning as pl"
   ]
  },
  {
   "cell_type": "code",
   "execution_count": 5,
   "id": "bddce729-dd9c-42d9-9d36-1a90cbdbd571",
   "metadata": {
    "editable": true,
    "execution": {
     "iopub.execute_input": "2023-08-01T03:22:49.190576Z",
     "iopub.status.busy": "2023-08-01T03:22:49.189786Z",
     "iopub.status.idle": "2023-08-01T03:22:50.469562Z",
     "shell.execute_reply": "2023-08-01T03:22:50.468435Z",
     "shell.execute_reply.started": "2023-08-01T03:22:49.190526Z"
    },
    "slideshow": {
     "slide_type": ""
    },
    "tags": [
     "style-activity",
     "active-ipynb"
    ]
   },
   "outputs": [],
   "source": [
    "from models.speech_emotion_recognition.train_model import WaveLM_lit\n",
    "from data.datasets import WaveFake, LibriSeVoc\n",
    "from data.tools import WaveDataset\n"
   ]
  },
  {
   "cell_type": "markdown",
   "id": "6c8b98cb-36b2-43d6-bf29-8e34882fb487",
   "metadata": {
    "execution": {
     "iopub.execute_input": "2023-07-26T05:30:07.093598Z",
     "iopub.status.busy": "2023-07-26T05:30:07.092992Z",
     "iopub.status.idle": "2023-07-26T05:30:07.148562Z",
     "shell.execute_reply": "2023-07-26T05:30:07.147301Z",
     "shell.execute_reply.started": "2023-07-26T05:30:07.093541Z"
    }
   },
   "source": [
    "## Our's model"
   ]
  },
  {
   "cell_type": "code",
   "execution_count": 6,
   "id": "747acaeb-b4f2-4659-8f0f-54fb4c1d9789",
   "metadata": {
    "execution": {
     "iopub.execute_input": "2023-08-01T03:22:51.213788Z",
     "iopub.status.busy": "2023-08-01T03:22:51.213243Z",
     "iopub.status.idle": "2023-08-01T03:22:51.267122Z",
     "shell.execute_reply": "2023-08-01T03:22:51.266290Z",
     "shell.execute_reply.started": "2023-08-01T03:22:51.213741Z"
    }
   },
   "outputs": [],
   "source": [
    "def get_pretrained_model():\n",
    "    ckpt_path = \"/home/ay/data/DATA/1-model_save/0-Audio/speech_emotion_recognition/version_0/checkpoints/best-epoch=110-val-loss=0.16.ckpt\"\n",
    "    model1 = WaveLM_lit(num_classes=13)\n",
    "    model1 = model1.load_from_checkpoint(ckpt_path).to(\"cpu\")\n",
    "    return model1.model"
   ]
  },
  {
   "cell_type": "code",
   "execution_count": 8,
   "id": "d6aee3c2-2ee3-41f1-ba50-8551110b238b",
   "metadata": {
    "editable": true,
    "execution": {
     "iopub.execute_input": "2023-08-01T03:23:06.729692Z",
     "iopub.status.busy": "2023-08-01T03:23:06.728428Z",
     "iopub.status.idle": "2023-08-01T03:23:07.073036Z",
     "shell.execute_reply": "2023-08-01T03:23:07.072205Z",
     "shell.execute_reply.started": "2023-08-01T03:23:06.729642Z"
    },
    "slideshow": {
     "slide_type": ""
    },
    "tags": [
     "style-activity",
     "active-ipynb"
    ]
   },
   "outputs": [],
   "source": [
    "dataset = WaveFake()\n",
    "data = dataset.data"
   ]
  },
  {
   "cell_type": "code",
   "execution_count": 9,
   "id": "8a83f27d-cd44-4e7d-8b78-9b97d2c11e79",
   "metadata": {
    "editable": true,
    "execution": {
     "iopub.execute_input": "2023-08-01T03:23:08.528502Z",
     "iopub.status.busy": "2023-08-01T03:23:08.527897Z",
     "iopub.status.idle": "2023-08-01T03:23:08.580486Z",
     "shell.execute_reply": "2023-08-01T03:23:08.579678Z",
     "shell.execute_reply.started": "2023-08-01T03:23:08.528453Z"
    },
    "slideshow": {
     "slide_type": ""
    },
    "tags": []
   },
   "outputs": [],
   "source": [
    "_ds = WaveDataset(\n",
    "    data,\n",
    "    sample_rate=16000,\n",
    "    trim=False,\n",
    "    max_wave_length=-1,\n",
    "    transform=None,\n",
    "    is_training=False,\n",
    ")\n",
    "_dl = torch.utils.data.DataLoader(\n",
    "    _ds,\n",
    "    batch_size=1,\n",
    "    num_workers=4,\n",
    "    pin_memory=True,\n",
    "    shuffle=False,\n",
    "    prefetch_factor=2,\n",
    ")"
   ]
  },
  {
   "cell_type": "code",
   "execution_count": 10,
   "id": "41aa1410-9acd-4e89-a6c2-1f54d998e972",
   "metadata": {
    "execution": {
     "iopub.execute_input": "2023-08-01T03:23:10.457294Z",
     "iopub.status.busy": "2023-08-01T03:23:10.455989Z",
     "iopub.status.idle": "2023-08-01T03:23:12.851013Z",
     "shell.execute_reply": "2023-08-01T03:23:12.849719Z",
     "shell.execute_reply.started": "2023-08-01T03:23:10.457241Z"
    },
    "scrolled": true
   },
   "outputs": [],
   "source": [
    "model = get_pretrained_model()\n",
    "model = model.to('cuda:0')"
   ]
  },
  {
   "cell_type": "code",
   "execution_count": 11,
   "id": "60f99b7d-03f9-44f7-a9f1-8b39a1453b4c",
   "metadata": {
    "editable": true,
    "execution": {
     "iopub.execute_input": "2023-08-01T03:23:14.122856Z",
     "iopub.status.busy": "2023-08-01T03:23:14.122273Z",
     "iopub.status.idle": "2023-08-01T03:52:09.880267Z",
     "shell.execute_reply": "2023-08-01T03:52:09.879676Z",
     "shell.execute_reply.started": "2023-08-01T03:23:14.122811Z"
    },
    "scrolled": true,
    "slideshow": {
     "slide_type": ""
    },
    "tags": []
   },
   "outputs": [
    {
     "data": {
      "application/vnd.jupyter.widget-view+json": {
       "model_id": "201b449b0fe44c4b9338a2003c80cb70",
       "version_major": 2,
       "version_minor": 0
      },
      "text/plain": [
       "Output()"
      ]
     },
     "metadata": {},
     "output_type": "display_data"
    },
    {
     "data": {
      "text/html": [
       "<pre style=\"white-space:pre;overflow-x:auto;line-height:normal;font-family:Menlo,'DejaVu Sans Mono',consolas,'Courier New',monospace\"></pre>\n"
      ],
      "text/plain": []
     },
     "metadata": {},
     "output_type": "display_data"
    },
    {
     "data": {
      "text/html": [
       "<pre style=\"white-space:pre;overflow-x:auto;line-height:normal;font-family:Menlo,'DejaVu Sans Mono',consolas,'Courier New',monospace\">\n",
       "</pre>\n"
      ],
      "text/plain": [
       "\n"
      ]
     },
     "metadata": {},
     "output_type": "display_data"
    }
   ],
   "source": [
    "output_file = os.path.join(dataset.root_path, 'emotion.json')\n",
    "\n",
    "try:\n",
    "    with open(output_file, \"r\") as file:\n",
    "        json_data = json.load(file)\n",
    "        res = dict(json_data)\n",
    "except FileNotFoundError:\n",
    "    res = {}\n",
    "\n",
    "\n",
    "\n",
    "for i, x in track(enumerate(_dl), total=len(_dl)):\n",
    "    name = x['name'][0]\n",
    "    if name in res.keys():\n",
    "        continue\n",
    "\n",
    "    x = x['audio'].squeeze_(dim=1)\n",
    "    y = model(x.to('cuda:0'))\n",
    "    labels = list(torch.max(y, dim=1).indices.detach().cpu().numpy())\n",
    "\n",
    "    res[name] = int(labels[0])\n",
    "    if i % 1000 == 0 or i == len(_dl) - 1:\n",
    "        with open(output_file, \"w\") as file:\n",
    "            json.dump(res, file)"
   ]
  }
 ],
 "metadata": {
  "jupytext": {
   "formats": "ipynb,py:light"
  },
  "kernelspec": {
   "display_name": "Python 3 (ipykernel)",
   "language": "python",
   "name": "python3"
  },
  "language_info": {
   "codemirror_mode": {
    "name": "ipython",
    "version": 3
   },
   "file_extension": ".py",
   "mimetype": "text/x-python",
   "name": "python",
   "nbconvert_exporter": "python",
   "pygments_lexer": "ipython3",
   "version": "3.9.16"
  }
 },
 "nbformat": 4,
 "nbformat_minor": 5
}
