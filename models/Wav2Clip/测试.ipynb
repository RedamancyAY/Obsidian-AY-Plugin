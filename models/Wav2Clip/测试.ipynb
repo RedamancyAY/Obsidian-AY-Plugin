{
 "cells": [
  {
   "cell_type": "code",
   "execution_count": 1,
   "id": "c66c138a-9734-4ba6-8c78-53f840a6f9f3",
   "metadata": {
    "execution": {
     "iopub.execute_input": "2023-08-04T01:40:10.736959Z",
     "iopub.status.busy": "2023-08-04T01:40:10.736463Z",
     "iopub.status.idle": "2023-08-04T01:40:10.766871Z",
     "shell.execute_reply": "2023-08-04T01:40:10.765569Z",
     "shell.execute_reply.started": "2023-08-04T01:40:10.736850Z"
    }
   },
   "outputs": [],
   "source": [
    "%load_ext autoreload\n",
    "%autoreload 2"
   ]
  },
  {
   "cell_type": "code",
   "execution_count": 2,
   "id": "78a91514-9721-4b9c-9f8a-86eb91f5a761",
   "metadata": {
    "execution": {
     "iopub.execute_input": "2023-08-04T01:40:10.769563Z",
     "iopub.status.busy": "2023-08-04T01:40:10.769164Z",
     "iopub.status.idle": "2023-08-04T01:40:12.280381Z",
     "shell.execute_reply": "2023-08-04T01:40:12.279872Z",
     "shell.execute_reply.started": "2023-08-04T01:40:10.769527Z"
    },
    "tags": []
   },
   "outputs": [],
   "source": [
    "from wav2clip import get_model\n",
    "import torch"
   ]
  },
  {
   "cell_type": "code",
   "execution_count": 3,
   "id": "5c97ba36-912f-4017-921a-0ed18d66778c",
   "metadata": {
    "execution": {
     "iopub.execute_input": "2023-08-04T01:40:12.281317Z",
     "iopub.status.busy": "2023-08-04T01:40:12.281035Z",
     "iopub.status.idle": "2023-08-04T01:40:12.455132Z",
     "shell.execute_reply": "2023-08-04T01:40:12.454731Z",
     "shell.execute_reply.started": "2023-08-04T01:40:12.281302Z"
    },
    "tags": []
   },
   "outputs": [
    {
     "data": {
      "text/plain": [
       "torch.Size([2, 512])"
      ]
     },
     "execution_count": 3,
     "metadata": {},
     "output_type": "execute_result"
    }
   ],
   "source": [
    "x = torch.randn(2, 48000)\n",
    "model = get_model()\n",
    "model(x).shape"
   ]
  }
 ],
 "metadata": {
  "kernelspec": {
   "display_name": "Python 3 (ipykernel)",
   "language": "python",
   "name": "python3"
  },
  "language_info": {
   "codemirror_mode": {
    "name": "ipython",
    "version": 3
   },
   "file_extension": ".py",
   "mimetype": "text/x-python",
   "name": "python",
   "nbconvert_exporter": "python",
   "pygments_lexer": "ipython3",
   "version": "3.9.13"
  }
 },
 "nbformat": 4,
 "nbformat_minor": 5
}
