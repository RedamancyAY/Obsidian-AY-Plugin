{
 "cells": [
  {
   "cell_type": "code",
   "execution_count": 14,
   "id": "0900037e-576b-4103-b82a-4d908575caf4",
   "metadata": {
    "execution": {
     "iopub.execute_input": "2023-07-24T07:03:13.045999Z",
     "iopub.status.busy": "2023-07-24T07:03:13.044843Z",
     "iopub.status.idle": "2023-07-24T07:03:13.097468Z",
     "shell.execute_reply": "2023-07-24T07:03:13.096185Z",
     "shell.execute_reply.started": "2023-07-24T07:03:13.045948Z"
    },
    "tags": []
   },
   "outputs": [],
   "source": [
    "%load_ext autoreload\n",
    "%autoreload 2"
   ]
  },
  {
   "cell_type": "code",
   "execution_count": 15,
   "id": "0ecb3593-d111-40b7-93a5-059057a0ac16",
   "metadata": {
    "execution": {
     "iopub.execute_input": "2023-07-24T07:03:14.518389Z",
     "iopub.status.busy": "2023-07-24T07:03:14.517283Z",
     "iopub.status.idle": "2023-07-24T07:03:15.070535Z",
     "shell.execute_reply": "2023-07-24T07:03:15.069745Z",
     "shell.execute_reply.started": "2023-07-24T07:03:14.518337Z"
    },
    "tags": []
   },
   "outputs": [],
   "source": [
    "import pytorch_lightning as pl\n",
    "import torch\n",
    "import torch.nn as nn\n",
    "from ay2.torch.deepfake_detection import DeepfakeAudioClassification"
   ]
  },
  {
   "cell_type": "code",
   "execution_count": 16,
   "id": "7e44a964-1bbd-44a8-b23a-fc69b5befee9",
   "metadata": {
    "editable": true,
    "execution": {
     "iopub.execute_input": "2023-07-24T07:03:23.511264Z",
     "iopub.status.busy": "2023-07-24T07:03:23.510670Z",
     "iopub.status.idle": "2023-07-24T07:03:23.556665Z",
     "shell.execute_reply": "2023-07-24T07:03:23.555555Z",
     "shell.execute_reply.started": "2023-07-24T07:03:23.511209Z"
    },
    "slideshow": {
     "slide_type": ""
    },
    "tags": [
     "style-activity",
     "active-ipynb"
    ]
   },
   "outputs": [],
   "source": [
    "from wav2clip import get_model"
   ]
  },
  {
   "cell_type": "code",
   "execution_count": 2,
   "id": "b4c77a5d-1964-4823-a097-a525b5debece",
   "metadata": {
    "execution": {
     "iopub.execute_input": "2023-07-24T07:00:06.118095Z",
     "iopub.status.busy": "2023-07-24T07:00:06.117520Z",
     "iopub.status.idle": "2023-07-24T07:00:06.124099Z",
     "shell.execute_reply": "2023-07-24T07:00:06.122689Z",
     "shell.execute_reply.started": "2023-07-24T07:00:06.118047Z"
    }
   },
   "outputs": [],
   "source": [
    "from .wav2clip import get_model"
   ]
  },
  {
   "cell_type": "markdown",
   "id": "52104736-c493-4893-a130-f1373b2f9e3b",
   "metadata": {},
   "source": [
    "## 测试"
   ]
  },
  {
   "cell_type": "code",
   "execution_count": null,
   "id": "55135dc3-986b-43ef-8451-c49b50e60785",
   "metadata": {
    "editable": true,
    "execution": {
     "iopub.execute_input": "2023-07-24T07:02:17.400417Z",
     "iopub.status.busy": "2023-07-24T07:02:17.399359Z",
     "iopub.status.idle": "2023-07-24T07:02:17.444092Z",
     "shell.execute_reply": "2023-07-24T07:02:17.443228Z",
     "shell.execute_reply.started": "2023-07-24T07:02:17.400366Z"
    },
    "slideshow": {
     "slide_type": ""
    },
    "tags": [
     "active-ipynb",
     "style-solution"
    ]
   },
   "outputs": [],
   "source": [
    "model = get_model()\n",
    "x = torch.randn(2, 48000)\n",
    "model(x)"
   ]
  },
  {
   "cell_type": "markdown",
   "id": "155a835e-dca4-444d-8a5f-7d5778d17b0d",
   "metadata": {},
   "source": [
    "## Lit model"
   ]
  },
  {
   "cell_type": "code",
   "execution_count": 17,
   "id": "1c3be62d-7d84-4151-98d6-6c9b7f864576",
   "metadata": {
    "execution": {
     "iopub.execute_input": "2023-07-24T07:10:22.774586Z",
     "iopub.status.busy": "2023-07-24T07:10:22.774005Z",
     "iopub.status.idle": "2023-07-24T07:10:22.820356Z",
     "shell.execute_reply": "2023-07-24T07:10:22.819571Z",
     "shell.execute_reply.started": "2023-07-24T07:10:22.774538Z"
    }
   },
   "outputs": [],
   "source": [
    "class Wav2Clip(nn.Module):\n",
    "    def __init__(self, **kwargs):\n",
    "        super().__init__()\n",
    "        self.model = get_model()\n",
    "        self.proj = nn.Linear(512, 1)\n",
    "        \n",
    "    \n",
    "    def forward(self, x):\n",
    "        feat = self.model(x)\n",
    "        return self.proj(feat), feat"
   ]
  },
  {
   "cell_type": "code",
   "execution_count": 12,
   "id": "b46c08c3-59e7-4f71-be56-211438542373",
   "metadata": {
    "execution": {
     "iopub.execute_input": "2023-05-16T08:24:25.973651Z",
     "iopub.status.busy": "2023-05-16T08:24:25.973078Z",
     "iopub.status.idle": "2023-05-16T08:24:26.014344Z",
     "shell.execute_reply": "2023-05-16T08:24:26.013547Z",
     "shell.execute_reply.started": "2023-05-16T08:24:25.973600Z"
    },
    "lines_to_next_cell": 2,
    "tags": []
   },
   "outputs": [],
   "source": [
    "class Wav2Clip_lit(DeepfakeAudioClassification):\n",
    "    def __init__(self, backend=\"linear\", **kwargs):\n",
    "        super().__init__()\n",
    "        self.model = Wav2Clip()\n",
    "        self.loss_fn = nn.BCEWithLogitsLoss()\n",
    "        self.save_hyperparameters()\n",
    "        \n",
    "    def calcuate_loss(self, batch_res, batch):\n",
    "        label = batch[\"label\"]\n",
    "        loss = self.loss_fn(batch_res[\"logit\"], label.type(torch.float32))\n",
    "        return loss\n",
    "    \n",
    "    def configure_optimizers(self):\n",
    "        optimizer = torch.optim.Adam(\n",
    "            self.model.parameters(), lr=0.0001, weight_decay=0.0001\n",
    "        )\n",
    "        return [optimizer]\n",
    "\n",
    "    def _shared_pred(self, batch, batch_idx):\n",
    "        audio, sample_rate = batch[\"audio\"], batch[\"sample_rate\"]\n",
    "        if len(audio.shape) == 3:\n",
    "            audio = audio[:, 0, :]\n",
    "\n",
    "        out, feat = self.model(audio)\n",
    "        out = out.squeeze(-1)\n",
    "        batch_pred = (torch.sigmoid(out) + 0.5).int()\n",
    "        return {\n",
    "            \"logit\": out,\n",
    "            \"pred\": batch_pred,\n",
    "            \"feature\": feat\n",
    "        }"
   ]
  }
 ],
 "metadata": {
  "jupytext": {
   "formats": "ipynb,py:light"
  },
  "kernelspec": {
   "display_name": "Python 3 (ipykernel)",
   "language": "python",
   "name": "python3"
  },
  "language_info": {
   "codemirror_mode": {
    "name": "ipython",
    "version": 3
   },
   "file_extension": ".py",
   "mimetype": "text/x-python",
   "name": "python",
   "nbconvert_exporter": "python",
   "pygments_lexer": "ipython3",
   "version": "3.9.18"
  }
 },
 "nbformat": 4,
 "nbformat_minor": 5
}
