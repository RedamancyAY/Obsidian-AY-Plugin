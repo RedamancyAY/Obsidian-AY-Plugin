{
 "cells": [
  {
   "cell_type": "code",
   "execution_count": 88,
   "id": "07d52fce-b87c-4e5d-8b92-a4f015c60131",
   "metadata": {
    "execution": {
     "iopub.execute_input": "2024-10-14T15:05:16.094811Z",
     "iopub.status.busy": "2024-10-14T15:05:16.093460Z",
     "iopub.status.idle": "2024-10-14T15:05:16.101546Z",
     "shell.execute_reply": "2024-10-14T15:05:16.100220Z",
     "shell.execute_reply.started": "2024-10-14T15:05:16.094744Z"
    }
   },
   "outputs": [],
   "source": [
    "import os\n",
    "\n",
    "import pandas as pd\n",
    "from IPython.display import HTML, display\n",
    "from ay2.tools.pandas import format_numeric_of_df_columns"
   ]
  },
  {
   "cell_type": "code",
   "execution_count": 79,
   "id": "c2e46726-39e5-42e3-8055-ef970e4cd8b8",
   "metadata": {
    "execution": {
     "iopub.execute_input": "2024-10-14T13:54:41.542485Z",
     "iopub.status.busy": "2024-10-14T13:54:41.542256Z",
     "iopub.status.idle": "2024-10-14T13:54:41.549662Z",
     "shell.execute_reply": "2024-10-14T13:54:41.548341Z",
     "shell.execute_reply.started": "2024-10-14T13:54:41.542466Z"
    }
   },
   "outputs": [],
   "source": [
    "def format_res(x, acc=1, auc=1, eer=1, metric_prefix=\"test\"):\n",
    "    # _acc = \"${:5.2f}$\".format(x[f\"{metric_prefix}-acc\"] * 100).replace(\" \", \"\\phantom{0}\")\n",
    "    # _auc = \"${:5.2f}$\".format(x[f\"{metric_prefix}-auc\"] * 100).replace(\" \", \"\\phantom{0}\")\n",
    "    # _eer = \"${:5.2f}$\".format(x[f\"{metric_prefix}-eer\"] * 100).replace(\" \", \"\\phantom{0}\")\n",
    "\n",
    "    _acc = \"{:.2f}\".format(x[f\"{metric_prefix}-acc\"] * 100)\n",
    "    _auc = \"{:.2f}\".format(x[f\"{metric_prefix}-auc\"] * 100)\n",
    "    _eer = \"{:.2f}\".format(x[f\"{metric_prefix}-eer\"] * 100)\n",
    "    \n",
    "    res = \"\"\n",
    "    if acc:\n",
    "        res += _acc\n",
    "    if auc:\n",
    "        if res:\n",
    "            res += \"/\"\n",
    "        res += _auc\n",
    "    if eer:\n",
    "        if res:\n",
    "            res += \"/\"\n",
    "        res += _eer\n",
    "    return res\n",
    "\n",
    "\n",
    "ROOT_PATH = \"/home/ay/data/DATA/1-model_save/00-Deepfake/1-df-audio-new\"\n",
    "\n",
    "def read_test_result(model, task, version=0, metric_prefix=\"test\", file_name=\"test\"):\n",
    "    save_path = f\"{ROOT_PATH}/{model}/{task}/version_{version}\"\n",
    "    csv_path = os.path.join(save_path, f\"{file_name}.csv\")\n",
    "\n",
    "    if not os.path.exists(csv_path):\n",
    "        print(\"Warning!!!! cannot find: \", csv_path)\n",
    "        return None\n",
    "\n",
    "    data = pd.read_csv(csv_path)\n",
    "    data = data[[f\"{metric_prefix}-acc\", f\"{metric_prefix}-auc\", f\"{metric_prefix}-eer\"]]\n",
    "    return data"
   ]
  },
  {
   "cell_type": "code",
   "execution_count": 73,
   "id": "64c0c734-f699-45f1-8ace-806d7514db7a",
   "metadata": {
    "execution": {
     "iopub.execute_input": "2024-10-14T13:54:09.885255Z",
     "iopub.status.busy": "2024-10-14T13:54:09.884828Z",
     "iopub.status.idle": "2024-10-14T13:54:09.892896Z",
     "shell.execute_reply": "2024-10-14T13:54:09.891794Z",
     "shell.execute_reply.started": "2024-10-14T13:54:09.885215Z"
    }
   },
   "outputs": [],
   "source": [
    "_versions = [0, 1, 2, 3, 4, 6, 7, 8, 9, 10]\n",
    "MODELs_VERSIONS = {\n",
    "    \"LCNN\": _versions,\n",
    "    \"RawNet2\": _versions,\n",
    "    \"RawGAT\": _versions,\n",
    "    \"Wave2Vec2\": _versions,\n",
    "    \"WaveLM\": _versions,\n",
    "    \"LibriSeVoc\": _versions,\n",
    "    \"AudioClip\": _versions,\n",
    "    \"Wav2Clip\": _versions,\n",
    "    \"AASIST\": _versions,\n",
    "    \"SFATNet\": _versions,\n",
    "    \"ASDG\": _versions,\n",
    "    \"Ours/ResNet\":_versions,\n",
    "}\n",
    "models = MODELs_VERSIONS.keys()\n",
    "versions = MODELs_VERSIONS.values()"
   ]
  },
  {
   "cell_type": "code",
   "execution_count": 58,
   "id": "7ca66d7e-22ec-4b5e-9bdd-b633c96d5c61",
   "metadata": {
    "execution": {
     "iopub.execute_input": "2024-10-14T13:43:59.594913Z",
     "iopub.status.busy": "2024-10-14T13:43:59.593578Z",
     "iopub.status.idle": "2024-10-14T13:44:00.279716Z",
     "shell.execute_reply": "2024-10-14T13:44:00.278962Z",
     "shell.execute_reply.started": "2024-10-14T13:43:59.594845Z"
    },
    "scrolled": true
   },
   "outputs": [
    {
     "name": "stdout",
     "output_type": "stream",
     "text": [
      "Warning!!!! cannot find:  /home/ay/data/DATA/1-model_save/00-Deepfake/1-df-audio-new/RawGAT/wavefake_inner/version_6/test.csv\n",
      "Warning!!!! cannot find:  /home/ay/data/DATA/1-model_save/00-Deepfake/1-df-audio-new/RawGAT/wavefake_inner/version_7/test.csv\n",
      "Warning!!!! cannot find:  /home/ay/data/DATA/1-model_save/00-Deepfake/1-df-audio-new/RawGAT/wavefake_inner/version_8/test.csv\n",
      "Warning!!!! cannot find:  /home/ay/data/DATA/1-model_save/00-Deepfake/1-df-audio-new/RawGAT/wavefake_inner/version_9/test.csv\n",
      "Warning!!!! cannot find:  /home/ay/data/DATA/1-model_save/00-Deepfake/1-df-audio-new/RawGAT/wavefake_inner/version_10/test.csv\n"
     ]
    }
   ],
   "source": [
    "tasks=[\"LibriSeVoc_inner\", \"wavefake_inner\", \"DECRO_english\", \"DECRO_chinese\"]\n",
    "\n",
    "for model, version in zip(models, versions):\n",
    "    for task in tasks:\n",
    "        datas = []\n",
    "        for v in version:\n",
    "            _data = read_test_result(model, task, v)\n",
    "            if _data is not None:\n",
    "                datas.append(_data[0:1])\n",
    "        datas = pd.concat(datas, ignore_index=True)\n",
    "        datas = datas[:].mean()"
   ]
  },
  {
   "cell_type": "code",
   "execution_count": 59,
   "id": "72825b43-4170-4041-8e48-b5b43bfed1bc",
   "metadata": {
    "execution": {
     "iopub.execute_input": "2024-10-14T13:44:01.090704Z",
     "iopub.status.busy": "2024-10-14T13:44:01.090406Z",
     "iopub.status.idle": "2024-10-14T13:44:01.096790Z",
     "shell.execute_reply": "2024-10-14T13:44:01.096248Z",
     "shell.execute_reply.started": "2024-10-14T13:44:01.090679Z"
    }
   },
   "outputs": [
    {
     "data": {
      "text/plain": [
       "test-acc    0.994609\n",
       "test-auc    0.999806\n",
       "test-eer    0.005731\n",
       "dtype: float64"
      ]
     },
     "execution_count": 59,
     "metadata": {},
     "output_type": "execute_result"
    }
   ],
   "source": [
    "datas"
   ]
  },
  {
   "cell_type": "code",
   "execution_count": 89,
   "id": "028dae34-a095-40b1-93da-b95a769ad978",
   "metadata": {
    "execution": {
     "iopub.execute_input": "2024-10-14T15:06:16.188910Z",
     "iopub.status.busy": "2024-10-14T15:06:16.188292Z",
     "iopub.status.idle": "2024-10-14T15:06:16.215239Z",
     "shell.execute_reply": "2024-10-14T15:06:16.213046Z",
     "shell.execute_reply.started": "2024-10-14T15:06:16.188846Z"
    }
   },
   "outputs": [],
   "source": [
    "def display_inner_evaluation(\n",
    "    models,\n",
    "    tasks=[\"LibriSeVoc_inner\", \"wavefake_inner\", \"DECRO_english\", \"DECRO_chinese\"],\n",
    "    versions=[],\n",
    "    show_latex=0,\n",
    "    show_html=1,\n",
    "    metric_prefix=\"test\",\n",
    "    avg_res=True,\n",
    "    file_name=\"test\",\n",
    "):\n",
    "    metric_auc = f\"{metric_prefix}-auc\"\n",
    "    metric_eer = f\"{metric_prefix}-eer\"\n",
    "\n",
    "    DATA = []\n",
    "    for model, version in zip(models, versions):\n",
    "        for task in tasks:\n",
    "            datas = []\n",
    "            for v in version:\n",
    "                _data = read_test_result(model, task, v)\n",
    "                if _data is not None:\n",
    "                    datas.append(_data[0:1])\n",
    "            datas = pd.concat(datas, ignore_index=True)\n",
    "            datas = datas[:].mean()\n",
    "\n",
    "            _data = datas\n",
    "            if _data is None:\n",
    "                continue\n",
    "            res = dict(_data)\n",
    "            res[\"model\"] = model\n",
    "            res[\"task\"] = task\n",
    "            DATA.append(res)\n",
    "\n",
    "    data = pd.DataFrame(DATA)\n",
    "\n",
    "    data2 = data.groupby(\"model\").mean(numeric_only=True).reset_index()\n",
    "    data2[\"task\"] = \"mean\"\n",
    "    data = pd.concat([data, data2], ignore_index=True)\n",
    "\n",
    "    data[\"res\"] = data.apply(\n",
    "        lambda x: format_res(x, acc=0, auc=1, eer=1, metric_prefix=metric_prefix),\n",
    "        axis=1,\n",
    "    )\n",
    "    data = data.pivot(index=\"model\", columns=\"task\", values=\"res\").rename_axis(None, axis=1).reset_index()\n",
    "\n",
    "    data = data.set_index(\"model\")\n",
    "    columns = tasks\n",
    "    if avg_res:\n",
    "        columns += [\"mean\"]\n",
    "    data = data[columns]\n",
    "    data = data.loc[models]\n",
    "\n",
    "    data = format_numeric_of_df_columns(data)\n",
    "    \n",
    "    if show_html:\n",
    "        display(HTML(data.to_html()))\n",
    "    if show_latex:\n",
    "        print(data.style.to_latex(column_format=\"lrr\"))\n",
    "    return data"
   ]
  },
  {
   "cell_type": "code",
   "execution_count": 90,
   "id": "dfe7737b-2709-4645-9808-be75e8730fca",
   "metadata": {
    "execution": {
     "iopub.execute_input": "2024-10-14T15:06:17.241987Z",
     "iopub.status.busy": "2024-10-14T15:06:17.241370Z",
     "iopub.status.idle": "2024-10-14T15:06:18.062251Z",
     "shell.execute_reply": "2024-10-14T15:06:18.060596Z",
     "shell.execute_reply.started": "2024-10-14T15:06:17.241925Z"
    }
   },
   "outputs": [
    {
     "name": "stdout",
     "output_type": "stream",
     "text": [
      "Warning!!!! cannot find:  /home/ay/data/DATA/1-model_save/00-Deepfake/1-df-audio-new/RawGAT/wavefake_inner/version_10/test.csv\n"
     ]
    },
    {
     "data": {
      "text/html": [
       "<table border=\"1\" class=\"dataframe\">\n",
       "  <thead>\n",
       "    <tr style=\"text-align: right;\">\n",
       "      <th></th>\n",
       "      <th>LibriSeVoc_inner</th>\n",
       "      <th>wavefake_inner</th>\n",
       "      <th>DECRO_english</th>\n",
       "      <th>DECRO_chinese</th>\n",
       "      <th>mean</th>\n",
       "    </tr>\n",
       "    <tr>\n",
       "      <th>model</th>\n",
       "      <th></th>\n",
       "      <th></th>\n",
       "      <th></th>\n",
       "      <th></th>\n",
       "      <th></th>\n",
       "    </tr>\n",
       "  </thead>\n",
       "  <tbody>\n",
       "    <tr>\n",
       "      <th>LCNN</th>\n",
       "      <td>99.96/0.90</td>\n",
       "      <td>99.98/0.64</td>\n",
       "      <td>99.96/0.90</td>\n",
       "      <td>99.88/1.43</td>\n",
       "      <td>99.94/0.97</td>\n",
       "    </tr>\n",
       "    <tr>\n",
       "      <th>RawNet2</th>\n",
       "      <td>95.00/6.94</td>\n",
       "      <td>97.93/6.95</td>\n",
       "      <td>99.37/3.68</td>\n",
       "      <td>99.32/3.85</td>\n",
       "      <td>97.91/5.36</td>\n",
       "    </tr>\n",
       "    <tr>\n",
       "      <th>RawGAT</th>\n",
       "      <td>99.89/1.45</td>\n",
       "      <td>99.92/1.25</td>\n",
       "      <td>99.89/1.45</td>\n",
       "      <td>99.87/1.56</td>\n",
       "      <td>99.89/1.43</td>\n",
       "    </tr>\n",
       "    <tr>\n",
       "      <th>Wave2Vec2</th>\n",
       "      <td>100.00/0.09</td>\n",
       "      <td>99.99/0.44</td>\n",
       "      <td>99.99/0.47</td>\n",
       "      <td>99.98/0.43</td>\n",
       "      <td>99.99/0.35</td>\n",
       "    </tr>\n",
       "    <tr>\n",
       "      <th>WaveLM</th>\n",
       "      <td>100.00/0.03</td>\n",
       "      <td>100.00/0.26</td>\n",
       "      <td>99.98/0.55</td>\n",
       "      <td>99.99/0.41</td>\n",
       "      <td>99.99/0.31</td>\n",
       "    </tr>\n",
       "    <tr>\n",
       "      <th>LibriSeVoc</th>\n",
       "      <td>99.44/2.86</td>\n",
       "      <td>99.37/3.93</td>\n",
       "      <td>99.42/3.42</td>\n",
       "      <td>99.10/4.36</td>\n",
       "      <td>99.33/3.64</td>\n",
       "    </tr>\n",
       "    <tr>\n",
       "      <th>AudioClip</th>\n",
       "      <td>99.32/3.98</td>\n",
       "      <td>99.92/1.29</td>\n",
       "      <td>99.88/0.91</td>\n",
       "      <td>99.58/2.85</td>\n",
       "      <td>99.67/2.26</td>\n",
       "    </tr>\n",
       "    <tr>\n",
       "      <th>Wav2Clip</th>\n",
       "      <td>99.83/1.60</td>\n",
       "      <td>99.99/0.30</td>\n",
       "      <td>99.98/0.68</td>\n",
       "      <td>99.21/4.08</td>\n",
       "      <td>99.75/1.66</td>\n",
       "    </tr>\n",
       "    <tr>\n",
       "      <th>AASIST</th>\n",
       "      <td>99.91/1.33</td>\n",
       "      <td>99.84/1.60</td>\n",
       "      <td>99.91/1.35</td>\n",
       "      <td>99.56/2.92</td>\n",
       "      <td>99.81/1.80</td>\n",
       "    </tr>\n",
       "    <tr>\n",
       "      <th>SFATNet</th>\n",
       "      <td>98.33/5.95</td>\n",
       "      <td>99.89/1.52</td>\n",
       "      <td>99.85/1.75</td>\n",
       "      <td>97.50/8.17</td>\n",
       "      <td>98.89/4.35</td>\n",
       "    </tr>\n",
       "    <tr>\n",
       "      <th>ASDG</th>\n",
       "      <td>99.93/1.22</td>\n",
       "      <td>99.94/0.77</td>\n",
       "      <td>99.92/1.10</td>\n",
       "      <td>99.80/1.76</td>\n",
       "      <td>99.90/1.21</td>\n",
       "    </tr>\n",
       "    <tr>\n",
       "      <th>Ours/ResNet</th>\n",
       "      <td>99.99/0.43</td>\n",
       "      <td>100.00/0.08</td>\n",
       "      <td>99.99/0.45</td>\n",
       "      <td>99.98/0.57</td>\n",
       "      <td>99.99/0.38</td>\n",
       "    </tr>\n",
       "  </tbody>\n",
       "</table>"
      ],
      "text/plain": [
       "<IPython.core.display.HTML object>"
      ]
     },
     "metadata": {},
     "output_type": "display_data"
    }
   ],
   "source": [
    "data = display_inner_evaluation(models, versions=versions)"
   ]
  },
  {
   "cell_type": "code",
   "execution_count": null,
   "id": "9c8625dd-e6ef-4325-be38-f86a8950fe88",
   "metadata": {},
   "outputs": [],
   "source": []
  }
 ],
 "metadata": {
  "kernelspec": {
   "display_name": "Python 3 (ipykernel)",
   "language": "python",
   "name": "python3"
  },
  "language_info": {
   "codemirror_mode": {
    "name": "ipython",
    "version": 3
   },
   "file_extension": ".py",
   "mimetype": "text/x-python",
   "name": "python",
   "nbconvert_exporter": "python",
   "pygments_lexer": "ipython3",
   "version": "3.9.18"
  }
 },
 "nbformat": 4,
 "nbformat_minor": 5
}
