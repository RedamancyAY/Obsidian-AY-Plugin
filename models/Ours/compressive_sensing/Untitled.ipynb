{
 "cells": [
  {
   "cell_type": "code",
   "execution_count": 1,
   "id": "719c60d5-be00-4487-9701-83ca7326ceaf",
   "metadata": {
    "execution": {
     "iopub.execute_input": "2024-01-25T03:56:22.372080Z",
     "iopub.status.busy": "2024-01-25T03:56:22.370999Z",
     "iopub.status.idle": "2024-01-25T03:56:22.422585Z",
     "shell.execute_reply": "2024-01-25T03:56:22.420857Z",
     "shell.execute_reply.started": "2024-01-25T03:56:22.372020Z"
    }
   },
   "outputs": [],
   "source": [
    "%load_ext autoreload\n",
    "%autoreload 2"
   ]
  },
  {
   "cell_type": "code",
   "execution_count": 2,
   "id": "8027b36a-06af-4d1c-b958-8fa9f4eac078",
   "metadata": {
    "execution": {
     "iopub.execute_input": "2024-01-25T03:56:23.552186Z",
     "iopub.status.busy": "2024-01-25T03:56:23.551613Z",
     "iopub.status.idle": "2024-01-25T03:56:26.830525Z",
     "shell.execute_reply": "2024-01-25T03:56:26.829651Z",
     "shell.execute_reply.started": "2024-01-25T03:56:23.552130Z"
    }
   },
   "outputs": [],
   "source": [
    "import os\n",
    "\n",
    "import pytorch_lightning as pl\n",
    "import torch\n",
    "import torch.nn as nn\n",
    "import torch.nn.functional as F\n",
    "import torchaudio\n",
    "from einops import rearrange\n",
    "from pytorch_lightning import Trainer\n",
    "from torch.utils.data import DataLoader\n",
    "from torchvision import transforms\n",
    "from torchvision.datasets import MNIST"
   ]
  },
  {
   "cell_type": "code",
   "execution_count": 3,
   "id": "35bb4015-5092-4bfa-8740-09ca798f4ab5",
   "metadata": {
    "execution": {
     "iopub.execute_input": "2024-01-25T03:56:26.831656Z",
     "iopub.status.busy": "2024-01-25T03:56:26.831439Z",
     "iopub.status.idle": "2024-01-25T03:56:27.036191Z",
     "shell.execute_reply": "2024-01-25T03:56:27.035344Z",
     "shell.execute_reply.started": "2024-01-25T03:56:26.831640Z"
    }
   },
   "outputs": [],
   "source": [
    "from ay2.datasets.audio import wavefake\n",
    "from ay2.torch.data.audio import WaveDataset"
   ]
  },
  {
   "cell_type": "code",
   "execution_count": 4,
   "id": "a06aaf57-f2e9-4d07-ad2a-6b9c8a340541",
   "metadata": {
    "execution": {
     "iopub.execute_input": "2024-01-25T03:56:27.199991Z",
     "iopub.status.busy": "2024-01-25T03:56:27.199664Z",
     "iopub.status.idle": "2024-01-25T03:56:27.829213Z",
     "shell.execute_reply": "2024-01-25T03:56:27.828368Z",
     "shell.execute_reply.started": "2024-01-25T03:56:27.199974Z"
    }
   },
   "outputs": [],
   "source": [
    "dataset = wavefake.WaveFake_AudioDs(\n",
    "    root_path=\"/home/ay/data/DATA/2-datasets/1-df-audio/WaveFake\"\n",
    ")\n",
    "\n",
    "data = dataset.data\n",
    "data = data[data[\"label\"] == 1].reset_index(drop=True)"
   ]
  },
  {
   "cell_type": "code",
   "execution_count": 5,
   "id": "7a7d615d-4c29-42d3-8c28-2fee93031601",
   "metadata": {
    "execution": {
     "iopub.execute_input": "2024-01-25T03:56:28.572851Z",
     "iopub.status.busy": "2024-01-25T03:56:28.572626Z",
     "iopub.status.idle": "2024-01-25T03:56:28.602222Z",
     "shell.execute_reply": "2024-01-25T03:56:28.601178Z",
     "shell.execute_reply.started": "2024-01-25T03:56:28.572833Z"
    }
   },
   "outputs": [],
   "source": [
    "path = data[\"audio_path\"][0]"
   ]
  },
  {
   "cell_type": "code",
   "execution_count": 6,
   "id": "115438bf-d674-4d26-9bd0-bec85a6e7aaa",
   "metadata": {
    "execution": {
     "iopub.execute_input": "2024-01-25T03:56:29.307521Z",
     "iopub.status.busy": "2024-01-25T03:56:29.307169Z",
     "iopub.status.idle": "2024-01-25T03:56:29.350733Z",
     "shell.execute_reply": "2024-01-25T03:56:29.349615Z",
     "shell.execute_reply.started": "2024-01-25T03:56:29.307489Z"
    }
   },
   "outputs": [
    {
     "data": {
      "text/plain": [
       "'/home/ay/data/DATA/2-datasets/1-df-audio/WaveFake/jsut_real/wav/BASIC5000_0001.wav'"
      ]
     },
     "execution_count": 6,
     "metadata": {},
     "output_type": "execute_result"
    }
   ],
   "source": [
    "path"
   ]
  },
  {
   "cell_type": "code",
   "execution_count": 7,
   "id": "b424e57e-0ba9-4d4b-a3b1-590fd99a8503",
   "metadata": {
    "execution": {
     "iopub.execute_input": "2024-01-25T03:56:30.034294Z",
     "iopub.status.busy": "2024-01-25T03:56:30.032739Z",
     "iopub.status.idle": "2024-01-25T03:56:30.168303Z",
     "shell.execute_reply": "2024-01-25T03:56:30.167473Z",
     "shell.execute_reply.started": "2024-01-25T03:56:30.034231Z"
    }
   },
   "outputs": [],
   "source": [
    "audio, sample_rate = torchaudio.load(path)"
   ]
  },
  {
   "cell_type": "code",
   "execution_count": 8,
   "id": "96c0088f-cd71-42ee-a4c3-a1905017f105",
   "metadata": {
    "execution": {
     "iopub.execute_input": "2024-01-25T03:56:30.900784Z",
     "iopub.status.busy": "2024-01-25T03:56:30.899723Z",
     "iopub.status.idle": "2024-01-25T03:56:30.950952Z",
     "shell.execute_reply": "2024-01-25T03:56:30.949118Z",
     "shell.execute_reply.started": "2024-01-25T03:56:30.900721Z"
    }
   },
   "outputs": [],
   "source": [
    "ds = WaveDataset(data, max_wave_length=48000)\n",
    "dl = torch.utils.data.DataLoader(\n",
    "    ds, batch_size=32, num_workers=8, drop_last=True, shuffle=True\n",
    ")"
   ]
  },
  {
   "cell_type": "code",
   "execution_count": 29,
   "id": "d82a0e2d-e2bd-4e8c-85af-e10b0b7e866e",
   "metadata": {
    "execution": {
     "iopub.execute_input": "2024-01-25T04:11:06.082977Z",
     "iopub.status.busy": "2024-01-25T04:11:06.081744Z",
     "iopub.status.idle": "2024-01-25T04:11:06.153352Z",
     "shell.execute_reply": "2024-01-25T04:11:06.151136Z",
     "shell.execute_reply.started": "2024-01-25T04:11:06.082920Z"
    }
   },
   "outputs": [],
   "source": [
    "class AudioCS(nn.Module):\n",
    "    def __init__(self):\n",
    "        super().__init__()\n",
    "\n",
    "        n = 1600\n",
    "        m = 800\n",
    "\n",
    "        self.phi = nn.Linear(n, m, bias=False)\n",
    "        self.psi = nn.Linear(m, n, bias=False)\n",
    "\n",
    "    def forward(self, x):\n",
    "        x = rearrange(x, \"b (n s) -> b n s\", s=1600)\n",
    "        x = self.psi(self.phi(x))\n",
    "        x = rearrange(x, \"b n s -> b (n s)\")\n",
    "        return x"
   ]
  },
  {
   "cell_type": "code",
   "execution_count": 33,
   "id": "327dee01-58fd-47c0-ad58-2350a0b6c1e0",
   "metadata": {
    "execution": {
     "iopub.execute_input": "2024-01-25T04:12:33.291654Z",
     "iopub.status.busy": "2024-01-25T04:12:33.290943Z",
     "iopub.status.idle": "2024-01-25T04:23:12.896636Z",
     "shell.execute_reply": "2024-01-25T04:23:12.895701Z",
     "shell.execute_reply.started": "2024-01-25T04:12:33.291598Z"
    }
   },
   "outputs": [
    {
     "name": "stderr",
     "output_type": "stream",
     "text": [
      "GPU available: True (cuda), used: True\n",
      "TPU available: False, using: 0 TPU cores\n",
      "IPU available: False, using: 0 IPUs\n",
      "HPU available: False, using: 0 HPUs\n",
      "LOCAL_RANK: 0 - CUDA_VISIBLE_DEVICES: [0,1,2,3]\n",
      "\n",
      "  | Name  | Type    | Params\n",
      "----------------------------------\n",
      "0 | model | AudioCS | 2.6 M \n",
      "----------------------------------\n",
      "2.6 M     Trainable params\n",
      "0         Non-trainable params\n",
      "2.6 M     Total params\n",
      "10.240    Total estimated model params size (MB)\n"
     ]
    },
    {
     "data": {
      "application/vnd.jupyter.widget-view+json": {
       "model_id": "9e666fc40324415d817ecbdb34f8b44f",
       "version_major": 2,
       "version_minor": 0
      },
      "text/plain": [
       "Training: |                                                                                                   …"
      ]
     },
     "metadata": {},
     "output_type": "display_data"
    },
    {
     "name": "stderr",
     "output_type": "stream",
     "text": [
      "`Trainer.fit` stopped: `max_epochs=50` reached.\n"
     ]
    }
   ],
   "source": [
    "class LitModel(pl.LightningModule):\n",
    "    def __init__(self):\n",
    "        super().__init__()\n",
    "        self.model = AudioCS()\n",
    "\n",
    "    def forward(self, x):\n",
    "        return self.model(x)\n",
    "\n",
    "    def training_step(self, batch, batch_idx):\n",
    "        x = batch[\"audio\"]\n",
    "        x = x[:, 0, :]\n",
    "        y_hat = self(x)\n",
    "        loss = torch.mean(torch.square(y_hat - x))\n",
    "        self.log_dict({\"loss\": loss}, prog_bar=True, on_step=True, on_epoch=True)\n",
    "        return loss\n",
    "\n",
    "    def configure_optimizers(self):\n",
    "        return torch.optim.Adam(self.parameters(), lr=0.001)\n",
    "\n",
    "\n",
    "model = LitModel()\n",
    "trainer = Trainer(\n",
    "    max_epochs=50,\n",
    "    devices=[0],\n",
    "    accelerator=\"gpu\",\n",
    ")\n",
    "trainer.fit(model, train_dataloaders=dl)"
   ]
  },
  {
   "cell_type": "code",
   "execution_count": 37,
   "id": "abc0e965-60e6-4502-b3dc-3210ec4df3a9",
   "metadata": {
    "execution": {
     "iopub.execute_input": "2024-01-25T06:30:25.455952Z",
     "iopub.status.busy": "2024-01-25T06:30:25.453716Z",
     "iopub.status.idle": "2024-01-25T06:30:25.532548Z",
     "shell.execute_reply": "2024-01-25T06:30:25.530820Z",
     "shell.execute_reply.started": "2024-01-25T06:30:25.455870Z"
    }
   },
   "outputs": [],
   "source": [
    "audio = ds[1][\"audio\"]"
   ]
  },
  {
   "cell_type": "code",
   "execution_count": 38,
   "id": "6778ff27-f0eb-42f3-9974-a2e3cf8fffde",
   "metadata": {
    "execution": {
     "iopub.execute_input": "2024-01-25T06:30:26.329075Z",
     "iopub.status.busy": "2024-01-25T06:30:26.326847Z",
     "iopub.status.idle": "2024-01-25T06:30:26.405456Z",
     "shell.execute_reply": "2024-01-25T06:30:26.403453Z",
     "shell.execute_reply.started": "2024-01-25T06:30:26.328996Z"
    }
   },
   "outputs": [
    {
     "data": {
      "text/plain": [
       "tensor([[-0.0041, -0.0041, -0.0040,  ...,  0.0307,  0.0241,  0.0177]])"
      ]
     },
     "execution_count": 38,
     "metadata": {},
     "output_type": "execute_result"
    }
   ],
   "source": [
    "audio"
   ]
  },
  {
   "cell_type": "code",
   "execution_count": 39,
   "id": "0086d2e3-1d16-4c3e-b849-fdee92dd2753",
   "metadata": {
    "execution": {
     "iopub.execute_input": "2024-01-25T06:30:27.386832Z",
     "iopub.status.busy": "2024-01-25T06:30:27.385071Z",
     "iopub.status.idle": "2024-01-25T06:30:27.455836Z",
     "shell.execute_reply": "2024-01-25T06:30:27.454322Z",
     "shell.execute_reply.started": "2024-01-25T06:30:27.386754Z"
    }
   },
   "outputs": [
    {
     "data": {
      "text/plain": [
       "tensor([[-0.0041, -0.0041, -0.0042,  ...,  0.0246,  0.0240,  0.0240]],\n",
       "       grad_fn=<ViewBackward0>)"
      ]
     },
     "execution_count": 39,
     "metadata": {},
     "output_type": "execute_result"
    }
   ],
   "source": [
    "model.model(audio)"
   ]
  },
  {
   "cell_type": "code",
   "execution_count": 40,
   "id": "5bdae95e-d58d-47c3-90bd-98c8348b0ba8",
   "metadata": {
    "execution": {
     "iopub.execute_input": "2024-01-25T06:30:36.262369Z",
     "iopub.status.busy": "2024-01-25T06:30:36.261619Z",
     "iopub.status.idle": "2024-01-25T06:30:36.330618Z",
     "shell.execute_reply": "2024-01-25T06:30:36.329191Z",
     "shell.execute_reply.started": "2024-01-25T06:30:36.262306Z"
    }
   },
   "outputs": [
    {
     "data": {
      "text/plain": [
       "tensor(0.0054, grad_fn=<MeanBackward0>)"
      ]
     },
     "execution_count": 40,
     "metadata": {},
     "output_type": "execute_result"
    }
   ],
   "source": [
    "torch.mean(torch.abs(model.model(audio) - audio))"
   ]
  },
  {
   "cell_type": "code",
   "execution_count": 43,
   "id": "6c8268c7-e0cd-4fbc-9b49-8f9aa47fc1ec",
   "metadata": {
    "execution": {
     "iopub.execute_input": "2024-01-25T06:31:24.701872Z",
     "iopub.status.busy": "2024-01-25T06:31:24.700324Z",
     "iopub.status.idle": "2024-01-25T06:31:24.766803Z",
     "shell.execute_reply": "2024-01-25T06:31:24.764886Z",
     "shell.execute_reply.started": "2024-01-25T06:31:24.701810Z"
    }
   },
   "outputs": [],
   "source": [
    "s = torchaudio.transforms.Spectrogram(n_fft=512)"
   ]
  },
  {
   "cell_type": "code",
   "execution_count": 46,
   "id": "b43337ff-0cac-42e1-8560-85379787241b",
   "metadata": {
    "execution": {
     "iopub.execute_input": "2024-01-25T06:31:55.239648Z",
     "iopub.status.busy": "2024-01-25T06:31:55.237162Z",
     "iopub.status.idle": "2024-01-25T06:31:55.337156Z",
     "shell.execute_reply": "2024-01-25T06:31:55.335711Z",
     "shell.execute_reply.started": "2024-01-25T06:31:55.239567Z"
    }
   },
   "outputs": [],
   "source": [
    "s1 = s(audio)\n",
    "s2 = s(model.model(audio))"
   ]
  },
  {
   "cell_type": "code",
   "execution_count": 48,
   "id": "4be4977e-61fa-4cd3-9549-fe209ee858c2",
   "metadata": {
    "execution": {
     "iopub.execute_input": "2024-01-25T06:32:34.670783Z",
     "iopub.status.busy": "2024-01-25T06:32:34.670188Z",
     "iopub.status.idle": "2024-01-25T06:32:34.740413Z",
     "shell.execute_reply": "2024-01-25T06:32:34.738812Z",
     "shell.execute_reply.started": "2024-01-25T06:32:34.670734Z"
    }
   },
   "outputs": [
    {
     "data": {
      "text/plain": [
       "tensor([[[ 5.1732e-02, -5.5174e-03, -2.0109e-02,  ...,  1.7372e-02,\n",
       "          -3.5412e-02,  1.9059e-02],\n",
       "         [ 3.2077e-02, -8.1467e-03, -4.2563e-03,  ...,  3.3082e-02,\n",
       "          -2.8403e-02,  3.7974e-02],\n",
       "         [ 9.3463e-04, -8.3178e-04,  5.9568e-04,  ...,  3.0843e-02,\n",
       "          -6.8149e-05,  8.5059e-02],\n",
       "         ...,\n",
       "         [-2.2727e-07, -2.2271e-10, -6.2995e-10,  ..., -1.1599e-07,\n",
       "          -3.1666e-08,  1.2203e-05],\n",
       "         [-2.1735e-07, -2.0275e-09, -3.9816e-09,  ..., -7.2028e-08,\n",
       "          -7.1756e-08,  1.1380e-05],\n",
       "         [-2.1771e-07, -3.0161e-09, -3.1714e-09,  ..., -3.8723e-09,\n",
       "          -1.9946e-07,  1.1655e-05]]], grad_fn=<SubBackward0>)"
      ]
     },
     "execution_count": 48,
     "metadata": {},
     "output_type": "execute_result"
    }
   ],
   "source": [
    "s1  - s2"
   ]
  }
 ],
 "metadata": {
  "kernelspec": {
   "display_name": "Python 3 (ipykernel)",
   "language": "python",
   "name": "python3"
  },
  "language_info": {
   "codemirror_mode": {
    "name": "ipython",
    "version": 3
   },
   "file_extension": ".py",
   "mimetype": "text/x-python",
   "name": "python",
   "nbconvert_exporter": "python",
   "pygments_lexer": "ipython3",
   "version": "3.9.18"
  }
 },
 "nbformat": 4,
 "nbformat_minor": 5
}
