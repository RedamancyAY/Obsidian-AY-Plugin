{
 "cells": [
  {
   "cell_type": "code",
   "execution_count": 1,
   "id": "9763522d-9b59-4561-9256-d5f4436b4a7e",
   "metadata": {
    "execution": {
     "iopub.execute_input": "2024-01-25T06:38:51.793655Z",
     "iopub.status.busy": "2024-01-25T06:38:51.792978Z",
     "iopub.status.idle": "2024-01-25T06:38:51.837609Z",
     "shell.execute_reply": "2024-01-25T06:38:51.835638Z",
     "shell.execute_reply.started": "2024-01-25T06:38:51.793591Z"
    }
   },
   "outputs": [],
   "source": [
    "%load_ext autoreload\n",
    "%autoreload 2"
   ]
  },
  {
   "cell_type": "code",
   "execution_count": 91,
   "id": "8afc29ba-c723-4d6c-8f97-f24929e782ea",
   "metadata": {
    "execution": {
     "iopub.execute_input": "2024-01-25T07:02:51.441455Z",
     "iopub.status.busy": "2024-01-25T07:02:51.440127Z",
     "iopub.status.idle": "2024-01-25T07:02:51.496425Z",
     "shell.execute_reply": "2024-01-25T07:02:51.495276Z",
     "shell.execute_reply.started": "2024-01-25T07:02:51.441407Z"
    }
   },
   "outputs": [],
   "source": [
    "import os\n",
    "\n",
    "import torch\n",
    "import torch.nn as nn\n",
    "from einops import rearrange\n",
    "import numpy as np"
   ]
  },
  {
   "cell_type": "code",
   "execution_count": 3,
   "id": "1ede70a8-5940-4262-b15f-ab31a193b5a9",
   "metadata": {
    "execution": {
     "iopub.execute_input": "2024-01-25T06:41:32.957713Z",
     "iopub.status.busy": "2024-01-25T06:41:32.957033Z",
     "iopub.status.idle": "2024-01-25T06:41:33.030532Z",
     "shell.execute_reply": "2024-01-25T06:41:33.028279Z",
     "shell.execute_reply.started": "2024-01-25T06:41:32.957652Z"
    }
   },
   "outputs": [],
   "source": [
    "from ay2.math import logistic_map"
   ]
  },
  {
   "cell_type": "code",
   "execution_count": 66,
   "id": "0938ffc4-f758-4731-8520-e05a6755abee",
   "metadata": {
    "execution": {
     "iopub.execute_input": "2024-01-25T06:59:10.700302Z",
     "iopub.status.busy": "2024-01-25T06:59:10.700023Z",
     "iopub.status.idle": "2024-01-25T06:59:10.734133Z",
     "shell.execute_reply": "2024-01-25T06:59:10.732512Z",
     "shell.execute_reply.started": "2024-01-25T06:59:10.700280Z"
    }
   },
   "outputs": [],
   "source": [
    "def generate_measurement_matrix(m, n):\n",
    "    N = logistic_map(0.999131, m * n)\n",
    "    N = np.array(N)\n",
    "    N = np.where(N > 0.5, 1, -1)\n",
    "    matrix = N * (1 / np.sqrt(m))\n",
    "    matrix = np.reshape(matrix, (m,n)).astype(np.float32)\n",
    "    return matrix.T"
   ]
  },
  {
   "cell_type": "code",
   "execution_count": 88,
   "id": "2fb3bcf3-0d05-42cc-b5e1-b4beee741fbc",
   "metadata": {
    "execution": {
     "iopub.execute_input": "2024-01-25T07:02:28.111582Z",
     "iopub.status.busy": "2024-01-25T07:02:28.111122Z",
     "iopub.status.idle": "2024-01-25T07:02:28.157932Z",
     "shell.execute_reply": "2024-01-25T07:02:28.156754Z",
     "shell.execute_reply.started": "2024-01-25T07:02:28.111541Z"
    }
   },
   "outputs": [],
   "source": [
    "class AudioCS(nn.Module):\n",
    "\n",
    "    def __init__(self, m, n):\n",
    "        super().__init__()\n",
    "        \n",
    "        self.m = m\n",
    "        self.n = n\n",
    "        matrix = generate_measurement_matrix(m, n)\n",
    "        self.register_buffer('matrix', torch.tensor(matrix))\n",
    "\n",
    "    def __call__(self, x):\n",
    "\n",
    "        short_cut = x\n",
    "        \n",
    "        flag_ndim3 = False\n",
    "        if len(x.shape) == 3:\n",
    "            flag_ndim3 = True\n",
    "            x = x[:, 0, :]\n",
    "\n",
    "        x = rearrange(x, 'b (n l) -> b n l', l=self.n)\n",
    "        # print(self.matrix.shape, x.shape)\n",
    "        x = torch.matmul(x, self.matrix)\n",
    "        x = torch.matmul(x, self.matrix.transpose(0, 1))\n",
    "        x = rearrange(x, 'b n l -> b (n l)')\n",
    "\n",
    "        if flag_ndim3:\n",
    "            x = x[:, None, :]\n",
    "\n",
    "        return x\n",
    "        # return x - short_cut\n",
    "        "
   ]
  },
  {
   "cell_type": "code",
   "execution_count": 90,
   "id": "c271a2c8-9b6c-4aa0-bc4c-3da7235d1211",
   "metadata": {
    "execution": {
     "iopub.execute_input": "2024-01-25T07:02:32.747528Z",
     "iopub.status.busy": "2024-01-25T07:02:32.747116Z",
     "iopub.status.idle": "2024-01-25T07:02:32.860786Z",
     "shell.execute_reply": "2024-01-25T07:02:32.859609Z",
     "shell.execute_reply.started": "2024-01-25T07:02:32.747494Z"
    }
   },
   "outputs": [
    {
     "name": "stdout",
     "output_type": "stream",
     "text": [
      "torch.Size([1600, 100]) torch.Size([2, 30, 1600])\n"
     ]
    },
    {
     "data": {
      "text/plain": [
       "tensor([[[-1.6794, -1.0636, -2.2224,  ...,  0.9777,  0.7760,  1.5100]],\n",
       "\n",
       "        [[ 4.4315,  1.8889,  5.1439,  ...,  5.4613, -3.3231, -3.0458]]])"
      ]
     },
     "execution_count": 90,
     "metadata": {},
     "output_type": "execute_result"
    }
   ],
   "source": [
    "# module = AudioCS(100, 1600)\n",
    "# x = torch.randn(2, 1, 48000)\n",
    "# module(x)"
   ]
  }
 ],
 "metadata": {
  "jupytext": {
   "formats": "ipynb,auto:light"
  },
  "kernelspec": {
   "display_name": "Python 3 (ipykernel)",
   "language": "python",
   "name": "python3"
  },
  "language_info": {
   "codemirror_mode": {
    "name": "ipython",
    "version": 3
   },
   "file_extension": ".py",
   "mimetype": "text/x-python",
   "name": "python",
   "nbconvert_exporter": "python",
   "pygments_lexer": "ipython3",
   "version": "3.9.18"
  }
 },
 "nbformat": 4,
 "nbformat_minor": 5
}
