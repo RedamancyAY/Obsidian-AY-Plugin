{
 "cells": [
  {
   "cell_type": "code",
   "execution_count": 3,
   "id": "e3c616fb-6a15-4d51-94f4-b8d9d797d0ce",
   "metadata": {
    "execution": {
     "iopub.execute_input": "2023-07-17T09:39:30.326385Z",
     "iopub.status.busy": "2023-07-17T09:39:30.325794Z",
     "iopub.status.idle": "2023-07-17T09:39:30.371660Z",
     "shell.execute_reply": "2023-07-17T09:39:30.370608Z",
     "shell.execute_reply.started": "2023-07-17T09:39:30.326340Z"
    },
    "tags": []
   },
   "outputs": [
    {
     "name": "stdout",
     "output_type": "stream",
     "text": [
      "The autoreload extension is already loaded. To reload it, use:\n",
      "  %reload_ext autoreload\n"
     ]
    }
   ],
   "source": [
    "%load_ext autoreload\n",
    "%autoreload 2"
   ]
  },
  {
   "cell_type": "code",
   "execution_count": 1,
   "id": "a306fb43-dcfc-4954-87c6-c9a59870ff94",
   "metadata": {
    "execution": {
     "iopub.execute_input": "2023-07-27T08:39:16.202384Z",
     "iopub.status.busy": "2023-07-27T08:39:16.201363Z",
     "iopub.status.idle": "2023-07-27T08:39:17.798929Z",
     "shell.execute_reply": "2023-07-27T08:39:17.798194Z",
     "shell.execute_reply.started": "2023-07-27T08:39:16.202337Z"
    },
    "tags": []
   },
   "outputs": [],
   "source": [
    "import pytorch_lightning as pl\n",
    "import torch\n",
    "import torch.nn as nn\n",
    "from ay.torch.audio_df_detection import BinaryClassification\n",
    "from ay.torch.losses import BinaryTokenContrastLoss"
   ]
  },
  {
   "cell_type": "code",
   "execution_count": 27,
   "id": "ed85192f-1c7d-4cd2-9787-9e7deaa367b5",
   "metadata": {
    "execution": {
     "iopub.execute_input": "2023-07-17T12:15:00.393952Z",
     "iopub.status.busy": "2023-07-17T12:15:00.393359Z",
     "iopub.status.idle": "2023-07-17T12:15:00.992240Z",
     "shell.execute_reply": "2023-07-17T12:15:00.991202Z",
     "shell.execute_reply.started": "2023-07-17T12:15:00.393905Z"
    }
   },
   "outputs": [],
   "source": [
    "from copy import deepcopy"
   ]
  },
  {
   "cell_type": "code",
   "execution_count": 5,
   "id": "a1ac49aa-8769-44a0-8dec-54035ef2e6c4",
   "metadata": {
    "editable": true,
    "execution": {
     "iopub.execute_input": "2023-07-17T09:39:35.878695Z",
     "iopub.status.busy": "2023-07-17T09:39:35.877979Z",
     "iopub.status.idle": "2023-07-17T09:39:35.914107Z",
     "shell.execute_reply": "2023-07-17T09:39:35.913389Z",
     "shell.execute_reply.started": "2023-07-17T09:39:35.878646Z"
    },
    "slideshow": {
     "slide_type": ""
    },
    "tags": []
   },
   "outputs": [],
   "source": [
    "from .model import AudioModel"
   ]
  },
  {
   "cell_type": "code",
   "execution_count": 5,
   "id": "1e713024-1918-464b-a952-3110b1da01d1",
   "metadata": {
    "editable": true,
    "execution": {
     "iopub.execute_input": "2023-07-17T09:39:35.878695Z",
     "iopub.status.busy": "2023-07-17T09:39:35.877979Z",
     "iopub.status.idle": "2023-07-17T09:39:35.914107Z",
     "shell.execute_reply": "2023-07-17T09:39:35.913389Z",
     "shell.execute_reply.started": "2023-07-17T09:39:35.878646Z"
    },
    "slideshow": {
     "slide_type": ""
    },
    "tags": [
     "active-ipynb",
     "style-solution"
    ]
   },
   "outputs": [],
   "source": [
    "from model import AudioModel"
   ]
  },
  {
   "cell_type": "code",
   "execution_count": 1,
   "id": "c26aabe9-138a-4421-92f5-225b3edba33e",
   "metadata": {
    "editable": true,
    "execution": {
     "iopub.execute_input": "2023-07-28T08:05:10.529758Z",
     "iopub.status.busy": "2023-07-28T08:05:10.529173Z",
     "iopub.status.idle": "2023-07-28T08:05:10.707785Z",
     "shell.execute_reply": "2023-07-28T08:05:10.706960Z",
     "shell.execute_reply.started": "2023-07-28T08:05:10.529714Z"
    },
    "slideshow": {
     "slide_type": ""
    },
    "tags": []
   },
   "outputs": [
    {
     "ename": "NameError",
     "evalue": "name 'BinaryClassification' is not defined",
     "output_type": "error",
     "traceback": [
      "\u001b[0;31m---------------------------------------------------------------------------\u001b[0m",
      "\u001b[0;31mNameError\u001b[0m                                 Traceback (most recent call last)",
      "Cell \u001b[0;32mIn[1], line 1\u001b[0m\n\u001b[0;32m----> 1\u001b[0m \u001b[38;5;28;01mclass\u001b[39;00m \u001b[38;5;21;01mAudioModel_lit\u001b[39;00m(\u001b[43mBinaryClassification\u001b[49m):\n\u001b[1;32m      2\u001b[0m     \u001b[38;5;28;01mdef\u001b[39;00m \u001b[38;5;21m__init__\u001b[39m(\u001b[38;5;28mself\u001b[39m, cfg\u001b[38;5;241m=\u001b[39m\u001b[38;5;28;01mNone\u001b[39;00m, \u001b[38;5;241m*\u001b[39m\u001b[38;5;241m*\u001b[39mkwargs):\n\u001b[1;32m      3\u001b[0m         \u001b[38;5;28msuper\u001b[39m()\u001b[38;5;241m.\u001b[39m\u001b[38;5;21m__init__\u001b[39m()\n",
      "\u001b[0;31mNameError\u001b[0m: name 'BinaryClassification' is not defined"
     ]
    }
   ],
   "source": [
    "class AudioModel_lit(BinaryClassification):\n",
    "    def __init__(self, cfg=None, **kwargs):\n",
    "        super().__init__()\n",
    "        self.model = AudioModel()\n",
    "        ckpt = torch.load(\n",
    "            \"/home/ay/data/DATA/1-model_save/0-Audio/speech_emotion_recognition/version_1/model2.ckpt\"\n",
    "        )\n",
    "        self.model.feature_model.load_state_dict(ckpt, strict=True)\n",
    "\n",
    "        self.bce_loss = nn.BCEWithLogitsLoss()\n",
    "        self.contrast_loss = BinaryTokenContrastLoss(alpha=0.4)\n",
    "        self.cross_entropy_loss = nn.CrossEntropyLoss()\n",
    "        self.save_hyperparameters()\n",
    "\n",
    "    def calcuate_loss(self, batch_res, batch, stage=\"train\"):\n",
    "        B = batch_res[\"logit\"].shape[0]\n",
    "\n",
    "        label = batch[\"label\"]\n",
    "        label_32 = label.type(torch.float32)\n",
    "        losses = {}\n",
    "        losses[\"cls_loss\"] = self.bce_loss(batch_res[\"logit\"], label_32)\n",
    "        losses[\"adv_loss\"] = self.bce_loss(batch_res[\"adv_logit\"], label_32)\n",
    "        # losses[\"emo_contrast_loss\"] = self.contrast_loss(\n",
    "        #     batch_res[\"emotion_feature\"], label_32\n",
    "        # )\n",
    "        # losses[\"emo_cls_loss\"] = self.bce_loss(batch_res[\"emotion_logit\"], label_32)\n",
    "        losses[\"emo_cls_loss\"] = self.cross_entropy_loss(\n",
    "            batch_res[\"emotion_logit\"], batch['emotion_label']\n",
    "        )\n",
    "        losses[\"vocoder_cls_loss\"] = self.cross_entropy_loss(\n",
    "            batch_res[\"vocoder_logit\"], batch[\"vocoder_label\"]\n",
    "        )\n",
    "        # losses[\"vocoder_contrast_loss\"] = self.contrast_loss(\n",
    "        #     batch_res[\"vocoder_feature\"], label_32\n",
    "        # )\n",
    "\n",
    "        losses[\"ortho_loss\"] = torch.mean(\n",
    "            torch.abs(\n",
    "                torch.matmul(\n",
    "                    batch_res[\"emotion_feature\"].view(B, 1, -1),\n",
    "                    batch_res[\"vocoder_feature\"].view(B, -1, 1),\n",
    "                ).squeeze()\n",
    "            )\n",
    "        )\n",
    "\n",
    "        self.log_dict(\n",
    "            {f\"{stage}-{key}\": losses[key] for key in losses},\n",
    "            on_step=False,\n",
    "            on_epoch=True,\n",
    "            logger=True,\n",
    "            prog_bar=False,\n",
    "        )\n",
    "\n",
    "        loss = [\n",
    "            losses[\"cls_loss\"],\n",
    "            losses['adv_loss'],\n",
    "            # losses[\"emo_contrast_loss\"],\n",
    "            losses[\"emo_cls_loss\"],\n",
    "            losses[\"vocoder_cls_loss\"],\n",
    "            # losses[\"vocoder_contrast_loss\"],\n",
    "            losses[\"ortho_loss\"],\n",
    "        ]\n",
    "        loss = torch.mean(torch.stack(loss))\n",
    "        return loss\n",
    "\n",
    "    def configure_optimizers(self):\n",
    "        optimizer = torch.optim.Adam(\n",
    "            self.model.parameters(), lr=0.00005, weight_decay=0.0001\n",
    "        )\n",
    "        return [optimizer]\n",
    "\n",
    "    def _shared_pred(self, batch, batch_idx, stage=\"train\"):\n",
    "        audio, sample_rate = batch[\"audio\"], batch[\"sample_rate\"]\n",
    "        batch_res = self.model(audio, stage=stage)\n",
    "        batch_res[\"pred\"] = (torch.sigmoid(batch_res[\"logit\"]) + 0.5).int()\n",
    "        return batch_res\n",
    "\n",
    "    def _shared_eval_step(self, batch, batch_idx, stage=\"train\"):\n",
    "        batch_res = self._shared_pred(batch, batch_idx, stage=stage)\n",
    "\n",
    "        label = batch[\"label\"]\n",
    "        loss = self.calcuate_loss(batch_res, batch, stage=stage)\n",
    "\n",
    "        self.log_dict(\n",
    "            {f\"{stage}-loss\": loss},\n",
    "            on_step=False,\n",
    "            on_epoch=True,\n",
    "            logger=True,\n",
    "            prog_bar=True,\n",
    "        )\n",
    "        batch_res[\"loss\"] = loss\n",
    "        # print(batch_res['pred'], batch_res['logit'], label)\n",
    "        return batch_res"
   ]
  }
 ],
 "metadata": {
  "jupytext": {
   "formats": "ipynb,py:light"
  },
  "kernelspec": {
   "display_name": "Python 3 (ipykernel)",
   "language": "python",
   "name": "python3"
  },
  "language_info": {
   "codemirror_mode": {
    "name": "ipython",
    "version": 3
   },
   "file_extension": ".py",
   "mimetype": "text/x-python",
   "name": "python",
   "nbconvert_exporter": "python",
   "pygments_lexer": "ipython3",
   "version": "3.9.16"
  }
 },
 "nbformat": 4,
 "nbformat_minor": 5
}
