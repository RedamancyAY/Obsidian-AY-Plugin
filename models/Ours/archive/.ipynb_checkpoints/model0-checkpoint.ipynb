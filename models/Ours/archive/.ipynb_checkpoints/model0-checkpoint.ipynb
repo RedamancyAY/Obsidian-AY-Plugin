{
 "cells": [
  {
   "cell_type": "code",
   "execution_count": 1,
   "id": "6f183a79-d07e-4e9f-9606-520ada0bedf5",
   "metadata": {
    "execution": {
     "iopub.execute_input": "2023-07-20T01:35:25.692774Z",
     "iopub.status.busy": "2023-07-20T01:35:25.691702Z",
     "iopub.status.idle": "2023-07-20T01:35:25.717796Z",
     "shell.execute_reply": "2023-07-20T01:35:25.717044Z",
     "shell.execute_reply.started": "2023-07-20T01:35:25.692724Z"
    }
   },
   "outputs": [],
   "source": [
    "%load_ext autoreload\n",
    "%autoreload 2"
   ]
  },
  {
   "cell_type": "code",
   "execution_count": 2,
   "id": "1caf9846-a1a5-49b5-b121-fb92bac2868c",
   "metadata": {
    "execution": {
     "iopub.execute_input": "2023-07-20T01:35:26.446876Z",
     "iopub.status.busy": "2023-07-20T01:35:26.446004Z",
     "iopub.status.idle": "2023-07-20T01:35:27.554835Z",
     "shell.execute_reply": "2023-07-20T01:35:27.554103Z",
     "shell.execute_reply.started": "2023-07-20T01:35:26.446831Z"
    }
   },
   "outputs": [],
   "source": [
    "import math\n",
    "from functools import partial\n",
    "\n",
    "import torch\n",
    "import torch.nn as nn\n",
    "import torch.nn.functional as F"
   ]
  },
  {
   "cell_type": "code",
   "execution_count": null,
   "id": "51d4a77b-985e-4aac-a4c7-67dad9261ac5",
   "metadata": {
    "editable": true,
    "slideshow": {
     "slide_type": ""
    },
    "tags": []
   },
   "outputs": [],
   "source": [
    "from .utils import AdaptiveConv1d, DepthwiseSeparableConv1d, Multi_Head_Attention"
   ]
  },
  {
   "cell_type": "code",
   "execution_count": 3,
   "id": "8486292c-054f-4225-854e-12604b309f8a",
   "metadata": {
    "editable": true,
    "execution": {
     "iopub.execute_input": "2023-07-20T01:35:27.557629Z",
     "iopub.status.busy": "2023-07-20T01:35:27.556623Z",
     "iopub.status.idle": "2023-07-20T01:35:27.862381Z",
     "shell.execute_reply": "2023-07-20T01:35:27.861642Z",
     "shell.execute_reply.started": "2023-07-20T01:35:27.557581Z"
    },
    "slideshow": {
     "slide_type": ""
    },
    "tags": [
     "active-ipynb",
     "style-solution"
    ]
   },
   "outputs": [],
   "source": [
    "from utils import AdaptiveConv1d, DepthwiseSeparableConv1d, Multi_Head_Attention"
   ]
  },
  {
   "cell_type": "code",
   "execution_count": 4,
   "id": "a0dd7314-a750-470a-aade-d8e2ca6b6101",
   "metadata": {
    "editable": true,
    "execution": {
     "iopub.execute_input": "2023-07-20T01:37:29.043988Z",
     "iopub.status.busy": "2023-07-20T01:37:29.043085Z",
     "iopub.status.idle": "2023-07-20T01:37:29.081439Z",
     "shell.execute_reply": "2023-07-20T01:37:29.080772Z",
     "shell.execute_reply.started": "2023-07-20T01:37:29.043938Z"
    },
    "slideshow": {
     "slide_type": ""
    },
    "tags": []
   },
   "outputs": [],
   "source": [
    "class MultiScaleFusion(nn.Module):\n",
    "    def __init__(self, n_dim, kernel_size, samples_per_frame=400):\n",
    "        super().__init__()\n",
    "\n",
    "        self.samples_per_frame = samples_per_frame\n",
    "\n",
    "        self.norm = nn.BatchNorm1d(n_dim)\n",
    "        \n",
    "        # strides = [1, kernel_size, kernel_size * 2]\n",
    "        kernel_sizes = [5, 5, 25]\n",
    "        strides = [1, 5, 25]\n",
    "        assert samples_per_frame % strides[-1] == 0, samples_per_frame\n",
    "        self.adap_conv_blocks = nn.ModuleList(\n",
    "            [\n",
    "                AdaptiveConv1d(\n",
    "                    n_dim=n_dim,\n",
    "                    kernel_size=kernel_sizes[i],\n",
    "                    stride=strides[i],\n",
    "                    reduction=strides[i],\n",
    "                    groups=n_dim,\n",
    "                    conv_transpose=\"upsample\",\n",
    "                )\n",
    "                for i in range(3)\n",
    "            ]\n",
    "        )\n",
    "        self.conv_blocks = nn.ModuleList(\n",
    "            [\n",
    "                DepthwiseSeparableConv1d(\n",
    "                    n_dim, n_dim, kernel_size=3, stride=1, padding=\"same\"\n",
    "                )\n",
    "                for i in range(6)\n",
    "            ]\n",
    "        )\n",
    "\n",
    "        self.mha = Multi_Head_Attention(max_k=80, embed_dim=n_dim, num_heads=1)\n",
    "        self.attn_upsamples = nn.ModuleList(\n",
    "            [\n",
    "                nn.Upsample(scale_factor=samples_per_frame // strides[i])\n",
    "                for i in range(3)\n",
    "            ]\n",
    "        )\n",
    "\n",
    "        self.register_parameter('alpha', nn.Parameter(torch.ones(1, n_dim, 1)) )\n",
    "\n",
    "    def forward(self, x):\n",
    "        short_cut = x\n",
    "        x = self.norm(x)\n",
    "        n_frames = x.shape[-1] // self.samples_per_frame\n",
    "        avg_pool = partial(F.adaptive_avg_pool1d, output_size=n_frames)\n",
    "        max_pool = partial(F.adaptive_max_pool1d, output_size=n_frames)\n",
    "\n",
    "        frame_feat = []\n",
    "        ms_feat = []\n",
    "        for i in range(3):\n",
    "            y = self.adap_conv_blocks[i](x)\n",
    "            # y = self.conv_blocks[i](y)\n",
    "            # print(\"scale\", i, y.shape)\n",
    "            ms_feat.append(y)\n",
    "            attn = avg_pool(y) + max_pool(y)\n",
    "            frame_feat.append(attn.transpose(1, 2))  # (B, n_frames, n_dim)\n",
    "\n",
    "        v, k, q = frame_feat\n",
    "        attn = self.mha(q, k, v)\n",
    "        attn = attn.transpose(1, 2)  # (B, n_dim, n_frames)\n",
    "        # print(\"attn shape: \", attn.shape)\n",
    "\n",
    "        rec_feat = []\n",
    "        for i in range(3):\n",
    "            _attn = self.attn_upsamples[i](attn)\n",
    "            y = ms_feat[i] * _attn\n",
    "            y = self.adap_conv_blocks[i].reverse(y)\n",
    "            # y = self.conv_blocks[i + 3](y)\n",
    "            rec_feat.append(y)\n",
    "\n",
    "        rec_feat = rec_feat[0] + rec_feat[1] + rec_feat[2]\n",
    "        x = x + self.alpha * rec_feat\n",
    "        return x"
   ]
  },
  {
   "cell_type": "code",
   "execution_count": 5,
   "id": "dface8f4-ed14-4fd0-81dd-675ce460a669",
   "metadata": {
    "execution": {
     "iopub.execute_input": "2023-07-20T01:37:29.960724Z",
     "iopub.status.busy": "2023-07-20T01:37:29.959910Z",
     "iopub.status.idle": "2023-07-20T01:37:29.997513Z",
     "shell.execute_reply": "2023-07-20T01:37:29.996764Z",
     "shell.execute_reply.started": "2023-07-20T01:37:29.960675Z"
    }
   },
   "outputs": [],
   "source": [
    "def build_stage(\n",
    "    n_dim_in, n_dim_out, n_blocks, kernel_size, samples_per_frame, downsample_factor=1\n",
    "):\n",
    "    # print(n_dim_in, n_dim_out)\n",
    "    conv1 = nn.Conv1d(n_dim_in, n_dim_out, 3, stride=1, padding=1)\n",
    "    conv_blocks = [\n",
    "        MultiScaleFusion(\n",
    "            n_dim=n_dim_out,\n",
    "            kernel_size=kernel_size,\n",
    "            samples_per_frame=samples_per_frame,\n",
    "        )\n",
    "        for i in range(n_blocks)\n",
    "    ]\n",
    "    module = nn.Sequential(conv1, *conv_blocks)\n",
    "    if downsample_factor > 1:\n",
    "        module.add_module(\n",
    "            \"down-sample\", nn.Conv1d(n_dim_out, n_dim_out, 5, stride=2, padding=2)\n",
    "        )\n",
    "    return module"
   ]
  },
  {
   "cell_type": "code",
   "execution_count": 6,
   "id": "a239108e-1238-4e9d-b1b8-9f1f6c3a4ccd",
   "metadata": {
    "editable": true,
    "execution": {
     "iopub.execute_input": "2023-07-20T01:37:30.926073Z",
     "iopub.status.busy": "2023-07-20T01:37:30.925004Z",
     "iopub.status.idle": "2023-07-20T01:37:34.478170Z",
     "shell.execute_reply": "2023-07-20T01:37:34.477454Z",
     "shell.execute_reply.started": "2023-07-20T01:37:30.926025Z"
    },
    "scrolled": true,
    "slideshow": {
     "slide_type": ""
    },
    "tags": [
     "active-ipynb",
     "style-activity"
    ]
   },
   "outputs": [
    {
     "name": "stderr",
     "output_type": "stream",
     "text": [
      "WARNING:2023-07-20 09:37:30 2875196:2875196 init.cpp:146] function cbapi->getCuptiStatus() failed with error CUPTI_ERROR_NOT_INITIALIZED (15)\n",
      "WARNING:2023-07-20 09:37:30 2875196:2875196 init.cpp:147] CUPTI initialization failed - CUDA profiler activities will be missing\n",
      "INFO:2023-07-20 09:37:30 2875196:2875196 init.cpp:149] If you see CUPTI_ERROR_INSUFFICIENT_PRIVILEGES, refer to https://developer.nvidia.com/nvidia-development-tools-solutions-err-nvgpuctrperm-cupti\n",
      "STAGE:2023-07-20 09:37:30 2875196:2875196 ActivityProfilerController.cpp:311] Completed Stage: Warm Up\n"
     ]
    },
    {
     "name": "stdout",
     "output_type": "stream",
     "text": [
      "--------------------------------  ------------  ------------  ------------  ------------  ------------  ------------  \n",
      "                            Name    Self CPU %      Self CPU   CPU total %     CPU total  CPU time avg    # of Calls  \n",
      "--------------------------------  ------------  ------------  ------------  ------------  ------------  ------------  \n",
      "        aten::mkldnn_convolution        77.04%        2.267s        77.07%        2.268s     113.407ms            20  \n",
      "        aten::upsample_nearest1d         6.23%     183.205ms         6.24%     183.570ms      10.198ms            18  \n",
      "                       aten::add         4.35%     128.147ms         4.35%     128.147ms       6.102ms            21  \n",
      "         aten::native_batch_norm         3.38%      99.615ms         3.39%      99.684ms      33.228ms             3  \n",
      "                       aten::mul         3.23%      95.018ms         3.23%      95.086ms       5.283ms            18  \n",
      "                   aten::normal_         2.38%      70.068ms         2.38%      70.068ms      70.068ms             1  \n",
      "       aten::adaptive_max_pool2d         1.69%      49.623ms         1.69%      49.623ms       5.514ms             9  \n",
      "      aten::_adaptive_avg_pool2d         1.34%      39.411ms         1.34%      39.497ms       4.389ms             9  \n",
      "                       aten::bmm         0.11%       3.124ms         0.16%       4.769ms     529.889us             9  \n",
      "                     aten::copy_         0.03%     891.000us         0.03%     891.000us       4.714us           189  \n",
      "                     aten::empty         0.02%     733.000us         0.02%     733.000us       2.357us           311  \n",
      "              aten::_convolution         0.02%     475.000us        77.09%        2.269s     113.443ms            20  \n",
      "                     aten::clone         0.01%     441.000us         0.05%       1.427ms       7.798us           183  \n",
      "               aten::convolution         0.01%     438.000us        77.11%        2.269s     113.465ms            20  \n",
      "                    aten::select         0.01%     376.000us         0.01%     376.000us       0.689us           546  \n",
      "                 aten::unsqueeze         0.01%     286.000us         0.01%     342.000us       4.500us            76  \n",
      "                  aten::_softmax         0.01%     273.000us         0.01%     273.000us      91.000us             3  \n",
      "                        aten::mm         0.01%     268.000us         0.01%     268.000us      89.333us             3  \n",
      "                   aten::squeeze         0.01%     252.000us         0.01%     317.000us       6.745us            47  \n",
      "         aten::native_layer_norm         0.01%     194.000us         0.02%     454.000us     151.333us             3  \n",
      "                aten::empty_like         0.01%     189.000us         0.01%     245.000us       1.317us           186  \n",
      "                     aten::fill_         0.01%     185.000us         0.01%     185.000us      10.278us            18  \n",
      "                aten::as_strided         0.01%     175.000us         0.01%     175.000us       0.229us           765  \n",
      "                    aten::einsum         0.01%     173.000us         0.05%       1.402ms     233.667us             6  \n",
      "              aten::index_select         0.01%     154.000us         0.01%     167.000us      55.667us             3  \n",
      "                      aten::add_         0.00%     146.000us         0.00%     146.000us      24.333us             6  \n",
      "               aten::as_strided_         0.00%     138.000us         0.00%     138.000us       6.900us            20  \n",
      "                    aten::linear         0.00%     135.000us         0.01%     338.000us     112.667us             3  \n",
      "                   aten::permute         0.00%     128.000us         0.00%     134.000us       3.190us            42  \n",
      "                    aten::conv1d         0.00%     112.000us        77.11%        2.269s     113.471ms            20  \n",
      "                   aten::reshape         0.00%     111.000us         0.01%     205.000us       4.271us            48  \n",
      "       aten::adaptive_avg_pool1d         0.00%      99.000us         1.35%      39.857ms       4.429ms             9  \n",
      "                      aten::ones         0.00%      99.000us         0.01%     279.000us      15.500us            18  \n",
      "       aten::adaptive_max_pool1d         0.00%      95.000us         1.69%      49.852ms       5.539ms             9  \n",
      "            aten::_reshape_alias         0.00%      95.000us         0.00%      95.000us       1.979us            48  \n",
      "                 aten::transpose         0.00%      86.000us         0.00%     101.000us       4.208us            24  \n",
      "                   aten::resize_         0.00%      68.000us         0.00%      68.000us       4.533us            15  \n",
      "                    aten::matmul         0.00%      66.000us         0.14%       4.154ms     692.333us             6  \n",
      "                    aten::arange         0.00%      60.000us         0.00%     106.000us       8.833us            12  \n",
      "                 aten::embedding         0.00%      47.000us         0.01%     228.000us      76.000us             3  \n",
      "                     aten::clamp         0.00%      45.000us         0.00%      45.000us      15.000us             3  \n",
      "       aten::adaptive_avg_pool2d         0.00%      43.000us         1.34%      39.540ms       4.393ms             9  \n",
      "    aten::_batch_norm_impl_index         0.00%      36.000us         3.39%      99.723ms      33.241ms             3  \n",
      "                      aten::view         0.00%      33.000us         0.00%      33.000us       1.571us            21  \n",
      "                       aten::sub         0.00%      31.000us         0.00%      31.000us      10.333us             3  \n",
      "                  aten::_to_copy         0.00%      30.000us         0.00%      57.000us       9.500us             6  \n",
      "                    aten::expand         0.00%      30.000us         0.00%      30.000us       5.000us             6  \n",
      "                     aten::slice         0.00%      21.000us         0.00%      22.000us       3.667us             6  \n",
      "              aten::_unsafe_view         0.00%      20.000us         0.00%      20.000us       3.333us             6  \n",
      "                     aten::randn         0.00%      17.000us         2.38%      70.094ms      70.094ms             1  \n",
      "                aten::layer_norm         0.00%      17.000us         0.02%     471.000us     157.000us             3  \n",
      "                   aten::softmax         0.00%      16.000us         0.01%     289.000us      96.333us             3  \n",
      "                         aten::t         0.00%      15.000us         0.00%      21.000us       7.000us             3  \n",
      "                aten::batch_norm         0.00%      11.000us         3.39%      99.734ms      33.245ms             3  \n",
      "                        aten::to         0.00%      11.000us         0.00%      68.000us       5.667us            12  \n",
      "             aten::empty_strided         0.00%      11.000us         0.00%      11.000us       1.833us             6  \n",
      "                      aten::clip         0.00%       8.000us         0.00%      53.000us      17.667us             3  \n",
      "                aten::contiguous         0.00%       7.000us         0.01%     252.000us      84.000us             3  \n",
      "              aten::resolve_conj         0.00%       0.000us         0.00%       0.000us       0.000us           204  \n",
      "                   aten::dropout         0.00%       0.000us         0.00%       0.000us       0.000us             6  \n",
      "--------------------------------  ------------  ------------  ------------  ------------  ------------  ------------  \n",
      "Self CPU time total: 2.943s\n",
      "\n"
     ]
    },
    {
     "name": "stderr",
     "output_type": "stream",
     "text": [
      "STAGE:2023-07-20 09:37:34 2875196:2875196 ActivityProfilerController.cpp:317] Completed Stage: Collection\n",
      "STAGE:2023-07-20 09:37:34 2875196:2875196 ActivityProfilerController.cpp:321] Completed Stage: Post Processing\n"
     ]
    }
   ],
   "source": [
    "modle = build_stage(\n",
    "    n_dim_in=32,\n",
    "    n_dim_out=128,\n",
    "    n_blocks=3,\n",
    "    kernel_size=25,\n",
    "    samples_per_frame=400,\n",
    "    downsample_factor=2,\n",
    ")\n",
    "with torch.autograd.profiler.profile(enabled=True) as prof:\n",
    "    x = torch.randn(16, 32, 24000)\n",
    "    _ = modle(x).shape\n",
    "print(prof.key_averages().table(sort_by=\"self_cpu_time_total\"))"
   ]
  },
  {
   "cell_type": "code",
   "execution_count": 7,
   "id": "89a46482-d8a5-4648-800c-b56b0182173e",
   "metadata": {
    "execution": {
     "iopub.execute_input": "2023-07-20T02:14:33.829650Z",
     "iopub.status.busy": "2023-07-20T02:14:33.829054Z",
     "iopub.status.idle": "2023-07-20T02:14:33.869286Z",
     "shell.execute_reply": "2023-07-20T02:14:33.868296Z",
     "shell.execute_reply.started": "2023-07-20T02:14:33.829602Z"
    }
   },
   "outputs": [],
   "source": [
    "class AudioModel(nn.Module):\n",
    "    def __init__(\n",
    "        self, dims=[32, 64, 128, 256], n_blocks=[2, 2, 6, 2], samples_per_frame=400\n",
    "    ):\n",
    "        super().__init__()\n",
    "\n",
    "        self.samples_per_frame = samples_per_frame\n",
    "        self.conv_head = nn.Sequential(\n",
    "            nn.Conv1d(1, dims[0], 2, stride=2, padding=0),\n",
    "            nn.ReLU(),\n",
    "            nn.Conv1d(dims[0], dims[0], 3, stride=1, padding=1)\n",
    "        )\n",
    "\n",
    "        self.stages = nn.ModuleList(\n",
    "            [\n",
    "                build_stage(\n",
    "                    n_dim_in=dims[max(i - 1, 0)],\n",
    "                    n_dim_out=dims[i],\n",
    "                    n_blocks=n_blocks[i],\n",
    "                    kernel_size=25,\n",
    "                    samples_per_frame=400 // (2 * (2**i)),\n",
    "                    downsample_factor=1 if i == 0 else 2,\n",
    "                )\n",
    "                for i in range(4)\n",
    "            ]\n",
    "        )\n",
    "\n",
    "        self.cls_head = nn.Linear(dims[-1], 1, bias=False)\n",
    "\n",
    "    def forward(self, x):\n",
    "        audio_length = x.shape[-1]\n",
    "        audio_frames = audio_length // self.samples_per_frame\n",
    "\n",
    "        x = self.conv_head(x)\n",
    "        # print(x.shape)\n",
    "        for i, stage in enumerate(self.stages):\n",
    "            x = stage(x)\n",
    "            # print(\"Output of the %d-th stage\"%(i+1), x.shape)\n",
    "\n",
    "        x = F.adaptive_avg_pool1d(x, 1)\n",
    "        # x = F.adaptive_avg_pool1d(x, audio_frames)\n",
    "        x = self.cls_head(x.transpose(1, 2))\n",
    "        x = torch.mean(x, dim=1)\n",
    "        return x"
   ]
  },
  {
   "cell_type": "code",
   "execution_count": 15,
   "id": "0b1dd9d2-e854-40df-a59a-eeef961f1002",
   "metadata": {
    "editable": true,
    "execution": {
     "iopub.execute_input": "2023-07-19T15:17:38.320860Z",
     "iopub.status.busy": "2023-07-19T15:17:38.320272Z",
     "iopub.status.idle": "2023-07-19T15:17:52.987859Z",
     "shell.execute_reply": "2023-07-19T15:17:52.987101Z",
     "shell.execute_reply.started": "2023-07-19T15:17:38.320810Z"
    },
    "scrolled": true,
    "slideshow": {
     "slide_type": ""
    },
    "tags": [
     "style-activity",
     "active-ipynb"
    ]
   },
   "outputs": [
    {
     "name": "stdout",
     "output_type": "stream",
     "text": [
      "torch.Size([32, 32, 24000])\n",
      "torch.Size([32, 1])\n"
     ]
    },
    {
     "name": "stderr",
     "output_type": "stream",
     "text": [
      "STAGE:2023-07-19 23:17:46 2780097:2780097 ActivityProfilerController.cpp:311] Completed Stage: Warm Up\n"
     ]
    },
    {
     "name": "stdout",
     "output_type": "stream",
     "text": [
      "torch.Size([16, 32, 24000])\n",
      "torch.Size([16, 1])\n"
     ]
    },
    {
     "name": "stderr",
     "output_type": "stream",
     "text": [
      "STAGE:2023-07-19 23:17:51 2780097:2780097 ActivityProfilerController.cpp:317] Completed Stage: Collection\n",
      "STAGE:2023-07-19 23:17:51 2780097:2780097 ActivityProfilerController.cpp:321] Completed Stage: Post Processing\n"
     ]
    },
    {
     "name": "stdout",
     "output_type": "stream",
     "text": [
      "------------------------------  ------------  ------------  ------------  ------------  ------------  ------------  \n",
      "                          Name    Self CPU %      Self CPU   CPU total %     CPU total  CPU time avg    # of Calls  \n",
      "------------------------------  ------------  ------------  ------------  ------------  ------------  ------------  \n",
      "      aten::mkldnn_convolution        78.91%        2.940s        78.98%        2.943s      36.783ms            80  \n",
      "      aten::upsample_nearest1d         6.59%     245.545ms         6.63%     246.891ms       3.429ms            72  \n",
      "                     aten::add         3.79%     141.279ms         3.79%     141.279ms       2.355ms            60  \n",
      "     aten::adaptive_max_pool2d         3.34%     124.550ms         3.34%     124.550ms       3.460ms            36  \n",
      "                     aten::mul         2.23%      83.057ms         2.24%      83.401ms       1.390ms            60  \n",
      "    aten::_adaptive_avg_pool2d         2.02%      75.330ms         2.03%      75.710ms       2.103ms            36  \n",
      "                     aten::bmm         1.38%      51.562ms         1.96%      73.015ms       2.028ms            36  \n",
      "                   aten::copy_         0.33%      12.437ms         0.33%      12.437ms       4.644us          2678  \n",
      "            aten::index_select         0.31%      11.661ms         0.32%      11.749ms     979.083us            12  \n",
      "                   aten::clone         0.13%       4.765ms         0.50%      18.500ms       6.976us          2652  \n",
      "                aten::_softmax         0.11%       4.199ms         0.11%       4.199ms     349.917us            12  \n",
      "                 aten::normal_         0.10%       3.677ms         0.10%       3.677ms       3.677ms             1  \n",
      "                  aten::select         0.09%       3.459ms         0.09%       3.500ms       0.441us          7944  \n",
      "              aten::empty_like         0.07%       2.710ms         0.08%       2.817ms       1.062us          2652  \n",
      "                   aten::empty         0.06%       2.242ms         0.06%       2.242ms       0.737us          3041  \n",
      "                      aten::mm         0.06%       2.112ms         0.06%       2.112ms     162.462us            13  \n",
      "     aten::adaptive_avg_pool2d         0.05%       2.017ms         2.05%      76.549ms       2.069ms            37  \n",
      "             aten::convolution         0.05%       1.912ms        79.11%        2.947s      36.844ms            80  \n",
      "            aten::_convolution         0.05%       1.906ms        79.06%        2.946s      36.820ms            80  \n",
      "                    aten::add_         0.05%       1.761ms         0.05%       1.761ms     146.750us            12  \n",
      "       aten::native_layer_norm         0.03%       1.135ms         0.08%       2.940ms     245.000us            12  \n",
      "               aten::unsqueeze         0.03%     986.000us         0.03%       1.188ms       4.228us           281  \n",
      "                 aten::squeeze         0.03%     952.000us         0.03%       1.248ms       6.603us           189  \n",
      "                  aten::einsum         0.02%     761.000us         0.49%      18.335ms     763.958us            24  \n",
      "              aten::as_strided         0.02%     752.000us         0.02%     752.000us       0.086us          8777  \n",
      "                   aten::fill_         0.02%     667.000us         0.02%     667.000us       9.014us            74  \n",
      "                     aten::sum         0.02%     649.000us         0.02%     656.000us     328.000us             2  \n",
      "             aten::as_strided_         0.02%     609.000us         0.02%     609.000us       7.612us            80  \n",
      "                 aten::permute         0.01%     476.000us         0.01%     491.000us       2.923us           168  \n",
      "                 aten::reshape         0.01%     451.000us         0.02%     803.000us       4.161us           193  \n",
      "                  aten::conv1d         0.01%     434.000us        79.12%        2.948s      36.849ms            80  \n",
      "               aten::transpose         0.01%     411.000us         0.01%     486.000us       4.959us            98  \n",
      "          aten::_reshape_alias         0.01%     368.000us         0.01%     368.000us       1.907us           193  \n",
      "                    aten::ones         0.01%     344.000us         0.03%       1.032ms      14.333us            72  \n",
      "     aten::adaptive_max_pool1d         0.01%     338.000us         3.36%     125.361ms       3.482ms            36  \n",
      "                 aten::resize_         0.01%     308.000us         0.01%     308.000us       8.556us            36  \n",
      "                  aten::matmul         0.01%     250.000us         1.58%      59.012ms       2.360ms            25  \n",
      "              aten::layer_norm         0.01%     210.000us         0.08%       2.972ms     247.667us            12  \n",
      "                    aten::view         0.00%     182.000us         0.00%     182.000us       2.167us            84  \n",
      "               aten::embedding         0.00%     181.000us         0.32%      12.001ms       1.000ms            12  \n",
      "                aten::_to_copy         0.00%     143.000us         0.01%     267.000us      10.269us            26  \n",
      "            aten::_unsafe_view         0.00%     112.000us         0.00%     112.000us       4.480us            25  \n",
      "                  aten::expand         0.00%     101.000us         0.00%     101.000us       4.208us            24  \n",
      "                      aten::to         0.00%      96.000us         0.01%     324.000us       8.526us            38  \n",
      "                       aten::t         0.00%      84.000us         0.00%     106.000us       8.154us            13  \n",
      "           aten::empty_strided         0.00%      60.000us         0.00%      60.000us       2.308us            26  \n",
      "                  aten::linear         0.00%      60.000us         0.07%       2.471ms     190.077us            13  \n",
      "                 aten::softmax         0.00%      51.000us         0.11%       4.250ms     354.167us            12  \n",
      "                    aten::mean         0.00%      38.000us         0.02%     747.000us     373.500us             2  \n",
      "                    aten::div_         0.00%      28.000us         0.00%      53.000us      26.500us             2  \n",
      "                   aten::randn         0.00%      10.000us         0.10%       3.735ms       3.735ms             1  \n",
      "                 aten::dropout         0.00%       5.000us         0.00%       5.000us       0.208us            24  \n",
      "            aten::resolve_conj         0.00%       1.000us         0.00%       1.000us       0.000us          2738  \n",
      "              aten::contiguous        -0.01%    -197.000us         0.05%       1.679ms     139.917us            12  \n",
      "     aten::adaptive_avg_pool1d        -0.04%   -1572.000us         2.08%      77.589ms       2.097ms            37  \n",
      "------------------------------  ------------  ------------  ------------  ------------  ------------  ------------  \n",
      "Self CPU time total: 3.726s\n",
      "\n"
     ]
    }
   ],
   "source": [
    "model = AudioModel()\n",
    "x = torch.randn(32, 1, 48000)\n",
    "model(x)\n",
    "with torch.autograd.profiler.profile(enabled=True) as prof:\n",
    "    x = torch.randn(16, 1, 48000)\n",
    "    _ = model(x).shape\n",
    "print(prof.key_averages().table(sort_by=\"self_cpu_time_total\"))"
   ]
  },
  {
   "cell_type": "code",
   "execution_count": 17,
   "id": "e84c0530-132e-4db4-b9d4-845df3669241",
   "metadata": {
    "editable": true,
    "execution": {
     "iopub.execute_input": "2023-07-19T15:18:57.964725Z",
     "iopub.status.busy": "2023-07-19T15:18:57.963382Z",
     "iopub.status.idle": "2023-07-19T15:18:58.031943Z",
     "shell.execute_reply": "2023-07-19T15:18:58.030602Z",
     "shell.execute_reply.started": "2023-07-19T15:18:57.964672Z"
    },
    "scrolled": true,
    "slideshow": {
     "slide_type": ""
    },
    "tags": [
     "style-activity",
     "active-ipynb"
    ]
   },
   "outputs": [],
   "source": [
    "model.to(\"cuda:1\")\n",
    "\n",
    "import torch\n",
    "from torch.autograd import Variable\n",
    "\n",
    "x = torch.randn(16, 1, 48000)\n",
    "y = Variable(x, requires_grad=True).to(\"cuda:1\")"
   ]
  },
  {
   "cell_type": "code",
   "execution_count": 26,
   "id": "f08a6189-bf2a-49e9-a685-5c32d9f53af0",
   "metadata": {
    "editable": true,
    "execution": {
     "iopub.execute_input": "2023-07-19T15:23:53.811882Z",
     "iopub.status.busy": "2023-07-19T15:23:53.811201Z",
     "iopub.status.idle": "2023-07-19T15:23:54.892921Z",
     "shell.execute_reply": "2023-07-19T15:23:54.892194Z",
     "shell.execute_reply.started": "2023-07-19T15:23:53.811835Z"
    },
    "scrolled": true,
    "slideshow": {
     "slide_type": ""
    },
    "tags": [
     "style-activity",
     "active-ipynb"
    ]
   },
   "outputs": [
    {
     "name": "stderr",
     "output_type": "stream",
     "text": [
      "STAGE:2023-07-19 23:23:53 2780097:2780097 ActivityProfilerController.cpp:311] Completed Stage: Warm Up\n"
     ]
    },
    {
     "name": "stdout",
     "output_type": "stream",
     "text": [
      "torch.Size([16, 32, 24000])\n",
      "torch.Size([16, 1])\n",
      "torch.Size([16, 1, 48000])\n"
     ]
    },
    {
     "name": "stderr",
     "output_type": "stream",
     "text": [
      "STAGE:2023-07-19 23:23:54 2780097:2780097 ActivityProfilerController.cpp:317] Completed Stage: Collection\n",
      "STAGE:2023-07-19 23:23:54 2780097:2780097 ActivityProfilerController.cpp:321] Completed Stage: Post Processing\n"
     ]
    },
    {
     "name": "stdout",
     "output_type": "stream",
     "text": [
      "-------------------------------------------------------  ------------  ------------  ------------  ------------  ------------  ------------  ------------  ------------  ------------  ------------  \n",
      "                                                   Name    Self CPU %      Self CPU   CPU total %     CPU total  CPU time avg     Self CUDA   Self CUDA %    CUDA total  CUDA time avg    # of Calls  \n",
      "-------------------------------------------------------  ------------  ------------  ------------  ------------  ------------  ------------  ------------  ------------  ------------  ------------  \n",
      "                             aten::convolution_backward         2.13%       8.113ms         2.92%      11.117ms     138.963us     237.628ms        61.27%     245.728ms       3.072ms            80  \n",
      "                                            aten::copy_        14.06%      53.490ms        14.06%      53.490ms     316.509us      47.666ms        12.29%      47.666ms     282.047us           169  \n",
      "                                             aten::add_         0.60%       2.264ms         0.60%       2.264ms       5.865us      15.251ms         3.93%      15.251ms      39.510us           386  \n",
      "                    aten::_adaptive_avg_pool2d_backward         0.10%     394.000us         0.43%       1.644ms      45.667us      10.403ms         2.68%      12.656ms     351.556us            36  \n",
      "                                              aten::mul         0.36%       1.363ms         0.36%       1.363ms       8.113us       8.789ms         2.27%       8.789ms      52.315us           168  \n",
      "                                aten::cudnn_convolution         2.21%       8.409ms         2.21%       8.409ms     191.114us       8.513ms         2.20%       8.513ms     193.477us            44  \n",
      "                      aten::upsample_nearest1d_backward         0.10%     397.000us         0.10%     397.000us       5.514us       7.358ms         1.90%       7.358ms     102.194us            72  \n",
      "                                              aten::sum         0.33%       1.261ms         0.33%       1.266ms      15.630us       6.144ms         1.58%       6.256ms      77.235us            81  \n",
      "                                              aten::bmm         0.51%       1.942ms         0.67%       2.533ms      23.454us       2.817ms         0.73%       3.368ms      31.185us           108  \n",
      "                                       aten::as_strided         0.03%     110.000us         0.03%     110.000us       0.061us       2.714ms         0.70%       2.714ms       1.494us          1816  \n",
      "                                            aten::fill_         0.08%     301.000us         0.08%     301.000us       3.541us       2.484ms         0.64%       2.484ms      29.224us            85  \n",
      "                                        aten::unsqueeze         0.70%       2.678ms         0.71%       2.713ms       4.560us       2.356ms         0.61%       3.290ms       5.529us           595  \n",
      "                         aten::embedding_dense_backward        66.95%     254.741ms        67.22%     255.754ms      21.313ms       2.280ms         0.59%       3.826ms     318.833us            12  \n",
      "                                          aten::reshape         0.71%       2.706ms         0.91%       3.445ms       7.016us       2.061ms         0.53%       3.403ms       6.931us           491  \n",
      "                                          aten::squeeze         0.58%       2.211ms         0.58%       2.225ms       4.734us       1.774ms         0.46%       2.437ms       5.185us           470  \n",
      "                     aten::adaptive_max_pool2d_backward         0.13%     481.000us         0.34%       1.306ms      36.278us       1.583ms         0.41%       3.422ms      95.056us            36  \n",
      "                                          aten::permute         0.47%       1.798ms         0.48%       1.810ms       5.387us       1.559ms         0.40%       2.065ms       6.146us           336  \n",
      "                                     aten::_convolution         0.59%       2.231ms         3.43%      13.039ms     162.988us       1.492ms         0.38%      13.150ms     164.375us            80  \n",
      "                                   aten::_reshape_alias         0.11%     424.000us         0.11%     424.000us       0.885us       1.156ms         0.30%       1.156ms       2.413us           479  \n",
      "                                        aten::transpose         0.46%       1.746ms         0.47%       1.782ms       5.805us       1.139ms         0.29%       1.601ms       5.215us           307  \n",
      "                               aten::upsample_nearest1d         0.30%       1.124ms         0.57%       2.171ms      30.153us       1.072ms         0.28%       2.003ms      27.819us            72  \n",
      "                                            aten::empty         0.13%     484.000us         0.13%     484.000us       0.803us       1.022ms         0.26%       1.022ms       1.695us           603  \n",
      "                                           aten::einsum         0.38%       1.429ms         0.85%       3.238ms     134.917us     942.000us         0.24%       3.267ms     136.125us            24  \n",
      "                                              aten::add         0.16%     595.000us         0.16%     595.000us       8.264us     766.000us         0.20%     766.000us      10.639us            72  \n",
      "                                            aten::clone         0.38%       1.458ms         0.90%       3.435ms      22.019us     731.000us         0.19%       4.006ms      25.679us           156  \n",
      "                                      aten::convolution         0.18%     700.000us         3.61%      13.739ms     171.738us     693.000us         0.18%      13.843ms     173.037us            80  \n",
      "                                       aten::empty_like         0.27%       1.014ms         0.33%       1.255ms       5.480us     689.000us         0.18%       1.123ms       4.904us           229  \n",
      "autograd::engine::evaluate_function: ReshapeAliasBac...         0.26%     997.000us         0.74%       2.809ms      15.519us     657.000us         0.17%       2.160ms      11.934us           181  \n",
      "                                               aten::mm         0.23%     872.000us         0.23%     872.000us      22.359us     656.000us         0.17%     656.000us      16.821us            39  \n",
      "                        torch::autograd::AccumulateGrad         0.34%       1.307ms         0.67%       2.558ms      12.181us     627.000us         0.16%       1.675ms       7.976us           210  \n",
      "autograd::engine::evaluate_function: PermuteBackward...         0.24%     924.000us         0.67%       2.540ms      15.119us     616.000us         0.16%       2.051ms      12.208us           168  \n",
      "                                aten::_conv_depthwise2d         0.15%     566.000us         0.17%     635.000us      17.639us     610.000us         0.16%     697.000us      19.361us            36  \n",
      "                                  ReshapeAliasBackward0         0.20%     767.000us         0.48%       1.812ms      10.011us     574.000us         0.15%       1.503ms       8.304us           181  \n",
      "                                       PermuteBackward0         0.19%     730.000us         0.42%       1.616ms       9.619us     566.000us         0.15%       1.435ms       8.542us           168  \n",
      "autograd::engine::evaluate_function: torch::autograd...         0.30%       1.148ms         0.97%       3.706ms      17.648us     565.000us         0.15%       2.240ms      10.667us           210  \n",
      "                                aten::native_layer_norm         0.12%     455.000us         0.22%     835.000us      69.583us     558.000us         0.14%     864.000us      72.000us            12  \n",
      "autograd::engine::evaluate_function: UnsqueezeBackwa...         0.30%       1.141ms         0.71%       2.701ms      22.322us     548.000us         0.14%       8.838ms      73.041us           121  \n",
      "                             aten::_adaptive_avg_pool2d         0.14%     516.000us         0.14%     550.000us      15.278us     542.000us         0.14%     621.000us      17.250us            36  \n",
      "                                           aten::matmul         0.14%     544.000us         0.49%       1.879ms      75.160us     416.000us         0.11%       1.960ms      78.400us            25  \n",
      "                       aten::native_layer_norm_backward         0.08%     311.000us         0.17%     638.000us      53.167us     407.000us         0.10%     842.000us      70.167us            12  \n",
      "                              aten::adaptive_max_pool1d         0.16%     622.000us         0.38%       1.434ms      39.833us     405.000us         0.10%       1.485ms      41.250us            36  \n",
      "                              aten::adaptive_max_pool2d         0.08%     289.000us         0.08%     289.000us       8.028us     368.000us         0.09%     368.000us      10.222us            36  \n",
      "                                     UnsqueezeBackward0         0.13%     481.000us         0.29%       1.118ms       9.240us     353.000us         0.09%     945.000us       7.810us           121  \n",
      "                              aten::adaptive_avg_pool1d         0.13%     496.000us         0.43%       1.640ms      44.324us     347.000us         0.09%       1.689ms      45.649us            37  \n",
      "                                           aten::conv1d         0.10%     373.000us         3.71%      14.112ms     176.400us     333.000us         0.09%      14.176ms     177.200us            80  \n",
      "                                       aten::contiguous         0.13%     482.000us         0.80%       3.026ms      25.217us     332.000us         0.09%       3.617ms      30.142us           120  \n",
      "                                           BmmBackward0         0.21%     786.000us         0.69%       2.641ms      73.361us     296.000us         0.08%       2.793ms      77.583us            36  \n",
      "                                          aten::resize_         0.05%     172.000us         0.05%     172.000us       1.042us     278.000us         0.07%     278.000us       1.685us           165  \n",
      "autograd::engine::evaluate_function: ConvolutionBack...         0.24%     905.000us         3.30%      12.562ms     157.025us     254.000us         0.07%     252.494ms       3.156ms            80  \n",
      "                                             aten::view         0.02%      86.000us         0.02%      86.000us       0.915us     252.000us         0.06%     252.000us       2.681us            94  \n",
      "autograd::engine::evaluate_function: TransposeBackwa...         0.12%     467.000us         0.35%       1.336ms      15.718us     250.000us         0.06%     836.000us       9.835us            85  \n",
      "                                   ConvolutionBackward0         0.12%     449.000us         3.04%      11.566ms     144.575us     247.000us         0.06%     245.975ms       3.075ms            80  \n",
      "autograd::engine::evaluate_function: SqueezeBackward...         0.10%     390.000us         0.28%       1.067ms      14.616us     234.000us         0.06%     809.000us      11.082us            73  \n",
      "                                       SqueezeBackward1         0.08%     312.000us         0.18%     677.000us       9.274us     234.000us         0.06%     575.000us       7.877us            73  \n",
      "                                            aten::zero_         0.10%     380.000us         0.18%     674.000us       8.024us     231.000us         0.06%       2.706ms      32.214us            84  \n",
      "                                     TransposeBackward0         0.10%     376.000us         0.23%     869.000us      10.224us     229.000us         0.06%     586.000us       6.894us            85  \n",
      "autograd::engine::evaluate_function: UpsampleNearest...         0.16%     627.000us         0.39%       1.492ms      20.722us     226.000us         0.06%       7.910ms     109.861us            72  \n",
      "                                     aten::index_select         0.07%     255.000us         0.08%     291.000us      24.250us     220.000us         0.06%     309.000us      25.750us            12  \n",
      "                                           MulBackward0         0.15%     571.000us         0.31%       1.189ms      19.817us     220.000us         0.06%       8.174ms     136.233us            60  \n",
      "                                                aten::t         0.12%     467.000us         0.21%     802.000us      12.338us     218.000us         0.06%     485.000us       7.462us            65  \n",
      "      autograd::engine::evaluate_function: AddBackward0         0.11%     436.000us         0.12%     438.000us       6.083us     215.000us         0.06%     310.000us       4.306us            72  \n",
      "                                        aten::embedding         0.06%     223.000us         0.16%     600.000us      50.000us     181.000us         0.05%     621.000us      51.750us            12  \n",
      "                             UpsampleNearest1DBackward0         0.10%     372.000us         0.20%     769.000us      10.681us     181.000us         0.05%       7.539ms     104.708us            72  \n",
      "     autograd::engine::evaluate_function: ViewBackward0         0.07%     264.000us         0.20%     750.000us      15.625us     171.000us         0.04%     590.000us      12.292us            48  \n",
      "      autograd::engine::evaluate_function: MulBackward0         0.13%     503.000us         0.44%       1.692ms      28.200us     162.000us         0.04%       8.336ms     138.933us            60  \n",
      "                                       aten::zeros_like         0.08%     294.000us         0.20%     759.000us      21.083us     162.000us         0.04%       1.704ms      47.333us            36  \n",
      "                                           aten::expand         0.05%     193.000us         0.05%     201.000us       7.444us     159.000us         0.04%     195.000us       7.222us            27  \n",
      "                                          ViewBackward0         0.05%     200.000us         0.13%     486.000us      10.125us     149.000us         0.04%     419.000us       8.729us            48  \n",
      "                              aten::adaptive_avg_pool2d         0.04%     159.000us         0.19%     727.000us      19.649us     143.000us         0.04%     784.000us      21.189us            37  \n",
      "                                         aten::_softmax         0.03%     111.000us         0.03%     111.000us       9.250us     141.000us         0.04%     141.000us      11.750us            12  \n",
      "                                     aten::_unsafe_view         0.02%      80.000us         0.02%      80.000us       2.162us     134.000us         0.03%     134.000us       3.622us            37  \n",
      "                             AdaptiveAvgPool2DBackward0         0.05%     201.000us         0.48%       1.845ms      51.250us     117.000us         0.03%      12.773ms     354.806us            36  \n",
      "                             AdaptiveMaxPool2DBackward0         0.05%     189.000us         0.39%       1.495ms      41.528us     109.000us         0.03%       3.531ms      98.083us            36  \n",
      "autograd::engine::evaluate_function: AdaptiveMaxPool...         0.06%     228.000us         0.45%       1.723ms      47.861us     103.000us         0.03%       3.634ms     100.944us            36  \n",
      "                                         aten::_to_copy         0.04%     158.000us        13.82%      52.591ms       4.045ms     100.000us         0.03%      45.348ms       3.488ms            13  \n",
      "                                            MmBackward0         0.11%     420.000us         0.40%       1.519ms     116.846us     100.000us         0.03%     682.000us      52.462us            13  \n",
      "      autograd::engine::evaluate_function: BmmBackward0         0.11%     427.000us         0.81%       3.068ms      85.222us     100.000us         0.03%       2.893ms      80.361us            36  \n",
      "                                           AddBackward0         0.00%       2.000us         0.00%       2.000us       0.028us      95.000us         0.02%      95.000us       1.319us            72  \n",
      "                                           aten::arange         0.06%     217.000us         0.09%     347.000us      14.458us      94.000us         0.02%     191.000us       7.958us            24  \n",
      "autograd::engine::evaluate_function: AdaptiveAvgPool...         0.08%     296.000us         0.56%       2.141ms      59.472us      93.000us         0.02%      12.866ms     357.389us            36  \n",
      "                                           aten::linear         0.04%     153.000us         0.24%     922.000us      70.923us      84.000us         0.02%     938.000us      72.154us            13  \n",
      "                           aten::_softmax_backward_data         0.04%     171.000us         0.07%     269.000us      22.417us      76.000us         0.02%     135.000us      11.250us            12  \n",
      "                               NativeLayerNormBackward0         0.02%      80.000us         0.19%     718.000us      59.833us      69.000us         0.02%     911.000us      75.917us            12  \n",
      "autograd::engine::evaluate_function: ExpandBackward0...         0.03%     129.000us         0.03%     130.000us       5.417us      62.000us         0.02%      93.000us       3.875us            24  \n",
      "autograd::engine::evaluate_function: UnsafeViewBackw...         0.04%     163.000us         0.22%     847.000us      33.880us      61.000us         0.02%     400.000us      16.000us            25  \n",
      "                                    UnsafeViewBackward0         0.03%     124.000us         0.18%     684.000us      27.360us      61.000us         0.02%     339.000us      13.560us            25  \n",
      "                                               aten::to         0.02%      59.000us        13.84%      52.650ms       4.050ms      58.000us         0.01%      45.406ms       3.493ms            13  \n",
      "                                    aten::empty_strided         0.01%      34.000us         0.01%      34.000us       2.429us      58.000us         0.01%      58.000us       4.143us            14  \n",
      "                                          aten::softmax         0.02%      60.000us         0.04%     171.000us      14.250us      46.000us         0.01%     187.000us      15.583us            12  \n",
      "autograd::engine::evaluate_function: EmbeddingBackwa...         0.03%     121.000us        67.29%     256.001ms      21.333ms      46.000us         0.01%       3.934ms     327.833us            12  \n",
      "                                            aten::zeros         0.03%     111.000us         0.06%     241.000us      20.083us      42.000us         0.01%     118.000us       9.833us            12  \n",
      "                                       aten::layer_norm         0.01%      54.000us         0.23%     889.000us      74.083us      40.000us         0.01%     904.000us      75.333us            12  \n",
      "                                             aten::mean         0.01%      36.000us         0.01%      36.000us      18.000us      39.000us         0.01%      40.000us      20.000us             2  \n",
      "autograd::engine::evaluate_function: NativeLayerNorm...         0.04%     140.000us         0.23%     858.000us      71.500us      39.000us         0.01%     950.000us      79.167us            12  \n",
      "                                              aten::div         0.03%     125.000us         0.03%     125.000us      62.500us      38.000us         0.01%      38.000us      19.000us             2  \n",
      "                                          aten::dropout         0.00%       0.000us         0.00%       0.000us       0.000us      37.000us         0.01%      37.000us       1.542us            24  \n",
      "       autograd::engine::evaluate_function: MmBackward0         0.04%     138.000us         0.44%       1.657ms     127.462us      34.000us         0.01%     716.000us      55.077us            13  \n",
      "        autograd::engine::evaluate_function: TBackward0         0.02%      89.000us         0.08%     301.000us      23.154us      32.000us         0.01%     146.000us      11.231us            13  \n",
      "                                             TBackward0         0.02%      67.000us         0.06%     212.000us      16.308us      32.000us         0.01%     114.000us       8.769us            13  \n",
      "autograd::engine::evaluate_function: SoftmaxBackward...         0.02%      92.000us         0.12%     459.000us      38.250us      32.000us         0.01%     195.000us      16.250us            12  \n",
      "-------------------------------------------------------  ------------  ------------  ------------  ------------  ------------  ------------  ------------  ------------  ------------  ------------  \n",
      "Self CPU time total: 380.470ms\n",
      "Self CUDA time total: 387.815ms\n",
      "\n"
     ]
    }
   ],
   "source": [
    "with torch.autograd.profiler.profile(use_cuda=True) as prof:\n",
    "    z = model(y)\n",
    "    print(y.shape)\n",
    "    z = torch.sum(z)\n",
    "    z.backward()\n",
    "# NOTE: some columns were removed for brevityM\n",
    "print(prof.key_averages().table(sort_by=\"self_cuda_time_total\"))"
   ]
  }
 ],
 "metadata": {
  "jupytext": {
   "formats": "ipynb,py:light"
  },
  "kernelspec": {
   "display_name": "Python 3 (ipykernel)",
   "language": "python",
   "name": "python3"
  },
  "language_info": {
   "codemirror_mode": {
    "name": "ipython",
    "version": 3
   },
   "file_extension": ".py",
   "mimetype": "text/x-python",
   "name": "python",
   "nbconvert_exporter": "python",
   "pygments_lexer": "ipython3",
   "version": "3.9.16"
  }
 },
 "nbformat": 4,
 "nbformat_minor": 5
}
