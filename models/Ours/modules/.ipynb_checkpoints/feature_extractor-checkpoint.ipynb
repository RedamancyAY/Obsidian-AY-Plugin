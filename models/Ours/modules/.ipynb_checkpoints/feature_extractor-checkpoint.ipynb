{
 "cells": [
  {
   "cell_type": "code",
   "execution_count": 1,
   "id": "fffeb70d-1801-4fe8-a6f9-3f63dd1b2135",
   "metadata": {
    "execution": {
     "iopub.execute_input": "2024-01-05T07:40:11.020579Z",
     "iopub.status.busy": "2024-01-05T07:40:11.020257Z",
     "iopub.status.idle": "2024-01-05T07:40:11.040458Z",
     "shell.execute_reply": "2024-01-05T07:40:11.039398Z",
     "shell.execute_reply.started": "2024-01-05T07:40:11.020551Z"
    }
   },
   "outputs": [],
   "source": [
    "%load_ext autoreload\n",
    "%autoreload 2"
   ]
  },
  {
   "cell_type": "markdown",
   "id": "952afce9-3ad1-417a-a875-6df922c3a45b",
   "metadata": {},
   "source": [
    "## Import"
   ]
  },
  {
   "cell_type": "code",
   "execution_count": 6,
   "id": "79663f92-2e5d-4a34-973c-0dabba47a0a0",
   "metadata": {
    "execution": {
     "iopub.execute_input": "2024-01-05T07:40:50.635878Z",
     "iopub.status.busy": "2024-01-05T07:40:50.635537Z",
     "iopub.status.idle": "2024-01-05T07:40:51.172708Z",
     "shell.execute_reply": "2024-01-05T07:40:51.171501Z",
     "shell.execute_reply.started": "2024-01-05T07:40:50.635841Z"
    }
   },
   "outputs": [],
   "source": [
    "import math\n",
    "from functools import partial\n",
    "\n",
    "import torch\n",
    "import torch.nn as nn\n",
    "import torch.nn.functional as F\n",
    "import torchaudio\n",
    "from ay2.torch.nn import LambdaFunctionModule\n",
    "from ay2.torchaudio.transforms import SpecAugmentBatchTransform"
   ]
  },
  {
   "cell_type": "code",
   "execution_count": 10,
   "id": "300637af-6629-4016-aa0e-197451ab3a5a",
   "metadata": {
    "editable": true,
    "execution": {
     "iopub.execute_input": "2024-01-05T07:41:57.486512Z",
     "iopub.status.busy": "2024-01-05T07:41:57.485205Z",
     "iopub.status.idle": "2024-01-05T07:41:58.412936Z",
     "shell.execute_reply": "2024-01-05T07:41:58.412001Z",
     "shell.execute_reply.started": "2024-01-05T07:41:57.486430Z"
    },
    "slideshow": {
     "slide_type": ""
    }
   },
   "outputs": [],
   "source": [
    "try:\n",
    "    from .gru_head import GRU_Head\n",
    "    from .model_RawNet2 import LayerNorm, SincConv_fast\n",
    "    from .msfm import MultiScaleFusion, MultiScaleFusion2D\n",
    "    from .utils import AdaptiveConv1d, DepthwiseSeparableConv1d, Multi_Head_Attention\n",
    "except ImportError:\n",
    "    from gru_head import GRU_Head\n",
    "    from model_RawNet2 import LayerNorm, SincConv_fast\n",
    "    from msfm import MultiScaleFusion, MultiScaleFusion2D\n",
    "    from utils import AdaptiveConv1d, DepthwiseSeparableConv1d, Multi_Head_Attention"
   ]
  },
  {
   "cell_type": "markdown",
   "id": "a8f8288c-a688-48c9-ba67-280dc043a627",
   "metadata": {},
   "source": [
    "## Build stage"
   ]
  },
  {
   "cell_type": "code",
   "execution_count": 11,
   "id": "70ff3b87-08f6-40d8-af90-a880c3339a3c",
   "metadata": {
    "execution": {
     "iopub.execute_input": "2024-01-05T07:42:01.503588Z",
     "iopub.status.busy": "2024-01-05T07:42:01.503307Z",
     "iopub.status.idle": "2024-01-05T07:42:01.532271Z",
     "shell.execute_reply": "2024-01-05T07:42:01.531325Z",
     "shell.execute_reply.started": "2024-01-05T07:42:01.503565Z"
    }
   },
   "outputs": [],
   "source": [
    "def build_stage(\n",
    "    n_dim_in,\n",
    "    n_dim_out,\n",
    "    n_blocks,\n",
    "    samples_per_frame,\n",
    "    n_head=1,\n",
    "    downsample_factor=1,\n",
    "    use2D=False,\n",
    "):\n",
    "    module = MultiScaleFusion if not use2D else MultiScaleFusion2D\n",
    "    # print(n_dim_in, n_dim_out)\n",
    "    conv1 = nn.Conv1d(n_dim_in, n_dim_out, 3, stride=1, padding=1)\n",
    "    conv_blocks = [\n",
    "        module(\n",
    "            n_dim=n_dim_out,\n",
    "            n_head=n_head,\n",
    "            samples_per_frame=samples_per_frame,\n",
    "        )\n",
    "        for i in range(n_blocks)\n",
    "    ]\n",
    "    module = nn.Sequential(conv1, *conv_blocks)\n",
    "    if downsample_factor > 1:\n",
    "        module.add_module(\n",
    "            \"down-sample\", nn.Conv1d(n_dim_out, n_dim_out, 5, stride=2, padding=2)\n",
    "        )\n",
    "    return module"
   ]
  },
  {
   "cell_type": "code",
   "execution_count": 13,
   "id": "c10101a9-2167-476b-9acd-035672858aac",
   "metadata": {
    "execution": {
     "iopub.execute_input": "2024-01-05T07:42:20.973726Z",
     "iopub.status.busy": "2024-01-05T07:42:20.972470Z",
     "iopub.status.idle": "2024-01-05T07:42:21.033419Z",
     "shell.execute_reply": "2024-01-05T07:42:21.032131Z",
     "shell.execute_reply.started": "2024-01-05T07:42:20.973647Z"
    }
   },
   "outputs": [],
   "source": [
    "def build_stage2D(\n",
    "    n_dim_in, n_dim_out, n_blocks, samples_per_frame, n_head=1, downsample_factor=1\n",
    "):\n",
    "    # print(n_dim_in, n_dim_out)\n",
    "    conv1 = nn.Conv2d(n_dim_in, n_dim_out, 3, stride=1, padding=1, bias=False)\n",
    "    conv_blocks = [\n",
    "        MultiScaleFusion2D(\n",
    "            n_dim=n_dim_out,\n",
    "            n_head=n_head,\n",
    "            samples_per_frame=samples_per_frame,\n",
    "        )\n",
    "        for i in range(n_blocks)\n",
    "    ]\n",
    "    module = nn.Sequential(conv1, *conv_blocks)\n",
    "    if downsample_factor > 1:\n",
    "        module.add_module(\n",
    "            \"down-sample\",\n",
    "            # nn.Conv2d(n_dim_out, n_dim_out, 3, stride=2, padding=2)\n",
    "            nn.Sequential(\n",
    "                nn.Conv2d(n_dim_out, n_dim_out, 1, stride=2, bias=False),\n",
    "                nn.BatchNorm2d(n_dim_out),\n",
    "            ),\n",
    "        )\n",
    "    return module"
   ]
  },
  {
   "cell_type": "markdown",
   "id": "5155197a-a36f-46a6-b56c-5088a2901043",
   "metadata": {},
   "source": [
    "## FeatureExtractor"
   ]
  },
  {
   "cell_type": "code",
   "execution_count": 14,
   "id": "ae698e0b-7790-4fe5-b6b4-62a7bd31b1f1",
   "metadata": {
    "execution": {
     "iopub.execute_input": "2024-01-05T07:42:22.674347Z",
     "iopub.status.busy": "2024-01-05T07:42:22.673769Z",
     "iopub.status.idle": "2024-01-05T07:42:22.744197Z",
     "shell.execute_reply": "2024-01-05T07:42:22.743000Z",
     "shell.execute_reply.started": "2024-01-05T07:42:22.674293Z"
    }
   },
   "outputs": [],
   "source": [
    "class FeatureExtractor(nn.Module):\n",
    "    def __init__(\n",
    "        self,\n",
    "        dims=[32, 32, 64, 64, 128],\n",
    "        n_blocks=[2, 2, 2, 4, 2],\n",
    "        n_heads=[1, 1, 2, 2, 4],\n",
    "        samples_per_frame=400,\n",
    "        use_gru_head=False,\n",
    "        gru_node=512,\n",
    "        gru_layers=3,\n",
    "    ):\n",
    "        super().__init__()\n",
    "\n",
    "        self.spectrogram = torchaudio.transforms.Spectrogram(n_fft=512, hop_length=353)\n",
    "\n",
    "        self.samples_per_frame = samples_per_frame\n",
    "        self.conv_head = nn.Sequential(\n",
    "            nn.Conv1d(1, dims[0], 4, stride=4, padding=0),\n",
    "            nn.ReLU(),\n",
    "            nn.Conv1d(dims[0], dims[0], 3, stride=1, padding=1),\n",
    "        )\n",
    "        # self.conv_head = nn.Sequential(\n",
    "        #     SincConv_fast(out_channels=dims[0], kernel_size=1024, padding=512),\n",
    "        #     LambdaFunctionModule(lambda x: torch.abs(x)),\n",
    "        #     nn.MaxPool1d(4),\n",
    "        #     nn.BatchNorm1d(32),\n",
    "        #     nn.LeakyReLU(negative_slope=0.3),\n",
    "        #     nn.Conv1d(dims[0], dims[0], 3, stride=1, padding=1),\n",
    "        # )\n",
    "        self.stages = nn.ModuleList(\n",
    "            [\n",
    "                build_stage(\n",
    "                    n_dim_in=dims[max(i - 1, 0)],\n",
    "                    n_dim_out=dims[i],\n",
    "                    n_blocks=n_blocks[i],\n",
    "                    n_head=n_heads[i],\n",
    "                    samples_per_frame=samples_per_frame // (4 * (2**i)),\n",
    "                    downsample_factor=2 if i < len(dims) - 1 else 1,\n",
    "                )\n",
    "                for i in range(len(dims))\n",
    "            ]\n",
    "        )\n",
    "\n",
    "        self.use_gru_head = use_gru_head\n",
    "        if use_gru_head:\n",
    "            self.gru_head = GRU_Head(\n",
    "                n_dim=dims[-1], gru_node=gru_node, gru_layers=gru_layers\n",
    "            )\n",
    "\n",
    "    def get_feature(self, x):\n",
    "        audio_length = x.shape[-1]\n",
    "        audio_frames = audio_length // self.samples_per_frame\n",
    "\n",
    "        x = self.conv_head(x)\n",
    "        for i, stage in enumerate(self.stages):\n",
    "            # print(\"Input of the %d-th stage\"%(i+1), x.shape)\n",
    "            x = stage(x)  # (B, C, frames)\n",
    "            # print(\"Output of the %d-th stage\"%(i+1), x.shape)\n",
    "        return x\n",
    "\n",
    "    def forward(self, x):\n",
    "        x = (x - torch.mean(x, dim=(1, 2), keepdim=True)) / (\n",
    "            torch.std(x, dim=(1, 2), keepdim=True) + 1e-9\n",
    "        )\n",
    "        x = self.get_feature(x)  # (B, C, T)\n",
    "        if self.use_gru_head:\n",
    "            x = self.gru_head(x)\n",
    "        return x"
   ]
  },
  {
   "cell_type": "markdown",
   "id": "d2a47261-bf41-41f5-8b01-dd35dc2f7057",
   "metadata": {},
   "source": [
    "### 2D"
   ]
  },
  {
   "cell_type": "code",
   "execution_count": 43,
   "id": "138506d3-c4a5-41fd-aedf-35589c8fff27",
   "metadata": {
    "editable": true,
    "execution": {
     "iopub.execute_input": "2024-01-05T12:41:07.484154Z",
     "iopub.status.busy": "2024-01-05T12:41:07.483776Z",
     "iopub.status.idle": "2024-01-05T12:41:07.548415Z",
     "shell.execute_reply": "2024-01-05T12:41:07.547407Z",
     "shell.execute_reply.started": "2024-01-05T12:41:07.484127Z"
    },
    "slideshow": {
     "slide_type": ""
    }
   },
   "outputs": [],
   "source": [
    "class FeatureExtractor2D(nn.Module):\n",
    "    def __init__(\n",
    "        self,\n",
    "        dims=[32, 64, 64, 128],\n",
    "        n_blocks=[1, 1, 2, 1],\n",
    "        n_heads=[1, 2, 2, 4],\n",
    "        samples_per_frame=400,\n",
    "        use_gru_head=False,\n",
    "        gru_node=512,\n",
    "        gru_layers=3,\n",
    "    ):\n",
    "        super().__init__()\n",
    "\n",
    "        self.spectrogram = torchaudio.transforms.Spectrogram(n_fft=512, hop_length=187)\n",
    "        self.dims = dims\n",
    "        self.samples_per_frame = samples_per_frame\n",
    "        self.conv_head = nn.Sequential(\n",
    "            nn.Conv2d(1, dims[0], 3, stride=2, padding=1, bias=False),\n",
    "            nn.BatchNorm2d(dims[0]),\n",
    "            nn.ReLU(),\n",
    "            nn.Conv2d(dims[0], dims[0], 3, stride=2, padding=1, bias=False),\n",
    "        )\n",
    "\n",
    "        # print(dims)\n",
    "        self.stages = nn.ModuleList(\n",
    "            [\n",
    "                build_stage2D(\n",
    "                    n_dim_in=dims[max(i - 1, 0)],\n",
    "                    n_dim_out=dims[i],\n",
    "                    n_blocks=n_blocks[i],\n",
    "                    n_head=n_heads[i],\n",
    "                    samples_per_frame=samples_per_frame // (4 * (2**i)),\n",
    "                    downsample_factor=2 if i < len(dims) - 1 else 1,\n",
    "                    # downsample_factor=2,\n",
    "                )\n",
    "                for i in range(len(dims))\n",
    "            ]\n",
    "        )\n",
    "\n",
    "        # self.conv_tail = nn.Sequential(\n",
    "        #     nn.Conv2d(dims[-1], dims[-1], 3, stride=1, padding=1),\n",
    "        #     # nn.BatchNorm2d(dims[-1]),\n",
    "        # )\n",
    "        self.avgpool = nn.AdaptiveAvgPool2d((1, 1))\n",
    "\n",
    "        # self.transform = SpecAugmentBatchTransform.from_policy(\"ld\")\n",
    "\n",
    "        self.debug = False\n",
    "    \n",
    "\n",
    "    def preprocess(self, x, stage='test'):\n",
    "        x = self.spectrogram(x)\n",
    "        x = torch.log(x + 1e-7)\n",
    "     \n",
    "        \n",
    "        if self.debug:\n",
    "            print('log-scale feature : ', x.shape)\n",
    "\n",
    "        \n",
    "        # if stage=='train':\n",
    "        #     x = self.transform(x)\n",
    "\n",
    "        x = (x - torch.mean(x, dim=(1, 2, 3), keepdim=True)) / (\n",
    "            torch.std(x, dim=(1, 2, 3), keepdim=True) + 1e-9\n",
    "        )\n",
    "        return x\n",
    "\n",
    "    def pool_reshape(self, x):\n",
    "        # print(x.shape)\n",
    "        x = self.avgpool(x)\n",
    "        x = x.reshape(x.size(0), -1)\n",
    "        return x\n",
    "\n",
    "    def get_feature(self, x):\n",
    "        x = self.conv_head(x)\n",
    "        for i, stage in enumerate(self.stages):\n",
    "            if self.debug:\n",
    "                print(\"Input of the %d-th stage\"%(i+1), x.shape)\n",
    "            x = stage(x)  # (B, C, frames)\n",
    "            if self.debug:\n",
    "                print(\"Output of the %d-th stage\" % (i + 1), x.shape)\n",
    "        return x\n",
    "\n",
    "    def get_hidden_state(self, x, stage_id, stage='train'):\n",
    "        x = self.preprocess(x,stage=stage)\n",
    "        x = self.conv_head(x)\n",
    "        for i, stage in enumerate(self.stages):\n",
    "            x = stage(x)\n",
    "            # print(i, x.shape)\n",
    "            if i == stage_id:\n",
    "                break\n",
    "            \n",
    "        return x\n",
    "\n",
    "    def get_final_feature(self, x, stage_id):\n",
    "        for i, stage in enumerate(self.stages):\n",
    "            if i <= stage_id:\n",
    "                continue\n",
    "            x = stage(x)\n",
    "            # print(i, x.shape)\n",
    "\n",
    "        x = self.pool_reshape(x)\n",
    "        return x\n",
    "\n",
    "    def forward(self, x):\n",
    "\n",
    "        x = self.preprocess(x)\n",
    "        x = self.get_feature(x)\n",
    "        # x = self.conv_tail(x)\n",
    "        x = self.avgpool(x)\n",
    "        x = x.reshape(x.size(0), -1)\n",
    "        return x"
   ]
  },
  {
   "cell_type": "code",
   "execution_count": 42,
   "id": "ed33a8f0-b911-4755-ba00-bc22b4126fc3",
   "metadata": {
    "execution": {
     "iopub.execute_input": "2024-01-05T12:41:06.700056Z",
     "iopub.status.busy": "2024-01-05T12:41:06.699388Z",
     "iopub.status.idle": "2024-01-05T12:41:06.803695Z",
     "shell.execute_reply": "2024-01-05T12:41:06.802716Z",
     "shell.execute_reply.started": "2024-01-05T12:41:06.700001Z"
    }
   },
   "outputs": [],
   "source": [
    "model = FeatureExtractor2D()"
   ]
  },
  {
   "cell_type": "code",
   "execution_count": 45,
   "id": "003f3ae0-dd4a-4ca2-9550-ecfda7c9eae7",
   "metadata": {
    "execution": {
     "iopub.execute_input": "2024-01-05T12:41:18.399590Z",
     "iopub.status.busy": "2024-01-05T12:41:18.398481Z",
     "iopub.status.idle": "2024-01-05T12:41:18.523950Z",
     "shell.execute_reply": "2024-01-05T12:41:18.523272Z",
     "shell.execute_reply.started": "2024-01-05T12:41:18.399519Z"
    },
    "scrolled": true
   },
   "outputs": [
    {
     "name": "stdout",
     "output_type": "stream",
     "text": [
      "log-scale feature :  torch.Size([2, 1, 257, 257])\n",
      "Input of the 1-th stage torch.Size([2, 32, 65, 65])\n",
      "Output of the 1-th stage torch.Size([2, 32, 33, 33])\n",
      "Input of the 2-th stage torch.Size([2, 32, 33, 33])\n",
      "Output of the 2-th stage torch.Size([2, 64, 17, 17])\n",
      "Input of the 3-th stage torch.Size([2, 64, 17, 17])\n",
      "Output of the 3-th stage torch.Size([2, 64, 9, 9])\n",
      "Input of the 4-th stage torch.Size([2, 64, 9, 9])\n",
      "Output of the 4-th stage torch.Size([2, 128, 9, 9])\n"
     ]
    },
    {
     "data": {
      "text/plain": [
       "torch.Size([2, 128])"
      ]
     },
     "execution_count": 45,
     "metadata": {},
     "output_type": "execute_result"
    }
   ],
   "source": [
    "x = torch.randn(2, 1, 48000)\n",
    "model.debug = 1\n",
    "model(x).shape"
   ]
  }
 ],
 "metadata": {
  "jupytext": {
   "formats": "ipynb,py:light"
  },
  "kernelspec": {
   "display_name": "Python 3 (ipykernel)",
   "language": "python",
   "name": "python3"
  },
  "language_info": {
   "codemirror_mode": {
    "name": "ipython",
    "version": 3
   },
   "file_extension": ".py",
   "mimetype": "text/x-python",
   "name": "python",
   "nbconvert_exporter": "python",
   "pygments_lexer": "ipython3",
   "version": "3.9.18"
  }
 },
 "nbformat": 4,
 "nbformat_minor": 5
}
