{
 "cells": [
  {
   "cell_type": "code",
   "execution_count": 1,
   "id": "65fba2f3-cb3d-455d-bf82-4a9b856f8452",
   "metadata": {
    "execution": {
     "iopub.execute_input": "2024-01-15T03:31:15.516749Z",
     "iopub.status.busy": "2024-01-15T03:31:15.515704Z",
     "iopub.status.idle": "2024-01-15T03:31:15.558849Z",
     "shell.execute_reply": "2024-01-15T03:31:15.557748Z",
     "shell.execute_reply.started": "2024-01-15T03:31:15.516685Z"
    }
   },
   "outputs": [],
   "source": [
    "%load_ext autoreload\n",
    "%autoreload 2"
   ]
  },
  {
   "cell_type": "markdown",
   "id": "cd394889-8930-4d9b-936b-da2f90ae2b29",
   "metadata": {},
   "source": [
    "## Import"
   ]
  },
  {
   "cell_type": "code",
   "execution_count": 2,
   "id": "a7525fb3-889a-4da1-9790-8a5077a24d00",
   "metadata": {
    "execution": {
     "iopub.execute_input": "2024-01-15T03:31:16.805658Z",
     "iopub.status.busy": "2024-01-15T03:31:16.805341Z",
     "iopub.status.idle": "2024-01-15T03:31:18.781967Z",
     "shell.execute_reply": "2024-01-15T03:31:18.781041Z",
     "shell.execute_reply.started": "2024-01-15T03:31:16.805638Z"
    }
   },
   "outputs": [],
   "source": [
    "import math\n",
    "from functools import partial\n",
    "\n",
    "import torch\n",
    "import torch.nn as nn\n",
    "import torch.nn.functional as F\n",
    "from ay2.torch.nn import LambdaFunctionModule"
   ]
  },
  {
   "cell_type": "code",
   "execution_count": 3,
   "id": "626a826f-0ac5-447b-b51c-0966b5159c7f",
   "metadata": {
    "editable": true,
    "execution": {
     "iopub.execute_input": "2024-01-15T03:31:18.783445Z",
     "iopub.status.busy": "2024-01-15T03:31:18.783182Z",
     "iopub.status.idle": "2024-01-15T03:31:19.589654Z",
     "shell.execute_reply": "2024-01-15T03:31:19.588916Z",
     "shell.execute_reply.started": "2024-01-15T03:31:18.783427Z"
    },
    "slideshow": {
     "slide_type": ""
    }
   },
   "outputs": [],
   "source": [
    "try:\n",
    "    from .conv_attention import MLP, Attention\n",
    "    from .utils import AdaptiveConv1d, DepthwiseSeparableConv1d, Multi_Head_Attention\n",
    "except ImportError:\n",
    "    from conv_attention import MLP, Attention\n",
    "    from utils import AdaptiveConv1d, DepthwiseSeparableConv1d, Multi_Head_Attention"
   ]
  },
  {
   "cell_type": "code",
   "execution_count": 11,
   "id": "07698912-8d04-49b8-9bcf-a7837497742c",
   "metadata": {
    "editable": true,
    "execution": {
     "iopub.execute_input": "2024-01-15T05:33:58.433930Z",
     "iopub.status.busy": "2024-01-15T05:33:58.433510Z",
     "iopub.status.idle": "2024-01-15T05:33:58.472226Z",
     "shell.execute_reply": "2024-01-15T05:33:58.471204Z",
     "shell.execute_reply.started": "2024-01-15T05:33:58.433907Z"
    },
    "slideshow": {
     "slide_type": ""
    }
   },
   "outputs": [],
   "source": [
    "class MultiScaleFusion2D(nn.Module):\n",
    "    def __init__(self, n_dim, n_head=1, scales=[1, 5, 10], samples_per_frame=400):\n",
    "        super().__init__()\n",
    "\n",
    "        self.n_dim = n_dim\n",
    "        self.norm = nn.BatchNorm2d(n_dim)\n",
    "\n",
    "        scales = [1, 2, 3]\n",
    "\n",
    "        self.down_samples = nn.ModuleList(\n",
    "            [\n",
    "                nn.Sequential(\n",
    "                    nn.AvgPool2d(scales[i] * 3, stride=scales[i], padding=scales[i])\n",
    "                    # nn.Conv2d(n_dim, n_dim, 3, stride=scales[i], padding=1, bias=True)\n",
    "                    if i > 0\n",
    "                    else nn.Identity(),\n",
    "                    # nn.BatchNorm2d(n_dim),\n",
    "                    # nn.ReLU(),\n",
    "                    nn.Conv2d(\n",
    "                        n_dim, n_dim, 3, stride=1, padding=1, groups=1, bias=True\n",
    "                    ),\n",
    "                    nn.BatchNorm2d(n_dim)\n",
    "                )\n",
    "                for i in range(3)\n",
    "            ]\n",
    "        )\n",
    "\n",
    "        # self.conv_attention = Attention(dim=n_dim)\n",
    "        self.conv_attention = nn.Sequential(\n",
    "            Attention(dim=n_dim), MLP(dim=n_dim, mlp_ratio=2.0)\n",
    "        )\n",
    "\n",
    "        self.up_samples = nn.ModuleList(\n",
    "            [\n",
    "                nn.Sequential(\n",
    "                    nn.Upsample(\n",
    "                        scale_factor=scales[i], mode=\"bilinear\", align_corners=True\n",
    "                    )\n",
    "                    # nn.ConvTranspose2d(in_channels=n_dim, out_channels=n_dim, kernel_size=3, stride=scales[i], padding=1)\n",
    "                    if i > 0\n",
    "                    else nn.Identity(),\n",
    "                    # nn.BatchNorm2d(n_dim),\n",
    "                    # nn.ReLU(),\n",
    "                    nn.Conv2d(\n",
    "                        n_dim, n_dim, 3, stride=1, padding=1, groups=1, bias=True\n",
    "                    ),\n",
    "                    nn.BatchNorm2d(n_dim)\n",
    "                )\n",
    "                for i in range(3)\n",
    "            ]\n",
    "        )\n",
    "\n",
    "        # self.final_proj = nn.Sequential(\n",
    "        #     nn.Conv2d(n_dim*3, n_dim, 1, bias=False),\n",
    "        #     nn.BatchNorm2d(n_dim),\n",
    "        #     nn.Dropout(0.1),\n",
    "        #     nn.ReLU(inplace=True),\n",
    "        #     nn.Conv2d(n_dim, n_dim, 1, bias=False)\n",
    "        # )\n",
    "        # self.final_proj = nn.Conv2d(n_dim*3, n_dim, 1, bias=False)\n",
    "\n",
    "        self.register_parameter(\"alpha1\", nn.Parameter(torch.ones(1, n_dim, 1, 1)))\n",
    "        self.register_parameter(\"alpha2\", nn.Parameter(torch.ones(1, n_dim, 1, 1)))\n",
    "        self.register_parameter(\"alpha3\", nn.Parameter(torch.ones(1, n_dim, 1, 1)))\n",
    "        self.register_parameter(\"alpha\", nn.Parameter(torch.ones(1, n_dim, 1, 1)))\n",
    "\n",
    "    def forward(self, x):\n",
    "        B, C, H, W = x.shape\n",
    "        short_cut = x\n",
    "        x = self.norm(x)\n",
    "\n",
    "        frame_feat = []\n",
    "        ms_feat = []\n",
    "        for i in range(3):\n",
    "            y = self.down_samples[i](x)\n",
    "            y = self.conv_attention(y)\n",
    "            # print(\"scale %d : \" % i, y.shape)\n",
    "            ms_feat.append(y)\n",
    "\n",
    "        rec_feat = []\n",
    "        for i in range(3):\n",
    "            y = self.up_samples[i](ms_feat[i])\n",
    "            _H, _W = y.shape[-2], y.shape[-1]\n",
    "            y = F.pad(y, (0, W - _W, 0, H - _H))\n",
    "            # print(y.shape)\n",
    "            rec_feat.append(y)\n",
    "\n",
    "        # rec_feat = (rec_feat[0] + rec_feat[1] + rec_feat[2]) / 3\n",
    "        rec_feat = (\n",
    "            self.alpha1 * rec_feat[0]\n",
    "            + self.alpha2 * rec_feat[1]\n",
    "            + self.alpha3 * rec_feat[2]\n",
    "        ) / 3\n",
    "        # rec_feat = self.final_proj(torch.concat(rec_feat, dim=1))\n",
    "        x = x + self.alpha * rec_feat\n",
    "        # x = x + rec_feat\n",
    "        return x"
   ]
  },
  {
   "cell_type": "code",
   "execution_count": 12,
   "id": "5b1086f1-b658-4794-9af3-d4c660b1c7ac",
   "metadata": {
    "editable": true,
    "execution": {
     "iopub.execute_input": "2024-01-15T05:33:59.223867Z",
     "iopub.status.busy": "2024-01-15T05:33:59.223018Z",
     "iopub.status.idle": "2024-01-15T05:33:59.439724Z",
     "shell.execute_reply": "2024-01-15T05:33:59.439068Z",
     "shell.execute_reply.started": "2024-01-15T05:33:59.223821Z"
    },
    "scrolled": true,
    "slideshow": {
     "slide_type": ""
    },
    "tags": [
     "active-ipynb"
    ]
   },
   "outputs": [
    {
     "name": "stdout",
     "output_type": "stream",
     "text": [
      "scale 0 :  torch.Size([2, 64, 224, 224])\n",
      "scale 1 :  torch.Size([2, 64, 112, 112])\n",
      "scale 2 :  torch.Size([2, 64, 75, 75])\n"
     ]
    },
    {
     "data": {
      "text/plain": [
       "torch.Size([2, 64, 224, 224])"
      ]
     },
     "execution_count": 12,
     "metadata": {},
     "output_type": "execute_result"
    }
   ],
   "source": [
    "module = MultiScaleFusion2D(n_dim=64)\n",
    "x = torch.randn(2, 64, 224, 224)\n",
    "module(x).shape"
   ]
  },
  {
   "cell_type": "code",
   "execution_count": null,
   "id": "bb6fabb2-7993-4cc1-bbfb-434f6ae1545a",
   "metadata": {
    "editable": true,
    "slideshow": {
     "slide_type": ""
    }
   },
   "outputs": [],
   "source": [
    "# spectrogram = torchaudio.transforms.Spectrogram(n_fft=512, hop_length=187)\n",
    "# x = torch.randn(2, 1, 48000)\n",
    "# spectrogram(x).shape"
   ]
  }
 ],
 "metadata": {
  "jupytext": {
   "formats": "ipynb,py:light"
  },
  "kernelspec": {
   "display_name": "Python 3 (ipykernel)",
   "language": "python",
   "name": "python3"
  },
  "language_info": {
   "codemirror_mode": {
    "name": "ipython",
    "version": 3
   },
   "file_extension": ".py",
   "mimetype": "text/x-python",
   "name": "python",
   "nbconvert_exporter": "python",
   "pygments_lexer": "ipython3",
   "version": "3.9.18"
  }
 },
 "nbformat": 4,
 "nbformat_minor": 5
}
