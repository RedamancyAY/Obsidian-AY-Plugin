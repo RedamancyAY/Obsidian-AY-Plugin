{
 "cells": [
  {
   "cell_type": "code",
   "execution_count": 1,
   "id": "d96a3f3c-7363-4bbd-a36e-77a1782b332f",
   "metadata": {
    "execution": {
     "iopub.execute_input": "2023-08-02T06:24:48.607288Z",
     "iopub.status.busy": "2023-08-02T06:24:48.606183Z",
     "iopub.status.idle": "2023-08-02T06:24:48.631751Z",
     "shell.execute_reply": "2023-08-02T06:24:48.631201Z",
     "shell.execute_reply.started": "2023-08-02T06:24:48.607244Z"
    }
   },
   "outputs": [],
   "source": [
    "%load_ext autoreload\n",
    "%autoreload 2"
   ]
  },
  {
   "cell_type": "code",
   "execution_count": 2,
   "id": "98daa725-b25c-463e-9436-9bf21afc4c20",
   "metadata": {
    "execution": {
     "iopub.execute_input": "2023-08-02T06:24:49.364291Z",
     "iopub.status.busy": "2023-08-02T06:24:49.363796Z",
     "iopub.status.idle": "2023-08-02T06:24:50.391657Z",
     "shell.execute_reply": "2023-08-02T06:24:50.390885Z",
     "shell.execute_reply.started": "2023-08-02T06:24:49.364258Z"
    }
   },
   "outputs": [],
   "source": [
    "import math\n",
    "from functools import partial\n",
    "\n",
    "import torch\n",
    "import torch.nn as nn\n",
    "import torch.nn.functional as F\n",
    "from ay2.torch.nn import LambdaFunctionModule"
   ]
  },
  {
   "cell_type": "code",
   "execution_count": null,
   "id": "e30bbb22-63f2-4f81-a6c9-669876910134",
   "metadata": {
    "editable": true,
    "slideshow": {
     "slide_type": ""
    },
    "tags": []
   },
   "outputs": [],
   "source": [
    "from .utils import AdaptiveConv1d, DepthwiseSeparableConv1d, Multi_Head_Attention\n",
    "from .gru_head import GRU_Head"
   ]
  },
  {
   "cell_type": "code",
   "execution_count": 5,
   "id": "932f9f4d-0dbd-4cbb-a727-41daf446f859",
   "metadata": {
    "editable": true,
    "execution": {
     "iopub.execute_input": "2023-08-02T02:21:47.970210Z",
     "iopub.status.busy": "2023-08-02T02:21:47.969152Z",
     "iopub.status.idle": "2023-08-02T02:21:48.459066Z",
     "shell.execute_reply": "2023-08-02T02:21:48.458346Z",
     "shell.execute_reply.started": "2023-08-02T02:21:47.970165Z"
    },
    "slideshow": {
     "slide_type": ""
    },
    "tags": [
     "active-ipynb",
     "style-solution"
    ]
   },
   "outputs": [],
   "source": [
    "from utils import AdaptiveConv1d, DepthwiseSeparableConv1d, Multi_Head_Attention"
   ]
  },
  {
   "cell_type": "code",
   "execution_count": null,
   "id": "7867cc6f-63ed-4858-be16-b882c8825a46",
   "metadata": {
    "editable": true,
    "slideshow": {
     "slide_type": ""
    },
    "tags": []
   },
   "outputs": [],
   "source": [
    "class Classifier(nn.Module):\n",
    "    def __init__(\n",
    "        self,\n",
    "        dims=[32, 32, 64, 64, 128],\n",
    "        n_blocks=[2, 2, 2, 4, 2],\n",
    "        n_heads=[1, 1, 2, 2, 4],\n",
    "        samples_per_frame=400,\n",
    "        use_gru_head=False,\n",
    "        gru_node=512,\n",
    "        gru_layers=3,\n",
    "        num_classes=1,\n",
    "        fc_node=512,\n",
    "        voc_head=False,\n",
    "    ):\n",
    "        super().__init__()\n",
    "\n",
    "        self.use_gru_head = use_gru_head\n",
    "        if self.use_gru_head:\n",
    "            self.gru_head = GRU_Head(\n",
    "                n_dim=dims[-1], gru_node=gru_node, gru_layers=gru_layers\n",
    "            )\n",
    "\n",
    "        self.num_classes = num_classes\n",
    "        self.dropout = nn.Dropout(p=0.1)\n",
    "        # self.fc_gru = nn.Linear(gru_node, fc_node)\n",
    "        self.cls_head = nn.Linear(fc_node, num_classes)\n",
    "        if voc_head:\n",
    "            self.voc_head = nn.Linear(fc_node, 8)\n",
    "\n",
    "    def forward(self, x):\n",
    "        if self.use_gru_head:\n",
    "            x = self.gru_head(x)\n",
    "\n",
    "        # code = self.fc_gru(x)\n",
    "        code = x\n",
    "        out = self.cls_head(self.dropout(code))\n",
    "        if self.num_classes == 1:\n",
    "            out = out.squeeze()\n",
    "        if hasattr(self, \"voc_head\"):\n",
    "            return x, out, self.voc_head(code)\n",
    "        else:\n",
    "            return x, out"
   ]
  }
 ],
 "metadata": {
  "jupytext": {
   "formats": "ipynb,py:light"
  },
  "kernelspec": {
   "display_name": "Python 3 (ipykernel)",
   "language": "python",
   "name": "python3"
  },
  "language_info": {
   "codemirror_mode": {
    "name": "ipython",
    "version": 3
   },
   "file_extension": ".py",
   "mimetype": "text/x-python",
   "name": "python",
   "nbconvert_exporter": "python",
   "pygments_lexer": "ipython3",
   "version": "3.9.16"
  }
 },
 "nbformat": 4,
 "nbformat_minor": 5
}
