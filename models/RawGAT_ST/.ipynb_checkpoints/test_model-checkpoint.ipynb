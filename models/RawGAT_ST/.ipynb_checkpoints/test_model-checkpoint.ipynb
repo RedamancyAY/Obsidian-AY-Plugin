{
 "cells": [
  {
   "cell_type": "code",
   "execution_count": 1,
   "metadata": {
    "execution": {
     "iopub.execute_input": "2024-02-27T02:51:20.865396Z",
     "iopub.status.busy": "2024-02-27T02:51:20.863892Z",
     "iopub.status.idle": "2024-02-27T02:51:20.912102Z",
     "shell.execute_reply": "2024-02-27T02:51:20.910541Z",
     "shell.execute_reply.started": "2024-02-27T02:51:20.865310Z"
    }
   },
   "outputs": [],
   "source": [
    "%load_ext autoreload\n",
    "%autoreload 2"
   ]
  },
  {
   "cell_type": "code",
   "execution_count": 2,
   "metadata": {
    "execution": {
     "iopub.execute_input": "2024-02-27T02:51:21.548328Z",
     "iopub.status.busy": "2024-02-27T02:51:21.547676Z",
     "iopub.status.idle": "2024-02-27T02:51:23.354522Z",
     "shell.execute_reply": "2024-02-27T02:51:23.353787Z",
     "shell.execute_reply.started": "2024-02-27T02:51:21.548265Z"
    }
   },
   "outputs": [],
   "source": [
    "import yaml\n",
    "import os\n",
    "from model import RawGAT_ST\n",
    "import torch"
   ]
  },
  {
   "cell_type": "code",
   "execution_count": 4,
   "metadata": {
    "execution": {
     "iopub.execute_input": "2024-02-27T02:51:36.085081Z",
     "iopub.status.busy": "2024-02-27T02:51:36.083889Z",
     "iopub.status.idle": "2024-02-27T02:51:36.103812Z",
     "shell.execute_reply": "2024-02-27T02:51:36.102925Z",
     "shell.execute_reply.started": "2024-02-27T02:51:36.085048Z"
    }
   },
   "outputs": [],
   "source": [
    "dir_yaml = os.path.splitext('model_config_RawGAT_ST')[0] + '.yaml'\n",
    "\n",
    "with open(dir_yaml, 'r') as f_yaml:\n",
    "    parser1 = yaml.load(f_yaml, Loader=yaml.FullLoader)"
   ]
  },
  {
   "cell_type": "code",
   "execution_count": 12,
   "metadata": {
    "execution": {
     "iopub.execute_input": "2024-02-27T02:59:37.463475Z",
     "iopub.status.busy": "2024-02-27T02:59:37.463032Z",
     "iopub.status.idle": "2024-02-27T02:59:37.857113Z",
     "shell.execute_reply": "2024-02-27T02:59:37.855359Z",
     "shell.execute_reply.started": "2024-02-27T02:59:37.463431Z"
    }
   },
   "outputs": [],
   "source": [
    "model = RawGAT_ST(parser1['model'], 'cpu', num_classes=1)"
   ]
  },
  {
   "cell_type": "code",
   "execution_count": 13,
   "metadata": {
    "execution": {
     "iopub.execute_input": "2024-02-27T02:59:38.863151Z",
     "iopub.status.busy": "2024-02-27T02:59:38.862765Z",
     "iopub.status.idle": "2024-02-27T02:59:39.620608Z",
     "shell.execute_reply": "2024-02-27T02:59:39.619979Z",
     "shell.execute_reply.started": "2024-02-27T02:59:38.863118Z"
    }
   },
   "outputs": [
    {
     "name": "stdout",
     "output_type": "stream",
     "text": [
      "torch.Size([3, 32, 1, 23])\n"
     ]
    },
    {
     "data": {
      "text/plain": [
       "tensor([[0.5365],\n",
       "        [0.2927],\n",
       "        [0.7095]], grad_fn=<AddmmBackward0>)"
      ]
     },
     "execution_count": 13,
     "metadata": {},
     "output_type": "execute_result"
    }
   ],
   "source": [
    "x = torch.randn(3, 64600)\n",
    "# x = torch.randn(2, 48000)\n",
    "model(x)"
   ]
  }
 ],
 "metadata": {
  "kernelspec": {
   "display_name": "Python 3 (ipykernel)",
   "language": "python",
   "name": "python3"
  },
  "language_info": {
   "codemirror_mode": {
    "name": "ipython",
    "version": 3
   },
   "file_extension": ".py",
   "mimetype": "text/x-python",
   "name": "python",
   "nbconvert_exporter": "python",
   "pygments_lexer": "ipython3",
   "version": "3.9.18"
  }
 },
 "nbformat": 4,
 "nbformat_minor": 4
}
