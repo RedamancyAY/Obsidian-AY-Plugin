{
 "cells": [
  {
   "cell_type": "code",
   "execution_count": 1,
   "id": "caf012ad-3972-4f7c-912b-03394bda3388",
   "metadata": {
    "execution": {
     "iopub.execute_input": "2023-07-14T08:19:13.156852Z",
     "iopub.status.busy": "2023-07-14T08:19:13.156423Z",
     "iopub.status.idle": "2023-07-14T08:19:13.171406Z",
     "shell.execute_reply": "2023-07-14T08:19:13.170904Z",
     "shell.execute_reply.started": "2023-07-14T08:19:13.156782Z"
    },
    "tags": []
   },
   "outputs": [],
   "source": [
    "%load_ext autoreload\n",
    "%autoreload 2"
   ]
  },
  {
   "cell_type": "code",
   "execution_count": 2,
   "id": "882cdde4-14f0-4ed7-8a56-ded709a8784c",
   "metadata": {
    "execution": {
     "iopub.execute_input": "2023-07-14T08:19:13.950776Z",
     "iopub.status.busy": "2023-07-14T08:19:13.949840Z",
     "iopub.status.idle": "2023-07-14T08:19:15.152763Z",
     "shell.execute_reply": "2023-07-14T08:19:15.152268Z",
     "shell.execute_reply.started": "2023-07-14T08:19:13.950727Z"
    },
    "scrolled": true,
    "tags": []
   },
   "outputs": [],
   "source": [
    "import torch\n",
    "import torch.nn as nn\n",
    "from transformers import AutoFeatureExtractor, Wav2Vec2Model"
   ]
  },
  {
   "cell_type": "code",
   "execution_count": 19,
   "id": "0b459dc3-b5ef-4a27-a3ba-16063a60d954",
   "metadata": {
    "execution": {
     "iopub.execute_input": "2023-07-14T03:38:20.131320Z",
     "iopub.status.busy": "2023-07-14T03:38:20.130386Z",
     "iopub.status.idle": "2023-07-14T03:38:20.162295Z",
     "shell.execute_reply": "2023-07-14T03:38:20.161535Z",
     "shell.execute_reply.started": "2023-07-14T03:38:20.131256Z"
    }
   },
   "outputs": [],
   "source": [
    "class BaseLine(nn.Module):\n",
    "    def __init__(self, pretrain_feat=\"extract_features\", backend=\"linear\"):\n",
    "        super().__init__()\n",
    "\n",
    "        assert pretrain_feat in [\"last_hidden_state\", \"extract_features\"]\n",
    "        self.pretrain_feat = pretrain_feat\n",
    "        # The channels of used features for the pretrained model is 512 when using\n",
    "        # the 'extract_features',  but 768 when [\"last_hidden_state\"] is used.\n",
    "        C_features = 512 if pretrain_feat == \"extract_features\" else 768\n",
    "\n",
    "        self.pretrain_model = Wav2Vec2Model.from_pretrained(\n",
    "            \"/usr/local/ay_data/0-model_weights/models--facebook--wav2vec2-base-960h\"\n",
    "        )\n",
    "\n",
    "        self.backend = backend\n",
    "        if backend == \"resnet\":\n",
    "            self.backend_model = ResNet50(in_channels=C_features, classes=1)\n",
    "        elif backend == \"linear\":\n",
    "            self.pooler = nn.AdaptiveAvgPool1d(1)\n",
    "            self.backend_model = nn.Linear(C_features, 1)\n",
    "\n",
    "    def forward(self, x):\n",
    "        feature = self.pretrain_model(x)[self.pretrain_feat]\n",
    "        feature = torch.transpose(feature, 1, 2)\n",
    "        if self.backend == \"linear\":\n",
    "            feature = torch.squeeze(self.pooler(feature), -1)\n",
    "        # print(feature.shape, self.pooler(feature).shape)\n",
    "        outputs = self.backend_model(feature)\n",
    "        return outputs\n",
    "\n",
    "    def extract_feature(self, x):\n",
    "        feature = self.pretrain_model(x)[self.pretrain_feat]\n",
    "        feature = torch.transpose(feature, 1, 2)\n",
    "        if self.backend == \"linear\":\n",
    "            feature = torch.squeeze(self.pooler(feature), -1)\n",
    "        return feature\n",
    "\n",
    "    def make_prediction(self, feature):\n",
    "        # print(feature.shape, self.pooler(feature).shape)\n",
    "        outputs = self.backend_model(feature)\n",
    "        return outputs"
   ]
  },
  {
   "cell_type": "code",
   "execution_count": 20,
   "id": "a4552a42-6ed4-40dc-8d6d-3d9d1197df44",
   "metadata": {
    "execution": {
     "iopub.execute_input": "2023-07-14T03:38:22.775668Z",
     "iopub.status.busy": "2023-07-14T03:38:22.774850Z",
     "iopub.status.idle": "2023-07-14T03:38:24.598797Z",
     "shell.execute_reply": "2023-07-14T03:38:24.598312Z",
     "shell.execute_reply.started": "2023-07-14T03:38:22.775610Z"
    },
    "scrolled": true,
    "tags": [
     "active-ipynb",
     "style-student"
    ]
   },
   "outputs": [
    {
     "name": "stderr",
     "output_type": "stream",
     "text": [
      "Some weights of the model checkpoint at facebook/wav2vec2-base-960h were not used when initializing Wav2Vec2Model: ['lm_head.bias', 'lm_head.weight']\n",
      "- This IS expected if you are initializing Wav2Vec2Model from the checkpoint of a model trained on another task or with another architecture (e.g. initializing a BertForSequenceClassification model from a BertForPreTraining model).\n",
      "- This IS NOT expected if you are initializing Wav2Vec2Model from the checkpoint of a model that you expect to be exactly identical (initializing a BertForSequenceClassification model from a BertForSequenceClassification model).\n",
      "Some weights of Wav2Vec2Model were not initialized from the model checkpoint at facebook/wav2vec2-base-960h and are newly initialized: ['wav2vec2.masked_spec_embed']\n",
      "You should probably TRAIN this model on a down-stream task to be able to use it for predictions and inference.\n"
     ]
    },
    {
     "data": {
      "text/plain": [
       "tensor([[-0.5001],\n",
       "        [-0.4787],\n",
       "        [-0.4980],\n",
       "        [-0.5036],\n",
       "        [-0.4992],\n",
       "        [-0.5002],\n",
       "        [-0.5007],\n",
       "        [-0.5132],\n",
       "        [-0.4933],\n",
       "        [-0.4866]], grad_fn=<AddmmBackward0>)"
      ]
     },
     "execution_count": 20,
     "metadata": {},
     "output_type": "execute_result"
    }
   ],
   "source": [
    "x = torch.rand(10, 69000)\n",
    "model = BaseLine(backend=\"linear\")\n",
    "\n",
    "model(x)"
   ]
  }
 ],
 "metadata": {
  "jupytext": {
   "formats": "ipynb,py:light"
  },
  "kernelspec": {
   "display_name": "Python 3 (ipykernel)",
   "language": "python",
   "name": "python3"
  },
  "language_info": {
   "codemirror_mode": {
    "name": "ipython",
    "version": 3
   },
   "file_extension": ".py",
   "mimetype": "text/x-python",
   "name": "python",
   "nbconvert_exporter": "python",
   "pygments_lexer": "ipython3",
   "version": "3.9.18"
  }
 },
 "nbformat": 4,
 "nbformat_minor": 5
}
