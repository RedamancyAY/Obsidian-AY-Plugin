{
 "cells": [
  {
   "cell_type": "code",
   "execution_count": null,
   "id": "1cb67983",
   "metadata": {},
   "outputs": [],
   "source": [
    "%load_ext autoreload\n",
    "%autoreload 2"
   ]
  },
  {
   "cell_type": "code",
   "execution_count": null,
   "id": "d2a02cd8",
   "metadata": {},
   "outputs": [],
   "source": [
    "import os\n",
    "import statistics\n",
    "from copy import deepcopy\n",
    "from functools import partial\n",
    "\n",
    "import numpy as np\n",
    "import pandas as pd\n",
    "import pytorch_lightning as pl\n",
    "import torch\n",
    "import torch.nn as nn\n",
    "import torch.nn.functional as F\n",
    "from ay2.torch.deepfake_detection import DeepfakeAudioClassification\n",
    "from ay2.torch.losses import (\n",
    "    BinaryTokenContrastLoss,\n",
    "    Focal_loss,\n",
    "    LabelSmoothingBCE,\n",
    "    MultiClass_ContrastLoss,\n",
    ")\n",
    "from ay2.torch.optim import Adam_GC\n",
    "from ay2.torch.optim.selective_weight_decay import (\n",
    "    Optimizers_with_selective_weight_decay,\n",
    "    Optimizers_with_selective_weight_decay_for_modulelist,\n",
    ")\n",
    "from ay2.torchaudio.transforms import AddGaussianSNR\n",
    "from ay2.torchaudio.transforms.self_operation import (\n",
    "    AudioToTensor,\n",
    "    CentralAudioClip,\n",
    "    RandomAudioClip,\n",
    "    RandomPitchShift,\n",
    "    RandomSpeed,\n",
    ")\n",
    "from tqdm.auto import tqdm"
   ]
  },
  {
   "cell_type": "code",
   "execution_count": null,
   "id": "4a747d3e",
   "metadata": {},
   "outputs": [],
   "source": [
    "from ay2.tools import (\n",
    "    find_unsame_name_for_file,\n",
    "    freeze_modules,\n",
    "    rich_bar,\n",
    "    unfreeze_modules,\n",
    ")"
   ]
  },
  {
   "cell_type": "code",
   "execution_count": null,
   "id": "5400d18a",
   "metadata": {},
   "outputs": [],
   "source": [
    "from ay2.torchaudio.transforms import SpecAugmentBatchTransform\n",
    "from ay2.torchaudio.transforms.self_operation import RandomSpeed\n",
    "\n",
    "random_speed = RandomSpeed(min_speed=0.5, max_speed=2.0, p=0.5)"
   ]
  },
  {
   "cell_type": "code",
   "execution_count": null,
   "id": "43b37dda",
   "metadata": {
    "editable": true,
    "slideshow": {
     "slide_type": ""
    }
   },
   "outputs": [],
   "source": [
    "try:\n",
    "    from .multiView_model import MultiViewModel\n",
    "except ImportError:\n",
    "    from multiView_model import MultiViewModel"
   ]
  },
  {
   "cell_type": "code",
   "execution_count": null,
   "id": "aa4fdf47",
   "metadata": {
    "editable": true,
    "slideshow": {
     "slide_type": ""
    }
   },
   "outputs": [],
   "source": [
    "class MultiViewModel_lit(DeepfakeAudioClassification):\n",
    "    def __init__(self, cfg=None, args=None, **kwargs):\n",
    "        super().__init__()\n",
    "        self.model = MultiViewModel()\n",
    "        self.cfg = cfg\n",
    "\n",
    "        self.audio_transform = SpecAugmentBatchTransform.from_policy(cfg.aug_policy)\n",
    "\n",
    "        self.configure_loss_fn()\n",
    "        self.save_hyperparameters()\n",
    "\n",
    "    def configure_loss_fn(\n",
    "        self,\n",
    "    ):\n",
    "        self.bce_loss = LabelSmoothingBCE(label_smoothing=0.1)\n",
    "        self.contrast_loss2 = BinaryTokenContrastLoss(alpha=0.1)\n",
    "\n",
    "    def calcuate_loss(self, batch_res, batch, stage=\"train\"):\n",
    "        B = batch_res[\"logit\"].shape[0]\n",
    "        label = batch[\"label\"]\n",
    "        losses = {}\n",
    "\n",
    "        losses[\"cls_loss1D\"] = self.bce_loss(batch_res[\"logit1D\"], label)\n",
    "        losses[\"cls_loss2D\"] = self.bce_loss(batch_res[\"logit2D\"], label)\n",
    "        losses[\"cls_loss\"] = self.bce_loss(batch_res[\"logit\"], label)\n",
    "        losses[\"contrast_loss\"] = self.contrast_loss2(batch_res[\"feature\"], label)\n",
    "        losses[\"loss\"] = (\n",
    "            losses[\"cls_loss\"]\n",
    "            + 0.5 * losses[\"contrast_loss\"]\n",
    "            + 0.1 * (losses[\"cls_loss1D\"] + losses[\"cls_loss2D\"])\n",
    "        )\n",
    "\n",
    "        return losses\n",
    "\n",
    "    def configure_optimizers(self):\n",
    "        optimizer = Optimizers_with_selective_weight_decay_for_modulelist(\n",
    "            [self.model],\n",
    "            optimizer=\"Adam\",\n",
    "            lr=0.0001,\n",
    "            weight_decay=0.01,\n",
    "        )\n",
    "        return [optimizer]\n",
    "\n",
    "    def _shared_pred(self, batch, batch_idx, stage=\"train\"):\n",
    "        \"\"\"common predict step for train/val/test\n",
    "\n",
    "        Note that the data augmenation is done in the self.model.feature_extractor.\n",
    "\n",
    "        \"\"\"\n",
    "        audio, sample_rate = batch[\"audio\"], batch[\"sample_rate\"]\n",
    "        batch_res = self.model(\n",
    "            audio, stage=stage, batch=batch if stage == \"train\" else None\n",
    "        )\n",
    "        batch_res[\"pred\"] = (torch.sigmoid(batch_res[\"logit\"]) + 0.5).int()\n",
    "\n",
    "        return batch_res"
   ]
  }
 ],
 "metadata": {
  "jupytext": {
   "formats": "ipynb,py:light"
  },
  "kernelspec": {
   "display_name": "Python 3 (ipykernel)",
   "language": "python",
   "name": "python3"
  },
  "language_info": {
   "codemirror_mode": {
    "name": "ipython",
    "version": 3
   },
   "file_extension": ".py",
   "mimetype": "text/x-python",
   "name": "python",
   "nbconvert_exporter": "python",
   "pygments_lexer": "ipython3",
   "version": "3.9.18"
  }
 },
 "nbformat": 4,
 "nbformat_minor": 5
}
