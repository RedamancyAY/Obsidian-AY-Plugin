{
 "cells": [
  {
   "cell_type": "code",
   "execution_count": 1,
   "id": "f4c74ee9-a3db-4a37-b77e-0df7eeb9098c",
   "metadata": {
    "execution": {
     "iopub.execute_input": "2024-04-03T02:08:31.051015Z",
     "iopub.status.busy": "2024-04-03T02:08:31.050520Z",
     "iopub.status.idle": "2024-04-03T02:08:31.094988Z",
     "shell.execute_reply": "2024-04-03T02:08:31.093562Z",
     "shell.execute_reply.started": "2024-04-03T02:08:31.050957Z"
    }
   },
   "outputs": [],
   "source": [
    "%load_ext autoreload\n",
    "%autoreload 2"
   ]
  },
  {
   "cell_type": "code",
   "execution_count": 23,
   "id": "cc4a0556-2d6d-4985-bbec-44386ffba4f0",
   "metadata": {
    "execution": {
     "iopub.execute_input": "2024-04-03T02:17:49.301464Z",
     "iopub.status.busy": "2024-04-03T02:17:49.301023Z",
     "iopub.status.idle": "2024-04-03T02:17:49.330848Z",
     "shell.execute_reply": "2024-04-03T02:17:49.329042Z",
     "shell.execute_reply.started": "2024-04-03T02:17:49.301415Z"
    }
   },
   "outputs": [],
   "source": [
    "import torch\n",
    "from lpc import LPCCoefficients"
   ]
  },
  {
   "cell_type": "code",
   "execution_count": 10,
   "id": "d47cc0ba-c5d9-4769-a99f-5375ee057844",
   "metadata": {
    "execution": {
     "iopub.execute_input": "2024-04-03T02:12:05.034352Z",
     "iopub.status.busy": "2024-04-03T02:12:05.033336Z",
     "iopub.status.idle": "2024-04-03T02:12:05.084668Z",
     "shell.execute_reply": "2024-04-03T02:12:05.082709Z",
     "shell.execute_reply.started": "2024-04-03T02:12:05.034244Z"
    }
   },
   "outputs": [],
   "source": [
    "# Parameters\n",
    "#     * sr            : sample rate of the signal ( 16 kHz )\n",
    "#     * frame_duration: duration of the window in seconds ( 16 ms )\n",
    "#     * frame_overlap : frame overlapping factor\n",
    "#     * K             : number of linear predictive coding coefficients\n",
    "sr = 16000\n",
    "frame_duration = 0.016\n",
    "frame_overlap = 0.5\n",
    "K = 32\n",
    "\n",
    "# Initialize the module given all the parameters\n",
    "lpc_prep = LPCCoefficients(sr, frame_duration, frame_overlap, order=(K - 1))"
   ]
  },
  {
   "cell_type": "code",
   "execution_count": 4,
   "id": "de518a39-54f3-4a59-80bd-f1e6bc31f266",
   "metadata": {
    "execution": {
     "iopub.execute_input": "2024-04-03T02:08:32.448475Z",
     "iopub.status.busy": "2024-04-03T02:08:32.448336Z",
     "iopub.status.idle": "2024-04-03T02:08:32.585735Z",
     "shell.execute_reply": "2024-04-03T02:08:32.584977Z",
     "shell.execute_reply.started": "2024-04-03T02:08:32.448460Z"
    },
    "scrolled": true
   },
   "outputs": [
    {
     "name": "stdout",
     "output_type": "stream",
     "text": [
      "torch.Size([20, 374, 255])\n",
      "torch.Size([20, 374, 254])\n",
      "torch.Size([20, 374, 253])\n",
      "torch.Size([20, 374, 252])\n",
      "torch.Size([20, 374, 251])\n",
      "torch.Size([20, 374, 250])\n",
      "torch.Size([20, 374, 249])\n",
      "torch.Size([20, 374, 248])\n",
      "torch.Size([20, 374, 247])\n",
      "torch.Size([20, 374, 246])\n",
      "torch.Size([20, 374, 245])\n",
      "torch.Size([20, 374, 244])\n",
      "torch.Size([20, 374, 243])\n",
      "torch.Size([20, 374, 242])\n",
      "torch.Size([20, 374, 241])\n",
      "torch.Size([20, 374, 240])\n",
      "torch.Size([20, 374, 239])\n",
      "torch.Size([20, 374, 238])\n",
      "torch.Size([20, 374, 237])\n",
      "torch.Size([20, 374, 236])\n",
      "torch.Size([20, 374, 235])\n",
      "torch.Size([20, 374, 234])\n",
      "torch.Size([20, 374, 233])\n",
      "torch.Size([20, 374, 232])\n",
      "torch.Size([20, 374, 231])\n",
      "torch.Size([20, 374, 230])\n",
      "torch.Size([20, 374, 229])\n",
      "torch.Size([20, 374, 228])\n",
      "torch.Size([20, 374, 227])\n",
      "torch.Size([20, 374, 226])\n",
      "torch.Size([20, 374, 225])\n"
     ]
    },
    {
     "data": {
      "text/plain": [
       "torch.Size([20, 374, 32])"
      ]
     },
     "execution_count": 4,
     "metadata": {},
     "output_type": "execute_result"
    }
   ],
   "source": [
    "x = torch.randn(20, 48000)\n",
    "lpc_prep(x).shape"
   ]
  },
  {
   "cell_type": "code",
   "execution_count": 5,
   "id": "fb2767ea-f59e-4bc9-ac11-b36b383e7b1b",
   "metadata": {
    "execution": {
     "iopub.execute_input": "2024-04-03T02:08:32.587514Z",
     "iopub.status.busy": "2024-04-03T02:08:32.586861Z",
     "iopub.status.idle": "2024-04-03T02:08:32.839835Z",
     "shell.execute_reply": "2024-04-03T02:08:32.838395Z",
     "shell.execute_reply.started": "2024-04-03T02:08:32.587478Z"
    }
   },
   "outputs": [],
   "source": [
    "x = torch.randn(64 * 64, 3000).cuda()"
   ]
  },
  {
   "cell_type": "code",
   "execution_count": 25,
   "id": "197db280-f4f9-45f4-b67a-57eda58004e9",
   "metadata": {
    "execution": {
     "iopub.execute_input": "2024-04-03T02:18:12.345773Z",
     "iopub.status.busy": "2024-04-03T02:18:12.345056Z",
     "iopub.status.idle": "2024-04-03T02:18:12.496378Z",
     "shell.execute_reply": "2024-04-03T02:18:12.494742Z",
     "shell.execute_reply.started": "2024-04-03T02:18:12.345652Z"
    },
    "scrolled": true
   },
   "outputs": [
    {
     "name": "stdout",
     "output_type": "stream",
     "text": [
      "torch.Size([4096, 3000]) 16 8\n",
      "torch.Size([4096, 374, 16]) 16 8\n",
      "torch.Size([4096, 374, 15])\n",
      "torch.Size([4096, 374, 14])\n",
      "torch.Size([4096, 374, 13])\n",
      "torch.Size([4096, 374, 12])\n",
      "torch.Size([4096, 374, 11])\n",
      "torch.Size([4096, 374, 10])\n",
      "torch.Size([4096, 374, 9])\n",
      "torch.Size([4096, 374, 8])\n",
      "torch.Size([4096, 374, 7])\n",
      "torch.Size([4096, 374, 6])\n",
      "torch.Size([4096, 374, 5])\n",
      "torch.Size([4096, 374, 4])\n",
      "torch.Size([4096, 374, 3])\n",
      "torch.Size([4096, 374, 2])\n",
      "torch.Size([4096, 374, 1])\n",
      "torch.Size([4096, 374, 0])\n"
     ]
    },
    {
     "ename": "IndexError",
     "evalue": "index -1 is out of bounds for dimension 2 with size 0",
     "output_type": "error",
     "traceback": [
      "\u001b[0;31m---------------------------------------------------------------------------\u001b[0m",
      "\u001b[0;31mIndexError\u001b[0m                                Traceback (most recent call last)",
      "Cell \u001b[0;32mIn[25], line 9\u001b[0m\n\u001b[1;32m      1\u001b[0m lpc_prep       \u001b[38;5;241m=\u001b[39m LPCCoefficients(\n\u001b[1;32m      2\u001b[0m     sr,\n\u001b[1;32m      3\u001b[0m     frame_duration \u001b[38;5;241m/\u001b[39m \u001b[38;5;241m16\u001b[39m,\n\u001b[1;32m      4\u001b[0m     frame_overlap,\n\u001b[1;32m      5\u001b[0m     order \u001b[38;5;241m=\u001b[39m ( K \u001b[38;5;241m-\u001b[39m \u001b[38;5;241m1\u001b[39m )\n\u001b[1;32m      6\u001b[0m )\u001b[38;5;241m.\u001b[39mcuda()\n\u001b[0;32m----> 9\u001b[0m \u001b[43mlpc_prep\u001b[49m\u001b[43m(\u001b[49m\u001b[43mx\u001b[49m\u001b[43m)\u001b[49m\u001b[38;5;241m.\u001b[39mshape\n",
      "File \u001b[0;32m~/anaconda3/envs/torch/lib/python3.9/site-packages/torch/nn/modules/module.py:1518\u001b[0m, in \u001b[0;36mModule._wrapped_call_impl\u001b[0;34m(self, *args, **kwargs)\u001b[0m\n\u001b[1;32m   1516\u001b[0m     \u001b[38;5;28;01mreturn\u001b[39;00m \u001b[38;5;28mself\u001b[39m\u001b[38;5;241m.\u001b[39m_compiled_call_impl(\u001b[38;5;241m*\u001b[39margs, \u001b[38;5;241m*\u001b[39m\u001b[38;5;241m*\u001b[39mkwargs)  \u001b[38;5;66;03m# type: ignore[misc]\u001b[39;00m\n\u001b[1;32m   1517\u001b[0m \u001b[38;5;28;01melse\u001b[39;00m:\n\u001b[0;32m-> 1518\u001b[0m     \u001b[38;5;28;01mreturn\u001b[39;00m \u001b[38;5;28;43mself\u001b[39;49m\u001b[38;5;241;43m.\u001b[39;49m\u001b[43m_call_impl\u001b[49m\u001b[43m(\u001b[49m\u001b[38;5;241;43m*\u001b[39;49m\u001b[43margs\u001b[49m\u001b[43m,\u001b[49m\u001b[43m \u001b[49m\u001b[38;5;241;43m*\u001b[39;49m\u001b[38;5;241;43m*\u001b[39;49m\u001b[43mkwargs\u001b[49m\u001b[43m)\u001b[49m\n",
      "File \u001b[0;32m~/anaconda3/envs/torch/lib/python3.9/site-packages/torch/nn/modules/module.py:1527\u001b[0m, in \u001b[0;36mModule._call_impl\u001b[0;34m(self, *args, **kwargs)\u001b[0m\n\u001b[1;32m   1522\u001b[0m \u001b[38;5;66;03m# If we don't have any hooks, we want to skip the rest of the logic in\u001b[39;00m\n\u001b[1;32m   1523\u001b[0m \u001b[38;5;66;03m# this function, and just call forward.\u001b[39;00m\n\u001b[1;32m   1524\u001b[0m \u001b[38;5;28;01mif\u001b[39;00m \u001b[38;5;129;01mnot\u001b[39;00m (\u001b[38;5;28mself\u001b[39m\u001b[38;5;241m.\u001b[39m_backward_hooks \u001b[38;5;129;01mor\u001b[39;00m \u001b[38;5;28mself\u001b[39m\u001b[38;5;241m.\u001b[39m_backward_pre_hooks \u001b[38;5;129;01mor\u001b[39;00m \u001b[38;5;28mself\u001b[39m\u001b[38;5;241m.\u001b[39m_forward_hooks \u001b[38;5;129;01mor\u001b[39;00m \u001b[38;5;28mself\u001b[39m\u001b[38;5;241m.\u001b[39m_forward_pre_hooks\n\u001b[1;32m   1525\u001b[0m         \u001b[38;5;129;01mor\u001b[39;00m _global_backward_pre_hooks \u001b[38;5;129;01mor\u001b[39;00m _global_backward_hooks\n\u001b[1;32m   1526\u001b[0m         \u001b[38;5;129;01mor\u001b[39;00m _global_forward_hooks \u001b[38;5;129;01mor\u001b[39;00m _global_forward_pre_hooks):\n\u001b[0;32m-> 1527\u001b[0m     \u001b[38;5;28;01mreturn\u001b[39;00m \u001b[43mforward_call\u001b[49m\u001b[43m(\u001b[49m\u001b[38;5;241;43m*\u001b[39;49m\u001b[43margs\u001b[49m\u001b[43m,\u001b[49m\u001b[43m \u001b[49m\u001b[38;5;241;43m*\u001b[39;49m\u001b[38;5;241;43m*\u001b[39;49m\u001b[43mkwargs\u001b[49m\u001b[43m)\u001b[49m\n\u001b[1;32m   1529\u001b[0m \u001b[38;5;28;01mtry\u001b[39;00m:\n\u001b[1;32m   1530\u001b[0m     result \u001b[38;5;241m=\u001b[39m \u001b[38;5;28;01mNone\u001b[39;00m\n",
      "File \u001b[0;32m~/Coding2/0-Deepfake/2-Audio/models/OursMultiView/utils/lpc.py:234\u001b[0m, in \u001b[0;36mLPCCoefficients.forward\u001b[0;34m(self, X)\u001b[0m\n\u001b[1;32m    229\u001b[0m \u001b[38;5;28mprint\u001b[39m(bwd_error\u001b[38;5;241m.\u001b[39mshape)\n\u001b[1;32m    231\u001b[0m q \u001b[38;5;241m=\u001b[39m \u001b[38;5;241m1.0\u001b[39m \u001b[38;5;241m-\u001b[39m reflect_coeff\u001b[38;5;241m*\u001b[39m\u001b[38;5;241m*\u001b[39m\u001b[38;5;241m2\u001b[39m\n\u001b[1;32m    232\u001b[0m den \u001b[38;5;241m=\u001b[39m (\n\u001b[1;32m    233\u001b[0m     q \u001b[38;5;241m*\u001b[39m den\n\u001b[0;32m--> 234\u001b[0m     \u001b[38;5;241m-\u001b[39m \u001b[43mbwd_error\u001b[49m\u001b[43m[\u001b[49m\u001b[43m:\u001b[49m\u001b[43m,\u001b[49m\u001b[43m \u001b[49m\u001b[43m:\u001b[49m\u001b[43m,\u001b[49m\u001b[43m \u001b[49m\u001b[38;5;241;43m-\u001b[39;49m\u001b[38;5;241;43m1\u001b[39;49m\u001b[43m]\u001b[49m\u001b[38;5;241m.\u001b[39munsqueeze(\u001b[38;5;241m-\u001b[39m\u001b[38;5;241m1\u001b[39m) \u001b[38;5;241m*\u001b[39m\u001b[38;5;241m*\u001b[39m \u001b[38;5;241m2\u001b[39m\n\u001b[1;32m    235\u001b[0m     \u001b[38;5;241m-\u001b[39m fwd_error[:, :, \u001b[38;5;241m0\u001b[39m]\u001b[38;5;241m.\u001b[39munsqueeze(\u001b[38;5;241m-\u001b[39m\u001b[38;5;241m1\u001b[39m) \u001b[38;5;241m*\u001b[39m\u001b[38;5;241m*\u001b[39m \u001b[38;5;241m2\u001b[39m\n\u001b[1;32m    236\u001b[0m )\n\u001b[1;32m    238\u001b[0m fwd_error \u001b[38;5;241m=\u001b[39m fwd_error[:, :, \u001b[38;5;241m1\u001b[39m:]\n\u001b[1;32m    239\u001b[0m bwd_error \u001b[38;5;241m=\u001b[39m bwd_error[:, :, :\u001b[38;5;241m-\u001b[39m\u001b[38;5;241m1\u001b[39m]\n",
      "\u001b[0;31mIndexError\u001b[0m: index -1 is out of bounds for dimension 2 with size 0"
     ]
    }
   ],
   "source": [
    "lpc_prep = LPCCoefficients(sr, frame_duration / 16, frame_overlap, order=(K - 1)).cuda()\n",
    "\n",
    "\n",
    "lpc_prep(x).shape"
   ]
  },
  {
   "cell_type": "code",
   "execution_count": 77,
   "id": "a82b79d6-9e44-4e58-9114-0e5cbfc873be",
   "metadata": {
    "execution": {
     "iopub.execute_input": "2024-04-03T03:16:50.383189Z",
     "iopub.status.busy": "2024-04-03T03:16:50.382146Z",
     "iopub.status.idle": "2024-04-03T03:16:50.420920Z",
     "shell.execute_reply": "2024-04-03T03:16:50.420290Z",
     "shell.execute_reply.started": "2024-04-03T03:16:50.383157Z"
    }
   },
   "outputs": [
    {
     "data": {
      "text/plain": [
       "torch.Size([2, 1, 37, 38])"
      ]
     },
     "execution_count": 77,
     "metadata": {},
     "output_type": "execute_result"
    }
   ],
   "source": [
    "import torchaudio\n",
    "\n",
    "m = torchaudio.transforms.MFCC(\n",
    "    sample_rate=16000 // 16,\n",
    "    n_mfcc=37,\n",
    "    melkwargs={\n",
    "        \"n_fft\": 512 // 4,\n",
    "        \"hop_length\": 310 // 4,\n",
    "        \"n_mels\": 37,\n",
    "        \"center\": False,\n",
    "    },\n",
    ")\n",
    "x = torch.randn(2, 1, 3000)\n",
    "m(x).shape"
   ]
  },
  {
   "cell_type": "code",
   "execution_count": 76,
   "id": "a2463d11-d768-469d-b13b-1ca989058823",
   "metadata": {
    "execution": {
     "iopub.execute_input": "2024-04-03T03:16:46.547492Z",
     "iopub.status.busy": "2024-04-03T03:16:46.546898Z",
     "iopub.status.idle": "2024-04-03T03:16:46.595450Z",
     "shell.execute_reply": "2024-04-03T03:16:46.594437Z",
     "shell.execute_reply.started": "2024-04-03T03:16:46.547433Z"
    }
   },
   "outputs": [
    {
     "data": {
      "text/plain": [
       "torch.Size([2, 1, 19, 19])"
      ]
     },
     "execution_count": 76,
     "metadata": {},
     "output_type": "execute_result"
    }
   ],
   "source": [
    "import torchaudio\n",
    "\n",
    "m = torchaudio.transforms.MFCC(\n",
    "    sample_rate=16000 // 64,\n",
    "    n_mfcc=19,\n",
    "    melkwargs={\n",
    "        \"n_fft\": 512 // 8,\n",
    "        \"hop_length\": 310 // 8,\n",
    "        \"n_mels\": 19,\n",
    "        \"center\": False,\n",
    "    },\n",
    ")\n",
    "x = torch.randn(2, 1, 3000 // 4)\n",
    "m(x).shape"
   ]
  },
  {
   "cell_type": "code",
   "execution_count": 69,
   "id": "2cf80b56-2b02-406f-8674-d0a7d7e1788e",
   "metadata": {
    "execution": {
     "iopub.execute_input": "2024-04-03T03:16:07.228872Z",
     "iopub.status.busy": "2024-04-03T03:16:07.228282Z",
     "iopub.status.idle": "2024-04-03T03:16:07.276073Z",
     "shell.execute_reply": "2024-04-03T03:16:07.274848Z",
     "shell.execute_reply.started": "2024-04-03T03:16:07.228813Z"
    }
   },
   "outputs": [
    {
     "data": {
      "text/plain": [
       "torch.Size([2, 1, 37, 38])"
      ]
     },
     "execution_count": 69,
     "metadata": {},
     "output_type": "execute_result"
    }
   ],
   "source": [
    "m = torchaudio.transforms.MelSpectrogram(\n",
    "    sample_rate=16000 // 16, n_fft=512 // 4, hop_length=320 // 4, n_mels=37\n",
    ")\n",
    "x = torch.randn(2, 1, 3000)\n",
    "m(x).shape"
   ]
  },
  {
   "cell_type": "code",
   "execution_count": 69,
   "id": "3a6a41db-1be4-40e2-9e51-265094f2bf8b",
   "metadata": {
    "execution": {
     "iopub.execute_input": "2024-04-03T03:16:07.228872Z",
     "iopub.status.busy": "2024-04-03T03:16:07.228282Z",
     "iopub.status.idle": "2024-04-03T03:16:07.276073Z",
     "shell.execute_reply": "2024-04-03T03:16:07.274848Z",
     "shell.execute_reply.started": "2024-04-03T03:16:07.228813Z"
    }
   },
   "outputs": [
    {
     "data": {
      "text/plain": [
       "torch.Size([2, 1, 37, 38])"
      ]
     },
     "execution_count": 69,
     "metadata": {},
     "output_type": "execute_result"
    }
   ],
   "source": [
    "m = torchaudio.transforms.MelSpectrogram(\n",
    "    sample_rate=16000 // 16, n_fft=512 // 4, hop_length=320 // 4, n_mels=37\n",
    ")\n",
    "x = torch.randn(2, 1, 3000)\n",
    "m(x).shape"
   ]
  },
  {
   "cell_type": "code",
   "execution_count": 81,
   "id": "a7dc67c2-f5a6-4652-bf15-e19ad4232233",
   "metadata": {
    "execution": {
     "iopub.execute_input": "2024-04-03T10:19:30.072524Z",
     "iopub.status.busy": "2024-04-03T10:19:30.071401Z",
     "iopub.status.idle": "2024-04-03T10:19:30.112998Z",
     "shell.execute_reply": "2024-04-03T10:19:30.111477Z",
     "shell.execute_reply.started": "2024-04-03T10:19:30.072471Z"
    }
   },
   "outputs": [],
   "source": [
    "import torch.nn as nn\n",
    "\n",
    "triplet_loss = nn.TripletMarginLoss(margin=1.0, p=2, eps=1e-7)\n",
    "anchor = torch.randn(100, 128, requires_grad=True)\n",
    "positive = torch.randn(100, 128, requires_grad=True)\n",
    "negative = torch.randn(100, 128, requires_grad=True)\n",
    "output = triplet_loss(anchor, positive, negative)\n",
    "output.backward()"
   ]
  },
  {
   "cell_type": "markdown",
   "id": "c5fad4b9-8d01-4fb5-81bb-34cc7cfd684f",
   "metadata": {},
   "source": [
    "### MFCC"
   ]
  },
  {
   "cell_type": "code",
   "execution_count": 109,
   "id": "57cbb3c6-d4ca-49ba-bd50-b2865376b1d9",
   "metadata": {
    "execution": {
     "iopub.execute_input": "2024-04-03T12:11:10.859609Z",
     "iopub.status.busy": "2024-04-03T12:11:10.859260Z",
     "iopub.status.idle": "2024-04-03T12:11:10.894266Z",
     "shell.execute_reply": "2024-04-03T12:11:10.893187Z",
     "shell.execute_reply.started": "2024-04-03T12:11:10.859579Z"
    }
   },
   "outputs": [],
   "source": [
    "n_mels = [65, 33, 17, 9]\n",
    "MFCC_transforms = nn.ModuleList(\n",
    "    [\n",
    "        torchaudio.transforms.MFCC(\n",
    "            sample_rate=16000 // (16 * (4**i)),\n",
    "            n_mfcc=n_mels[i],\n",
    "            melkwargs={\n",
    "                \"n_fft\": 512 // ((2**i) * 4),\n",
    "                \"hop_length\": 187 // ((2**i) * 4),\n",
    "                \"n_mels\": n_mels[i],\n",
    "                \"center\": True,\n",
    "            },\n",
    "        )\n",
    "        for i in range(4)\n",
    "    ]\n",
    ")"
   ]
  },
  {
   "cell_type": "code",
   "execution_count": 110,
   "id": "75c5995f-e502-481c-bd27-e1cad48051bd",
   "metadata": {
    "execution": {
     "iopub.execute_input": "2024-04-03T12:11:48.114381Z",
     "iopub.status.busy": "2024-04-03T12:11:48.112945Z",
     "iopub.status.idle": "2024-04-03T12:11:48.203155Z",
     "shell.execute_reply": "2024-04-03T12:11:48.202528Z",
     "shell.execute_reply.started": "2024-04-03T12:11:48.114319Z"
    }
   },
   "outputs": [
    {
     "name": "stdout",
     "output_type": "stream",
     "text": [
      "torch.Size([2, 1, 65, 66])\n",
      "torch.Size([2, 1, 33, 33])\n",
      "torch.Size([2, 1, 17, 18])\n",
      "torch.Size([2, 1, 9, 10])\n"
     ]
    }
   ],
   "source": [
    "for i in range(4):\n",
    "    x = torch.randn(2, 1, 3000 // (4**i))\n",
    "    y = MFCC_transforms[i](x)\n",
    "    print(y.shape)"
   ]
  },
  {
   "cell_type": "markdown",
   "id": "49b0d7dc-bae6-47fe-9cf8-93f6ff0c8837",
   "metadata": {},
   "source": [
    "### LFCC"
   ]
  },
  {
   "cell_type": "code",
   "execution_count": 120,
   "id": "bde4894d-8a94-4eda-8f6b-14dd41085f0d",
   "metadata": {
    "execution": {
     "iopub.execute_input": "2024-04-03T12:15:01.024878Z",
     "iopub.status.busy": "2024-04-03T12:15:01.024188Z",
     "iopub.status.idle": "2024-04-03T12:15:01.100717Z",
     "shell.execute_reply": "2024-04-03T12:15:01.100120Z",
     "shell.execute_reply.started": "2024-04-03T12:15:01.024832Z"
    }
   },
   "outputs": [
    {
     "name": "stdout",
     "output_type": "stream",
     "text": [
      "torch.Size([2, 1, 65, 66])\n",
      "torch.Size([2, 1, 33, 33])\n",
      "torch.Size([2, 1, 17, 18])\n",
      "torch.Size([2, 1, 9, 10])\n"
     ]
    }
   ],
   "source": [
    "n_mels = [65, 33, 17, 9]\n",
    "transforms = nn.ModuleList(\n",
    "    [\n",
    "        torchaudio.transforms.LFCC(\n",
    "            sample_rate=16000 // (16 * (4**i)),\n",
    "            n_lfcc=n_mels[i],\n",
    "            speckwargs={\n",
    "                \"n_fft\": 512 // ((2**i) * 4),\n",
    "                \"hop_length\": 187 // ((2**i) * 4),\n",
    "                \"center\": True,\n",
    "            },\n",
    "        )\n",
    "        for i in range(4)\n",
    "    ]\n",
    ")\n",
    "for i in range(4):\n",
    "    x = torch.randn(2, 1, 3000 // (4**i))\n",
    "    y = transforms[i](x)\n",
    "    print(y.shape)"
   ]
  }
 ],
 "metadata": {
  "kernelspec": {
   "display_name": "Python 3 (ipykernel)",
   "language": "python",
   "name": "python3"
  },
  "language_info": {
   "codemirror_mode": {
    "name": "ipython",
    "version": 3
   },
   "file_extension": ".py",
   "mimetype": "text/x-python",
   "name": "python",
   "nbconvert_exporter": "python",
   "pygments_lexer": "ipython3",
   "version": "3.9.18"
  }
 },
 "nbformat": 4,
 "nbformat_minor": 5
}
