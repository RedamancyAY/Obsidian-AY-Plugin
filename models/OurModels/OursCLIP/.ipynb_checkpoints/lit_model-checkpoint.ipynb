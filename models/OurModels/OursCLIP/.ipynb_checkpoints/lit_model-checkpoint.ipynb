{
 "cells": [
  {
   "cell_type": "code",
   "execution_count": 1,
   "id": "6119549b-3464-43a2-8ae5-bb05e15aa569",
   "metadata": {
    "execution": {
     "iopub.execute_input": "2024-04-18T13:21:43.651583Z",
     "iopub.status.busy": "2024-04-18T13:21:43.650993Z",
     "iopub.status.idle": "2024-04-18T13:21:43.695716Z",
     "shell.execute_reply": "2024-04-18T13:21:43.694134Z",
     "shell.execute_reply.started": "2024-04-18T13:21:43.651523Z"
    }
   },
   "outputs": [],
   "source": [
    "%load_ext autoreload\n",
    "%autoreload 2"
   ]
  },
  {
   "cell_type": "code",
   "execution_count": 36,
   "id": "eff92f4a-bdde-4bd8-8008-782eae02d02b",
   "metadata": {
    "execution": {
     "iopub.execute_input": "2024-04-19T02:22:32.258816Z",
     "iopub.status.busy": "2024-04-19T02:22:32.258186Z",
     "iopub.status.idle": "2024-04-19T02:22:32.331227Z",
     "shell.execute_reply": "2024-04-19T02:22:32.329574Z",
     "shell.execute_reply.started": "2024-04-19T02:22:32.258749Z"
    }
   },
   "outputs": [],
   "source": [
    "import glob\n",
    "import os\n",
    "import sys\n",
    "\n",
    "import librosa\n",
    "import librosa.display\n",
    "import matplotlib.pyplot as plt\n",
    "import numpy as np\n",
    "import pytorch_lightning as pl\n",
    "import torch\n",
    "import torch.nn as nn\n",
    "import torch.nn.functional as F\n",
    "import torchaudio\n",
    "import torchvision as tv\n",
    "from ay2.torch.deepfake_detection import DeepfakeAudioClassification\n",
    "from IPython.display import Audio, display\n",
    "from PIL import Image"
   ]
  },
  {
   "cell_type": "code",
   "execution_count": null,
   "id": "55dfb867-7cbe-423e-a68b-7cfe8d6a1b84",
   "metadata": {},
   "outputs": [],
   "source": [
    "from typing import List, Optional, Tuple, Union"
   ]
  },
  {
   "cell_type": "code",
   "execution_count": 11,
   "id": "5f2b9333-79f0-407f-8846-60e7b0f3f7c4",
   "metadata": {
    "editable": true,
    "execution": {
     "iopub.execute_input": "2024-04-18T13:26:30.185175Z",
     "iopub.status.busy": "2024-04-18T13:26:30.184533Z",
     "iopub.status.idle": "2024-04-18T13:26:30.514539Z",
     "shell.execute_reply": "2024-04-18T13:26:30.512551Z",
     "shell.execute_reply.started": "2024-04-18T13:26:30.185112Z"
    },
    "slideshow": {
     "slide_type": ""
    },
    "tags": []
   },
   "outputs": [],
   "source": [
    "try:\n",
    "    from .model import AudioCLIP\n",
    "except ImportError:\n",
    "    from model import AudioCLIP"
   ]
  },
  {
   "cell_type": "markdown",
   "id": "ec5b690c-b126-46c7-aebe-9ff75fe6763c",
   "metadata": {},
   "source": [
    "## 测试"
   ]
  },
  {
   "cell_type": "code",
   "execution_count": 18,
   "id": "804090dc-169c-40b2-a193-e37d06ddd36a",
   "metadata": {
    "editable": true,
    "execution": {
     "iopub.execute_input": "2024-04-18T13:30:05.324433Z",
     "iopub.status.busy": "2024-04-18T13:30:05.324058Z",
     "iopub.status.idle": "2024-04-18T13:30:08.101608Z",
     "shell.execute_reply": "2024-04-18T13:30:08.100190Z",
     "shell.execute_reply.started": "2024-04-18T13:30:05.324407Z"
    },
    "slideshow": {
     "slide_type": ""
    },
    "tags": [
     "active-ipynb",
     "style-solution"
    ]
   },
   "outputs": [
    {
     "data": {
      "text/plain": [
       "(tensor([[-0.0011, -0.0031,  0.0503,  ...,  0.0038,  0.0355,  0.0098],\n",
       "         [ 0.0010, -0.0029,  0.0508,  ...,  0.0046,  0.0359,  0.0090]],\n",
       "        grad_fn=<DivBackward0>),\n",
       " torch.Size([2, 1024]))"
      ]
     },
     "execution_count": 18,
     "metadata": {},
     "output_type": "execute_result"
    }
   ],
   "source": [
    "aclp = AudioCLIP(pretrained=\"/home/ay/data/DATA/0-model_weights/AudioClip/AudioCLIP-Full-Training.pt\")\n",
    "\n",
    "audio = torch.randn(2, 48000)\n",
    "image = torch.randn(2, 3, 224, 224)\n",
    "((audio_features, image_features, _), _), _ = aclp(audio=audio, image=image)\n",
    "audio_features, audio_features.shape"
   ]
  },
  {
   "cell_type": "markdown",
   "id": "18195735-3fb2-4597-b7f4-7d8488e1443e",
   "metadata": {},
   "source": [
    "## Lit model"
   ]
  },
  {
   "cell_type": "code",
   "execution_count": 34,
   "id": "d4ef9007-a547-4050-9d68-0b761306f594",
   "metadata": {
    "editable": true,
    "execution": {
     "iopub.execute_input": "2024-04-19T02:19:02.605245Z",
     "iopub.status.busy": "2024-04-19T02:19:02.604565Z",
     "iopub.status.idle": "2024-04-19T02:19:02.682372Z",
     "shell.execute_reply": "2024-04-19T02:19:02.680565Z",
     "shell.execute_reply.started": "2024-04-19T02:19:02.605180Z"
    },
    "slideshow": {
     "slide_type": ""
    },
    "tags": []
   },
   "outputs": [],
   "source": [
    "class AudioClip(nn.Module):\n",
    "    def __init__(self, **kwargs):\n",
    "        super().__init__()\n",
    "        self.model = AudioCLIP(pretrained=\"/home/ay/data/DATA/0-model_weights/AudioClip/AudioCLIP-Full-Training.pt\")\n",
    "        self.spectrogram = torchaudio.transforms.Spectrogram(n_fft=512, hop_length=187)\n",
    "        self.resize_transform = tv.transforms.Resize(224, antialias=True)\n",
    "        self.proj = nn.Linear(1024 * 2, 1)\n",
    "\n",
    "        self.cls_situation1 = nn.Linear(1024, 309)\n",
    "        self.cls_situation2 = nn.Linear(1024, 309)\n",
    "\n",
    "    def forward(self, x):\n",
    "        audio_features, image_features, logits_audio_image = self.extract_feature(x)\n",
    "        y = self.make_prediction(audio_features, image_features)\n",
    "        return y\n",
    "\n",
    "    def extract_spec(self, x, stage=\"test\"):\n",
    "        x = self.spectrogram(x)\n",
    "        x = torch.log(x + 1e-7)\n",
    "        x = (x - torch.mean(x, dim=(1, 2, 3), keepdim=True)) / (torch.std(x, dim=(1, 2, 3), keepdim=True) + 1e-9)\n",
    "        return x\n",
    "\n",
    "    def extract_feature(self, x):\n",
    "        spec = self.extract_spec(x)\n",
    "        spec = self.resize_transform(spec)\n",
    "        spec = torch.concat([spec, spec, spec], dim=1)\n",
    "        ((audio_features, image_features, _), logits), _ = self.model(audio=x, image=spec)\n",
    "        logits_audio_image, _, _ = logits\n",
    "        return audio_features, image_features, logits_audio_image\n",
    "\n",
    "    def make_prediction(self, audio_features, image_features):\n",
    "        feat = torch.concat([audio_features, image_features], dim=-1)\n",
    "        y = self.proj(feat)\n",
    "        return y"
   ]
  },
  {
   "cell_type": "code",
   "execution_count": 35,
   "id": "832f82c7-61e4-4962-92fc-9e28f9cb748f",
   "metadata": {
    "execution": {
     "iopub.execute_input": "2024-04-19T02:19:05.168438Z",
     "iopub.status.busy": "2024-04-19T02:19:05.167925Z",
     "iopub.status.idle": "2024-04-19T02:19:07.728172Z",
     "shell.execute_reply": "2024-04-19T02:19:07.727586Z",
     "shell.execute_reply.started": "2024-04-19T02:19:05.168388Z"
    },
    "scrolled": true
   },
   "outputs": [
    {
     "data": {
      "text/plain": [
       "tensor([[0.0353],\n",
       "        [0.0347]], grad_fn=<AddmmBackward0>)"
      ]
     },
     "execution_count": 35,
     "metadata": {},
     "output_type": "execute_result"
    }
   ],
   "source": [
    "model = AudioClip()\n",
    "x = torch.randn(2, 1, 48000)\n",
    "model(x)"
   ]
  },
  {
   "cell_type": "code",
   "execution_count": 21,
   "id": "ce3ed4f4-909c-4ce1-b4ca-e888af5b0aaf",
   "metadata": {
    "editable": true,
    "execution": {
     "iopub.execute_input": "2024-04-18T13:32:58.326642Z",
     "iopub.status.busy": "2024-04-18T13:32:58.326084Z",
     "iopub.status.idle": "2024-04-18T13:32:58.398370Z",
     "shell.execute_reply": "2024-04-18T13:32:58.396207Z",
     "shell.execute_reply.started": "2024-04-18T13:32:58.326587Z"
    },
    "slideshow": {
     "slide_type": ""
    },
    "tags": []
   },
   "outputs": [],
   "source": [
    "class OursCLIP_lit(DeepfakeAudioClassification):\n",
    "    def __init__(self, backend=\"linear\", cfg=None, args=None, **kwargs):\n",
    "        super().__init__()\n",
    "        self.args = args\n",
    "        self.cfg = cfg\n",
    "\n",
    "        self.model = AudioClip()\n",
    "\n",
    "        sd = torch.load(\n",
    "            \"/home/ay/data/DATA/1-model_save/00-Deepfake/1-df-audio/OursCLIP/VGGSound/version_1/checkpoints/best-epoch=5-val-loss=35.758720.ckpt\"\n",
    "        )\n",
    "        self.load_state_dict(sd[\"state_dict\"])\n",
    "\n",
    "        self.configure_loss_fn()\n",
    "        self.save_hyperparameters()\n",
    "\n",
    "    def configure_loss_fn(self):\n",
    "        self.bce_loss = nn.BCEWithLogitsLoss()\n",
    "        self.ce_loss = nn.CrossEntropyLoss()\n",
    "\n",
    "    def pretrain_loss(self, batch_res, batch):\n",
    "        label = batch[\"label\"]\n",
    "        clip_loss = self.clip_loss(batch_res[\"logits_audio_spec\"])\n",
    "\n",
    "        cls_loss_audio = self.ce_loss(self.model.cls_situation1(batch_res[\"audio_feat\"]), batch[\"label\"])\n",
    "        cls_loss_spec = self.ce_loss(self.model.cls_situation2(batch_res[\"spec_feat\"]), batch[\"label\"])\n",
    "        loss = clip_loss + 0.5 * (cls_loss_audio + cls_loss_spec)\n",
    "        losses = {\n",
    "            \"loss\": loss,\n",
    "            \"clip_loss\": clip_loss,\n",
    "            \"cls_loss_audio\": cls_loss_audio,\n",
    "            \"cls_loss_spec\": cls_loss_spec,\n",
    "        }\n",
    "        return losses\n",
    "\n",
    "    def calcuate_loss(self, batch_res, batch):\n",
    "        if \"VGGSound\" in self.args.cfg:\n",
    "            return self.pretrain_loss(batch_res, batch)\n",
    "\n",
    "        label = batch[\"label\"]\n",
    "        cls_loss = self.bce_loss(batch_res[\"logit\"], label.type(torch.float32))\n",
    "        clip_loss = self.clip_loss(batch_res[\"logits_audio_spec\"])\n",
    "\n",
    "        if self.trainer.current_epoch < -2:\n",
    "            loss = clip_loss\n",
    "        else:\n",
    "            loss = cls_loss + 0.5 * clip_loss\n",
    "\n",
    "        losses = {\"loss\": loss, \"cls_loss\": cls_loss, \"clip_loss\": clip_loss}\n",
    "        return losses\n",
    "\n",
    "    def configure_optimizers(self):\n",
    "        optimizer = torch.optim.Adam(self.model.parameters(), lr=0.0001, weight_decay=0.0001)\n",
    "        return [optimizer]\n",
    "\n",
    "    def _shared_pred(self, batch, batch_idx):\n",
    "        audio, sample_rate = batch[\"audio\"], batch[\"sample_rate\"]\n",
    "\n",
    "        audio_features, image_features, logits_audio_image = self.model.extract_feature(audio)\n",
    "        feat = torch.concat([audio_features, image_features], dim=-1)\n",
    "        out = self.model.make_prediction(audio_features, image_features)\n",
    "\n",
    "        out = out.squeeze(-1)\n",
    "        batch_pred = (torch.sigmoid(out) + 0.5).int()\n",
    "        return {\n",
    "            \"logit\": out,\n",
    "            \"pred\": batch_pred,\n",
    "            \"feature\": feat,\n",
    "            \"audio_feat\": audio_features,\n",
    "            \"spec_feat\": image_features,\n",
    "            \"logits_audio_spec\": logits_audio_image,\n",
    "        }\n",
    "\n",
    "    def clip_loss(self, logits, sample_weights=None) -> Optional[torch.Tensor]:\n",
    "        batch_size = logits.shape[0]\n",
    "\n",
    "        device = logits.device\n",
    "\n",
    "        reference = torch.arange(batch_size, dtype=torch.int64, device=device)\n",
    "\n",
    "        loss = torch.tensor(0.0, dtype=self.dtype, device=device)\n",
    "\n",
    "        num_modalities: int = 1\n",
    "        scale = torch.tensor(1.0, dtype=self.dtype, device=device)\n",
    "\n",
    "        loss = F.cross_entropy(logits, reference, weight=sample_weights) + F.cross_entropy(\n",
    "            logits.transpose(-1, -2), reference, weight=sample_weights\n",
    "        )\n",
    "\n",
    "        for idx in range(num_modalities):\n",
    "            scale = scale * (idx + 1)\n",
    "\n",
    "        return loss / scale"
   ]
  }
 ],
 "metadata": {
  "jupytext": {
   "formats": "ipynb,py:light"
  },
  "kernelspec": {
   "display_name": "Python 3 (ipykernel)",
   "language": "python",
   "name": "python3"
  },
  "language_info": {
   "codemirror_mode": {
    "name": "ipython",
    "version": 3
   },
   "file_extension": ".py",
   "mimetype": "text/x-python",
   "name": "python",
   "nbconvert_exporter": "python",
   "pygments_lexer": "ipython3",
   "version": "3.9.18"
  }
 },
 "nbformat": 4,
 "nbformat_minor": 5
}
