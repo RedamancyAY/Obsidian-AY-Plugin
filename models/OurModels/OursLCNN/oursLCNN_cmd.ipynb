{
 "cells": [
  {
   "cell_type": "code",
   "execution_count": null,
   "id": "84c76416-87fb-4785-bf9d-06053c04b731",
   "metadata": {},
   "outputs": [],
   "source": [
    "python train.py --gpu 1 --cfg 'OursLCNN/MLAAD_cross_lang'"
   ]
  }
 ],
 "metadata": {
  "kernelspec": {
   "display_name": "Python 3 (ipykernel)",
   "language": "python",
   "name": "python3"
  },
  "language_info": {
   "codemirror_mode": {
    "name": "ipython",
    "version": 3
   },
   "file_extension": ".py",
   "mimetype": "text/x-python",
   "name": "python",
   "nbconvert_exporter": "python",
   "pygments_lexer": "ipython3",
   "version": "3.9.18"
  }
 },
 "nbformat": 4,
 "nbformat_minor": 5
}
