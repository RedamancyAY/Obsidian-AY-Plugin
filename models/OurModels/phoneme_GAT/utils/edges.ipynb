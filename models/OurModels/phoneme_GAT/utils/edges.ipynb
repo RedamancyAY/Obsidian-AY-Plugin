{
 "cells": [
  {
   "cell_type": "code",
   "execution_count": 2,
   "id": "2273baaf-a6d7-40fe-8433-a20263db849a",
   "metadata": {
    "execution": {
     "iopub.execute_input": "2024-07-27T05:14:06.592074Z",
     "iopub.status.busy": "2024-07-27T05:14:06.591641Z",
     "iopub.status.idle": "2024-07-27T05:14:06.599523Z",
     "shell.execute_reply": "2024-07-27T05:14:06.597585Z",
     "shell.execute_reply.started": "2024-07-27T05:14:06.592045Z"
    }
   },
   "outputs": [],
   "source": [
    "import torch\n",
    "import numpy as np"
   ]
  },
  {
   "cell_type": "markdown",
   "id": "2b48e8ea-9ef9-452d-a12c-b7b24e375b8c",
   "metadata": {},
   "source": [
    "设，一个audio的所有帧（T）对应的phoneme ids是，并给出了audio长度为10：\n",
    "```python　\n",
    "predict_ids = torch.tensor([0, 0, 1, 1, 1, 2, 2, 2, 2, 2])\n",
    "audio_lengths = [10]\n",
    "```\n",
    "\n",
    "那么，建立单项边时，有两个操作：\n",
    "1. 添加所有邻接边：`0->1, 1->2, 2->3, ...`\n",
    "2. 对于一个phoneme，对接下来的N个phoneme都建立边：\n",
    "    - 以第1个node为例（index从0开始），设N=1，那么会新加边：`1->2, 1->3, 1->4`\n",
    "    - 以第3个node为例（index从0开始），设N=1，那么会新加边：`3->5,6,7,8,9`"
   ]
  },
  {
   "cell_type": "markdown",
   "id": "0c1ddec4-8e96-41bb-8d73-ddd05f48945b",
   "metadata": {},
   "source": [
    "# Step 1 "
   ]
  },
  {
   "cell_type": "markdown",
   "id": "89af2e28-0a2b-4e87-a7c3-1664d56b6bc6",
   "metadata": {},
   "source": [
    "使用arange可以很快地生成所有邻接边。"
   ]
  },
  {
   "cell_type": "code",
   "execution_count": 5,
   "id": "723deb96-8c0e-47d6-9124-3b3809ab51e1",
   "metadata": {
    "execution": {
     "iopub.execute_input": "2024-07-27T05:15:00.026139Z",
     "iopub.status.busy": "2024-07-27T05:15:00.025454Z",
     "iopub.status.idle": "2024-07-27T05:15:00.037786Z",
     "shell.execute_reply": "2024-07-27T05:15:00.035552Z",
     "shell.execute_reply.started": "2024-07-27T05:15:00.026077Z"
    }
   },
   "outputs": [],
   "source": [
    "def get_adj_edges(L: int, use_np=False):\n",
    "    if use_np:\n",
    "        adj_edges = np.stack([np.arange(L - 1), np.arange(1, L)])\n",
    "    else:\n",
    "        adj_edges = torch.stack([torch.arange(L - 1), torch.arange(1, L)])\n",
    "    return adj_edges"
   ]
  },
  {
   "cell_type": "code",
   "execution_count": 6,
   "id": "1233e063-cd3f-4493-a068-0ef886ba2490",
   "metadata": {
    "editable": true,
    "execution": {
     "iopub.execute_input": "2024-07-27T05:15:00.739115Z",
     "iopub.status.busy": "2024-07-27T05:15:00.738475Z",
     "iopub.status.idle": "2024-07-27T05:15:00.756649Z",
     "shell.execute_reply": "2024-07-27T05:15:00.754569Z",
     "shell.execute_reply.started": "2024-07-27T05:15:00.739052Z"
    },
    "scrolled": true,
    "slideshow": {
     "slide_type": ""
    },
    "tags": [
     "style-solution",
     "active-ipynb"
    ]
   },
   "outputs": [
    {
     "name": "stdout",
     "output_type": "stream",
     "text": [
      "tensor([[  0,   1,   2,   3,   4,   5,   6,   7,   8,   9,  10,  11,  12,  13,\n",
      "          14,  15,  16,  17,  18,  19,  20,  21,  22,  23,  24,  25,  26,  27,\n",
      "          28,  29,  30,  31,  32,  33,  34,  35,  36,  37,  38,  39,  40,  41,\n",
      "          42,  43,  44,  45,  46,  47,  48,  49,  50,  51,  52,  53,  54,  55,\n",
      "          56,  57,  58,  59,  60,  61,  62,  63,  64,  65,  66,  67,  68,  69,\n",
      "          70,  71,  72,  73,  74,  75,  76,  77,  78,  79,  80,  81,  82,  83,\n",
      "          84,  85,  86,  87,  88,  89,  90,  91,  92,  93,  94,  95,  96,  97,\n",
      "          98,  99, 100, 101, 102, 103, 104, 105, 106, 107, 108, 109, 110, 111,\n",
      "         112, 113, 114, 115, 116, 117, 118, 119, 120, 121, 122, 123, 124, 125,\n",
      "         126, 127, 128, 129, 130, 131, 132, 133, 134, 135, 136, 137, 138, 139,\n",
      "         140, 141, 142, 143, 144, 145, 146, 147],\n",
      "        [  1,   2,   3,   4,   5,   6,   7,   8,   9,  10,  11,  12,  13,  14,\n",
      "          15,  16,  17,  18,  19,  20,  21,  22,  23,  24,  25,  26,  27,  28,\n",
      "          29,  30,  31,  32,  33,  34,  35,  36,  37,  38,  39,  40,  41,  42,\n",
      "          43,  44,  45,  46,  47,  48,  49,  50,  51,  52,  53,  54,  55,  56,\n",
      "          57,  58,  59,  60,  61,  62,  63,  64,  65,  66,  67,  68,  69,  70,\n",
      "          71,  72,  73,  74,  75,  76,  77,  78,  79,  80,  81,  82,  83,  84,\n",
      "          85,  86,  87,  88,  89,  90,  91,  92,  93,  94,  95,  96,  97,  98,\n",
      "          99, 100, 101, 102, 103, 104, 105, 106, 107, 108, 109, 110, 111, 112,\n",
      "         113, 114, 115, 116, 117, 118, 119, 120, 121, 122, 123, 124, 125, 126,\n",
      "         127, 128, 129, 130, 131, 132, 133, 134, 135, 136, 137, 138, 139, 140,\n",
      "         141, 142, 143, 144, 145, 146, 147, 148]]) [[0 0 0 0 0 0 0 0 0 0 0 0 0 0 0 0 0 0 0 0 0 0 0 0 0 0 0 0 0 0 0 0 0 0 0 0\n",
      "  0 0 0 0 0 0 0 0 0 0 0 0 0 0 0 0 0 0 0 0 0 0 0 0 0 0 0 0 0 0 0 0 0 0 0 0\n",
      "  0 0 0 0 0 0 0 0 0 0 0 0 0 0 0 0 0 0 0 0 0 0 0 0 0 0 0 0 0 0 0 0 0 0 0 0\n",
      "  0 0 0 0 0 0 0 0 0 0 0 0 0 0 0 0 0 0 0 0 0 0 0 0 0 0 0 0 0 0 0 0 0 0 0 0\n",
      "  0 0 0 0]\n",
      " [0 0 0 0 0 0 0 0 0 0 0 0 0 0 0 0 0 0 0 0 0 0 0 0 0 0 0 0 0 0 0 0 0 0 0 0\n",
      "  0 0 0 0 0 0 0 0 0 0 0 0 0 0 0 0 0 0 0 0 0 0 0 0 0 0 0 0 0 0 0 0 0 0 0 0\n",
      "  0 0 0 0 0 0 0 0 0 0 0 0 0 0 0 0 0 0 0 0 0 0 0 0 0 0 0 0 0 0 0 0 0 0 0 0\n",
      "  0 0 0 0 0 0 0 0 0 0 0 0 0 0 0 0 0 0 0 0 0 0 0 0 0 0 0 0 0 0 0 0 0 0 0 0\n",
      "  0 0 0 0]]\n"
     ]
    }
   ],
   "source": [
    "L = 149\n",
    "adj_edges = get_adj_edges(L, use_np=0)\n",
    "adj_edges_np = get_adj_edges(L, use_np=1)\n",
    "print(adj_edges, adj_edges.numpy()-adj_edges_np)"
   ]
  },
  {
   "cell_type": "markdown",
   "id": "78cc83e9-fd1d-4508-b83e-05a4214c3295",
   "metadata": {},
   "source": [
    "## Step 2"
   ]
  },
  {
   "cell_type": "markdown",
   "id": "28ff9fe6-8b8c-439b-9462-222c720121ac",
   "metadata": {},
   "source": [
    "使用 `unique_consecutive`可以快速地查找所有不同的phoneme id，并定位其index范围。"
   ]
  },
  {
   "cell_type": "markdown",
   "id": "0bcfb7e3-d7b5-4768-bbe1-0360e61b9523",
   "metadata": {},
   "source": [
    "### 遍历　"
   ]
  },
  {
   "cell_type": "markdown",
   "id": "c3210621-bf18-44c9-bcb8-6449104032fc",
   "metadata": {},
   "source": [
    "下面这种遍历长度L的方法，耗时太长了"
   ]
  },
  {
   "cell_type": "markdown",
   "id": "42e6f786-5eae-4aed-af43-4ebe11e29051",
   "metadata": {},
   "source": [
    "#### torch"
   ]
  },
  {
   "cell_type": "code",
   "execution_count": 7,
   "id": "d73bc5f9-6c33-4f39-8bee-dfc8dfd60f98",
   "metadata": {
    "editable": true,
    "execution": {
     "iopub.execute_input": "2024-07-27T05:15:10.057495Z",
     "iopub.status.busy": "2024-07-27T05:15:10.056808Z",
     "iopub.status.idle": "2024-07-27T05:15:10.099281Z",
     "shell.execute_reply": "2024-07-27T05:15:10.097291Z",
     "shell.execute_reply.started": "2024-07-27T05:15:10.057431Z"
    },
    "slideshow": {
     "slide_type": ""
    },
    "tags": [
     "style-student",
     "active-ipynb"
    ]
   },
   "outputs": [],
   "source": [
    "# predict_ids = torch.tensor([0, 0, 1, 1, 1, 2, 2, 2, 2, 2, 3, 3])\n",
    "predict_ids = torch.randint(0, 3, (149,))\n",
    "\n",
    "N = 10\n",
    "\n",
    "output, inverse, counts = predict_ids.unique_consecutive(return_inverse=True, return_counts=True)\n",
    "cumsum_counts = torch.cumsum(counts, 0)\n",
    "# output, inverse, conuts, cumsum_counts\n",
    "\n",
    "edges = []\n",
    "for i in range(L):\n",
    "    unique_id = inverse[i]  # 0, 1, 2, 3,\n",
    "    unique_id_end_index = cumsum_counts[unique_id]\n",
    "    if unique_id == len(output) - 1:\n",
    "        break\n",
    "    next_id = min(len(output) - 1, unique_id + N)\n",
    "    next_end_index = cumsum_counts[next_id]\n",
    "    _edges = torch.stack(\n",
    "        [torch.full((next_end_index - unique_id_end_index,), i), torch.arange(unique_id_end_index, next_end_index)]\n",
    "    )\n",
    "    edges.append(_edges)\n",
    "edges = torch.concat(edges, 1)"
   ]
  },
  {
   "cell_type": "code",
   "execution_count": 8,
   "id": "1c47d5dc-3483-44f9-8449-7b0f1c4da414",
   "metadata": {
    "execution": {
     "iopub.execute_input": "2024-07-27T05:15:11.395398Z",
     "iopub.status.busy": "2024-07-27T05:15:11.394719Z",
     "iopub.status.idle": "2024-07-27T05:15:11.415577Z",
     "shell.execute_reply": "2024-07-27T05:15:11.413568Z",
     "shell.execute_reply.started": "2024-07-27T05:15:11.395335Z"
    }
   },
   "outputs": [
    {
     "data": {
      "text/plain": [
       "tensor([[  0,   0,   0,  ..., 145, 145, 145],\n",
       "        [  1,   2,   3,  ..., 146, 147, 148]])"
      ]
     },
     "execution_count": 8,
     "metadata": {},
     "output_type": "execute_result"
    }
   ],
   "source": [
    "edges"
   ]
  },
  {
   "cell_type": "markdown",
   "id": "8b5f600e-7eb1-47ee-89e7-4432cc142653",
   "metadata": {},
   "source": [
    "#### numpy "
   ]
  },
  {
   "cell_type": "markdown",
   "id": "b17d7495-7f1e-4926-8f12-a537169abc47",
   "metadata": {
    "execution": {
     "iopub.execute_input": "2024-07-27T05:01:22.043568Z",
     "iopub.status.busy": "2024-07-27T05:01:22.042857Z",
     "iopub.status.idle": "2024-07-27T05:01:22.055771Z",
     "shell.execute_reply": "2024-07-27T05:01:22.053283Z",
     "shell.execute_reply.started": "2024-07-27T05:01:22.043505Z"
    }
   },
   "source": [
    "首先，由于numpy中没有unique_consecutive这个函数，因此需要先实现他。"
   ]
  },
  {
   "cell_type": "code",
   "execution_count": 10,
   "id": "664f14dd-9e72-4b02-8966-22a3fc70e31f",
   "metadata": {
    "editable": true,
    "execution": {
     "iopub.execute_input": "2024-07-27T05:15:20.130644Z",
     "iopub.status.busy": "2024-07-27T05:15:20.130013Z",
     "iopub.status.idle": "2024-07-27T05:15:20.143817Z",
     "shell.execute_reply": "2024-07-27T05:15:20.141576Z",
     "shell.execute_reply.started": "2024-07-27T05:15:20.130585Z"
    },
    "slideshow": {
     "slide_type": ""
    },
    "tags": []
   },
   "outputs": [],
   "source": [
    "def unique_consecutive(x: np.ndarray):\n",
    "\n",
    "    output = [x[0]]\n",
    "    inverse = np.zeros_like(x)\n",
    "    counts = [1]\n",
    "\n",
    "    for i in range(1, len(x)):\n",
    "        if x[i] == output[-1]:\n",
    "            counts[-1] += 1\n",
    "        else:\n",
    "            output.append(x[i])\n",
    "            counts.append(1)\n",
    "        inverse[i] = len(output) -1\n",
    "    return np.array(output), inverse, np.array(counts)"
   ]
  },
  {
   "cell_type": "code",
   "execution_count": 9,
   "id": "29bb9221-1cd8-46a5-947f-f416ab079b63",
   "metadata": {
    "editable": true,
    "execution": {
     "iopub.execute_input": "2024-07-27T05:15:17.941734Z",
     "iopub.status.busy": "2024-07-27T05:15:17.941096Z",
     "iopub.status.idle": "2024-07-27T05:15:17.959163Z",
     "shell.execute_reply": "2024-07-27T05:15:17.957181Z",
     "shell.execute_reply.started": "2024-07-27T05:15:17.941675Z"
    },
    "slideshow": {
     "slide_type": ""
    },
    "tags": [
     "style-solution",
     "active-ipynb"
    ]
   },
   "outputs": [
    {
     "data": {
      "text/plain": [
       "(tensor([0, 1, 2, 3]),\n",
       " tensor([0, 0, 1, 1, 1, 2, 2, 2, 2, 2, 3, 3]),\n",
       " tensor([2, 3, 5, 2]))"
      ]
     },
     "execution_count": 9,
     "metadata": {},
     "output_type": "execute_result"
    }
   ],
   "source": [
    "predict_ids = torch.tensor([0, 0, 1, 1, 1, 2, 2, 2, 2, 2, 3, 3])\n",
    "output, inverse, counts = predict_ids.unique_consecutive(return_inverse=True, return_counts=True)\n",
    "output, inverse, counts"
   ]
  },
  {
   "cell_type": "code",
   "execution_count": null,
   "id": "6951e54f-5bdc-47ed-978d-4006249871ff",
   "metadata": {
    "editable": true,
    "execution": {
     "iopub.execute_input": "2024-07-27T05:00:38.453612Z",
     "iopub.status.busy": "2024-07-27T05:00:38.453010Z",
     "iopub.status.idle": "2024-07-27T05:00:38.472297Z",
     "shell.execute_reply": "2024-07-27T05:00:38.470279Z",
     "shell.execute_reply.started": "2024-07-27T05:00:38.453553Z"
    },
    "slideshow": {
     "slide_type": ""
    },
    "tags": [
     "active-ipynb",
     "style-solution"
    ]
   },
   "outputs": [
    {
     "data": {
      "text/plain": [
       "(array([0, 1, 2, 3]),\n",
       " array([0, 0, 1, 1, 1, 2, 2, 2, 2, 2, 3, 3]),\n",
       " array([2, 3, 5, 2]))"
      ]
     },
     "execution_count": 164,
     "metadata": {},
     "output_type": "execute_result"
    }
   ],
   "source": [
    "## 可以看到，和tensor版本的输出结果是一样的\n",
    "unique_consecutive(predict_ids.numpy())"
   ]
  },
  {
   "cell_type": "code",
   "execution_count": 205,
   "id": "f52279cf-c949-40ca-9420-2d493d5711b4",
   "metadata": {
    "editable": true,
    "execution": {
     "iopub.execute_input": "2024-07-27T05:12:00.239825Z",
     "iopub.status.busy": "2024-07-27T05:12:00.239554Z",
     "iopub.status.idle": "2024-07-27T05:12:00.393457Z",
     "shell.execute_reply": "2024-07-27T05:12:00.391792Z",
     "shell.execute_reply.started": "2024-07-27T05:12:00.239803Z"
    },
    "slideshow": {
     "slide_type": ""
    },
    "tags": [
     "style-student",
     "active-ipynb"
    ]
   },
   "outputs": [],
   "source": [
    "L = 149 * 64\n",
    "predict_ids = torch.randint(0, 3, (L,)).numpy()\n",
    "N = 10\n",
    "\n",
    "output, inverse, counts = unique_consecutive(predict_ids)\n",
    "cumsum_counts = np.cumsum(counts, 0)\n",
    "# output, inverse, conuts, cumsum_counts\n",
    "\n",
    "edges = []\n",
    "for i in range(L):\n",
    "    unique_id = inverse[i]  # 0, 1, 2, 3,\n",
    "    unique_id_end_index = cumsum_counts[unique_id]\n",
    "    if unique_id == len(output) - 1:\n",
    "        break\n",
    "    next_id = min(len(output) - 1, unique_id + N)\n",
    "    next_end_index = cumsum_counts[next_id]\n",
    "    _edges = np.stack(\n",
    "        [np.full((next_end_index - unique_id_end_index,), i), np.arange(unique_id_end_index, next_end_index)]\n",
    "    )\n",
    "    edges.append(_edges)\n",
    "edges = np.concatenate(edges, 1)"
   ]
  }
 ],
 "metadata": {
  "jupytext": {
   "formats": "ipynb,auto:light"
  },
  "kernelspec": {
   "display_name": "Python 3 (ipykernel)",
   "language": "python",
   "name": "python3"
  },
  "language_info": {
   "codemirror_mode": {
    "name": "ipython",
    "version": 3
   },
   "file_extension": ".py",
   "mimetype": "text/x-python",
   "name": "python",
   "nbconvert_exporter": "python",
   "pygments_lexer": "ipython3",
   "version": "3.9.18"
  }
 },
 "nbformat": 4,
 "nbformat_minor": 5
}
