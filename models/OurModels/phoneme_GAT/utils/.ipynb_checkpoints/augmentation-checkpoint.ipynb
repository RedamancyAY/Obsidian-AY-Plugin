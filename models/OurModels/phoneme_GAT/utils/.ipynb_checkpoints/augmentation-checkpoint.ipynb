{
 "cells": [
  {
   "cell_type": "code",
   "execution_count": 1,
   "id": "25d9b847-d5e4-4100-bfc3-589b83c059ce",
   "metadata": {
    "execution": {
     "iopub.execute_input": "2024-07-30T16:55:50.430953Z",
     "iopub.status.busy": "2024-07-30T16:55:50.430193Z",
     "iopub.status.idle": "2024-07-30T16:55:50.452217Z",
     "shell.execute_reply": "2024-07-30T16:55:50.451580Z",
     "shell.execute_reply.started": "2024-07-30T16:55:50.430907Z"
    }
   },
   "outputs": [],
   "source": [
    "%load_ext autoreload\n",
    "%autoreload 2"
   ]
  },
  {
   "cell_type": "code",
   "execution_count": 2,
   "id": "d75f4753-8ff9-4adf-8e77-c6532bdf09aa",
   "metadata": {
    "editable": true,
    "execution": {
     "iopub.execute_input": "2024-07-30T16:55:51.202274Z",
     "iopub.status.busy": "2024-07-30T16:55:51.201833Z",
     "iopub.status.idle": "2024-07-30T16:55:52.638316Z",
     "shell.execute_reply": "2024-07-30T16:55:52.637419Z",
     "shell.execute_reply.started": "2024-07-30T16:55:51.202235Z"
    },
    "slideshow": {
     "slide_type": ""
    },
    "tags": []
   },
   "outputs": [],
   "source": [
    "import random\n",
    "import time\n",
    "\n",
    "import numpy as np\n",
    "import torch\n",
    "from ay2.tools import TimerContextManager"
   ]
  },
  {
   "cell_type": "markdown",
   "id": "654a2fe2-0815-476f-bf97-859a46fb1e4d",
   "metadata": {},
   "source": [
    "每个audio的frames个数都是$T$，为了避免unique_consecutive把不同的audio的phoneme给合并了，给每个audio padding了一个frame，因此每个audio的frames个数变成了$T+1$。\n",
    "\n",
    "设对batch的phoneme ids进行unique_consecutive之后，共有N个phonemes，那么`get_phonme_id_mapping`的作用就是计算出，对于reduced的第$i$个phoneme，其对应的：\n",
    "1. 音频样本的id，$0<=id<B$\n",
    "2. 在音频样本中，该phoneme对应哪些音频frames，$s:e$\n",
    "3. 它是音频样本的第几个phoneme"
   ]
  },
  {
   "cell_type": "code",
   "execution_count": 71,
   "id": "b9ce1ce4-88fe-48e7-94dd-0d7bb49ea3d7",
   "metadata": {
    "execution": {
     "iopub.execute_input": "2024-07-30T17:19:06.249877Z",
     "iopub.status.busy": "2024-07-30T17:19:06.249592Z",
     "iopub.status.idle": "2024-07-30T17:19:06.279279Z",
     "shell.execute_reply": "2024-07-30T17:19:06.278124Z",
     "shell.execute_reply.started": "2024-07-30T17:19:06.249854Z"
    }
   },
   "outputs": [],
   "source": [
    "def get_phonme_id_mapping(cumsum_counts, T):\n",
    "    \"\"\"\n",
    "    id_to_index_range is a tensor with (L, 4), where each row (a, b, c, d)\n",
    "    - a: the audio sample id\n",
    "    - b, c: the phoneme id range in the audio frames, 1 phoneme may contain multiple frames\n",
    "    - d: the n-th phoneme in current audio sample\n",
    "    \"\"\"\n",
    "    id_to_index_range = torch.zeros(len(cumsum_counts), 4, dtype=torch.int32, device=cumsum_counts.device)\n",
    "    id_to_index_range[:, 0] = (cumsum_counts - 1) // (T + 1)\n",
    "    id_to_index_range[1:, 1] = cumsum_counts[:-1] % (T + 1)\n",
    "    id_to_index_range[:, 2] = (cumsum_counts - 1) % (T + 1) + 1\n",
    "\n",
    "    _, nums = id_to_index_range[:, 0].unique_consecutive(return_counts=True)\n",
    "    id_to_index_range[:, 3] = torch.concat([torch.arange(x) for x in nums])\n",
    "\n",
    "\n",
    "    # _n = 0\n",
    "    # for i in range(1, len(cumsum_counts)):\n",
    "    #     if id_to_index_range[i, 0] != id_to_index_range[i-1, 0]:\n",
    "    #         _n = 0\n",
    "    #     id_to_index_range[i, 3] = _n\n",
    "    #     _n += 1\n",
    "\n",
    "    # with open('text.txt', 'w') as f:\n",
    "    # for i in range(len(cumsum_counts)):\n",
    "    # print(id_to_index_range[i], file=f)\n",
    "    return id_to_index_range"
   ]
  },
  {
   "cell_type": "markdown",
   "id": "325fb664-026c-4617-9010-b6833307c273",
   "metadata": {
    "tags": []
   },
   "source": [
    "测试"
   ]
  },
  {
   "cell_type": "code",
   "execution_count": 72,
   "id": "0ced8a0a-a6fe-40a0-b1b7-c646b285b0ef",
   "metadata": {
    "editable": true,
    "execution": {
     "iopub.execute_input": "2024-07-30T17:19:07.528422Z",
     "iopub.status.busy": "2024-07-30T17:19:07.527713Z",
     "iopub.status.idle": "2024-07-30T17:19:07.591405Z",
     "shell.execute_reply": "2024-07-30T17:19:07.589898Z",
     "shell.execute_reply.started": "2024-07-30T17:19:07.528372Z"
    },
    "scrolled": true,
    "slideshow": {
     "slide_type": ""
    },
    "tags": [
     "active-ipynb",
     "style-solution"
    ]
   },
   "outputs": [
    {
     "name": "stdout",
     "output_type": "stream",
     "text": [
      "CPU times: user 5.03 ms, sys: 266 µs, total: 5.3 ms\n",
      "Wall time: 5.3 ms\n",
      "tensor([[ 0,  0,  1,  0],\n",
      "        [ 0,  1,  2,  1],\n",
      "        [ 0,  2,  3,  2],\n",
      "        [ 0,  3,  6,  3],\n",
      "        [ 0,  6,  8,  4],\n",
      "        [ 0,  8, 10,  5],\n",
      "        [ 0, 10, 11,  6],\n",
      "        [ 1,  0,  2,  0],\n",
      "        [ 1,  2,  3,  1],\n",
      "        [ 1,  3, 10,  2],\n",
      "        [ 1, 10, 11,  3],\n",
      "        [ 2,  0,  1,  0],\n",
      "        [ 2,  1,  2,  1],\n",
      "        [ 2,  2,  5,  2],\n",
      "        [ 2,  5,  6,  3],\n",
      "        [ 2,  6,  7,  4],\n",
      "        [ 2,  7, 10,  5],\n",
      "        [ 2, 10, 11,  6]], device='cuda:0', dtype=torch.int32)\n"
     ]
    }
   ],
   "source": [
    "# B, T = 64, 149\n",
    "B, T = 3, 10\n",
    "phoneme_ids = torch.randint(0, 2, (B, T)).type(torch.int64).cuda()\n",
    "phoneme_ids = torch.concat([phoneme_ids, torch.ones(B, 1, device=phoneme_ids.device) * -1], dim=-1)\n",
    "reduced_phoneme_ids, inverse, counts = phoneme_ids.unique_consecutive(return_inverse=True, return_counts=True)\n",
    "# print(phoneme_ids)\n",
    "%time phoneme_id_to_index_range = get_phonme_id_mapping(cumsum_counts=torch.cumsum(counts, 0), T=T)\n",
    "print(phoneme_id_to_index_range)"
   ]
  },
  {
   "cell_type": "markdown",
   "id": "7ae9bf5f-3984-4127-8971-a8d378ee643d",
   "metadata": {},
   "source": [
    "对于一个batch，计算每个音频样本$i$，在reduced的phoneme ids中，phoneme id的起始和结束的index范围是多少："
   ]
  },
  {
   "cell_type": "code",
   "execution_count": 7,
   "id": "be6ae996-df62-4462-aef4-f414b1d2b4bc",
   "metadata": {
    "execution": {
     "iopub.execute_input": "2024-07-30T16:56:24.339658Z",
     "iopub.status.busy": "2024-07-30T16:56:24.338520Z",
     "iopub.status.idle": "2024-07-30T16:56:24.387920Z",
     "shell.execute_reply": "2024-07-30T16:56:24.386475Z",
     "shell.execute_reply.started": "2024-07-30T16:56:24.339593Z"
    }
   },
   "outputs": [],
   "source": [
    "def get_sample_index_range_in_phonemes(samples):\n",
    "    change_indices = torch.nonzero(samples[1:] != samples[:-1], as_tuple=False)[:, 0] + 1\n",
    "    # Start indices for each unique value\n",
    "    start_indices = torch.cat((torch.tensor([0], device=change_indices.device), change_indices))\n",
    "    # End indices for each unique value\n",
    "    ## 这里减1是为了忽略那个padding的frame\n",
    "    end_indices = torch.cat((change_indices - 1, torch.tensor([len(samples) - 1], device=change_indices.device)))\n",
    "    # Create a dictionary to store index ranges\n",
    "    index_ranges = {\n",
    "        value.item(): (start.item(), end.item())\n",
    "        for value, start, end in zip(samples[start_indices], start_indices, end_indices)\n",
    "    }\n",
    "    return index_ranges"
   ]
  },
  {
   "cell_type": "markdown",
   "id": "74fd121c-9986-484f-944f-c121932efdc5",
   "metadata": {
    "tags": [
     "style-solution"
    ]
   },
   "source": [
    "测试"
   ]
  },
  {
   "cell_type": "code",
   "execution_count": 8,
   "id": "50b73d70-5b87-4bbd-b645-5f5c7960bf14",
   "metadata": {
    "editable": true,
    "execution": {
     "iopub.execute_input": "2024-07-30T16:56:25.845495Z",
     "iopub.status.busy": "2024-07-30T16:56:25.844120Z",
     "iopub.status.idle": "2024-07-30T16:56:25.964522Z",
     "shell.execute_reply": "2024-07-30T16:56:25.963374Z",
     "shell.execute_reply.started": "2024-07-30T16:56:25.845433Z"
    },
    "lines_to_next_cell": 0,
    "slideshow": {
     "slide_type": ""
    },
    "tags": [
     "style-solution",
     "active-ipynb"
    ]
   },
   "outputs": [
    {
     "name": "stdout",
     "output_type": "stream",
     "text": [
      "CPU times: user 51.1 ms, sys: 26.1 ms, total: 77.2 ms\n",
      "Wall time: 76 ms\n",
      "{0: (0, 6), 1: (7, 15), 2: (16, 20)}\n"
     ]
    }
   ],
   "source": [
    "%time index_ranges = get_sample_index_range_in_phonemes(phoneme_id_to_index_range[:, 0])\n",
    "print(index_ranges)"
   ]
  },
  {
   "cell_type": "code",
   "execution_count": null,
   "id": "4f6ec000-f171-4df6-8a13-be7801c22c32",
   "metadata": {
    "lines_to_next_cell": 2
   },
   "outputs": [],
   "source": []
  },
  {
   "cell_type": "code",
   "execution_count": 9,
   "id": "09eb8fe1-ba35-4266-9dea-85a068126e81",
   "metadata": {
    "execution": {
     "iopub.execute_input": "2024-07-30T16:56:29.140364Z",
     "iopub.status.busy": "2024-07-30T16:56:29.139818Z",
     "iopub.status.idle": "2024-07-30T16:56:29.177947Z",
     "shell.execute_reply": "2024-07-30T16:56:29.176500Z",
     "shell.execute_reply.started": "2024-07-30T16:56:29.140330Z"
    }
   },
   "outputs": [],
   "source": [
    "# 查找每个phoneme同类的index\n",
    "def find_same_phoneme_ids(reduced_phoneme_ids):\n",
    "    same_phoneme_id_index = {}\n",
    "    for i, x in enumerate(reduced_phoneme_ids.cpu().numpy()):\n",
    "        same_phoneme_id_index.setdefault(x, []).append(i)\n",
    "    return same_phoneme_id_index"
   ]
  },
  {
   "cell_type": "markdown",
   "id": "87d631dd-04f1-49a6-8089-1faa927e497e",
   "metadata": {
    "tags": []
   },
   "source": [
    "测试"
   ]
  },
  {
   "cell_type": "code",
   "execution_count": 10,
   "id": "72dd0de9-18ae-4a9f-8bb7-9c9f1b954b3c",
   "metadata": {
    "editable": true,
    "execution": {
     "iopub.execute_input": "2024-07-30T16:56:30.319230Z",
     "iopub.status.busy": "2024-07-30T16:56:30.317831Z",
     "iopub.status.idle": "2024-07-30T16:56:30.360041Z",
     "shell.execute_reply": "2024-07-30T16:56:30.358592Z",
     "shell.execute_reply.started": "2024-07-30T16:56:30.319137Z"
    },
    "scrolled": true,
    "slideshow": {
     "slide_type": ""
    },
    "tags": [
     "style-solution",
     "active-ipynb"
    ]
   },
   "outputs": [
    {
     "name": "stdout",
     "output_type": "stream",
     "text": [
      "CPU times: user 113 µs, sys: 191 µs, total: 304 µs\n",
      "Wall time: 320 µs\n",
      "{1.0: [0, 2, 4, 7, 9, 11, 13, 17, 19], 0.0: [1, 3, 5, 8, 10, 12, 14, 16, 18], -1.0: [6, 15, 20]}\n"
     ]
    }
   ],
   "source": [
    "%time same_phoneme_id_index = find_same_phoneme_ids(reduced_phoneme_ids)\n",
    "print(same_phoneme_id_index)"
   ]
  },
  {
   "cell_type": "markdown",
   "id": "b53f5b30-eb10-4cc2-b68f-79aee0a7fd64",
   "metadata": {},
   "source": [
    "# 整合　"
   ]
  },
  {
   "cell_type": "code",
   "execution_count": 76,
   "id": "623dc574-b46d-4cb2-aab7-c86261d3bacd",
   "metadata": {
    "editable": true,
    "execution": {
     "iopub.execute_input": "2024-07-30T17:19:22.266827Z",
     "iopub.status.busy": "2024-07-30T17:19:22.266432Z",
     "iopub.status.idle": "2024-07-30T17:19:22.389775Z",
     "shell.execute_reply": "2024-07-30T17:19:22.388521Z",
     "shell.execute_reply.started": "2024-07-30T17:19:22.266790Z"
    },
    "slideshow": {
     "slide_type": ""
    },
    "tags": [
     "style-solution",
     "active-ipynb"
    ]
   },
   "outputs": [],
   "source": [
    "B, T = 64, 149\n",
    "# B, T = 3, 10\n",
    "\n",
    "hidden_states = torch.randn(B, T, 768).cuda()\n",
    "audio_lengths = torch.randint(T - 10, T, (B,)).cuda()\n",
    "phoneme_ids = torch.randint(0, 10, (B, T)).type(torch.int64).cuda()\n",
    "languages = torch.randint(0, 3, (B,)).cuda()"
   ]
  },
  {
   "cell_type": "code",
   "execution_count": 83,
   "id": "89e8b2f7-6817-47e0-a225-996ae7c68d9f",
   "metadata": {
    "editable": true,
    "execution": {
     "iopub.execute_input": "2024-07-30T17:24:00.902091Z",
     "iopub.status.busy": "2024-07-30T17:24:00.901445Z",
     "iopub.status.idle": "2024-07-30T17:24:00.962498Z",
     "shell.execute_reply": "2024-07-30T17:24:00.960780Z",
     "shell.execute_reply.started": "2024-07-30T17:24:00.902030Z"
    },
    "slideshow": {
     "slide_type": ""
    },
    "tags": []
   },
   "outputs": [],
   "source": [
    "def aug_hidden_states(hidden_states, audio_lengths, phoneme_ids, languages=None, p=0.2, *args, **kwargs):\n",
    "    B, T = hidden_states.shape[0], hidden_states.shape[1]\n",
    "\n",
    "    hidden_states = torch.concat([hidden_states, torch.ones(B, 1, 768, device=hidden_states.device)], dim=1)\n",
    "    phoneme_ids = torch.concat([phoneme_ids, torch.ones(B, 1, device=phoneme_ids.device) * -1], dim=-1)\n",
    "\n",
    "    reduced_phoneme_ids, inverse, counts = phoneme_ids.unique_consecutive(return_inverse=True, return_counts=True)\n",
    "    phoneme_id_to_index_range = get_phonme_id_mapping(cumsum_counts=torch.cumsum(counts, 0), T=T)\n",
    "    sample_index_ranges = get_sample_index_range_in_phonemes(phoneme_id_to_index_range[:, 0])\n",
    "    same_phoneme_id_index = find_same_phoneme_ids(reduced_phoneme_ids)\n",
    "\n",
    "    labels = torch.zeros_like(reduced_phoneme_ids)\n",
    "    new_audio_lengths = torch.zeros_like(audio_lengths)  # actually phoneme ids length\n",
    "\n",
    "    with TimerContextManager(debug=False):\n",
    "        _phoneme_ids = reduced_phoneme_ids.cpu().numpy()\n",
    "        L = len(_phoneme_ids)\n",
    "        replaced_index = np.arange(L)\n",
    "        probs = np.random.rand(L)\n",
    "        filtered_index = np.nonzero(_phoneme_ids < 4)[0]\n",
    "\n",
    "        choices = np.random.randint(100, 1000, L)\n",
    "\n",
    "        for i in filtered_index:\n",
    "            if probs[i] <= p:\n",
    "                # replaced_index[i] = random.choice(filter_list)\n",
    "                x = _phoneme_ids[i]\n",
    "                _list = same_phoneme_id_index[x]\n",
    "                _len = len(_list)\n",
    "                _replace = choices[i] % _len\n",
    "                if _list[_replace] == i:\n",
    "                    replaced_index[i] = _list[(_replace + 1) % _len]\n",
    "                else:\n",
    "                    replaced_index[i] = _list[_replace]\n",
    "                # print(i, x, replaced_index[i])\n",
    "\n",
    "    labels[replaced_index != np.arange(L)] = 1\n",
    "    labels = labels[reduced_phoneme_ids != -1]\n",
    "\n",
    "    split_hidden_states = list(torch.split(hidden_states.view(-1, 768), tuple(counts.cpu().numpy())))\n",
    "    splits = []\n",
    "    for i in range(B):\n",
    "        s, e = sample_index_ranges[i]\n",
    "        splits.append([])\n",
    "        splits[i] = torch.concat([split_hidden_states[j] for j in replaced_index[s:e]])\n",
    "        new_audio_lengths[i] = splits[i].shape[0]\n",
    "        # print(s, e, e-s, new_audio_lengths[i], splits[i].shape)\n",
    "    aug_hidden_states = torch.nn.utils.rnn.pad_sequence(splits, batch_first=True)\n",
    "\n",
    "\n",
    "    new_phoneme_ids = []\n",
    "    for i in range(B):\n",
    "        new_phoneme_ids.append([])\n",
    "        s, e = sample_index_ranges[i]\n",
    "        for j in replaced_index[s:e]:\n",
    "            new_phoneme_ids[i] += [_phoneme_ids[j]] * counts[j]\n",
    "            # print(i, j, len(new_phoneme_ids[i]), s, e)\n",
    "        new_phoneme_ids[i] = torch.tensor(new_phoneme_ids[i])\n",
    "    new_phoneme_ids = torch.nn.utils.rnn.pad_sequence(new_phoneme_ids, batch_first=True).to(phoneme_ids.device)\n",
    "\n",
    "    # print(aug_hidden_states.shape, labels.shape, new_audio_lengths.sum(), new_phoneme_ids.shape)\n",
    "    return aug_hidden_states, labels, new_audio_lengths, new_phoneme_ids"
   ]
  },
  {
   "cell_type": "code",
   "execution_count": 84,
   "id": "a3a6d197-c2d2-4236-8f9f-6b4b67b03e8b",
   "metadata": {
    "editable": true,
    "execution": {
     "iopub.execute_input": "2024-07-30T17:24:01.876806Z",
     "iopub.status.busy": "2024-07-30T17:24:01.876205Z",
     "iopub.status.idle": "2024-07-30T17:24:02.368764Z",
     "shell.execute_reply": "2024-07-30T17:24:02.367549Z",
     "shell.execute_reply.started": "2024-07-30T17:24:01.876747Z"
    },
    "scrolled": true,
    "slideshow": {
     "slide_type": ""
    },
    "tags": [
     "active-ipynb",
     "style-solution"
    ]
   },
   "outputs": [],
   "source": [
    "_hidden_states, labels, new_audio_lengths, new_phoneme_ids = aug_hidden_states(\n",
    "    hidden_states, audio_lengths, phoneme_ids, p=0.2\n",
    ")"
   ]
  },
  {
   "cell_type": "code",
   "execution_count": 85,
   "id": "a8b0f424-c06a-4b40-92d9-7f8bb8888f2a",
   "metadata": {
    "editable": true,
    "execution": {
     "iopub.execute_input": "2024-07-30T17:24:06.116413Z",
     "iopub.status.busy": "2024-07-30T17:24:06.116143Z",
     "iopub.status.idle": "2024-07-30T17:24:06.281746Z",
     "shell.execute_reply": "2024-07-30T17:24:06.280573Z",
     "shell.execute_reply.started": "2024-07-30T17:24:06.116390Z"
    },
    "slideshow": {
     "slide_type": ""
    },
    "tags": [
     "style-solution",
     "active-ipynb"
    ]
   },
   "outputs": [
    {
     "data": {
      "text/plain": [
       "9537"
      ]
     },
     "execution_count": 85,
     "metadata": {},
     "output_type": "execute_result"
    }
   ],
   "source": [
    "phoneme_counts = []\n",
    "for i in range(len(new_audio_lengths)):\n",
    "    _phoneme_ids = new_phoneme_ids[i, : new_audio_lengths[i]]\n",
    "    # _h = hidden_states[i, : audio_lengths[i]]\n",
    "    unique_ids, _phoneme_counts = _phoneme_ids.unique_consecutive(return_counts=True)\n",
    "    # print(_phoneme_counts)\n",
    "    phoneme_counts += _phoneme_counts.tolist()\n",
    "\n",
    "sum(phoneme_counts)"
   ]
  }
 ],
 "metadata": {
  "jupytext": {
   "formats": "ipynb,py:light"
  },
  "kernelspec": {
   "display_name": "Python 3 (ipykernel)",
   "language": "python",
   "name": "python3"
  },
  "language_info": {
   "codemirror_mode": {
    "name": "ipython",
    "version": 3
   },
   "file_extension": ".py",
   "mimetype": "text/x-python",
   "name": "python",
   "nbconvert_exporter": "python",
   "pygments_lexer": "ipython3",
   "version": "3.9.18"
  }
 },
 "nbformat": 4,
 "nbformat_minor": 5
}
