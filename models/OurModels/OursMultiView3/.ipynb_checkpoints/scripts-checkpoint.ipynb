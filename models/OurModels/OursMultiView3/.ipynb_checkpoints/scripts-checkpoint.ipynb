{
 "cells": [
  {
   "cell_type": "code",
   "execution_count": 1,
   "id": "7c96c742-fc69-4cf3-8421-88263235303e",
   "metadata": {
    "execution": {
     "iopub.execute_input": "2024-08-10T10:22:07.131015Z",
     "iopub.status.busy": "2024-08-10T10:22:07.130392Z",
     "iopub.status.idle": "2024-08-10T10:22:08.567996Z",
     "shell.execute_reply": "2024-08-10T10:22:08.566739Z",
     "shell.execute_reply.started": "2024-08-10T10:22:07.130953Z"
    }
   },
   "outputs": [],
   "source": [
    "import torch"
   ]
  },
  {
   "cell_type": "markdown",
   "id": "4a598134-7f71-4952-9933-8fd3c43315e0",
   "metadata": {},
   "source": [
    "# Scripts for other models"
   ]
  },
  {
   "cell_type": "code",
   "execution_count": 22,
   "id": "e1cbf7c9-7a47-4c19-b4eb-455bf7428e04",
   "metadata": {
    "editable": true,
    "execution": {
     "iopub.execute_input": "2024-08-15T17:38:27.036647Z",
     "iopub.status.busy": "2024-08-15T17:38:27.035089Z",
     "iopub.status.idle": "2024-08-15T17:38:27.054218Z",
     "shell.execute_reply": "2024-08-15T17:38:27.052905Z",
     "shell.execute_reply.started": "2024-08-15T17:38:27.036578Z"
    },
    "slideshow": {
     "slide_type": ""
    },
    "tags": []
   },
   "outputs": [
    {
     "name": "stdout",
     "output_type": "stream",
     "text": [
      "python train.py --gpu 0 --cfg 'OursMultiView3/ASV2019_LA'  -v 0;\\\n",
      "python train.py --gpu 0 --cfg 'OursMultiView3/ASV2019_LA'  -t 1 -v 0;\\\n",
      "python train.py --gpu 0 --cfg 'OursMultiView3/ASV2019_LA'  -v 1;\\\n",
      "python train.py --gpu 0 --cfg 'OursMultiView3/ASV2019_LA'  -t 1 -v 1;\\\n",
      "python train.py --gpu 0 --cfg 'OursMultiView3/ASV2019_LA'  -v 2;\\\n",
      "python train.py --gpu 0 --cfg 'OursMultiView3/ASV2019_LA'  -t 1 -v 2;\\\n",
      "python train.py --gpu 0 --cfg 'OursMultiView3/ASV2021_LA'  -v 0;\\\n",
      "python train.py --gpu 0 --cfg 'OursMultiView3/ASV2021_LA'  -t 1 -v 0;\\\n",
      "python train.py --gpu 0 --cfg 'OursMultiView3/ASV2021_LA'  -v 1;\\\n",
      "python train.py --gpu 0 --cfg 'OursMultiView3/ASV2021_LA'  -t 1 -v 1;\\\n",
      "python train.py --gpu 0 --cfg 'OursMultiView3/ASV2021_LA'  -v 2;\\\n",
      "python train.py --gpu 0 --cfg 'OursMultiView3/ASV2021_LA'  -t 1 -v 2;\\\n",
      "python train.py --gpu 0 --cfg 'OursMultiView3/ASV2021_inner'  -v 0;\\\n",
      "python train.py --gpu 0 --cfg 'OursMultiView3/ASV2021_inner'  -t 1 -v 0;\\\n",
      "python train.py --gpu 0 --cfg 'OursMultiView3/ASV2021_inner'  -t 1 -v 0 --test_noise 1 --test_noise_level 20 --test_noise_type 'bg';\\\n",
      "python train.py --gpu 0 --cfg 'OursMultiView3/ASV2021_inner'  -v 1;\\\n",
      "python train.py --gpu 0 --cfg 'OursMultiView3/ASV2021_inner'  -t 1 -v 1;\\\n",
      "python train.py --gpu 0 --cfg 'OursMultiView3/ASV2021_inner'  -t 1 -v 1 --test_noise 1 --test_noise_level 20 --test_noise_type 'bg';\\\n",
      "python train.py --gpu 0 --cfg 'OursMultiView3/ASV2021_inner'  -v 2;\\\n",
      "python train.py --gpu 0 --cfg 'OursMultiView3/ASV2021_inner'  -t 1 -v 2;\\\n",
      "python train.py --gpu 0 --cfg 'OursMultiView3/ASV2021_inner'  -t 1 -v 2 --test_noise 1 --test_noise_level 20 --test_noise_type 'bg';\\\n",
      "python train.py --gpu 0 --cfg 'OursMultiView3/MLAAD_cross_lang'  --min_epoch 5  -v 0;\\\n",
      "python train.py --gpu 0 --cfg 'OursMultiView3/MLAAD_cross_lang'  -t 1 -v 0;\\\n",
      "python train.py --gpu 0 --cfg 'OursMultiView3/MLAAD_cross_lang'  --min_epoch 5  -v 1;\\\n",
      "python train.py --gpu 0 --cfg 'OursMultiView3/MLAAD_cross_lang'  -t 1 -v 1;\\\n",
      "python train.py --gpu 0 --cfg 'OursMultiView3/MLAAD_cross_lang'  --min_epoch 5  -v 2;\\\n",
      "python train.py --gpu 0 --cfg 'OursMultiView3/MLAAD_cross_lang'  -t 1 -v 2;\\\n"
     ]
    }
   ],
   "source": [
    "model_first = 1\n",
    "models = [\n",
    "    \"OursMultiView3\",\n",
    "]\n",
    "tasks = [\n",
    "    \"ASV2019_LA\",\n",
    "    \"ASV2021_LA\",\n",
    "    'ASV2021_inner',\n",
    "    \"MLAAD_cross_lang\",\n",
    "]\n",
    "model_task = [{\"model\": x, \"task\": y} for x in models for y in tasks]\n",
    "if model_first:\n",
    "    model_task = sorted(model_task, key=lambda x: x[\"model\"])\n",
    "else:\n",
    "    model_task = sorted(model_task, key=lambda x: x[\"task\"])\n",
    "\n",
    "\n",
    "test = 0\n",
    "gpu = [0]*10\n",
    "versions = [0, 1, 2]\n",
    "for i, item in enumerate(model_task):\n",
    "    model, task = item[\"model\"], item[\"task\"]\n",
    "    for v in versions:\n",
    "        suffix = ' --min_epoch 5 ' if task == \"MLAAD_cross_lang\" else ''\n",
    "        # suffix = ' --min_epoch 5 ' if task == \"MLAAD_cross_lang\" else ''\n",
    "        print(f\"python train.py --gpu {gpu[i]} --cfg '{model}/{task}' {suffix} -v {v};\\\\\")\n",
    "        print(f\"python train.py --gpu {gpu[i]} --cfg '{model}/{task}'  -t 1 -v {v};\\\\\")\n",
    "        if task == \"ASV2021_inner\":\n",
    "            print(f\"python train.py --gpu {gpu[i]} --cfg '{model}/{task}'  -t 1 -v {v} --test_noise 1 --test_noise_level 20 --test_noise_type 'bg';\\\\\")\n"
   ]
  },
  {
   "cell_type": "code",
   "execution_count": null,
   "id": "db94a007-69a0-4064-8e5f-141245c2a8b8",
   "metadata": {},
   "outputs": [],
   "source": [
    "python train.py --gpu 0 --cfg 'OursMultiView3/ASV2021_LA'  -t 1 -v 0 --filter_ASV2021 1;\n",
    "python train.py --gpu 0 --cfg 'OursMultiView3/ASV2021_LA'  -t 1 -v 1 --filter_ASV2021 1;\n",
    "python train.py --gpu 0 --cfg 'OursMultiView3/ASV2021_LA'  -t 1 -v 2 --filter_ASV2021 1;\n",
    "python train.py --gpu 3 --cfg 'OursMultiView3/ASV2021_LA'  -t 1 -v 3 --filter_ASV2021 1;"
   ]
  },
  {
   "cell_type": "code",
   "execution_count": null,
   "id": "446dde3f-3275-48a0-a435-1529b4a31743",
   "metadata": {},
   "outputs": [],
   "source": [
    "python train.py --gpu 0 --cfg 'ASDG/ASV2021_inner'  -t 1 -v 0 --test_noise 1 --test_noise_level 20 --test_noise_type 'bg';\\"
   ]
  },
  {
   "cell_type": "code",
   "execution_count": null,
   "id": "9f71029e-dd17-4d99-b979-f05d9b410977",
   "metadata": {},
   "outputs": [],
   "source": [
    "python train.py --gpu 0 --cfg 'OursMultiView3/MLAAD_cross_lang' --test_as_val -1\n",
    "python train.py --gpu 1 --cfg 'OursMultiView3/MLAAD_cross_lang' --test_as_val -1\n",
    "python train.py --gpu 2 --cfg 'OursMultiView3/MLAAD_cross_lang' --test_as_val -1\n",
    "python train.py --gpu 3 --cfg 'OursMultiView3/MLAAD_cross_lang' --test_as_val -1"
   ]
  },
  {
   "cell_type": "markdown",
   "id": "f06897cd-c329-40b8-8fe8-86f66b1a009e",
   "metadata": {},
   "source": [
    "# Collect features"
   ]
  },
  {
   "cell_type": "code",
   "execution_count": 94,
   "id": "5baa1b75-fb2c-4439-b997-518c7b9a699c",
   "metadata": {
    "execution": {
     "iopub.execute_input": "2024-03-29T10:09:44.417671Z",
     "iopub.status.busy": "2024-03-29T10:09:44.416930Z",
     "iopub.status.idle": "2024-03-29T10:09:44.425099Z",
     "shell.execute_reply": "2024-03-29T10:09:44.424364Z",
     "shell.execute_reply.started": "2024-03-29T10:09:44.417632Z"
    }
   },
   "outputs": [
    {
     "name": "stdout",
     "output_type": "stream",
     "text": [
      "python train.py --gpu 3 --cfg 'AASIST/LibriSeVoc_cross_dataset' -t 1 -v 0 --collect 1;\\\n",
      "python train.py --gpu 3 --cfg 'AudioClip/LibriSeVoc_cross_dataset' -t 1 -v 0 --collect 1;\\\n",
      "python train.py --gpu 3 --cfg 'LCNN/LibriSeVoc_cross_dataset' -t 1 -v 0 --collect 1;\\\n",
      "python train.py --gpu 3 --cfg 'LibriSeVoc/LibriSeVoc_cross_dataset' -t 1 -v 0 --collect 1;\\\n",
      "python train.py --gpu 3 --cfg 'Ours/ResNet/LibriSeVoc_cross_dataset' -t 1 -v 0 --collect 1;\\\n",
      "python train.py --gpu 3 --cfg 'RawGAT/LibriSeVoc_cross_dataset' -t 1 -v 0 --collect 1;\\\n",
      "python train.py --gpu 3 --cfg 'RawNet2/LibriSeVoc_cross_dataset' -t 1 -v 0 --collect 1;\\\n",
      "python train.py --gpu 3 --cfg 'Wav2Clip/LibriSeVoc_cross_dataset' -t 1 -v 0 --collect 1;\\\n",
      "python train.py --gpu 3 --cfg 'Wave2Vec2/LibriSeVoc_cross_dataset' -t 1 -v 0 --collect 1;\\\n",
      "python train.py --gpu 3 --cfg 'WaveLM/LibriSeVoc_cross_dataset' -t 1 -v 0 --collect 1;\\\n"
     ]
    }
   ],
   "source": [
    "model_first = 1\n",
    "models = [\n",
    "    \"AASIST\",\n",
    "    \"LCNN\",\n",
    "    \"RawNet2\",\n",
    "    \"Wave2Vec2\",\n",
    "    \"WaveLM\",\n",
    "    \"LibriSeVoc\",\n",
    "    \"Wav2Clip\",\n",
    "    \"AudioClip\",\n",
    "    \"RawGAT\",\n",
    "    \"Ours/ResNet\",\n",
    "]\n",
    "tasks = [\n",
    "    # \"LibriSeVoc_cross_method\",\n",
    "    \"LibriSeVoc_cross_dataset\",\n",
    "]\n",
    "model_task = [{\"model\": x, \"task\": y} for x in models for y in tasks]\n",
    "if model_first:\n",
    "    model_task = sorted(model_task, key=lambda x: x[\"model\"])\n",
    "else:\n",
    "    model_task = sorted(model_task, key=lambda x: x[\"task\"])\n",
    "\n",
    "\n",
    "for item in model_task:\n",
    "    model, task = item[\"model\"], item[\"task\"]\n",
    "    print(f\"python train.py --gpu 3 --cfg '{model}/{task}' -t 1 -v 0 --collect 1;\\\\\")"
   ]
  },
  {
   "cell_type": "markdown",
   "id": "df0167ce-107c-4f8c-9180-2df2795f3310",
   "metadata": {},
   "source": [
    "### Ablation"
   ]
  },
  {
   "cell_type": "code",
   "execution_count": 29,
   "id": "5964fdf7-b2dc-447d-99d5-9c73cf5e00c6",
   "metadata": {
    "execution": {
     "iopub.execute_input": "2024-08-15T17:47:07.189201Z",
     "iopub.status.busy": "2024-08-15T17:47:07.188539Z",
     "iopub.status.idle": "2024-08-15T17:47:07.207113Z",
     "shell.execute_reply": "2024-08-15T17:47:07.205305Z",
     "shell.execute_reply.started": "2024-08-15T17:47:07.189135Z"
    }
   },
   "outputs": [
    {
     "name": "stdout",
     "output_type": "stream",
     "text": [
      "python train.py --gpu 1 --cfg 'OursMultiView3/ASV2019_LA' --ablation 'ablations/no-cls_loss_1_2'  -v 0;\\\n",
      "python train.py --gpu 1 --cfg 'OursMultiView3/ASV2019_LA' --ablation 'ablations/no-cls_loss_1_2' -t 1 -v 0;\\\n",
      "python train.py --gpu 1 --cfg 'OursMultiView3/ASV2021_LA' --ablation 'ablations/no-cls_loss_1_2'  -v 0;\\\n",
      "python train.py --gpu 1 --cfg 'OursMultiView3/ASV2021_LA' --ablation 'ablations/no-cls_loss_1_2' -t 1 -v 0;\\\n",
      "python train.py --gpu 1 --cfg 'OursMultiView3/ASV2021_inner' --ablation 'ablations/no-cls_loss_1_2'  -v 0;\\\n",
      "python train.py --gpu 1 --cfg 'OursMultiView3/ASV2021_inner' --ablation 'ablations/no-cls_loss_1_2' -t 1 -v 0;\\\n",
      "python train.py --gpu 1 --cfg 'OursMultiView3/ASV2021_inner'  --ablation 'ablations/no-cls_loss_1_2' -t 1 -v 0 --test_noise 1 --test_noise_level 20 --test_noise_type 'bg';\\\n",
      "python train.py --gpu 1 --cfg 'OursMultiView3/MLAAD_cross_lang' --ablation 'ablations/no-cls_loss_1_2'  -v 0;\\\n",
      "python train.py --gpu 1 --cfg 'OursMultiView3/MLAAD_cross_lang' --ablation 'ablations/no-cls_loss_1_2' -t 1 -v 0;\\\n",
      "######################################################################################################################## ;\\\n",
      "python train.py --gpu 1 --cfg 'OursMultiView3/ASV2019_LA' --ablation 'ablations/no-inner-CL'  -v 0;\\\n",
      "python train.py --gpu 1 --cfg 'OursMultiView3/ASV2019_LA' --ablation 'ablations/no-inner-CL' -t 1 -v 0;\\\n",
      "python train.py --gpu 1 --cfg 'OursMultiView3/ASV2021_LA' --ablation 'ablations/no-inner-CL'  -v 0;\\\n",
      "python train.py --gpu 1 --cfg 'OursMultiView3/ASV2021_LA' --ablation 'ablations/no-inner-CL' -t 1 -v 0;\\\n",
      "python train.py --gpu 1 --cfg 'OursMultiView3/ASV2021_inner' --ablation 'ablations/no-inner-CL'  -v 0;\\\n",
      "python train.py --gpu 1 --cfg 'OursMultiView3/ASV2021_inner' --ablation 'ablations/no-inner-CL' -t 1 -v 0;\\\n",
      "python train.py --gpu 1 --cfg 'OursMultiView3/ASV2021_inner'  --ablation 'ablations/no-inner-CL' -t 1 -v 0 --test_noise 1 --test_noise_level 20 --test_noise_type 'bg';\\\n",
      "python train.py --gpu 1 --cfg 'OursMultiView3/MLAAD_cross_lang' --ablation 'ablations/no-inner-CL'  -v 0;\\\n",
      "python train.py --gpu 1 --cfg 'OursMultiView3/MLAAD_cross_lang' --ablation 'ablations/no-inner-CL' -t 1 -v 0;\\\n",
      "######################################################################################################################## ;\\\n",
      "python train.py --gpu 2 --cfg 'OursMultiView3/ASV2019_LA' --ablation 'ablations/no-inner-inter-CL'  -v 0;\\\n",
      "python train.py --gpu 2 --cfg 'OursMultiView3/ASV2019_LA' --ablation 'ablations/no-inner-inter-CL' -t 1 -v 0;\\\n",
      "python train.py --gpu 2 --cfg 'OursMultiView3/ASV2021_LA' --ablation 'ablations/no-inner-inter-CL'  -v 0;\\\n",
      "python train.py --gpu 2 --cfg 'OursMultiView3/ASV2021_LA' --ablation 'ablations/no-inner-inter-CL' -t 1 -v 0;\\\n",
      "python train.py --gpu 2 --cfg 'OursMultiView3/ASV2021_inner' --ablation 'ablations/no-inner-inter-CL'  -v 0;\\\n",
      "python train.py --gpu 2 --cfg 'OursMultiView3/ASV2021_inner' --ablation 'ablations/no-inner-inter-CL' -t 1 -v 0;\\\n",
      "python train.py --gpu 2 --cfg 'OursMultiView3/ASV2021_inner'  --ablation 'ablations/no-inner-inter-CL' -t 1 -v 0 --test_noise 1 --test_noise_level 20 --test_noise_type 'bg';\\\n",
      "python train.py --gpu 2 --cfg 'OursMultiView3/MLAAD_cross_lang' --ablation 'ablations/no-inner-inter-CL'  -v 0;\\\n",
      "python train.py --gpu 2 --cfg 'OursMultiView3/MLAAD_cross_lang' --ablation 'ablations/no-inner-inter-CL' -t 1 -v 0;\\\n",
      "######################################################################################################################## ;\\\n",
      "python train.py --gpu 2 --cfg 'OursMultiView3/ASV2019_LA' --ablation 'ablations/no-inter-CL'  -v 0;\\\n",
      "python train.py --gpu 2 --cfg 'OursMultiView3/ASV2019_LA' --ablation 'ablations/no-inter-CL' -t 1 -v 0;\\\n",
      "python train.py --gpu 2 --cfg 'OursMultiView3/ASV2021_LA' --ablation 'ablations/no-inter-CL'  -v 0;\\\n",
      "python train.py --gpu 2 --cfg 'OursMultiView3/ASV2021_LA' --ablation 'ablations/no-inter-CL' -t 1 -v 0;\\\n",
      "python train.py --gpu 2 --cfg 'OursMultiView3/ASV2021_inner' --ablation 'ablations/no-inter-CL'  -v 0;\\\n",
      "python train.py --gpu 2 --cfg 'OursMultiView3/ASV2021_inner' --ablation 'ablations/no-inter-CL' -t 1 -v 0;\\\n",
      "python train.py --gpu 2 --cfg 'OursMultiView3/ASV2021_inner'  --ablation 'ablations/no-inter-CL' -t 1 -v 0 --test_noise 1 --test_noise_level 20 --test_noise_type 'bg';\\\n",
      "python train.py --gpu 2 --cfg 'OursMultiView3/MLAAD_cross_lang' --ablation 'ablations/no-inter-CL'  -v 0;\\\n",
      "python train.py --gpu 2 --cfg 'OursMultiView3/MLAAD_cross_lang' --ablation 'ablations/no-inter-CL' -t 1 -v 0;\\\n",
      "######################################################################################################################## ;\\\n",
      "python train.py --gpu 3 --cfg 'OursMultiView3/ASV2019_LA' --ablation 'ablations/no-fusion-no-inner-inter-CL'  -v 0;\\\n",
      "python train.py --gpu 3 --cfg 'OursMultiView3/ASV2019_LA' --ablation 'ablations/no-fusion-no-inner-inter-CL' -t 1 -v 0;\\\n",
      "python train.py --gpu 3 --cfg 'OursMultiView3/ASV2021_LA' --ablation 'ablations/no-fusion-no-inner-inter-CL'  -v 0;\\\n",
      "python train.py --gpu 3 --cfg 'OursMultiView3/ASV2021_LA' --ablation 'ablations/no-fusion-no-inner-inter-CL' -t 1 -v 0;\\\n",
      "python train.py --gpu 3 --cfg 'OursMultiView3/ASV2021_inner' --ablation 'ablations/no-fusion-no-inner-inter-CL'  -v 0;\\\n",
      "python train.py --gpu 3 --cfg 'OursMultiView3/ASV2021_inner' --ablation 'ablations/no-fusion-no-inner-inter-CL' -t 1 -v 0;\\\n",
      "python train.py --gpu 3 --cfg 'OursMultiView3/ASV2021_inner'  --ablation 'ablations/no-fusion-no-inner-inter-CL' -t 1 -v 0 --test_noise 1 --test_noise_level 20 --test_noise_type 'bg';\\\n",
      "python train.py --gpu 3 --cfg 'OursMultiView3/MLAAD_cross_lang' --ablation 'ablations/no-fusion-no-inner-inter-CL'  -v 0;\\\n",
      "python train.py --gpu 3 --cfg 'OursMultiView3/MLAAD_cross_lang' --ablation 'ablations/no-fusion-no-inner-inter-CL' -t 1 -v 0;\\\n",
      "######################################################################################################################## ;\\\n",
      "python train.py --gpu 3 --cfg 'OursMultiView3/ASV2019_LA' --ablation 'ablations/no-fusion-no-CL-no-loss'  -v 0;\\\n",
      "python train.py --gpu 3 --cfg 'OursMultiView3/ASV2019_LA' --ablation 'ablations/no-fusion-no-CL-no-loss' -t 1 -v 0;\\\n",
      "python train.py --gpu 3 --cfg 'OursMultiView3/ASV2021_LA' --ablation 'ablations/no-fusion-no-CL-no-loss'  -v 0;\\\n",
      "python train.py --gpu 3 --cfg 'OursMultiView3/ASV2021_LA' --ablation 'ablations/no-fusion-no-CL-no-loss' -t 1 -v 0;\\\n",
      "python train.py --gpu 3 --cfg 'OursMultiView3/ASV2021_inner' --ablation 'ablations/no-fusion-no-CL-no-loss'  -v 0;\\\n",
      "python train.py --gpu 3 --cfg 'OursMultiView3/ASV2021_inner' --ablation 'ablations/no-fusion-no-CL-no-loss' -t 1 -v 0;\\\n",
      "python train.py --gpu 3 --cfg 'OursMultiView3/ASV2021_inner'  --ablation 'ablations/no-fusion-no-CL-no-loss' -t 1 -v 0 --test_noise 1 --test_noise_level 20 --test_noise_type 'bg';\\\n",
      "python train.py --gpu 3 --cfg 'OursMultiView3/MLAAD_cross_lang' --ablation 'ablations/no-fusion-no-CL-no-loss'  -v 0;\\\n",
      "python train.py --gpu 3 --cfg 'OursMultiView3/MLAAD_cross_lang' --ablation 'ablations/no-fusion-no-CL-no-loss' -t 1 -v 0;\\\n",
      "######################################################################################################################## ;\\\n"
     ]
    }
   ],
   "source": [
    "model = \"OursMultiView3\"\n",
    "tasks = [\n",
    "    \"ASV2019_LA\",\n",
    "    \"ASV2021_LA\",\n",
    "    'ASV2021_inner',\n",
    "    \"MLAAD_cross_lang\",\n",
    "]\n",
    "\n",
    "test = 0\n",
    "versions = [0]\n",
    "# gpu = [1, 1, 0, 0, 1, 1, 2, 2, 3, 3]*8\n",
    "gpu = [1, 1, 2, 2, 3, 3]*10\n",
    "for i, ablation in enumerate([\n",
    "    \"no-cls_loss_1_2\",\n",
    "    # \"no-fusion\",\n",
    "    # \"no-fusion1D\",\n",
    "    \"no-inner-CL\",\n",
    "    \"no-inner-inter-CL\",\n",
    "    \"no-inter-CL\",\n",
    "    \"no-fusion-no-inner-inter-CL\",\n",
    "    \"no-fusion-no-CL-no-loss\",\n",
    "    # \"use_mse_loss\",\n",
    "    # \"drop_layer\",\n",
    "    # \"no-cls_loss_1_2_and_inner\",\n",
    "    # \"only-1D\",\n",
    "    # \"only-2D\",\n",
    "    # \"loss1\",\n",
    "    # \"loss2\",\n",
    "    # \"loss3\",\n",
    "    # \"loss4\",\n",
    "    # \"loss5\",\n",
    "    # \"loss6\",\n",
    "    # \"loss7\",\n",
    "    # \"loss8\",\n",
    "    # \"loss9\",\n",
    "    # \"loss10\",\n",
    "]):\n",
    "    for j, task in enumerate(tasks):\n",
    "        for v in versions:\n",
    "            # suffix = ' --min_epoch 5 ' if task == \"MLAAD_cross_lang\" else ''\n",
    "            suffix = ''\n",
    "            print(f\"python train.py --gpu {gpu[i]} --cfg '{model}/{task}' --ablation 'ablations/{ablation}' {suffix} -v {v};\\\\\")\n",
    "            print(f\"python train.py --gpu {gpu[i]} --cfg '{model}/{task}' --ablation 'ablations/{ablation}' -t 1 -v {v};\\\\\")\n",
    "            if task == \"ASV2021_inner\":\n",
    "                print(f\"python train.py --gpu {gpu[i]} --cfg '{model}/{task}'  --ablation 'ablations/{ablation}' -t 1 -v {v} --test_noise 1 --test_noise_level 20 --test_noise_type 'bg';\\\\\")\n",
    "    print(\"####\"*30, ';\\\\')"
   ]
  },
  {
   "cell_type": "code",
   "execution_count": null,
   "id": "28801c6b-33d8-4229-ba81-2f28edf6de6d",
   "metadata": {},
   "outputs": [],
   "source": [
    "python train.py --gpu 0 --cfg 'OursMultiView3/ASV2019_LA' --ablation 'ablations/no-fusion-no-CL-no-loss'  -v 0;\\\n",
    "python train.py --gpu 0 --cfg 'OursMultiView3/ASV2019_LA' --ablation 'ablations/no-fusion-no-CL-no-loss' -t 1 -v 0;\\\n",
    "python train.py --gpu 0 --cfg 'OursMultiView3/ASV2019_LA' --ablation 'ablations/no-fusion-no-CL-no-loss'  -v 1;\\\n",
    "python train.py --gpu 0 --cfg 'OursMultiView3/ASV2019_LA' --ablation 'ablations/no-fusion-no-CL-no-loss' -t 1 -v 1;\\\n",
    "python train.py --gpu 1 --cfg 'OursMultiView3/ASV2021_LA' --ablation 'ablations/no-fusion-no-CL-no-loss'  -v 0;\\\n",
    "python train.py --gpu 1 --cfg 'OursMultiView3/ASV2021_LA' --ablation 'ablations/no-fusion-no-CL-no-loss' -t 1 -v 0;\\\n",
    "python train.py --gpu 1 --cfg 'OursMultiView3/ASV2021_LA' --ablation 'ablations/no-fusion-no-CL-no-loss'  -v 1;\\\n",
    "python train.py --gpu 1 --cfg 'OursMultiView3/ASV2021_LA' --ablation 'ablations/no-fusion-no-CL-no-loss' -t 1 -v 1;\\\n",
    "python train.py --gpu 2 --cfg 'OursMultiView3/ASV2021_inner' --ablation 'ablations/no-fusion-no-CL-no-loss'  -v 0;\\\n",
    "python train.py --gpu 2 --cfg 'OursMultiView3/ASV2021_inner' --ablation 'ablations/no-fusion-no-CL-no-loss' -t 1 -v 0;\\\n",
    "python train.py --gpu 2 --cfg 'OursMultiView3/ASV2021_inner'  --ablation 'ablations/no-fusion-no-CL-no-loss' -t 1 -v 0 --test_noise 1 --test_noise_level 20 --test_noise_type 'bg';\\\n",
    "python train.py --gpu 2 --cfg 'OursMultiView3/ASV2021_inner' --ablation 'ablations/no-fusion-no-CL-no-loss'  -v 1;\\\n",
    "python train.py --gpu 2 --cfg 'OursMultiView3/ASV2021_inner' --ablation 'ablations/no-fusion-no-CL-no-loss' -t 1 -v 1;\\\n",
    "python train.py --gpu 2 --cfg 'OursMultiView3/ASV2021_inner'  --ablation 'ablations/no-fusion-no-CL-no-loss' -t 1 -v 1 --test_noise 1 --test_noise_level 20 --test_noise_type 'bg';\\\n",
    "python train.py --gpu 3 --cfg 'OursMultiView3/MLAAD_cross_lang' --ablation 'ablations/no-fusion-no-CL-no-loss'  -v 0;\\\n",
    "python train.py --gpu 3 --cfg 'OursMultiView3/MLAAD_cross_lang' --ablation 'ablations/no-fusion-no-CL-no-loss' -t 1 -v 0;\\\n",
    "python train.py --gpu 3 --cfg 'OursMultiView3/MLAAD_cross_lang' --ablation 'ablations/no-fusion-no-CL-no-loss'  -v 1;\\\n",
    "python train.py --gpu 3 --cfg 'OursMultiView3/MLAAD_cross_lang' --ablation 'ablations/no-fusion-no-CL-no-loss' -t 1 -v 1;\\"
   ]
  },
  {
   "cell_type": "code",
   "execution_count": null,
   "id": "0978544b-e0db-4481-9cde-e94a28b63134",
   "metadata": {},
   "outputs": [],
   "source": [
    "python train.py --gpu 0 --cfg 'OursMultiView3/MLAAD_cross_lang' --ablation 'ablations/loss9'  -v 4;\\\n",
    "python train.py --gpu 0 --cfg 'OursMultiView3/MLAAD_cross_lang' --ablation 'ablations/loss9' -t 1 -v 4;\\"
   ]
  }
 ],
 "metadata": {
  "kernelspec": {
   "display_name": "Python 3 (ipykernel)",
   "language": "python",
   "name": "python3"
  },
  "language_info": {
   "codemirror_mode": {
    "name": "ipython",
    "version": 3
   },
   "file_extension": ".py",
   "mimetype": "text/x-python",
   "name": "python",
   "nbconvert_exporter": "python",
   "pygments_lexer": "ipython3",
   "version": "3.9.18"
  }
 },
 "nbformat": 4,
 "nbformat_minor": 5
}
