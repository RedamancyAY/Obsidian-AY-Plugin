{
 "cells": [
  {
   "cell_type": "code",
   "execution_count": 24,
   "id": "2505ee6b-b575-4292-ac42-efbd82c13fba",
   "metadata": {
    "execution": {
     "iopub.execute_input": "2024-04-13T02:14:51.186808Z",
     "iopub.status.busy": "2024-04-13T02:14:51.186478Z",
     "iopub.status.idle": "2024-04-13T02:14:51.215710Z",
     "shell.execute_reply": "2024-04-13T02:14:51.214864Z",
     "shell.execute_reply.started": "2024-04-13T02:14:51.186780Z"
    }
   },
   "outputs": [],
   "source": [
    "%load_ext autoreload\n",
    "%autoreload 2"
   ]
  },
  {
   "cell_type": "code",
   "execution_count": 25,
   "id": "f69daa32-24b2-4be8-9523-cfb5dfa2f8ce",
   "metadata": {
    "execution": {
     "iopub.execute_input": "2024-04-13T02:14:52.825774Z",
     "iopub.status.busy": "2024-04-13T02:14:52.825438Z",
     "iopub.status.idle": "2024-04-13T02:14:52.856296Z",
     "shell.execute_reply": "2024-04-13T02:14:52.855158Z",
     "shell.execute_reply.started": "2024-04-13T02:14:52.825746Z"
    }
   },
   "outputs": [],
   "source": [
    "from rawnet2 import RawNet2\n",
    "import torch"
   ]
  },
  {
   "cell_type": "code",
   "execution_count": 123,
   "id": "1fc4e94e-0560-467f-b500-c69d39b93f58",
   "metadata": {
    "execution": {
     "iopub.execute_input": "2024-04-13T02:40:24.858066Z",
     "iopub.status.busy": "2024-04-13T02:40:24.857692Z",
     "iopub.status.idle": "2024-04-13T02:40:27.940828Z",
     "shell.execute_reply": "2024-04-13T02:40:27.939656Z",
     "shell.execute_reply.started": "2024-04-13T02:40:24.858040Z"
    }
   },
   "outputs": [],
   "source": [
    "RAW_NET2_CONFIG = {\n",
    "    \"nb_samp\": 48000,\n",
    "    \"first_conv\": 1024,  # no. of filter coefficients\n",
    "    \"in_channels\": 1,  # no. of filters channel in residual blocks\n",
    "    # \"filts\": [20, [20, 20], [20, 128], [128, 128]],\n",
    "    \"filts\": [64, [64, 128], [128, 256], [256, 512]],\n",
    "    \"blocks\": [2, 4],\n",
    "    \"nb_fc_node\": 512,\n",
    "    \"gru_node\": 512,\n",
    "    \"nb_gru_layer\": 3,\n",
    "    \"nb_classes\": 1,\n",
    "}"
   ]
  },
  {
   "cell_type": "code",
   "execution_count": 129,
   "id": "14313159-20ba-481f-8df3-927934d045fb",
   "metadata": {
    "execution": {
     "iopub.execute_input": "2024-04-13T02:44:24.446624Z",
     "iopub.status.busy": "2024-04-13T02:44:24.446377Z",
     "iopub.status.idle": "2024-04-13T02:44:24.550254Z",
     "shell.execute_reply": "2024-04-13T02:44:24.548467Z",
     "shell.execute_reply.started": "2024-04-13T02:44:24.446600Z"
    }
   },
   "outputs": [],
   "source": [
    "model = RawNet2(cfg=RAW_NET2_CONFIG)"
   ]
  },
  {
   "cell_type": "code",
   "execution_count": 130,
   "id": "41d676df-e911-4104-95e5-94b31401ff6e",
   "metadata": {
    "execution": {
     "iopub.execute_input": "2024-04-13T02:44:25.128529Z",
     "iopub.status.busy": "2024-04-13T02:44:25.128244Z",
     "iopub.status.idle": "2024-04-13T02:44:25.210736Z",
     "shell.execute_reply": "2024-04-13T02:44:25.209103Z",
     "shell.execute_reply.started": "2024-04-13T02:44:25.128503Z"
    },
    "scrolled": true
   },
   "outputs": [
    {
     "data": {
      "text/plain": [
       "torch.Size([2, 512, 46])"
      ]
     },
     "execution_count": 130,
     "metadata": {},
     "output_type": "execute_result"
    }
   ],
   "source": [
    "x = torch.randn(2, 1, 48000)\n",
    "y = model.compute_stage1(x)\n",
    "y = model.compute_stage2(y)\n",
    "y = model.compute_stage3(y)\n",
    "y = model.compute_stage4(y)\n",
    "y.shape"
   ]
  },
  {
   "cell_type": "code",
   "execution_count": 131,
   "id": "50ad7ebd-d9d5-441c-815a-7226e23eee85",
   "metadata": {
    "execution": {
     "iopub.execute_input": "2024-04-13T02:44:41.077189Z",
     "iopub.status.busy": "2024-04-13T02:44:41.076556Z",
     "iopub.status.idle": "2024-04-13T02:44:41.162842Z",
     "shell.execute_reply": "2024-04-13T02:44:41.161303Z",
     "shell.execute_reply.started": "2024-04-13T02:44:41.077122Z"
    }
   },
   "outputs": [],
   "source": [
    "y = model.get_final_feature(y)"
   ]
  },
  {
   "cell_type": "code",
   "execution_count": 132,
   "id": "cf13520a-3de3-4250-9c93-336855403ea1",
   "metadata": {
    "execution": {
     "iopub.execute_input": "2024-04-13T02:44:45.384372Z",
     "iopub.status.busy": "2024-04-13T02:44:45.383995Z",
     "iopub.status.idle": "2024-04-13T02:44:45.439511Z",
     "shell.execute_reply": "2024-04-13T02:44:45.437381Z",
     "shell.execute_reply.started": "2024-04-13T02:44:45.384337Z"
    }
   },
   "outputs": [
    {
     "data": {
      "text/plain": [
       "torch.Size([2, 512])"
      ]
     },
     "execution_count": 132,
     "metadata": {},
     "output_type": "execute_result"
    }
   ],
   "source": [
    "y.shape"
   ]
  }
 ],
 "metadata": {
  "kernelspec": {
   "display_name": "Python 3 (ipykernel)",
   "language": "python",
   "name": "python3"
  },
  "language_info": {
   "codemirror_mode": {
    "name": "ipython",
    "version": 3
   },
   "file_extension": ".py",
   "mimetype": "text/x-python",
   "name": "python",
   "nbconvert_exporter": "python",
   "pygments_lexer": "ipython3",
   "version": "3.9.18"
  }
 },
 "nbformat": 4,
 "nbformat_minor": 5
}
