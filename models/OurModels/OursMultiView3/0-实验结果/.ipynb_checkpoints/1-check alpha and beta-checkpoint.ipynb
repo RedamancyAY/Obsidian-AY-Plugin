{
 "cells": [
  {
   "cell_type": "code",
   "execution_count": 31,
   "id": "e77bfdfe-4152-4cd0-957d-4460d59344da",
   "metadata": {
    "execution": {
     "iopub.execute_input": "2024-04-12T15:26:55.908443Z",
     "iopub.status.busy": "2024-04-12T15:26:55.907737Z",
     "iopub.status.idle": "2024-04-12T15:26:55.919227Z",
     "shell.execute_reply": "2024-04-12T15:26:55.917135Z",
     "shell.execute_reply.started": "2024-04-12T15:26:55.908369Z"
    }
   },
   "outputs": [],
   "source": [
    "import torch, os"
   ]
  },
  {
   "cell_type": "code",
   "execution_count": 32,
   "id": "166ee534-37d7-40ea-a346-b5ca02de1716",
   "metadata": {
    "execution": {
     "iopub.execute_input": "2024-04-12T15:27:05.644928Z",
     "iopub.status.busy": "2024-04-12T15:27:05.644239Z",
     "iopub.status.idle": "2024-04-12T15:27:05.655009Z",
     "shell.execute_reply": "2024-04-12T15:27:05.652858Z",
     "shell.execute_reply.started": "2024-04-12T15:27:05.644863Z"
    }
   },
   "outputs": [],
   "source": [
    "ROOT_PATH = \"/home/ay/data/DATA/1-model_save/00-Deepfake/1-df-audio/OursMultiView2\"\n",
    "\n",
    "\n",
    "wavefake =  \"/home/ay/data/DATA/1-model_save/00-Deepfake/1-df-audio/OursMultiView2/wavefake_inner/version_0/checkpoints/best-epoch=0-val-auc=1.0000.ckpt\"\n",
    "libriseVoc =  \"/home/ay/data/DATA/1-model_save/00-Deepfake/1-df-audio/OursMultiView2/LibriSeVoc_inner/version_0/checkpoints/best-epoch=0-val-auc=1.0000.ckpt\"\n",
    "asv2021 =  \"/home/ay/data/DATA/1-model_save/00-Deepfake/1-df-audio/OursMultiView2/ASV2021_inner/version_0/checkpoints/best-epoch=2-val-auc=1.0000.ckpt\""
   ]
  },
  {
   "cell_type": "code",
   "execution_count": 33,
   "id": "d587fc55-763a-4970-ad3f-b974cecd9091",
   "metadata": {
    "execution": {
     "iopub.execute_input": "2024-04-12T15:27:06.672477Z",
     "iopub.status.busy": "2024-04-12T15:27:06.671796Z",
     "iopub.status.idle": "2024-04-12T15:27:07.093374Z",
     "shell.execute_reply": "2024-04-12T15:27:07.091925Z",
     "shell.execute_reply.started": "2024-04-12T15:27:06.672412Z"
    }
   },
   "outputs": [
    {
     "name": "stdout",
     "output_type": "stream",
     "text": [
      "0.700/0.949 & 0.699/0.948 & 0.695/0.947 & 0.623/0.929\n",
      "0.699/0.946 & 0.699/0.947 & 0.695/0.947 & 0.631/0.927\n",
      "0.700/0.934 & 0.699/0.941 & 0.698/0.931 & 0.499/0.918\n"
     ]
    }
   ],
   "source": [
    "for path in [wavefake, libriseVoc, asv2021]:\n",
    "    data = torch.load(path)\n",
    "    sd = data['state_dict']\n",
    "    res = []\n",
    "    a, b = [], []\n",
    "    for k in sd.keys():\n",
    "        if 'alpha' in k:\n",
    "            a.append(torch.mean(sd[k]).item())\n",
    "        if 'beta' in k:\n",
    "            b.append(torch.mean(sd[k]).item())\n",
    "    for _a, _b in zip(a, b):\n",
    "        res.append(\"%.3f/%.3f\"%(_a, _b))\n",
    "    print(' & '.join(res))"
   ]
  },
  {
   "cell_type": "code",
   "execution_count": 23,
   "id": "22a96885-075c-4fe6-9591-2e418c53ce91",
   "metadata": {
    "execution": {
     "iopub.execute_input": "2024-04-12T08:53:02.861733Z",
     "iopub.status.busy": "2024-04-12T08:53:02.861219Z",
     "iopub.status.idle": "2024-04-12T08:53:02.867760Z",
     "shell.execute_reply": "2024-04-12T08:53:02.866812Z",
     "shell.execute_reply.started": "2024-04-12T08:53:02.861701Z"
    }
   },
   "outputs": [
    {
     "data": {
      "text/plain": [
       "['0.6197/0.9232']"
      ]
     },
     "execution_count": 23,
     "metadata": {},
     "output_type": "execute_result"
    }
   ],
   "source": [
    "res"
   ]
  },
  {
   "cell_type": "code",
   "execution_count": null,
   "id": "16d57b49-01c9-4497-bb95-fe0ef70a519b",
   "metadata": {},
   "outputs": [],
   "source": []
  }
 ],
 "metadata": {
  "kernelspec": {
   "display_name": "Python 3 (ipykernel)",
   "language": "python",
   "name": "python3"
  },
  "language_info": {
   "codemirror_mode": {
    "name": "ipython",
    "version": 3
   },
   "file_extension": ".py",
   "mimetype": "text/x-python",
   "name": "python",
   "nbconvert_exporter": "python",
   "pygments_lexer": "ipython3",
   "version": "3.9.18"
  }
 },
 "nbformat": 4,
 "nbformat_minor": 5
}
