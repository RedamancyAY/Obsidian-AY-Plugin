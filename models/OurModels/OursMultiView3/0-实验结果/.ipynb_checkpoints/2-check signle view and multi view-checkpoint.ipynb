{
 "cells": [
  {
   "cell_type": "code",
   "execution_count": 3,
   "id": "56fa0523-2d64-468a-aa80-dacce0ab38b9",
   "metadata": {
    "execution": {
     "iopub.execute_input": "2024-04-13T01:17:38.816773Z",
     "iopub.status.busy": "2024-04-13T01:17:38.816434Z",
     "iopub.status.idle": "2024-04-13T01:17:38.830742Z",
     "shell.execute_reply": "2024-04-13T01:17:38.829815Z",
     "shell.execute_reply.started": "2024-04-13T01:17:38.816747Z"
    }
   },
   "outputs": [
    {
     "name": "stdout",
     "output_type": "stream",
     "text": [
      "The autoreload extension is already loaded. To reload it, use:\n",
      "  %reload_ext autoreload\n"
     ]
    }
   ],
   "source": [
    "%load_ext autoreload\n",
    "%autoreload 2"
   ]
  },
  {
   "cell_type": "code",
   "execution_count": 4,
   "id": "e684fa7b-655d-42e9-8294-b5505cbc68e5",
   "metadata": {
    "execution": {
     "iopub.execute_input": "2024-04-13T01:17:39.442644Z",
     "iopub.status.busy": "2024-04-13T01:17:39.441948Z",
     "iopub.status.idle": "2024-04-13T01:17:39.467683Z",
     "shell.execute_reply": "2024-04-13T01:17:39.466305Z",
     "shell.execute_reply.started": "2024-04-13T01:17:39.442592Z"
    }
   },
   "outputs": [],
   "source": [
    "import numpy as np\n",
    "from utils import (\n",
    "    display_ASV2021_evaluation,\n",
    "    display_ASV2021_evaluation_versions,\n",
    "    display_cross_dataset_evaluation,\n",
    "    display_cross_language_evaluation,\n",
    "    display_cross_method_evaluation,\n",
    "    display_inner_evaluation,\n",
    ")"
   ]
  },
  {
   "cell_type": "code",
   "execution_count": 5,
   "id": "531ceac3-e981-45b0-af4f-d8332dca96fa",
   "metadata": {
    "execution": {
     "iopub.execute_input": "2024-04-13T01:17:40.388649Z",
     "iopub.status.busy": "2024-04-13T01:17:40.387619Z",
     "iopub.status.idle": "2024-04-13T01:17:40.413708Z",
     "shell.execute_reply": "2024-04-13T01:17:40.412392Z",
     "shell.execute_reply.started": "2024-04-13T01:17:40.388591Z"
    }
   },
   "outputs": [],
   "source": [
    "MODELs_VERSIONS = {\n",
    "    \"OursMultiView2\": 0,\n",
    "}\n",
    "models = MODELs_VERSIONS.keys()\n",
    "versions = MODELs_VERSIONS.values()"
   ]
  },
  {
   "cell_type": "markdown",
   "id": "73aa6630-0d04-4365-9e03-ed8fd35f7aaf",
   "metadata": {},
   "source": [
    "# Inner "
   ]
  },
  {
   "cell_type": "code",
   "execution_count": 6,
   "id": "12ae7e88-3578-4d45-89d7-7b6968f1e054",
   "metadata": {
    "execution": {
     "iopub.execute_input": "2024-04-13T01:17:43.226577Z",
     "iopub.status.busy": "2024-04-13T01:17:43.226027Z",
     "iopub.status.idle": "2024-04-13T01:17:43.291408Z",
     "shell.execute_reply": "2024-04-13T01:17:43.290232Z",
     "shell.execute_reply.started": "2024-04-13T01:17:43.226538Z"
    }
   },
   "outputs": [
    {
     "data": {
      "text/html": [
       "<table border=\"1\" class=\"dataframe\">\n",
       "  <thead>\n",
       "    <tr style=\"text-align: right;\">\n",
       "      <th></th>\n",
       "      <th>LibriSeVoc_inner</th>\n",
       "      <th>wavefake_inner</th>\n",
       "      <th>ASV2021_inner</th>\n",
       "    </tr>\n",
       "    <tr>\n",
       "      <th>model</th>\n",
       "      <th></th>\n",
       "      <th></th>\n",
       "      <th></th>\n",
       "    </tr>\n",
       "  </thead>\n",
       "  <tbody>\n",
       "    <tr>\n",
       "      <th>OursMultiView2</th>\n",
       "      <td>$100.00$ / $\\phantom{0}0.23$</td>\n",
       "      <td>$100.00$ / $\\phantom{0}0.00$</td>\n",
       "      <td>$95.58$ / $\\phantom{0}9.93$</td>\n",
       "    </tr>\n",
       "  </tbody>\n",
       "</table>"
      ],
      "text/plain": [
       "<IPython.core.display.HTML object>"
      ]
     },
     "metadata": {},
     "output_type": "display_data"
    },
    {
     "data": {
      "text/html": [
       "<table border=\"1\" class=\"dataframe\">\n",
       "  <thead>\n",
       "    <tr style=\"text-align: right;\">\n",
       "      <th></th>\n",
       "      <th>LibriSeVoc_inner</th>\n",
       "      <th>wavefake_inner</th>\n",
       "      <th>ASV2021_inner</th>\n",
       "    </tr>\n",
       "    <tr>\n",
       "      <th>model</th>\n",
       "      <th></th>\n",
       "      <th></th>\n",
       "      <th></th>\n",
       "    </tr>\n",
       "  </thead>\n",
       "  <tbody>\n",
       "    <tr>\n",
       "      <th>OursMultiView2</th>\n",
       "      <td>$100.00$ / $\\phantom{0}0.19$</td>\n",
       "      <td>$100.00$ / $\\phantom{0}0.01$</td>\n",
       "      <td>$97.07$ / $\\phantom{0}9.06$</td>\n",
       "    </tr>\n",
       "  </tbody>\n",
       "</table>"
      ],
      "text/plain": [
       "<IPython.core.display.HTML object>"
      ]
     },
     "metadata": {},
     "output_type": "display_data"
    },
    {
     "data": {
      "text/html": [
       "<table border=\"1\" class=\"dataframe\">\n",
       "  <thead>\n",
       "    <tr style=\"text-align: right;\">\n",
       "      <th></th>\n",
       "      <th>LibriSeVoc_inner</th>\n",
       "      <th>wavefake_inner</th>\n",
       "      <th>ASV2021_inner</th>\n",
       "    </tr>\n",
       "    <tr>\n",
       "      <th>model</th>\n",
       "      <th></th>\n",
       "      <th></th>\n",
       "      <th></th>\n",
       "    </tr>\n",
       "  </thead>\n",
       "  <tbody>\n",
       "    <tr>\n",
       "      <th>OursMultiView2</th>\n",
       "      <td>$100.00$ / $\\phantom{0}0.19$</td>\n",
       "      <td>$100.00$ / $\\phantom{0}0.00$</td>\n",
       "      <td>$96.50$ / $\\phantom{0}9.40$</td>\n",
       "    </tr>\n",
       "  </tbody>\n",
       "</table>"
      ],
      "text/plain": [
       "<IPython.core.display.HTML object>"
      ]
     },
     "metadata": {},
     "output_type": "display_data"
    }
   ],
   "source": [
    "data = display_inner_evaluation(\n",
    "    models=models,\n",
    "    versions=versions,\n",
    "    show_latex=0,\n",
    "    tasks=[\"LibriSeVoc_inner\", \"wavefake_inner\", \"ASV2021_inner\"],\n",
    "    avg_res=False,\n",
    "    metric_prefix=\"test-1D\",\n",
    ")\n",
    "data = display_inner_evaluation(\n",
    "    models=models,\n",
    "    versions=versions,\n",
    "    show_latex=0,\n",
    "    tasks=[\"LibriSeVoc_inner\", \"wavefake_inner\", \"ASV2021_inner\"],\n",
    "    avg_res=False,\n",
    "    metric_prefix=\"test-2D\",\n",
    ")\n",
    "data = display_inner_evaluation(\n",
    "    models=models,\n",
    "    versions=versions,\n",
    "    show_latex=0,\n",
    "    tasks=[\"LibriSeVoc_inner\", \"wavefake_inner\", \"ASV2021_inner\"],\n",
    "    avg_res=False,\n",
    "    metric_prefix=\"test\",\n",
    ")"
   ]
  },
  {
   "cell_type": "code",
   "execution_count": 11,
   "id": "48d10692-2174-42d2-9a32-903558adfd8a",
   "metadata": {
    "execution": {
     "iopub.execute_input": "2024-04-13T02:03:07.710987Z",
     "iopub.status.busy": "2024-04-13T02:03:07.710377Z",
     "iopub.status.idle": "2024-04-13T02:03:07.772579Z",
     "shell.execute_reply": "2024-04-13T02:03:07.770545Z",
     "shell.execute_reply.started": "2024-04-13T02:03:07.710926Z"
    }
   },
   "outputs": [
    {
     "data": {
      "text/html": [
       "<table border=\"1\" class=\"dataframe\">\n",
       "  <thead>\n",
       "    <tr style=\"text-align: right;\">\n",
       "      <th>method</th>\n",
       "      <th>inner</th>\n",
       "      <th>neural_vocoder_autoregressive</th>\n",
       "      <th>neural_vocoder_nonautoregressive</th>\n",
       "      <th>traditional_vocoder</th>\n",
       "      <th>unknown</th>\n",
       "      <th>waveform_concatenation</th>\n",
       "      <th>mean</th>\n",
       "    </tr>\n",
       "    <tr>\n",
       "      <th>model</th>\n",
       "      <th></th>\n",
       "      <th></th>\n",
       "      <th></th>\n",
       "      <th></th>\n",
       "      <th></th>\n",
       "      <th></th>\n",
       "      <th></th>\n",
       "    </tr>\n",
       "  </thead>\n",
       "  <tbody>\n",
       "    <tr>\n",
       "      <th>OursMultiView2</th>\n",
       "      <td>$\\phantom{0}9.06$</td>\n",
       "      <td>$18.77$</td>\n",
       "      <td>$21.66$</td>\n",
       "      <td>$11.63$</td>\n",
       "      <td>$16.89$</td>\n",
       "      <td>$10.33$</td>\n",
       "      <td>$14.72$</td>\n",
       "    </tr>\n",
       "  </tbody>\n",
       "</table>"
      ],
      "text/plain": [
       "<IPython.core.display.HTML object>"
      ]
     },
     "metadata": {},
     "output_type": "display_data"
    },
    {
     "name": "stdout",
     "output_type": "stream",
     "text": [
      "\\begin{tabular}{lrr}\n",
      "method & inner & neural_vocoder_autoregressive & neural_vocoder_nonautoregressive & traditional_vocoder & unknown & waveform_concatenation & mean \\\\\n",
      "model &  &  &  &  &  &  &  \\\\\n",
      "OursMultiView2 & $\\phantom{0}9.06$ & $18.77$ & $21.66$ & $11.63$ & $16.89$ & $10.33$ & $14.72$ \\\\\n",
      "\\end{tabular}\n",
      "\n"
     ]
    }
   ],
   "source": [
    "data = display_ASV2021_evaluation(\n",
    "    models=models,\n",
    "    versions=versions,\n",
    "    show_latex=1,\n",
    "    auc=0,\n",
    "    metric_prefix=\"test-2D\",\n",
    ")"
   ]
  },
  {
   "cell_type": "markdown",
   "id": "225fc26d-ab3c-48f2-9cf5-6c8cca4e0b2d",
   "metadata": {},
   "source": [
    "# Cross Method"
   ]
  },
  {
   "cell_type": "code",
   "execution_count": null,
   "id": "74024990-0e25-4176-8aa2-e9e9b595e79a",
   "metadata": {},
   "outputs": [],
   "source": [
    "data = display_cross_method_evaluation(\n",
    "    models=models,\n",
    "    versions=versions,\n",
    "    show_latex=0,\n",
    "    tasks=[\"LibriSeVoc_cross_method\", \"ASV2021_inner\"],\n",
    "    auc=1,\n",
    "    metric_prefix=\"test-1D\",\n",
    ")\n",
    "data = display_cross_method_evaluation(\n",
    "    models=models,\n",
    "    versions=versions,\n",
    "    show_latex=0,\n",
    "    tasks=[\"LibriSeVoc_cross_method\", \"ASV2021_inner\"],\n",
    "    auc=1,\n",
    "    metric_prefix=\"test-2D\",\n",
    ")\n",
    "data = display_cross_method_evaluation(\n",
    "    models=models,\n",
    "    versions=versions,\n",
    "    show_latex=1,\n",
    "    tasks=[\"ASV2021_inner\"],\n",
    "    auc=1,\n",
    "    metric_prefix=\"test\",\n",
    ")"
   ]
  },
  {
   "cell_type": "markdown",
   "id": "d0d18aa8-716d-4cf0-b066-9ce8060b833b",
   "metadata": {},
   "source": [
    "# Cross Dataset"
   ]
  },
  {
   "cell_type": "code",
   "execution_count": null,
   "id": "146125fb-2ba2-4063-b003-077887c51675",
   "metadata": {},
   "outputs": [],
   "source": [
    "data = display_cross_dataset_evaluation(\n",
    "    models=models,\n",
    "    versions=versions,\n",
    "    show_latex=0,\n",
    "    tasks=[\"LibriSeVoc_cross_dataset\"],\n",
    "    only_LibriSeVoc=False,\n",
    "    metric_prefix=\"test-1D\"\n",
    ")\n",
    "data = display_cross_dataset_evaluation(\n",
    "    models=models,\n",
    "    versions=versions,\n",
    "    show_latex=0,\n",
    "    tasks=[\"LibriSeVoc_cross_dataset\"],\n",
    "    only_LibriSeVoc=False,\n",
    "    metric_prefix=\"test-2D\"\n",
    ")\n",
    "data = display_cross_dataset_evaluation(\n",
    "    models=models,\n",
    "    versions=versions,\n",
    "    show_latex=0,\n",
    "    tasks=[\"LibriSeVoc_cross_dataset\"],\n",
    "    only_LibriSeVoc=False,\n",
    "    metric_prefix=\"test\"\n",
    ")"
   ]
  }
 ],
 "metadata": {
  "kernelspec": {
   "display_name": "Python 3 (ipykernel)",
   "language": "python",
   "name": "python3"
  },
  "language_info": {
   "codemirror_mode": {
    "name": "ipython",
    "version": 3
   },
   "file_extension": ".py",
   "mimetype": "text/x-python",
   "name": "python",
   "nbconvert_exporter": "python",
   "pygments_lexer": "ipython3",
   "version": "3.9.18"
  }
 },
 "nbformat": 4,
 "nbformat_minor": 5
}
