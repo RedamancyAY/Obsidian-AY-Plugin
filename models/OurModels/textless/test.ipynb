{
 "cells": [
  {
   "cell_type": "code",
   "execution_count": 2,
   "metadata": {},
   "outputs": [],
   "source": [
    "# %load_ext autoreload\n",
    "# %autoreload 2"
   ]
  },
  {
   "cell_type": "markdown",
   "metadata": {},
   "source": [
    "# Load Packages"
   ]
  },
  {
   "cell_type": "code",
   "execution_count": 3,
   "metadata": {},
   "outputs": [],
   "source": [
    "import torch\n",
    "import torchaudio\n",
    "from textless.data.speech_encoder import SpeechEncoder\n",
    "from torch_kmeans import KMeans"
   ]
  },
  {
   "cell_type": "markdown",
   "metadata": {},
   "source": [
    "# Load SpeechEncoder"
   ]
  },
  {
   "cell_type": "markdown",
   "metadata": {},
   "source": [
    "从textless下载并加载SpeechEncoder模型。"
   ]
  },
  {
   "cell_type": "code",
   "execution_count": 4,
   "metadata": {},
   "outputs": [],
   "source": [
    "class SpeechEncoder:\n",
    "    def __init__(self, dense_model_name, quantizer_name='kmeans', vocab_size=500):\n",
    "        self.model = self.load_SpeechEncoder(dense_model_name, quantizer_name=quantizer_name,voca_size=vocab_size)\n",
    "\n",
    "    def load_SpeechEncoder(self, dense_model_name, quantizer_name='kmeans', vocab_size=500):\n",
    "        # We can build a speech encoder module using names of pre-trained\n",
    "        # dense and quantizer models.  The call below will download\n",
    "        # appropriate checkpoints as needed behind the scenes. We can\n",
    "        # also construct an encoder by directly passing model instances\n",
    "        self.encoder = SpeechEncoder.by_name(\n",
    "            dense_model_name=dense_model_name,\n",
    "            quantizer_model_name=quantizer_name,\n",
    "            vocab_size=vocab_size,\n",
    "            deduplicate=True,\n",
    "            need_f0=False\n",
    "        )\n",
    "        return self.encoder\n",
    "\n",
    "    def encode_speech(self, x):\n",
    "        # res is a dict with keys ('dense', 'units', 'durations').\n",
    "        # It can also contain 'f0' if SpeechEncoder was initialized\n",
    "        # with need_f0=True flag.\n",
    "        res = self.model(x)\n",
    "        \n",
    "        units = res[\"units\"]  # tensor([71, 12, 57, ...], ...)\n",
    "        res['original_units'] = torch.repeat_interleave(units, res[\"durations\"])\n",
    "        return res"
   ]
  },
  {
   "cell_type": "code",
   "execution_count": 5,
   "metadata": {},
   "outputs": [],
   "source": [
    "def load_SpeechEncoder():\n",
    "    dense_model_name = \"hubert-base-ls960\"\n",
    "    quantizer_name, vocab_size = \"kmeans\", 500\n",
    "    # input_file = \"/home/ay/LibriSeVoc/diffwave/103_1241_000004_000002_gen.wav\"\n",
    "\n",
    "    # We can build a speech encoder module using names of pre-trained\n",
    "    # dense and quantizer models.  The call below will download\n",
    "    # appropriate checkpoints as needed behind the scenes. We can\n",
    "    # also construct an encoder by directly passing model instances\n",
    "    encoder = SpeechEncoder.by_name(\n",
    "        dense_model_name=dense_model_name,\n",
    "        quantizer_model_name=quantizer_name,\n",
    "        vocab_size=vocab_size,\n",
    "        deduplicate=True,\n",
    "        need_f0=False\n",
    "    )\n",
    "    return encoder\n",
    "\n",
    "\n",
    "def encode_speech(encoder, x):\n",
    "    # res is a dict with keys ('dense', 'units', 'durations').\n",
    "    # It can also contain 'f0' if SpeechEncoder was initialized\n",
    "    # with need_f0=True flag.\n",
    "    res = encoder(x)\n",
    "    \n",
    "    units = res[\"units\"]  # tensor([71, 12, 57, ...], ...)\n",
    "    res['original_units'] = torch.repeat_interleave(units, res[\"durations\"])\n",
    "    return res"
   ]
  }
 ],
 "metadata": {
  "kernelspec": {
   "display_name": "torch",
   "language": "python",
   "name": "python3"
  },
  "language_info": {
   "codemirror_mode": {
    "name": "ipython",
    "version": 3
   },
   "file_extension": ".py",
   "mimetype": "text/x-python",
   "name": "python",
   "nbconvert_exporter": "python",
   "pygments_lexer": "ipython3",
   "version": "3.9.16"
  }
 },
 "nbformat": 4,
 "nbformat_minor": 2
}
