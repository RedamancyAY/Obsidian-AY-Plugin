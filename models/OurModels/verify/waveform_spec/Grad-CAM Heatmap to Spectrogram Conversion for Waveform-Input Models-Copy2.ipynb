{
 "cells": [
  {
   "cell_type": "markdown",
   "id": "d911c9f0",
   "metadata": {},
   "source": [
    "# Grad-CAM Heatmap to Spectrogram Conversion for Waveform-Input Models"
   ]
  },
  {
   "cell_type": "markdown",
   "id": "094518d3",
   "metadata": {},
   "source": [
    "Title: **Exploring the Fusion of Visualization and Audio Analysis: Grad-CAM Heatmap to Spectrogram Conversion for Waveform-Input Models**\n",
    "\n",
    "Introduction:\n",
    "\n",
    "The advent of deep learning in audio signal processing has revolutionized how we analyze, understand, and manipulate sound. Models that take raw waveforms as input have shown remarkable performance in tasks ranging from speech recognition to music genre classification. However, interpreting these \"black box\" models remains a challenge. This is where techniques like Gradient-weighted Class Activation Mapping (Grad-CAM) come into play, providing visual explanations for the decisions made by convolutional neural networks (CNNs). \n",
    "\n",
    "Grad-CAM generates heatmaps that highlight the regions in the input image that are most relevant for predicting a particular class. While originally designed for image classification tasks, adapting Grad-CAM for waveform-input models introduces a unique challenge: translating the spatial significance of an image to the temporal and frequency dimensions of audio. Here, we propose an innovative approach to convert Grad-CAM heatmaps into spectrograms, which are visual representations of the spectrum of frequencies of a signal as it varies with time. This conversion not only bridges the gap between the visual interpretation tools of image processing and the domain of audio analysis but also provides a novel way to interpret how waveform-input models make their decisions.\n",
    "\n",
    "**Why Convert Grad-CAM Heatmaps to Spectrograms?**\n",
    "\n",
    "1. **Enhanced Interpretability:** By converting the heatmaps to spectrograms, we can directly correlate the model's focus areas with the actual audio features, making it easier for audio engineers, researchers, and even musicians to understand what aspects of the sound the model is attending to.\n",
    "\n",
    "2. **Temporal and Frequency Analysis:** Spectrograms allow us to see how the importance of different frequency components changes over time, which is crucial for understanding dynamic audio signals like music or speech.\n",
    "\n",
    "3. **Model Debugging and Improvement:** This conversion can help in identifying whether the model is focusing on the right audio features for classification, which can lead to better model design, training, and feature engineering.\n",
    "\n",
    "4. **Educational and Creative Applications:** The visual representation of what a model 'hears' can be used in educational contexts to teach about audio signal processing or in creative applications where artists can interact with AI in new ways.\n",
    "\n",
    "In this paper, we will delve into the methodology behind converting Grad-CAM heatmaps to spectrograms, discuss the implications for waveform-input models, and explore potential applications. This work aims to push the boundaries of model interpretability, combining the strengths of visual and auditory analysis to foster a deeper understanding of how deep learning models perceive and process audio data."
   ]
  },
  {
   "cell_type": "markdown",
   "id": "02b9d4e0",
   "metadata": {},
   "source": [
    "## Introduction"
   ]
  },
  {
   "cell_type": "markdown",
   "id": "539bc4c0",
   "metadata": {},
   "source": [
    "This notebook demonstrates:\n",
    "- how to apply the **Grad-CAM** technique to generate a heatmap for a waveform-input model, and subsequently\n",
    "- convert the heatmap of the waveform into a spectrogram using Torch.\n",
    "\n",
    "The notebook guides through the process of installing necessary libraries, importing required libraries and loading a dataset of waveforms, defining a PyTorch model that takes waveforms as input, applying Grad-CAM to generate a heatmap, converting the heatmap into a spectrogram with Torch, and finally visualizing the resulting spectrogram using a library like matplotlib or seaborn."
   ]
  },
  {
   "cell_type": "markdown",
   "id": "a1524980",
   "metadata": {},
   "source": [
    "## Import Libraries and Load Data"
   ]
  },
  {
   "cell_type": "code",
   "execution_count": 168,
   "id": "1d397ff2",
   "metadata": {
    "execution": {
     "iopub.execute_input": "2024-11-20T01:58:42.081715Z",
     "iopub.status.busy": "2024-11-20T01:58:42.081042Z",
     "iopub.status.idle": "2024-11-20T01:58:42.091638Z",
     "shell.execute_reply": "2024-11-20T01:58:42.089912Z",
     "shell.execute_reply.started": "2024-11-20T01:58:42.081644Z"
    }
   },
   "outputs": [],
   "source": [
    "# Import necessary libraries\n",
    "import torch\n",
    "import torchvision\n",
    "import numpy as np  # for numerical computations\n",
    "import matplotlib.pyplot as plt  # for plotting (optional)\n",
    "from torch.utils.data import DataLoader"
   ]
  },
  {
   "cell_type": "code",
   "execution_count": 169,
   "id": "bd31b115",
   "metadata": {
    "execution": {
     "iopub.execute_input": "2024-11-20T01:58:42.903809Z",
     "iopub.status.busy": "2024-11-20T01:58:42.903228Z",
     "iopub.status.idle": "2024-11-20T01:58:42.913064Z",
     "shell.execute_reply": "2024-11-20T01:58:42.911424Z",
     "shell.execute_reply.started": "2024-11-20T01:58:42.903751Z"
    }
   },
   "outputs": [],
   "source": [
    "# Set seed for reproducibility\n",
    "torch.manual_seed(42)\n",
    "np.random.seed(42)"
   ]
  },
  {
   "cell_type": "code",
   "execution_count": 170,
   "id": "b063dc9f",
   "metadata": {
    "editable": true,
    "execution": {
     "iopub.execute_input": "2024-11-20T01:58:43.661573Z",
     "iopub.status.busy": "2024-11-20T01:58:43.660992Z",
     "iopub.status.idle": "2024-11-20T01:58:43.669542Z",
     "shell.execute_reply": "2024-11-20T01:58:43.667931Z",
     "shell.execute_reply.started": "2024-11-20T01:58:43.661515Z"
    },
    "slideshow": {
     "slide_type": ""
    },
    "tags": []
   },
   "outputs": [],
   "source": [
    "from ay2.torch.data.audio import WaveDataset"
   ]
  },
  {
   "cell_type": "markdown",
   "id": "f03ee291-e548-48fb-8bd9-0014028347f7",
   "metadata": {},
   "source": [
    "### Load data"
   ]
  },
  {
   "cell_type": "markdown",
   "id": "3dbf4350",
   "metadata": {},
   "source": [
    "We use Codecfake dataset for testing."
   ]
  },
  {
   "cell_type": "code",
   "execution_count": 171,
   "id": "39fad685-935d-46b7-9792-c99459389d2f",
   "metadata": {
    "execution": {
     "iopub.execute_input": "2024-11-20T01:58:46.048082Z",
     "iopub.status.busy": "2024-11-20T01:58:46.047447Z",
     "iopub.status.idle": "2024-11-20T01:58:46.056961Z",
     "shell.execute_reply": "2024-11-20T01:58:46.055340Z",
     "shell.execute_reply.started": "2024-11-20T01:58:46.048024Z"
    }
   },
   "outputs": [],
   "source": [
    "from ay2.datasets.audio import Codecfake_AudioDs\n",
    "from ay2.datasets.audio._codecfake import ROOT_PATH as Codecfake_Root_path"
   ]
  },
  {
   "cell_type": "code",
   "execution_count": 172,
   "id": "923bf8f7-d25b-4484-9ce3-b9fc457f4568",
   "metadata": {
    "execution": {
     "iopub.execute_input": "2024-11-20T01:58:47.414049Z",
     "iopub.status.busy": "2024-11-20T01:58:47.413454Z",
     "iopub.status.idle": "2024-11-20T01:58:52.576781Z",
     "shell.execute_reply": "2024-11-20T01:58:52.575586Z",
     "shell.execute_reply.started": "2024-11-20T01:58:47.413991Z"
    }
   },
   "outputs": [
    {
     "name": "stderr",
     "output_type": "stream",
     "text": [
      "/usr/local/ay_data/packages2/ay2/datasets/base.py:78: DtypeWarning: Columns (4,6) have mixed types. Specify dtype option on import or set low_memory=False.\n",
      "  return pd.read_csv(data_path)\n"
     ]
    }
   ],
   "source": [
    "codecfake = Codecfake_AudioDs(root_path=Codecfake_Root_path)\n",
    "# We only use the first 5 samples in codecfake.\n",
    "ds = WaveDataset(data=codecfake.data.iloc[0:5])"
   ]
  },
  {
   "cell_type": "code",
   "execution_count": 174,
   "id": "8730fed8-3bef-42bf-bd65-6283ade85d48",
   "metadata": {
    "execution": {
     "iopub.execute_input": "2024-11-20T02:00:07.811822Z",
     "iopub.status.busy": "2024-11-20T02:00:07.811502Z",
     "iopub.status.idle": "2024-11-20T02:00:07.831518Z",
     "shell.execute_reply": "2024-11-20T02:00:07.830548Z",
     "shell.execute_reply.started": "2024-11-20T02:00:07.811796Z"
    }
   },
   "outputs": [
    {
     "data": {
      "text/plain": [
       "{'sample_rate': 16000,\n",
       " 'label': 0,\n",
       " 'name': '/mnt/data1/zky/Codecfake16k/test/A1/L1_p225_004.wav',\n",
       " 'vocoder_label': 8,\n",
       " 'speed_label': 5,\n",
       " 'compression_label': 0,\n",
       " 'audio': tensor([[ 0.0005,  0.0004,  0.0003,  ..., -0.0005, -0.0005, -0.0004]])}"
      ]
     },
     "execution_count": 174,
     "metadata": {},
     "output_type": "execute_result"
    }
   ],
   "source": [
    "ds[0]"
   ]
  },
  {
   "cell_type": "markdown",
   "id": "78dff32b-a47b-470e-899f-f4a9d35f529a",
   "metadata": {},
   "source": [
    "Look the first element of the `ds`. As can be seen, the data structure is \n",
    "```python\n",
    "{'sample_rate': audio fps,\n",
    " 'label': 0 or 1,\n",
    " 'name':  path of audio,\n",
    " 'vocoder_label': 8,\n",
    " 'speed_label': 5,\n",
    " 'compression_label': 0,\n",
    " 'audio': torch.Tensor with shape of (1, L)\n",
    "}\n",
    "```"
   ]
  },
  {
   "cell_type": "markdown",
   "id": "5f8d6ded",
   "metadata": {},
   "source": [
    "## Define Waveform-Input Model"
   ]
  },
  {
   "cell_type": "markdown",
   "id": "311c210d-c1b3-427a-bad2-72d3d77c00a7",
   "metadata": {},
   "source": [
    "We use the AASIST model that uses 1D waveform as input for presentation."
   ]
  },
  {
   "cell_type": "code",
   "execution_count": 175,
   "id": "d466a8cb-44fd-481d-8629-91e9d38f741f",
   "metadata": {
    "execution": {
     "iopub.execute_input": "2024-11-20T02:00:48.021744Z",
     "iopub.status.busy": "2024-11-20T02:00:48.021211Z",
     "iopub.status.idle": "2024-11-20T02:00:48.029407Z",
     "shell.execute_reply": "2024-11-20T02:00:48.028105Z",
     "shell.execute_reply.started": "2024-11-20T02:00:48.021696Z"
    }
   },
   "outputs": [],
   "source": [
    "import sys\n",
    "sys.path.append(\"/home/ay/Coding2/0-Deepfake/2-Audio\")\n",
    "\n",
    "from models.Aaasist import AASIST_lit"
   ]
  },
  {
   "cell_type": "code",
   "execution_count": 176,
   "id": "f2e28084-27be-49df-aacc-ed5b60dd56d6",
   "metadata": {
    "execution": {
     "iopub.execute_input": "2024-11-20T02:00:50.085627Z",
     "iopub.status.busy": "2024-11-20T02:00:50.085053Z",
     "iopub.status.idle": "2024-11-20T02:00:50.158120Z",
     "shell.execute_reply": "2024-11-20T02:00:50.156975Z",
     "shell.execute_reply.started": "2024-11-20T02:00:50.085570Z"
    }
   },
   "outputs": [
    {
     "name": "stdout",
     "output_type": "stream",
     "text": [
      "no. model params:297705\n"
     ]
    }
   ],
   "source": [
    "model = AASIST_lit(ckpt_path=\"/home/ay/data/DATA/1-model_save/00-Deepfake/1-df-audio/AASIST/Codecfake/version_0/checkpoints/best-epoch=1-val-auc=0.9999.ckpt\")\n",
    "model = model.model"
   ]
  },
  {
   "cell_type": "code",
   "execution_count": 119,
   "id": "53d0eb76-70df-463b-8a56-1cdf03a73610",
   "metadata": {
    "execution": {
     "iopub.execute_input": "2024-11-19T07:22:10.817089Z",
     "iopub.status.busy": "2024-11-19T07:22:10.816105Z",
     "iopub.status.idle": "2024-11-19T07:22:10.833561Z",
     "shell.execute_reply": "2024-11-19T07:22:10.832229Z",
     "shell.execute_reply.started": "2024-11-19T07:22:10.817027Z"
    },
    "scrolled": true
   },
   "outputs": [
    {
     "name": "stdout",
     "output_type": "stream",
     "text": [
      "('', Model(\n",
      "  (conv_time): CONV()\n",
      "  (first_bn): BatchNorm2d(1, eps=1e-05, momentum=0.1, affine=True, track_running_stats=True)\n",
      "  (drop): Dropout(p=0.5, inplace=True)\n",
      "  (drop_way): Dropout(p=0.2, inplace=True)\n",
      "  (selu): SELU(inplace=True)\n",
      "  (encoder): Sequential(\n",
      "    (0): Sequential(\n",
      "      (0): Residual_block(\n",
      "        (conv1): Conv2d(1, 32, kernel_size=(2, 3), stride=(1, 1), padding=(1, 1))\n",
      "        (selu): SELU(inplace=True)\n",
      "        (bn2): BatchNorm2d(32, eps=1e-05, momentum=0.1, affine=True, track_running_stats=True)\n",
      "        (conv2): Conv2d(32, 32, kernel_size=(2, 3), stride=(1, 1), padding=(0, 1))\n",
      "        (conv_downsample): Conv2d(1, 32, kernel_size=(1, 3), stride=(1, 1), padding=(0, 1))\n",
      "        (mp): MaxPool2d(kernel_size=(1, 3), stride=(1, 3), padding=0, dilation=1, ceil_mode=False)\n",
      "      )\n",
      "    )\n",
      "    (1): Sequential(\n",
      "      (0): Residual_block(\n",
      "        (bn1): BatchNorm2d(32, eps=1e-05, momentum=0.1, affine=True, track_running_stats=True)\n",
      "        (conv1): Conv2d(32, 32, kernel_size=(2, 3), stride=(1, 1), padding=(1, 1))\n",
      "        (selu): SELU(inplace=True)\n",
      "        (bn2): BatchNorm2d(32, eps=1e-05, momentum=0.1, affine=True, track_running_stats=True)\n",
      "        (conv2): Conv2d(32, 32, kernel_size=(2, 3), stride=(1, 1), padding=(0, 1))\n",
      "        (mp): MaxPool2d(kernel_size=(1, 3), stride=(1, 3), padding=0, dilation=1, ceil_mode=False)\n",
      "      )\n",
      "    )\n",
      "    (2): Sequential(\n",
      "      (0): Residual_block(\n",
      "        (bn1): BatchNorm2d(32, eps=1e-05, momentum=0.1, affine=True, track_running_stats=True)\n",
      "        (conv1): Conv2d(32, 64, kernel_size=(2, 3), stride=(1, 1), padding=(1, 1))\n",
      "        (selu): SELU(inplace=True)\n",
      "        (bn2): BatchNorm2d(64, eps=1e-05, momentum=0.1, affine=True, track_running_stats=True)\n",
      "        (conv2): Conv2d(64, 64, kernel_size=(2, 3), stride=(1, 1), padding=(0, 1))\n",
      "        (conv_downsample): Conv2d(32, 64, kernel_size=(1, 3), stride=(1, 1), padding=(0, 1))\n",
      "        (mp): MaxPool2d(kernel_size=(1, 3), stride=(1, 3), padding=0, dilation=1, ceil_mode=False)\n",
      "      )\n",
      "    )\n",
      "    (3): Sequential(\n",
      "      (0): Residual_block(\n",
      "        (bn1): BatchNorm2d(64, eps=1e-05, momentum=0.1, affine=True, track_running_stats=True)\n",
      "        (conv1): Conv2d(64, 64, kernel_size=(2, 3), stride=(1, 1), padding=(1, 1))\n",
      "        (selu): SELU(inplace=True)\n",
      "        (bn2): BatchNorm2d(64, eps=1e-05, momentum=0.1, affine=True, track_running_stats=True)\n",
      "        (conv2): Conv2d(64, 64, kernel_size=(2, 3), stride=(1, 1), padding=(0, 1))\n",
      "        (mp): MaxPool2d(kernel_size=(1, 3), stride=(1, 3), padding=0, dilation=1, ceil_mode=False)\n",
      "      )\n",
      "    )\n",
      "    (4): Sequential(\n",
      "      (0): Residual_block(\n",
      "        (bn1): BatchNorm2d(64, eps=1e-05, momentum=0.1, affine=True, track_running_stats=True)\n",
      "        (conv1): Conv2d(64, 64, kernel_size=(2, 3), stride=(1, 1), padding=(1, 1))\n",
      "        (selu): SELU(inplace=True)\n",
      "        (bn2): BatchNorm2d(64, eps=1e-05, momentum=0.1, affine=True, track_running_stats=True)\n",
      "        (conv2): Conv2d(64, 64, kernel_size=(2, 3), stride=(1, 1), padding=(0, 1))\n",
      "        (mp): MaxPool2d(kernel_size=(1, 3), stride=(1, 3), padding=0, dilation=1, ceil_mode=False)\n",
      "      )\n",
      "    )\n",
      "    (5): Sequential(\n",
      "      (0): Residual_block(\n",
      "        (bn1): BatchNorm2d(64, eps=1e-05, momentum=0.1, affine=True, track_running_stats=True)\n",
      "        (conv1): Conv2d(64, 64, kernel_size=(2, 3), stride=(1, 1), padding=(1, 1))\n",
      "        (selu): SELU(inplace=True)\n",
      "        (bn2): BatchNorm2d(64, eps=1e-05, momentum=0.1, affine=True, track_running_stats=True)\n",
      "        (conv2): Conv2d(64, 64, kernel_size=(2, 3), stride=(1, 1), padding=(0, 1))\n",
      "        (mp): MaxPool2d(kernel_size=(1, 3), stride=(1, 3), padding=0, dilation=1, ceil_mode=False)\n",
      "      )\n",
      "    )\n",
      "  )\n",
      "  (GAT_layer_S): GraphAttentionLayer(\n",
      "    (att_proj): Linear(in_features=64, out_features=64, bias=True)\n",
      "    (proj_with_att): Linear(in_features=64, out_features=64, bias=True)\n",
      "    (proj_without_att): Linear(in_features=64, out_features=64, bias=True)\n",
      "    (bn): BatchNorm1d(64, eps=1e-05, momentum=0.1, affine=True, track_running_stats=True)\n",
      "    (input_drop): Dropout(p=0.2, inplace=False)\n",
      "    (act): SELU(inplace=True)\n",
      "  )\n",
      "  (GAT_layer_T): GraphAttentionLayer(\n",
      "    (att_proj): Linear(in_features=64, out_features=64, bias=True)\n",
      "    (proj_with_att): Linear(in_features=64, out_features=64, bias=True)\n",
      "    (proj_without_att): Linear(in_features=64, out_features=64, bias=True)\n",
      "    (bn): BatchNorm1d(64, eps=1e-05, momentum=0.1, affine=True, track_running_stats=True)\n",
      "    (input_drop): Dropout(p=0.2, inplace=False)\n",
      "    (act): SELU(inplace=True)\n",
      "  )\n",
      "  (HtrgGAT_layer_ST11): HtrgGraphAttentionLayer(\n",
      "    (proj_type1): Linear(in_features=64, out_features=64, bias=True)\n",
      "    (proj_type2): Linear(in_features=64, out_features=64, bias=True)\n",
      "    (att_proj): Linear(in_features=64, out_features=32, bias=True)\n",
      "    (att_projM): Linear(in_features=64, out_features=32, bias=True)\n",
      "    (proj_with_att): Linear(in_features=64, out_features=32, bias=True)\n",
      "    (proj_without_att): Linear(in_features=64, out_features=32, bias=True)\n",
      "    (proj_with_attM): Linear(in_features=64, out_features=32, bias=True)\n",
      "    (proj_without_attM): Linear(in_features=64, out_features=32, bias=True)\n",
      "    (bn): BatchNorm1d(32, eps=1e-05, momentum=0.1, affine=True, track_running_stats=True)\n",
      "    (input_drop): Dropout(p=0.2, inplace=False)\n",
      "    (act): SELU(inplace=True)\n",
      "  )\n",
      "  (HtrgGAT_layer_ST12): HtrgGraphAttentionLayer(\n",
      "    (proj_type1): Linear(in_features=32, out_features=32, bias=True)\n",
      "    (proj_type2): Linear(in_features=32, out_features=32, bias=True)\n",
      "    (att_proj): Linear(in_features=32, out_features=32, bias=True)\n",
      "    (att_projM): Linear(in_features=32, out_features=32, bias=True)\n",
      "    (proj_with_att): Linear(in_features=32, out_features=32, bias=True)\n",
      "    (proj_without_att): Linear(in_features=32, out_features=32, bias=True)\n",
      "    (proj_with_attM): Linear(in_features=32, out_features=32, bias=True)\n",
      "    (proj_without_attM): Linear(in_features=32, out_features=32, bias=True)\n",
      "    (bn): BatchNorm1d(32, eps=1e-05, momentum=0.1, affine=True, track_running_stats=True)\n",
      "    (input_drop): Dropout(p=0.2, inplace=False)\n",
      "    (act): SELU(inplace=True)\n",
      "  )\n",
      "  (HtrgGAT_layer_ST21): HtrgGraphAttentionLayer(\n",
      "    (proj_type1): Linear(in_features=64, out_features=64, bias=True)\n",
      "    (proj_type2): Linear(in_features=64, out_features=64, bias=True)\n",
      "    (att_proj): Linear(in_features=64, out_features=32, bias=True)\n",
      "    (att_projM): Linear(in_features=64, out_features=32, bias=True)\n",
      "    (proj_with_att): Linear(in_features=64, out_features=32, bias=True)\n",
      "    (proj_without_att): Linear(in_features=64, out_features=32, bias=True)\n",
      "    (proj_with_attM): Linear(in_features=64, out_features=32, bias=True)\n",
      "    (proj_without_attM): Linear(in_features=64, out_features=32, bias=True)\n",
      "    (bn): BatchNorm1d(32, eps=1e-05, momentum=0.1, affine=True, track_running_stats=True)\n",
      "    (input_drop): Dropout(p=0.2, inplace=False)\n",
      "    (act): SELU(inplace=True)\n",
      "  )\n",
      "  (HtrgGAT_layer_ST22): HtrgGraphAttentionLayer(\n",
      "    (proj_type1): Linear(in_features=32, out_features=32, bias=True)\n",
      "    (proj_type2): Linear(in_features=32, out_features=32, bias=True)\n",
      "    (att_proj): Linear(in_features=32, out_features=32, bias=True)\n",
      "    (att_projM): Linear(in_features=32, out_features=32, bias=True)\n",
      "    (proj_with_att): Linear(in_features=32, out_features=32, bias=True)\n",
      "    (proj_without_att): Linear(in_features=32, out_features=32, bias=True)\n",
      "    (proj_with_attM): Linear(in_features=32, out_features=32, bias=True)\n",
      "    (proj_without_attM): Linear(in_features=32, out_features=32, bias=True)\n",
      "    (bn): BatchNorm1d(32, eps=1e-05, momentum=0.1, affine=True, track_running_stats=True)\n",
      "    (input_drop): Dropout(p=0.2, inplace=False)\n",
      "    (act): SELU(inplace=True)\n",
      "  )\n",
      "  (pool_S): GraphPool(\n",
      "    (sigmoid): Sigmoid()\n",
      "    (proj): Linear(in_features=64, out_features=1, bias=True)\n",
      "    (drop): Dropout(p=0.3, inplace=False)\n",
      "  )\n",
      "  (pool_T): GraphPool(\n",
      "    (sigmoid): Sigmoid()\n",
      "    (proj): Linear(in_features=64, out_features=1, bias=True)\n",
      "    (drop): Dropout(p=0.3, inplace=False)\n",
      "  )\n",
      "  (pool_hS1): GraphPool(\n",
      "    (sigmoid): Sigmoid()\n",
      "    (proj): Linear(in_features=32, out_features=1, bias=True)\n",
      "    (drop): Dropout(p=0.3, inplace=False)\n",
      "  )\n",
      "  (pool_hT1): GraphPool(\n",
      "    (sigmoid): Sigmoid()\n",
      "    (proj): Linear(in_features=32, out_features=1, bias=True)\n",
      "    (drop): Dropout(p=0.3, inplace=False)\n",
      "  )\n",
      "  (pool_hS2): GraphPool(\n",
      "    (sigmoid): Sigmoid()\n",
      "    (proj): Linear(in_features=32, out_features=1, bias=True)\n",
      "    (drop): Dropout(p=0.3, inplace=False)\n",
      "  )\n",
      "  (pool_hT2): GraphPool(\n",
      "    (sigmoid): Sigmoid()\n",
      "    (proj): Linear(in_features=32, out_features=1, bias=True)\n",
      "    (drop): Dropout(p=0.3, inplace=False)\n",
      "  )\n",
      "  (out_layer): Linear(in_features=160, out_features=1, bias=True)\n",
      "))\n",
      "('conv_time', CONV())\n",
      "('first_bn', BatchNorm2d(1, eps=1e-05, momentum=0.1, affine=True, track_running_stats=True))\n",
      "('drop', Dropout(p=0.5, inplace=True))\n",
      "('drop_way', Dropout(p=0.2, inplace=True))\n",
      "('selu', SELU(inplace=True))\n",
      "('encoder', Sequential(\n",
      "  (0): Sequential(\n",
      "    (0): Residual_block(\n",
      "      (conv1): Conv2d(1, 32, kernel_size=(2, 3), stride=(1, 1), padding=(1, 1))\n",
      "      (selu): SELU(inplace=True)\n",
      "      (bn2): BatchNorm2d(32, eps=1e-05, momentum=0.1, affine=True, track_running_stats=True)\n",
      "      (conv2): Conv2d(32, 32, kernel_size=(2, 3), stride=(1, 1), padding=(0, 1))\n",
      "      (conv_downsample): Conv2d(1, 32, kernel_size=(1, 3), stride=(1, 1), padding=(0, 1))\n",
      "      (mp): MaxPool2d(kernel_size=(1, 3), stride=(1, 3), padding=0, dilation=1, ceil_mode=False)\n",
      "    )\n",
      "  )\n",
      "  (1): Sequential(\n",
      "    (0): Residual_block(\n",
      "      (bn1): BatchNorm2d(32, eps=1e-05, momentum=0.1, affine=True, track_running_stats=True)\n",
      "      (conv1): Conv2d(32, 32, kernel_size=(2, 3), stride=(1, 1), padding=(1, 1))\n",
      "      (selu): SELU(inplace=True)\n",
      "      (bn2): BatchNorm2d(32, eps=1e-05, momentum=0.1, affine=True, track_running_stats=True)\n",
      "      (conv2): Conv2d(32, 32, kernel_size=(2, 3), stride=(1, 1), padding=(0, 1))\n",
      "      (mp): MaxPool2d(kernel_size=(1, 3), stride=(1, 3), padding=0, dilation=1, ceil_mode=False)\n",
      "    )\n",
      "  )\n",
      "  (2): Sequential(\n",
      "    (0): Residual_block(\n",
      "      (bn1): BatchNorm2d(32, eps=1e-05, momentum=0.1, affine=True, track_running_stats=True)\n",
      "      (conv1): Conv2d(32, 64, kernel_size=(2, 3), stride=(1, 1), padding=(1, 1))\n",
      "      (selu): SELU(inplace=True)\n",
      "      (bn2): BatchNorm2d(64, eps=1e-05, momentum=0.1, affine=True, track_running_stats=True)\n",
      "      (conv2): Conv2d(64, 64, kernel_size=(2, 3), stride=(1, 1), padding=(0, 1))\n",
      "      (conv_downsample): Conv2d(32, 64, kernel_size=(1, 3), stride=(1, 1), padding=(0, 1))\n",
      "      (mp): MaxPool2d(kernel_size=(1, 3), stride=(1, 3), padding=0, dilation=1, ceil_mode=False)\n",
      "    )\n",
      "  )\n",
      "  (3): Sequential(\n",
      "    (0): Residual_block(\n",
      "      (bn1): BatchNorm2d(64, eps=1e-05, momentum=0.1, affine=True, track_running_stats=True)\n",
      "      (conv1): Conv2d(64, 64, kernel_size=(2, 3), stride=(1, 1), padding=(1, 1))\n",
      "      (selu): SELU(inplace=True)\n",
      "      (bn2): BatchNorm2d(64, eps=1e-05, momentum=0.1, affine=True, track_running_stats=True)\n",
      "      (conv2): Conv2d(64, 64, kernel_size=(2, 3), stride=(1, 1), padding=(0, 1))\n",
      "      (mp): MaxPool2d(kernel_size=(1, 3), stride=(1, 3), padding=0, dilation=1, ceil_mode=False)\n",
      "    )\n",
      "  )\n",
      "  (4): Sequential(\n",
      "    (0): Residual_block(\n",
      "      (bn1): BatchNorm2d(64, eps=1e-05, momentum=0.1, affine=True, track_running_stats=True)\n",
      "      (conv1): Conv2d(64, 64, kernel_size=(2, 3), stride=(1, 1), padding=(1, 1))\n",
      "      (selu): SELU(inplace=True)\n",
      "      (bn2): BatchNorm2d(64, eps=1e-05, momentum=0.1, affine=True, track_running_stats=True)\n",
      "      (conv2): Conv2d(64, 64, kernel_size=(2, 3), stride=(1, 1), padding=(0, 1))\n",
      "      (mp): MaxPool2d(kernel_size=(1, 3), stride=(1, 3), padding=0, dilation=1, ceil_mode=False)\n",
      "    )\n",
      "  )\n",
      "  (5): Sequential(\n",
      "    (0): Residual_block(\n",
      "      (bn1): BatchNorm2d(64, eps=1e-05, momentum=0.1, affine=True, track_running_stats=True)\n",
      "      (conv1): Conv2d(64, 64, kernel_size=(2, 3), stride=(1, 1), padding=(1, 1))\n",
      "      (selu): SELU(inplace=True)\n",
      "      (bn2): BatchNorm2d(64, eps=1e-05, momentum=0.1, affine=True, track_running_stats=True)\n",
      "      (conv2): Conv2d(64, 64, kernel_size=(2, 3), stride=(1, 1), padding=(0, 1))\n",
      "      (mp): MaxPool2d(kernel_size=(1, 3), stride=(1, 3), padding=0, dilation=1, ceil_mode=False)\n",
      "    )\n",
      "  )\n",
      "))\n",
      "('encoder.0', Sequential(\n",
      "  (0): Residual_block(\n",
      "    (conv1): Conv2d(1, 32, kernel_size=(2, 3), stride=(1, 1), padding=(1, 1))\n",
      "    (selu): SELU(inplace=True)\n",
      "    (bn2): BatchNorm2d(32, eps=1e-05, momentum=0.1, affine=True, track_running_stats=True)\n",
      "    (conv2): Conv2d(32, 32, kernel_size=(2, 3), stride=(1, 1), padding=(0, 1))\n",
      "    (conv_downsample): Conv2d(1, 32, kernel_size=(1, 3), stride=(1, 1), padding=(0, 1))\n",
      "    (mp): MaxPool2d(kernel_size=(1, 3), stride=(1, 3), padding=0, dilation=1, ceil_mode=False)\n",
      "  )\n",
      "))\n",
      "('encoder.0.0', Residual_block(\n",
      "  (conv1): Conv2d(1, 32, kernel_size=(2, 3), stride=(1, 1), padding=(1, 1))\n",
      "  (selu): SELU(inplace=True)\n",
      "  (bn2): BatchNorm2d(32, eps=1e-05, momentum=0.1, affine=True, track_running_stats=True)\n",
      "  (conv2): Conv2d(32, 32, kernel_size=(2, 3), stride=(1, 1), padding=(0, 1))\n",
      "  (conv_downsample): Conv2d(1, 32, kernel_size=(1, 3), stride=(1, 1), padding=(0, 1))\n",
      "  (mp): MaxPool2d(kernel_size=(1, 3), stride=(1, 3), padding=0, dilation=1, ceil_mode=False)\n",
      "))\n",
      "('encoder.0.0.conv1', Conv2d(1, 32, kernel_size=(2, 3), stride=(1, 1), padding=(1, 1)))\n",
      "('encoder.0.0.selu', SELU(inplace=True))\n",
      "('encoder.0.0.bn2', BatchNorm2d(32, eps=1e-05, momentum=0.1, affine=True, track_running_stats=True))\n",
      "('encoder.0.0.conv2', Conv2d(32, 32, kernel_size=(2, 3), stride=(1, 1), padding=(0, 1)))\n",
      "('encoder.0.0.conv_downsample', Conv2d(1, 32, kernel_size=(1, 3), stride=(1, 1), padding=(0, 1)))\n",
      "('encoder.0.0.mp', MaxPool2d(kernel_size=(1, 3), stride=(1, 3), padding=0, dilation=1, ceil_mode=False))\n",
      "('encoder.1', Sequential(\n",
      "  (0): Residual_block(\n",
      "    (bn1): BatchNorm2d(32, eps=1e-05, momentum=0.1, affine=True, track_running_stats=True)\n",
      "    (conv1): Conv2d(32, 32, kernel_size=(2, 3), stride=(1, 1), padding=(1, 1))\n",
      "    (selu): SELU(inplace=True)\n",
      "    (bn2): BatchNorm2d(32, eps=1e-05, momentum=0.1, affine=True, track_running_stats=True)\n",
      "    (conv2): Conv2d(32, 32, kernel_size=(2, 3), stride=(1, 1), padding=(0, 1))\n",
      "    (mp): MaxPool2d(kernel_size=(1, 3), stride=(1, 3), padding=0, dilation=1, ceil_mode=False)\n",
      "  )\n",
      "))\n",
      "('encoder.1.0', Residual_block(\n",
      "  (bn1): BatchNorm2d(32, eps=1e-05, momentum=0.1, affine=True, track_running_stats=True)\n",
      "  (conv1): Conv2d(32, 32, kernel_size=(2, 3), stride=(1, 1), padding=(1, 1))\n",
      "  (selu): SELU(inplace=True)\n",
      "  (bn2): BatchNorm2d(32, eps=1e-05, momentum=0.1, affine=True, track_running_stats=True)\n",
      "  (conv2): Conv2d(32, 32, kernel_size=(2, 3), stride=(1, 1), padding=(0, 1))\n",
      "  (mp): MaxPool2d(kernel_size=(1, 3), stride=(1, 3), padding=0, dilation=1, ceil_mode=False)\n",
      "))\n",
      "('encoder.1.0.bn1', BatchNorm2d(32, eps=1e-05, momentum=0.1, affine=True, track_running_stats=True))\n",
      "('encoder.1.0.conv1', Conv2d(32, 32, kernel_size=(2, 3), stride=(1, 1), padding=(1, 1)))\n",
      "('encoder.1.0.selu', SELU(inplace=True))\n",
      "('encoder.1.0.bn2', BatchNorm2d(32, eps=1e-05, momentum=0.1, affine=True, track_running_stats=True))\n",
      "('encoder.1.0.conv2', Conv2d(32, 32, kernel_size=(2, 3), stride=(1, 1), padding=(0, 1)))\n",
      "('encoder.1.0.mp', MaxPool2d(kernel_size=(1, 3), stride=(1, 3), padding=0, dilation=1, ceil_mode=False))\n",
      "('encoder.2', Sequential(\n",
      "  (0): Residual_block(\n",
      "    (bn1): BatchNorm2d(32, eps=1e-05, momentum=0.1, affine=True, track_running_stats=True)\n",
      "    (conv1): Conv2d(32, 64, kernel_size=(2, 3), stride=(1, 1), padding=(1, 1))\n",
      "    (selu): SELU(inplace=True)\n",
      "    (bn2): BatchNorm2d(64, eps=1e-05, momentum=0.1, affine=True, track_running_stats=True)\n",
      "    (conv2): Conv2d(64, 64, kernel_size=(2, 3), stride=(1, 1), padding=(0, 1))\n",
      "    (conv_downsample): Conv2d(32, 64, kernel_size=(1, 3), stride=(1, 1), padding=(0, 1))\n",
      "    (mp): MaxPool2d(kernel_size=(1, 3), stride=(1, 3), padding=0, dilation=1, ceil_mode=False)\n",
      "  )\n",
      "))\n",
      "('encoder.2.0', Residual_block(\n",
      "  (bn1): BatchNorm2d(32, eps=1e-05, momentum=0.1, affine=True, track_running_stats=True)\n",
      "  (conv1): Conv2d(32, 64, kernel_size=(2, 3), stride=(1, 1), padding=(1, 1))\n",
      "  (selu): SELU(inplace=True)\n",
      "  (bn2): BatchNorm2d(64, eps=1e-05, momentum=0.1, affine=True, track_running_stats=True)\n",
      "  (conv2): Conv2d(64, 64, kernel_size=(2, 3), stride=(1, 1), padding=(0, 1))\n",
      "  (conv_downsample): Conv2d(32, 64, kernel_size=(1, 3), stride=(1, 1), padding=(0, 1))\n",
      "  (mp): MaxPool2d(kernel_size=(1, 3), stride=(1, 3), padding=0, dilation=1, ceil_mode=False)\n",
      "))\n",
      "('encoder.2.0.bn1', BatchNorm2d(32, eps=1e-05, momentum=0.1, affine=True, track_running_stats=True))\n",
      "('encoder.2.0.conv1', Conv2d(32, 64, kernel_size=(2, 3), stride=(1, 1), padding=(1, 1)))\n",
      "('encoder.2.0.selu', SELU(inplace=True))\n",
      "('encoder.2.0.bn2', BatchNorm2d(64, eps=1e-05, momentum=0.1, affine=True, track_running_stats=True))\n",
      "('encoder.2.0.conv2', Conv2d(64, 64, kernel_size=(2, 3), stride=(1, 1), padding=(0, 1)))\n",
      "('encoder.2.0.conv_downsample', Conv2d(32, 64, kernel_size=(1, 3), stride=(1, 1), padding=(0, 1)))\n",
      "('encoder.2.0.mp', MaxPool2d(kernel_size=(1, 3), stride=(1, 3), padding=0, dilation=1, ceil_mode=False))\n",
      "('encoder.3', Sequential(\n",
      "  (0): Residual_block(\n",
      "    (bn1): BatchNorm2d(64, eps=1e-05, momentum=0.1, affine=True, track_running_stats=True)\n",
      "    (conv1): Conv2d(64, 64, kernel_size=(2, 3), stride=(1, 1), padding=(1, 1))\n",
      "    (selu): SELU(inplace=True)\n",
      "    (bn2): BatchNorm2d(64, eps=1e-05, momentum=0.1, affine=True, track_running_stats=True)\n",
      "    (conv2): Conv2d(64, 64, kernel_size=(2, 3), stride=(1, 1), padding=(0, 1))\n",
      "    (mp): MaxPool2d(kernel_size=(1, 3), stride=(1, 3), padding=0, dilation=1, ceil_mode=False)\n",
      "  )\n",
      "))\n",
      "('encoder.3.0', Residual_block(\n",
      "  (bn1): BatchNorm2d(64, eps=1e-05, momentum=0.1, affine=True, track_running_stats=True)\n",
      "  (conv1): Conv2d(64, 64, kernel_size=(2, 3), stride=(1, 1), padding=(1, 1))\n",
      "  (selu): SELU(inplace=True)\n",
      "  (bn2): BatchNorm2d(64, eps=1e-05, momentum=0.1, affine=True, track_running_stats=True)\n",
      "  (conv2): Conv2d(64, 64, kernel_size=(2, 3), stride=(1, 1), padding=(0, 1))\n",
      "  (mp): MaxPool2d(kernel_size=(1, 3), stride=(1, 3), padding=0, dilation=1, ceil_mode=False)\n",
      "))\n",
      "('encoder.3.0.bn1', BatchNorm2d(64, eps=1e-05, momentum=0.1, affine=True, track_running_stats=True))\n",
      "('encoder.3.0.conv1', Conv2d(64, 64, kernel_size=(2, 3), stride=(1, 1), padding=(1, 1)))\n",
      "('encoder.3.0.selu', SELU(inplace=True))\n",
      "('encoder.3.0.bn2', BatchNorm2d(64, eps=1e-05, momentum=0.1, affine=True, track_running_stats=True))\n",
      "('encoder.3.0.conv2', Conv2d(64, 64, kernel_size=(2, 3), stride=(1, 1), padding=(0, 1)))\n",
      "('encoder.3.0.mp', MaxPool2d(kernel_size=(1, 3), stride=(1, 3), padding=0, dilation=1, ceil_mode=False))\n",
      "('encoder.4', Sequential(\n",
      "  (0): Residual_block(\n",
      "    (bn1): BatchNorm2d(64, eps=1e-05, momentum=0.1, affine=True, track_running_stats=True)\n",
      "    (conv1): Conv2d(64, 64, kernel_size=(2, 3), stride=(1, 1), padding=(1, 1))\n",
      "    (selu): SELU(inplace=True)\n",
      "    (bn2): BatchNorm2d(64, eps=1e-05, momentum=0.1, affine=True, track_running_stats=True)\n",
      "    (conv2): Conv2d(64, 64, kernel_size=(2, 3), stride=(1, 1), padding=(0, 1))\n",
      "    (mp): MaxPool2d(kernel_size=(1, 3), stride=(1, 3), padding=0, dilation=1, ceil_mode=False)\n",
      "  )\n",
      "))\n",
      "('encoder.4.0', Residual_block(\n",
      "  (bn1): BatchNorm2d(64, eps=1e-05, momentum=0.1, affine=True, track_running_stats=True)\n",
      "  (conv1): Conv2d(64, 64, kernel_size=(2, 3), stride=(1, 1), padding=(1, 1))\n",
      "  (selu): SELU(inplace=True)\n",
      "  (bn2): BatchNorm2d(64, eps=1e-05, momentum=0.1, affine=True, track_running_stats=True)\n",
      "  (conv2): Conv2d(64, 64, kernel_size=(2, 3), stride=(1, 1), padding=(0, 1))\n",
      "  (mp): MaxPool2d(kernel_size=(1, 3), stride=(1, 3), padding=0, dilation=1, ceil_mode=False)\n",
      "))\n",
      "('encoder.4.0.bn1', BatchNorm2d(64, eps=1e-05, momentum=0.1, affine=True, track_running_stats=True))\n",
      "('encoder.4.0.conv1', Conv2d(64, 64, kernel_size=(2, 3), stride=(1, 1), padding=(1, 1)))\n",
      "('encoder.4.0.selu', SELU(inplace=True))\n",
      "('encoder.4.0.bn2', BatchNorm2d(64, eps=1e-05, momentum=0.1, affine=True, track_running_stats=True))\n",
      "('encoder.4.0.conv2', Conv2d(64, 64, kernel_size=(2, 3), stride=(1, 1), padding=(0, 1)))\n",
      "('encoder.4.0.mp', MaxPool2d(kernel_size=(1, 3), stride=(1, 3), padding=0, dilation=1, ceil_mode=False))\n",
      "('encoder.5', Sequential(\n",
      "  (0): Residual_block(\n",
      "    (bn1): BatchNorm2d(64, eps=1e-05, momentum=0.1, affine=True, track_running_stats=True)\n",
      "    (conv1): Conv2d(64, 64, kernel_size=(2, 3), stride=(1, 1), padding=(1, 1))\n",
      "    (selu): SELU(inplace=True)\n",
      "    (bn2): BatchNorm2d(64, eps=1e-05, momentum=0.1, affine=True, track_running_stats=True)\n",
      "    (conv2): Conv2d(64, 64, kernel_size=(2, 3), stride=(1, 1), padding=(0, 1))\n",
      "    (mp): MaxPool2d(kernel_size=(1, 3), stride=(1, 3), padding=0, dilation=1, ceil_mode=False)\n",
      "  )\n",
      "))\n",
      "('encoder.5.0', Residual_block(\n",
      "  (bn1): BatchNorm2d(64, eps=1e-05, momentum=0.1, affine=True, track_running_stats=True)\n",
      "  (conv1): Conv2d(64, 64, kernel_size=(2, 3), stride=(1, 1), padding=(1, 1))\n",
      "  (selu): SELU(inplace=True)\n",
      "  (bn2): BatchNorm2d(64, eps=1e-05, momentum=0.1, affine=True, track_running_stats=True)\n",
      "  (conv2): Conv2d(64, 64, kernel_size=(2, 3), stride=(1, 1), padding=(0, 1))\n",
      "  (mp): MaxPool2d(kernel_size=(1, 3), stride=(1, 3), padding=0, dilation=1, ceil_mode=False)\n",
      "))\n",
      "('encoder.5.0.bn1', BatchNorm2d(64, eps=1e-05, momentum=0.1, affine=True, track_running_stats=True))\n",
      "('encoder.5.0.conv1', Conv2d(64, 64, kernel_size=(2, 3), stride=(1, 1), padding=(1, 1)))\n",
      "('encoder.5.0.selu', SELU(inplace=True))\n",
      "('encoder.5.0.bn2', BatchNorm2d(64, eps=1e-05, momentum=0.1, affine=True, track_running_stats=True))\n",
      "('encoder.5.0.conv2', Conv2d(64, 64, kernel_size=(2, 3), stride=(1, 1), padding=(0, 1)))\n",
      "('encoder.5.0.mp', MaxPool2d(kernel_size=(1, 3), stride=(1, 3), padding=0, dilation=1, ceil_mode=False))\n",
      "('GAT_layer_S', GraphAttentionLayer(\n",
      "  (att_proj): Linear(in_features=64, out_features=64, bias=True)\n",
      "  (proj_with_att): Linear(in_features=64, out_features=64, bias=True)\n",
      "  (proj_without_att): Linear(in_features=64, out_features=64, bias=True)\n",
      "  (bn): BatchNorm1d(64, eps=1e-05, momentum=0.1, affine=True, track_running_stats=True)\n",
      "  (input_drop): Dropout(p=0.2, inplace=False)\n",
      "  (act): SELU(inplace=True)\n",
      "))\n",
      "('GAT_layer_S.att_proj', Linear(in_features=64, out_features=64, bias=True))\n",
      "('GAT_layer_S.proj_with_att', Linear(in_features=64, out_features=64, bias=True))\n",
      "('GAT_layer_S.proj_without_att', Linear(in_features=64, out_features=64, bias=True))\n",
      "('GAT_layer_S.bn', BatchNorm1d(64, eps=1e-05, momentum=0.1, affine=True, track_running_stats=True))\n",
      "('GAT_layer_S.input_drop', Dropout(p=0.2, inplace=False))\n",
      "('GAT_layer_S.act', SELU(inplace=True))\n",
      "('GAT_layer_T', GraphAttentionLayer(\n",
      "  (att_proj): Linear(in_features=64, out_features=64, bias=True)\n",
      "  (proj_with_att): Linear(in_features=64, out_features=64, bias=True)\n",
      "  (proj_without_att): Linear(in_features=64, out_features=64, bias=True)\n",
      "  (bn): BatchNorm1d(64, eps=1e-05, momentum=0.1, affine=True, track_running_stats=True)\n",
      "  (input_drop): Dropout(p=0.2, inplace=False)\n",
      "  (act): SELU(inplace=True)\n",
      "))\n",
      "('GAT_layer_T.att_proj', Linear(in_features=64, out_features=64, bias=True))\n",
      "('GAT_layer_T.proj_with_att', Linear(in_features=64, out_features=64, bias=True))\n",
      "('GAT_layer_T.proj_without_att', Linear(in_features=64, out_features=64, bias=True))\n",
      "('GAT_layer_T.bn', BatchNorm1d(64, eps=1e-05, momentum=0.1, affine=True, track_running_stats=True))\n",
      "('GAT_layer_T.input_drop', Dropout(p=0.2, inplace=False))\n",
      "('GAT_layer_T.act', SELU(inplace=True))\n",
      "('HtrgGAT_layer_ST11', HtrgGraphAttentionLayer(\n",
      "  (proj_type1): Linear(in_features=64, out_features=64, bias=True)\n",
      "  (proj_type2): Linear(in_features=64, out_features=64, bias=True)\n",
      "  (att_proj): Linear(in_features=64, out_features=32, bias=True)\n",
      "  (att_projM): Linear(in_features=64, out_features=32, bias=True)\n",
      "  (proj_with_att): Linear(in_features=64, out_features=32, bias=True)\n",
      "  (proj_without_att): Linear(in_features=64, out_features=32, bias=True)\n",
      "  (proj_with_attM): Linear(in_features=64, out_features=32, bias=True)\n",
      "  (proj_without_attM): Linear(in_features=64, out_features=32, bias=True)\n",
      "  (bn): BatchNorm1d(32, eps=1e-05, momentum=0.1, affine=True, track_running_stats=True)\n",
      "  (input_drop): Dropout(p=0.2, inplace=False)\n",
      "  (act): SELU(inplace=True)\n",
      "))\n",
      "('HtrgGAT_layer_ST11.proj_type1', Linear(in_features=64, out_features=64, bias=True))\n",
      "('HtrgGAT_layer_ST11.proj_type2', Linear(in_features=64, out_features=64, bias=True))\n",
      "('HtrgGAT_layer_ST11.att_proj', Linear(in_features=64, out_features=32, bias=True))\n",
      "('HtrgGAT_layer_ST11.att_projM', Linear(in_features=64, out_features=32, bias=True))\n",
      "('HtrgGAT_layer_ST11.proj_with_att', Linear(in_features=64, out_features=32, bias=True))\n",
      "('HtrgGAT_layer_ST11.proj_without_att', Linear(in_features=64, out_features=32, bias=True))\n",
      "('HtrgGAT_layer_ST11.proj_with_attM', Linear(in_features=64, out_features=32, bias=True))\n",
      "('HtrgGAT_layer_ST11.proj_without_attM', Linear(in_features=64, out_features=32, bias=True))\n",
      "('HtrgGAT_layer_ST11.bn', BatchNorm1d(32, eps=1e-05, momentum=0.1, affine=True, track_running_stats=True))\n",
      "('HtrgGAT_layer_ST11.input_drop', Dropout(p=0.2, inplace=False))\n",
      "('HtrgGAT_layer_ST11.act', SELU(inplace=True))\n",
      "('HtrgGAT_layer_ST12', HtrgGraphAttentionLayer(\n",
      "  (proj_type1): Linear(in_features=32, out_features=32, bias=True)\n",
      "  (proj_type2): Linear(in_features=32, out_features=32, bias=True)\n",
      "  (att_proj): Linear(in_features=32, out_features=32, bias=True)\n",
      "  (att_projM): Linear(in_features=32, out_features=32, bias=True)\n",
      "  (proj_with_att): Linear(in_features=32, out_features=32, bias=True)\n",
      "  (proj_without_att): Linear(in_features=32, out_features=32, bias=True)\n",
      "  (proj_with_attM): Linear(in_features=32, out_features=32, bias=True)\n",
      "  (proj_without_attM): Linear(in_features=32, out_features=32, bias=True)\n",
      "  (bn): BatchNorm1d(32, eps=1e-05, momentum=0.1, affine=True, track_running_stats=True)\n",
      "  (input_drop): Dropout(p=0.2, inplace=False)\n",
      "  (act): SELU(inplace=True)\n",
      "))\n",
      "('HtrgGAT_layer_ST12.proj_type1', Linear(in_features=32, out_features=32, bias=True))\n",
      "('HtrgGAT_layer_ST12.proj_type2', Linear(in_features=32, out_features=32, bias=True))\n",
      "('HtrgGAT_layer_ST12.att_proj', Linear(in_features=32, out_features=32, bias=True))\n",
      "('HtrgGAT_layer_ST12.att_projM', Linear(in_features=32, out_features=32, bias=True))\n",
      "('HtrgGAT_layer_ST12.proj_with_att', Linear(in_features=32, out_features=32, bias=True))\n",
      "('HtrgGAT_layer_ST12.proj_without_att', Linear(in_features=32, out_features=32, bias=True))\n",
      "('HtrgGAT_layer_ST12.proj_with_attM', Linear(in_features=32, out_features=32, bias=True))\n",
      "('HtrgGAT_layer_ST12.proj_without_attM', Linear(in_features=32, out_features=32, bias=True))\n",
      "('HtrgGAT_layer_ST12.bn', BatchNorm1d(32, eps=1e-05, momentum=0.1, affine=True, track_running_stats=True))\n",
      "('HtrgGAT_layer_ST12.input_drop', Dropout(p=0.2, inplace=False))\n",
      "('HtrgGAT_layer_ST12.act', SELU(inplace=True))\n",
      "('HtrgGAT_layer_ST21', HtrgGraphAttentionLayer(\n",
      "  (proj_type1): Linear(in_features=64, out_features=64, bias=True)\n",
      "  (proj_type2): Linear(in_features=64, out_features=64, bias=True)\n",
      "  (att_proj): Linear(in_features=64, out_features=32, bias=True)\n",
      "  (att_projM): Linear(in_features=64, out_features=32, bias=True)\n",
      "  (proj_with_att): Linear(in_features=64, out_features=32, bias=True)\n",
      "  (proj_without_att): Linear(in_features=64, out_features=32, bias=True)\n",
      "  (proj_with_attM): Linear(in_features=64, out_features=32, bias=True)\n",
      "  (proj_without_attM): Linear(in_features=64, out_features=32, bias=True)\n",
      "  (bn): BatchNorm1d(32, eps=1e-05, momentum=0.1, affine=True, track_running_stats=True)\n",
      "  (input_drop): Dropout(p=0.2, inplace=False)\n",
      "  (act): SELU(inplace=True)\n",
      "))\n",
      "('HtrgGAT_layer_ST21.proj_type1', Linear(in_features=64, out_features=64, bias=True))\n",
      "('HtrgGAT_layer_ST21.proj_type2', Linear(in_features=64, out_features=64, bias=True))\n",
      "('HtrgGAT_layer_ST21.att_proj', Linear(in_features=64, out_features=32, bias=True))\n",
      "('HtrgGAT_layer_ST21.att_projM', Linear(in_features=64, out_features=32, bias=True))\n",
      "('HtrgGAT_layer_ST21.proj_with_att', Linear(in_features=64, out_features=32, bias=True))\n",
      "('HtrgGAT_layer_ST21.proj_without_att', Linear(in_features=64, out_features=32, bias=True))\n",
      "('HtrgGAT_layer_ST21.proj_with_attM', Linear(in_features=64, out_features=32, bias=True))\n",
      "('HtrgGAT_layer_ST21.proj_without_attM', Linear(in_features=64, out_features=32, bias=True))\n",
      "('HtrgGAT_layer_ST21.bn', BatchNorm1d(32, eps=1e-05, momentum=0.1, affine=True, track_running_stats=True))\n",
      "('HtrgGAT_layer_ST21.input_drop', Dropout(p=0.2, inplace=False))\n",
      "('HtrgGAT_layer_ST21.act', SELU(inplace=True))\n",
      "('HtrgGAT_layer_ST22', HtrgGraphAttentionLayer(\n",
      "  (proj_type1): Linear(in_features=32, out_features=32, bias=True)\n",
      "  (proj_type2): Linear(in_features=32, out_features=32, bias=True)\n",
      "  (att_proj): Linear(in_features=32, out_features=32, bias=True)\n",
      "  (att_projM): Linear(in_features=32, out_features=32, bias=True)\n",
      "  (proj_with_att): Linear(in_features=32, out_features=32, bias=True)\n",
      "  (proj_without_att): Linear(in_features=32, out_features=32, bias=True)\n",
      "  (proj_with_attM): Linear(in_features=32, out_features=32, bias=True)\n",
      "  (proj_without_attM): Linear(in_features=32, out_features=32, bias=True)\n",
      "  (bn): BatchNorm1d(32, eps=1e-05, momentum=0.1, affine=True, track_running_stats=True)\n",
      "  (input_drop): Dropout(p=0.2, inplace=False)\n",
      "  (act): SELU(inplace=True)\n",
      "))\n",
      "('HtrgGAT_layer_ST22.proj_type1', Linear(in_features=32, out_features=32, bias=True))\n",
      "('HtrgGAT_layer_ST22.proj_type2', Linear(in_features=32, out_features=32, bias=True))\n",
      "('HtrgGAT_layer_ST22.att_proj', Linear(in_features=32, out_features=32, bias=True))\n",
      "('HtrgGAT_layer_ST22.att_projM', Linear(in_features=32, out_features=32, bias=True))\n",
      "('HtrgGAT_layer_ST22.proj_with_att', Linear(in_features=32, out_features=32, bias=True))\n",
      "('HtrgGAT_layer_ST22.proj_without_att', Linear(in_features=32, out_features=32, bias=True))\n",
      "('HtrgGAT_layer_ST22.proj_with_attM', Linear(in_features=32, out_features=32, bias=True))\n",
      "('HtrgGAT_layer_ST22.proj_without_attM', Linear(in_features=32, out_features=32, bias=True))\n",
      "('HtrgGAT_layer_ST22.bn', BatchNorm1d(32, eps=1e-05, momentum=0.1, affine=True, track_running_stats=True))\n",
      "('HtrgGAT_layer_ST22.input_drop', Dropout(p=0.2, inplace=False))\n",
      "('HtrgGAT_layer_ST22.act', SELU(inplace=True))\n",
      "('pool_S', GraphPool(\n",
      "  (sigmoid): Sigmoid()\n",
      "  (proj): Linear(in_features=64, out_features=1, bias=True)\n",
      "  (drop): Dropout(p=0.3, inplace=False)\n",
      "))\n",
      "('pool_S.sigmoid', Sigmoid())\n",
      "('pool_S.proj', Linear(in_features=64, out_features=1, bias=True))\n",
      "('pool_S.drop', Dropout(p=0.3, inplace=False))\n",
      "('pool_T', GraphPool(\n",
      "  (sigmoid): Sigmoid()\n",
      "  (proj): Linear(in_features=64, out_features=1, bias=True)\n",
      "  (drop): Dropout(p=0.3, inplace=False)\n",
      "))\n",
      "('pool_T.sigmoid', Sigmoid())\n",
      "('pool_T.proj', Linear(in_features=64, out_features=1, bias=True))\n",
      "('pool_T.drop', Dropout(p=0.3, inplace=False))\n",
      "('pool_hS1', GraphPool(\n",
      "  (sigmoid): Sigmoid()\n",
      "  (proj): Linear(in_features=32, out_features=1, bias=True)\n",
      "  (drop): Dropout(p=0.3, inplace=False)\n",
      "))\n",
      "('pool_hS1.sigmoid', Sigmoid())\n",
      "('pool_hS1.proj', Linear(in_features=32, out_features=1, bias=True))\n",
      "('pool_hS1.drop', Dropout(p=0.3, inplace=False))\n",
      "('pool_hT1', GraphPool(\n",
      "  (sigmoid): Sigmoid()\n",
      "  (proj): Linear(in_features=32, out_features=1, bias=True)\n",
      "  (drop): Dropout(p=0.3, inplace=False)\n",
      "))\n",
      "('pool_hT1.sigmoid', Sigmoid())\n",
      "('pool_hT1.proj', Linear(in_features=32, out_features=1, bias=True))\n",
      "('pool_hT1.drop', Dropout(p=0.3, inplace=False))\n",
      "('pool_hS2', GraphPool(\n",
      "  (sigmoid): Sigmoid()\n",
      "  (proj): Linear(in_features=32, out_features=1, bias=True)\n",
      "  (drop): Dropout(p=0.3, inplace=False)\n",
      "))\n",
      "('pool_hS2.sigmoid', Sigmoid())\n",
      "('pool_hS2.proj', Linear(in_features=32, out_features=1, bias=True))\n",
      "('pool_hS2.drop', Dropout(p=0.3, inplace=False))\n",
      "('pool_hT2', GraphPool(\n",
      "  (sigmoid): Sigmoid()\n",
      "  (proj): Linear(in_features=32, out_features=1, bias=True)\n",
      "  (drop): Dropout(p=0.3, inplace=False)\n",
      "))\n",
      "('pool_hT2.sigmoid', Sigmoid())\n",
      "('pool_hT2.proj', Linear(in_features=32, out_features=1, bias=True))\n",
      "('pool_hT2.drop', Dropout(p=0.3, inplace=False))\n",
      "('out_layer', Linear(in_features=160, out_features=1, bias=True))\n"
     ]
    }
   ],
   "source": [
    "for x in model.named_modules():\n",
    "    print(x)"
   ]
  },
  {
   "cell_type": "markdown",
   "id": "1c1d3479-2156-44e3-ab65-8dbf07162335",
   "metadata": {},
   "source": [
    "### Example input and output"
   ]
  },
  {
   "cell_type": "markdown",
   "id": "b7288a7a-4d0a-4461-aca1-9c9aa9e65da0",
   "metadata": {},
   "source": [
    "Note that AASIST model's forward method returns both the feature and logits."
   ]
  },
  {
   "cell_type": "code",
   "execution_count": 177,
   "id": "ecfcf260-a35f-4c2b-bbc6-0e60ada4c065",
   "metadata": {
    "execution": {
     "iopub.execute_input": "2024-11-20T02:01:44.056112Z",
     "iopub.status.busy": "2024-11-20T02:01:44.055729Z",
     "iopub.status.idle": "2024-11-20T02:01:44.260013Z",
     "shell.execute_reply": "2024-11-20T02:01:44.259374Z",
     "shell.execute_reply.started": "2024-11-20T02:01:44.056080Z"
    }
   },
   "outputs": [
    {
     "name": "stdout",
     "output_type": "stream",
     "text": [
      "Feature shape:  torch.Size([2, 160]) \n",
      "Logit shape: torch.Size([2, 1])\n"
     ]
    }
   ],
   "source": [
    "x = torch.randn(2, 48000)\n",
    "feat, logits = model(x)\n",
    "print(\"Feature shape: \", feat.shape, \"\\nLogit shape:\", logits.shape)"
   ]
  },
  {
   "cell_type": "markdown",
   "id": "7efe1ff6",
   "metadata": {},
   "source": [
    "## Apply Grad-CAM Technique to Generate Heatmap"
   ]
  },
  {
   "cell_type": "code",
   "execution_count": 178,
   "id": "19b39c8a-38d2-4695-a402-90b06b2de423",
   "metadata": {
    "execution": {
     "iopub.execute_input": "2024-11-20T02:02:24.286944Z",
     "iopub.status.busy": "2024-11-20T02:02:24.286652Z",
     "iopub.status.idle": "2024-11-20T02:02:24.292657Z",
     "shell.execute_reply": "2024-11-20T02:02:24.291566Z",
     "shell.execute_reply.started": "2024-11-20T02:02:24.286921Z"
    }
   },
   "outputs": [],
   "source": [
    "# Import necessary libraries\n",
    "from pytorch_grad_cam import GradCAM\n",
    "import matplotlib.pyplot as plt\n",
    "import cv2\n",
    "\n",
    "from pytorch_grad_cam.utils.image import show_cam_on_image\n",
    "from pytorch_grad_cam.utils.model_targets import ClassifierOutputTarget\n",
    "\n",
    "from ay2.tools.image import read_image"
   ]
  },
  {
   "cell_type": "code",
   "execution_count": 17,
   "id": "0aa0ecc0-42fc-49c8-8c9d-1bfc6bfbafd1",
   "metadata": {
    "execution": {
     "iopub.execute_input": "2024-11-19T03:07:29.969394Z",
     "iopub.status.busy": "2024-11-19T03:07:29.968742Z",
     "iopub.status.idle": "2024-11-19T03:07:29.981147Z",
     "shell.execute_reply": "2024-11-19T03:07:29.979121Z",
     "shell.execute_reply.started": "2024-11-19T03:07:29.969334Z"
    }
   },
   "outputs": [],
   "source": [
    "def plot_cam(x, grayscale_cam):\n",
    "    \n",
    "    mask = grayscale_cam\n",
    "    heatmap = mask[0, 0]\n",
    "    image_weight = 0.5\n",
    "    print(grayscale_cam.shape, heatmap.shape, x.shape)\n",
    "    heatmap = heatmap - np.mean(heatmap)\n",
    "    plt.plot(x)\n",
    "    cam = (1 - image_weight) * heatmap + image_weight * x\n",
    "    plt.plot(cam)\n",
    "    return mask"
   ]
  },
  {
   "cell_type": "code",
   "execution_count": 50,
   "id": "24f3668b-dbb5-4f92-a50c-1f69d6c84ad9",
   "metadata": {
    "execution": {
     "iopub.execute_input": "2024-11-19T03:18:26.582895Z",
     "iopub.status.busy": "2024-11-19T03:18:26.582657Z",
     "iopub.status.idle": "2024-11-19T03:18:27.121466Z",
     "shell.execute_reply": "2024-11-19T03:18:27.120316Z",
     "shell.execute_reply.started": "2024-11-19T03:18:26.582873Z"
    }
   },
   "outputs": [
    {
     "data": {
      "image/png": "[encoded data removed]",
      "text/plain": [
       "<Figure size 640x480 with 1 Axes>"
      ]
     },
     "metadata": {},
     "output_type": "display_data"
    },
    {
     "name": "stdout",
     "output_type": "stream",
     "text": [
      "[[[0. 0. 0. ... 0. 0. 0.]]]\n",
      "(1, 1, 48000) (48000,) (48000,)\n"
     ]
    },
    {
     "data": {
      "image/png": "[encoded data removed]",
      "text/plain": [
       "<Figure size 640x480 with 1 Axes>"
      ]
     },
     "metadata": {},
     "output_type": "display_data"
    }
   ],
   "source": [
    "def get_cam(target_layers, x, target_class=0):\n",
    "    input_tensor = x\n",
    "    cam = GradCAM(model=model, target_layers=target_layers)\n",
    "    targets = [ClassifierOutputTarget(target_class)]\n",
    "    grayscale_cam = cam(input_tensor=input_tensor, targets=targets)\n",
    "    return grayscale_cam\n",
    "    \n",
    "for i, sample in enumerate(ds):\n",
    "    x = sample['audio'][:, :48000]\n",
    "\n",
    "    plt.plot(x[0, ::30])\n",
    "    plt.show()\n",
    "    # plt.savefig('plot.png')\n",
    "    \n",
    "    target_layers = [model.encoder[0]]\n",
    "    cam = get_cam(target_layers, x, target_class=sample['label'])\n",
    "    print(cam)\n",
    "    cam = plot_cam(x[0].numpy(), cam)\n",
    "    break"
   ]
  },
  {
   "cell_type": "code",
   "execution_count": 140,
   "id": "8ef78470-bf60-4c4b-8de2-9c15ae416008",
   "metadata": {
    "execution": {
     "iopub.execute_input": "2024-11-19T07:49:19.835989Z",
     "iopub.status.busy": "2024-11-19T07:49:19.835686Z",
     "iopub.status.idle": "2024-11-19T07:49:19.850503Z",
     "shell.execute_reply": "2024-11-19T07:49:19.849382Z",
     "shell.execute_reply.started": "2024-11-19T07:49:19.835965Z"
    }
   },
   "outputs": [],
   "source": [
    "import torch\n",
    "import torch.nn.functional as F\n",
    "import numpy as np\n",
    "import matplotlib.pyplot as plt\n",
    "import cv2\n",
    "\n",
    "def compute_cam_1d_output(model, data, layer_name, N):\n",
    "    \"\"\"\n",
    "    Computes Grad-CAM++ for 1D data.\n",
    "    \n",
    "    Args:\n",
    "        model: PyTorch model.\n",
    "        data: Input data (torch.Tensor) with shape (B, L).\n",
    "        layer_name: Name of the target layer for explanation.\n",
    "        N: Signal length in seconds.\n",
    "    \n",
    "    Returns:\n",
    "        Heatmap visualization of Grad-CAM++.\n",
    "    \"\"\"\n",
    "    # Hooks to store activations and gradients\n",
    "    activations = None\n",
    "    gradients = None\n",
    "\n",
    "    def forward_hook(module, input, output):\n",
    "        nonlocal activations\n",
    "        activations = output\n",
    "\n",
    "    def backward_hook(module, grad_in, grad_out):\n",
    "        nonlocal gradients\n",
    "        gradients = grad_out[0]\n",
    "\n",
    "    # Get the target layer\n",
    "    target_layer = dict(model.named_modules())[layer_name]\n",
    "    target_layer.register_forward_hook(forward_hook)\n",
    "    target_layer.register_backward_hook(backward_hook)\n",
    "\n",
    "    # Forward pass\n",
    "    model.eval()\n",
    "    data.requires_grad = True\n",
    "    feat, predictions = model(data)\n",
    "    print(predictions.shape)\n",
    "    class_idx = torch.sigmoid(predictions) > 0.5\n",
    "    y_c = predictions\n",
    "\n",
    "    # Backward pass\n",
    "    model.zero_grad()\n",
    "    y_c.backward(retain_graph=True)\n",
    "\n",
    "    # Compute derivatives\n",
    "    grads = gradients.detach()\n",
    "    first = F.relu(grads)\n",
    "    second = F.relu(grads.pow(2))\n",
    "    third = F.relu(grads.pow(3))\n",
    "\n",
    "    print(\"first:\", first.shape, \"second:\", second.shape, \"third:\", third.shape)\n",
    "    \n",
    "    \n",
    "    \n",
    "    # Compute saliency maps for the class_idx prediction\n",
    "    print(\"Compute saliency maps on the activations:\", activations.shape)\n",
    "    global_sum = activations.sum(dim=(1), keepdim=True)\n",
    "    alpha_num = second\n",
    "    alpha_denom = second * 2.0 + third * global_sum\n",
    "    alpha_denom = torch.where(alpha_denom != 0.0, alpha_denom, torch.ones_like(alpha_denom))\n",
    "    alphas = alpha_num / alpha_denom\n",
    "\n",
    "    # Normalize alphas\n",
    "    alpha_normalization_constant = alphas.sum(dim=(1), keepdim=True)\n",
    "    alphas /= alpha_normalization_constant\n",
    "    print('alpha', alphas.shape)\n",
    "    alphas_thresholding = torch.where(first > 0.0, alphas, torch.zeros_like(alphas))\n",
    "\n",
    "    # Re-normalize\n",
    "    alpha_normalization_constant_processed = alphas_thresholding.sum(dim=(1), keepdim=True)\n",
    "    alpha_normalization_constant_processed = torch.where(alpha_normalization_constant_processed != 0.0,\n",
    "                                                          alpha_normalization_constant_processed,\n",
    "                                                          torch.ones_like(alpha_normalization_constant_processed))\n",
    "    alphas /= alpha_normalization_constant_processed\n",
    "\n",
    "    # Compute deep linearization weights and Grad-CAM++ map\n",
    "    deep_linearization_weights = (first * alphas).sum(dim=(0, 1))\n",
    "    grad_CAM_map = (deep_linearization_weights.unsqueeze(0) * activations[0]).sum(dim=0)\n",
    "\n",
    "    print('grad cam shape:', grad_CAM_map.shape)\n",
    "    \n",
    "    # Normalize the heatmap\n",
    "    cam = grad_CAM_map.detach().cpu().numpy()\n",
    "    cam = np.maximum(cam, 0)\n",
    "    cam /= np.max(cam) if np.max(cam) != 0 else 1\n",
    "\n",
    "    print(cam.shape, cam)\n",
    "\n",
    "    # Turn result into a heatmap\n",
    "    heatmap = []\n",
    "    heatmap.append(cam.tolist())\n",
    "    big_heatmap = cv2.resize(np.array(heatmap), dsize=(data.shape[1], 500), interpolation=cv2.INTER_CUBIC)\n",
    "    x = np.linspace(0, N, data.shape[1])\n",
    "    plt.style.use(\"seaborn-v0_8-whitegrid\")\n",
    "    multicolored_lines(x, data.detach().numpy()[0], big_heatmap[0], f\"GradCAM++ Visualization\")"
   ]
  },
  {
   "cell_type": "code",
   "execution_count": 145,
   "id": "74172b38-c2e1-4852-875b-260d7ae6c4af",
   "metadata": {
    "execution": {
     "iopub.execute_input": "2024-11-19T07:50:54.460205Z",
     "iopub.status.busy": "2024-11-19T07:50:54.459964Z",
     "iopub.status.idle": "2024-11-19T07:50:55.584420Z",
     "shell.execute_reply": "2024-11-19T07:50:55.583548Z",
     "shell.execute_reply.started": "2024-11-19T07:50:54.460186Z"
    }
   },
   "outputs": [
    {
     "name": "stderr",
     "output_type": "stream",
     "text": [
      "/home/ay/anaconda3/envs/torch/lib/python3.9/site-packages/torch/nn/modules/module.py:1359: UserWarning: Using a non-full backward hook when the forward contains multiple autograd Nodes is deprecated and will be removed in future versions. This hook will be missing some grad_input. Please use register_full_backward_hook to get the documented behavior.\n",
      "  warnings.warn(\"Using a non-full backward hook when the forward contains multiple autograd Nodes \"\n"
     ]
    },
    {
     "name": "stdout",
     "output_type": "stream",
     "text": [
      "torch.Size([1, 1])\n",
      "first: torch.Size([1, 14, 64]) second: torch.Size([1, 14, 64]) third: torch.Size([1, 14, 64])\n",
      "Compute saliency maps on the activations: torch.Size([1, 14, 64])\n",
      "alpha torch.Size([1, 14, 64])\n",
      "grad cam shape: torch.Size([64])\n",
      "(64,) [0.0000000e+00 0.0000000e+00 0.0000000e+00 0.0000000e+00 0.0000000e+00\n",
      " 0.0000000e+00 0.0000000e+00 0.0000000e+00 0.0000000e+00 2.6308961e-04\n",
      " 0.0000000e+00 1.5959971e-01 1.3787380e-02 0.0000000e+00 3.0987415e-01\n",
      " 3.4258191e-02 4.7686845e-02 0.0000000e+00 0.0000000e+00 2.4657397e-02\n",
      " 0.0000000e+00 0.0000000e+00 0.0000000e+00 2.3256773e-01 0.0000000e+00\n",
      " 2.7324140e-01 0.0000000e+00 0.0000000e+00 0.0000000e+00 2.0781900e-01\n",
      " 4.9270347e-02 0.0000000e+00 0.0000000e+00 2.6566726e-03 3.2803625e-01\n",
      " 5.8466867e-02 2.0254691e-01 2.2949914e-03 0.0000000e+00 0.0000000e+00\n",
      " 3.0543132e-02 2.6232910e-01 0.0000000e+00 0.0000000e+00 0.0000000e+00\n",
      " 0.0000000e+00 1.0232812e-01 0.0000000e+00 0.0000000e+00 1.5367396e-01\n",
      " 1.9251670e-01 0.0000000e+00 1.4322495e-01 9.0550981e-02 1.7647739e-01\n",
      " 1.0617934e-01 2.3176569e-01 3.0944454e-02 3.2186726e-01 1.0000000e+00\n",
      " 0.0000000e+00 0.0000000e+00 2.6164989e-03 0.0000000e+00]\n",
      "(48000,) (48000,) (48000,)\n"
     ]
    },
    {
     "data": {
      "image/png": "[encoded data removed]",
      "text/plain": [
       "<Figure size 640x480 with 2 Axes>"
      ]
     },
     "metadata": {},
     "output_type": "display_data"
    }
   ],
   "source": [
    "compute_cam_1d_output(model, sample['audio'][:, 0:48000], 'pool_T', 3)"
   ]
  },
  {
   "cell_type": "code",
   "execution_count": 100,
   "id": "948f65e0-1a42-44c5-a9cb-e41059b69b26",
   "metadata": {
    "execution": {
     "iopub.execute_input": "2024-11-19T06:59:20.165925Z",
     "iopub.status.busy": "2024-11-19T06:59:20.165672Z",
     "iopub.status.idle": "2024-11-19T06:59:20.172068Z",
     "shell.execute_reply": "2024-11-19T06:59:20.170698Z",
     "shell.execute_reply.started": "2024-11-19T06:59:20.165906Z"
    }
   },
   "outputs": [
    {
     "name": "stdout",
     "output_type": "stream",
     "text": [
      "['Solarize_Light2', '_classic_test_patch', '_mpl-gallery', '_mpl-gallery-nogrid', 'bmh', 'classic', 'dark_background', 'fast', 'fivethirtyeight', 'ggplot', 'grayscale', 'seaborn-v0_8', 'seaborn-v0_8-bright', 'seaborn-v0_8-colorblind', 'seaborn-v0_8-dark', 'seaborn-v0_8-dark-palette', 'seaborn-v0_8-darkgrid', 'seaborn-v0_8-deep', 'seaborn-v0_8-muted', 'seaborn-v0_8-notebook', 'seaborn-v0_8-paper', 'seaborn-v0_8-pastel', 'seaborn-v0_8-poster', 'seaborn-v0_8-talk', 'seaborn-v0_8-ticks', 'seaborn-v0_8-white', 'seaborn-v0_8-whitegrid', 'tableau-colorblind10']\n"
     ]
    }
   ],
   "source": [
    "import seaborn as sns\n",
    "sns.set_style(\"whitegrid\")\n",
    "print(plt.style.available)"
   ]
  },
  {
   "cell_type": "code",
   "execution_count": 44,
   "id": "f9027ef4-d573-4dde-aca6-37f4751aae3f",
   "metadata": {
    "execution": {
     "iopub.execute_input": "2024-11-19T03:17:34.058502Z",
     "iopub.status.busy": "2024-11-19T03:17:34.058187Z",
     "iopub.status.idle": "2024-11-19T03:17:34.065504Z",
     "shell.execute_reply": "2024-11-19T03:17:34.063912Z",
     "shell.execute_reply.started": "2024-11-19T03:17:34.058474Z"
    }
   },
   "outputs": [],
   "source": [
    "cam = cam[0, 0, :]\n",
    "# cam = np.maximum(cam, 0)\n",
    "# cam = cam / ( np.max(cam) + 1e-9)"
   ]
  },
  {
   "cell_type": "code",
   "execution_count": 91,
   "id": "0a8a4a02-b7dc-46b5-88a4-d628a6846fc3",
   "metadata": {
    "execution": {
     "iopub.execute_input": "2024-11-19T06:53:15.283851Z",
     "iopub.status.busy": "2024-11-19T06:53:15.282536Z",
     "iopub.status.idle": "2024-11-19T06:53:15.299792Z",
     "shell.execute_reply": "2024-11-19T06:53:15.298482Z",
     "shell.execute_reply.started": "2024-11-19T06:53:15.283777Z"
    }
   },
   "outputs": [],
   "source": [
    "import matplotlib.pyplot as plt\n",
    "import matplotlib.collections as mcoll\n",
    "import matplotlib as mpl\n",
    "def multicolored_lines(x,y,heatmap,title_name):\n",
    "    print(x.shape, y.shape, heatmap.shape)\n",
    "    fig, ax = plt.subplots()\n",
    "    lc = colorline(x, y, heatmap,cmap='rainbow')\n",
    "    plt.colorbar(lc)\n",
    "    lc.set_linewidth(2)\n",
    "    lc.set_alpha(0.8)\n",
    "    plt.xlim(x.min(), x.max())\n",
    "    plt.ylim(y.min(), y.max())\n",
    "    plt.title(title_name)\n",
    "    plt.grid(False)\n",
    "    plt.show()\n",
    "\n",
    "def colorline(x, y, heatmap, cmap='rainbow'):\n",
    "    z = np.array(heatmap)\n",
    "    points = np.array([x, y]).T.reshape(-1, 1, 2)\n",
    "    segments = np.concatenate([points[:-1], points[1:]], axis=1)\n",
    "    lc = mcoll.LineCollection(segments, array=z, cmap=cmap)\n",
    "    ax = plt.gca()\n",
    "    ax.add_collection(lc)\n",
    "    return lc\n"
   ]
  },
  {
   "cell_type": "markdown",
   "id": "f8c413a1",
   "metadata": {},
   "source": [
    "## Convert Waveform Heatmap into Spectrogram"
   ]
  },
  {
   "cell_type": "code",
   "execution_count": null,
   "id": "bba2b1b3",
   "metadata": {},
   "outputs": [],
   "source": [
    "Here's an improved version of your code:"
   ]
  },
  {
   "cell_type": "code",
   "execution_count": null,
   "id": "9917f26e",
   "metadata": {},
   "outputs": [],
   "source": [
    "# Convert Waveform Heatmap into Spectrogram\n",
    "# ======================================"
   ]
  },
  {
   "cell_type": "code",
   "execution_count": null,
   "id": "3cbaa826",
   "metadata": {},
   "outputs": [],
   "source": [
    "import torch\n",
    "from torch.utils.data import TensorDataset, DataLoader"
   ]
  },
  {
   "cell_type": "code",
   "execution_count": null,
   "id": "044df75b",
   "metadata": {},
   "outputs": [],
   "source": [
    "def heatmap_to_spectrogram(heatmap: torch.Tensor,\n",
    "                         n_fft: int = 2048,\n",
    "                         hop_length: int = 512,\n",
    "                         win_length: int = 2048) -> torch.Tensor:\n",
    "    \"\"\"\n",
    "    Convert a waveform heatmap into a spectrogram."
   ]
  },
  {
   "cell_type": "code",
   "execution_count": null,
   "id": "72f18766",
   "metadata": {},
   "outputs": [],
   "source": [
    "    Args:\n",
    "        heatmap (torch.tensor): Heatmap of shape [1, timesteps]\n",
    "        n_fft (int, optional): Size of FFT window. Defaults to 2048.\n",
    "        hop_length (int, optional): Hop length between successive frames. Defaults to 512.\n",
    "        win_length (int, optional): Window size. Defaults to 2048."
   ]
  },
  {
   "cell_type": "code",
   "execution_count": null,
   "id": "5a2b5595",
   "metadata": {},
   "outputs": [],
   "source": [
    "    Returns:\n",
    "        spectrogram (torch.tensor): Spectrogram of shape [1, freq_bins, time_steps]\n",
    "    \"\"\"\n",
    "    # Pad the heatmap to ensure it can be divided evenly by hop_length\n",
    "    padded_heatmap = torch.nn.functional.pad(heatmap, (0, -heatmap.shape[-1] % hop_length))"
   ]
  },
  {
   "cell_type": "code",
   "execution_count": null,
   "id": "5207269a",
   "metadata": {},
   "outputs": [],
   "source": [
    "    # Compute Short-Time Fourier Transform (STFT)\n",
    "    window = torch.hamming_window(win_length).to(padded_heatmap.device)\n",
    "    stft = torch.stft(padded_heatmap.squeeze(), n_fft=n_fft, hop_length=hop_length,\n",
    "                     win_length=win_length, window=window, onesided=True,\n",
    "                     pad_mode='constant', normalized=False)"
   ]
  },
  {
   "cell_type": "code",
   "execution_count": null,
   "id": "1bf4d546",
   "metadata": {},
   "outputs": [],
   "source": [
    "    # Get the magnitude of the complex-valued STFT\n",
    "    spectrogram = stft.abs().unsqueeze(0)  # Add batch dimension"
   ]
  },
  {
   "cell_type": "code",
   "execution_count": null,
   "id": "cf363f99",
   "metadata": {},
   "outputs": [],
   "source": [
    "    return spectrogram"
   ]
  },
  {
   "cell_type": "code",
   "execution_count": null,
   "id": "2f03b84c",
   "metadata": {},
   "outputs": [],
   "source": [
    "\n",
    "# Load or generate the heatmap\n",
    "heatmap: torch.Tensor = ...  "
   ]
  },
  {
   "cell_type": "code",
   "execution_count": null,
   "id": "7f8fe9a8",
   "metadata": {},
   "outputs": [],
   "source": [
    "# Convert the heatmap to spectrogram\n",
    "spectrogram = heatmap_to_spectrogram(heatmap)"
   ]
  },
  {
   "cell_type": "code",
   "execution_count": null,
   "id": "ddb7fafc",
   "metadata": {},
   "outputs": [],
   "source": [
    "print(spectrogram.shape)"
   ]
  },
  {
   "cell_type": "code",
   "execution_count": null,
   "id": "71c113c7",
   "metadata": {},
   "outputs": [],
   "source": [
    "Note that I have used type hints for function arguments and returns. The `heatmap` is expected to be of type `torch.Tensor`. The `n_fft`, `hop_length` and `win_length` are optional parameters with default values."
   ]
  },
  {
   "cell_type": "markdown",
   "id": "856168f8",
   "metadata": {},
   "source": [
    "## Visualize the Resulting Spectrogram"
   ]
  },
  {
   "cell_type": "code",
   "execution_count": null,
   "id": "cbdbbdac",
   "metadata": {},
   "outputs": [],
   "source": [
    "# Import necessary libraries\n",
    "import matplotlib.pyplot as plt\n",
    "import seaborn as sns\n",
    "import numpy as np  # Ensure numpy is imported for array operations"
   ]
  },
  {
   "cell_type": "code",
   "execution_count": null,
   "id": "bfaca89a",
   "metadata": {},
   "outputs": [],
   "source": [
    "def visualize_spectrogram(spectrogram, cmap='inferno'):\n",
    "    \"\"\"\n",
    "    Visualize the resulting spectrogram."
   ]
  },
  {
   "cell_type": "code",
   "execution_count": null,
   "id": "97425778",
   "metadata": {},
   "outputs": [],
   "source": [
    "    Parameters:\n",
    "    - spectrogram (2D numpy array): The spectrogram data to be visualized.\n",
    "    - cmap (str or matplotlib colormap, optional): Colormap to use for visualization. Defaults to 'inferno'.\n",
    "    \"\"\"\n",
    "    # Create a figure with a single subplot\n",
    "    fig, ax = plt.subplots(figsize=(12, 6))"
   ]
  },
  {
   "cell_type": "code",
   "execution_count": null,
   "id": "6e09b461",
   "metadata": {},
   "outputs": [],
   "source": [
    "    # Use seaborn's heatmap function to create the spectrogram visualization\n",
    "    sns.heatmap(spectrogram, cmap=cmap, ax=ax)"
   ]
  },
  {
   "cell_type": "code",
   "execution_count": null,
   "id": "bf3bbc72",
   "metadata": {},
   "outputs": [],
   "source": [
    "    # Set title and labels for the plot\n",
    "    ax.set_title('Resulting Spectrogram')\n",
    "    ax.set_xlabel('Time')\n",
    "    ax.set_ylabel('Frequency')"
   ]
  },
  {
   "cell_type": "code",
   "execution_count": null,
   "id": "f62d6fcb",
   "metadata": {},
   "outputs": [],
   "source": [
    "    # Display the plot\n",
    "    plt.tight_layout()  # Ensure plot fits within figure area\n",
    "    plt.show()"
   ]
  },
  {
   "cell_type": "code",
   "execution_count": null,
   "id": "c9b8ea99",
   "metadata": {},
   "outputs": [],
   "source": [
    "# Example usage:\n",
    "spectrogram_data = np.random.rand(256, 512)  # Replace with actual spectrogram data\n",
    "visualize_spectrogram(spectrogram_data)"
   ]
  },
  {
   "cell_type": "markdown",
   "id": "529a3339-8aae-4b71-8b62-23069debcd2c",
   "metadata": {},
   "source": [
    "# Test 1"
   ]
  },
  {
   "cell_type": "code",
   "execution_count": 179,
   "id": "8a276d86-c9ce-4431-b801-67238c06e41a",
   "metadata": {
    "execution": {
     "iopub.execute_input": "2024-11-20T02:02:47.154280Z",
     "iopub.status.busy": "2024-11-20T02:02:47.153611Z",
     "iopub.status.idle": "2024-11-20T02:02:47.200240Z",
     "shell.execute_reply": "2024-11-20T02:02:47.198820Z",
     "shell.execute_reply.started": "2024-11-20T02:02:47.154220Z"
    }
   },
   "outputs": [],
   "source": [
    "import torch\n",
    "import torch.nn as nn\n",
    "import torch.nn.functional as F\n",
    "import numpy as np\n",
    "\n",
    "def target_category_loss(x, category_index, nb_classes):\n",
    "    return torch.mul(x, F.one_hot(category_index, nb_classes))\n",
    "\n",
    "def target_category_loss_output_shape(input_shape):\n",
    "    return input_shape\n",
    "\n",
    "\n",
    "def normalize(x):\n",
    "    # utility function to normalize a tensor by its L2 norm\n",
    "    return x / (torch.sqrt(torch.mean(torch.square(x))) + 1e-5)\n",
    "\n",
    "\n",
    "class ActivationsAndGradients:\n",
    "    \"\"\" Class for extracting activations and\n",
    "    registering gradients from targetted intermediate layers \"\"\"\n",
    "\n",
    "    def __init__(self, model, target_layer):\n",
    "        self.model = model\n",
    "        self.gradients = []\n",
    "        self.activations = []\n",
    "\n",
    "        target_layer.register_forward_hook(self.save_activation)\n",
    "        target_layer.register_full_backward_hook(self.save_gradient)\n",
    "\n",
    "    def save_activation(self, module, input, output):\n",
    "        self.activations.append(output)\n",
    "\n",
    "    def save_gradient(self, module, grad_input, grad_output):\n",
    "        # Gradients are computed in reverse order\n",
    "        self.gradients = [grad_output[0]] + self.gradients\n",
    "\n",
    "    def __call__(self, x):\n",
    "        self.gradients = []\n",
    "        self.activations = []\n",
    "        return self.model(x)\n",
    "\n",
    "\n",
    "class BaseCAM:\n",
    "    def __init__(self, model, target_layer, use_cuda=False):\n",
    "        self.model = model.eval()\n",
    "        self.target_layer = target_layer\n",
    "        self.cuda = use_cuda\n",
    "        if self.cuda:\n",
    "            self.model = model.cuda()\n",
    "\n",
    "        self.activations_and_grads = ActivationsAndGradients(self.model, target_layer)\n",
    "\n",
    "    def forward(self, input_img):\n",
    "        return self.model(input_img)\n",
    "\n",
    "    def get_cam_weights(self,\n",
    "                        input_tensor,\n",
    "                        target_category,\n",
    "                        activations,\n",
    "                        grads):\n",
    "        raise Exception(\"Not Implemented\")\n",
    "\n",
    "    def get_loss(self, output, target_category):\n",
    "        # print(output.size())\n",
    "        # return output[target_category]\n",
    "        return torch.sigmoid(output)\n",
    "\n",
    "    def __call__(self, input_tensor, target_category=None):\n",
    "        if self.cuda:\n",
    "            input_tensor = input_tensor.cuda()\n",
    "\n",
    "        feat, output = self.activations_and_grads(input_tensor)\n",
    "\n",
    "        if target_category is None:\n",
    "            output = output.squeeze()\n",
    "            target_category = np.argmax(output.cpu().data.numpy())\n",
    "            # print(output)\n",
    "            # print(target_category)\n",
    "        self.model.zero_grad()\n",
    "        loss = self.get_loss(output, target_category)\n",
    "        loss.backward(retain_graph=True)\n",
    "\n",
    "        activations = self.activations_and_grads.activations[-1].cpu().data.numpy()[0, :]\n",
    "        grads = self.activations_and_grads.gradients[-1].cpu().data.numpy()[0, :]\n",
    "        #weights = np.mean(grads, axis=(0))\n",
    "        weights = self.get_cam_weights(input_tensor, target_category, activations, grads)\n",
    "        cam = np.zeros(activations.shape[1:], dtype=np.float32)\n",
    "        for i, w in enumerate(weights):\n",
    "             cam += w * activations[i, :]\n",
    "        # cam = activations.T.dot(weights)\n",
    "        # cam = activations.dot(weights)\n",
    "        # cam = activations.dot(weights)\n",
    "        # print(input_tensor.shape[1])\n",
    "        # print(cam.shape)\n",
    "        # x = np.arange(0, 247, 1)\n",
    "        # plt.plot(x, cam.reshape(-1, 1))\n",
    "        # sns.set()\n",
    "        # ax = sns.heatmap(cam.reshape(-1, 1).T)\n",
    "        #cam = cv2.resize(cam, input_tensor.shape[1:][::-1])\n",
    "        #cam = resize_1d(cam, (input_tensor.shape[2]))\n",
    "\n",
    "        print(input_tensor.shape)\n",
    "        \n",
    "        cam = np.interp(np.linspace(0, cam.shape[0], input_tensor.shape[1]), np.linspace(0, cam.shape[0], cam.shape[0]), cam)   #Change it to the interpolation algorithm that numpy comes with.\n",
    "        #cam = np.maximum(cam, 0)\n",
    "        # cam = np.expand_dims(cam, axis=1)\n",
    "        # ax = sns.heatmap(cam)\n",
    "        # plt.show()\n",
    "        # cam = cam - np.min(cam)\n",
    "        # cam = cam / np.max(cam)\n",
    "        heatmap = (cam - np.min(cam)) / (np.max(cam) - np.min(cam) + 1e-10)#归一化处理\n",
    "        # heatmap = (cam - np.mean(cam, axis=-1)) / (np.std(cam, axis=-1) + 1e-10)\n",
    "        print(heatmap.shape)\n",
    "        return heatmap\n",
    "class GradCAM(BaseCAM):\n",
    "    def __init__(self, model, target_layer, use_cuda=False):\n",
    "        super(GradCAM, self).__init__(model, target_layer, use_cuda)\n",
    "\n",
    "    def get_cam_weights(self, input_tensor,\n",
    "                        target_category,\n",
    "                        activations,\n",
    "                        grads):\n",
    "        grads_power_2 = grads ** 2\n",
    "        grads_power_3 = grads_power_2 * grads\n",
    "        sum_activations = np.sum(activations, axis=1)\n",
    "        eps = 0.000001\n",
    "        aij = grads_power_2 / (2 * grads_power_2 + sum_activations[:, None] * grads_power_3 + eps)\n",
    "        aij = np.where(grads != 0, aij, 0)\n",
    "\n",
    "        weights = np.maximum(grads, 0) * aij\n",
    "        weights = np.sum(weights, axis=1)\n",
    "        return weights"
   ]
  },
  {
   "cell_type": "code",
   "execution_count": 190,
   "id": "7c3ef196-647d-4cf1-b33f-5b70dc5f01df",
   "metadata": {
    "execution": {
     "iopub.execute_input": "2024-11-20T02:04:35.360081Z",
     "iopub.status.busy": "2024-11-20T02:04:35.359793Z",
     "iopub.status.idle": "2024-11-20T02:04:35.366543Z",
     "shell.execute_reply": "2024-11-20T02:04:35.365657Z",
     "shell.execute_reply.started": "2024-11-20T02:04:35.360058Z"
    }
   },
   "outputs": [],
   "source": [
    "# from pytorch_grad_cam.utils.image import preprocess_image\n",
    "target_layer = model.pool_hT2\n",
    "net = GradCAM(model, target_layer)"
   ]
  },
  {
   "cell_type": "code",
   "execution_count": 191,
   "id": "61adfb79-7b13-409b-965d-879c06bc60cb",
   "metadata": {
    "execution": {
     "iopub.execute_input": "2024-11-20T02:04:36.345104Z",
     "iopub.status.busy": "2024-11-20T02:04:36.344487Z",
     "iopub.status.idle": "2024-11-20T02:04:36.659606Z",
     "shell.execute_reply": "2024-11-20T02:04:36.658341Z",
     "shell.execute_reply.started": "2024-11-20T02:04:36.345048Z"
    }
   },
   "outputs": [
    {
     "name": "stdout",
     "output_type": "stream",
     "text": [
      "torch.Size([1, 48000])\n",
      "(48000,)\n"
     ]
    }
   ],
   "source": [
    "input_tensor = sample['audio'][:, :48000]\n",
    "output = net(input_tensor, target_category=sample['label'])"
   ]
  },
  {
   "cell_type": "code",
   "execution_count": 192,
   "id": "7457656c-930a-4455-9faf-59791bfb9d74",
   "metadata": {
    "execution": {
     "iopub.execute_input": "2024-11-20T02:04:52.013712Z",
     "iopub.status.busy": "2024-11-20T02:04:52.013432Z",
     "iopub.status.idle": "2024-11-20T02:04:52.021787Z",
     "shell.execute_reply": "2024-11-20T02:04:52.020680Z",
     "shell.execute_reply.started": "2024-11-20T02:04:52.013690Z"
    }
   },
   "outputs": [
    {
     "data": {
      "text/plain": [
       "array([0.57087709, 0.57100369, 0.5711303 , ..., 0.75162758, 0.75174477,\n",
       "       0.75186196])"
      ]
     },
     "execution_count": 192,
     "metadata": {},
     "output_type": "execute_result"
    }
   ],
   "source": [
    "output"
   ]
  },
  {
   "cell_type": "code",
   "execution_count": 193,
   "id": "cee70ff0-6682-414b-b97d-8c846a299f75",
   "metadata": {
    "execution": {
     "iopub.execute_input": "2024-11-20T02:04:52.936963Z",
     "iopub.status.busy": "2024-11-20T02:04:52.936362Z",
     "iopub.status.idle": "2024-11-20T02:04:52.944540Z",
     "shell.execute_reply": "2024-11-20T02:04:52.942922Z",
     "shell.execute_reply.started": "2024-11-20T02:04:52.936904Z"
    }
   },
   "outputs": [],
   "source": [
    "input_tensor = input_tensor.numpy().squeeze()"
   ]
  },
  {
   "cell_type": "code",
   "execution_count": 194,
   "id": "298675b4-bb6e-47b9-ae03-de01ecf85b3c",
   "metadata": {
    "execution": {
     "iopub.execute_input": "2024-11-20T02:04:54.004415Z",
     "iopub.status.busy": "2024-11-20T02:04:54.003827Z",
     "iopub.status.idle": "2024-11-20T02:04:54.624775Z",
     "shell.execute_reply": "2024-11-20T02:04:54.623887Z",
     "shell.execute_reply.started": "2024-11-20T02:04:54.004358Z"
    }
   },
   "outputs": [
    {
     "name": "stdout",
     "output_type": "stream",
     "text": [
      "(48000,) (48000,) (48000,)\n"
     ]
    },
    {
     "data": {
      "image/png": "[encoded data removed]",
      "text/plain": [
       "<Figure size 640x480 with 2 Axes>"
      ]
     },
     "metadata": {},
     "output_type": "display_data"
    }
   ],
   "source": [
    "x = np.linspace(0, 3, input_tensor.shape[0])\n",
    "multicolored_lines(x, input_tensor, output, f\"GradCAM++ Visualization\")"
   ]
  }
 ],
 "metadata": {
  "kernelspec": {
   "display_name": "Python 3 (ipykernel)",
   "language": "python",
   "name": "python3"
  },
  "language_info": {
   "codemirror_mode": {
    "name": "ipython",
    "version": 3
   },
   "file_extension": ".py",
   "mimetype": "text/x-python",
   "name": "python",
   "nbconvert_exporter": "python",
   "pygments_lexer": "ipython3",
   "version": "3.9.18"
  }
 },
 "nbformat": 4,
 "nbformat_minor": 5
}
