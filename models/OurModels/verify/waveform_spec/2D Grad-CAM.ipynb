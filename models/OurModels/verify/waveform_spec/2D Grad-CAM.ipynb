{
 "cells": [
  {
   "cell_type": "code",
   "execution_count": 1,
   "id": "62579928-0123-47d5-80f6-5a92aa1b75bf",
   "metadata": {
    "execution": {
     "iopub.execute_input": "2024-11-20T09:10:48.758965Z",
     "iopub.status.busy": "2024-11-20T09:10:48.758363Z",
     "iopub.status.idle": "2024-11-20T09:10:48.811057Z",
     "shell.execute_reply": "2024-11-20T09:10:48.809045Z",
     "shell.execute_reply.started": "2024-11-20T09:10:48.758901Z"
    }
   },
   "outputs": [],
   "source": [
    "%load_ext autoreload\n",
    "%autoreload 2"
   ]
  },
  {
   "cell_type": "markdown",
   "id": "d911c9f0",
   "metadata": {},
   "source": [
    "# Grad-CAM Heatmap to Spectrogram Conversion for Waveform-Input Models"
   ]
  },
  {
   "cell_type": "markdown",
   "id": "094518d3",
   "metadata": {},
   "source": [
    "Title: **Exploring the Fusion of Visualization and Audio Analysis: Grad-CAM Heatmap to Spectrogram Conversion for Waveform-Input Models**\n",
    "\n",
    "Introduction:\n",
    "\n",
    "The advent of deep learning in audio signal processing has revolutionized how we analyze, understand, and manipulate sound. Models that take raw waveforms as input have shown remarkable performance in tasks ranging from speech recognition to music genre classification. However, interpreting these \"black box\" models remains a challenge. This is where techniques like Gradient-weighted Class Activation Mapping (Grad-CAM) come into play, providing visual explanations for the decisions made by convolutional neural networks (CNNs). \n",
    "\n",
    "Grad-CAM generates heatmaps that highlight the regions in the input image that are most relevant for predicting a particular class. While originally designed for image classification tasks, adapting Grad-CAM for waveform-input models introduces a unique challenge: translating the spatial significance of an image to the temporal and frequency dimensions of audio. Here, we propose an innovative approach to convert Grad-CAM heatmaps into spectrograms, which are visual representations of the spectrum of frequencies of a signal as it varies with time. This conversion not only bridges the gap between the visual interpretation tools of image processing and the domain of audio analysis but also provides a novel way to interpret how waveform-input models make their decisions.\n",
    "\n",
    "**Why Convert Grad-CAM Heatmaps to Spectrograms?**\n",
    "\n",
    "1. **Enhanced Interpretability:** By converting the heatmaps to spectrograms, we can directly correlate the model's focus areas with the actual audio features, making it easier for audio engineers, researchers, and even musicians to understand what aspects of the sound the model is attending to.\n",
    "\n",
    "2. **Temporal and Frequency Analysis:** Spectrograms allow us to see how the importance of different frequency components changes over time, which is crucial for understanding dynamic audio signals like music or speech.\n",
    "\n",
    "3. **Model Debugging and Improvement:** This conversion can help in identifying whether the model is focusing on the right audio features for classification, which can lead to better model design, training, and feature engineering.\n",
    "\n",
    "4. **Educational and Creative Applications:** The visual representation of what a model 'hears' can be used in educational contexts to teach about audio signal processing or in creative applications where artists can interact with AI in new ways.\n",
    "\n",
    "In this paper, we will delve into the methodology behind converting Grad-CAM heatmaps to spectrograms, discuss the implications for waveform-input models, and explore potential applications. This work aims to push the boundaries of model interpretability, combining the strengths of visual and auditory analysis to foster a deeper understanding of how deep learning models perceive and process audio data."
   ]
  },
  {
   "cell_type": "markdown",
   "id": "02b9d4e0",
   "metadata": {},
   "source": [
    "## Introduction"
   ]
  },
  {
   "cell_type": "markdown",
   "id": "539bc4c0",
   "metadata": {},
   "source": [
    "This notebook demonstrates:\n",
    "- how to apply the **Grad-CAM** technique to generate a heatmap for a waveform-input model, and subsequently\n",
    "- convert the heatmap of the waveform into a spectrogram using Torch.\n",
    "\n",
    "The notebook guides through the process of installing necessary libraries, importing required libraries and loading a dataset of waveforms, defining a PyTorch model that takes waveforms as input, applying Grad-CAM to generate a heatmap, converting the heatmap into a spectrogram with Torch, and finally visualizing the resulting spectrogram using a library like matplotlib or seaborn."
   ]
  },
  {
   "cell_type": "markdown",
   "id": "a1524980",
   "metadata": {},
   "source": [
    "## Import Libraries and Load Data"
   ]
  },
  {
   "cell_type": "code",
   "execution_count": 2,
   "id": "1d397ff2",
   "metadata": {
    "execution": {
     "iopub.execute_input": "2024-11-20T09:10:48.813743Z",
     "iopub.status.busy": "2024-11-20T09:10:48.813178Z",
     "iopub.status.idle": "2024-11-20T09:10:51.536672Z",
     "shell.execute_reply": "2024-11-20T09:10:51.535158Z",
     "shell.execute_reply.started": "2024-11-20T09:10:48.813682Z"
    }
   },
   "outputs": [],
   "source": [
    "# Import necessary libraries\n",
    "import torch\n",
    "import torchvision\n",
    "import numpy as np  # for numerical computations\n",
    "import matplotlib.pyplot as plt  # for plotting (optional)\n",
    "from torch.utils.data import DataLoader"
   ]
  },
  {
   "cell_type": "code",
   "execution_count": 3,
   "id": "bd31b115",
   "metadata": {
    "execution": {
     "iopub.execute_input": "2024-11-20T09:10:51.538075Z",
     "iopub.status.busy": "2024-11-20T09:10:51.537836Z",
     "iopub.status.idle": "2024-11-20T09:10:51.557908Z",
     "shell.execute_reply": "2024-11-20T09:10:51.556748Z",
     "shell.execute_reply.started": "2024-11-20T09:10:51.538054Z"
    }
   },
   "outputs": [],
   "source": [
    "# Set seed for reproducibility\n",
    "torch.manual_seed(42)\n",
    "np.random.seed(42)"
   ]
  },
  {
   "cell_type": "code",
   "execution_count": 4,
   "id": "b063dc9f",
   "metadata": {
    "editable": true,
    "execution": {
     "iopub.execute_input": "2024-11-20T09:10:51.558889Z",
     "iopub.status.busy": "2024-11-20T09:10:51.558739Z",
     "iopub.status.idle": "2024-11-20T09:10:51.905714Z",
     "shell.execute_reply": "2024-11-20T09:10:51.904798Z",
     "shell.execute_reply.started": "2024-11-20T09:10:51.558874Z"
    },
    "slideshow": {
     "slide_type": ""
    },
    "tags": []
   },
   "outputs": [],
   "source": [
    "from ay2.torch.data.audio import WaveDataset"
   ]
  },
  {
   "cell_type": "markdown",
   "id": "f03ee291-e548-48fb-8bd9-0014028347f7",
   "metadata": {},
   "source": [
    "### Load data"
   ]
  },
  {
   "cell_type": "markdown",
   "id": "3dbf4350",
   "metadata": {},
   "source": [
    "We use Codecfake dataset for testing."
   ]
  },
  {
   "cell_type": "code",
   "execution_count": 5,
   "id": "39fad685-935d-46b7-9792-c99459389d2f",
   "metadata": {
    "execution": {
     "iopub.execute_input": "2024-11-20T09:10:51.906715Z",
     "iopub.status.busy": "2024-11-20T09:10:51.906478Z",
     "iopub.status.idle": "2024-11-20T09:10:51.934553Z",
     "shell.execute_reply": "2024-11-20T09:10:51.933425Z",
     "shell.execute_reply.started": "2024-11-20T09:10:51.906699Z"
    }
   },
   "outputs": [],
   "source": [
    "from ay2.datasets.audio import Codecfake_AudioDs\n",
    "from ay2.datasets.audio._codecfake import ROOT_PATH as Codecfake_Root_path"
   ]
  },
  {
   "cell_type": "code",
   "execution_count": 6,
   "id": "923bf8f7-d25b-4484-9ce3-b9fc457f4568",
   "metadata": {
    "execution": {
     "iopub.execute_input": "2024-11-20T09:10:51.936741Z",
     "iopub.status.busy": "2024-11-20T09:10:51.936580Z",
     "iopub.status.idle": "2024-11-20T09:10:56.362241Z",
     "shell.execute_reply": "2024-11-20T09:10:56.360943Z",
     "shell.execute_reply.started": "2024-11-20T09:10:51.936726Z"
    }
   },
   "outputs": [
    {
     "name": "stderr",
     "output_type": "stream",
     "text": [
      "/usr/local/ay_data/packages2/ay2/datasets/base.py:78: DtypeWarning: Columns (4,6) have mixed types. Specify dtype option on import or set low_memory=False.\n",
      "  return pd.read_csv(data_path)\n"
     ]
    }
   ],
   "source": [
    "codecfake = Codecfake_AudioDs(root_path=Codecfake_Root_path)\n",
    "# We only use the first 5 samples in codecfake.\n",
    "ds = WaveDataset(data=codecfake.data.iloc[0:5])"
   ]
  },
  {
   "cell_type": "code",
   "execution_count": 7,
   "id": "8730fed8-3bef-42bf-bd65-6283ade85d48",
   "metadata": {
    "execution": {
     "iopub.execute_input": "2024-11-20T09:10:56.363104Z",
     "iopub.status.busy": "2024-11-20T09:10:56.362935Z",
     "iopub.status.idle": "2024-11-20T09:10:56.400062Z",
     "shell.execute_reply": "2024-11-20T09:10:56.398973Z",
     "shell.execute_reply.started": "2024-11-20T09:10:56.363087Z"
    }
   },
   "outputs": [
    {
     "data": {
      "text/plain": [
       "{'sample_rate': 16000,\n",
       " 'label': 0,\n",
       " 'name': '/mnt/data1/zky/Codecfake16k/test/A1/L1_p225_004.wav',\n",
       " 'vocoder_label': 8,\n",
       " 'speed_label': 5,\n",
       " 'compression_label': 0,\n",
       " 'audio': tensor([[ 0.0005,  0.0004,  0.0003,  ..., -0.0005, -0.0005, -0.0004]])}"
      ]
     },
     "execution_count": 7,
     "metadata": {},
     "output_type": "execute_result"
    }
   ],
   "source": [
    "ds[0]"
   ]
  },
  {
   "cell_type": "markdown",
   "id": "78dff32b-a47b-470e-899f-f4a9d35f529a",
   "metadata": {},
   "source": [
    "Look the first element of the `ds`. As can be seen, the data structure is \n",
    "```python\n",
    "{'sample_rate': audio fps,\n",
    " 'label': 0 or 1,\n",
    " 'name':  path of audio,\n",
    " 'vocoder_label': 8,\n",
    " 'speed_label': 5,\n",
    " 'compression_label': 0,\n",
    " 'audio': torch.Tensor with shape of (1, L)\n",
    "}\n",
    "```"
   ]
  },
  {
   "cell_type": "markdown",
   "id": "5f8d6ded",
   "metadata": {},
   "source": [
    "## Define Waveform-Input Model"
   ]
  },
  {
   "cell_type": "markdown",
   "id": "311c210d-c1b3-427a-bad2-72d3d77c00a7",
   "metadata": {},
   "source": [
    "We use the AASIST model that uses 1D waveform as input for presentation."
   ]
  },
  {
   "cell_type": "code",
   "execution_count": 8,
   "id": "d466a8cb-44fd-481d-8629-91e9d38f741f",
   "metadata": {
    "execution": {
     "iopub.execute_input": "2024-11-20T09:10:56.400991Z",
     "iopub.status.busy": "2024-11-20T09:10:56.400845Z",
     "iopub.status.idle": "2024-11-20T09:10:56.929829Z",
     "shell.execute_reply": "2024-11-20T09:10:56.928629Z",
     "shell.execute_reply.started": "2024-11-20T09:10:56.400976Z"
    }
   },
   "outputs": [],
   "source": [
    "import sys\n",
    "sys.path.append(\"/home/ay/Coding2/0-Deepfake/2-Audio\")\n",
    "\n",
    "from models.Aaasist import AASIST_lit"
   ]
  },
  {
   "cell_type": "code",
   "execution_count": 9,
   "id": "3b16b670-6fb2-4d76-aae8-caf9c9493f7e",
   "metadata": {
    "execution": {
     "iopub.execute_input": "2024-11-20T09:10:56.930900Z",
     "iopub.status.busy": "2024-11-20T09:10:56.930651Z",
     "iopub.status.idle": "2024-11-20T09:10:56.956185Z",
     "shell.execute_reply": "2024-11-20T09:10:56.955037Z",
     "shell.execute_reply.started": "2024-11-20T09:10:56.930883Z"
    }
   },
   "outputs": [],
   "source": [
    "def get_spectrogram(x):\n",
    "    n_fft = 512\n",
    "    hop_length = 256\n",
    "    \n",
    "    # Compute STFT\n",
    "    spec_f = torch.stft(\n",
    "        x,\n",
    "        n_fft=n_fft,\n",
    "        hop_length=hop_length,\n",
    "        return_complex=True,\n",
    "        center=False\n",
    "    )\n",
    "    spec = spec_f.abs().pow(2)\n",
    "    phase = spec_f.angle()\n",
    "    return spec, phase"
   ]
  },
  {
   "cell_type": "code",
   "execution_count": 10,
   "id": "f2e28084-27be-49df-aacc-ed5b60dd56d6",
   "metadata": {
    "execution": {
     "iopub.execute_input": "2024-11-20T09:10:56.957053Z",
     "iopub.status.busy": "2024-11-20T09:10:56.956907Z",
     "iopub.status.idle": "2024-11-20T09:10:57.000251Z",
     "shell.execute_reply": "2024-11-20T09:10:56.999135Z",
     "shell.execute_reply.started": "2024-11-20T09:10:56.957039Z"
    }
   },
   "outputs": [
    {
     "name": "stdout",
     "output_type": "stream",
     "text": [
      "no. model params:297705\n"
     ]
    }
   ],
   "source": [
    "model = AASIST_lit(ckpt_path=\"/home/ay/data/DATA/1-model_save/00-Deepfake/1-df-audio/AASIST/Codecfake/version_0/checkpoints/best-epoch=1-val-auc=0.9999.ckpt\")\n",
    "class tmpModel(torch.nn.Module):\n",
    "\n",
    "    def __init__(self, model):\n",
    "        super().__init__()\n",
    "        self.model = model\n",
    "\n",
    "    def set_phase_length(self, phase, length):\n",
    "        self.phase = phase\n",
    "        self.length = length\n",
    "    \n",
    "    def forward(self, spec):\n",
    "        \"\"\"\n",
    "        Args:\n",
    "            spec: (B, C, H, W) where C = 1\n",
    "        \"\"\"\n",
    "        \n",
    "        n_fft = 512\n",
    "        hop_length = 256\n",
    "\n",
    "        spec = spec[:, 0, :, :]\n",
    "        \n",
    "        # Combine magnitude and phase into a complex-valued tensor\n",
    "        if self.phase.device != spec.device:\n",
    "            phase = phase.to(spec.device)\n",
    "        complex_spec_f = torch.polar(spec.sqrt(), self.phase)\n",
    "        \n",
    "        # Convert spectrogram back to audio (inverse STFT)\n",
    "        reconstructed_audio = torch.istft(\n",
    "            complex_spec_f,\n",
    "            n_fft=n_fft,\n",
    "            hop_length=hop_length,\n",
    "            length=self.length\n",
    "        )\n",
    "        # print(reconstructed_audio.shape, x.shape)\n",
    "        feat, logits = self.model(reconstructed_audio)\n",
    "        return logits"
   ]
  },
  {
   "cell_type": "markdown",
   "id": "b7288a7a-4d0a-4461-aca1-9c9aa9e65da0",
   "metadata": {},
   "source": [
    "Note that AASIST model's forward method returns both the feature and logits."
   ]
  },
  {
   "cell_type": "code",
   "execution_count": 11,
   "id": "ecfcf260-a35f-4c2b-bbc6-0e60ada4c065",
   "metadata": {
    "execution": {
     "iopub.execute_input": "2024-11-20T09:10:57.000834Z",
     "iopub.status.busy": "2024-11-20T09:10:57.000695Z",
     "iopub.status.idle": "2024-11-20T09:10:57.151224Z",
     "shell.execute_reply": "2024-11-20T09:10:57.150036Z",
     "shell.execute_reply.started": "2024-11-20T09:10:57.000819Z"
    }
   },
   "outputs": [
    {
     "name": "stdout",
     "output_type": "stream",
     "text": [
      "no. model params:297705\n"
     ]
    },
    {
     "name": "stderr",
     "output_type": "stream",
     "text": [
      "/tmp/ipykernel_27899/583951192.py:29: UserWarning: The length of signal is shorter than the length parameter. Result is being padded with zeros in the tail. Please check your center and hop_length settings. (Triggered internally at ../aten/src/ATen/native/SpectralOps.cpp:1167.)\n",
      "  reconstructed_audio = torch.istft(\n"
     ]
    },
    {
     "data": {
      "text/plain": [
       "tensor([[1.6557]], grad_fn=<AddmmBackward0>)"
      ]
     },
     "execution_count": 11,
     "metadata": {},
     "output_type": "execute_result"
    }
   ],
   "source": [
    "model = AASIST_lit(\n",
    "    ckpt_path=\"/home/ay/data/DATA/1-model_save/00-Deepfake/1-df-audio/AASIST/Codecfake/version_0/checkpoints/best-epoch=1-val-auc=0.9999.ckpt\"\n",
    ")\n",
    "model = tmpModel(model.model)\n",
    "x = torch.randn(1, 48000)\n",
    "spec, phase = get_spectrogram(x)\n",
    "model.set_phase_length(phase, 48000)\n",
    "model(spec[:, None, :, :])"
   ]
  },
  {
   "cell_type": "code",
   "execution_count": 12,
   "id": "3dd8a5fa-8ca0-4beb-a589-dd11dfc955d8",
   "metadata": {
    "execution": {
     "iopub.execute_input": "2024-11-20T09:10:57.152348Z",
     "iopub.status.busy": "2024-11-20T09:10:57.152163Z",
     "iopub.status.idle": "2024-11-20T09:10:57.180226Z",
     "shell.execute_reply": "2024-11-20T09:10:57.179102Z",
     "shell.execute_reply.started": "2024-11-20T09:10:57.152329Z"
    }
   },
   "outputs": [
    {
     "name": "stdout",
     "output_type": "stream",
     "text": [
      "torch.Size([1, 257, 186]) torch.Size([1, 257, 186])\n"
     ]
    }
   ],
   "source": [
    "print(spec.shape, phase.shape)"
   ]
  },
  {
   "cell_type": "markdown",
   "id": "7efe1ff6",
   "metadata": {},
   "source": [
    "## Apply Grad-CAM Technique to Generate Heatmap"
   ]
  },
  {
   "cell_type": "code",
   "execution_count": 13,
   "id": "19b39c8a-38d2-4695-a402-90b06b2de423",
   "metadata": {
    "execution": {
     "iopub.execute_input": "2024-11-20T09:10:57.180853Z",
     "iopub.status.busy": "2024-11-20T09:10:57.180709Z",
     "iopub.status.idle": "2024-11-20T09:10:57.584467Z",
     "shell.execute_reply": "2024-11-20T09:10:57.583182Z",
     "shell.execute_reply.started": "2024-11-20T09:10:57.180839Z"
    }
   },
   "outputs": [],
   "source": [
    "# Import necessary libraries\n",
    "from pytorch_grad_cam import GradCAM\n",
    "import matplotlib.pyplot as plt\n",
    "import cv2\n",
    "\n",
    "\n",
    "from ay2.tools.image import read_image\n",
    "\n",
    "from my_pytorch_grad_cam import GradCAM\n",
    "from my_pytorch_grad_cam.utils.image import show_cam_on_image\n",
    "from my_pytorch_grad_cam.utils.model_targets import ClassifierOutputTarget\n",
    "import librosa"
   ]
  },
  {
   "cell_type": "code",
   "execution_count": 14,
   "id": "dbe60eb0-5140-4409-b2c7-901fac4d7e8a",
   "metadata": {
    "execution": {
     "iopub.execute_input": "2024-11-20T09:10:57.585825Z",
     "iopub.status.busy": "2024-11-20T09:10:57.585452Z",
     "iopub.status.idle": "2024-11-20T09:10:57.618991Z",
     "shell.execute_reply": "2024-11-20T09:10:57.617907Z",
     "shell.execute_reply.started": "2024-11-20T09:10:57.585805Z"
    }
   },
   "outputs": [],
   "source": [
    "def get_cam(target_layers, x, target_class=0):\n",
    "    input_tensor = x\n",
    "    input_tensor = model.feature_model.preprocess(input_tensor)\n",
    "    cam = GradCAM(model=model, target_layers=target_layers)\n",
    "    targets = [ClassifierOutputTarget(target_class)]\n",
    "    grayscale_cam = cam(input_tensor=input_tensor, targets=targets)[0]\n",
    "    return grayscale_cam"
   ]
  },
  {
   "cell_type": "code",
   "execution_count": 15,
   "id": "d0bf04df-7eb8-4dc8-b87d-7c9b950cccb3",
   "metadata": {
    "execution": {
     "iopub.execute_input": "2024-11-20T09:10:57.619938Z",
     "iopub.status.busy": "2024-11-20T09:10:57.619791Z",
     "iopub.status.idle": "2024-11-20T09:10:57.648222Z",
     "shell.execute_reply": "2024-11-20T09:10:57.647142Z",
     "shell.execute_reply.started": "2024-11-20T09:10:57.619923Z"
    }
   },
   "outputs": [],
   "source": [
    "def plot_cam(spec_path, grayscale_cam):\n",
    "    \n",
    "    mask = grayscale_cam\n",
    "    heatmap = cv2.applyColorMap(np.uint8(255 * mask), cv2.COLORMAP_JET)\n",
    "    heatmap = cv2.cvtColor(heatmap, cv2.COLOR_BGR2RGB)\n",
    "    heatmap = np.float32(heatmap) / 255\n",
    "    spec = read_image(spec_path) / 255\n",
    "    # spec = (spec - np.min(spec)) / (np.max(spec) - np.min(spec))\n",
    "    image_weight = 0.5\n",
    "    cam = (1 - image_weight) * heatmap + image_weight * spec\n",
    "    cam = cam / np.max(cam)\n",
    "    cam = np.uint8(255 * cam)\n",
    "    plt.imshow(cam)\n",
    "    return cam"
   ]
  },
  {
   "cell_type": "code",
   "execution_count": 16,
   "id": "b76e084e-ecd4-45cf-bb1f-cf87c84a0038",
   "metadata": {
    "execution": {
     "iopub.execute_input": "2024-11-20T09:10:57.648795Z",
     "iopub.status.busy": "2024-11-20T09:10:57.648658Z",
     "iopub.status.idle": "2024-11-20T09:10:58.274168Z",
     "shell.execute_reply": "2024-11-20T09:10:58.272980Z",
     "shell.execute_reply.started": "2024-11-20T09:10:57.648780Z"
    }
   },
   "outputs": [],
   "source": [
    "x = ds[0]\n",
    "audio = x['audio'][:, :48000]\n",
    "label = x['label']\n",
    "spec, phase = get_spectrogram(audio)\n",
    "\n",
    "magnitude = np.abs(spec[0])\n",
    "magnitude_db = librosa.amplitude_to_db(magnitude)\n",
    "plt.imsave(f\"0.jpg\", magnitude_db)"
   ]
  },
  {
   "cell_type": "code",
   "execution_count": 21,
   "id": "9e1a5408-6c20-40eb-b58d-1ec63969b263",
   "metadata": {
    "execution": {
     "iopub.execute_input": "2024-11-20T10:10:29.809989Z",
     "iopub.status.busy": "2024-11-20T10:10:29.809676Z",
     "iopub.status.idle": "2024-11-20T10:10:30.151852Z",
     "shell.execute_reply": "2024-11-20T10:10:30.150453Z",
     "shell.execute_reply.started": "2024-11-20T10:10:29.809962Z"
    },
    "scrolled": true
   },
   "outputs": [],
   "source": [
    "target_layers = [model.model.pool_hT2]\n",
    "cam = GradCAM(model=model, target_layers=target_layers)\n",
    "targets = [ClassifierOutputTarget(0)]\n",
    "model.set_phase_length(phase, 48000)\n",
    "grayscale_cam = cam(input_tensor=spec[:, None, :, :], targets=targets)[0]\n",
    "# grayscale_cam = np.transpose(grayscale_cam, (0, 1))"
   ]
  },
  {
   "cell_type": "code",
   "execution_count": 22,
   "id": "d73d36de-571d-4f93-a266-7e03d174a468",
   "metadata": {
    "execution": {
     "iopub.execute_input": "2024-11-20T10:10:31.471299Z",
     "iopub.status.busy": "2024-11-20T10:10:31.471038Z",
     "iopub.status.idle": "2024-11-20T10:10:31.729558Z",
     "shell.execute_reply": "2024-11-20T10:10:31.727897Z",
     "shell.execute_reply.started": "2024-11-20T10:10:31.471276Z"
    }
   },
   "outputs": [
    {
     "data": {
      "image/png": "[encoded data removed]",
      "text/plain": [
       "<Figure size 640x480 with 1 Axes>"
      ]
     },
     "metadata": {},
     "output_type": "display_data"
    }
   ],
   "source": [
    "cam = plot_cam(f\"0.jpg\", grayscale_cam)\n",
    "plt.imsave(f\"1.jpg\", cam)"
   ]
  },
  {
   "cell_type": "code",
   "execution_count": null,
   "id": "aca65130-4868-420a-a525-7221acedc709",
   "metadata": {},
   "outputs": [],
   "source": []
  }
 ],
 "metadata": {
  "kernelspec": {
   "display_name": "Python 3 (ipykernel)",
   "language": "python",
   "name": "python3"
  },
  "language_info": {
   "codemirror_mode": {
    "name": "ipython",
    "version": 3
   },
   "file_extension": ".py",
   "mimetype": "text/x-python",
   "name": "python",
   "nbconvert_exporter": "python",
   "pygments_lexer": "ipython3",
   "version": "3.9.18"
  }
 },
 "nbformat": 4,
 "nbformat_minor": 5
}
