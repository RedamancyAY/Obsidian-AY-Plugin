{
 "cells": [
  {
   "cell_type": "code",
   "execution_count": 2,
   "id": "7c96c742-fc69-4cf3-8421-88263235303e",
   "metadata": {
    "execution": {
     "iopub.execute_input": "2024-08-10T03:47:59.888418Z",
     "iopub.status.busy": "2024-08-10T03:47:59.888124Z",
     "iopub.status.idle": "2024-08-10T03:48:01.367189Z",
     "shell.execute_reply": "2024-08-10T03:48:01.366258Z",
     "shell.execute_reply.started": "2024-08-10T03:47:59.888396Z"
    }
   },
   "outputs": [],
   "source": [
    "import torch"
   ]
  },
  {
   "cell_type": "markdown",
   "id": "4a598134-7f71-4952-9933-8fd3c43315e0",
   "metadata": {},
   "source": [
    "# Scripts for other models"
   ]
  },
  {
   "cell_type": "code",
   "execution_count": 6,
   "id": "7d65ef9e-d39e-4f6e-8485-8d56cdb92331",
   "metadata": {
    "execution": {
     "iopub.execute_input": "2024-08-10T03:48:28.163114Z",
     "iopub.status.busy": "2024-08-10T03:48:28.161889Z",
     "iopub.status.idle": "2024-08-10T03:48:28.175312Z",
     "shell.execute_reply": "2024-08-10T03:48:28.173942Z",
     "shell.execute_reply.started": "2024-08-10T03:48:28.163052Z"
    }
   },
   "outputs": [
    {
     "name": "stdout",
     "output_type": "stream",
     "text": [
      "python train.py --gpu 0 --cfg 'MultiViewCombine/MLAAD_de_es_ru' --ablation 'ablations/aasist_LCNN';\\\n",
      "python train.py --gpu 0 --cfg 'MultiViewCombine/MLAAD_de_es_ru' --ablation 'ablations/aasist_LCNN' -t 1 -v 0;\\\n",
      "# ------------------------------------------------------------------------------------------------------------------------------------------------------ ;\\\n",
      "python train.py --gpu 0 --cfg 'MultiViewCombine/MLAAD_de_es_ru' --ablation 'ablations/aasist_resnet';\\\n",
      "python train.py --gpu 0 --cfg 'MultiViewCombine/MLAAD_de_es_ru' --ablation 'ablations/aasist_resnet' -t 1 -v 0;\\\n",
      "# ------------------------------------------------------------------------------------------------------------------------------------------------------ ;\\\n",
      "python train.py --gpu 0 --cfg 'MultiViewCombine/MLAAD_de_es_ru' --ablation 'ablations/rawnet_resnet';\\\n",
      "python train.py --gpu 0 --cfg 'MultiViewCombine/MLAAD_de_es_ru' --ablation 'ablations/rawnet_resnet' -t 1 -v 0;\\\n",
      "# ------------------------------------------------------------------------------------------------------------------------------------------------------ ;\\\n",
      "python train.py --gpu 0 --cfg 'MultiViewCombine/MLAAD_de_es_ru' --ablation 'ablations/rawnet_LCNN';\\\n",
      "python train.py --gpu 0 --cfg 'MultiViewCombine/MLAAD_de_es_ru' --ablation 'ablations/rawnet_LCNN' -t 1 -v 0;\\\n",
      "# ------------------------------------------------------------------------------------------------------------------------------------------------------ ;\\\n",
      "python train.py --gpu 0 --cfg 'MultiViewCombine/MLAAD_de_es_ru' --ablation 'ablations/wavlm_resnet';\\\n",
      "python train.py --gpu 0 --cfg 'MultiViewCombine/MLAAD_de_es_ru' --ablation 'ablations/wavlm_resnet' -t 1 -v 0;\\\n",
      "# ------------------------------------------------------------------------------------------------------------------------------------------------------ ;\\\n",
      "python train.py --gpu 0 --cfg 'MultiViewCombine/MLAAD_de_es_ru' --ablation 'ablations/wavlm_LCNN';\\\n",
      "python train.py --gpu 0 --cfg 'MultiViewCombine/MLAAD_de_es_ru' --ablation 'ablations/wavlm_LCNN' -t 1 -v 0;\\\n",
      "# ------------------------------------------------------------------------------------------------------------------------------------------------------ ;\\\n"
     ]
    }
   ],
   "source": [
    "tasks = [\n",
    "    # \"ASV2019_LA\",\n",
    "    # \"ASV2021_LA\",\n",
    "    # 'ASV2021_inner',\n",
    "    # \"MLAAD_cross_lang\",\n",
    "    \"MLAAD_de_es_ru\",\n",
    "    \"MLAAD_DECRO\",\n",
    "]\n",
    "\n",
    "test = 0\n",
    "gpus = [0]*6\n",
    "for i, ablation in enumerate([\n",
    "    \"aasist_LCNN\",\n",
    "    \"aasist_resnet\",\n",
    "    \"rawnet_resnet\",\n",
    "    \"rawnet_LCNN\",\n",
    "    \"wavlm_resnet\",\n",
    "    \"wavlm_LCNN\",\n",
    "]):\n",
    "    for task in tasks:\n",
    "        if not test:\n",
    "            print(f\"python train.py --gpu {gpus[i]} --cfg 'MultiViewCombine/{task}' --ablation 'ablations/{ablation}';\\\\\")\n",
    "            print(\n",
    "                f\"python train.py --gpu {gpus[i]} --cfg 'MultiViewCombine/{task}' --ablation 'ablations/{ablation}' -t 1 -v 0;\\\\\"\n",
    "            )\n",
    "            # print(f\"python train.py --gpu 2 --cfg 'MultiViewCombine/{task}'  -t 1 -v 0 --test_noise 1 --test_noise_level 20 --test_noise_type 'bg';\\\\\")\n",
    "        else:\n",
    "            print(\n",
    "                f\"python train.py --gpu {gpus[i]} --cfg 'MultiViewCombine/{task}' --ablation 'ablations/{ablation}' -t 1 -v 0;\\\\\"\n",
    "            )\n",
    "    print(\"#\", \"---\" * 50, \";\\\\\")"
   ]
  },
  {
   "cell_type": "code",
   "execution_count": null,
   "id": "a58e00ac-194c-490f-b62c-84a8dea2adc2",
   "metadata": {},
   "outputs": [],
   "source": [
    "python train.py --gpu 0 --cfg 'MultiViewCombine/MLAAD_de_es_ru' --ablation 'ablations/aasist_LCNN';\\\n",
    "python train.py --gpu 0 --cfg 'MultiViewCombine/MLAAD_de_es_ru' --ablation 'ablations/aasist_LCNN' -t 1 -v 0;\\\n",
    "# ------------------------------------------------------------------------------------------------------------------------------------------------------ ;\\\n",
    "python train.py --gpu 0 --cfg 'MultiViewCombine/MLAAD_de_es_ru' --ablation 'ablations/aasist_resnet';\\\n",
    "python train.py --gpu 0 --cfg 'MultiViewCombine/MLAAD_de_es_ru' --ablation 'ablations/aasist_resnet' -t 1 -v 0;\\\n",
    "# ------------------------------------------------------------------------------------------------------------------------------------------------------ ;\\\n",
    "python train.py --gpu 0 --cfg 'MultiViewCombine/MLAAD_de_es_ru' --ablation 'ablations/rawnet_resnet';\\\n",
    "python train.py --gpu 0 --cfg 'MultiViewCombine/MLAAD_de_es_ru' --ablation 'ablations/rawnet_resnet' -t 1 -v 0;\\\n",
    "# ------------------------------------------------------------------------------------------------------------------------------------------------------ ;\\\n",
    "\n",
    "\n",
    "\n",
    "python train.py --gpu 3 --cfg 'MultiViewCombine/MLAAD_de_es_ru' --ablation 'ablations/rawnet_LCNN';\\\n",
    "python train.py --gpu 3 --cfg 'MultiViewCombine/MLAAD_de_es_ru' --ablation 'ablations/rawnet_LCNN' -t 1 -v 0;\\\n",
    "# ------------------------------------------------------------------------------------------------------------------------------------------------------ ;\\\n",
    "python train.py --gpu 3 --cfg 'MultiViewCombine/MLAAD_de_es_ru' --ablation 'ablations/wavlm_resnet';\\\n",
    "python train.py --gpu 3 --cfg 'MultiViewCombine/MLAAD_de_es_ru' --ablation 'ablations/wavlm_resnet' -t 1 -v 0;\\\n",
    "# ------------------------------------------------------------------------------------------------------------------------------------------------------ ;\\\n",
    "python train.py --gpu 3 --cfg 'MultiViewCombine/MLAAD_de_es_ru' --ablation 'ablations/wavlm_LCNN';\\\n",
    "python train.py --gpu 3 --cfg 'MultiViewCombine/MLAAD_de_es_ru' --ablation 'ablations/wavlm_LCNN' -t 1 -v 0;\\\n",
    "# ------------------------------------------------------------------------------------------------------------------------------------------------------ ;\\"
   ]
  }
 ],
 "metadata": {
  "kernelspec": {
   "display_name": "Python 3 (ipykernel)",
   "language": "python",
   "name": "python3"
  },
  "language_info": {
   "codemirror_mode": {
    "name": "ipython",
    "version": 3
   },
   "file_extension": ".py",
   "mimetype": "text/x-python",
   "name": "python",
   "nbconvert_exporter": "python",
   "pygments_lexer": "ipython3",
   "version": "3.9.18"
  }
 },
 "nbformat": 4,
 "nbformat_minor": 5
}
