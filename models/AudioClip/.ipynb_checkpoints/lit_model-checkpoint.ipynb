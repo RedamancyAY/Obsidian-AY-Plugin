{
 "cells": [
  {
   "cell_type": "code",
   "execution_count": 1,
   "id": "6119549b-3464-43a2-8ae5-bb05e15aa569",
   "metadata": {
    "execution": {
     "iopub.execute_input": "2023-07-24T09:53:38.358600Z",
     "iopub.status.busy": "2023-07-24T09:53:38.358120Z",
     "iopub.status.idle": "2023-07-24T09:53:38.385766Z",
     "shell.execute_reply": "2023-07-24T09:53:38.385010Z",
     "shell.execute_reply.started": "2023-07-24T09:53:38.358556Z"
    }
   },
   "outputs": [],
   "source": [
    "%load_ext autoreload\n",
    "%autoreload 2"
   ]
  },
  {
   "cell_type": "code",
   "execution_count": 2,
   "id": "eff92f4a-bdde-4bd8-8008-782eae02d02b",
   "metadata": {
    "execution": {
     "iopub.execute_input": "2023-07-24T09:53:38.387067Z",
     "iopub.status.busy": "2023-07-24T09:53:38.386784Z",
     "iopub.status.idle": "2023-07-24T09:53:40.574786Z",
     "shell.execute_reply": "2023-07-24T09:53:40.573548Z",
     "shell.execute_reply.started": "2023-07-24T09:53:38.387051Z"
    }
   },
   "outputs": [],
   "source": [
    "import glob\n",
    "import os\n",
    "import sys\n",
    "\n",
    "import librosa\n",
    "import librosa.display\n",
    "import matplotlib.pyplot as plt\n",
    "import numpy as np\n",
    "import pytorch_lightning as pl\n",
    "import simplejpeg\n",
    "import torch\n",
    "import torch.nn as nn\n",
    "import torchvision as tv\n",
    "from ay2.torch.deepfake_detection import DeepfakeAudioClassification\n",
    "from IPython.display import Audio, display\n",
    "from PIL import Image"
   ]
  },
  {
   "cell_type": "code",
   "execution_count": 3,
   "id": "419897f3-db8e-44ce-ab54-54c7293487b0",
   "metadata": {
    "editable": true,
    "execution": {
     "iopub.execute_input": "2023-07-24T09:53:43.404272Z",
     "iopub.status.busy": "2023-07-24T09:53:43.403133Z",
     "iopub.status.idle": "2023-07-24T09:53:44.003951Z",
     "shell.execute_reply": "2023-07-24T09:53:44.002549Z",
     "shell.execute_reply.started": "2023-07-24T09:53:43.404220Z"
    },
    "slideshow": {
     "slide_type": ""
    },
    "tags": [
     "active-ipynb",
     "style-activity"
    ]
   },
   "outputs": [],
   "source": [
    "from model import AudioCLIP"
   ]
  },
  {
   "cell_type": "code",
   "execution_count": null,
   "id": "5f2b9333-79f0-407f-8846-60e7b0f3f7c4",
   "metadata": {
    "editable": true,
    "slideshow": {
     "slide_type": ""
    },
    "tags": []
   },
   "outputs": [],
   "source": [
    "from .model import AudioCLIP"
   ]
  },
  {
   "cell_type": "markdown",
   "id": "ec5b690c-b126-46c7-aebe-9ff75fe6763c",
   "metadata": {},
   "source": [
    "## 测试"
   ]
  },
  {
   "cell_type": "code",
   "execution_count": 4,
   "id": "804090dc-169c-40b2-a193-e37d06ddd36a",
   "metadata": {
    "editable": true,
    "execution": {
     "iopub.execute_input": "2023-07-24T09:53:47.528631Z",
     "iopub.status.busy": "2023-07-24T09:53:47.528102Z",
     "iopub.status.idle": "2023-07-24T09:53:49.173685Z",
     "shell.execute_reply": "2023-07-24T09:53:49.173171Z",
     "shell.execute_reply.started": "2023-07-24T09:53:47.528585Z"
    },
    "slideshow": {
     "slide_type": ""
    },
    "tags": [
     "active-ipynb",
     "style-solution"
    ]
   },
   "outputs": [
    {
     "data": {
      "text/plain": [
       "(tensor([[ 0.0030, -0.0025,  0.0486,  ...,  0.0038,  0.0334,  0.0075],\n",
       "         [-0.0029, -0.0032,  0.0526,  ...,  0.0043,  0.0379,  0.0111]],\n",
       "        grad_fn=<DivBackward0>),\n",
       " torch.Size([2, 1024]))"
      ]
     },
     "execution_count": 4,
     "metadata": {},
     "output_type": "execute_result"
    }
   ],
   "source": [
    "aclp = AudioCLIP(\n",
    "    pretrained=\"/home/ay/data/DATA/0-model_weights/AudioClip/AudioCLIP-Full-Training.pt\"\n",
    ")\n",
    "\n",
    "audio = torch.randn(2, 48000)\n",
    "((audio_features, _, _), _), _ = aclp(audio=audio)\n",
    "audio_features, audio_features.shape"
   ]
  },
  {
   "cell_type": "markdown",
   "id": "18195735-3fb2-4597-b7f4-7d8488e1443e",
   "metadata": {},
   "source": [
    "## Lit model"
   ]
  },
  {
   "cell_type": "code",
   "execution_count": null,
   "id": "d4ef9007-a547-4050-9d68-0b761306f594",
   "metadata": {
    "editable": true,
    "slideshow": {
     "slide_type": ""
    },
    "tags": []
   },
   "outputs": [],
   "source": [
    "class AudioClip(nn.Module):\n",
    "    def __init__(self, **kwargs):\n",
    "        super().__init__()\n",
    "        self.model = AudioCLIP(\n",
    "            pretrained=\"/home/ay/data/DATA/0-model_weights/AudioClip/AudioCLIP-Full-Training.pt\"\n",
    "        )\n",
    "        self.proj = nn.Linear(1024, 1)\n",
    "\n",
    "    def forward(self, x):\n",
    "        ((audio_features, _, _), _), _ = self.model(x)\n",
    "        y = self.proj(audio_features)\n",
    "        return y\n",
    "\n",
    "    def extract_feature(self, x):\n",
    "        ((audio_features, _, _), _), _ = self.model(x)\n",
    "        return audio_features\n",
    "\n",
    "    def make_prediction(self, audio_features):\n",
    "        y = self.proj(audio_features)\n",
    "        return y"
   ]
  },
  {
   "cell_type": "code",
   "execution_count": null,
   "id": "ce3ed4f4-909c-4ce1-b4ca-e888af5b0aaf",
   "metadata": {
    "editable": true,
    "slideshow": {
     "slide_type": ""
    },
    "tags": []
   },
   "outputs": [],
   "source": [
    "class AudioClip_lit(DeepfakeAudioClassification):\n",
    "    def __init__(self, backend=\"linear\", **kwargs):\n",
    "        super().__init__()\n",
    "        self.model = AudioClip()\n",
    "        self.loss_fn = nn.BCEWithLogitsLoss()\n",
    "        self.save_hyperparameters()\n",
    "\n",
    "    def calcuate_loss(self, batch_res, batch):\n",
    "        label = batch[\"label\"]\n",
    "        loss = self.loss_fn(batch_res[\"logit\"], label.type(torch.float32))\n",
    "        return loss\n",
    "\n",
    "    def configure_optimizers(self):\n",
    "        optimizer = torch.optim.Adam(\n",
    "            self.model.parameters(), lr=0.0001, weight_decay=0.0001\n",
    "        )\n",
    "        return [optimizer]\n"
   ]
  }
 ],
 "metadata": {
  "jupytext": {
   "formats": "ipynb,py:light"
  },
  "kernelspec": {
   "display_name": "Python 3 (ipykernel)",
   "language": "python",
   "name": "python3"
  },
  "language_info": {
   "codemirror_mode": {
    "name": "ipython",
    "version": 3
   },
   "file_extension": ".py",
   "mimetype": "text/x-python",
   "name": "python",
   "nbconvert_exporter": "python",
   "pygments_lexer": "ipython3",
   "version": "3.9.18"
  }
 },
 "nbformat": 4,
 "nbformat_minor": 5
}
