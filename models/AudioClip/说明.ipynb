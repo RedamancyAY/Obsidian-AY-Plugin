{
 "cells": [
  {
   "cell_type": "code",
   "execution_count": null,
   "id": "07d4e313-02e7-4ac9-817c-48390e510789",
   "metadata": {},
   "outputs": [],
   "source": [
    "https://github.com/AndreyGuzhov/AudioCLIP"
   ]
  },
  {
   "cell_type": "code",
   "execution_count": null,
   "id": "09233df4-78bd-4781-9fcd-b3e63bab42b2",
   "metadata": {},
   "outputs": [],
   "source": [
    "!pip install simplejpeg pytorch-ignite visdom ftfy"
   ]
  },
  {
   "attachments": {},
   "cell_type": "markdown",
   "id": "9eeae776-52c4-4187-8282-9c0f6eae0348",
   "metadata": {},
   "source": [
    "在`simple_tokenizer.py`修改bpe路径。\n",
    "\n",
    "```python\n",
    "@lru_cache()\n",
    "def default_bpe():\n",
    "    # return os.path.join(os.path.dirname(os.path.abspath(__file__)), '..', 'assets', 'bpe_simple_vocab_16e6.txt.gz')\n",
    "    return '/home/ay/data/DATA/0-model_weights/AudioClip/bpe_simple_vocab_16e6.txt.gz'\n",
    "```"
   ]
  },
  {
   "cell_type": "markdown",
   "id": "6fab0aef-cd48-422e-853d-cc68834996b7",
   "metadata": {},
   "source": [
    "在`model/esresnet/`下，将`ignite_trainer/_interfaces.py`拷贝过去，然后修改`base.py`："
   ]
  },
  {
   "cell_type": "markdown",
   "id": "7a233162-4164-40c8-9d7e-6ea78cbdd345",
   "metadata": {
    "editable": true,
    "slideshow": {
     "slide_type": ""
    },
    "tags": []
   },
   "source": [
    "```python\n",
    "# import ignite_trainer as it\n",
    "from .interfaces import AbstractNet\n",
    "```"
   ]
  }
 ],
 "metadata": {
  "kernelspec": {
   "display_name": "Python 3 (ipykernel)",
   "language": "python",
   "name": "python3"
  },
  "language_info": {
   "codemirror_mode": {
    "name": "ipython",
    "version": 3
   },
   "file_extension": ".py",
   "mimetype": "text/x-python",
   "name": "python",
   "nbconvert_exporter": "python",
   "pygments_lexer": "ipython3",
   "version": "3.9.16"
  }
 },
 "nbformat": 4,
 "nbformat_minor": 5
}
