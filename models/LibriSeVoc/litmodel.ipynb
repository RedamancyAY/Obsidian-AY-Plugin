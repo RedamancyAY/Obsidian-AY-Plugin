{
 "cells": [
  {
   "cell_type": "code",
   "execution_count": 3,
   "id": "2925d107-7213-4241-8cc0-173d0fd47cb4",
   "metadata": {
    "execution": {
     "iopub.execute_input": "2023-07-17T09:39:30.326385Z",
     "iopub.status.busy": "2023-07-17T09:39:30.325794Z",
     "iopub.status.idle": "2023-07-17T09:39:30.371660Z",
     "shell.execute_reply": "2023-07-17T09:39:30.370608Z",
     "shell.execute_reply.started": "2023-07-17T09:39:30.326340Z"
    }
   },
   "outputs": [
    {
     "name": "stdout",
     "output_type": "stream",
     "text": [
      "The autoreload extension is already loaded. To reload it, use:\n",
      "  %reload_ext autoreload\n"
     ]
    }
   ],
   "source": [
    "%load_ext autoreload\n",
    "%autoreload 2"
   ]
  },
  {
   "cell_type": "code",
   "execution_count": 4,
   "id": "1f037c75-00d7-45aa-8f45-1924f8532a70",
   "metadata": {
    "execution": {
     "iopub.execute_input": "2023-07-17T09:39:31.874889Z",
     "iopub.status.busy": "2023-07-17T09:39:31.874313Z",
     "iopub.status.idle": "2023-07-17T09:39:31.914433Z",
     "shell.execute_reply": "2023-07-17T09:39:31.913416Z",
     "shell.execute_reply.started": "2023-07-17T09:39:31.874842Z"
    }
   },
   "outputs": [],
   "source": [
    "import pytorch_lightning as pl\n",
    "import torch\n",
    "import torch.nn as nn\n",
    "from ay2.torch.deepfake_detection import DeepfakeAudioClassification"
   ]
  },
  {
   "cell_type": "code",
   "execution_count": 27,
   "id": "2cc3f874-51e8-4763-8de9-4d896e0cc8ec",
   "metadata": {
    "execution": {
     "iopub.execute_input": "2023-07-17T12:15:00.393952Z",
     "iopub.status.busy": "2023-07-17T12:15:00.393359Z",
     "iopub.status.idle": "2023-07-17T12:15:00.992240Z",
     "shell.execute_reply": "2023-07-17T12:15:00.991202Z",
     "shell.execute_reply.started": "2023-07-17T12:15:00.393905Z"
    }
   },
   "outputs": [],
   "source": [
    "from copy import deepcopy"
   ]
  },
  {
   "cell_type": "code",
   "execution_count": null,
   "id": "ca7d70be-3f77-4fed-a2db-41fccf558545",
   "metadata": {},
   "outputs": [],
   "source": [
    "from .v2 import RawNet2"
   ]
  },
  {
   "cell_type": "code",
   "execution_count": 5,
   "id": "e182e36a-e933-4335-a846-c0da4a531a47",
   "metadata": {
    "editable": true,
    "execution": {
     "iopub.execute_input": "2023-07-17T09:39:35.878695Z",
     "iopub.status.busy": "2023-07-17T09:39:35.877979Z",
     "iopub.status.idle": "2023-07-17T09:39:35.914107Z",
     "shell.execute_reply": "2023-07-17T09:39:35.913389Z",
     "shell.execute_reply.started": "2023-07-17T09:39:35.878646Z"
    },
    "slideshow": {
     "slide_type": ""
    },
    "tags": [
     "active-ipynb"
    ]
   },
   "outputs": [],
   "source": [
    "from v2 import RawNet2"
   ]
  },
  {
   "cell_type": "markdown",
   "id": "b0ad40a4-6672-4b25-a4b1-9edeec5eee6f",
   "metadata": {},
   "source": [
    "The default config of RawNet2 is\n",
    "```python\n",
    "RAW_NET2_CONFIG  = {\n",
    "    'first_conv': 251,\n",
    "    'in_channels': 1,\n",
    "    'filts': [128, [128,128], [128,256], [256,256]],\n",
    "    'blocks': [2, 4],\n",
    "    'nb_fc_att_node': [1],\n",
    "    'nb_fc_node': 1024,\n",
    "    'gru_node': 1024,\n",
    "    'nb_gru_layer': 1,\n",
    "    'nb_samp': 59049,\n",
    "    # 'nb_classes': 1\n",
    "}\n",
    "```\n",
    "The nb_classes denote the final prediction shape. In the code of WaveFake, the config of RawNet2 is:\n",
    "```python\n",
    "RAW_NET2_CONFIG = {\n",
    "    \"nb_samp\": 64600,\n",
    "    \"first_conv\": 1024,   # no. of filter coefficients\n",
    "    \"in_channels\": 1,  # no. of filters channel in residual blocks\n",
    "    \"filts\": [20, [20, 20], [20, 128], [128, 128]],\n",
    "    \"blocks\": [2, 4],\n",
    "    \"nb_fc_node\": 1024,\n",
    "    \"gru_node\": 1024,\n",
    "    \"nb_gru_layer\": 3,\n",
    "    \"nb_classes\": 1,\n",
    "}\n",
    "```"
   ]
  },
  {
   "cell_type": "code",
   "execution_count": 6,
   "id": "d77f0ab0-7002-4b14-b298-94c3eabeba79",
   "metadata": {
    "execution": {
     "iopub.execute_input": "2023-07-17T09:39:48.800224Z",
     "iopub.status.busy": "2023-07-17T09:39:48.799206Z",
     "iopub.status.idle": "2023-07-17T09:39:48.839166Z",
     "shell.execute_reply": "2023-07-17T09:39:48.838392Z",
     "shell.execute_reply.started": "2023-07-17T09:39:48.800166Z"
    }
   },
   "outputs": [],
   "source": [
    "RAW_NET2_CONFIG = {\n",
    "    \"nb_samp\": 48000,\n",
    "    \"first_conv\": 1024,  # no. of filter coefficients\n",
    "    \"in_channels\": 1,  # no. of filters channel in residual blocks\n",
    "    \"filts\": [20, [20, 20], [20, 128], [128, 128]],\n",
    "    \"blocks\": [2, 4],\n",
    "    \"nb_fc_node\": 1024,\n",
    "    \"gru_node\": 1024,\n",
    "    \"nb_gru_layer\": 3,\n",
    "    \"nb_classes\": 1,\n",
    "    \"method_classes\": 6,  # number of vocoders\n",
    "}"
   ]
  },
  {
   "cell_type": "code",
   "execution_count": 7,
   "id": "30b83fc9-9833-427f-8aa4-bdf222039233",
   "metadata": {
    "execution": {
     "iopub.execute_input": "2023-07-17T09:39:49.561974Z",
     "iopub.status.busy": "2023-07-17T09:39:49.561398Z",
     "iopub.status.idle": "2023-07-17T09:39:49.604429Z",
     "shell.execute_reply": "2023-07-17T09:39:49.603637Z",
     "shell.execute_reply.started": "2023-07-17T09:39:49.561927Z"
    }
   },
   "outputs": [],
   "source": [
    "class LibriSeVoc_lit(DeepfakeAudioClassification):\n",
    "    def __init__(self, cfg=None, **kwargs):\n",
    "        super().__init__()\n",
    "        model_config = deepcopy(RAW_NET2_CONFIG)\n",
    "        model_config[\"method_classes\"] = cfg.method_classes\n",
    "        self.model = RawNet2(model_config)\n",
    "        self.loss_fn1 = nn.BCEWithLogitsLoss(pos_weight=None)\n",
    "        self.loss_fn2 = nn.CrossEntropyLoss()\n",
    "        self.save_hyperparameters()\n",
    "    \n",
    "    def calcuate_loss(self, batch_res, batch):\n",
    "        label = batch[\"label\"]\n",
    "        loss1 = self.loss_fn1(batch_res[\"logit\"], label.type(torch.float32))\n",
    "\n",
    "        vocoder_label = batch[\"vocoder_label\"]\n",
    "        loss2 = self.loss_fn2(batch_res[\"batch_out_vocoder\"], vocoder_label)\n",
    "        return (loss1 + loss2) / 2\n",
    "\n",
    "    def configure_optimizers(self):\n",
    "        optimizer = torch.optim.Adam(self.model.parameters(), lr=0.0001)\n",
    "        return [optimizer]\n",
    "\n",
    "    def _shared_pred(self, batch, batch_idx):\n",
    "        audio, sample_rate = batch[\"audio\"], batch[\"sample_rate\"]\n",
    "        if len(audio.shape) == 3:\n",
    "            audio = audio[:, 0, :]\n",
    "\n",
    "        feature = self.model.extract_feature(audio)\n",
    "        out, out2 = self.model.make_prediction(feature)\n",
    "        # out, out2 = self.model(audio)\n",
    "        out = out.squeeze(-1)\n",
    "        batch_pred = (torch.sigmoid(out) + 0.5).int()\n",
    "        return {\n",
    "            \"logit\": out,\n",
    "            \"batch_out_vocoder\": out2,\n",
    "            \"pred\": batch_pred,\n",
    "            \"feature\" : feature\n",
    "        }\n",
    "\n",
    "    # def _shared_eval_step(self, batch, batch_idx, stage=\"train\"):\n",
    "    #     batch_res = self._shared_pred(batch, batch_idx)\n",
    "\n",
    "    #     if stage == 'test':\n",
    "    #         return batch_res\n",
    "        \n",
    "    #     label = batch[\"label\"]\n",
    "    #     loss = self.calcuate_loss(batch_res, batch)\n",
    "\n",
    "    #     self.log_dict(\n",
    "    #         {f\"{stage}-loss\": loss},\n",
    "    #         on_step=False,\n",
    "    #         on_epoch=True,\n",
    "    #         logger=True,\n",
    "    #         prog_bar=True,\n",
    "    #     )\n",
    "    #     batch_res[\"loss\"] = loss\n",
    "    #     return batch_res\n",
    "\n",
    "    def _shared_eval_step(\n",
    "        self, batch, batch_idx, stage=\"train\", dataloader_idx=0, *args, **kwargs\n",
    "    ):\n",
    "        batch_res = self._shared_pred(batch, batch_idx)\n",
    "\n",
    "        if stage == 'test':\n",
    "            return batch_res\n",
    "        \n",
    "        label = batch[\"label\"]\n",
    "        loss = self.calcuate_loss(batch_res, batch)\n",
    "\n",
    "        if not isinstance(loss, dict):\n",
    "            loss = {'loss' : loss}\n",
    "            \n",
    "        suffix = \"\" if dataloader_idx == 0 else f\"-dl{dataloader_idx}\"\n",
    "        self.log_dict(\n",
    "            {f\"{stage}-{key}{suffix}\" : loss[key] for key in loss},\n",
    "            on_step=False,\n",
    "            on_epoch=True,\n",
    "            logger=True,\n",
    "            prog_bar=True,\n",
    "            add_dataloader_idx=False,\n",
    "            batch_size = batch['label'].shape[0]\n",
    "        )\n",
    "        batch_res.update(loss)\n",
    "        return batch_res"
   ]
  },
  {
   "cell_type": "code",
   "execution_count": null,
   "id": "ce7517b0-9296-4cf7-be92-43b8560f7506",
   "metadata": {
    "lines_to_next_cell": 2
   },
   "outputs": [],
   "source": []
  },
  {
   "cell_type": "code",
   "execution_count": null,
   "id": "80fdcbda-4c25-434d-81fc-dcca3076142c",
   "metadata": {
    "editable": true,
    "execution": {
     "iopub.execute_input": "2023-07-17T09:43:01.593637Z",
     "iopub.status.busy": "2023-07-17T09:43:01.593056Z",
     "iopub.status.idle": "2023-07-17T09:43:01.696528Z",
     "shell.execute_reply": "2023-07-17T09:43:01.695781Z",
     "shell.execute_reply.started": "2023-07-17T09:43:01.593590Z"
    },
    "slideshow": {
     "slide_type": ""
    },
    "tags": [
     "active-ipynb"
    ]
   },
   "outputs": [],
   "source": [
    "from argparse import Namespace\n",
    "model = LibriSeVoc_lit(cfg=Namespace(method_classes=7))\n",
    "\n",
    "for key in model.state_dict():\n",
    "    print(key, model.state_dict()[key].shape)"
   ]
  }
 ],
 "metadata": {
  "jupytext": {
   "formats": "ipynb,py:light"
  },
  "kernelspec": {
   "display_name": "Python 3 (ipykernel)",
   "language": "python",
   "name": "python3"
  },
  "language_info": {
   "codemirror_mode": {
    "name": "ipython",
    "version": 3
   },
   "file_extension": ".py",
   "mimetype": "text/x-python",
   "name": "python",
   "nbconvert_exporter": "python",
   "pygments_lexer": "ipython3",
   "version": "3.9.18"
  }
 },
 "nbformat": 4,
 "nbformat_minor": 5
}
