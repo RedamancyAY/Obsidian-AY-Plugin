{
 "cells": [
  {
   "cell_type": "code",
   "execution_count": null,
   "id": "96a08a28-186d-4571-812a-d1034f9ddaa6",
   "metadata": {},
   "outputs": [],
   "source": []
  },
  {
   "cell_type": "code",
   "execution_count": 1,
   "id": "4b02c51c-3f15-4f20-b676-c75fdd49c132",
   "metadata": {
    "execution": {
     "iopub.execute_input": "2023-07-14T02:17:56.955612Z",
     "iopub.status.busy": "2023-07-14T02:17:56.955007Z",
     "iopub.status.idle": "2023-07-14T02:17:58.244326Z",
     "shell.execute_reply": "2023-07-14T02:17:58.243663Z",
     "shell.execute_reply.started": "2023-07-14T02:17:56.955587Z"
    },
    "tags": [
     "style-activity",
     "active-ipynb"
    ]
   },
   "outputs": [],
   "source": [
    "from lcnn import LCNN"
   ]
  },
  {
   "cell_type": "code",
   "execution_count": 14,
   "id": "556e46f5-d67a-4bdc-996a-c8f4bcde85dc",
   "metadata": {
    "execution": {
     "iopub.execute_input": "2023-06-29T03:06:35.374067Z",
     "iopub.status.busy": "2023-06-29T03:06:35.373481Z",
     "iopub.status.idle": "2023-06-29T03:06:35.441801Z",
     "shell.execute_reply": "2023-06-29T03:06:35.440638Z",
     "shell.execute_reply.started": "2023-06-29T03:06:35.374019Z"
    },
    "tags": [
     "active-ipynb",
     "style-student"
    ]
   },
   "outputs": [
    {
     "data": {
      "text/plain": [
       "tensor([[ 0.6874, -0.8437],\n",
       "        [-0.5890,  0.7061]], grad_fn=<AddmmBackward0>)"
      ]
     },
     "execution_count": 14,
     "metadata": {},
     "output_type": "execute_result"
    }
   ],
   "source": [
    "model = LCNN()\n",
    "x = torch.randn(2, 320, 60)\n",
    "model(x)"
   ]
  }
 ],
 "metadata": {
  "kernelspec": {
   "display_name": "Python 3 (ipykernel)",
   "language": "python",
   "name": "python3"
  },
  "language_info": {
   "codemirror_mode": {
    "name": "ipython",
    "version": 3
   },
   "file_extension": ".py",
   "mimetype": "text/x-python",
   "name": "python",
   "nbconvert_exporter": "python",
   "pygments_lexer": "ipython3",
   "version": "3.9.16"
  }
 },
 "nbformat": 4,
 "nbformat_minor": 5
}
