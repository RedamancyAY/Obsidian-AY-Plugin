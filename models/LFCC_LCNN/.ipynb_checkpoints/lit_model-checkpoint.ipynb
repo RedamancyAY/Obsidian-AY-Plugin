{
 "cells": [
  {
   "cell_type": "code",
   "execution_count": 6,
   "id": "d9c30d50-21ff-47d0-8c32-1edcb9deff59",
   "metadata": {
    "execution": {
     "iopub.execute_input": "2023-06-28T13:00:04.845968Z",
     "iopub.status.busy": "2023-06-28T13:00:04.845395Z",
     "iopub.status.idle": "2023-06-28T13:00:04.884412Z",
     "shell.execute_reply": "2023-06-28T13:00:04.883235Z",
     "shell.execute_reply.started": "2023-06-28T13:00:04.845919Z"
    },
    "tags": []
   },
   "outputs": [],
   "source": [
    "%load_ext autoreload\n",
    "%autoreload 2"
   ]
  },
  {
   "cell_type": "code",
   "execution_count": 11,
   "id": "8f159518-e012-46c9-a8e4-8ec1f9f21111",
   "metadata": {
    "execution": {
     "iopub.execute_input": "2023-06-29T03:06:22.450794Z",
     "iopub.status.busy": "2023-06-29T03:06:22.450272Z",
     "iopub.status.idle": "2023-06-29T03:06:22.496197Z",
     "shell.execute_reply": "2023-06-29T03:06:22.495377Z",
     "shell.execute_reply.started": "2023-06-29T03:06:22.450748Z"
    },
    "tags": []
   },
   "outputs": [],
   "source": [
    "import pytorch_lightning as pl\n",
    "import torch\n",
    "import torch.nn as nn\n",
    "from ay.torch.audio_df_detection import BinaryClassification"
   ]
  },
  {
   "cell_type": "code",
   "execution_count": null,
   "id": "9613d902-80cd-4e99-a4fa-ff83ae0dddc4",
   "metadata": {},
   "outputs": [],
   "source": [
    "from torchaudio.transforms import LFCC"
   ]
  },
  {
   "cell_type": "code",
   "execution_count": 1,
   "id": "a4c2f11c-3b11-4813-b2a7-08217f4414b1",
   "metadata": {
    "execution": {
     "iopub.execute_input": "2023-06-28T12:56:01.557039Z",
     "iopub.status.busy": "2023-06-28T12:56:01.556314Z",
     "iopub.status.idle": "2023-06-28T12:56:01.564240Z",
     "shell.execute_reply": "2023-06-28T12:56:01.562831Z",
     "shell.execute_reply.started": "2023-06-28T12:56:01.556988Z"
    },
    "tags": []
   },
   "outputs": [],
   "source": [
    "from .lcnn import LCNN"
   ]
  },
  {
   "cell_type": "code",
   "execution_count": 12,
   "id": "5455f65b-7352-462d-9cbd-5b2025ca69f0",
   "metadata": {
    "execution": {
     "iopub.execute_input": "2023-05-16T08:24:25.973651Z",
     "iopub.status.busy": "2023-05-16T08:24:25.973078Z",
     "iopub.status.idle": "2023-05-16T08:24:26.014344Z",
     "shell.execute_reply": "2023-05-16T08:24:26.013547Z",
     "shell.execute_reply.started": "2023-05-16T08:24:25.973600Z"
    },
    "lines_to_next_cell": 2,
    "tags": []
   },
   "outputs": [],
   "source": [
    "class LCNN_lit(BinaryClassification):\n",
    "    def __init__(self, **kwargs):\n",
    "        super().__init__()\n",
    "        self.model = LCNN(num_class=1)\n",
    "        self.loss_fn = nn.BCEWithLogitsLoss()\n",
    "        self.save_hyperparameters()\n",
    "\n",
    "        self.lfcc = LFCC(\n",
    "            n_lfcc=60,\n",
    "            speckwargs={\"n_fft\": 400, \"hop_length\": 160, \"center\": False},\n",
    "        )\n",
    "\n",
    "    def calcuate_loss(self, batch_res, batch):\n",
    "        label = batch[\"label\"]\n",
    "        loss = self.loss_fn(batch_res[\"logit\"], label.type(torch.float32))\n",
    "        return loss\n",
    "\n",
    "    def configure_optimizers(self):\n",
    "        optimizer = torch.optim.Adam(\n",
    "            self.model.parameters(), lr=0.0001, weight_decay=0.0001\n",
    "        )\n",
    "        return [optimizer]\n",
    "\n",
    "    def _shared_pred(self, batch, batch_idx):\n",
    "        audio, sample_rate = batch[\"audio\"], batch[\"sample_rate\"]\n",
    "\n",
    "        audio=self.lfcc(audio)\n",
    "        \n",
    "        batch_out = self.model(audio).squeeze()\n",
    "        batch_pred = (torch.sigmoid(batch_out) + 0.5).int()\n",
    "        return {\"logit\": batch_out, \"pred\": batch_pred}"
   ]
  }
 ],
 "metadata": {
  "jupytext": {
   "formats": "ipynb,py:light"
  },
  "kernelspec": {
   "display_name": "Python 3 (ipykernel)",
   "language": "python",
   "name": "python3"
  },
  "language_info": {
   "codemirror_mode": {
    "name": "ipython",
    "version": 3
   },
   "file_extension": ".py",
   "mimetype": "text/x-python",
   "name": "python",
   "nbconvert_exporter": "python",
   "pygments_lexer": "ipython3",
   "version": "3.9.16"
  }
 },
 "nbformat": 4,
 "nbformat_minor": 5
}
