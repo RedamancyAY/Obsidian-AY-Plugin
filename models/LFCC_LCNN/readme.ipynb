{
 "cells": [
  {
   "cell_type": "markdown",
   "id": "e2c3141c-7ae8-45b6-9fad-ccc6e0258725",
   "metadata": {},
   "source": [
    "`lcnn.py`来自[FAD](https://github.com/ADDchallenge/FAD/tree/80ddee6f5d53f0bf163c6c98183d81dfbf876141/FAD_upload/lfcc-lcnn)。唯一的改动是把\n",
    "```python\n",
    "    def forward(x):\n",
    "        ...\n",
    "        return logits, x\n",
    "```\n",
    "改成了\n",
    "```python\n",
    "    def forward(x):\n",
    "        ...\n",
    "        return logits\n",
    "```"
   ]
  }
 ],
 "metadata": {
  "kernelspec": {
   "display_name": "Python 3 (ipykernel)",
   "language": "python",
   "name": "python3"
  },
  "language_info": {
   "codemirror_mode": {
    "name": "ipython",
    "version": 3
   },
   "file_extension": ".py",
   "mimetype": "text/x-python",
   "name": "python",
   "nbconvert_exporter": "python",
   "pygments_lexer": "ipython3",
   "version": "3.9.16"
  }
 },
 "nbformat": 4,
 "nbformat_minor": 5
}
