{
 "cells": [
  {
   "cell_type": "markdown",
   "id": "88dd13b9-40a7-4bf4-8629-8ff24bb64d3e",
   "metadata": {},
   "source": [
    "# 介绍"
   ]
  },
  {
   "cell_type": "markdown",
   "id": "695b71fa-cfa8-45f0-851d-cd4dc79c252f",
   "metadata": {},
   "source": [
    "github:https://github.com/clovaai/aasist"
   ]
  },
  {
   "cell_type": "markdown",
   "id": "b1656ce1-48d7-4bd8-b3a7-51710d8ebc5d",
   "metadata": {},
   "source": [
    "The `main.py` includes train/validation/evaluation.\n",
    "\n",
    "To train AASIST [1]:\n",
    "```\n",
    "python main.py --config ./config/AASIST.conf\n",
    "```\n",
    "To train AASIST-L [1]:\n",
    "```\n",
    "python main.py --config ./config/AASIST-L.conf\n",
    "```"
   ]
  },
  {
   "cell_type": "markdown",
   "id": "26230e80-689b-4d1b-ac21-cf4404765241",
   "metadata": {},
   "source": [
    "# 修改"
   ]
  },
  {
   "cell_type": "markdown",
   "id": "2a1de1b2-1e7e-4ccb-bf0c-c9e40de8039a",
   "metadata": {},
   "source": [
    "在`models/AASIST.py`，将output layer的输出从2变成1\n",
    "```python\n",
    "        self.out_layer = nn.Linear(5 * gat_dims[1], num_classes)\n",
    "```"
   ]
  },
  {
   "cell_type": "markdown",
   "id": "b71128b8-4edb-4308-9ae0-771513071890",
   "metadata": {},
   "source": [
    "添加`load_model.py`，实现从外部加载AASIST模型\n",
    "```python\n",
    "from .models.AASIST import Model\n",
    "\n",
    "def get_model(config_name):\n",
    "    \"\"\"Define DNN model architecture\"\"\"\n",
    "    \n",
    "    assert config_name in ['AASIST-L', 'AASIST']\n",
    "    cur_path = os.path.split(__file__)[0]\n",
    "    with open(f\"{cur_path}/config/{config_name}.conf\", \"r\") as f_json:\n",
    "        config = json.loads(f_json.read())\n",
    "    model_config = config[\"model_config\"]\n",
    "\n",
    "\n",
    "    model = Model(model_config)\n",
    "    nb_params = sum([param.view(-1).size()[0] for param in model.parameters()])\n",
    "    print(\"no. model params:{}\".format(nb_params))\n",
    "\n",
    "    return model\n",
    "```"
   ]
  },
  {
   "cell_type": "code",
   "execution_count": 2,
   "id": "74c7741f-7294-4f40-8cfe-61636a7f7198",
   "metadata": {},
   "outputs": [],
   "source": [
    "%load_ext autoreload\n",
    "%autoreload 2"
   ]
  },
  {
   "cell_type": "code",
   "execution_count": 2,
   "id": "93a0436d-9b12-4922-9bcf-c6f379d2bb22",
   "metadata": {
    "execution": {
     "iopub.execute_input": "2023-08-03T11:48:57.451004Z",
     "iopub.status.busy": "2023-08-03T11:48:57.450274Z",
     "iopub.status.idle": "2023-08-03T11:48:57.456361Z",
     "shell.execute_reply": "2023-08-03T11:48:57.455231Z",
     "shell.execute_reply.started": "2023-08-03T11:48:57.450956Z"
    },
    "tags": []
   },
   "outputs": [],
   "source": [
    "import json\n",
    "import torch"
   ]
  },
  {
   "cell_type": "code",
   "execution_count": 3,
   "id": "8038ed0e-4524-46ba-b89f-386c219bfebb",
   "metadata": {
    "execution": {
     "iopub.execute_input": "2023-08-03T11:49:02.670128Z",
     "iopub.status.busy": "2023-08-03T11:49:02.669538Z",
     "iopub.status.idle": "2023-08-03T11:49:02.961975Z",
     "shell.execute_reply": "2023-08-03T11:49:02.961579Z",
     "shell.execute_reply.started": "2023-08-03T11:49:02.670083Z"
    },
    "tags": []
   },
   "outputs": [
    {
     "name": "stdout",
     "output_type": "stream",
     "text": [
      "no. model params:297705\n"
     ]
    },
    {
     "data": {
      "text/plain": [
       "(torch.Size([2, 160]), torch.Size([2, 1]))"
      ]
     },
     "execution_count": 3,
     "metadata": {},
     "output_type": "execute_result"
    }
   ],
   "source": [
    "from Aaasist.load_model import get_model\n",
    "\n",
    "model = get_model(config_name ='AASIST')\n",
    "x = torch.randn(2, 48000)\n",
    "feat, logit = model(x)\n",
    "feat.shape, logit.shape"
   ]
  }
 ],
 "metadata": {
  "kernelspec": {
   "display_name": "Python 3 (ipykernel)",
   "language": "python",
   "name": "python3"
  },
  "language_info": {
   "codemirror_mode": {
    "name": "ipython",
    "version": 3
   },
   "file_extension": ".py",
   "mimetype": "text/x-python",
   "name": "python",
   "nbconvert_exporter": "python",
   "pygments_lexer": "ipython3",
   "version": "3.9.13"
  }
 },
 "nbformat": 4,
 "nbformat_minor": 5
}
