{
 "cells": [
  {
   "cell_type": "code",
   "execution_count": 1,
   "id": "2925d107-7213-4241-8cc0-173d0fd47cb4",
   "metadata": {
    "execution": {
     "iopub.execute_input": "2023-05-16T07:46:39.131008Z",
     "iopub.status.busy": "2023-05-16T07:46:39.129859Z",
     "iopub.status.idle": "2023-05-16T07:46:39.168710Z",
     "shell.execute_reply": "2023-05-16T07:46:39.167500Z",
     "shell.execute_reply.started": "2023-05-16T07:46:39.130954Z"
    }
   },
   "outputs": [],
   "source": [
    "%load_ext autoreload\n",
    "%autoreload 2"
   ]
  },
  {
   "cell_type": "code",
   "execution_count": 1,
   "id": "1f037c75-00d7-45aa-8f45-1924f8532a70",
   "metadata": {
    "execution": {
     "iopub.execute_input": "2023-07-14T02:10:28.146018Z",
     "iopub.status.busy": "2023-07-14T02:10:28.145422Z",
     "iopub.status.idle": "2023-07-14T02:10:28.153146Z",
     "shell.execute_reply": "2023-07-14T02:10:28.151968Z",
     "shell.execute_reply.started": "2023-07-14T02:10:28.145969Z"
    }
   },
   "outputs": [],
   "source": [
    "import pytorch_lightning as pl\n",
    "import torch\n",
    "import torch.nn as nn\n",
    "from ay2.torch.deepfake_detection import DeepfakeAudioClassification"
   ]
  },
  {
   "cell_type": "code",
   "execution_count": 1,
   "id": "ca7d70be-3f77-4fed-a2db-41fccf558545",
   "metadata": {
    "execution": {
     "iopub.execute_input": "2023-08-03T11:48:29.765783Z",
     "iopub.status.busy": "2023-08-03T11:48:29.765262Z",
     "iopub.status.idle": "2023-08-03T11:48:30.847733Z",
     "shell.execute_reply": "2023-08-03T11:48:30.846945Z",
     "shell.execute_reply.started": "2023-08-03T11:48:29.765674Z"
    },
    "tags": []
   },
   "outputs": [],
   "source": [
    "from .Aaasist.load_model import get_model\n",
    "from .Aaasist.utils import cosine_annealing"
   ]
  },
  {
   "cell_type": "code",
   "execution_count": 12,
   "id": "30b83fc9-9833-427f-8aa4-bdf222039233",
   "metadata": {
    "execution": {
     "iopub.execute_input": "2023-05-16T08:24:25.973651Z",
     "iopub.status.busy": "2023-05-16T08:24:25.973078Z",
     "iopub.status.idle": "2023-05-16T08:24:26.014344Z",
     "shell.execute_reply": "2023-05-16T08:24:26.013547Z",
     "shell.execute_reply.started": "2023-05-16T08:24:25.973600Z"
    }
   },
   "outputs": [],
   "source": [
    "class AASIST_lit(DeepfakeAudioClassification):\n",
    "    def __init__(self, **kwargs):\n",
    "        super().__init__()\n",
    "        self.model = get_model(\"AASIST\")\n",
    "        self.loss_fn = nn.BCEWithLogitsLoss(pos_weight=None)\n",
    "        self.save_hyperparameters()\n",
    "\n",
    "    def calcuate_loss(self, batch_res, batch):\n",
    "        label = batch[\"label\"]\n",
    "        loss = self.loss_fn(batch_res[\"logit\"], label.type(torch.float32))\n",
    "        return loss\n",
    "\n",
    "    def configure_optimizers(self):\n",
    "        optimizer = torch.optim.Adam(\n",
    "            self.model.parameters(),\n",
    "            lr=0.0001,\n",
    "            betas=[0.9, 0.999],\n",
    "            weight_decay=0.0001,\n",
    "            amsgrad=False,\n",
    "        )\n",
    "\n",
    "        scheduler = torch.optim.lr_scheduler.LambdaLR(\n",
    "            optimizer,\n",
    "            lr_lambda=lambda step: cosine_annealing(\n",
    "                step,\n",
    "                200000, #total_steps\n",
    "                1,  # since lr_lambda computes multiplicative factor\n",
    "                0.000005 / 0.0001,\n",
    "            ),\n",
    "        )\n",
    "\n",
    "        return [optimizer], [scheduler]\n",
    "\n",
    "    def _shared_pred(self, batch, batch_idx):\n",
    "        audio, sample_rate = batch[\"audio\"], batch[\"sample_rate\"]\n",
    "        if len(audio.shape) == 3:\n",
    "            audio = audio[:, 0, :]\n",
    "\n",
    "        feat, logit = self.model(audio)\n",
    "        logit = logit.squeeze()\n",
    "        batch_pred = (torch.sigmoid(logit) + 0.5).int()\n",
    "        return {\"logit\": logit, \"pred\": batch_pred, \"feature\":feat}"
   ]
  }
 ],
 "metadata": {
  "jupytext": {
   "formats": "ipynb,py:light"
  },
  "kernelspec": {
   "display_name": "Python 3 (ipykernel)",
   "language": "python",
   "name": "python3"
  },
  "language_info": {
   "codemirror_mode": {
    "name": "ipython",
    "version": 3
   },
   "file_extension": ".py",
   "mimetype": "text/x-python",
   "name": "python",
   "nbconvert_exporter": "python",
   "pygments_lexer": "ipython3",
   "version": "3.9.18"
  }
 },
 "nbformat": 4,
 "nbformat_minor": 5
}
