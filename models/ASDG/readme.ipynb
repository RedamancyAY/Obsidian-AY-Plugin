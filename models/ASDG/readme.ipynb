{
 "cells": [
  {
   "cell_type": "code",
   "execution_count": 1,
   "id": "51c2783e-eb73-4611-bb29-7fbb11d813f5",
   "metadata": {
    "execution": {
     "iopub.execute_input": "2024-05-29T12:07:24.430276Z",
     "iopub.status.busy": "2024-05-29T12:07:24.429264Z",
     "iopub.status.idle": "2024-05-29T12:07:24.435388Z",
     "shell.execute_reply": "2024-05-29T12:07:24.433911Z",
     "shell.execute_reply.started": "2024-05-29T12:07:24.430243Z"
    }
   },
   "outputs": [],
   "source": [
    "from grl import revgrad"
   ]
  },
  {
   "cell_type": "code",
   "execution_count": 8,
   "id": "20f6dc4a-d734-4a4e-bbb7-267be4fb14a6",
   "metadata": {
    "execution": {
     "iopub.execute_input": "2024-05-29T12:10:00.682398Z",
     "iopub.status.busy": "2024-05-29T12:10:00.681743Z",
     "iopub.status.idle": "2024-05-29T12:10:00.702990Z",
     "shell.execute_reply": "2024-05-29T12:10:00.700513Z",
     "shell.execute_reply.started": "2024-05-29T12:10:00.682340Z"
    }
   },
   "outputs": [
    {
     "name": "stdout",
     "output_type": "stream",
     "text": [
      "x gradient: tensor([5.])\n",
      "reversed x gradient: tensor([-5.])\n"
     ]
    }
   ],
   "source": [
    "import torch\n",
    "\n",
    "# alpha = torch.tensor([1.])\n",
    "alpha = torch.tensor(1)\n",
    "\n",
    "x = torch.tensor([4.], requires_grad=True)\n",
    "x_rev = torch.tensor([4.], requires_grad=True)\n",
    "\n",
    "y = x*5\n",
    "y = y+6\n",
    "\n",
    "y_rev = x_rev*5\n",
    "y_rev = revgrad(y_rev, alpha)\n",
    "y_rev = y_rev+6\n",
    "\n",
    "y.backward()\n",
    "y_rev.backward()\n",
    "\n",
    "print(f'x gradient: {x.grad}') # 5\n",
    "print(f'reversed x gradient: {x_rev.grad}') # -5\n",
    "\n",
    "assert x.grad==-x_rev.grad"
   ]
  },
  {
   "cell_type": "code",
   "execution_count": null,
   "id": "5dd466f7-fc4b-44e0-9b29-4f76adc34430",
   "metadata": {},
   "outputs": [],
   "source": []
  }
 ],
 "metadata": {
  "kernelspec": {
   "display_name": "Python 3 (ipykernel)",
   "language": "python",
   "name": "python3"
  },
  "language_info": {
   "codemirror_mode": {
    "name": "ipython",
    "version": 3
   },
   "file_extension": ".py",
   "mimetype": "text/x-python",
   "name": "python",
   "nbconvert_exporter": "python",
   "pygments_lexer": "ipython3",
   "version": "3.9.18"
  }
 },
 "nbformat": 4,
 "nbformat_minor": 5
}
