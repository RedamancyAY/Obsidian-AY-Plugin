{
 "cells": [
  {
   "cell_type": "code",
   "execution_count": 2,
   "id": "d9825a2d-0e5a-47ad-b956-eb7ddb61fafe",
   "metadata": {
    "editable": true,
    "execution": {
     "iopub.execute_input": "2024-09-02T10:45:33.784286Z",
     "iopub.status.busy": "2024-09-02T10:45:33.782788Z",
     "iopub.status.idle": "2024-09-02T10:45:33.860442Z",
     "shell.execute_reply": "2024-09-02T10:45:33.858599Z",
     "shell.execute_reply.started": "2024-09-02T10:45:33.784192Z"
    },
    "slideshow": {
     "slide_type": ""
    },
    "tags": []
   },
   "outputs": [],
   "source": [
    "%load_ext autoreload\n",
    "%autoreload 2"
   ]
  },
  {
   "cell_type": "code",
   "execution_count": 3,
   "id": "54b3f270-0383-49fe-8711-0eafc8fff1d5",
   "metadata": {
    "editable": true,
    "execution": {
     "iopub.execute_input": "2024-09-02T10:45:34.414414Z",
     "iopub.status.busy": "2024-09-02T10:45:34.413859Z",
     "iopub.status.idle": "2024-09-02T10:45:34.485716Z",
     "shell.execute_reply": "2024-09-02T10:45:34.484262Z",
     "shell.execute_reply.started": "2024-09-02T10:45:34.414363Z"
    },
    "slideshow": {
     "slide_type": ""
    },
    "tags": []
   },
   "outputs": [],
   "source": [
    "import math\n",
    "\n",
    "import librosa\n",
    "import numpy as np\n",
    "import torch\n",
    "import torch.nn as nn\n",
    "import torch.nn.functional as F\n",
    "import torchaudio\n",
    "import torchaudio.transforms as transforms\n",
    "import torchyin\n",
    "from einops import rearrange, repeat"
   ]
  },
  {
   "cell_type": "code",
   "execution_count": 1,
   "id": "2e346e07-a80c-47a1-b860-93311462a29f",
   "metadata": {
    "editable": true,
    "execution": {
     "iopub.execute_input": "2024-09-02T10:44:33.555015Z",
     "iopub.status.busy": "2024-09-02T10:44:33.553689Z",
     "iopub.status.idle": "2024-09-02T10:44:36.338486Z",
     "shell.execute_reply": "2024-09-02T10:44:36.337614Z",
     "shell.execute_reply.started": "2024-09-02T10:44:33.554935Z"
    },
    "slideshow": {
     "slide_type": ""
    },
    "tags": []
   },
   "outputs": [],
   "source": [
    "from ay2.torch.deepfake_detection import DeepfakeAudioClassification"
   ]
  },
  {
   "cell_type": "code",
   "execution_count": 4,
   "id": "1464e797-e8ff-4369-86f4-e0736950d81e",
   "metadata": {
    "editable": true,
    "execution": {
     "iopub.execute_input": "2024-09-02T10:46:23.893062Z",
     "iopub.status.busy": "2024-09-02T10:46:23.892462Z",
     "iopub.status.idle": "2024-09-02T10:46:23.962119Z",
     "shell.execute_reply": "2024-09-02T10:46:23.960777Z",
     "shell.execute_reply.started": "2024-09-02T10:46:23.892999Z"
    },
    "slideshow": {
     "slide_type": ""
    },
    "tags": []
   },
   "outputs": [],
   "source": [
    "from .model import SFATNet, F0ReconstructionLoss"
   ]
  },
  {
   "cell_type": "code",
   "execution_count": 6,
   "id": "fa2d1a90-59b7-4cc7-b5dd-8d53324380fd",
   "metadata": {
    "editable": true,
    "execution": {
     "iopub.execute_input": "2024-09-02T10:52:56.544796Z",
     "iopub.status.busy": "2024-09-02T10:52:56.544218Z",
     "iopub.status.idle": "2024-09-02T10:52:58.565443Z",
     "shell.execute_reply": "2024-09-02T10:52:58.564053Z",
     "shell.execute_reply.started": "2024-09-02T10:52:56.544737Z"
    },
    "slideshow": {
     "slide_type": ""
    },
    "tags": []
   },
   "outputs": [],
   "source": [
    "class SFATNet_lit(DeepfakeAudioClassification):\n",
    "    def __init__(self, **kwargs):\n",
    "        super().__init__()\n",
    "        self.model = SFATNet()\n",
    "        self.cls_loss = nn.BCEWithLogitsLoss()\n",
    "        self.mse_loss = nn.MSELoss()\n",
    "        self.f0_loss = F0ReconstructionLoss()\n",
    "        self.save_hyperparameters()\n",
    "\n",
    "    def calcuate_loss(self, batch_res, batch):\n",
    "        label = batch[\"label\"]\n",
    "        cls_loss = self.cls_loss(batch_res[\"logit\"], label.type(torch.float32))\n",
    "        spec_rec_loss = self.mse_loss(batch_res['spec'], batch_res['pred_spec'])\n",
    "        f0_rec_loss = self.f0_loss(batch[\"audio\"], batch_res['pred_f0'])\n",
    "        loss = cls_loss + spec_rec_loss + f0_rec_loss\n",
    "        \n",
    "        return {\n",
    "            'loss' : loss,\n",
    "            'cls_loss' : cls_loss,\n",
    "            'f0_rec_loss' : f0_rec_loss,\n",
    "            'spec_rec_loss': spec_rec_loss,\n",
    "            'aux_loss' : f0_rec_loss + spec_rec_loss\n",
    "        }\n",
    "\n",
    "    def configure_optimizers(self):\n",
    "        optimizer = torch.optim.Adam(self.model.parameters(), lr=0.0001, weight_decay=0.0001)\n",
    "        scheduler = torch.optim.lr_scheduler.CosineAnnealingLR(optimizer, T_max=2)\n",
    "        return [optimizer], [scheduler]\n",
    "\n",
    "    def _shared_pred(self, batch, batch_idx):\n",
    "        audio, sample_rate = batch[\"audio\"], batch[\"sample_rate\"]\n",
    "\n",
    "        batch_res = self.model(audio)\n",
    "        batch_res['pred'] = (torch.sigmoid(batch_res['logit']) + 0.5).int()\n",
    "        return batch_res\n"
   ]
  }
 ],
 "metadata": {
  "jupytext": {
   "formats": "ipynb,py:light"
  },
  "kernelspec": {
   "display_name": "Python 3 (ipykernel)",
   "language": "python",
   "name": "python3"
  },
  "language_info": {
   "codemirror_mode": {
    "name": "ipython",
    "version": 3
   },
   "file_extension": ".py",
   "mimetype": "text/x-python",
   "name": "python",
   "nbconvert_exporter": "python",
   "pygments_lexer": "ipython3",
   "version": "3.9.18"
  }
 },
 "nbformat": 4,
 "nbformat_minor": 5
}
