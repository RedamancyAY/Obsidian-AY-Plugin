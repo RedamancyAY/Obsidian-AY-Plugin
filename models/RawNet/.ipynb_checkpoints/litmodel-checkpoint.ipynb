{
 "cells": [
  {
   "cell_type": "code",
   "execution_count": 1,
   "id": "2925d107-7213-4241-8cc0-173d0fd47cb4",
   "metadata": {
    "execution": {
     "iopub.execute_input": "2023-05-16T07:46:39.131008Z",
     "iopub.status.busy": "2023-05-16T07:46:39.129859Z",
     "iopub.status.idle": "2023-05-16T07:46:39.168710Z",
     "shell.execute_reply": "2023-05-16T07:46:39.167500Z",
     "shell.execute_reply.started": "2023-05-16T07:46:39.130954Z"
    },
    "tags": []
   },
   "outputs": [],
   "source": [
    "%load_ext autoreload\n",
    "%autoreload 2"
   ]
  },
  {
   "cell_type": "code",
   "execution_count": 1,
   "id": "1f037c75-00d7-45aa-8f45-1924f8532a70",
   "metadata": {
    "execution": {
     "iopub.execute_input": "2023-07-14T02:10:28.146018Z",
     "iopub.status.busy": "2023-07-14T02:10:28.145422Z",
     "iopub.status.idle": "2023-07-14T02:10:28.153146Z",
     "shell.execute_reply": "2023-07-14T02:10:28.151968Z",
     "shell.execute_reply.started": "2023-07-14T02:10:28.145969Z"
    },
    "tags": []
   },
   "outputs": [],
   "source": [
    "import pytorch_lightning as pl\n",
    "import torch\n",
    "import torch.nn as nn\n",
    "from ay2.torch.deepfake_detection import DeepfakeAudioClassification\n",
    "from copy import deepcopy"
   ]
  },
  {
   "cell_type": "code",
   "execution_count": null,
   "id": "ca7d70be-3f77-4fed-a2db-41fccf558545",
   "metadata": {
    "execution": {
     "iopub.execute_input": "2023-05-16T08:24:15.848880Z",
     "iopub.status.busy": "2023-05-16T08:24:15.848368Z",
     "iopub.status.idle": "2023-05-16T08:24:15.886140Z",
     "shell.execute_reply": "2023-05-16T08:24:15.885375Z",
     "shell.execute_reply.started": "2023-05-16T08:24:15.848835Z"
    },
    "tags": []
   },
   "outputs": [],
   "source": [
    "from .v2 import RawNet2"
   ]
  },
  {
   "cell_type": "markdown",
   "id": "b0ad40a4-6672-4b25-a4b1-9edeec5eee6f",
   "metadata": {},
   "source": [
    "The default config of RawNet2 is\n",
    "```python\n",
    "RAW_NET2_CONFIG  = {\n",
    "    'first_conv': 251,\n",
    "    'in_channels': 1,\n",
    "    'filts': [128, [128,128], [128,256], [256,256]],\n",
    "    'blocks': [2, 4],\n",
    "    'nb_fc_att_node': [1],\n",
    "    'nb_fc_node': 1024,\n",
    "    'gru_node': 1024,\n",
    "    'nb_gru_layer': 1,\n",
    "    'nb_samp': 59049,\n",
    "    # 'nb_classes': 1\n",
    "}\n",
    "```\n",
    "The nb_classes denote the final prediction shape. In the code of WaveFake, the config of RawNet2 is:\n",
    "```python\n",
    "RAW_NET2_CONFIG = {\n",
    "    \"nb_samp\": 64600,\n",
    "    \"first_conv\": 1024,   # no. of filter coefficients\n",
    "    \"in_channels\": 1,  # no. of filters channel in residual blocks\n",
    "    \"filts\": [20, [20, 20], [20, 128], [128, 128]],\n",
    "    \"blocks\": [2, 4],\n",
    "    \"nb_fc_node\": 1024,\n",
    "    \"gru_node\": 1024,\n",
    "    \"nb_gru_layer\": 3,\n",
    "    \"nb_classes\": 1,\n",
    "}\n",
    "```"
   ]
  },
  {
   "cell_type": "code",
   "execution_count": null,
   "id": "d77f0ab0-7002-4b14-b298-94c3eabeba79",
   "metadata": {
    "execution": {
     "iopub.execute_input": "2023-05-16T07:46:47.568751Z",
     "iopub.status.busy": "2023-05-16T07:46:47.568169Z",
     "iopub.status.idle": "2023-05-16T07:46:47.699262Z",
     "shell.execute_reply": "2023-05-16T07:46:47.697992Z",
     "shell.execute_reply.started": "2023-05-16T07:46:47.568700Z"
    },
    "tags": []
   },
   "outputs": [],
   "source": [
    "RAW_NET2_CONFIG = {\n",
    "    \"nb_samp\": 48000,\n",
    "    \"first_conv\": 1024,  # no. of filter coefficients\n",
    "    \"in_channels\": 1,  # no. of filters channel in residual blocks\n",
    "    \"filts\": [20, [20, 20], [20, 128], [128, 128]],\n",
    "    \"blocks\": [2, 4],\n",
    "    \"nb_fc_node\": 1024,\n",
    "    \"gru_node\": 1024,\n",
    "    \"nb_gru_layer\": 3,\n",
    "    \"nb_classes\": 1,\n",
    "}"
   ]
  },
  {
   "cell_type": "code",
   "execution_count": 12,
   "id": "30b83fc9-9833-427f-8aa4-bdf222039233",
   "metadata": {
    "execution": {
     "iopub.execute_input": "2023-05-16T08:24:25.973651Z",
     "iopub.status.busy": "2023-05-16T08:24:25.973078Z",
     "iopub.status.idle": "2023-05-16T08:24:26.014344Z",
     "shell.execute_reply": "2023-05-16T08:24:26.013547Z",
     "shell.execute_reply.started": "2023-05-16T08:24:25.973600Z"
    },
    "tags": []
   },
   "outputs": [],
   "source": [
    "class RawNet2_lit(DeepfakeAudioClassification):\n",
    "    def __init__(self, **kwargs):\n",
    "        super().__init__()\n",
    "        model_config = deepcopy(RAW_NET2_CONFIG)\n",
    "        self.model = RawNet2(model_config)\n",
    "        self.loss_fn = nn.BCEWithLogitsLoss(pos_weight=None)\n",
    "        self.save_hyperparameters()\n",
    "    \n",
    "    def calcuate_loss(self, batch_res, batch):\n",
    "        label = batch[\"label\"]\n",
    "        loss = self.loss_fn(batch_res[\"logit\"], label.type(torch.float32))\n",
    "        return loss\n",
    "\n",
    "    def forward(self, audio):\n",
    "        if len(audio.shape) == 3:\n",
    "            audio = audio[:, 0, :]\n",
    "        out = self.model(audio)\n",
    "        out = out.squeeze(-1)\n",
    "        return out\n",
    "    \n",
    "    def _shared_pred(self, batch, batch_idx):\n",
    "        audio, sample_rate = batch[\"audio\"], batch[\"sample_rate\"]\n",
    "        if len(audio.shape) == 3:\n",
    "            audio = audio[:, 0, :]\n",
    "\n",
    "        # out = self.model(audio)\n",
    "        feature = self.model.extract_feature(audio)\n",
    "        out = self.model.make_prediction(feature)\n",
    "        out = out.squeeze(-1)\n",
    "        batch_pred = (torch.sigmoid(out) + 0.5).int()\n",
    "        return {\n",
    "            \"logit\": out,\n",
    "            \"pred\": batch_pred,\n",
    "            \"feature\" : feature\n",
    "        }\n",
    "    \n",
    "    def configure_optimizers(self):\n",
    "        optimizer = torch.optim.Adam(\n",
    "            self.model.parameters(), lr=0.0001, weight_decay=0.0001\n",
    "        )\n",
    "        return [optimizer]"
   ]
  }
 ],
 "metadata": {
  "jupytext": {
   "formats": "ipynb,py:light"
  },
  "kernelspec": {
   "display_name": "Python 3 (ipykernel)",
   "language": "python",
   "name": "python3"
  },
  "language_info": {
   "codemirror_mode": {
    "name": "ipython",
    "version": 3
   },
   "file_extension": ".py",
   "mimetype": "text/x-python",
   "name": "python",
   "nbconvert_exporter": "python",
   "pygments_lexer": "ipython3",
   "version": "3.9.18"
  }
 },
 "nbformat": 4,
 "nbformat_minor": 5
}
