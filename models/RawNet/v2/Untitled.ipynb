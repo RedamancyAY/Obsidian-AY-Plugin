{
 "cells": [
  {
   "cell_type": "code",
   "execution_count": 29,
   "id": "2f553c9f-f2d1-429f-a332-f02c47d0830b",
   "metadata": {
    "execution": {
     "iopub.execute_input": "2023-08-02T01:05:09.174454Z",
     "iopub.status.busy": "2023-08-02T01:05:09.173979Z",
     "iopub.status.idle": "2023-08-02T01:05:09.180807Z",
     "shell.execute_reply": "2023-08-02T01:05:09.179469Z",
     "shell.execute_reply.started": "2023-08-02T01:05:09.174410Z"
    }
   },
   "outputs": [],
   "source": [
    "import torch\n",
    "import torch.nn as nn\n",
    "import torch.nn.functional as F\n",
    "from functools import partial"
   ]
  },
  {
   "cell_type": "code",
   "execution_count": 9,
   "id": "9b3141cb-175a-4771-a3ed-6914c1bfd2de",
   "metadata": {
    "execution": {
     "iopub.execute_input": "2023-08-02T00:58:50.396276Z",
     "iopub.status.busy": "2023-08-02T00:58:50.395276Z",
     "iopub.status.idle": "2023-08-02T00:58:50.400315Z",
     "shell.execute_reply": "2023-08-02T00:58:50.399462Z",
     "shell.execute_reply.started": "2023-08-02T00:58:50.396226Z"
    }
   },
   "outputs": [],
   "source": [
    "from model_RawNet2 import SincConv_fast, LayerNorm"
   ]
  },
  {
   "cell_type": "code",
   "execution_count": 26,
   "id": "53cd34a5-766d-4a04-ab48-c1508bfc6ea6",
   "metadata": {
    "execution": {
     "iopub.execute_input": "2023-08-02T01:03:13.947168Z",
     "iopub.status.busy": "2023-08-02T01:03:13.946605Z",
     "iopub.status.idle": "2023-08-02T01:03:14.044182Z",
     "shell.execute_reply": "2023-08-02T01:03:14.043392Z",
     "shell.execute_reply.started": "2023-08-02T01:03:13.947121Z"
    }
   },
   "outputs": [
    {
     "data": {
      "text/plain": [
       "torch.Size([2, 32, 16000])"
      ]
     },
     "execution_count": 26,
     "metadata": {},
     "output_type": "execute_result"
    }
   ],
   "source": [
    "module = SincConv_fast(out_channels=32, kernel_size=1024, padding=512)\n",
    "\n",
    "x = torch.randn(2, 1, 48000)\n",
    "x = F.max_pool1d(torch.abs(module(x)), 3)\n",
    "x.shape"
   ]
  },
  {
   "cell_type": "code",
   "execution_count": null,
   "id": "6f63d03b-f832-4409-beed-62754b01dce9",
   "metadata": {
    "execution": {
     "iopub.execute_input": "2023-08-02T01:08:25.337884Z",
     "iopub.status.busy": "2023-08-02T01:08:25.337377Z",
     "iopub.status.idle": "2023-08-02T01:08:25.347077Z",
     "shell.execute_reply": "2023-08-02T01:08:25.345972Z",
     "shell.execute_reply.started": "2023-08-02T01:08:25.337837Z"
    }
   },
   "outputs": [],
   "source": [
    "# Convert the function into an nn.Module using a lambda function\n",
    "class MyFunction(nn.Module):\n",
    "    def __init__(self, torch_func):\n",
    "        super(MyFunction, self).__init__()\n",
    "        self.func = torch_func\n",
    "        \n",
    "    def forward(self, x):\n",
    "        return self.func(x)\n",
    "\n",
    "modules = nn.Sequential(\n",
    "    SincConv_fast(out_channels=32, kernel_size=1024, padding=512),\n",
    "    MyFunction(lambda x: torch.abs(x)),\n",
    "    nn.MaxPool1d(3),\n",
    "    nn.BatchNorm1d(32),\n",
    "    nn.LeakyReLU(negative_slope = 0.3)\n",
    ")"
   ]
  },
  {
   "cell_type": "code",
   "execution_count": 37,
   "id": "0e4c46a1-16e1-4b84-bd46-d43cc73ef76d",
   "metadata": {
    "execution": {
     "iopub.execute_input": "2023-08-02T01:08:54.831006Z",
     "iopub.status.busy": "2023-08-02T01:08:54.830423Z",
     "iopub.status.idle": "2023-08-02T01:08:54.923037Z",
     "shell.execute_reply": "2023-08-02T01:08:54.922440Z",
     "shell.execute_reply.started": "2023-08-02T01:08:54.830957Z"
    }
   },
   "outputs": [
    {
     "data": {
      "text/plain": [
       "torch.Size([2, 32, 16000])"
      ]
     },
     "execution_count": 37,
     "metadata": {},
     "output_type": "execute_result"
    }
   ],
   "source": [
    "x = torch.randn(2, 1, 48000)\n",
    "modules(x).shape"
   ]
  },
  {
   "cell_type": "code",
   "execution_count": 15,
   "id": "07981580-21d0-4912-b1cc-23a55a8e078a",
   "metadata": {
    "execution": {
     "iopub.execute_input": "2023-08-02T01:00:19.353963Z",
     "iopub.status.busy": "2023-08-02T01:00:19.353464Z",
     "iopub.status.idle": "2023-08-02T01:00:19.363921Z",
     "shell.execute_reply": "2023-08-02T01:00:19.362556Z",
     "shell.execute_reply.started": "2023-08-02T01:00:19.353915Z"
    }
   },
   "outputs": [],
   "source": [
    "module = LayerNorm(64000)\n",
    "x = torch.randn(2, 1, 64000)"
   ]
  },
  {
   "cell_type": "code",
   "execution_count": 16,
   "id": "7d80eea6-a314-4276-978f-676268abbe9d",
   "metadata": {
    "execution": {
     "iopub.execute_input": "2023-08-02T01:00:20.020803Z",
     "iopub.status.busy": "2023-08-02T01:00:20.020329Z",
     "iopub.status.idle": "2023-08-02T01:00:20.031049Z",
     "shell.execute_reply": "2023-08-02T01:00:20.029880Z",
     "shell.execute_reply.started": "2023-08-02T01:00:20.020760Z"
    }
   },
   "outputs": [
    {
     "data": {
      "text/plain": [
       "torch.Size([2, 1, 64000])"
      ]
     },
     "execution_count": 16,
     "metadata": {},
     "output_type": "execute_result"
    }
   ],
   "source": [
    "module(x).shape"
   ]
  },
  {
   "cell_type": "code",
   "execution_count": 38,
   "id": "38c63a40-15fa-40f4-af65-b78d9162d731",
   "metadata": {
    "execution": {
     "iopub.execute_input": "2023-08-02T02:37:17.807348Z",
     "iopub.status.busy": "2023-08-02T02:37:17.806567Z",
     "iopub.status.idle": "2023-08-02T02:37:17.864850Z",
     "shell.execute_reply": "2023-08-02T02:37:17.864249Z",
     "shell.execute_reply.started": "2023-08-02T02:37:17.807307Z"
    }
   },
   "outputs": [],
   "source": [
    "gru = nn.GRU(input_size = 128,\n",
    "            hidden_size = 1024,\n",
    "            num_layers = 2,\n",
    "            batch_first = True)"
   ]
  },
  {
   "cell_type": "code",
   "execution_count": 41,
   "id": "79d03a8f-4770-44d8-ab9b-7ddebf4d14a7",
   "metadata": {
    "execution": {
     "iopub.execute_input": "2023-08-02T02:38:17.004032Z",
     "iopub.status.busy": "2023-08-02T02:38:17.003662Z",
     "iopub.status.idle": "2023-08-02T02:38:17.145880Z",
     "shell.execute_reply": "2023-08-02T02:38:17.145366Z",
     "shell.execute_reply.started": "2023-08-02T02:38:17.004006Z"
    }
   },
   "outputs": [],
   "source": [
    "x = torch.randn(2, 128, 256)\n",
    "x = x.permute(0, 2, 1)  #(batch, filt, time) >> (batch, time, filt)\n",
    "gru.flatten_parameters()\n",
    "x, _ = gru(x)\n",
    "x = x[:,-1,:]"
   ]
  },
  {
   "cell_type": "code",
   "execution_count": 42,
   "id": "d09a74a4-9a25-4dae-b1d7-f2c5aa0da8a4",
   "metadata": {
    "execution": {
     "iopub.execute_input": "2023-08-02T02:38:18.020929Z",
     "iopub.status.busy": "2023-08-02T02:38:18.020699Z",
     "iopub.status.idle": "2023-08-02T02:38:18.026265Z",
     "shell.execute_reply": "2023-08-02T02:38:18.024933Z",
     "shell.execute_reply.started": "2023-08-02T02:38:18.020912Z"
    }
   },
   "outputs": [
    {
     "data": {
      "text/plain": [
       "torch.Size([2, 1024])"
      ]
     },
     "execution_count": 42,
     "metadata": {},
     "output_type": "execute_result"
    }
   ],
   "source": [
    "x.shape"
   ]
  }
 ],
 "metadata": {
  "kernelspec": {
   "display_name": "Python 3 (ipykernel)",
   "language": "python",
   "name": "python3"
  },
  "language_info": {
   "codemirror_mode": {
    "name": "ipython",
    "version": 3
   },
   "file_extension": ".py",
   "mimetype": "text/x-python",
   "name": "python",
   "nbconvert_exporter": "python",
   "pygments_lexer": "ipython3",
   "version": "3.9.16"
  }
 },
 "nbformat": 4,
 "nbformat_minor": 5
}
