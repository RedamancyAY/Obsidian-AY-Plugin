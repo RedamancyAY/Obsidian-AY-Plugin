{
 "cells": [
  {
   "cell_type": "code",
   "execution_count": 5,
   "metadata": {
    "execution": {
     "iopub.execute_input": "2024-04-01T08:59:08.968061Z",
     "iopub.status.busy": "2024-04-01T08:59:08.967297Z",
     "iopub.status.idle": "2024-04-01T08:59:09.141338Z",
     "shell.execute_reply": "2024-04-01T08:59:09.139795Z",
     "shell.execute_reply.started": "2024-04-01T08:59:08.967998Z"
    }
   },
   "outputs": [],
   "source": [
    "import torch\n",
    "import torch.nn as nn\n",
    "import torchaudio\n",
    "from einops import rearrange"
   ]
  },
  {
   "cell_type": "code",
   "execution_count": 6,
   "metadata": {
    "tags": [
     "active-ipynb"
    ]
   },
   "outputs": [
    {
     "name": "stdout",
     "output_type": "stream",
     "text": [
      "torch.Size([2, 12000, 64])\n"
     ]
    }
   ],
   "source": [
    "m = torch.nn.MultiheadAttention(embed_dim=64, num_heads=4)\n",
    "x = torch.randn(2, 64, 12000)\n",
    "x = rearrange(x, \"b c l -> b l c\")\n",
    "attn_output, attn_output_weights = m(x, x, x)\n",
    "print(attn_output.shape)"
   ]
  },
  {
   "cell_type": "code",
   "execution_count": 16,
   "metadata": {
    "execution": {
     "iopub.execute_input": "2024-04-01T09:00:21.827391Z",
     "iopub.status.busy": "2024-04-01T09:00:21.826911Z",
     "iopub.status.idle": "2024-04-01T09:00:21.840769Z",
     "shell.execute_reply": "2024-04-01T09:00:21.838908Z",
     "shell.execute_reply.started": "2024-04-01T09:00:21.827347Z"
    }
   },
   "outputs": [
    {
     "data": {
      "text/plain": [
       "torch.Size([2, 1, 257, 257])"
      ]
     },
     "execution_count": 16,
     "metadata": {},
     "output_type": "execute_result"
    }
   ],
   "source": [
    "x = torch.randn(2, 1, 48000)\n",
    "t = torchaudio.transforms.Spectrogram(n_fft=512, hop_length=187)\n",
    "t(x).shape"
   ]
  },
  {
   "cell_type": "code",
   "execution_count": 17,
   "metadata": {
    "execution": {
     "iopub.execute_input": "2024-04-01T09:00:24.289950Z",
     "iopub.status.busy": "2024-04-01T09:00:24.289272Z",
     "iopub.status.idle": "2024-04-01T09:00:24.304637Z",
     "shell.execute_reply": "2024-04-01T09:00:24.302714Z",
     "shell.execute_reply.started": "2024-04-01T09:00:24.289888Z"
    }
   },
   "outputs": [
    {
     "data": {
      "text/plain": [
       "torch.Size([2, 1, 65, 66])"
      ]
     },
     "execution_count": 17,
     "metadata": {},
     "output_type": "execute_result"
    }
   ],
   "source": [
    "t = torchaudio.transforms.Spectrogram(n_fft=512 // 4, hop_length=187 // 4)\n",
    "x = torch.randn(2, 1, 48000 // 16)\n",
    "t(x).shape"
   ]
  },
  {
   "cell_type": "code",
   "execution_count": 24,
   "metadata": {
    "execution": {
     "iopub.execute_input": "2024-04-01T09:01:07.004911Z",
     "iopub.status.busy": "2024-04-01T09:01:07.003010Z",
     "iopub.status.idle": "2024-04-01T09:01:07.018144Z",
     "shell.execute_reply": "2024-04-01T09:01:07.016534Z",
     "shell.execute_reply.started": "2024-04-01T09:01:07.004837Z"
    }
   },
   "outputs": [
    {
     "data": {
      "text/plain": [
       "torch.Size([2, 1, 33, 33])"
      ]
     },
     "execution_count": 24,
     "metadata": {},
     "output_type": "execute_result"
    }
   ],
   "source": [
    "t = torchaudio.transforms.Spectrogram(n_fft=512 // 8, hop_length=187 // 8)\n",
    "x = torch.randn(2, 1, 48000 // 64)\n",
    "t(x).shape"
   ]
  },
  {
   "cell_type": "code",
   "execution_count": 30,
   "metadata": {
    "execution": {
     "iopub.execute_input": "2024-04-01T09:01:47.157217Z",
     "iopub.status.busy": "2024-04-01T09:01:47.156553Z",
     "iopub.status.idle": "2024-04-01T09:01:47.173236Z",
     "shell.execute_reply": "2024-04-01T09:01:47.171602Z",
     "shell.execute_reply.started": "2024-04-01T09:01:47.157155Z"
    }
   },
   "outputs": [
    {
     "data": {
      "text/plain": [
       "torch.Size([2, 1, 17, 18])"
      ]
     },
     "execution_count": 30,
     "metadata": {},
     "output_type": "execute_result"
    }
   ],
   "source": [
    "t = torchaudio.transforms.Spectrogram(n_fft=512 // 16, hop_length=187 // 16)\n",
    "x = torch.randn(2, 1, 48000 // 256)\n",
    "t(x).shape"
   ]
  }
 ],
 "metadata": {
  "kernelspec": {
   "display_name": "Python 3 (ipykernel)",
   "language": "python",
   "name": "python3"
  },
  "language_info": {
   "codemirror_mode": {
    "name": "ipython",
    "version": 3
   },
   "file_extension": ".py",
   "mimetype": "text/x-python",
   "name": "python",
   "nbconvert_exporter": "python",
   "pygments_lexer": "ipython3",
   "version": "3.9.18"
  }
 },
 "nbformat": 4,
 "nbformat_minor": 4
}
