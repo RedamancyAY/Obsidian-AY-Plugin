{
 "cells": [
  {
   "cell_type": "code",
   "execution_count": 3,
   "id": "7c96c742-fc69-4cf3-8421-88263235303e",
   "metadata": {
    "execution": {
     "iopub.execute_input": "2024-08-03T05:02:01.960607Z",
     "iopub.status.busy": "2024-08-03T05:02:01.955052Z",
     "iopub.status.idle": "2024-08-03T05:02:03.252692Z",
     "shell.execute_reply": "2024-08-03T05:02:03.252058Z",
     "shell.execute_reply.started": "2024-08-03T05:02:01.960498Z"
    }
   },
   "outputs": [],
   "source": [
    "import torch"
   ]
  },
  {
   "cell_type": "markdown",
   "id": "4a598134-7f71-4952-9933-8fd3c43315e0",
   "metadata": {},
   "source": [
    "# Scripts for other models"
   ]
  },
  {
   "cell_type": "code",
   "execution_count": 2,
   "id": "e1cbf7c9-7a47-4c19-b4eb-455bf7428e04",
   "metadata": {
    "editable": true,
    "execution": {
     "iopub.execute_input": "2024-08-07T09:22:20.973772Z",
     "iopub.status.busy": "2024-08-07T09:22:20.972469Z",
     "iopub.status.idle": "2024-08-07T09:22:20.988282Z",
     "shell.execute_reply": "2024-08-07T09:22:20.986970Z",
     "shell.execute_reply.started": "2024-08-07T09:22:20.973708Z"
    },
    "scrolled": true,
    "slideshow": {
     "slide_type": ""
    },
    "tags": []
   },
   "outputs": [
    {
     "name": "stdout",
     "output_type": "stream",
     "text": [
      "python train.py --gpu 2 --cfg 'OursMultiView2/ASV2021_inner'  -t 1 -v 0 --test_noise 1 --test_noise_level 20 --test_noise_type 'bg';\\\n",
      "python train.py --gpu 2 --cfg 'OursMultiView2/MLAAD_cross_lang'  -t 1 -v 0 --test_noise 1 --test_noise_level 20 --test_noise_type 'bg';\\\n"
     ]
    }
   ],
   "source": [
    "model_first = 1\n",
    "models = [\n",
    "    # \"AASIST\",\n",
    "    # \"LCNN\",\n",
    "    # \"RawNet2\",\n",
    "    # \"Wave2Vec2\",\n",
    "    # \"WaveLM\",\n",
    "    # \"LibriSeVoc\",\n",
    "    # \"Wav2Clip\",\n",
    "    # \"AudioClip\",\n",
    "    # \"RawGAT\",\n",
    "    # \"ASDG\",\n",
    "    # \"ABCNet\",\n",
    "    # \"MPE_LCNN\",\n",
    "    # # \"Ours/ResNet\",\n",
    "    \"OursMultiView2\",\n",
    "    # \"OursLCNN\",\n",
    "]\n",
    "tasks = [\n",
    "    # \"ASV2019_LA\",\n",
    "    # \"ASV2021_LA\",\n",
    "    'ASV2021_inner',\n",
    "    # \"DECRO_chinese\",\n",
    "    # \"DECRO_english\",\n",
    "    # \"LibriSeVoc_inner\",\n",
    "    # \"LibriSeVoc_cross_method\",\n",
    "    # \"LibriSeVoc_cross_dataset\",\n",
    "    \"MLAAD_cross_lang\",\n",
    "    # \"wavefake_inner\",\n",
    "    # \"wavefake_cross_lang\",\n",
    "    # \"wavefake_cross_method\",\n",
    "]\n",
    "model_task = [{\"model\": x, \"task\": y} for x in models for y in tasks]\n",
    "if model_first:\n",
    "    model_task = sorted(model_task, key=lambda x: x[\"model\"])\n",
    "else:\n",
    "    model_task = sorted(model_task, key=lambda x: x[\"task\"])\n",
    "\n",
    "\n",
    "test = 1\n",
    "for item in model_task:\n",
    "    model, task = item[\"model\"], item[\"task\"]\n",
    "    if not test:\n",
    "        print(f\"python train.py --gpu 3 --cfg '{model}/{task}';\\\\\")\n",
    "    else:\n",
    "        print(f\"python train.py --gpu 2 --cfg '{model}/{task}'  -t 1 -v 0 --test_noise 1 --test_noise_level 20 --test_noise_type 'bg';\\\\\")\n",
    "        # print(f\"python train.py --gpu 1 --cfg '{model}/{task}'  --test 1 --version 0;\\\\\")"
   ]
  },
  {
   "cell_type": "markdown",
   "id": "f06897cd-c329-40b8-8fe8-86f66b1a009e",
   "metadata": {},
   "source": [
    "# Collect features"
   ]
  },
  {
   "cell_type": "code",
   "execution_count": 94,
   "id": "5baa1b75-fb2c-4439-b997-518c7b9a699c",
   "metadata": {
    "execution": {
     "iopub.execute_input": "2024-03-29T10:09:44.417671Z",
     "iopub.status.busy": "2024-03-29T10:09:44.416930Z",
     "iopub.status.idle": "2024-03-29T10:09:44.425099Z",
     "shell.execute_reply": "2024-03-29T10:09:44.424364Z",
     "shell.execute_reply.started": "2024-03-29T10:09:44.417632Z"
    }
   },
   "outputs": [
    {
     "name": "stdout",
     "output_type": "stream",
     "text": [
      "python train.py --gpu 3 --cfg 'AASIST/LibriSeVoc_cross_dataset' -t 1 -v 0 --collect 1;\\\n",
      "python train.py --gpu 3 --cfg 'AudioClip/LibriSeVoc_cross_dataset' -t 1 -v 0 --collect 1;\\\n",
      "python train.py --gpu 3 --cfg 'LCNN/LibriSeVoc_cross_dataset' -t 1 -v 0 --collect 1;\\\n",
      "python train.py --gpu 3 --cfg 'LibriSeVoc/LibriSeVoc_cross_dataset' -t 1 -v 0 --collect 1;\\\n",
      "python train.py --gpu 3 --cfg 'Ours/ResNet/LibriSeVoc_cross_dataset' -t 1 -v 0 --collect 1;\\\n",
      "python train.py --gpu 3 --cfg 'RawGAT/LibriSeVoc_cross_dataset' -t 1 -v 0 --collect 1;\\\n",
      "python train.py --gpu 3 --cfg 'RawNet2/LibriSeVoc_cross_dataset' -t 1 -v 0 --collect 1;\\\n",
      "python train.py --gpu 3 --cfg 'Wav2Clip/LibriSeVoc_cross_dataset' -t 1 -v 0 --collect 1;\\\n",
      "python train.py --gpu 3 --cfg 'Wave2Vec2/LibriSeVoc_cross_dataset' -t 1 -v 0 --collect 1;\\\n",
      "python train.py --gpu 3 --cfg 'WaveLM/LibriSeVoc_cross_dataset' -t 1 -v 0 --collect 1;\\\n"
     ]
    }
   ],
   "source": [
    "model_first = 1\n",
    "models = [\n",
    "    \"AASIST\",\n",
    "    \"LCNN\",\n",
    "    \"RawNet2\",\n",
    "    \"Wave2Vec2\",\n",
    "    \"WaveLM\",\n",
    "    \"LibriSeVoc\",\n",
    "    \"Wav2Clip\",\n",
    "    \"AudioClip\",\n",
    "    \"RawGAT\",\n",
    "    \"Ours/ResNet\",\n",
    "]\n",
    "tasks = [\n",
    "    # \"LibriSeVoc_cross_method\",\n",
    "    \"LibriSeVoc_cross_dataset\",\n",
    "]\n",
    "model_task = [{\"model\": x, \"task\": y} for x in models for y in tasks]\n",
    "if model_first:\n",
    "    model_task = sorted(model_task, key=lambda x: x[\"model\"])\n",
    "else:\n",
    "    model_task = sorted(model_task, key=lambda x: x[\"task\"])\n",
    "\n",
    "\n",
    "for item in model_task:\n",
    "    model, task = item[\"model\"], item[\"task\"]\n",
    "    print(f\"python train.py --gpu 3 --cfg '{model}/{task}' -t 1 -v 0 --collect 1;\\\\\")"
   ]
  },
  {
   "cell_type": "markdown",
   "id": "918a8ce7-25ac-46d9-842a-01d08851d952",
   "metadata": {},
   "source": [
    "## Ours"
   ]
  },
  {
   "cell_type": "code",
   "execution_count": 17,
   "id": "9acdd13a-08f3-447f-9e91-978654ad2ceb",
   "metadata": {
    "execution": {
     "iopub.execute_input": "2024-04-06T09:45:02.581148Z",
     "iopub.status.busy": "2024-04-06T09:45:02.580115Z",
     "iopub.status.idle": "2024-04-06T09:45:02.590533Z",
     "shell.execute_reply": "2024-04-06T09:45:02.589648Z",
     "shell.execute_reply.started": "2024-04-06T09:45:02.581088Z"
    },
    "scrolled": true
   },
   "outputs": [
    {
     "name": "stdout",
     "output_type": "stream",
     "text": [
      "python train.py --gpu 0 --cfg 'Ours/ResNet/ASV2021_inner';\\\n",
      "python train.py --gpu 0 --cfg 'Ours/ResNet/DECRO_chinese';\\\n",
      "python train.py --gpu 0 --cfg 'Ours/ResNet/DECRO_english';\\\n",
      "python train.py --gpu 0 --cfg 'Ours/ResNet/LibriSeVoc_inner';\\\n",
      "python train.py --gpu 0 --cfg 'Ours/ResNet/LibriSeVoc_cross_method';\\\n",
      "python train.py --gpu 0 --cfg 'Ours/ResNet/LibriSeVoc_cross_dataset';\\\n",
      "python train.py --gpu 0 --cfg 'Ours/ResNet/wavefake_inner';\\\n",
      "python train.py --gpu 0 --cfg 'Ours/ResNet/wavefake_cross_lang';\\\n",
      "python train.py --gpu 0 --cfg 'Ours/ResNet/wavefake_cross_method';\\\n"
     ]
    }
   ],
   "source": [
    "model_first = 1\n",
    "feature_extractor = [\n",
    "    # \"LCNN\",\n",
    "    # \"MSFM\",\n",
    "    # \"RawNet\",\n",
    "    \"ResNet\",\n",
    "]\n",
    "tasks = [\n",
    "    \"ASV2021_inner\",\n",
    "    \"DECRO_chinese\",\n",
    "    \"DECRO_english\",\n",
    "    \"LibriSeVoc_inner\",\n",
    "    \"LibriSeVoc_cross_method\",\n",
    "    \"LibriSeVoc_cross_dataset\",\n",
    "    \"wavefake_inner\",\n",
    "    \"wavefake_cross_lang\",\n",
    "    \"wavefake_cross_method\",\n",
    "]\n",
    "\n",
    "test = 0\n",
    "version = 0\n",
    "for i, f in enumerate(feature_extractor):\n",
    "    for task in tasks:\n",
    "        if not test:\n",
    "            print(f\"python train.py --gpu 0 --cfg 'Ours/{f}/{task}';\\\\\")\n",
    "        else:\n",
    "            print(f\"python train.py --gpu 1 --cfg 'Ours/{f}/{task}' --test 1 --version {version};\\\\\")"
   ]
  },
  {
   "cell_type": "markdown",
   "id": "61a36cbf-1c2f-4f0b-a440-317c7aeda39f",
   "metadata": {},
   "source": [
    "# Ours MultiView"
   ]
  },
  {
   "cell_type": "code",
   "execution_count": null,
   "id": "45147847-8d44-4116-aa73-3431becc2cf0",
   "metadata": {},
   "outputs": [],
   "source": [
    "python train.py --gpu 3 --cfg 'OursMultiView2/LibriSeVoc_inner';\\\n",
    "python train.py --gpu 3 --cfg 'OursMultiView2/wavefake_inner';\\\n",
    "python train.py --gpu 3 --cfg 'OursMultiView2/ASV2021_inner';\\\n",
    "python train.py --gpu 1 --cfg 'OursMultiView2/LibriSeVoc_cross_method';\\\n",
    "python train.py --gpu 2 --cfg 'OursMultiView2/LibriSeVoc_cross_dataset';\\\n",
    "python train.py --gpu 3 --cfg 'OursMultiView2/wavefake_cross_method';\\\n",
    "\n",
    "          \n",
    "python train.py --gpu 0 --cfg 'OursMultiView2/LibriSeVoc_inner'  --test 1 --version 0;\\\n",
    "python train.py --gpu 0 --cfg 'OursMultiView2/LibriSeVoc_cross_method'  --test 1 --version 0;\\\n",
    "python train.py --gpu 0 --cfg 'OursMultiView2/LibriSeVoc_cross_dataset'  --test 1 --version 0;\\\n",
    "python train.py --gpu 0 --cfg 'OursMultiView2/wavefake_inner'  --test 1 --version 0;\\\n",
    "python train.py --gpu 0 --cfg 'OursMultiView2/wavefake_cross_method'  --test 1 --version 0;\\"
   ]
  },
  {
   "cell_type": "code",
   "execution_count": 12,
   "id": "29d617cc-98bd-405f-88a7-2cbf04611142",
   "metadata": {
    "execution": {
     "iopub.execute_input": "2024-04-06T02:24:22.839877Z",
     "iopub.status.busy": "2024-04-06T02:24:22.839245Z",
     "iopub.status.idle": "2024-04-06T02:24:22.852974Z",
     "shell.execute_reply": "2024-04-06T02:24:22.850852Z",
     "shell.execute_reply.started": "2024-04-06T02:24:22.839815Z"
    }
   },
   "outputs": [
    {
     "name": "stdout",
     "output_type": "stream",
     "text": [
      "python train.py --gpu 1 --cfg 'OursMultiView/DECRO_chinese' --ablation 'ablations/transform_type' -t 1 -v 0;\\\n",
      "python train.py --gpu 1 --cfg 'OursMultiView/DECRO_english' --ablation 'ablations/transform_type' -t 1 -v 0;\\\n",
      "python train.py --gpu 1 --cfg 'OursMultiView/LibriSeVoc_cross_method' --ablation 'ablations/transform_type' -t 1 -v 0;\\\n",
      "python train.py --gpu 1 --cfg 'OursMultiView/LibriSeVoc_cross_dataset' --ablation 'ablations/transform_type' -t 1 -v 0;\\\n",
      "python train.py --gpu 1 --cfg 'OursMultiView/wavefake_cross_lang' --ablation 'ablations/transform_type' -t 1 -v 0;\\\n",
      "python train.py --gpu 1 --cfg 'OursMultiView/wavefake_cross_method' --ablation 'ablations/transform_type' -t 1 -v 0;\\\n",
      "# ------------------------------------------------------------------------------------------------------------------------------------------------------ ;\\\n"
     ]
    }
   ],
   "source": [
    "tasks = [\n",
    "    \"DECRO_chinese\",\n",
    "    \"DECRO_english\",\n",
    "    # \"LibriSeVoc_inner\",\n",
    "    \"LibriSeVoc_cross_method\",\n",
    "    \"LibriSeVoc_cross_dataset\",\n",
    "    # \"wavefake_inner\",\n",
    "    \"wavefake_cross_lang\",\n",
    "    \"wavefake_cross_method\",\n",
    "]\n",
    "\n",
    "test = 1\n",
    "for ablation in [\n",
    "    \"transform_type\",\n",
    "]:\n",
    "    for task in tasks:\n",
    "        if not test:\n",
    "            print(f\"python train.py --gpu 3 --cfg 'OursMultiView/{task}' --ablation 'ablations/{ablation}';\\\\\")\n",
    "        else:\n",
    "            print(\n",
    "                f\"python train.py --gpu 1 --cfg 'OursMultiView/{task}' --ablation 'ablations/{ablation}' -t 1 -v 0;\\\\\"\n",
    "            )\n",
    "    print(\"#\", \"---\" * 50, \";\\\\\")"
   ]
  },
  {
   "cell_type": "code",
   "execution_count": null,
   "id": "6c1587d9-edef-455c-b880-7903e1a36f8f",
   "metadata": {
    "scrolled": true
   },
   "outputs": [],
   "source": [
    "str = \"python train.py --gpu {} --cfg 'OursMultiView2/ASV2021_inner' --alpha {} --beta {} -v {} --ablation 'ablations/ab' -t 1\"\n",
    "v = 0\n",
    "gpu = 0\n",
    "for alpha in [0.5, 0.6, 0.7, 0.8, 0.9, 0.95, 1.0]:\n",
    "    for beta in [0.5, 0.6, 0.7, 0.8, 0.9, 0.95, 1.0]:\n",
    "        if v > 0 and v % 8 == 0:\n",
    "            gpu += 1\n",
    "        cmd = str.format(gpu, alpha, beta, v)\n",
    "        v += 1\n",
    "\n",
    "        print(cmd)"
   ]
  },
  {
   "cell_type": "markdown",
   "id": "df0167ce-107c-4f8c-9180-2df2795f3310",
   "metadata": {},
   "source": [
    "### Ablation"
   ]
  },
  {
   "cell_type": "code",
   "execution_count": 3,
   "id": "5964fdf7-b2dc-447d-99d5-9c73cf5e00c6",
   "metadata": {
    "execution": {
     "iopub.execute_input": "2024-04-13T01:06:04.913776Z",
     "iopub.status.busy": "2024-04-13T01:06:04.913453Z",
     "iopub.status.idle": "2024-04-13T01:06:04.918460Z",
     "shell.execute_reply": "2024-04-13T01:06:04.917745Z",
     "shell.execute_reply.started": "2024-04-13T01:06:04.913756Z"
    }
   },
   "outputs": [
    {
     "name": "stdout",
     "output_type": "stream",
     "text": [
      "python train.py --gpu 3 --cfg 'OursMultiView2/ASV2021_inner' --ablation 'ablations/no-cls_loss_1_2';\\\n",
      "python train.py --gpu 3 --cfg 'OursMultiView2/LibriSeVoc_cross_method' --ablation 'ablations/no-cls_loss_1_2';\\\n",
      "python train.py --gpu 3 --cfg 'OursMultiView2/ASV2021_inner' --ablation 'ablations/no-fusion';\\\n",
      "python train.py --gpu 3 --cfg 'OursMultiView2/LibriSeVoc_cross_method' --ablation 'ablations/no-fusion';\\\n",
      "python train.py --gpu 3 --cfg 'OursMultiView2/ASV2021_inner' --ablation 'ablations/no-inner-CL';\\\n",
      "python train.py --gpu 3 --cfg 'OursMultiView2/LibriSeVoc_cross_method' --ablation 'ablations/no-inner-CL';\\\n",
      "python train.py --gpu 3 --cfg 'OursMultiView2/ASV2021_inner' --ablation 'ablations/no-inner-inter-CL';\\\n",
      "python train.py --gpu 3 --cfg 'OursMultiView2/LibriSeVoc_cross_method' --ablation 'ablations/no-inner-inter-CL';\\\n",
      "python train.py --gpu 3 --cfg 'OursMultiView2/ASV2021_inner' --ablation 'ablations/no-inter-CL';\\\n",
      "python train.py --gpu 3 --cfg 'OursMultiView2/LibriSeVoc_cross_method' --ablation 'ablations/no-inter-CL';\\\n",
      "python train.py --gpu 3 --cfg 'OursMultiView2/ASV2021_inner' --ablation 'ablations/only-1D';\\\n",
      "python train.py --gpu 3 --cfg 'OursMultiView2/LibriSeVoc_cross_method' --ablation 'ablations/only-1D';\\\n",
      "python train.py --gpu 3 --cfg 'OursMultiView2/ASV2021_inner' --ablation 'ablations/only-2D';\\\n",
      "python train.py --gpu 3 --cfg 'OursMultiView2/LibriSeVoc_cross_method' --ablation 'ablations/only-2D';\\\n"
     ]
    }
   ],
   "source": [
    "tasks = [\n",
    "    # \"DECRO_chinese\",\n",
    "    # \"DECRO_english\",\n",
    "    # \"LibriSeVoc_inner\",\n",
    "    \"ASV2021_inner\",\n",
    "    \"LibriSeVoc_cross_method\",\n",
    "    # \"LibriSeVoc_cross_dataset\",\n",
    "    # \"wavefake_inner\",\n",
    "    # \"wavefake_cross_lang\",\n",
    "    # \"wavefake_cross_method\",\n",
    "]\n",
    "\n",
    "test = 0\n",
    "for ablation in [\n",
    "    \"no-cls_loss_1_2\",\n",
    "    \"no-fusion\",\n",
    "    \"no-inner-CL\",\n",
    "    \"no-inner-inter-CL\",\n",
    "    \"no-inter-CL\",\n",
    "    \"only-1D\",\n",
    "    \"only-2D\",\n",
    "]:\n",
    "    for task in tasks:\n",
    "        if not test:\n",
    "            print(f\"python train.py --gpu 3 --cfg 'OursMultiView2/{task}' --ablation 'ablations/{ablation}';\\\\\")\n",
    "        else:\n",
    "            print(\n",
    "                f\"python train.py --gpu 1 --cfg 'OursMultiView2/{task}' --ablation 'ablations/{ablation}' -t 1 -v 0;\\\\\"\n",
    "            )\n",
    "    # print(\"#\", \"---\" * 50, \";\\\\\")"
   ]
  },
  {
   "cell_type": "code",
   "execution_count": null,
   "id": "28801c6b-33d8-4229-ba81-2f28edf6de6d",
   "metadata": {},
   "outputs": [],
   "source": [
    "python train.py --gpu 0 --cfg 'OursMultiView2/ASV2021_inner' --ablation 'ablations/no-cls_loss_1_2';\\\n",
    "python train.py --gpu 1 --cfg 'OursMultiView2/ASV2021_inner' --ablation 'ablations/no-fusion';\\\n",
    "python train.py --gpu 2 --cfg 'OursMultiView2/ASV2021_inner' --ablation 'ablations/no-inner-CL';\\\n",
    "python train.py --gpu 3 --cfg 'OursMultiView2/ASV2021_inner' --ablation 'ablations/no-inner-inter-CL';\\\n",
    "python train.py --gpu 3 --cfg 'OursMultiView2/ASV2021_inner' --ablation 'ablations/no-inter-CL';\\\n",
    "python train.py --gpu 2 --cfg 'OursMultiView2/ASV2021_inner' --ablation 'ablations/only-1D';\\\n",
    "python train.py --gpu 3 --cfg 'OursMultiView2/ASV2021_inner' --ablation 'ablations/only-2D';\\"
   ]
  },
  {
   "cell_type": "code",
   "execution_count": null,
   "id": "0978544b-e0db-4481-9cde-e94a28b63134",
   "metadata": {},
   "outputs": [],
   "source": [
    "python train.py --gpu 0 --cfg 'OursMultiView2/LibriSeVoc_cross_method';\\\n",
    "python train.py --gpu 1 --cfg 'OursMultiView2/LibriSeVoc_cross_method';\\\n",
    "python train.py --gpu 2 --cfg 'OursMultiView2/LibriSeVoc_cross_method';\\\n",
    "python train.py --gpu 3 --cfg 'OursMultiView2/LibriSeVoc_cross_method';\\"
   ]
  },
  {
   "cell_type": "markdown",
   "id": "71ad0b99-5c68-4d52-86b1-cbcb351d3549",
   "metadata": {},
   "source": [
    "# Ours CLIP"
   ]
  },
  {
   "cell_type": "markdown",
   "id": "c1dd99e4-e651-4604-a95e-67fe063cd8ae",
   "metadata": {},
   "source": [
    "```bash\n",
    "python train.py --gpu 0 1 2 3 --cfg 'OursCLIP/VGGSound'\n",
    "```"
   ]
  },
  {
   "cell_type": "markdown",
   "id": "e2c059ce-2c23-4624-a979-c044758161ed",
   "metadata": {
    "execution": {
     "iopub.execute_input": "2024-04-26T06:35:35.240397Z",
     "iopub.status.busy": "2024-04-26T06:35:35.238355Z",
     "iopub.status.idle": "2024-04-26T06:35:35.264931Z",
     "shell.execute_reply": "2024-04-26T06:35:35.262776Z",
     "shell.execute_reply.started": "2024-04-26T06:35:35.240317Z"
    }
   },
   "source": [
    "```bash\n",
    "python train.py --gpu 3 --cfg 'OursCLIP/LibriSeVoc_inner';\\\n",
    "python train.py --gpu 3 --cfg 'OursCLIP/wavefake_inner';\\\n",
    "python train.py --gpu 3 --cfg 'OursCLIP/ASV2021_inner';\\\n",
    "python train.py --gpu 1 --cfg 'OursCLIP/LibriSeVoc_cross_method';\\\n",
    "python train.py --gpu 2 --cfg 'OursCLIP/LibriSeVoc_cross_dataset';\\\n",
    "python train.py --gpu 3 --cfg 'OursCLIP/wavefake_cross_method';\\\n",
    "\n",
    "\n",
    "python train.py --gpu 0 --cfg 'OursCLIP/LibriSeVoc_inner'  --test 1 --version 0;\\\n",
    "python train.py --gpu 0 --cfg 'OursCLIP/LibriSeVoc_cross_method'  --test 1 --version 0;\\\n",
    "python train.py --gpu 0 --cfg 'OursCLIP/LibriSeVoc_cross_dataset'  --test 1 --version 0;\\\n",
    "python train.py --gpu 0 --cfg 'OursCLIP/wavefake_inner'  --test 1 --version 0;\\\n",
    "python train.py --gpu 0 --cfg 'OursCLIP/wavefake_cross_method'  --test 1 --version 0;\\\n",
    "```"
   ]
  }
 ],
 "metadata": {
  "kernelspec": {
   "display_name": "Python 3 (ipykernel)",
   "language": "python",
   "name": "python3"
  },
  "language_info": {
   "codemirror_mode": {
    "name": "ipython",
    "version": 3
   },
   "file_extension": ".py",
   "mimetype": "text/x-python",
   "name": "python",
   "nbconvert_exporter": "python",
   "pygments_lexer": "ipython3",
   "version": "3.9.18"
  }
 },
 "nbformat": 4,
 "nbformat_minor": 5
}
