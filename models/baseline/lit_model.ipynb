{
 "cells": [
  {
   "cell_type": "code",
   "execution_count": 1,
   "id": "0900037e-576b-4103-b82a-4d908575caf4",
   "metadata": {
    "execution": {
     "iopub.execute_input": "2023-06-01T01:43:23.909219Z",
     "iopub.status.busy": "2023-06-01T01:43:23.908666Z",
     "iopub.status.idle": "2023-06-01T01:43:23.932739Z",
     "shell.execute_reply": "2023-06-01T01:43:23.931506Z",
     "shell.execute_reply.started": "2023-06-01T01:43:23.909172Z"
    },
    "tags": []
   },
   "outputs": [],
   "source": [
    "%load_ext autoreload\n",
    "%autoreload 2"
   ]
  },
  {
   "cell_type": "code",
   "execution_count": 2,
   "id": "0ecb3593-d111-40b7-93a5-059057a0ac16",
   "metadata": {
    "execution": {
     "iopub.execute_input": "2023-06-01T01:43:24.881664Z",
     "iopub.status.busy": "2023-06-01T01:43:24.881119Z",
     "iopub.status.idle": "2023-06-01T01:43:26.500357Z",
     "shell.execute_reply": "2023-06-01T01:43:26.499614Z",
     "shell.execute_reply.started": "2023-06-01T01:43:24.881616Z"
    },
    "tags": []
   },
   "outputs": [],
   "source": [
    "import pytorch_lightning as pl\n",
    "import torch\n",
    "import torch.nn as nn\n",
    "from torchmetrics.classification import BinaryAccuracy"
   ]
  },
  {
   "cell_type": "code",
   "execution_count": 4,
   "id": "6f26c4c7-407f-491e-90da-df813a94e0e8",
   "metadata": {
    "execution": {
     "iopub.execute_input": "2023-05-30T07:36:33.853893Z",
     "iopub.status.busy": "2023-05-30T07:36:33.853530Z",
     "iopub.status.idle": "2023-05-30T07:36:34.235334Z",
     "shell.execute_reply": "2023-05-30T07:36:34.234556Z",
     "shell.execute_reply.started": "2023-05-30T07:36:33.853867Z"
    },
    "tags": [
     "active-ipynb",
     "style-commentate"
    ]
   },
   "outputs": [],
   "source": [
    "from wavlm import BaseLine"
   ]
  },
  {
   "cell_type": "code",
   "execution_count": 4,
   "id": "dbe24bb6-242a-4aba-ae0a-5675300759a2",
   "metadata": {
    "execution": {
     "iopub.execute_input": "2023-05-30T07:36:33.853893Z",
     "iopub.status.busy": "2023-05-30T07:36:33.853530Z",
     "iopub.status.idle": "2023-05-30T07:36:34.235334Z",
     "shell.execute_reply": "2023-05-30T07:36:34.234556Z",
     "shell.execute_reply.started": "2023-05-30T07:36:33.853867Z"
    },
    "tags": []
   },
   "outputs": [],
   "source": [
    "from .wavlm import BaseLine"
   ]
  },
  {
   "cell_type": "code",
   "execution_count": 3,
   "id": "5ad649b9-bff6-4ca5-8bdb-693216d0cd9c",
   "metadata": {
    "execution": {
     "iopub.execute_input": "2023-06-01T01:43:27.951171Z",
     "iopub.status.busy": "2023-06-01T01:43:27.950487Z",
     "iopub.status.idle": "2023-06-01T01:43:28.247403Z",
     "shell.execute_reply": "2023-06-01T01:43:28.246539Z",
     "shell.execute_reply.started": "2023-06-01T01:43:27.951123Z"
    },
    "tags": []
   },
   "outputs": [],
   "source": [
    "from ay2.torch.metrics.equal_error_rate import EER"
   ]
  },
  {
   "cell_type": "code",
   "execution_count": 12,
   "id": "b46c08c3-59e7-4f71-be56-211438542373",
   "metadata": {
    "execution": {
     "iopub.execute_input": "2023-05-16T08:24:25.973651Z",
     "iopub.status.busy": "2023-05-16T08:24:25.973078Z",
     "iopub.status.idle": "2023-05-16T08:24:26.014344Z",
     "shell.execute_reply": "2023-05-16T08:24:26.013547Z",
     "shell.execute_reply.started": "2023-05-16T08:24:25.973600Z"
    },
    "lines_to_next_cell": 2,
    "tags": []
   },
   "outputs": [],
   "source": [
    "class BaseLine_lit(pl.LightningModule):\n",
    "    def __init__(self, pretrain_feat=\"last_hidden_state\", backend='resnet'):\n",
    "        super().__init__()\n",
    "        self.model = BaseLine(pretrain_feat=pretrain_feat, backend=backend)\n",
    "\n",
    "        self.loss_fn = nn.BCEWithLogitsLoss(pos_weight=None)\n",
    "        self.acc_train, self.acc_val, self.acc_test = [\n",
    "            BinaryAccuracy() for i in range(3)\n",
    "        ]\n",
    "        self.eer_train, self.eer_val, self.eer_test = [EER() for i in range(3)]\n",
    "\n",
    "    def configure_optimizers(self):\n",
    "        optimizer = torch.optim.Adam(\n",
    "            self.model.parameters(), lr=0.0001, weight_decay=0.0001\n",
    "        )\n",
    "        return [optimizer]\n",
    "\n",
    "    def _shared_pred(self, batch, batch_idx):\n",
    "        audio, sample_rate = batch[\"audio\"], batch[\"sample_rate\"]\n",
    "        # audio, sample_rate, label = batch\n",
    "        if len(audio.shape) == 3:\n",
    "            audio = audio[:, 0, :]\n",
    "\n",
    "        batch_out = self.model(audio).squeeze()\n",
    "        batch_pred = (torch.sigmoid(batch_out) + 0.5).int()\n",
    "        return batch_out, batch_pred\n",
    "\n",
    "    def _shared_eval_step(self, batch, batch_idx, metric_acc, metric_eer):\n",
    "        batch_out, batch_pred = self._shared_pred(batch, batch_idx)\n",
    "\n",
    "        label = batch[\"label\"]\n",
    "        loss = self.loss_fn(batch_out, label.type(torch.float32))\n",
    "        metric_acc.update(batch_pred, label)\n",
    "        metric_eer.update(batch_out, label)\n",
    "\n",
    "        self.log_dict(\n",
    "            {\"loss\": loss},\n",
    "            on_step=False,\n",
    "            on_epoch=True,\n",
    "            logger=True,\n",
    "            prog_bar=True,\n",
    "        )\n",
    "        return {\"loss\": loss}\n",
    "\n",
    "    def training_step(self, batch, batch_idx):\n",
    "        return self._shared_eval_step(batch, batch_idx, self.acc_train, self.eer_train)\n",
    "\n",
    "    def validation_step(self, batch, batch_idx):\n",
    "        return self._shared_eval_step(batch, batch_idx, self.acc_val, self.eer_val)\n",
    "\n",
    "    def test_step(self, batch, batch_idx):\n",
    "        return self._shared_eval_step(batch, batch_idx, self.acc_test, self.eer_test)\n",
    "\n",
    "    def on_train_epoch_end(self):\n",
    "        res = {}\n",
    "        res[\"train_acc\"] = self.acc_train.compute()\n",
    "        res[\"train_eer\"] = self.eer_train.compute()\n",
    "        self.log_dict(res, logger=True, prog_bar=True)\n",
    "\n",
    "    def on_validation_epoch_end(self):\n",
    "        res = {}\n",
    "        res[\"val_acc\"] = self.acc_val.compute()\n",
    "        res[\"val_eer\"] = self.eer_val.compute()\n",
    "        self.log_dict(res, logger=True, prog_bar=True)\n",
    "\n",
    "    def on_test_epoch_end(self):\n",
    "        res = {}\n",
    "        res[\"test_acc\"] = self.acc_test.compute()\n",
    "        res[\"test_eer\"] = self.eer_test.compute()\n",
    "        self.log_dict(res, logger=True, prog_bar=True)\n",
    "\n",
    "    # predict scores\n",
    "    #     obtain all batch results and write them into a txt file\n",
    "\n",
    "    def predict_step(self, batch, batch_idx):\n",
    "        batch_out, batch_pred = self._shared_pred(batch, batch_idx)\n",
    "        names = batch[\"name\"]\n",
    "        self.predict_outputs.append((batch_out, names))\n",
    "\n",
    "    def on_predict_start(self):\n",
    "        self.predict_outputs = []\n",
    "\n",
    "    def on_predict_end(self, *arg, **kwargs):\n",
    "        scores, counts = {}, {}\n",
    "        N = 0\n",
    "        for y, filename in self.predict_outputs:\n",
    "            for i in range(y.shape[0]):\n",
    "                if filename[i] in scores.keys():\n",
    "                    scores[filename[i]] += y[i]\n",
    "                    counts[filename[i]] += 1\n",
    "                else:\n",
    "                    scores[filename[i]] = y[i]\n",
    "                    counts[filename[i]] = 1\n",
    "                N += 1\n",
    "\n",
    "        print(\"Predict end: %d audio clips -> %d total audios\" % (N, len(scores)))\n",
    "\n",
    "        with open(\"scores.txt\", \"w\") as f:\n",
    "            for filename in scores.keys():\n",
    "                f.write(\n",
    "                    \"%s %f\\n\" % (filename, scores[filename] / counts[filename])\n",
    "                )\n",
    "\n",
    "            # for y, filename in self.predict_outputs:\n",
    "            #     for i in range(y.shape[0]):\n",
    "            #         # f.write(\"%s %f\\n\" % (filename[i], y[i]))\n",
    "            #         f.write(\n",
    "            #             \"%s %f\\n\"\n",
    "            #             % (filename[i], scores[filename[i]] / counts[filename[i]])\n",
    "            #         )\n",
    "        del self.predict_outputs"
   ]
  }
 ],
 "metadata": {
  "jupytext": {
   "formats": "ipynb,py:light"
  },
  "kernelspec": {
   "display_name": "Python 3 (ipykernel)",
   "language": "python",
   "name": "python3"
  },
  "language_info": {
   "codemirror_mode": {
    "name": "ipython",
    "version": 3
   },
   "file_extension": ".py",
   "mimetype": "text/x-python",
   "name": "python",
   "nbconvert_exporter": "python",
   "pygments_lexer": "ipython3",
   "version": "3.9.16"
  }
 },
 "nbformat": 4,
 "nbformat_minor": 5
}
