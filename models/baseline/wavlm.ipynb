{
 "cells": [
  {
   "cell_type": "code",
   "execution_count": 1,
   "id": "caf012ad-3972-4f7c-912b-03394bda3388",
   "metadata": {
    "execution": {
     "iopub.execute_input": "2023-06-07T09:48:04.982560Z",
     "iopub.status.busy": "2023-06-07T09:48:04.981975Z",
     "iopub.status.idle": "2023-06-07T09:48:05.012398Z",
     "shell.execute_reply": "2023-06-07T09:48:05.011018Z",
     "shell.execute_reply.started": "2023-06-07T09:48:04.982516Z"
    },
    "tags": []
   },
   "outputs": [],
   "source": [
    "%load_ext autoreload\n",
    "%autoreload 2"
   ]
  },
  {
   "cell_type": "code",
   "execution_count": 2,
   "id": "de7af410-0c88-4cbf-9c6d-c777dd8b2c98",
   "metadata": {
    "execution": {
     "iopub.execute_input": "2023-06-07T09:48:05.682445Z",
     "iopub.status.busy": "2023-06-07T09:48:05.681940Z",
     "iopub.status.idle": "2023-06-07T09:48:06.824290Z",
     "shell.execute_reply": "2023-06-07T09:48:06.823386Z",
     "shell.execute_reply.started": "2023-06-07T09:48:05.682403Z"
    },
    "tags": []
   },
   "outputs": [
    {
     "name": "stderr",
     "output_type": "stream",
     "text": [
      "/home/ay/anaconda3/envs/torch/lib/python3.9/site-packages/tqdm/auto.py:21: TqdmWarning: IProgress not found. Please update jupyter and ipywidgets. See https://ipywidgets.readthedocs.io/en/stable/user_install.html\n",
      "  from .autonotebook import tqdm as notebook_tqdm\n"
     ]
    }
   ],
   "source": [
    "import torch\n",
    "import torch.nn as nn\n",
    "from transformers import AutoFeatureExtractor, WavLMModel"
   ]
  },
  {
   "cell_type": "code",
   "execution_count": 3,
   "id": "c899ddb6-c7a1-4710-bd8b-edca52f0eaf2",
   "metadata": {
    "execution": {
     "iopub.execute_input": "2023-05-30T01:59:00.534152Z",
     "iopub.status.busy": "2023-05-30T01:59:00.533900Z",
     "iopub.status.idle": "2023-05-30T01:59:00.550929Z",
     "shell.execute_reply": "2023-05-30T01:59:00.549986Z",
     "shell.execute_reply.started": "2023-05-30T01:59:00.534135Z"
    }
   },
   "outputs": [],
   "source": [
    "from .resnet import ResNet50"
   ]
  },
  {
   "cell_type": "code",
   "execution_count": 3,
   "id": "2973da10-20b2-4171-97e1-7add1a255e97",
   "metadata": {
    "execution": {
     "iopub.execute_input": "2023-06-07T09:48:06.920450Z",
     "iopub.status.busy": "2023-06-07T09:48:06.919845Z",
     "iopub.status.idle": "2023-06-07T09:48:06.949892Z",
     "shell.execute_reply": "2023-06-07T09:48:06.948889Z",
     "shell.execute_reply.started": "2023-06-07T09:48:06.920407Z"
    },
    "tags": [
     "active-ipynb",
     "style-commentate"
    ]
   },
   "outputs": [],
   "source": [
    "from resnet import ResNet50"
   ]
  },
  {
   "cell_type": "code",
   "execution_count": 16,
   "id": "0b459dc3-b5ef-4a27-a3ba-16063a60d954",
   "metadata": {
    "execution": {
     "iopub.execute_input": "2023-06-07T09:52:19.909736Z",
     "iopub.status.busy": "2023-06-07T09:52:19.909151Z",
     "iopub.status.idle": "2023-06-07T09:52:19.945245Z",
     "shell.execute_reply": "2023-06-07T09:52:19.944226Z",
     "shell.execute_reply.started": "2023-06-07T09:52:19.909691Z"
    },
    "tags": []
   },
   "outputs": [],
   "source": [
    "class BaseLine(nn.Module):\n",
    "    def __init__(self, pretrain_feat=\"last_hidden_state\", backend='resnet'):\n",
    "        super().__init__()\n",
    "\n",
    "        assert pretrain_feat in [\"last_hidden_state\", \"extract_features\"]\n",
    "        self.pretrain_feat = pretrain_feat\n",
    "        # The channels of used features for the pretrained model is 512 when using\n",
    "        # the 'extract_features',  but 768 when [\"last_hidden_state\"] is used.\n",
    "        C_features = 512 if pretrain_feat == \"extract_features\" else 768\n",
    "        \n",
    "    \n",
    "        self.pretrain_model = WavLMModel.from_pretrained(\n",
    "            \"/usr/local/ay_data/0-model_weights/microsoft_wavlm-base\"\n",
    "        )\n",
    "\n",
    "        self.backend = backend\n",
    "        if backend == 'resnet':\n",
    "            self.backend_model = ResNet50(\n",
    "                in_channels=C_features, classes=1\n",
    "            )\n",
    "        elif backend == 'linear':\n",
    "            self.pooler = nn.AdaptiveAvgPool1d(1)\n",
    "            self.backend_model = nn.Linear(C_features, 1)\n",
    "\n",
    "    def forward(self, x):\n",
    "        feature = self.pretrain_model(x)[self.pretrain_feat]\n",
    "        feature = torch.transpose(feature, 1, 2)\n",
    "        if self.backend == 'linear':\n",
    "            feature = torch.squeeze(self.pooler(feature), -1)\n",
    "        # print(feature.shape, self.pooler(feature).shape)\n",
    "        outputs = self.backend_model(feature)\n",
    "        return outputs"
   ]
  },
  {
   "cell_type": "code",
   "execution_count": 17,
   "id": "a4552a42-6ed4-40dc-8d6d-3d9d1197df44",
   "metadata": {
    "execution": {
     "iopub.execute_input": "2023-06-07T09:52:20.673372Z",
     "iopub.status.busy": "2023-06-07T09:52:20.672809Z",
     "iopub.status.idle": "2023-06-07T09:52:22.302713Z",
     "shell.execute_reply": "2023-06-07T09:52:22.302253Z",
     "shell.execute_reply.started": "2023-06-07T09:52:20.673329Z"
    },
    "scrolled": true,
    "tags": [
     "active-ipynb",
     "style-student"
    ]
   },
   "outputs": [
    {
     "data": {
      "text/plain": [
       "tensor([[0.1106],\n",
       "        [0.1350],\n",
       "        [0.1381],\n",
       "        [0.1743],\n",
       "        [0.0974],\n",
       "        [0.1381],\n",
       "        [0.1165],\n",
       "        [0.1462],\n",
       "        [0.1236],\n",
       "        [0.1343]], grad_fn=<AddmmBackward0>)"
      ]
     },
     "execution_count": 17,
     "metadata": {},
     "output_type": "execute_result"
    }
   ],
   "source": [
    "x = torch.rand(10, 69000)\n",
    "model = BaseLine(backend='linear')\n",
    "\n",
    "model(x)"
   ]
  }
 ],
 "metadata": {
  "jupytext": {
   "formats": "ipynb,py:light"
  },
  "kernelspec": {
   "display_name": "Python 3 (ipykernel)",
   "language": "python",
   "name": "python3"
  },
  "language_info": {
   "codemirror_mode": {
    "name": "ipython",
    "version": 3
   },
   "file_extension": ".py",
   "mimetype": "text/x-python",
   "name": "python",
   "nbconvert_exporter": "python",
   "pygments_lexer": "ipython3",
   "version": "3.9.16"
  }
 },
 "nbformat": 4,
 "nbformat_minor": 5
}
