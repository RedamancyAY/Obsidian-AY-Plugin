{
 "cells": [
  {
   "cell_type": "code",
   "execution_count": 1,
   "id": "dffd8718-3cb7-451c-95b3-b1b24aca8235",
   "metadata": {
    "editable": true,
    "execution": {
     "iopub.execute_input": "2023-06-20T08:57:47.033171Z",
     "iopub.status.busy": "2023-06-20T08:57:47.032382Z",
     "iopub.status.idle": "2023-06-20T08:57:47.071814Z",
     "shell.execute_reply": "2023-06-20T08:57:47.070901Z",
     "shell.execute_reply.started": "2023-06-20T08:57:47.033127Z"
    },
    "slideshow": {
     "slide_type": ""
    },
    "tags": []
   },
   "outputs": [],
   "source": [
    "%load_ext autoreload\n",
    "%autoreload 2"
   ]
  },
  {
   "cell_type": "code",
   "execution_count": 2,
   "id": "dbfeea55-8a1d-4983-a21b-5b6b1a5ba7ca",
   "metadata": {
    "editable": true,
    "execution": {
     "iopub.execute_input": "2023-06-20T08:57:49.026633Z",
     "iopub.status.busy": "2023-06-20T08:57:49.025717Z",
     "iopub.status.idle": "2023-06-20T08:57:53.444767Z",
     "shell.execute_reply": "2023-06-20T08:57:53.443983Z",
     "shell.execute_reply.started": "2023-06-20T08:57:49.026587Z"
    },
    "slideshow": {
     "slide_type": ""
    },
    "tags": []
   },
   "outputs": [
    {
     "name": "stdout",
     "output_type": "stream",
     "text": [
      "/home/ay/data/ADD2023/track1.2/test\n",
      "/home/ay/data/ADD2023/track1.2/test2\n"
     ]
    }
   ],
   "source": [
    "import sys\n",
    "\n",
    "sys.path.append(\"/home/ay/zky/Coding/0-Audio\")\n",
    "from config import get_cfg_defaults\n",
    "\n",
    "from data import make_dl\n",
    "\n",
    "cfg = get_cfg_defaults()\n",
    "cfg.DATASET.name = \"ADD2023\"\n",
    "cfg.DATASET.to_dl = True\n",
    "cfg.DATASET.batch_size = 16\n",
    "data_loaders = make_dl(cfg.DATASET)"
   ]
  },
  {
   "cell_type": "code",
   "execution_count": 3,
   "id": "dc33a41a-4f68-4669-9f14-d494062345bf",
   "metadata": {
    "editable": true,
    "execution": {
     "iopub.execute_input": "2023-06-20T08:57:53.446145Z",
     "iopub.status.busy": "2023-06-20T08:57:53.445865Z",
     "iopub.status.idle": "2023-06-20T08:57:53.471093Z",
     "shell.execute_reply": "2023-06-20T08:57:53.470451Z",
     "shell.execute_reply.started": "2023-06-20T08:57:53.446130Z"
    },
    "slideshow": {
     "slide_type": ""
    },
    "tags": []
   },
   "outputs": [
    {
     "data": {
      "text/plain": [
       "(13033, 1771, 6999)"
      ]
     },
     "execution_count": 3,
     "metadata": {},
     "output_type": "execute_result"
    }
   ],
   "source": [
    "len(data_loaders[\"train\"]), len(data_loaders[\"dev\"]), len(data_loaders[\"test1\"])"
   ]
  },
  {
   "cell_type": "markdown",
   "id": "b6e69b13-17c4-4d84-bddd-f04e72255a65",
   "metadata": {},
   "source": [
    "# GMM "
   ]
  },
  {
   "cell_type": "code",
   "execution_count": 26,
   "id": "12aed2e9-4210-4bd4-9f00-fe897de4a338",
   "metadata": {
    "execution": {
     "iopub.execute_input": "2023-06-20T09:48:12.940395Z",
     "iopub.status.busy": "2023-06-20T09:48:12.939729Z",
     "iopub.status.idle": "2023-06-20T09:48:12.984582Z",
     "shell.execute_reply": "2023-06-20T09:48:12.983816Z",
     "shell.execute_reply.started": "2023-06-20T09:48:12.940349Z"
    }
   },
   "outputs": [],
   "source": [
    "import copy\n",
    "\n",
    "dl2 = copy.deepcopy(data_loaders[\"train\"])"
   ]
  },
  {
   "cell_type": "code",
   "execution_count": null,
   "id": "10d33d2c-b0cb-40c4-a6f0-d0e1e46c5873",
   "metadata": {},
   "outputs": [],
   "source": [
    "dl2."
   ]
  },
  {
   "cell_type": "code",
   "execution_count": 28,
   "id": "9c9d1d1f-f1d6-4b4b-a101-97c69691b02e",
   "metadata": {
    "execution": {
     "iopub.execute_input": "2023-06-20T09:48:27.328131Z",
     "iopub.status.busy": "2023-06-20T09:48:27.327471Z",
     "iopub.status.idle": "2023-06-20T09:48:27.385371Z",
     "shell.execute_reply": "2023-06-20T09:48:27.384565Z",
     "shell.execute_reply.started": "2023-06-20T09:48:27.328089Z"
    }
   },
   "outputs": [
    {
     "ename": "ValueError",
     "evalue": "dataset attribute should not be set after DataLoader is initialized",
     "output_type": "error",
     "traceback": [
      "\u001b[0;31m---------------------------------------------------------------------------\u001b[0m",
      "\u001b[0;31mValueError\u001b[0m                                Traceback (most recent call last)",
      "Cell \u001b[0;32mIn[28], line 1\u001b[0m\n\u001b[0;32m----> 1\u001b[0m \u001b[43mdl2\u001b[49m\u001b[38;5;241;43m.\u001b[39;49m\u001b[43mdataset\u001b[49m \u001b[38;5;241m=\u001b[39m \u001b[38;5;241m0\u001b[39m\n",
      "File \u001b[0;32m~/anaconda3/envs/torch/lib/python3.9/site-packages/torch/utils/data/dataloader.py:422\u001b[0m, in \u001b[0;36mDataLoader.__setattr__\u001b[0;34m(self, attr, val)\u001b[0m\n\u001b[1;32m    419\u001b[0m \u001b[38;5;28;01mdef\u001b[39;00m \u001b[38;5;21m__setattr__\u001b[39m(\u001b[38;5;28mself\u001b[39m, attr, val):\n\u001b[1;32m    420\u001b[0m     \u001b[38;5;28;01mif\u001b[39;00m \u001b[38;5;28mself\u001b[39m\u001b[38;5;241m.\u001b[39m__initialized \u001b[38;5;129;01mand\u001b[39;00m attr \u001b[38;5;129;01min\u001b[39;00m (\n\u001b[1;32m    421\u001b[0m             \u001b[38;5;124m'\u001b[39m\u001b[38;5;124mbatch_size\u001b[39m\u001b[38;5;124m'\u001b[39m, \u001b[38;5;124m'\u001b[39m\u001b[38;5;124mbatch_sampler\u001b[39m\u001b[38;5;124m'\u001b[39m, \u001b[38;5;124m'\u001b[39m\u001b[38;5;124msampler\u001b[39m\u001b[38;5;124m'\u001b[39m, \u001b[38;5;124m'\u001b[39m\u001b[38;5;124mdrop_last\u001b[39m\u001b[38;5;124m'\u001b[39m, \u001b[38;5;124m'\u001b[39m\u001b[38;5;124mdataset\u001b[39m\u001b[38;5;124m'\u001b[39m, \u001b[38;5;124m'\u001b[39m\u001b[38;5;124mpersistent_workers\u001b[39m\u001b[38;5;124m'\u001b[39m):\n\u001b[0;32m--> 422\u001b[0m         \u001b[38;5;28;01mraise\u001b[39;00m \u001b[38;5;167;01mValueError\u001b[39;00m(\u001b[38;5;124m'\u001b[39m\u001b[38;5;132;01m{}\u001b[39;00m\u001b[38;5;124m attribute should not be set after \u001b[39m\u001b[38;5;132;01m{}\u001b[39;00m\u001b[38;5;124m is \u001b[39m\u001b[38;5;124m'\u001b[39m\n\u001b[1;32m    423\u001b[0m                          \u001b[38;5;124m'\u001b[39m\u001b[38;5;124minitialized\u001b[39m\u001b[38;5;124m'\u001b[39m\u001b[38;5;241m.\u001b[39mformat(attr, \u001b[38;5;28mself\u001b[39m\u001b[38;5;241m.\u001b[39m\u001b[38;5;18m__class__\u001b[39m\u001b[38;5;241m.\u001b[39m\u001b[38;5;18m__name__\u001b[39m))\n\u001b[1;32m    425\u001b[0m     \u001b[38;5;28msuper\u001b[39m()\u001b[38;5;241m.\u001b[39m\u001b[38;5;21m__setattr__\u001b[39m(attr, val)\n",
      "\u001b[0;31mValueError\u001b[0m: dataset attribute should not be set after DataLoader is initialized"
     ]
    }
   ],
   "source": [
    "dl2.dataset = 0"
   ]
  },
  {
   "cell_type": "code",
   "execution_count": 21,
   "id": "e164e6fb-6879-467f-863c-24ef5e644b6e",
   "metadata": {
    "execution": {
     "iopub.execute_input": "2023-06-20T09:27:47.933954Z",
     "iopub.status.busy": "2023-06-20T09:27:47.933076Z",
     "iopub.status.idle": "2023-06-20T09:27:47.978657Z",
     "shell.execute_reply": "2023-06-20T09:27:47.977911Z",
     "shell.execute_reply.started": "2023-06-20T09:27:47.933908Z"
    }
   },
   "outputs": [],
   "source": [
    "from GMM.trainer import trainGMM"
   ]
  },
  {
   "cell_type": "code",
   "execution_count": 25,
   "id": "26ecd250-91dc-480e-8b59-98def8adbaa2",
   "metadata": {
    "execution": {
     "iopub.execute_input": "2023-06-20T09:41:51.402136Z",
     "iopub.status.busy": "2023-06-20T09:41:51.401213Z",
     "iopub.status.idle": "2023-06-20T09:41:51.481424Z",
     "shell.execute_reply": "2023-06-20T09:41:51.480589Z",
     "shell.execute_reply.started": "2023-06-20T09:41:51.402090Z"
    },
    "scrolled": true
   },
   "outputs": [
    {
     "ename": "ValueError",
     "evalue": "dataset attribute should not be set after DataLoader is initialized",
     "output_type": "error",
     "traceback": [
      "\u001b[0;31m---------------------------------------------------------------------------\u001b[0m",
      "\u001b[0;31mValueError\u001b[0m                                Traceback (most recent call last)",
      "Cell \u001b[0;32mIn[25], line 1\u001b[0m\n\u001b[0;32m----> 1\u001b[0m \u001b[43mtrainGMM\u001b[49m\u001b[43m(\u001b[49m\u001b[43mclusters\u001b[49m\u001b[38;5;241;43m=\u001b[39;49m\u001b[38;5;241;43m128\u001b[39;49m\u001b[43m,\u001b[49m\u001b[43m \u001b[49m\u001b[43mtrain_ds\u001b[49m\u001b[38;5;241;43m=\u001b[39;49m\u001b[43mdata_loaders\u001b[49m\u001b[43m[\u001b[49m\u001b[38;5;124;43m\"\u001b[39;49m\u001b[38;5;124;43mtrain\u001b[39;49m\u001b[38;5;124;43m\"\u001b[39;49m\u001b[43m]\u001b[49m\u001b[43m,\u001b[49m\u001b[43m \u001b[49m\u001b[43mval_ds\u001b[49m\u001b[38;5;241;43m=\u001b[39;49m\u001b[43mdata_loaders\u001b[49m\u001b[43m[\u001b[49m\u001b[38;5;124;43m\"\u001b[39;49m\u001b[38;5;124;43mdev\u001b[39;49m\u001b[38;5;124;43m\"\u001b[39;49m\u001b[43m]\u001b[49m\u001b[43m,\u001b[49m\u001b[43m \u001b[49m\u001b[43mtest_ds\u001b[49m\u001b[38;5;241;43m=\u001b[39;49m\u001b[43mdata_loaders\u001b[49m\u001b[43m[\u001b[49m\u001b[38;5;124;43m\"\u001b[39;49m\u001b[38;5;124;43mtest1\u001b[39;49m\u001b[38;5;124;43m\"\u001b[39;49m\u001b[43m]\u001b[49m\u001b[43m)\u001b[49m\n",
      "File \u001b[0;32m~/zky/Coding/0-Audio/models/GMM/trainer.py:106\u001b[0m, in \u001b[0;36mtrainGMM\u001b[0;34m(clusters, train_ds, val_ds, test_ds, test)\u001b[0m\n\u001b[1;32m    105\u001b[0m \u001b[38;5;28;01mdef\u001b[39;00m \u001b[38;5;21mtrainGMM\u001b[39m(clusters, train_ds, val_ds, test_ds, test\u001b[38;5;241m=\u001b[39m\u001b[38;5;241m0\u001b[39m):\n\u001b[0;32m--> 106\u001b[0m     train_ds_real, train_ds_fake \u001b[38;5;241m=\u001b[39m \u001b[43msplit_real_fake_dataset\u001b[49m\u001b[43m(\u001b[49m\u001b[43mtrain_ds\u001b[49m\u001b[43m)\u001b[49m\n\u001b[1;32m    107\u001b[0m     val_ds_real, val_ds_fake \u001b[38;5;241m=\u001b[39m split_real_fake_dataset(val_ds)\n\u001b[1;32m    108\u001b[0m     \u001b[38;5;66;03m# test_ds_real, test_ds_fake = split_real_fake_dataset(test_ds)\u001b[39;00m\n",
      "File \u001b[0;32m~/zky/Coding/0-Audio/models/GMM/trainer.py:97\u001b[0m, in \u001b[0;36msplit_real_fake_dataset\u001b[0;34m(dataset)\u001b[0m\n\u001b[1;32m     95\u001b[0m fake_dataset \u001b[38;5;241m=\u001b[39m torch\u001b[38;5;241m.\u001b[39mutils\u001b[38;5;241m.\u001b[39mdata\u001b[38;5;241m.\u001b[39mSubset(dl\u001b[38;5;241m.\u001b[39mdataset, fake_index)\n\u001b[1;32m     96\u001b[0m real_dl \u001b[38;5;241m=\u001b[39m copy\u001b[38;5;241m.\u001b[39mdeepcopy(dl)\n\u001b[0;32m---> 97\u001b[0m \u001b[43mreal_dl\u001b[49m\u001b[38;5;241;43m.\u001b[39;49m\u001b[43mdataset\u001b[49m \u001b[38;5;241m=\u001b[39m real_dataset\n\u001b[1;32m     98\u001b[0m fake_dl \u001b[38;5;241m=\u001b[39m copy\u001b[38;5;241m.\u001b[39mdeepcopy(dl)\n\u001b[1;32m     99\u001b[0m fake_dl\u001b[38;5;241m.\u001b[39mdataset \u001b[38;5;241m=\u001b[39m fake_dl\n",
      "File \u001b[0;32m~/anaconda3/envs/torch/lib/python3.9/site-packages/torch/utils/data/dataloader.py:422\u001b[0m, in \u001b[0;36mDataLoader.__setattr__\u001b[0;34m(self, attr, val)\u001b[0m\n\u001b[1;32m    419\u001b[0m \u001b[38;5;28;01mdef\u001b[39;00m \u001b[38;5;21m__setattr__\u001b[39m(\u001b[38;5;28mself\u001b[39m, attr, val):\n\u001b[1;32m    420\u001b[0m     \u001b[38;5;28;01mif\u001b[39;00m \u001b[38;5;28mself\u001b[39m\u001b[38;5;241m.\u001b[39m__initialized \u001b[38;5;129;01mand\u001b[39;00m attr \u001b[38;5;129;01min\u001b[39;00m (\n\u001b[1;32m    421\u001b[0m             \u001b[38;5;124m'\u001b[39m\u001b[38;5;124mbatch_size\u001b[39m\u001b[38;5;124m'\u001b[39m, \u001b[38;5;124m'\u001b[39m\u001b[38;5;124mbatch_sampler\u001b[39m\u001b[38;5;124m'\u001b[39m, \u001b[38;5;124m'\u001b[39m\u001b[38;5;124msampler\u001b[39m\u001b[38;5;124m'\u001b[39m, \u001b[38;5;124m'\u001b[39m\u001b[38;5;124mdrop_last\u001b[39m\u001b[38;5;124m'\u001b[39m, \u001b[38;5;124m'\u001b[39m\u001b[38;5;124mdataset\u001b[39m\u001b[38;5;124m'\u001b[39m, \u001b[38;5;124m'\u001b[39m\u001b[38;5;124mpersistent_workers\u001b[39m\u001b[38;5;124m'\u001b[39m):\n\u001b[0;32m--> 422\u001b[0m         \u001b[38;5;28;01mraise\u001b[39;00m \u001b[38;5;167;01mValueError\u001b[39;00m(\u001b[38;5;124m'\u001b[39m\u001b[38;5;132;01m{}\u001b[39;00m\u001b[38;5;124m attribute should not be set after \u001b[39m\u001b[38;5;132;01m{}\u001b[39;00m\u001b[38;5;124m is \u001b[39m\u001b[38;5;124m'\u001b[39m\n\u001b[1;32m    423\u001b[0m                          \u001b[38;5;124m'\u001b[39m\u001b[38;5;124minitialized\u001b[39m\u001b[38;5;124m'\u001b[39m\u001b[38;5;241m.\u001b[39mformat(attr, \u001b[38;5;28mself\u001b[39m\u001b[38;5;241m.\u001b[39m\u001b[38;5;18m__class__\u001b[39m\u001b[38;5;241m.\u001b[39m\u001b[38;5;18m__name__\u001b[39m))\n\u001b[1;32m    425\u001b[0m     \u001b[38;5;28msuper\u001b[39m()\u001b[38;5;241m.\u001b[39m\u001b[38;5;21m__setattr__\u001b[39m(attr, val)\n",
      "\u001b[0;31mValueError\u001b[0m: dataset attribute should not be set after DataLoader is initialized"
     ]
    }
   ],
   "source": [
    "trainGMM(clusters=128, train_ds=data_loaders[\"train\"], val_ds=data_loaders[\"dev\"], test_ds=data_loaders[\"test1\"])"
   ]
  },
  {
   "cell_type": "markdown",
   "id": "7e1f6b58-1a26-422a-b6ca-7a31ac484f81",
   "metadata": {
    "editable": true,
    "slideshow": {
     "slide_type": ""
    },
    "tags": []
   },
   "source": [
    "# Baseline"
   ]
  },
  {
   "cell_type": "code",
   "execution_count": 4,
   "id": "d80a463b-8f84-42ab-b552-88446dbcaafc",
   "metadata": {
    "editable": true,
    "execution": {
     "iopub.execute_input": "2023-06-13T15:28:27.107791Z",
     "iopub.status.busy": "2023-06-13T15:28:27.107659Z",
     "iopub.status.idle": "2023-06-13T15:28:27.607116Z",
     "shell.execute_reply": "2023-06-13T15:28:27.606399Z",
     "shell.execute_reply.started": "2023-06-13T15:28:27.107779Z"
    },
    "slideshow": {
     "slide_type": ""
    },
    "tags": []
   },
   "outputs": [],
   "source": [
    "import pytorch_lightning as pl\n",
    "from baseline import BaseLine_lit"
   ]
  },
  {
   "cell_type": "code",
   "execution_count": 5,
   "id": "0f96456f-d66a-44a6-946c-655a99a8a664",
   "metadata": {
    "editable": true,
    "execution": {
     "iopub.execute_input": "2023-06-13T15:28:27.608109Z",
     "iopub.status.busy": "2023-06-13T15:28:27.607944Z",
     "iopub.status.idle": "2023-06-13T15:28:27.633187Z",
     "shell.execute_reply": "2023-06-13T15:28:27.632569Z",
     "shell.execute_reply.started": "2023-06-13T15:28:27.608093Z"
    },
    "slideshow": {
     "slide_type": ""
    },
    "tags": []
   },
   "outputs": [],
   "source": [
    "import torch\n",
    "\n",
    "torch.set_float32_matmul_precision(\"medium\")"
   ]
  },
  {
   "cell_type": "code",
   "execution_count": 15,
   "id": "426e43d5-9ff3-4aa6-ba5c-45a76d3678f3",
   "metadata": {
    "editable": true,
    "execution": {
     "iopub.execute_input": "2023-06-14T02:04:36.052858Z",
     "iopub.status.busy": "2023-06-14T02:04:36.052300Z",
     "iopub.status.idle": "2023-06-14T02:04:39.516729Z",
     "shell.execute_reply": "2023-06-14T02:04:39.516266Z",
     "shell.execute_reply.started": "2023-06-14T02:04:36.052814Z"
    },
    "slideshow": {
     "slide_type": ""
    },
    "tags": []
   },
   "outputs": [],
   "source": [
    "model = BaseLine_lit(pretrain_feat=\"last_hidden_state\", backend='resnet')"
   ]
  },
  {
   "cell_type": "code",
   "execution_count": 19,
   "id": "7ffb3dc0-08fb-47e5-b765-c9fbad27e1a6",
   "metadata": {
    "editable": true,
    "execution": {
     "iopub.execute_input": "2023-06-14T04:43:51.023095Z",
     "iopub.status.busy": "2023-06-14T04:43:51.022516Z",
     "iopub.status.idle": "2023-06-14T04:43:51.082938Z",
     "shell.execute_reply": "2023-06-14T04:43:51.081932Z",
     "shell.execute_reply.started": "2023-06-14T04:43:51.023045Z"
    },
    "slideshow": {
     "slide_type": ""
    },
    "tags": []
   },
   "outputs": [
    {
     "name": "stderr",
     "output_type": "stream",
     "text": [
      "GPU available: True (cuda), used: True\n",
      "TPU available: False, using: 0 TPU cores\n",
      "IPU available: False, using: 0 IPUs\n",
      "HPU available: False, using: 0 HPUs\n"
     ]
    }
   ],
   "source": [
    "trainer = pl.Trainer(\n",
    "    max_epochs=3,\n",
    "    accelerator=\"gpu\",\n",
    "    devices=[1],\n",
    "    check_val_every_n_epoch=1,\n",
    "    logger=pl.loggers.CSVLogger(\n",
    "        \"/home/ay/data/Loggers/0-Audio\", name=\"test\", version=None\n",
    "    ),\n",
    "    default_root_dir=\"/home/ay/data/Loggers/0-Audio\",\n",
    "    # limit_train_batches=0.1\n",
    ")"
   ]
  },
  {
   "cell_type": "code",
   "execution_count": 22,
   "id": "cc662b47-6a84-4671-9fdf-3b87a1e5de96",
   "metadata": {
    "editable": true,
    "execution": {
     "iopub.execute_input": "2023-06-14T06:41:02.869576Z",
     "iopub.status.busy": "2023-06-14T06:41:02.868935Z",
     "iopub.status.idle": "2023-06-14T09:21:03.074734Z",
     "shell.execute_reply": "2023-06-14T09:21:03.074029Z",
     "shell.execute_reply.started": "2023-06-14T06:41:02.869523Z"
    },
    "scrolled": true,
    "slideshow": {
     "slide_type": ""
    },
    "tags": []
   },
   "outputs": [
    {
     "name": "stderr",
     "output_type": "stream",
     "text": [
      "LOCAL_RANK: 0 - CUDA_VISIBLE_DEVICES: [0,1]\n",
      "\n",
      "  | Name      | Type              | Params\n",
      "------------------------------------------------\n",
      "0 | model     | BaseLine          | 110 M \n",
      "1 | loss_fn   | BCEWithLogitsLoss | 0     \n",
      "2 | acc_train | BinaryAccuracy    | 0     \n",
      "3 | acc_val   | BinaryAccuracy    | 0     \n",
      "4 | acc_test  | BinaryAccuracy    | 0     \n",
      "5 | eer_train | EER               | 0     \n",
      "6 | eer_val   | EER               | 0     \n",
      "7 | eer_test  | EER               | 0     \n",
      "------------------------------------------------\n",
      "110 M     Trainable params\n",
      "0         Non-trainable params\n",
      "110 M     Total params\n",
      "442.802   Total estimated model params size (MB)\n"
     ]
    },
    {
     "data": {
      "application/vnd.jupyter.widget-view+json": {
       "model_id": "",
       "version_major": 2,
       "version_minor": 0
      },
      "text/plain": [
       "Sanity Checking: 0it [00:00, ?it/s]"
      ]
     },
     "metadata": {},
     "output_type": "display_data"
    },
    {
     "data": {
      "application/vnd.jupyter.widget-view+json": {
       "model_id": "a3616aa1a3714d06b5fd19d09cea978e",
       "version_major": 2,
       "version_minor": 0
      },
      "text/plain": [
       "Training: 0it [00:00, ?it/s]"
      ]
     },
     "metadata": {},
     "output_type": "display_data"
    },
    {
     "data": {
      "application/vnd.jupyter.widget-view+json": {
       "model_id": "",
       "version_major": 2,
       "version_minor": 0
      },
      "text/plain": [
       "Validation: 0it [00:00, ?it/s]"
      ]
     },
     "metadata": {},
     "output_type": "display_data"
    },
    {
     "data": {
      "application/vnd.jupyter.widget-view+json": {
       "model_id": "",
       "version_major": 2,
       "version_minor": 0
      },
      "text/plain": [
       "Validation: 0it [00:00, ?it/s]"
      ]
     },
     "metadata": {},
     "output_type": "display_data"
    },
    {
     "name": "stderr",
     "output_type": "stream",
     "text": [
      "`Trainer.fit` stopped: `max_epochs=3` reached.\n"
     ]
    }
   ],
   "source": [
    "trainer.fit(\n",
    "    model=model,\n",
    "    train_dataloaders=data_loaders[\"train\"],\n",
    "    val_dataloaders=data_loaders[\"dev\"],\n",
    ")"
   ]
  },
  {
   "cell_type": "code",
   "execution_count": null,
   "id": "2f7f768a-153f-4e0a-8437-0f2ab0efed41",
   "metadata": {
    "execution": {
     "iopub.execute_input": "2023-06-14T09:55:43.937636Z",
     "iopub.status.busy": "2023-06-14T09:55:43.937034Z"
    },
    "scrolled": true,
    "tags": []
   },
   "outputs": [
    {
     "name": "stderr",
     "output_type": "stream",
     "text": [
      "LOCAL_RANK: 0 - CUDA_VISIBLE_DEVICES: [0,1]\n"
     ]
    }
   ],
   "source": [
    "_ = trainer.predict(model=model, dataloaders=data_loaders['test1'])"
   ]
  }
 ],
 "metadata": {
  "kernelspec": {
   "display_name": "Python 3 (ipykernel)",
   "language": "python",
   "name": "python3"
  },
  "language_info": {
   "codemirror_mode": {
    "name": "ipython",
    "version": 3
   },
   "file_extension": ".py",
   "mimetype": "text/x-python",
   "name": "python",
   "nbconvert_exporter": "python",
   "pygments_lexer": "ipython3",
   "version": "3.9.16"
  }
 },
 "nbformat": 4,
 "nbformat_minor": 5
}
