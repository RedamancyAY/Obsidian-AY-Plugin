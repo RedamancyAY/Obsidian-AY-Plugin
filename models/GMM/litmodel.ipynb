{
 "cells": [
  {
   "cell_type": "code",
   "execution_count": null,
   "id": "efa4fd67-cd35-4fbe-b9fd-0b14121e7f97",
   "metadata": {},
   "outputs": [],
   "source": [
    "# %load_ext autoreload\n",
    "# %autoreload 2"
   ]
  },
  {
   "cell_type": "code",
   "execution_count": null,
   "id": "3a589562-6793-446c-bc6a-ee14dab1571a",
   "metadata": {
    "tags": []
   },
   "outputs": [],
   "source": [
    "import pytorch_lightning as pl\n",
    "import torch\n",
    "\n",
    "from .gaussian_mixture_model import GMMDescent\n",
    "from .metric import calculate_eer"
   ]
  },
  {
   "cell_type": "code",
   "execution_count": null,
   "id": "7dff2b84-9d3d-4578-80c8-36423e6e050c",
   "metadata": {
    "tags": []
   },
   "outputs": [],
   "source": [
    "class GMM(pl.LightningModule):\n",
    "    def __init__(\n",
    "        self, clusters, inital_data\n",
    "    ):\n",
    "        super().__init__()\n",
    "        self.model = GMMDescent(clusters, inital_data, covariance_type=\"diag\")\n",
    "\n",
    "    def configure_optimizers(self):\n",
    "        optimizer = torch.optim.Adam(self.model.parameters(), lr=0.001)\n",
    "        return [optimizer]\n",
    "\n",
    "\n",
    "    def _shared_eval_step(self, batch, batch_idx):\n",
    "        audio, sample_rate, label = batch\n",
    "        \n",
    "        pred = self.model(audio)\n",
    "        loss = - pred.mean()\n",
    "                \n",
    "        self.log_dict(\n",
    "            {'loss', loss},\n",
    "            on_step=False,\n",
    "            on_epoch=True,\n",
    "            logger=True,\n",
    "            prog_bar=True,\n",
    "        )\n",
    "        return {\"loss\": loss}\n",
    "\n",
    "    def training_step(self, batch, batch_idx):\n",
    "        return self._shared_eval_step(batch, batch_idx)\n",
    "    \n",
    "    def validation_step(self, batch, batch_idx):\n",
    "        return self._shared_eval_step(batch, batch_idx)\n",
    "\n",
    "    def test_step(self, batch, batch_idx):\n",
    "        return self._shared_eval_step(batch, batch_idx)"
   ]
  },
  {
   "cell_type": "code",
   "execution_count": null,
   "id": "9db53697-47c2-4477-9335-2d9be5523e71",
   "metadata": {},
   "outputs": [],
   "source": [
    "class GMMTest(pl.LightningModule):\n",
    "    def __init__(\n",
    "        self, real_model, fake_model\n",
    "    ):\n",
    "        super().__init__()\n",
    "        self.real_model = real_model\n",
    "        self.fake_model = fake_model\n",
    "        \n",
    "        \n",
    "    def _shared_eval_step(self, batch, batch_idx):\n",
    "        audio, sample_rate, label = batch\n",
    "        \n",
    "        score = real_model(data).mean() - fake_model(data).mean()\n",
    "        self.scores.append(score)\n",
    "        self.labels.append(labels)\n",
    "\n",
    "    def test_step(self, batch, batch_idx):\n",
    "        return self._shared_eval_step(batch, batch_idx)\n",
    "    \n",
    "    def on_test_epoch_start(self):\n",
    "        self.scores = []    \n",
    "        self.labels = []\n",
    "        \n",
    "    def on_test_epoch_end(self):\n",
    "        scores = torch.concat(self.scores)\n",
    "        labels = torch.concat(self.labels)\n",
    "\n",
    "        thresh, eer, fpr, tpr = calculate_eer(labels, scores)\n",
    "        self.log_dict({'Thresh':thresh, 'EER': eer, 'FPR': fpr, 'TPR': tpr}, logger=True, prog_bar=True)"
   ]
  }
 ],
 "metadata": {
  "jupytext": {
   "formats": "ipynb,py:light"
  },
  "kernelspec": {
   "display_name": "Python 3 (ipykernel)",
   "language": "python",
   "name": "python3"
  },
  "language_info": {
   "codemirror_mode": {
    "name": "ipython",
    "version": 3
   },
   "file_extension": ".py",
   "mimetype": "text/x-python",
   "name": "python",
   "nbconvert_exporter": "python",
   "pygments_lexer": "ipython3",
   "version": "3.9.16"
  }
 },
 "nbformat": 4,
 "nbformat_minor": 5
}
