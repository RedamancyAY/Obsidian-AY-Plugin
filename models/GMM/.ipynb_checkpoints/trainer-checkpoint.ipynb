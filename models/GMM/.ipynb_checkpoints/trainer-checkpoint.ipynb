{
 "cells": [
  {
   "cell_type": "code",
   "execution_count": 2,
   "id": "c2ad8e92-0d88-4fa7-9a3a-3ba26b17e725",
   "metadata": {
    "execution": {
     "iopub.execute_input": "2023-06-20T09:20:46.324860Z",
     "iopub.status.busy": "2023-06-20T09:20:46.324400Z",
     "iopub.status.idle": "2023-06-20T09:20:46.328525Z",
     "shell.execute_reply": "2023-06-20T09:20:46.327718Z",
     "shell.execute_reply.started": "2023-06-20T09:20:46.324833Z"
    },
    "tags": []
   },
   "outputs": [],
   "source": [
    "import pytorch_lightning as pl\n",
    "import torch\n",
    "import copy"
   ]
  },
  {
   "cell_type": "code",
   "execution_count": null,
   "id": "48f8e7a0-4ecf-4379-a2e3-96f065797a6a",
   "metadata": {
    "tags": []
   },
   "outputs": [],
   "source": [
    "from .litmodel import GMM, GMMTest"
   ]
  },
  {
   "cell_type": "code",
   "execution_count": null,
   "id": "b19a9475-80fd-4710-be6b-ee797347449b",
   "metadata": {},
   "outputs": [],
   "source": []
  },
  {
   "cell_type": "code",
   "execution_count": null,
   "id": "f8383f50-de7d-49e5-aa5e-eacde88d0d3d",
   "metadata": {
    "tags": []
   },
   "outputs": [],
   "source": [
    "def flatten_dataset(\n",
    "    dataset,\n",
    "    amount: int = None,\n",
    ") -> torch.Tensor:\n",
    "    \"\"\"Flatten a dataset for GMM-EM training.\n",
    "\n",
    "    Note, that we additionally switch time and freq dimensions.\n",
    "\n",
    "    Args:\n",
    "        dataset (TransformDataset): The data set to flatten.\n",
    "        amount (int): If supplied, only convert this amount of files.\n",
    "\n",
    "    Returns:\n",
    "        The flattened data (torch.Tensor).\n",
    "    \"\"\"\n",
    "    new_data = []\n",
    "    for i, (wav, _, _) in enumerate(dataset):\n",
    "        new_data.append(wav)\n",
    "        if amount is not None and i >= amount - 1:\n",
    "            break\n",
    "    new_data = torch.cat(new_data)\n",
    "    print(new_data.shape)\n",
    "    return new_data"
   ]
  },
  {
   "cell_type": "code",
   "execution_count": 4,
   "id": "1da60c19-aa67-4c6a-940f-c32ad22fcc7f",
   "metadata": {
    "execution": {
     "iopub.execute_input": "2023-06-20T09:37:39.507460Z",
     "iopub.status.busy": "2023-06-20T09:37:39.506390Z",
     "iopub.status.idle": "2023-06-20T09:37:39.515570Z",
     "shell.execute_reply": "2023-06-20T09:37:39.514579Z",
     "shell.execute_reply.started": "2023-06-20T09:37:39.507416Z"
    },
    "tags": []
   },
   "outputs": [],
   "source": [
    "def flatten_dataloader(\n",
    "    dataloader,\n",
    "    amount: int = None,\n",
    ") -> torch.Tensor:\n",
    "    \"\"\"Flatten a dataset for GMM-EM training.\n",
    "\n",
    "    Note, that we additionally switch time and freq dimensions.\n",
    "\n",
    "    Args:\n",
    "        dataset (TransformDataset): The data set to flatten.\n",
    "        amount (int): If supplied, only convert this amount of files.\n",
    "\n",
    "    Returns:\n",
    "        The flattened data (torch.Tensor).\n",
    "    \"\"\"\n",
    "    new_data = []\n",
    "    i = 0\n",
    "    for batch in dataloader:\n",
    "        _data = batch['audio']\n",
    "        new_data.append(_data)\n",
    "        i += _data.shape[0]\n",
    "        if amount is not None and i >= amount - 1:\n",
    "            break\n",
    "    new_data = torch.cat(new_data)\n",
    "    print(new_data.shape)\n",
    "    return new_data"
   ]
  },
  {
   "cell_type": "code",
   "execution_count": 3,
   "id": "a1f759a2-b059-4d0d-96ae-afc2f79b66f3",
   "metadata": {
    "execution": {
     "iopub.execute_input": "2023-06-20T09:21:41.892673Z",
     "iopub.status.busy": "2023-06-20T09:21:41.891900Z",
     "iopub.status.idle": "2023-06-20T09:21:41.902808Z",
     "shell.execute_reply": "2023-06-20T09:21:41.901961Z",
     "shell.execute_reply.started": "2023-06-20T09:21:41.892636Z"
    },
    "tags": []
   },
   "outputs": [],
   "source": [
    "def split_real_fake_dataset(dataset):\n",
    "\n",
    "    def get_index(_data):\n",
    "        real_data = data.query(\"label == 1\")\n",
    "        fake_data = data.query(\"label == 0\")\n",
    "        return list(real_data.index), list(fake_data.index), real_data, fake_data\n",
    "        \n",
    "    if isinstance(dataset, torch.utils.data.Dataset):\n",
    "        data = dataset.data\n",
    "        real_index, fake_index, real_data, fake_data = get_index(data)\n",
    "        real_dataset = torch.utils.data.Subset(dataset, real_index)\n",
    "        fake_dataset = torch.utils.data.Subset(dataset, fake_index)\n",
    "        return real_dataset, fake_dataset\n",
    "    elif isinstance(dataset, torch.utils.data.DataLoader):\n",
    "        dl = dataset\n",
    "        data = dl.dataset.data\n",
    "        real_index, fake_index, real_data, fake_data = get_index(data)\n",
    "        real_dataset = torch.utils.data.Subset(dl.dataset, real_index)\n",
    "        fake_dataset = torch.utils.data.Subset(dl.dataset, fake_index)\n",
    "        real_dl = copy.deepcopy(dl)\n",
    "        real_dl.dataset.data = real_dataset.data\n",
    "        fake_dl = copy.deepcopy(dl)\n",
    "        fake_dl.dataset = fake_dl\n",
    "        return real_dl, fake_dl\n",
    "    else:\n",
    "        raise TypeError('Input should be dataset or dataloader')"
   ]
  },
  {
   "cell_type": "code",
   "execution_count": null,
   "id": "1cae43f6-d760-43b3-9aef-ea4dc48c43a4",
   "metadata": {
    "tags": []
   },
   "outputs": [],
   "source": [
    "def trainGMM(clusters, train_ds, val_ds, test_ds, test=0):\n",
    "    train_ds_real, train_ds_fake = split_real_fake_dataset(train_ds)\n",
    "    val_ds_real, val_ds_fake = split_real_fake_dataset(val_ds)\n",
    "    # test_ds_real, test_ds_fake = split_real_fake_dataset(test_ds)\n",
    "\n",
    "    print(len(train_ds_real), len(train_ds_fake), len(train_ds))\n",
    "\n",
    "    real_model = GMM(clusters, inital_data=flatten_dataloader(train_ds_real, clusters+1))\n",
    "    fake_model = GMM(clusters, inital_data=flatten_dataloader(train_ds_fake, clusters+1))\n",
    "    model = GMMTest(real_model, fake_model)\n",
    "    \n",
    "    trainer = pl.Trainer(\n",
    "        max_epochs=3,\n",
    "        accelerator=\"gpu\",\n",
    "        devices=[0],\n",
    "        check_val_every_n_epoch=1,\n",
    "        logger=pl.loggers.CSVLogger(\n",
    "            \"/home/ay/data/Loggers/0-Audio\", name=\"test\", version=None\n",
    "        ),\n",
    "        default_root_dir=\"/home/ay/data/Loggers/0-Audio\",\n",
    "    )\n",
    "    trainer.fit(\n",
    "        model=real_model,\n",
    "        train_dataloaders=train_ds_real,\n",
    "        val_dataloaders=val_ds_real,\n",
    "    )"
   ]
  }
 ],
 "metadata": {
  "jupytext": {
   "formats": "ipynb,py:light"
  },
  "kernelspec": {
   "display_name": "Python 3 (ipykernel)",
   "language": "python",
   "name": "python3"
  },
  "language_info": {
   "codemirror_mode": {
    "name": "ipython",
    "version": 3
   },
   "file_extension": ".py",
   "mimetype": "text/x-python",
   "name": "python",
   "nbconvert_exporter": "python",
   "pygments_lexer": "ipython3",
   "version": "3.9.16"
  }
 },
 "nbformat": 4,
 "nbformat_minor": 5
}
