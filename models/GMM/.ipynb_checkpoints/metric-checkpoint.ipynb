{
 "cells": [
  {
   "cell_type": "code",
   "execution_count": 8,
   "id": "1c80a882-e6c1-4289-87b6-3e3c29ced1ec",
   "metadata": {
    "execution": {
     "iopub.execute_input": "2023-05-12T08:46:31.204766Z",
     "iopub.status.busy": "2023-05-12T08:46:31.204195Z",
     "iopub.status.idle": "2023-05-12T08:46:31.215274Z",
     "shell.execute_reply": "2023-05-12T08:46:31.213898Z",
     "shell.execute_reply.started": "2023-05-12T08:46:31.204717Z"
    },
    "tags": []
   },
   "outputs": [],
   "source": [
    "from sklearn.metrics import auc, roc_curve\n",
    "from typing import Callable, List, Optional, Tuple, Union\n",
    "from scipy.optimize import brentq\n",
    "from scipy.interpolate import interp1d\n",
    "import numpy as np\n",
    "\n",
    "def calculate_eer(y, y_score) -> Tuple[float, float, np.ndarray, np.ndarray]:\n",
    "    fpr, tpr, thresholds = roc_curve(y, -y_score)\n",
    "\n",
    "    eer = brentq(lambda x: 1. - x - interp1d(fpr, tpr)(x), 0., 1.)\n",
    "    thresh = interp1d(fpr, thresholds)(eer)\n",
    "    return thresh, eer, fpr, tpr"
   ]
  },
  {
   "cell_type": "code",
   "execution_count": 19,
   "id": "735b00ce-82b6-48f1-b474-dc9c4e205a3b",
   "metadata": {
    "execution": {
     "iopub.execute_input": "2023-05-12T08:47:23.498496Z",
     "iopub.status.busy": "2023-05-12T08:47:23.497963Z",
     "iopub.status.idle": "2023-05-12T08:47:23.512468Z",
     "shell.execute_reply": "2023-05-12T08:47:23.510999Z",
     "shell.execute_reply.started": "2023-05-12T08:47:23.498451Z"
    },
    "tags": [
     "active-ipynb"
    ]
   },
   "outputs": [
    {
     "data": {
      "text/plain": [
       "(array(-0.41947189),\n",
       " 0.5217391304347826,\n",
       " array([0.        , 0.03703704, 0.11111111, 0.11111111, 0.14814815,\n",
       "        0.14814815, 0.18518519, 0.18518519, 0.2962963 , 0.2962963 ,\n",
       "        0.33333333, 0.33333333, 0.44444444, 0.44444444, 0.48148148,\n",
       "        0.48148148, 0.51851852, 0.51851852, 0.55555556, 0.55555556,\n",
       "        0.66666667, 0.66666667, 0.85185185, 0.85185185, 0.88888889,\n",
       "        0.88888889, 0.96296296, 0.96296296, 1.        , 1.        ]),\n",
       " array([0.        , 0.        , 0.        , 0.04347826, 0.04347826,\n",
       "        0.17391304, 0.17391304, 0.26086957, 0.26086957, 0.30434783,\n",
       "        0.30434783, 0.34782609, 0.34782609, 0.39130435, 0.39130435,\n",
       "        0.43478261, 0.43478261, 0.47826087, 0.47826087, 0.52173913,\n",
       "        0.52173913, 0.60869565, 0.60869565, 0.69565217, 0.69565217,\n",
       "        0.82608696, 0.82608696, 0.86956522, 0.86956522, 1.        ]))"
      ]
     },
     "execution_count": 19,
     "metadata": {},
     "output_type": "execute_result"
    }
   ],
   "source": [
    "y = np.random.randint(0, 2, 50)\n",
    "y_score = np.random.rand(50)\n",
    "calculate_eer(y, y_score)"
   ]
  }
 ],
 "metadata": {
  "jupytext": {
   "formats": "ipynb,py:light"
  },
  "kernelspec": {
   "display_name": "Python 3 (ipykernel)",
   "language": "python",
   "name": "python3"
  },
  "language_info": {
   "codemirror_mode": {
    "name": "ipython",
    "version": 3
   },
   "file_extension": ".py",
   "mimetype": "text/x-python",
   "name": "python",
   "nbconvert_exporter": "python",
   "pygments_lexer": "ipython3",
   "version": "3.9.16"
  }
 },
 "nbformat": 4,
 "nbformat_minor": 5
}
