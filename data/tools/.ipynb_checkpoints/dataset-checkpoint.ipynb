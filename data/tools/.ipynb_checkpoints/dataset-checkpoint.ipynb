{
 "cells": [
  {
   "cell_type": "code",
   "execution_count": 2,
   "id": "b22f5e04-839d-4db7-9a24-702445f8d907",
   "metadata": {
    "editable": true,
    "execution": {
     "iopub.execute_input": "2024-02-07T03:35:42.557444Z",
     "iopub.status.busy": "2024-02-07T03:35:42.556146Z",
     "iopub.status.idle": "2024-02-07T03:35:42.567475Z",
     "shell.execute_reply": "2024-02-07T03:35:42.566051Z",
     "shell.execute_reply.started": "2024-02-07T03:35:42.557357Z"
    },
    "slideshow": {
     "slide_type": ""
    }
   },
   "outputs": [],
   "source": [
    "\"\"\"Common preprocessing functions for audio data.\"\"\"\n",
    "import functools\n",
    "import logging\n",
    "import math\n",
    "import os\n",
    "import random\n",
    "from pathlib import Path\n",
    "from typing import Callable, List, Optional, Tuple, Union\n",
    "import inspect\n",
    "import librosa\n",
    "import numpy as np\n",
    "import pandas as pd\n",
    "import torch\n",
    "import torchaudio\n",
    "from torchaudio.functional import apply_codec"
   ]
  },
  {
   "cell_type": "code",
   "execution_count": 3,
   "id": "8b17ce9a-a02e-4f55-a293-3d5621e61fa6",
   "metadata": {
    "execution": {
     "iopub.execute_input": "2024-02-07T03:35:43.216716Z",
     "iopub.status.busy": "2024-02-07T03:35:43.216185Z",
     "iopub.status.idle": "2024-02-07T03:35:43.235682Z",
     "shell.execute_reply": "2024-02-07T03:35:43.234580Z",
     "shell.execute_reply.started": "2024-02-07T03:35:43.216682Z"
    },
    "lines_to_next_cell": 2
   },
   "outputs": [],
   "source": [
    "class WaveDataset(torch.utils.data.Dataset):\n",
    "    def __init__(\n",
    "        self,\n",
    "        data,\n",
    "        sample_rate: int = 16_000,\n",
    "        normalize: bool = True,\n",
    "        transform=None,\n",
    "        dtype='Tensor',\n",
    "        **kwargs,\n",
    "    ) -> None:\n",
    "        super().__init__()\n",
    "\n",
    "        self.data = data\n",
    "        self.sample_rate = sample_rate\n",
    "        self.normalize = normalize\n",
    "        self.transform = transform\n",
    "        self.dtype = dtype.lower()\n",
    "\n",
    "    def read_metadata(self, index: int) -> dict:\n",
    "        item = self.data.iloc[index]\n",
    "        keys = item.keys()\n",
    "        res = {\"sample_rate\": self.sample_rate}\n",
    "        if \"label\" in keys:\n",
    "            res[\"label\"] = item[\"label\"]\n",
    "        if \"name\" in keys:\n",
    "            res[\"name\"] = item[\"name\"]\n",
    "        else:\n",
    "            res[\"name\"] = item[\"audio_path\"]\n",
    "        if \"vocoder_label\" in keys:\n",
    "            res[\"vocoder_label\"] = item[\"vocoder_label\"]\n",
    "        else:\n",
    "            res[\"vocoder_label\"] = 0\n",
    "\n",
    "        res[\"speed_label\"] = 5\n",
    "        res[\"compression_label\"] = 0\n",
    "\n",
    "        if \"emotion_label\" in keys:\n",
    "            res[\"emotion_label\"] = item[\"emotion_label\"]\n",
    "        return res\n",
    "\n",
    "    def torch_load(self, path, fps):\n",
    "        if fps != self.sample_rate:\n",
    "            waveform, sample_rate = torchaudio.sox_effects.apply_effects_file(\n",
    "                path, [[\"rate\", f\"{self.sample_rate}\"]], normalize=self.normalize\n",
    "            )\n",
    "        else:\n",
    "            waveform, sample_rate = torchaudio.load(path, normalize=self.normalize)\n",
    "        return waveform\n",
    "\n",
    "    def numpy_load(self, path, fps):\n",
    "        waveform, sample_rate = librosa.load(path, sr=self.sample_rate)\n",
    "        waveform = waveform[None, :]\n",
    "        return waveform\n",
    "    \n",
    "    def read_audio(self, index: int) -> Tuple[torch.Tensor, int, int]:\n",
    "        item = self.data.iloc[index]\n",
    "\n",
    "        path = item[\"audio_path\"]\n",
    "        fps = item[\"audio_fps\"]\n",
    "\n",
    "        if self.dtype == 'tensor':\n",
    "            waveform = self.torch_load(path, fps)\n",
    "        else:\n",
    "            waveform = self.numpy_load(path, fps)\n",
    "\n",
    "        return waveform\n",
    "\n",
    "    def __getitem__(self, index: int):\n",
    "        waveform = self.read_audio(index)\n",
    "        res = self.read_metadata(index)\n",
    "\n",
    "        if self.transform is not None:\n",
    "            for t in self.transform:\n",
    "                if 'metadata' in inspect.getfullargspec(t).args:\n",
    "                    waveform = t(waveform, metadata=res)\n",
    "                else:\n",
    "                    waveform = t(waveform)\n",
    "\n",
    "        res[\"audio\"] = waveform\n",
    "        return res\n",
    "\n",
    "    def __len__(self) -> int:\n",
    "        return len(self.data)"
   ]
  }
 ],
 "metadata": {
  "jupytext": {
   "formats": "ipynb,py:light"
  },
  "kernelspec": {
   "display_name": "Python 3 (ipykernel)",
   "language": "python",
   "name": "python3"
  },
  "language_info": {
   "codemirror_mode": {
    "name": "ipython",
    "version": 3
   },
   "file_extension": ".py",
   "mimetype": "text/x-python",
   "name": "python",
   "nbconvert_exporter": "python",
   "pygments_lexer": "ipython3",
   "version": "3.9.18"
  }
 },
 "nbformat": 4,
 "nbformat_minor": 5
}
