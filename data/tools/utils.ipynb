{
 "cells": [
  {
   "cell_type": "code",
   "execution_count": 2,
   "id": "f491c439-d048-42d7-9c6f-ab3502f1212e",
   "metadata": {
    "execution": {
     "iopub.execute_input": "2023-07-10T01:54:51.458109Z",
     "iopub.status.busy": "2023-07-10T01:54:51.457411Z",
     "iopub.status.idle": "2023-07-10T01:54:51.465355Z",
     "shell.execute_reply": "2023-07-10T01:54:51.464178Z",
     "shell.execute_reply.started": "2023-07-10T01:54:51.458055Z"
    },
    "tags": []
   },
   "outputs": [],
   "source": [
    "from typing import List, Optional, Tuple\n",
    "\n",
    "import numpy as np\n",
    "import torch\n",
    "import torchaudio\n",
    "from einops import rearrange\n",
    "from torch import Tensor\n",
    "from torch.nn import Module\n",
    "from torch.nn import functional as F"
   ]
  },
  {
   "cell_type": "code",
   "execution_count": null,
   "id": "0236cc40-ec35-4b63-9a33-e123e727e1ee",
   "metadata": {},
   "outputs": [],
   "source": [
    "def padding_audio(\n",
    "    tensor: Tensor,\n",
    "    target: int,\n",
    "    padding_method: str = \"zero\",\n",
    "    padding_position: str = \"tail\",\n",
    ") -> Tensor:\n",
    "    c, t = tensor.shape\n",
    "    padding_size = target - t\n",
    "    pad = _get_padding_pair(padding_size, padding_position)\n",
    "\n",
    "    \n",
    "    if padding_method == \"zero\":\n",
    "        return F.pad(tensor, pad=pad)\n",
    "    elif padding_method == \"same\":\n",
    "        tensor = rearrange(tensor, \"t c -> 1 c t\")\n",
    "        tensor = F.pad(tensor, pad=pad, mode=\"replicate\")\n",
    "        return rearrange(tensor, \"1 c t -> t c\")\n",
    "    else:\n",
    "        raise ValueError(\"Wrong padding method. It should be zero or tail or average.\")\n",
    "\n",
    "\n",
    "def _get_padding_pair(padding_size: int, padding_position: str) -> List[int]:\n",
    "    if padding_position == \"tail\":\n",
    "        pad = [0, padding_size]\n",
    "    elif padding_position == \"head\":\n",
    "        pad = [padding_size, 0]\n",
    "    elif padding_position == \"average\":\n",
    "        padding_head = padding_size // 2\n",
    "        padding_tail = padding_size - padding_head\n",
    "        pad = [padding_head, padding_tail]\n",
    "    else:\n",
    "        raise ValueError(\n",
    "            \"Wrong padding position. It should be zero or tail or average.\"\n",
    "        )\n",
    "    return pad"
   ]
  },
  {
   "cell_type": "code",
   "execution_count": 3,
   "id": "b5396867-02ee-47b8-9de1-df5742901281",
   "metadata": {
    "execution": {
     "iopub.execute_input": "2023-07-10T03:18:00.742218Z",
     "iopub.status.busy": "2023-07-10T03:18:00.732237Z",
     "iopub.status.idle": "2023-07-10T03:18:00.866182Z",
     "shell.execute_reply": "2023-07-10T03:18:00.864768Z",
     "shell.execute_reply.started": "2023-07-10T03:18:00.741877Z"
    },
    "tags": []
   },
   "outputs": [],
   "source": [
    "def iou_with_anchors(anchors_min, anchors_max, box_min, box_max):\n",
    "    \"\"\"Compute jaccard score between a box and the anchors.\"\"\"\n",
    "\n",
    "    len_anchors = anchors_max - anchors_min\n",
    "    int_xmin = np.maximum(anchors_min, box_min)\n",
    "    int_xmax = np.minimum(anchors_max, box_max)\n",
    "    inter_len = np.maximum(int_xmax - int_xmin, 0.)\n",
    "    union_len = len_anchors - inter_len + box_max - box_min\n",
    "    iou = inter_len / union_len\n",
    "    return iou\n",
    "\n",
    "\n",
    "def ioa_with_anchors(anchors_min, anchors_max, box_min, box_max):\n",
    "    # calculate the overlap proportion between the anchor and all bbox for supervise signal,\n",
    "    # the length of the anchor is 0.01\n",
    "    len_anchors = anchors_max - anchors_min\n",
    "    int_xmin = np.maximum(anchors_min, box_min)\n",
    "    int_xmax = np.minimum(anchors_max, box_max)\n",
    "    inter_len = np.maximum(int_xmax - int_xmin, 0.)\n",
    "    scores = np.divide(inter_len, len_anchors)\n",
    "    return scores\n"
   ]
  }
 ],
 "metadata": {
  "jupytext": {
   "formats": "ipynb,auto:light"
  },
  "kernelspec": {
   "display_name": "Python 3 (ipykernel)",
   "language": "python",
   "name": "python3"
  },
  "language_info": {
   "codemirror_mode": {
    "name": "ipython",
    "version": 3
   },
   "file_extension": ".py",
   "mimetype": "text/x-python",
   "name": "python",
   "nbconvert_exporter": "python",
   "pygments_lexer": "ipython3",
   "version": "3.9.16"
  }
 },
 "nbformat": 4,
 "nbformat_minor": 5
}
