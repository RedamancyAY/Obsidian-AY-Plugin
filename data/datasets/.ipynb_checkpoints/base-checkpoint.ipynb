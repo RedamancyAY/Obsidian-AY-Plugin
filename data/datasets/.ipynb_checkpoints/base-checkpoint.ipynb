{
 "cells": [
  {
   "cell_type": "code",
   "execution_count": 1,
   "id": "b556660a-1f8f-48d0-a297-1ed3d941ad14",
   "metadata": {
    "execution": {
     "iopub.execute_input": "2023-07-02T09:08:39.525041Z",
     "iopub.status.busy": "2023-07-02T09:08:39.524642Z",
     "iopub.status.idle": "2023-07-02T09:08:39.548990Z",
     "shell.execute_reply": "2023-07-02T09:08:39.548405Z",
     "shell.execute_reply.started": "2023-07-02T09:08:39.525007Z"
    },
    "tags": []
   },
   "outputs": [],
   "source": [
    "%load_ext autoreload\n",
    "%autoreload 2"
   ]
  },
  {
   "cell_type": "code",
   "execution_count": 4,
   "id": "ad89baa0-6ccb-4933-95dd-97e4ace5a59a",
   "metadata": {
    "editable": true,
    "execution": {
     "iopub.execute_input": "2023-07-02T09:08:44.222345Z",
     "iopub.status.busy": "2023-07-02T09:08:44.221655Z",
     "iopub.status.idle": "2023-07-02T09:08:44.246427Z",
     "shell.execute_reply": "2023-07-02T09:08:44.245790Z",
     "shell.execute_reply.started": "2023-07-02T09:08:44.222306Z"
    },
    "slideshow": {
     "slide_type": ""
    },
    "tags": []
   },
   "outputs": [],
   "source": [
    "import json\n",
    "import os\n",
    "from enum import Enum\n",
    "from typing import Union\n",
    "\n",
    "import pandas as pd\n",
    "from ay.common.audio import get_fps_len\n",
    "from ay.tools import check_dir, read_file_paths_from_folder, to_list\n",
    "from ay.tools.pandas import DF_spliter\n",
    "from pandarallel import pandarallel\n",
    "from tqdm.auto import tqdm"
   ]
  },
  {
   "cell_type": "markdown",
   "id": "7a4c0bd2-1382-4ff7-af31-b9ee29d9af79",
   "metadata": {},
   "source": [
    "---"
   ]
  },
  {
   "cell_type": "code",
   "execution_count": 10,
   "id": "7bb2741c-3c6c-4bb8-a78c-665019a4c584",
   "metadata": {
    "editable": true,
    "execution": {
     "iopub.execute_input": "2023-06-30T02:45:04.868490Z",
     "iopub.status.busy": "2023-06-30T02:45:04.867868Z",
     "iopub.status.idle": "2023-06-30T02:45:04.917953Z",
     "shell.execute_reply": "2023-06-30T02:45:04.917236Z",
     "shell.execute_reply.started": "2023-06-30T02:45:04.868442Z"
    },
    "slideshow": {
     "slide_type": ""
    },
    "tags": []
   },
   "outputs": [],
   "source": [
    "class Base:\n",
    "    def __init__(self, root_path):\n",
    "        \"\"\"\n",
    "        When crate a entry of WaveFake, it will read all the metadatas from the root_path\n",
    "\n",
    "        Args:\n",
    "            root_path: the path of WaveFake dataset. Note that the path must contain \"/WaveFake/\"\n",
    "        \"\"\"\n",
    "\n",
    "        self.root_path = root_path if not root_path.endswith(\"/\") else root_path[:-2]\n",
    "        self.data = self.read_metadata(self.root_path)\n",
    "\n",
    "    def read_emotion_label(self):\n",
    "        emotion_path = os.path.join(self.root_path, \"emotion.json\")\n",
    "\n",
    "        # read json file and convert to Dataframe\n",
    "        with open(emotion_path, \"r\") as file:\n",
    "            json_data = json.load(file)\n",
    "            res = dict(json_data)\n",
    "\n",
    "        path = res.keys()\n",
    "        emotion = [res[p] for p in path]\n",
    "        data = pd.DataFrame([path, emotion]).transpose()\n",
    "        data.columns = [\"path\", \"emotion_label\"]\n",
    "\n",
    "        dataset_name = self.root_path.split(\"/\")[-1]\n",
    "        data[\"path\"] = data[\"path\"].apply(\n",
    "            lambda x: os.path.join(self.root_path, x.split(dataset_name + \"/\")[1])\n",
    "        )\n",
    "        self.data = pd.merge(self.data, data, on=\"path\")\n",
    "\n",
    "    def read_fps_length(self, data: pd.DataFrame) -> pd.DataFrame:\n",
    "        pandarallel.initialize(progress_bar=True, nb_workers=20)\n",
    "        data[[\"fps\", \"length\"]] = data.parallel_apply(\n",
    "            lambda x: tuple(get_fps_len(x[\"path\"])), axis=1, result_type=\"expand\"\n",
    "        )\n",
    "        return data\n",
    "\n",
    "    def read_metadata(self, root_path):\n",
    "        \"\"\"\n",
    "        read all the metadatas of audio files from the root_path\n",
    "        \"\"\"\n",
    "        raise NotImplementedError\n",
    "\n",
    "    def split_data(self, data: pd.DataFrame = None, splits=[0.6, 0.2, 0.2]):\n",
    "        if data is None:\n",
    "            data = self.data\n",
    "        sub_datas = DF_spliter.split_df(data, splits)\n",
    "\n",
    "        return Dataset(\n",
    "            train=sub_datas[0],\n",
    "            test=sub_datas[-1],\n",
    "            val=None if len(splits) == 2 else sub_datas[1],\n",
    "        )"
   ]
  }
 ],
 "metadata": {
  "jupytext": {
   "formats": "ipynb,py:light"
  },
  "kernelspec": {
   "display_name": "Python 3 (ipykernel)",
   "language": "python",
   "name": "python3"
  },
  "language_info": {
   "codemirror_mode": {
    "name": "ipython",
    "version": 3
   },
   "file_extension": ".py",
   "mimetype": "text/x-python",
   "name": "python",
   "nbconvert_exporter": "python",
   "pygments_lexer": "ipython3",
   "version": "3.9.16"
  }
 },
 "nbformat": 4,
 "nbformat_minor": 5
}
