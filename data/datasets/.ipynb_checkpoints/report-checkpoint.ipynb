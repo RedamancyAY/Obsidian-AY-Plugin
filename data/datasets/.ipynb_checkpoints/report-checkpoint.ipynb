{
 "cells": [
  {
   "cell_type": "code",
   "execution_count": null,
   "id": "a65fa6ae-11e4-4f5d-aec9-d6face818041",
   "metadata": {
    "tags": []
   },
   "outputs": [],
   "source": [
    "%load_ext autoreload\n",
    "%autoreload 2"
   ]
  },
  {
   "cell_type": "code",
   "execution_count": 63,
   "id": "46be005b-4254-4f95-821a-897525881971",
   "metadata": {
    "execution": {
     "iopub.execute_input": "2023-06-05T07:44:26.165618Z",
     "iopub.status.busy": "2023-06-05T07:44:26.165020Z",
     "iopub.status.idle": "2023-06-05T07:44:26.206354Z",
     "shell.execute_reply": "2023-06-05T07:44:26.205580Z",
     "shell.execute_reply.started": "2023-06-05T07:44:26.165565Z"
    },
    "tags": []
   },
   "outputs": [],
   "source": [
    "from add2023 import ADD2023\n",
    "import pandas as pd\n",
    "import math"
   ]
  },
  {
   "cell_type": "code",
   "execution_count": null,
   "id": "dae0694e-969f-45de-bef7-71e17a8eed44",
   "metadata": {
    "tags": []
   },
   "outputs": [],
   "source": [
    "add2023 = ADD2023(root_path=\"/home/ay/data/ADD2023\")\n",
    "test1 = add2023.read_test_metedata(track=\"1.2\", test_round=1, generate_metadata=False)\n",
    "test2 = add2023.read_test_metedata(track=\"1.2\", test_round=2, generate_metadata=False)\n",
    "dev = add2023.read_train_dev_metadata(\n",
    "    track=\"1.2\",\n",
    "    train_or_dev=\"dev\",\n",
    ")\n",
    "train = add2023.read_train_dev_metadata(\n",
    "    track=\"1.2\",\n",
    "    train_or_dev=\"train\",\n",
    ")"
   ]
  },
  {
   "cell_type": "code",
   "execution_count": null,
   "id": "85fea12f-b741-4ec3-bdfe-7e086814d929",
   "metadata": {
    "tags": []
   },
   "outputs": [],
   "source": [
    "data = test2"
   ]
  },
  {
   "cell_type": "code",
   "execution_count": 125,
   "id": "6501436f-4f05-40de-94ff-4d72d7707cc1",
   "metadata": {
    "execution": {
     "iopub.execute_input": "2023-06-05T09:17:34.676222Z",
     "iopub.status.busy": "2023-06-05T09:17:34.675128Z",
     "iopub.status.idle": "2023-06-05T09:17:35.680029Z",
     "shell.execute_reply": "2023-06-05T09:17:35.679299Z",
     "shell.execute_reply.started": "2023-06-05T09:17:34.676172Z"
    },
    "tags": []
   },
   "outputs": [
    {
     "name": "stdout",
     "output_type": "stream",
     "text": [
      "There are 27084 audios in train set\n",
      "    Max second is 60.0125\n",
      "    Min second is 0.8625\n",
      "There are 28324 audios in dev set\n",
      "    Max second is 60.0125\n",
      "    Min second is 0.8600\n",
      "There are 111976 audios in test round1 set\n",
      "    Max second is 217.4999\n",
      "    Min second is 0.3499\n",
      "There are 118477 audios in test round2 set\n",
      "    Max second is 217.2199\n",
      "    Min second is 0.3499\n"
     ]
    }
   ],
   "source": [
    "sets = ['train', 'dev', 'test round1', 'test round2']\n",
    "for i, data in enumerate([train, dev, test1, test2]):\n",
    "    print('There are %d audios in %s set'%(len(data), sets[i]))\n",
    "    \n",
    "    data[\"sec\"] = data.apply(lambda x: x[\"length\"] / 16000, axis=1)\n",
    "    max_sec = data['sec'].max()\n",
    "    min_sec = data['sec'].min()\n",
    "    print('    Max second is %.4f'%(max_sec))\n",
    "    print('    Min second is %.4f'%(min_sec))    "
   ]
  },
  {
   "cell_type": "code",
   "execution_count": 131,
   "id": "a028d2dc-82b9-4dff-ad20-bf7500dbfa47",
   "metadata": {
    "execution": {
     "iopub.execute_input": "2023-06-05T09:18:54.755714Z",
     "iopub.status.busy": "2023-06-05T09:18:54.754675Z",
     "iopub.status.idle": "2023-06-05T09:18:55.213561Z",
     "shell.execute_reply": "2023-06-05T09:18:55.212737Z",
     "shell.execute_reply.started": "2023-06-05T09:18:54.755677Z"
    },
    "tags": []
   },
   "outputs": [],
   "source": [
    "data[\"sec\"] = data.apply(lambda x: x[\"length\"] // 16000, axis=1)\n",
    "t = data.groupby([\"sec\"]).count().sort_values('length',ascending=False)['length']\n",
    "\n",
    "# .sort_values('length',ascending=False).head(10)"
   ]
  },
  {
   "cell_type": "code",
   "execution_count": 135,
   "id": "b7b2ca18-a15d-4fa7-a1a5-a3bfe5963506",
   "metadata": {
    "execution": {
     "iopub.execute_input": "2023-06-05T09:19:31.321862Z",
     "iopub.status.busy": "2023-06-05T09:19:31.320769Z",
     "iopub.status.idle": "2023-06-05T09:19:31.350675Z",
     "shell.execute_reply": "2023-06-05T09:19:31.349607Z",
     "shell.execute_reply.started": "2023-06-05T09:19:31.321806Z"
    },
    "tags": []
   },
   "outputs": [
    {
     "data": {
      "text/plain": [
       "sec\n",
       "2      0.237143\n",
       "1      0.230213\n",
       "3      0.169864\n",
       "4      0.085772\n",
       "5      0.047503\n",
       "         ...   \n",
       "122    0.000008\n",
       "120    0.000008\n",
       "116    0.000008\n",
       "115    0.000008\n",
       "217    0.000008\n",
       "Name: length, Length: 129, dtype: float64"
      ]
     },
     "execution_count": 135,
     "metadata": {},
     "output_type": "execute_result"
    }
   ],
   "source": [
    "t.apply(lambda x: x / len(data))"
   ]
  },
  {
   "cell_type": "code",
   "execution_count": 136,
   "id": "0c1ecf48-2424-4ecf-8156-c7cb8d70a644",
   "metadata": {
    "execution": {
     "iopub.execute_input": "2023-06-05T09:21:52.756788Z",
     "iopub.status.busy": "2023-06-05T09:21:52.756451Z",
     "iopub.status.idle": "2023-06-05T09:21:52.780066Z",
     "shell.execute_reply": "2023-06-05T09:21:52.779334Z",
     "shell.execute_reply.started": "2023-06-05T09:21:52.756772Z"
    },
    "tags": []
   },
   "outputs": [
    {
     "data": {
      "text/plain": [
       "28096"
      ]
     },
     "execution_count": 136,
     "metadata": {},
     "output_type": "execute_result"
    }
   ],
   "source": [
    "t[2]"
   ]
  },
  {
   "cell_type": "code",
   "execution_count": null,
   "id": "b752c9ae-853b-41fb-ba79-91cb687d9624",
   "metadata": {},
   "outputs": [],
   "source": []
  }
 ],
 "metadata": {
  "kernelspec": {
   "display_name": "Python 3 (ipykernel)",
   "language": "python",
   "name": "python3"
  },
  "language_info": {
   "codemirror_mode": {
    "name": "ipython",
    "version": 3
   },
   "file_extension": ".py",
   "mimetype": "text/x-python",
   "name": "python",
   "nbconvert_exporter": "python",
   "pygments_lexer": "ipython3",
   "version": "3.9.16"
  }
 },
 "nbformat": 4,
 "nbformat_minor": 5
}
