{
 "cells": [
  {
   "cell_type": "code",
   "execution_count": 1,
   "id": "f73c69f1-d798-4a9a-ac75-d05fa8b987c5",
   "metadata": {
    "execution": {
     "iopub.execute_input": "2023-07-13T07:32:21.914739Z",
     "iopub.status.busy": "2023-07-13T07:32:21.913720Z",
     "iopub.status.idle": "2023-07-13T07:32:21.941882Z",
     "shell.execute_reply": "2023-07-13T07:32:21.941067Z",
     "shell.execute_reply.started": "2023-07-13T07:32:21.914689Z"
    },
    "tags": []
   },
   "outputs": [],
   "source": [
    "%load_ext autoreload\n",
    "%autoreload 2"
   ]
  },
  {
   "cell_type": "code",
   "execution_count": 2,
   "id": "bc6205c0-7663-4439-b705-32fed4280c39",
   "metadata": {
    "execution": {
     "iopub.execute_input": "2023-07-13T07:32:23.091965Z",
     "iopub.status.busy": "2023-07-13T07:32:23.090776Z",
     "iopub.status.idle": "2023-07-13T07:32:25.246748Z",
     "shell.execute_reply": "2023-07-13T07:32:25.245964Z",
     "shell.execute_reply.started": "2023-07-13T07:32:23.091907Z"
    },
    "tags": []
   },
   "outputs": [],
   "source": [
    "import os\n",
    "import random\n",
    "from enum import Enum\n",
    "from typing import NamedTuple, Union\n",
    "\n",
    "import numpy as np\n",
    "import pandas as pd\n",
    "from ay.common.audio import get_fps_len\n",
    "from ay.tools import check_dir, read_file_paths_from_folder, to_list\n",
    "from ay.tools.pandas import DF_spliter\n",
    "from pandarallel import pandarallel\n",
    "from tqdm.auto import tqdm"
   ]
  },
  {
   "cell_type": "markdown",
   "id": "6b11711b-4d03-4c43-a3a0-ca3db95b3e3a",
   "metadata": {},
   "source": [
    "This dataset only contains the audio tracks of the LAV-DF, which contains the following file architecture\n",
    "- train (train set of LAV-DF)\n",
    "  - xxxxxx.wav\n",
    "  - ...\n",
    "- dev (dev set of LAV-DF)\n",
    "  - xxxxxx.wav\n",
    "  - ...\n",
    "- test (test set of LAV-DF)\n",
    "  - xxxxxx.wav\n",
    "  - ...\n",
    "- metadata.json (Full metadata file)\n",
    "- metadata.min.json (Min metadata file for quick loading)\n",
    "- README.md (This file)"
   ]
  },
  {
   "cell_type": "markdown",
   "id": "cca3bba9-1f69-4fba-9ac1-4c212bb4a938",
   "metadata": {},
   "source": [
    "| | Train | Val | Test|\n",
    "|-|-|-|-|\n",
    "|0|38178 | 15410 | 12742|\n",
    "|1|40525|16091| 13358|\n",
    "|Total| 78703| 31501|26100|"
   ]
  },
  {
   "cell_type": "markdown",
   "id": "02b1a757-c8ca-4b6f-afca-f862503de5ca",
   "metadata": {},
   "source": [
    "<center><img src=\"https://raw.githubusercontent.com/RedamancyAY/CloudImage/main/imgCleanShot 2023-07-07 at 10.04.46@2x.png\" width=\"400\" alt=\"CleanShot 2023-07-07 at 10.04.46@2x\"/></center>"
   ]
  },
  {
   "cell_type": "markdown",
   "id": "e4d2459f-aa99-4748-820f-cef9acce31df",
   "metadata": {},
   "source": [
    "|        | path                                                     | split   |   label |   n_fakes | fake_periods                    |   audio_frames |   duration |\n",
    "|-------:|:---------------------------------------------------------|:--------|--------:|----------:|:--------------------------------|---------------:|-----------:|\n",
    "|  93425 | /home/ay/data/0-原始数据集/LAV-DF-Audio/test/094691.wav  | test    |       0 |         1 | [[1.0, 1.634]]                  |         110592 |      7.04  |\n",
    "|  67199 | /home/ay/data/0-原始数据集/LAV-DF-Audio/dev/068122.wav   | val     |       0 |         1 | [[1.1, 1.404]]                  |          82944 |      5.312 |\n",
    "| 119712 | /home/ay/data/0-原始数据集/LAV-DF-Audio/dev/121264.wav   | val     |       1 |         0 | []                              |          84992 |      5.44  |\n",
    "|  86877 | /home/ay/data/0-原始数据集/LAV-DF-Audio/train/088063.wav | train   |       0 |         1 | [[2.8, 3.44]]                   |          84992 |      5.44  |\n",
    "|  28357 | /home/ay/data/0-原始数据集/LAV-DF-Audio/train/028885.wav | train   |       1 |         0 | []                              |         166912 |     10.56  |\n",
    "| 123192 | /home/ay/data/0-原始数据集/LAV-DF-Audio/train/124789.wav | train   |       1 |         0 | []                              |          87040 |      5.568 |\n",
    "| 111776 | /home/ay/data/0-原始数据集/LAV-DF-Audio/train/113209.wav | train   |       0 |         1 | [[2.9, 3.564]]                  |         212992 |     13.44  |\n",
    "|   1261 | /home/ay/data/0-原始数据集/LAV-DF-Audio/test/001269.wav  | test    |       0 |         2 | [[6.5, 7.324], [9.324, 10.228]] |         191488 |     12.096 |\n",
    "| 105628 | /home/ay/data/0-原始数据集/LAV-DF-Audio/train/106944.wav | train   |       0 |         1 | [[1.4, 2.664]]                  |          87040 |      5.568 |\n",
    "|  12182 | /home/ay/data/0-原始数据集/LAV-DF-Audio/dev/012425.wav   | val     |       0 |         1 | [[2.3, 3.234]]                  |         166912 |     10.56  |"
   ]
  },
  {
   "cell_type": "code",
   "execution_count": 3,
   "id": "b7979871-4938-4c96-9e94-6d063fecee95",
   "metadata": {
    "execution": {
     "iopub.execute_input": "2023-07-13T07:32:25.714889Z",
     "iopub.status.busy": "2023-07-13T07:32:25.714428Z",
     "iopub.status.idle": "2023-07-13T07:32:25.736880Z",
     "shell.execute_reply": "2023-07-13T07:32:25.736211Z",
     "shell.execute_reply.started": "2023-07-13T07:32:25.714868Z"
    },
    "tags": []
   },
   "outputs": [],
   "source": [
    "class Dataset(NamedTuple):\n",
    "    train: pd.DataFrame\n",
    "    test: pd.DataFrame\n",
    "    val: pd.DataFrame = None"
   ]
  },
  {
   "cell_type": "code",
   "execution_count": 4,
   "id": "2b41d2f4-1295-4ea7-886b-7697d317d0f2",
   "metadata": {
    "execution": {
     "iopub.execute_input": "2023-07-13T07:32:27.160047Z",
     "iopub.status.busy": "2023-07-13T07:32:27.158942Z",
     "iopub.status.idle": "2023-07-13T07:32:27.200052Z",
     "shell.execute_reply": "2023-07-13T07:32:27.199386Z",
     "shell.execute_reply.started": "2023-07-13T07:32:27.159998Z"
    },
    "tags": []
   },
   "outputs": [],
   "source": [
    "class LAV_DF_Audio:\n",
    "    def __init__(self, root_path):\n",
    "        self.root_path = root_path\n",
    "        self.data = self.read_metadata()\n",
    "\n",
    "    def read_metadata(self):\n",
    "        data = pd.read_json(os.path.join(self.root_path, \"metadata.min.json\"))\n",
    "        data[\"path\"] = data[\"file\"].apply(\n",
    "            lambda x: os.path.join(self.root_path, x.replace(\"mp4\", \"wav\"))\n",
    "        )\n",
    "        data[\"label\"] = data[\"modify_audio\"].apply(lambda x: 0 if x else 1)\n",
    "        data['fake_periods'] = data.apply(lambda x: x['fake_periods'] if not x['label'] else [], axis=1)\n",
    "        data['n_fakes'] = data.apply(lambda x: x['n_fakes'] if not x['label'] else 0, axis=1)\n",
    "        data['split'] = data['split'].replace('dev', 'val')\n",
    "        data['fps'] = 16_000\n",
    "        data = data[\n",
    "            [\n",
    "                \"file\",\n",
    "                \"path\",\n",
    "                \"split\",\n",
    "                \"label\",\n",
    "                \"n_fakes\",\n",
    "                \"fake_periods\",\n",
    "                \"audio_frames\",\n",
    "                \"duration\",\n",
    "                \"fps\"\n",
    "            ]\n",
    "        ]\n",
    "\n",
    "        return data\n",
    "    \n",
    "    def get_splits(self, *kargs, **kwargs):\n",
    "        res = {}\n",
    "        for split in ['train', 'val', 'test']:\n",
    "            res[split] = self.data.query(f\"split == '{split}'\")\n",
    "        return Dataset(**res)"
   ]
  },
  {
   "cell_type": "code",
   "execution_count": 29,
   "id": "a3ddd172-37dc-4bda-96b3-960bd0e1eb0a",
   "metadata": {
    "execution": {
     "iopub.execute_input": "2023-07-13T07:40:38.158770Z",
     "iopub.status.busy": "2023-07-13T07:40:38.158196Z",
     "iopub.status.idle": "2023-07-13T07:40:41.455659Z",
     "shell.execute_reply": "2023-07-13T07:40:41.454859Z",
     "shell.execute_reply.started": "2023-07-13T07:40:38.158724Z"
    },
    "tags": [
     "active-ipynb"
    ]
   },
   "outputs": [],
   "source": [
    "lav_df = LAV_DF_Audio(root_path= \"/home/ay/data/0-原始数据集/LAV-DF-Audio\")\n",
    "datas = lav_df.get_splits()"
   ]
  },
  {
   "cell_type": "code",
   "execution_count": 35,
   "id": "7bbc5ef6-d837-45cd-b687-849249b11c02",
   "metadata": {
    "editable": true,
    "execution": {
     "iopub.execute_input": "2023-07-13T07:58:26.635697Z",
     "iopub.status.busy": "2023-07-13T07:58:26.635094Z",
     "iopub.status.idle": "2023-07-13T07:58:26.988956Z",
     "shell.execute_reply": "2023-07-13T07:58:26.988206Z",
     "shell.execute_reply.started": "2023-07-13T07:58:26.635647Z"
    },
    "slideshow": {
     "slide_type": ""
    },
    "tags": [
     "active-ipynb"
    ]
   },
   "outputs": [
    {
     "data": {
      "image/png": "[encoded data removed]",
      "text/plain": [
       "<Figure size 640x480 with 1 Axes>"
      ]
     },
     "metadata": {},
     "output_type": "display_data"
    }
   ],
   "source": [
    "%matplotlib inline\n",
    "import matplotlib.pyplot as plt\n",
    "counts = lav_df.data['audio_frames'].value_counts()\n",
    "plt.bar(list(counts.index), list(counts.values))\n",
    "\n",
    "# 添加标签和标题\n",
    "plt.xlabel('Name')\n",
    "plt.ylabel('Count')\n",
    "plt.title('Frequency of Names')\n",
    "plt.show()"
   ]
  }
 ],
 "metadata": {
  "jupytext": {
   "formats": "ipynb,py:light"
  },
  "kernelspec": {
   "display_name": "Python 3 (ipykernel)",
   "language": "python",
   "name": "python3"
  },
  "language_info": {
   "codemirror_mode": {
    "name": "ipython",
    "version": 3
   },
   "file_extension": ".py",
   "mimetype": "text/x-python",
   "name": "python",
   "nbconvert_exporter": "python",
   "pygments_lexer": "ipython3",
   "version": "3.9.16"
  }
 },
 "nbformat": 4,
 "nbformat_minor": 5
}
