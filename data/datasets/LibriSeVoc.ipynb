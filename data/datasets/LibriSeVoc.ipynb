{
 "cells": [
  {
   "cell_type": "code",
   "execution_count": 1,
   "id": "81ae537c-b46d-491b-9395-e5c53b984530",
   "metadata": {
    "execution": {
     "iopub.execute_input": "2023-07-14T08:04:10.278411Z",
     "iopub.status.busy": "2023-07-14T08:04:10.277737Z",
     "iopub.status.idle": "2023-07-14T08:04:10.314829Z",
     "shell.execute_reply": "2023-07-14T08:04:10.313493Z",
     "shell.execute_reply.started": "2023-07-14T08:04:10.278278Z"
    }
   },
   "outputs": [],
   "source": [
    "%load_ext autoreload\n",
    "%autoreload 2"
   ]
  },
  {
   "cell_type": "code",
   "execution_count": 1,
   "id": "1d94dc55-da84-4362-b137-689ce8b8e316",
   "metadata": {
    "execution": {
     "iopub.execute_input": "2023-07-20T13:47:14.222501Z",
     "iopub.status.busy": "2023-07-20T13:47:14.222020Z",
     "iopub.status.idle": "2023-07-20T13:47:16.399865Z",
     "shell.execute_reply": "2023-07-20T13:47:16.398498Z",
     "shell.execute_reply.started": "2023-07-20T13:47:14.222455Z"
    }
   },
   "outputs": [],
   "source": [
    "import os\n",
    "import random\n",
    "from enum import Enum\n",
    "from typing import NamedTuple, Union\n",
    "from argparse import Namespace\n",
    "import numpy as np\n",
    "import pandas as pd\n",
    "from ay2.common.audio import get_fps_len\n",
    "from ay2.tools import check_dir, read_file_paths_from_folder, to_list\n",
    "from ay2.tools.pandas import DF_spliter\n",
    "from pandarallel import pandarallel\n",
    "from tqdm.auto import tqdm"
   ]
  },
  {
   "cell_type": "code",
   "execution_count": null,
   "id": "ee0246df-e64e-4823-91fe-a00bdf6117f2",
   "metadata": {},
   "outputs": [],
   "source": [
    "from .base import Base"
   ]
  },
  {
   "cell_type": "code",
   "execution_count": 3,
   "id": "fff1df66-731e-4cfa-b112-4f2d6916b389",
   "metadata": {
    "editable": true,
    "execution": {
     "iopub.execute_input": "2023-07-14T08:04:13.198426Z",
     "iopub.status.busy": "2023-07-14T08:04:13.197721Z",
     "iopub.status.idle": "2023-07-14T08:04:13.232238Z",
     "shell.execute_reply": "2023-07-14T08:04:13.231270Z",
     "shell.execute_reply.started": "2023-07-14T08:04:13.198378Z"
    },
    "slideshow": {
     "slide_type": ""
    },
    "tags": [
     "style-activity",
     "active-ipynb"
    ]
   },
   "outputs": [],
   "source": [
    "from base import Base"
   ]
  },
  {
   "cell_type": "code",
   "execution_count": 4,
   "id": "356640bf-7d04-42e8-aa16-819f0cfd023a",
   "metadata": {
    "execution": {
     "iopub.execute_input": "2023-07-14T08:04:13.233004Z",
     "iopub.status.busy": "2023-07-14T08:04:13.232861Z",
     "iopub.status.idle": "2023-07-14T08:04:13.258218Z",
     "shell.execute_reply": "2023-07-14T08:04:13.257569Z",
     "shell.execute_reply.started": "2023-07-14T08:04:13.232991Z"
    }
   },
   "outputs": [],
   "source": [
    "class Dataset(NamedTuple):\n",
    "    train: pd.DataFrame\n",
    "    test: pd.DataFrame\n",
    "    val: pd.DataFrame = None"
   ]
  },
  {
   "cell_type": "markdown",
   "id": "c55ee4c5-35e1-432c-97b5-2444d3181186",
   "metadata": {},
   "source": [
    "---"
   ]
  },
  {
   "cell_type": "markdown",
   "id": "578eddfc-e62c-4d2b-97a1-98150a4bb625",
   "metadata": {},
   "source": [
    "## 数据集"
   ]
  },
  {
   "cell_type": "markdown",
   "id": "93a2116b-ba48-415b-bf66-04191e085021",
   "metadata": {},
   "source": [
    "| method            |   Number |\n",
    "|:------------------|-----------:|\n",
    "| diffwave          |      13201 |\n",
    "| gt                |      13201 |\n",
    "| melgan            |      13201 |\n",
    "| parallel_wave_gan |      13201 |\n",
    "| wavegrad          |      13201 |\n",
    "| wavenet           |      13201 |\n",
    "| wavernn           |      13201 |"
   ]
  },
  {
   "cell_type": "markdown",
   "id": "20cc1f5e-b115-41f6-b09d-17280594ff2c",
   "metadata": {},
   "source": [
    "|       | filename                                            | method            |   fps |       length |   label |                        id | path   |\n",
    "|------:|:----------------------------------------------------|:------------------|------:|-------------:|--------:|--------------------------:|:-------|\n",
    "| 38796 | melgan/8580_287363_000011_000000_gen.wav            | melgan            | 24000 | 266240       |       0 | 8580_287363_000011_000000 | ...    |\n",
    "| 24380 | gt/8014_112602_000001_000001.wav                    | gt                | 24000 | 308640       |       1 | 8014_112602_000001_000001 | ...    |\n",
    "| 92137 | wavernn/87_121553_000211_000000_gen.wav             | wavernn           | 24000 | 158400       |       0 |   87_121553_000211_000000 | ...    |\n",
    "| 58298 | wavegrad/4195_186237_000007_000001_gen.wav          | wavegrad          | 24000 |      7.4625  |       0 | 4195_186237_000007_000001 | ...    |\n",
    "| 11779 | diffwave/8123_275216_000052_000002_gen.wav          | diffwave          | 24000 |     11.4773  |       0 | 8123_275216_000052_000002 | ...    |\n",
    "| 65071 | wavegrad/8465_246947_000013_000000_gen.wav          | wavegrad          | 24000 |      5.2625  |       0 | 8465_246947_000013_000000 | ...    |\n",
    "|  8286 | diffwave/6272_70191_000024_000006_gen.wav           | diffwave          | 24000 |      8.87467 |       0 |  6272_70191_000024_000006 | ...    |\n",
    "| 52573 | parallel_wave_gan/8838_298545_000023_000001_gen.wav | parallel_wave_gan | 24000 | 171008       |       0 | 8838_298545_000023_000001 | ...    |\n",
    "|  8561 | diffwave/6415_111615_000019_000003_gen.wav          | diffwave          | 24000 |     10.4747  |       0 | 6415_111615_000019_000003 | ...    |\n",
    "| 38585 | melgan/8324_286681_000012_000002_gen.wav            | melgan            | 24000 | 229888       |       0 | 8324_286681_000012_000002 | ...    |\n"
   ]
  },
  {
   "cell_type": "markdown",
   "id": "c28f4b89-024a-40c2-9d33-2dd1d8c5ee42",
   "metadata": {},
   "source": [
    "<center><img src=\"https://raw.githubusercontent.com/RedamancyAY/CloudImage/main/imgCleanShot 2023-06-30 at 16.51.10@2x.png\" width=\"800\" alt=\"CleanShot 2023-06-30 at 16.51.10@2x\"/></center>"
   ]
  },
  {
   "cell_type": "markdown",
   "id": "9809b84b-90c9-42f4-a936-712187cfcdfe",
   "metadata": {},
   "source": [
    "共92407个音频样本，共有6个vocoders。"
   ]
  },
  {
   "cell_type": "code",
   "execution_count": 15,
   "id": "235d9318-e2b6-47f8-afbe-30d2411d9230",
   "metadata": {
    "execution": {
     "iopub.execute_input": "2023-07-16T04:28:32.549114Z",
     "iopub.status.busy": "2023-07-16T04:28:32.548556Z",
     "iopub.status.idle": "2023-07-16T04:28:32.603398Z",
     "shell.execute_reply": "2023-07-16T04:28:32.602337Z",
     "shell.execute_reply.started": "2023-07-16T04:28:32.549067Z"
    }
   },
   "outputs": [],
   "source": [
    "VOCODERs = [\n",
    "    \"parallel_wave_gan\",\n",
    "    \"diffwave\",\n",
    "    \"wavenet\",\n",
    "    \"wavernn\",\n",
    "    \"melgan\",\n",
    "    \"wavegrad\",\n",
    "]"
   ]
  },
  {
   "cell_type": "code",
   "execution_count": 12,
   "id": "9161bc07-a00e-4b88-b7eb-8d240cd8e539",
   "metadata": {
    "execution": {
     "iopub.execute_input": "2023-07-14T08:06:16.551655Z",
     "iopub.status.busy": "2023-07-14T08:06:16.551077Z",
     "iopub.status.idle": "2023-07-14T08:06:16.598440Z",
     "shell.execute_reply": "2023-07-14T08:06:16.597664Z",
     "shell.execute_reply.started": "2023-07-14T08:06:16.551604Z"
    }
   },
   "outputs": [],
   "source": [
    "class LibriSeVoc(Base):\n",
    "    def __init__(self, root_path):\n",
    "        \"\"\"\n",
    "        LibriSeVoc is from the paper 'AI-Synthesized Voice Detection Using Neural Vocoder Artifacts'\n",
    "\n",
    "        Args:\n",
    "            root_path: the path of dataset. Note that the path must contain \"/LibriSeVoc/\"\n",
    "        \"\"\"\n",
    "\n",
    "        self.root_path = root_path if not root_path.endswith(\"/\") else root_path[:-2]\n",
    "        self.data = self.read_metadata(self.root_path)\n",
    "        self.data[\"path\"] = self.data[\"filename\"].apply(\n",
    "            lambda x: os.path.join(root_path, x)\n",
    "        )\n",
    "        self.data[\"id\"] = self.data[\"id\"].apply(lambda x: x.replace(\"_gen\", \"\"))\n",
    "        self.data[\"vocoder_label\"] = self.data[\"method\"].apply(\n",
    "            lambda x: 0 if x == \"gt\" else VOCODERs.index(x) + 1\n",
    "        )\n",
    "\n",
    "\n",
    "        # self.read_emotion_label()\n",
    "\n",
    "    \n",
    "    def read_metadata(self, root_path):\n",
    "        \"\"\"\n",
    "        read all the metadatas of audio files from the root_path\n",
    "        \"\"\"\n",
    "\n",
    "        data_path = os.path.join(root_path, \"dataset_info.csv\")\n",
    "        if os.path.exists(data_path):\n",
    "            return pd.read_csv(data_path)\n",
    "\n",
    "        ## Step 1. read all audio paths\n",
    "        wav_paths = read_file_paths_from_folder(root_path, exts=[\"wav\"])\n",
    "        data = pd.DataFrame()\n",
    "        data[\"filename\"] = [path.split(\"/LibriSeVoc/\")[1] for path in wav_paths]\n",
    "        print(data[\"filename\"])\n",
    "\n",
    "        data[\"method\"] = data[\"filename\"].apply(lambda x: os.path.split(x)[0])\n",
    "        pandarallel.initialize(progress_bar=True, nb_workers=20)\n",
    "        data[[\"fps\", \"length\"]] = data.parallel_apply(\n",
    "            lambda x: tuple(get_fps_len(os.path.join(root_path, x[\"filename\"]))),\n",
    "            axis=1,\n",
    "            result_type=\"expand\",\n",
    "        )\n",
    "\n",
    "        # Output the nubmer of audios for each sub-folder.\n",
    "        # print(data.groupby(['trainSet', 'method']).count().reset_index().to_markdown(index=False))\n",
    "\n",
    "        ## Step 3. save the metadatas\n",
    "        data[\"label\"] = data[\"method\"].apply(lambda x: 1 if x == \"gt\" else 0)\n",
    "        data[\"id\"] = data[\"filename\"].apply(\n",
    "            lambda x: os.path.basename(x).replace(\".wav\", \"\").replace(\"_gen\", \"\")\n",
    "        )\n",
    "\n",
    "        data.to_csv(data_path, index=False)\n",
    "        return data\n",
    "\n",
    "    def get_sub_data(self, methods: [list, str], contain_real=True) -> pd.DataFrame:\n",
    "        methods = to_list(methods)\n",
    "        methods = [VOCODERs[x] for x in methods]\n",
    "        if contain_real:\n",
    "            methods = methods + ['gt']\n",
    "            \n",
    "        data = self.data[self.data[\"method\"].isin(methods)].reset_index(drop=True)\n",
    "        return data\n",
    "\n",
    "    def split_data(\n",
    "        self,\n",
    "        data: pd.DataFrame = None,\n",
    "        splits=[0.6, 0.2, 0.2],\n",
    "        refer=\"id\",\n",
    "        return_list=False,\n",
    "    ):\n",
    "        if data is None:\n",
    "            data = self.data\n",
    "\n",
    "        if refer is None:\n",
    "            sub_datas = DF_spliter.split_df(data, splits)\n",
    "        else:\n",
    "            sub_datas = DF_spliter.split_by_number_and_column(data, splits, refer=refer)\n",
    "\n",
    "        if return_list:\n",
    "            return sub_datas\n",
    "\n",
    "        return Namespace(\n",
    "            train=sub_datas[0],\n",
    "            test=sub_datas[-1],\n",
    "            val=None if len(splits) == 2 else sub_datas[1],\n",
    "        )"
   ]
  },
  {
   "cell_type": "code",
   "execution_count": 13,
   "id": "b19d4993-1155-4411-ab85-3dc7131e7049",
   "metadata": {
    "editable": true,
    "execution": {
     "iopub.execute_input": "2023-07-14T08:06:17.647848Z",
     "iopub.status.busy": "2023-07-14T08:06:17.647387Z",
     "iopub.status.idle": "2023-07-14T08:06:17.950036Z",
     "shell.execute_reply": "2023-07-14T08:06:17.949188Z",
     "shell.execute_reply.started": "2023-07-14T08:06:17.647807Z"
    },
    "scrolled": true,
    "slideshow": {
     "slide_type": ""
    },
    "tags": [
     "active-ipynb"
    ]
   },
   "outputs": [],
   "source": [
    "model = LibriSeVoc(\"/home/ay/data/DATA/dataset/0-audio/LibriSeVoc\")\n",
    "datas = model.split_data(model.data)"
   ]
  }
 ],
 "metadata": {
  "jupytext": {
   "formats": "ipynb,py:light"
  },
  "kernelspec": {
   "display_name": "Python 3 (ipykernel)",
   "language": "python",
   "name": "python3"
  },
  "language_info": {
   "codemirror_mode": {
    "name": "ipython",
    "version": 3
   },
   "file_extension": ".py",
   "mimetype": "text/x-python",
   "name": "python",
   "nbconvert_exporter": "python",
   "pygments_lexer": "ipython3",
   "version": "3.9.13"
  }
 },
 "nbformat": 4,
 "nbformat_minor": 5
}
