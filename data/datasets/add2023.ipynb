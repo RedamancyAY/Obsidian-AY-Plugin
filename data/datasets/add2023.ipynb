{
 "cells": [
  {
   "cell_type": "code",
   "execution_count": 1,
   "id": "b92a2e60-8a46-40c7-a308-aafb7f587ae6",
   "metadata": {
    "execution": {
     "iopub.execute_input": "2023-06-13T14:28:53.026722Z",
     "iopub.status.busy": "2023-06-13T14:28:53.026183Z",
     "iopub.status.idle": "2023-06-13T14:28:53.063698Z",
     "shell.execute_reply": "2023-06-13T14:28:53.062621Z",
     "shell.execute_reply.started": "2023-06-13T14:28:53.026677Z"
    },
    "tags": []
   },
   "outputs": [],
   "source": [
    "%load_ext autoreload\n",
    "%autoreload 2"
   ]
  },
  {
   "cell_type": "code",
   "execution_count": 2,
   "id": "49efb99f",
   "metadata": {
    "execution": {
     "iopub.execute_input": "2023-06-13T14:28:53.881733Z",
     "iopub.status.busy": "2023-06-13T14:28:53.881086Z",
     "iopub.status.idle": "2023-06-13T14:28:57.212508Z",
     "shell.execute_reply": "2023-06-13T14:28:57.211250Z",
     "shell.execute_reply.started": "2023-06-13T14:28:53.881690Z"
    },
    "tags": []
   },
   "outputs": [],
   "source": [
    "import os\n",
    "from typing import List, Union\n",
    "\n",
    "import pandas as pd\n",
    "import torch\n",
    "import torchaudio\n",
    "from ay2.common.audio import get_fps_len\n",
    "from ay2.tools import check_dir, read_file_paths_from_folder\n",
    "from pandarallel import pandarallel\n",
    "from torch.utils.data import Dataset\n",
    "from tqdm.auto import tqdm "
   ]
  },
  {
   "cell_type": "markdown",
   "id": "6e6625fd-607d-4fc6-afd6-e07437d5b09f",
   "metadata": {},
   "source": [
    "```json\n",
    "track1.2\n",
    "├── test\n",
    "│   ├── ADD2023_T1.2R1_E_00008971.wav\n",
    "│   └── ADD2023_T1.2R1_E_00018971.wav\n",
    "├── test2\n",
    "│   ├── ADD2023_T1.2R2_E_00008971.wav\n",
    "│   └── ADD2023_T1.2R2_E_00018971.wav\n",
    "├── train\n",
    "│   ├── label.txt\n",
    "│   └── wav\n",
    "│       ├── ADD2023_T1.2_T_00008971.wav\n",
    "│       └── ADD2023_T1.2_T_00018971.wav\n",
    "├── dev\n",
    "│   ├── label.txt\n",
    "│   └── wav\n",
    "│       ├── ADD2023_T1.2_D_00008971.wav\n",
    "│       └── ADD2023_T1.2_D_00018971.wav\n",
    "```"
   ]
  },
  {
   "cell_type": "code",
   "execution_count": 12,
   "id": "95b37b3c-13b3-4261-8a35-706b5a08b476",
   "metadata": {
    "execution": {
     "iopub.execute_input": "2023-06-13T15:01:50.777252Z",
     "iopub.status.busy": "2023-06-13T15:01:50.776645Z",
     "iopub.status.idle": "2023-06-13T15:01:50.828052Z",
     "shell.execute_reply": "2023-06-13T15:01:50.827278Z",
     "shell.execute_reply.started": "2023-06-13T15:01:50.777205Z"
    },
    "tags": []
   },
   "outputs": [],
   "source": [
    "class ADD2023:\n",
    "    \"\"\"\n",
    "    read metadatas for the train, dev, test sets for each track in ADD2023.\n",
    "    \"\"\"\n",
    "\n",
    "    def __init__(self, root_path):\n",
    "        super().__init__()\n",
    "        self.root_path = root_path\n",
    "\n",
    "    def read_test_metedata(self, track, test_round=1, generate_metadata=False):\n",
    "        \"\"\"\n",
    "        Args:\n",
    "            root_pah =\n",
    "        \"\"\"\n",
    "        test_path = os.path.join(\n",
    "            self.root_path,\n",
    "            \"track%s\" % str(track),\n",
    "            \"test%s\" % (\"\" if test_round == 1 else \"2\"),\n",
    "        )\n",
    "        print(test_path)\n",
    "        data_path = os.path.join(test_path, \"dataset_info.csv\")\n",
    "        if os.path.exists(data_path) and not generate_metadata:\n",
    "            return pd.read_csv(data_path)\n",
    "        else:\n",
    "            data = self._read_wav_metadata_from_folder(test_path)\n",
    "            data.to_csv(data_path, index=False)\n",
    "            return data\n",
    "\n",
    "    def _read_train_or_dev_metedata(self, track, item=\"train\", generate_metadata=False):\n",
    "        item_path = os.path.join(self.root_path, f\"track{track}\", item)\n",
    "\n",
    "        wave_path = os.path.join(item_path, \"wav\")\n",
    "        label_path = os.path.join(item_path, \"label.txt\")\n",
    "        data_path = os.path.join(item_path, \"dataset_info.csv\")\n",
    "        # print(data_path)\n",
    "        if os.path.exists(data_path) and generate_metadata == False:\n",
    "            return pd.read_csv(data_path)\n",
    "        else:\n",
    "            data1 = pd.read_csv(label_path, sep=\" \", names=[\"name\", \"label\"])\n",
    "            data1[\"label\"] = data1[\"label\"].apply(lambda x: 0 if x == \"fake\" else 1)\n",
    "            data2 = self._read_wav_metadata_from_folder(wave_path)\n",
    "\n",
    "            data = pd.merge(data1, data2, on=\"name\")\n",
    "            data.to_csv(data_path, index=False)\n",
    "            return data\n",
    "\n",
    "    def _read_wav_metadata_from_folder(self, folder):\n",
    "        wav_paths = read_file_paths_from_folder(folder, exts=[\"wav\"])\n",
    "        print(wav_paths[0:10])\n",
    "        data = pd.DataFrame()\n",
    "        data[\"path\"] = wav_paths\n",
    "        data[\"name\"] = data[\"path\"].apply(lambda x: os.path.split(x)[1])\n",
    "\n",
    "        # pandarallel.initialize(progress_bar=True, nb_workers=10)\n",
    "        tqdm.pandas(desc='Extract sample_rate and length:') \n",
    "        data[[\"fps\", \"length\"]] = data.progress_apply(\n",
    "            lambda x: tuple(get_fps_len(x[\"path\"])), axis=1, result_type=\"expand\"\n",
    "        )\n",
    "        return data\n",
    "\n",
    "\n",
    "    def read_voice_conversion_metadata(self, track, generate_metadata=False):\n",
    "        item_path = os.path.join(self.root_path, f\"track{track}\", 'voice_conversion')\n",
    "        data_path = os.path.join(item_path, \"dataset_info.csv\")\n",
    "        if os.path.exists(data_path) and generate_metadata == False:\n",
    "            return pd.read_csv(data_path)\n",
    "        else:\n",
    "            data = self._read_wav_metadata_from_folder(item_path)\n",
    "            data[\"label\"] = 0\n",
    "            data['name'] = data['path'].apply(lambda x: os.path.split(x)[-1])\n",
    "            data.to_csv(data_path, index=False)\n",
    "            return data\n",
    "    \n",
    "    def read_train_dev_metadata(\n",
    "        self, track, train_or_dev=\"train\", generate_metadata=False, over_sample=False\n",
    "    ):\n",
    "        if isinstance(train_or_dev, str):\n",
    "            train_or_dev = [train_or_dev]\n",
    "        data = [\n",
    "            self._read_train_or_dev_metedata(\n",
    "                track=track,\n",
    "                item=item,\n",
    "                generate_metadata=generate_metadata,\n",
    "            )\n",
    "            for item in train_or_dev\n",
    "        ]\n",
    "        data = pd.concat(data, ignore_index=True)\n",
    "        if over_sample:\n",
    "            data = over_sample_dataset(data)\n",
    "        return data"
   ]
  },
  {
   "cell_type": "code",
   "execution_count": 13,
   "id": "03353f74-81fa-43f1-baa4-7f307b63e34f",
   "metadata": {
    "execution": {
     "iopub.execute_input": "2023-06-13T15:01:52.187607Z",
     "iopub.status.busy": "2023-06-13T15:01:52.187024Z",
     "iopub.status.idle": "2023-06-13T15:01:52.392285Z",
     "shell.execute_reply": "2023-06-13T15:01:52.391535Z",
     "shell.execute_reply.started": "2023-06-13T15:01:52.187562Z"
    },
    "tags": [
     "active-ipynb"
    ]
   },
   "outputs": [
    {
     "name": "stdout",
     "output_type": "stream",
     "text": [
      "/home/ay/data/ADD2023/track1.2/test\n",
      "111976\n"
     ]
    }
   ],
   "source": [
    "add2023 = ADD2023(root_path=\"/home/ay/data/ADD2023\")\n",
    "data = add2023.read_test_metedata(track=\"1.2\", test_round=1, generate_metadata=False)\n",
    "print(len(data))"
   ]
  },
  {
   "cell_type": "code",
   "execution_count": 5,
   "id": "1d3f3003-b47e-413b-a437-7df8ff388d81",
   "metadata": {
    "execution": {
     "iopub.execute_input": "2023-06-13T14:31:41.898890Z",
     "iopub.status.busy": "2023-06-13T14:31:41.898355Z",
     "iopub.status.idle": "2023-06-13T14:31:42.226577Z",
     "shell.execute_reply": "2023-06-13T14:31:42.225377Z",
     "shell.execute_reply.started": "2023-06-13T14:31:41.898849Z"
    },
    "tags": [
     "active-ipynb"
    ]
   },
   "outputs": [
    {
     "name": "stdout",
     "output_type": "stream",
     "text": [
      "/home/ay/data/ADD2023/track1.2/test2\n",
      "118477\n"
     ]
    }
   ],
   "source": [
    "add2023 = ADD2023(root_path=\"/home/ay/data/ADD2023\")\n",
    "data = add2023.read_test_metedata(track=\"1.2\", test_round=2, generate_metadata=False)\n",
    "print(len(data))"
   ]
  },
  {
   "cell_type": "code",
   "execution_count": 6,
   "id": "fdf32cf0-11d0-48c3-85ee-429c9615f8f1",
   "metadata": {
    "execution": {
     "iopub.execute_input": "2023-06-13T14:31:44.561462Z",
     "iopub.status.busy": "2023-06-13T14:31:44.560872Z",
     "iopub.status.idle": "2023-06-13T14:31:44.794246Z",
     "shell.execute_reply": "2023-06-13T14:31:44.793428Z",
     "shell.execute_reply.started": "2023-06-13T14:31:44.561414Z"
    },
    "lines_to_next_cell": 0,
    "scrolled": true,
    "tags": [
     "active-ipynb"
    ]
   },
   "outputs": [
    {
     "name": "stdout",
     "output_type": "stream",
     "text": [
      "55408\n"
     ]
    }
   ],
   "source": [
    "data = add2023.read_train_dev_metadata(\n",
    "    track=\"1.2\",\n",
    "    train_or_dev=[\"dev\", \"train\"],\n",
    "    generate_metadata=False,\n",
    ")\n",
    "print(len(data))"
   ]
  },
  {
   "cell_type": "code",
   "execution_count": 17,
   "id": "45d945d1",
   "metadata": {
    "editable": true,
    "execution": {
     "iopub.execute_input": "2023-06-13T15:20:54.338397Z",
     "iopub.status.busy": "2023-06-13T15:20:54.337844Z",
     "iopub.status.idle": "2023-06-13T15:20:56.488284Z",
     "shell.execute_reply": "2023-06-13T15:20:56.487543Z",
     "shell.execute_reply.started": "2023-06-13T15:20:54.338353Z"
    },
    "scrolled": true,
    "slideshow": {
     "slide_type": ""
    },
    "tags": [
     "active-ipynb"
    ]
   },
   "outputs": [
    {
     "name": "stdout",
     "output_type": "stream",
     "text": [
      "['/home/ay/data/ADD2023/track1.2/voice_conversion2/ADD2023_T1.2_T_00012671-1.wav', '/home/ay/data/ADD2023/track1.2/voice_conversion2/ADD2023_T1.2_T_00025015-0.wav', '/home/ay/data/ADD2023/track1.2/voice_conversion2/ADD2023_T1.2_T_00025433-0.wav', '/home/ay/data/ADD2023/track1.2/voice_conversion2/ADD2023_T1.2_T_00012550-1.wav', '/home/ay/data/ADD2023/track1.2/voice_conversion2/ADD2023_T1.2_T_00005594-1.wav', '/home/ay/data/ADD2023/track1.2/voice_conversion2/ADD2023_T1.2_T_00022032-0.wav', '/home/ay/data/ADD2023/track1.2/voice_conversion2/ADD2023_T1.2_T_00008674-1.wav', '/home/ay/data/ADD2023/track1.2/voice_conversion2/ADD2023_T1.2_T_00013525-0.wav', '/home/ay/data/ADD2023/track1.2/voice_conversion2/ADD2023_T1.2_T_00015816-1.wav', '/home/ay/data/ADD2023/track1.2/voice_conversion2/ADD2023_T1.2_T_00006192-0.wav']\n"
     ]
    },
    {
     "data": {
      "application/vnd.jupyter.widget-view+json": {
       "model_id": "bf7a036dbe68479a919468a7c245444f",
       "version_major": 2,
       "version_minor": 0
      },
      "text/plain": [
       "Extract sample_rate and length::   0%|          | 0/54168 [00:00<?, ?it/s]"
      ]
     },
     "metadata": {},
     "output_type": "display_data"
    },
    {
     "name": "stdout",
     "output_type": "stream",
     "text": [
      "54168\n"
     ]
    }
   ],
   "source": [
    "data = add2023.read_voice_conversion_metadata(\n",
    "    track=\"1.2\",\n",
    "    generate_metadata=True,\n",
    ")\n",
    "print(len(data))\n"
   ]
  }
 ],
 "metadata": {
  "jupytext": {
   "formats": "ipynb,py:light"
  },
  "kernelspec": {
   "display_name": "Python 3 (ipykernel)",
   "language": "python",
   "name": "python3"
  },
  "language_info": {
   "codemirror_mode": {
    "name": "ipython",
    "version": 3
   },
   "file_extension": ".py",
   "mimetype": "text/x-python",
   "name": "python",
   "nbconvert_exporter": "python",
   "pygments_lexer": "ipython3",
   "version": "3.9.16"
  }
 },
 "nbformat": 4,
 "nbformat_minor": 5
}
