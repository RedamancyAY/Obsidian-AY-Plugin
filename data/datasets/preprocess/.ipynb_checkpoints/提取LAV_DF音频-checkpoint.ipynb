{
 "cells": [
  {
   "cell_type": "code",
   "execution_count": 1,
   "id": "f73c69f1-d798-4a9a-ac75-d05fa8b987c5",
   "metadata": {
    "execution": {
     "iopub.execute_input": "2023-07-06T08:26:32.701616Z",
     "iopub.status.busy": "2023-07-06T08:26:32.701102Z",
     "iopub.status.idle": "2023-07-06T08:26:32.734432Z",
     "shell.execute_reply": "2023-07-06T08:26:32.733355Z",
     "shell.execute_reply.started": "2023-07-06T08:26:32.701565Z"
    },
    "tags": []
   },
   "outputs": [],
   "source": [
    "%load_ext autoreload\n",
    "%autoreload 2"
   ]
  },
  {
   "cell_type": "code",
   "execution_count": 10,
   "id": "54cfabef-f7fe-4064-930b-c89ac3a0f26e",
   "metadata": {
    "execution": {
     "iopub.execute_input": "2023-07-06T08:27:33.391694Z",
     "iopub.status.busy": "2023-07-06T08:27:33.391068Z",
     "iopub.status.idle": "2023-07-06T08:27:33.454048Z",
     "shell.execute_reply": "2023-07-06T08:27:33.452780Z",
     "shell.execute_reply.started": "2023-07-06T08:27:33.391638Z"
    },
    "tags": []
   },
   "outputs": [],
   "source": [
    "import os\n",
    "\n",
    "import pandas as pd\n",
    "from ay.tools import check_dir, read_file_paths_from_folder\n",
    "from moviepy.editor import VideoFileClip\n",
    "from pandarallel import pandarallel\n",
    "from torchvision.io import read_video\n",
    "from tqdm.auto import tqdm\n",
    "import torchaudio"
   ]
  },
  {
   "cell_type": "code",
   "execution_count": 11,
   "id": "8d4e7d10-cd13-414e-8c5a-919e5a88d866",
   "metadata": {
    "execution": {
     "iopub.execute_input": "2023-07-06T08:27:35.507335Z",
     "iopub.status.busy": "2023-07-06T08:27:35.506122Z",
     "iopub.status.idle": "2023-07-06T08:27:35.814079Z",
     "shell.execute_reply": "2023-07-06T08:27:35.812909Z",
     "shell.execute_reply.started": "2023-07-06T08:27:35.507287Z"
    },
    "tags": []
   },
   "outputs": [],
   "source": [
    "root_path = \"/home/ay/data/0-原始数据集/LAV-DF\"\n",
    "video_paths = read_file_paths_from_folder(root_path, exts=\"mp4\")"
   ]
  },
  {
   "cell_type": "code",
   "execution_count": 12,
   "id": "59d95990-812b-4f03-b065-0ec4edf2956f",
   "metadata": {
    "execution": {
     "iopub.execute_input": "2023-07-06T08:27:36.836669Z",
     "iopub.status.busy": "2023-07-06T08:27:36.836060Z",
     "iopub.status.idle": "2023-07-06T08:27:36.879160Z",
     "shell.execute_reply": "2023-07-06T08:27:36.878396Z",
     "shell.execute_reply.started": "2023-07-06T08:27:36.836615Z"
    },
    "tags": []
   },
   "outputs": [],
   "source": [
    "def load_audio_from_video(_video_path):\n",
    "    _audio_path = _video_path.replace(\"LAV-DF\", \"LAV-DF-Audio\").replace(\".mp4\", \".wav\")\n",
    "    check_dir(_audio_path)\n",
    "    # print(_audio_path)\n",
    "    if os.path.exists(_audio_path):\n",
    "        return 1\n",
    "    video, audio, metadata = read_video(video_paths[0])\n",
    "    torchaudio.save(_audio_path, audio, sample_rate=16_000)\n",
    "    return 1"
   ]
  },
  {
   "cell_type": "code",
   "execution_count": 13,
   "id": "f3d9a331-eadd-495a-92ab-b6d2e0927427",
   "metadata": {
    "execution": {
     "iopub.execute_input": "2023-07-06T08:27:38.984564Z",
     "iopub.status.busy": "2023-07-06T08:27:38.983862Z",
     "iopub.status.idle": "2023-07-06T08:45:26.034362Z",
     "shell.execute_reply": "2023-07-06T08:45:26.033449Z",
     "shell.execute_reply.started": "2023-07-06T08:27:38.984516Z"
    },
    "tags": []
   },
   "outputs": [
    {
     "name": "stdout",
     "output_type": "stream",
     "text": [
      "INFO: Pandarallel will run on 10 workers.\n",
      "INFO: Pandarallel will use Memory file system to transfer data between the main process and workers.\n"
     ]
    },
    {
     "data": {
      "application/vnd.jupyter.widget-view+json": {
       "model_id": "400b5fbde3554a9288e2f9895e52e715",
       "version_major": 2,
       "version_minor": 0
      },
      "text/plain": [
       "VBox(children=(HBox(children=(IntProgress(value=0, description='0.00%', max=13631), Label(value='0 / 13631')))…"
      ]
     },
     "metadata": {},
     "output_type": "display_data"
    }
   ],
   "source": [
    "data = pd.DataFrame(video_paths, columns=[\"path\"])\n",
    "pandarallel.initialize(progress_bar=True, nb_workers=10)\n",
    "_ = data[\"path\"].parallel_apply(load_audio_from_video)"
   ]
  }
 ],
 "metadata": {
  "jupytext": {
   "formats": "ipynb,py:light"
  },
  "kernelspec": {
   "display_name": "Python 3 (ipykernel)",
   "language": "python",
   "name": "python3"
  },
  "language_info": {
   "codemirror_mode": {
    "name": "ipython",
    "version": 3
   },
   "file_extension": ".py",
   "mimetype": "text/x-python",
   "name": "python",
   "nbconvert_exporter": "python",
   "pygments_lexer": "ipython3",
   "version": "3.9.16"
  }
 },
 "nbformat": 4,
 "nbformat_minor": 5
}
